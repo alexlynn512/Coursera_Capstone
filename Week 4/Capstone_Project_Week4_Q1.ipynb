{
 "cells": [
  {
   "cell_type": "markdown",
   "metadata": {},
   "source": [
    "<div style=\"background-color:#769fcd;color:#FFFFFF;padding:20px;\">\n",
    "<h1>Capstone Project - The Battle of the Neighbourhoods - Week 1</h1><a name=\"contents\"></a>\n",
    "<h3><em>IBM Data Science Professional Certificate - Alex Lynn</em></h3>\n",
    "</div>"
   ]
  },
  {
   "cell_type": "markdown",
   "metadata": {},
   "source": [
    "<h2>Table of Contents</h2>\n",
    "* [1. Introduction](#introduction)"
   ]
  },
  {
   "cell_type": "markdown",
   "metadata": {},
   "source": [
    "<div style=\"background-color:#769fcd;color:#FFFFFF;padding:15px;\">\n",
    "<h2>1. Introduction</h2><a name=\"introduction\"></a>\n",
    "</div>"
   ]
  },
  {
   "cell_type": "markdown",
   "metadata": {},
   "source": [
    "This research is intended on finding the best suitable location for a **Peruvian** restaurant in the city of **Cambridge, UK**. The report is designed for any stakeholder who would like to make a calculated risk before leasing a retail space.\n",
    "\n",
    "The main criteria for this report are to find a location that is close to an area where there is a good choice of entertainment, but where there are not any restaurants that provide similar cuisine type (e.g. **Mexican, Brazilian** etc).\n",
    "\n",
    "**Cambridge** is a city with a big demographic of tourists and foreign students, so appealing to a type of cuisine that does not exist in the market could prove profitable for the stakeholder.\n",
    "\n",
    "As of current statistics these are the **5** most popular restaurant cuisines in the **UK**, so there is a gap in the market for emerging food trends. The report will look to examine whether Cambridge fits into the same generalised food choice as the rest of the UK.\n",
    "<ol>\n",
    "    <li>Pub Food</li>\n",
    "    <li>English</li>\n",
    "    <li>Chinese</li>\n",
    "    <li>Indian</li>\n",
    "    <li>Italian</li>\n",
    "</ol>\n",
    "\n",
    "> <small>Appendix: 1.1</small>\n",
    "> <a href=\"https://beambox.com/townsquare/what-are-the-most-popular-types-of-restaurants-in-the-uk\">What are the most popular types of restaurants in the UK</a><br>\n",
    "> <cite>Beambox.com</cite>\n",
    "\n",
    "[Back to Contents](#contents)"
   ]
  }
 ],
 "metadata": {
  "kernelspec": {
   "display_name": "Python 3",
   "language": "python",
   "name": "python3"
  },
  "language_info": {
   "codemirror_mode": {
    "name": "ipython",
    "version": 3
   },
   "file_extension": ".py",
   "mimetype": "text/x-python",
   "name": "python",
   "nbconvert_exporter": "python",
   "pygments_lexer": "ipython3",
   "version": "3.6.5"
  }
 },
 "nbformat": 4,
 "nbformat_minor": 2
}
