{
 "cells": [
  {
   "cell_type": "markdown",
   "metadata": {},
   "source": [
    "<div style=\"background-color:#769fcd;color:#FFFFFF;padding:20px;\">\n",
    "<h1>Capstone Project - The Battle of the Neighbourhoods - Week 1</h1><a name=\"contents\"></a>\n",
    "<h3><em>IBM Data Science Professional Certificate - Alex Lynn</em></h3>\n",
    "</div>"
   ]
  },
  {
   "cell_type": "markdown",
   "metadata": {},
   "source": [
    "<h2>Table of Contents</h2>\n",
    "* [1. Introduction](#introduction)\n",
    "* [2. Data](#data)\n",
    "* [3. Methodology](#methods)\n",
    "* [4. Analysis](#analysis)\n",
    "* [5. Results](#results)\n",
    "* [6. Discussion](#discussion)\n",
    "* [7. Concolusion](#conclusion)\n",
    "* [8. Appendix](#appendix)"
   ]
  },
  {
   "cell_type": "markdown",
   "metadata": {},
   "source": [
    "<div style=\"background-color:#769fcd;color:#FFFFFF;padding:15px;\">\n",
    "<h2>1. Introduction</h2><a name=\"introduction\"></a>\n",
    "</div>"
   ]
  },
  {
   "cell_type": "markdown",
   "metadata": {},
   "source": [
    "This research is intended on finding the best suitable location for a **Peruvian** restaurant in the city of **Cambridge, UK**. The report is designed for any stakeholder who would like to make a calculated risk before leasing a retail space.\n",
    "\n",
    "The main criteria for this report are to find a location that is close to an area where there is a good choice of entertainment, but where there are not any restaurants that provide similar cuisine type (e.g. **Mexican, Brazilian** etc).\n",
    "\n",
    "**Cambridge** is a city with a big demographic of tourists and foreign students, so appealing to a type of cuisine that does not exist in the market could prove profitable for the stakeholder.\n",
    "\n",
    "As of current statistics these are the **5** most popular restaurant cuisines in the **UK**, so there is a gap in the market for emerging food trends. The report will look to examine whether Cambridge fits into the same generalised food choice as the rest of the UK.\n",
    "<ol>\n",
    "    <li>Pub Food</li>\n",
    "    <li>English</li>\n",
    "    <li>Chinese</li>\n",
    "    <li>Indian</li>\n",
    "    <li>Italian</li>\n",
    "</ol>\n",
    "\n",
    "> <small>Appendix: 1.1</small>\n",
    "> <a href=\"https://beambox.com/townsquare/what-are-the-most-popular-types-of-restaurants-in-the-uk\">What are the most popular types of restaurants in the UK</a><br>\n",
    "> <cite>Beambox.com</cite>\n",
    "\n",
    "[Back to Contents](#contents)"
   ]
  },
  {
   "cell_type": "markdown",
   "metadata": {},
   "source": [
    "<div style=\"background-color:#769fcd;color:#FFFFFF;padding:15px;\">\n",
    "<h2>2. Data</h2><a name=\"data\"></a>\n",
    "</div>"
   ]
  },
  {
   "cell_type": "markdown",
   "metadata": {},
   "source": [
    "In this report we will look to get the following information from our data.\n",
    "\n",
    "* Locate any restaurants within the City that already serve **Latin American** food.\n",
    "    * Restaurant information will be stored for use in further analysis.\n",
    "    * The stakeholder has said that a 1km radius is required from any existing **Latin American** restaurant.\n",
    "* Research the demographic of restaurant types within **Cambridge**, listing the top 10 categories.\n",
    "    * The stakeholder expects that the market is dominated by **Italian** restaurants.\n",
    "* Divide the city of **Cambridge** into smaller areas using a list of boroughs. \n",
    "    * Show the frequency of the top 10 categories within each borough.\n",
    "    * Showing the frequency of entertainment venues (e.g. Theatres, Cinemas, Bars etc)\n",
    "* Display on a Map the clustering of the different areas within **Cambridge** and which areas are similar.\n",
    "    * Showing any existing ** Latin American** restauraunts.\n",
    "\n",
    "To create this report the methods used will be:\n",
    "\n",
    "* *Geolocater* to provide the centre point of **Cambridge, UK**.\n",
    "* *Web Scraping* of **Cambridge** districts.\n",
    "    * Data gathered to get the Geo points for each district.\n",
    "    * Data will be used to create a Choropleth Map depicting the frequencies within these areas.\n",
    "    > <small>Appendix: 2.1</small>\n",
    "    > <a href=\"https://wiki.openstreetmap.org/wiki/Cambridge\">Cambridge</a><br>\n",
    "    > <cite>OpenStreetMap.org</cite>\n",
    "* *FourSquare API* will return lists of venues using the co-ordinates for each district.\n",
    "    * It will also return the latitude and longitude for each venue.\n",
    "    * Using specific venue types will return the data requied\n",
    "    \n",
    "\n",
    "[Back to Contents](#contents)"
   ]
  },
  {
   "cell_type": "markdown",
   "metadata": {},
   "source": [
    "#### Import Statement"
   ]
  },
  {
   "cell_type": "markdown",
   "metadata": {},
   "source": [
    "<table align=\"left\">\n",
    "    <thead>\n",
    "        <th>Library</th>\n",
    "        <th>Reason</th>\n",
    "    </thead>\n",
    "    <tbody>\n",
    "        <tr>\n",
    "            <td>**Folium**</td>\n",
    "            <td>Mapping library, to create accurate map visualisations</td>\n",
    "        </tr>\n",
    "        <tr>\n",
    "            <td>**Pandas**</td>\n",
    "            <td>Data Analysis library, to create DataFrames and process data.</td>\n",
    "        </tr>\n",
    "        <tr>\n",
    "            <td>**Matplotlib**</td>\n",
    "            <td>Plotting library, to show visualisations of the data.</td>\n",
    "        </tr>\n",
    "        <tr>\n",
    "            <td>**Seaborn**</td>\n",
    "            <td>Plotting library, works on top of Matplotlib.</td>\n",
    "        </tr>\n",
    "        <tr>\n",
    "            <td>**urllib.request**</td>\n",
    "            <td>URL request library, to make web requests.</td>\n",
    "        </tr>\n",
    "        <tr>\n",
    "            <td>**bs4**</td>\n",
    "            <td>BeautifulSoup library, to scrape the data from web requests.</td>\n",
    "        </tr>\n",
    "        <tr>\n",
    "            <td>**geocoder**</td>\n",
    "            <td>GeoCoder library, to get the latitude and longitude using an address.</td>\n",
    "        </tr>\n",
    "        <tr>\n",
    "            <td>**Numpy**</td>\n",
    "            <td>Scientific library, we will be using it for Arrays.</td>\n",
    "        </tr>\n",
    "        <tr>\n",
    "            <td>JSON</td>\n",
    "            <td>JSON library, used to load and parse JSON files.</td>\n",
    "        </tr>\n",
    "        <tr>\n",
    "            <td>Requests</td>\n",
    "            <td>Web Requests library, to access websites and parse HTML</td>\n",
    "        </tr>\n",
    "    </tbody>\n",
    "</table>"
   ]
  },
  {
   "cell_type": "code",
   "execution_count": 1,
   "metadata": {},
   "outputs": [],
   "source": [
    "# Import Statements\n",
    "import folium\n",
    "import pandas as pd\n",
    "\n",
    "import matplotlib.pyplot as plt\n",
    "import matplotlib.cm as cm\n",
    "import matplotlib.colors as colors\n",
    "%matplotlib inline \n",
    "\n",
    "import seaborn as sns\n",
    "import urllib.request\n",
    "from bs4 import BeautifulSoup\n",
    "from geopy.geocoders import Nominatim\n",
    "\n",
    "import numpy as np\n",
    "import json\n",
    "import requests"
   ]
  },
  {
   "cell_type": "markdown",
   "metadata": {},
   "source": [
    "### Data Retrieval\n",
    "<a id=\"dataretrieval\"></a>"
   ]
  },
  {
   "cell_type": "markdown",
   "metadata": {},
   "source": [
    "To start we need to scrape the data from the <a href=\"https://wiki.openstreetmap.org/wiki/Cambridge\">website</a> to get all of our districts which will be used with our .geojson file.<br>\n",
    "This will be done using `urllib.request` which will request the URL from the site, then we will use `bs4` to collect the information from the request and put it into a DataFrame"
   ]
  },
  {
   "cell_type": "code",
   "execution_count": 2,
   "metadata": {},
   "outputs": [],
   "source": [
    "# Request the webpage of the following URL\n",
    "url = 'https://wiki.openstreetmap.org/wiki/Cambridge'\n",
    "data_raw = urllib.request.urlopen(url).read()"
   ]
  },
  {
   "cell_type": "code",
   "execution_count": 3,
   "metadata": {},
   "outputs": [],
   "source": [
    "# Prettify the request\n",
    "soup = BeautifulSoup(data_raw, 'lxml')"
   ]
  },
  {
   "cell_type": "markdown",
   "metadata": {},
   "source": [
    "##### Get all data from the website into an array"
   ]
  },
  {
   "cell_type": "code",
   "execution_count": 4,
   "metadata": {},
   "outputs": [],
   "source": [
    "# Initiate the arrays\n",
    "district = []\n",
    "location = []\n",
    "\n",
    "# Get the 4th table from the webpage\n",
    "tables = soup.findAll(\"table\")[3]\n",
    "\n",
    "# Get all <tr> references from the table\n",
    "rows = tables.findAll(\"tr\")\n",
    "\n",
    "# For each row in <tr>\n",
    "for row in rows:\n",
    "    i = 0\n",
    "    cells = row.findAll(\"td\")\n",
    "    for cell in cells:\n",
    "        if i == 0:\n",
    "            district.append(cell.text)\n",
    "        elif i == 1:\n",
    "            number = cell.find(\"span\", title=\"browse relation\").text\n",
    "            location.append(number)\n",
    "        \n",
    "        i = i + 1"
   ]
  },
  {
   "cell_type": "markdown",
   "metadata": {},
   "source": [
    "##### Combine Arrays into DataFrame"
   ]
  },
  {
   "cell_type": "code",
   "execution_count": 5,
   "metadata": {},
   "outputs": [
    {
     "name": "stdout",
     "output_type": "stream",
     "text": [
      "Shape: (14, 2)\n"
     ]
    },
    {
     "data": {
      "text/html": [
       "<div>\n",
       "<style scoped>\n",
       "    .dataframe tbody tr th:only-of-type {\n",
       "        vertical-align: middle;\n",
       "    }\n",
       "\n",
       "    .dataframe tbody tr th {\n",
       "        vertical-align: top;\n",
       "    }\n",
       "\n",
       "    .dataframe thead th {\n",
       "        text-align: right;\n",
       "    }\n",
       "</style>\n",
       "<table border=\"1\" class=\"dataframe\">\n",
       "  <thead>\n",
       "    <tr style=\"text-align: right;\">\n",
       "      <th></th>\n",
       "      <th>District</th>\n",
       "      <th>Location</th>\n",
       "    </tr>\n",
       "  </thead>\n",
       "  <tbody>\n",
       "    <tr>\n",
       "      <th>0</th>\n",
       "      <td>Abbey</td>\n",
       "      <td>1736010</td>\n",
       "    </tr>\n",
       "    <tr>\n",
       "      <th>1</th>\n",
       "      <td>Arbury</td>\n",
       "      <td>1736011</td>\n",
       "    </tr>\n",
       "    <tr>\n",
       "      <th>2</th>\n",
       "      <td>Castle</td>\n",
       "      <td>1736012</td>\n",
       "    </tr>\n",
       "    <tr>\n",
       "      <th>3</th>\n",
       "      <td>Cherry Hinton</td>\n",
       "      <td>1736013</td>\n",
       "    </tr>\n",
       "    <tr>\n",
       "      <th>4</th>\n",
       "      <td>Coleridge</td>\n",
       "      <td>1736014</td>\n",
       "    </tr>\n",
       "  </tbody>\n",
       "</table>\n",
       "</div>"
      ],
      "text/plain": [
       "        District Location\n",
       "0          Abbey  1736010\n",
       "1         Arbury  1736011\n",
       "2         Castle  1736012\n",
       "3  Cherry Hinton  1736013\n",
       "4      Coleridge  1736014"
      ]
     },
     "execution_count": 5,
     "metadata": {},
     "output_type": "execute_result"
    }
   ],
   "source": [
    "df_district = pd.DataFrame(district,columns=['District'])\n",
    "df_district['Location'] = location\n",
    "\n",
    "print('Shape:',df_district.shape)\n",
    "df_district.head()"
   ]
  },
  {
   "cell_type": "markdown",
   "metadata": {},
   "source": [
    "##### Load the GeoJson file"
   ]
  },
  {
   "cell_type": "markdown",
   "metadata": {},
   "source": [
    "* GeoJson file that made using the location boundary information from the webiste listed above.\n",
    "* Json data collected from <a href=\"http://polygons.openstreetmap.fr/\">website</a>.\n",
    "* Json data collated into one GeoJson file using Adobe Dreamweaver and following the standard on\n",
    "<a href=\"https://en.wikipedia.org/wiki/GeoJSON\">Wikipedia</a>.\n",
    "* Final geojson file tested using <a href=\"http://geojson.io/\">geojson.io</a>"
   ]
  },
  {
   "cell_type": "code",
   "execution_count": 6,
   "metadata": {},
   "outputs": [],
   "source": [
    "cambridge_geo = r'cambridge.geojson'"
   ]
  },
  {
   "cell_type": "markdown",
   "metadata": {},
   "source": [
    "##### Get the centroid positions of the geojson areas"
   ]
  },
  {
   "cell_type": "code",
   "execution_count": 7,
   "metadata": {},
   "outputs": [],
   "source": [
    "# open JSON file \n",
    "districtName = []\n",
    "districtLat = []\n",
    "districtLon = []\n",
    "\n",
    "with open(cambridge_geo) as f:\n",
    "    data = json.load(f)\n",
    "    coll = data['features']\n",
    "    \n",
    "    # Loop through the json file\n",
    "    for row in coll:\n",
    "        \n",
    "        # initiate lat and lon arrays to store the points\n",
    "        Lat = []\n",
    "        Lon = []\n",
    "        \n",
    "        # setup properties node\n",
    "        prop = row['properties']\n",
    "        \n",
    "        # setup coordinates node\n",
    "        geometry = row['geometry']\n",
    "        coord = geometry['coordinates']\n",
    "        name = ''\n",
    "        \n",
    "        # loop through the key, value pairs in properties\n",
    "        for key, value in prop.items():\n",
    "            name = value\n",
    "        \n",
    "        # loop through the coordinates\n",
    "        for level1 in coord:\n",
    "            for level2 in level1:\n",
    "                for level3 in level2:\n",
    "                    \n",
    "                    # convert to string\n",
    "                    i = str(level3)\n",
    "                    \n",
    "                    # replace brackets\n",
    "                    i = i.replace('[','')\n",
    "                    i = i.replace(']','')\n",
    "                    \n",
    "                    # split using the comma, with maximum of two values in list\n",
    "                    i = i.split(',',1)\n",
    "                    \n",
    "                    # add latitude and longitude to respective arrays\n",
    "                    Lat.append(i[0])\n",
    "                    Lon.append(i[1])\n",
    "                \n",
    "        # convert arrays to float values\n",
    "        Lat = np.array(Lat).astype(np.float)\n",
    "        Lon = np.array(Lon).astype(np.float)\n",
    "        \n",
    "        # get the mean latitude and longitude\n",
    "        LatMean = np.mean(Lat)\n",
    "        LonMean = np.mean(Lon)\n",
    "        \n",
    "        # append top level arrays\n",
    "        districtName.append(name)\n",
    "        districtLat.append(LatMean)\n",
    "        districtLon.append(LonMean)"
   ]
  },
  {
   "cell_type": "markdown",
   "metadata": {},
   "source": [
    "##### Put arrays into DataFrame"
   ]
  },
  {
   "cell_type": "code",
   "execution_count": 8,
   "metadata": {},
   "outputs": [
    {
     "data": {
      "text/html": [
       "<div>\n",
       "<style scoped>\n",
       "    .dataframe tbody tr th:only-of-type {\n",
       "        vertical-align: middle;\n",
       "    }\n",
       "\n",
       "    .dataframe tbody tr th {\n",
       "        vertical-align: top;\n",
       "    }\n",
       "\n",
       "    .dataframe thead th {\n",
       "        text-align: right;\n",
       "    }\n",
       "</style>\n",
       "<table border=\"1\" class=\"dataframe\">\n",
       "  <thead>\n",
       "    <tr style=\"text-align: right;\">\n",
       "      <th></th>\n",
       "      <th>D_Name</th>\n",
       "      <th>D_Lon</th>\n",
       "      <th>D_Lat</th>\n",
       "    </tr>\n",
       "  </thead>\n",
       "  <tbody>\n",
       "    <tr>\n",
       "      <th>0</th>\n",
       "      <td>Arbury</td>\n",
       "      <td>52.218995</td>\n",
       "      <td>0.115557</td>\n",
       "    </tr>\n",
       "    <tr>\n",
       "      <th>1</th>\n",
       "      <td>Abbey</td>\n",
       "      <td>52.209170</td>\n",
       "      <td>0.158143</td>\n",
       "    </tr>\n",
       "    <tr>\n",
       "      <th>2</th>\n",
       "      <td>Castle</td>\n",
       "      <td>52.214867</td>\n",
       "      <td>0.102719</td>\n",
       "    </tr>\n",
       "    <tr>\n",
       "      <th>3</th>\n",
       "      <td>Cherry Hinton</td>\n",
       "      <td>52.188377</td>\n",
       "      <td>0.170359</td>\n",
       "    </tr>\n",
       "    <tr>\n",
       "      <th>4</th>\n",
       "      <td>Coleridge</td>\n",
       "      <td>52.189603</td>\n",
       "      <td>0.153449</td>\n",
       "    </tr>\n",
       "  </tbody>\n",
       "</table>\n",
       "</div>"
      ],
      "text/plain": [
       "          D_Name      D_Lon     D_Lat\n",
       "0         Arbury  52.218995  0.115557\n",
       "1          Abbey  52.209170  0.158143\n",
       "2         Castle  52.214867  0.102719\n",
       "3  Cherry Hinton  52.188377  0.170359\n",
       "4      Coleridge  52.189603  0.153449"
      ]
     },
     "execution_count": 8,
     "metadata": {},
     "output_type": "execute_result"
    }
   ],
   "source": [
    "df_coord = pd.DataFrame(districtName,columns=['D_Name'])\n",
    "df_coord['D_Lon'] = districtLon\n",
    "df_coord['D_Lat'] = districtLat\n",
    "\n",
    "df_coord.head()"
   ]
  },
  {
   "cell_type": "markdown",
   "metadata": {},
   "source": [
    "#### Merge the original dataframe and the new dataframe"
   ]
  },
  {
   "cell_type": "code",
   "execution_count": 9,
   "metadata": {},
   "outputs": [
    {
     "data": {
      "text/html": [
       "<div>\n",
       "<style scoped>\n",
       "    .dataframe tbody tr th:only-of-type {\n",
       "        vertical-align: middle;\n",
       "    }\n",
       "\n",
       "    .dataframe tbody tr th {\n",
       "        vertical-align: top;\n",
       "    }\n",
       "\n",
       "    .dataframe thead th {\n",
       "        text-align: right;\n",
       "    }\n",
       "</style>\n",
       "<table border=\"1\" class=\"dataframe\">\n",
       "  <thead>\n",
       "    <tr style=\"text-align: right;\">\n",
       "      <th></th>\n",
       "      <th>District</th>\n",
       "      <th>Latitude</th>\n",
       "      <th>Longitude</th>\n",
       "    </tr>\n",
       "  </thead>\n",
       "  <tbody>\n",
       "    <tr>\n",
       "      <th>0</th>\n",
       "      <td>Abbey</td>\n",
       "      <td>52.209170</td>\n",
       "      <td>0.158143</td>\n",
       "    </tr>\n",
       "    <tr>\n",
       "      <th>1</th>\n",
       "      <td>Arbury</td>\n",
       "      <td>52.218995</td>\n",
       "      <td>0.115557</td>\n",
       "    </tr>\n",
       "    <tr>\n",
       "      <th>2</th>\n",
       "      <td>Castle</td>\n",
       "      <td>52.214867</td>\n",
       "      <td>0.102719</td>\n",
       "    </tr>\n",
       "    <tr>\n",
       "      <th>3</th>\n",
       "      <td>Cherry Hinton</td>\n",
       "      <td>52.188377</td>\n",
       "      <td>0.170359</td>\n",
       "    </tr>\n",
       "    <tr>\n",
       "      <th>4</th>\n",
       "      <td>Coleridge</td>\n",
       "      <td>52.189603</td>\n",
       "      <td>0.153449</td>\n",
       "    </tr>\n",
       "  </tbody>\n",
       "</table>\n",
       "</div>"
      ],
      "text/plain": [
       "        District   Latitude  Longitude\n",
       "0          Abbey  52.209170   0.158143\n",
       "1         Arbury  52.218995   0.115557\n",
       "2         Castle  52.214867   0.102719\n",
       "3  Cherry Hinton  52.188377   0.170359\n",
       "4      Coleridge  52.189603   0.153449"
      ]
     },
     "execution_count": 9,
     "metadata": {},
     "output_type": "execute_result"
    }
   ],
   "source": [
    "# Merge df and df_geo\n",
    "if df_district.shape[1] < 4:\n",
    "    df_district = pd.merge(left=df_district, right=df_coord, left_on='District', right_on='D_Name')\n",
    "    df_district.drop(['D_Name','Location'], axis=1, inplace=True)\n",
    "    df_district.columns = ['District','Latitude','Longitude']\n",
    "    \n",
    "df_district.head()"
   ]
  },
  {
   "cell_type": "markdown",
   "metadata": {},
   "source": [
    "##### Latitude and Longitude of Cambridge using geolocation"
   ]
  },
  {
   "cell_type": "markdown",
   "metadata": {},
   "source": [
    "This is used to get the location of Cambridge, UK so that we can center our map."
   ]
  },
  {
   "cell_type": "code",
   "execution_count": 10,
   "metadata": {},
   "outputs": [
    {
     "name": "stdout",
     "output_type": "stream",
     "text": [
      "Cambridge, UK Coordinates: 52.2034823, 0.1235817.\n"
     ]
    }
   ],
   "source": [
    "city_name = 'Cambridge, United Kingdom'\n",
    "\n",
    "geolocator = Nominatim(user_agent=\"ny_explorer\")\n",
    "city_location = geolocator.geocode(city_name)\n",
    "city_latitude = city_location.latitude\n",
    "city_longitude = city_location.longitude\n",
    "print('Cambridge, UK Coordinates: {}, {}.'.format(city_latitude, city_longitude))"
   ]
  },
  {
   "cell_type": "markdown",
   "metadata": {},
   "source": [
    "#### Setup FourSquare Settings \n",
    "\n",
    "These have been removed for the final workbook, replaced by 'X'"
   ]
  },
  {
   "cell_type": "code",
   "execution_count": 11,
   "metadata": {},
   "outputs": [],
   "source": [
    "CLIENT_ID = 'FNZMAIFEKPJ1VTUXCIHKJYMPAFKA2E55BSUFYAZXHZ5OAUDR'\n",
    "CLIENT_SECRET = 'UXVK34BOOJI5ZCWWLHQKMGJSIGG2WVROVGWGOI1EXGSUJXLW'\n",
    "VERSION = '20200727' # Foursquare API version"
   ]
  },
  {
   "cell_type": "markdown",
   "metadata": {},
   "source": [
    "##### FUNCTION - FourSquare Return\n",
    "\n",
    "* Using a **search** call on the API so that I can use multiple categories.\n",
    "* Function takes in the following paramaters:\n",
    "    * Names (Array)\n",
    "    * Latitudes (Array)\n",
    "    * Lonitudes (Array)\n",
    "    * Radius (in metres) - <em>Default 500</em>\n",
    "    * Limit - <em>Default 100</em>\n",
    "    * Category - <em>Default ''</em>\n",
    "* <strong>Returns DataFrame</strong>"
   ]
  },
  {
   "cell_type": "code",
   "execution_count": 12,
   "metadata": {},
   "outputs": [],
   "source": [
    "def getNearbyVenues(names, latitudes, longitudes, radius=500, LIMIT=100,category=''):    \n",
    "    \n",
    "    '''\n",
    "    Use this function to return a dataframe with all the venues within your criteria.\n",
    "    RETURNS:\n",
    "        DataFrame with [District],[Venue],[Venue Latitude],[Venue Longitude],[Venue Category]\n",
    "    '''\n",
    "    \n",
    "    venues_list=[]\n",
    "\n",
    "    for name, lat, lng in zip(names, latitudes, longitudes):\n",
    "            \n",
    "        # create the API request URL\n",
    "        url = 'https://api.foursquare.com/v2/venues/search?&client_id={}&client_secret={}&v={}&ll={},{}&radius={}&limit={}&categoryId={}'.format(\n",
    "            CLIENT_ID, CLIENT_SECRET, VERSION, lat, lng, radius, LIMIT,category)\n",
    "                        \n",
    "        # make the GET request\n",
    "        results = requests.get(url).json()[\"response\"]['venues']\n",
    "        #print(results)\n",
    "        \n",
    "        # return only relevant information for each nearby venue\n",
    "        venues_list.append([(\n",
    "            name,\n",
    "            v['name'], \n",
    "            v['location']['lat'], \n",
    "            v['location']['lng'],\n",
    "            v['categories'][0]['name']) for v in results])\n",
    "        \n",
    "    nearby_venues = pd.DataFrame([item for venue_list in venues_list for item in venue_list])\n",
    "    nearby_venues.columns = [\n",
    "                  'District', \n",
    "                  'Venue', \n",
    "                  'Venue Latitude', \n",
    "                  'Venue Longitude', \n",
    "                  'Venue Category']\n",
    "        \n",
    "    return(nearby_venues) "
   ]
  },
  {
   "cell_type": "markdown",
   "metadata": {},
   "source": [
    "##### FUNCTION - DataFrame of restaurants in the districts\n",
    "\n",
    "* Function will return a dataframe to be used to show frequency of restaurants."
   ]
  },
  {
   "cell_type": "code",
   "execution_count": 13,
   "metadata": {},
   "outputs": [],
   "source": [
    "def getVenues():\n",
    "\n",
    "    radius = 500\n",
    "    LIMIT = 500\n",
    "    category = '4d4b7105d754a06374d81259'\n",
    "\n",
    "    df = getNearbyVenues(df_district['District'],\n",
    "                            df_district['Latitude'],\n",
    "                            df_district['Longitude'],\n",
    "                            radius,\n",
    "                            LIMIT,\n",
    "                            category)\n",
    "    return df"
   ]
  },
  {
   "cell_type": "code",
   "execution_count": 14,
   "metadata": {
    "scrolled": false
   },
   "outputs": [
    {
     "name": "stdout",
     "output_type": "stream",
     "text": [
      "Shape:  (187, 5)\n"
     ]
    },
    {
     "data": {
      "text/html": [
       "<div>\n",
       "<style scoped>\n",
       "    .dataframe tbody tr th:only-of-type {\n",
       "        vertical-align: middle;\n",
       "    }\n",
       "\n",
       "    .dataframe tbody tr th {\n",
       "        vertical-align: top;\n",
       "    }\n",
       "\n",
       "    .dataframe thead th {\n",
       "        text-align: right;\n",
       "    }\n",
       "</style>\n",
       "<table border=\"1\" class=\"dataframe\">\n",
       "  <thead>\n",
       "    <tr style=\"text-align: right;\">\n",
       "      <th></th>\n",
       "      <th>District</th>\n",
       "      <th>Venue</th>\n",
       "      <th>Venue Latitude</th>\n",
       "      <th>Venue Longitude</th>\n",
       "      <th>Venue Category</th>\n",
       "    </tr>\n",
       "  </thead>\n",
       "  <tbody>\n",
       "    <tr>\n",
       "      <th>0</th>\n",
       "      <td>Abbey</td>\n",
       "      <td>Autumn House Bed and Breakfast Cambridge</td>\n",
       "      <td>52.212496</td>\n",
       "      <td>0.158485</td>\n",
       "      <td>Gastropub</td>\n",
       "    </tr>\n",
       "    <tr>\n",
       "      <th>1</th>\n",
       "      <td>Abbey</td>\n",
       "      <td>Pipasha</td>\n",
       "      <td>52.213388</td>\n",
       "      <td>0.154665</td>\n",
       "      <td>Indian Restaurant</td>\n",
       "    </tr>\n",
       "    <tr>\n",
       "      <th>2</th>\n",
       "      <td>Abbey</td>\n",
       "      <td>The Codfather</td>\n",
       "      <td>52.211820</td>\n",
       "      <td>0.163236</td>\n",
       "      <td>Fish &amp; Chips Shop</td>\n",
       "    </tr>\n",
       "    <tr>\n",
       "      <th>3</th>\n",
       "      <td>Abbey</td>\n",
       "      <td>China Chef</td>\n",
       "      <td>52.213499</td>\n",
       "      <td>0.154384</td>\n",
       "      <td>Chinese Restaurant</td>\n",
       "    </tr>\n",
       "    <tr>\n",
       "      <th>4</th>\n",
       "      <td>Arbury</td>\n",
       "      <td>Coffee Tree</td>\n",
       "      <td>52.219494</td>\n",
       "      <td>0.111630</td>\n",
       "      <td>Café</td>\n",
       "    </tr>\n",
       "  </tbody>\n",
       "</table>\n",
       "</div>"
      ],
      "text/plain": [
       "  District                                     Venue  Venue Latitude  \\\n",
       "0    Abbey  Autumn House Bed and Breakfast Cambridge       52.212496   \n",
       "1    Abbey                                   Pipasha       52.213388   \n",
       "2    Abbey                             The Codfather       52.211820   \n",
       "3    Abbey                                China Chef       52.213499   \n",
       "4   Arbury                               Coffee Tree       52.219494   \n",
       "\n",
       "   Venue Longitude      Venue Category  \n",
       "0         0.158485           Gastropub  \n",
       "1         0.154665   Indian Restaurant  \n",
       "2         0.163236   Fish & Chips Shop  \n",
       "3         0.154384  Chinese Restaurant  \n",
       "4         0.111630                Café  "
      ]
     },
     "execution_count": 14,
     "metadata": {},
     "output_type": "execute_result"
    }
   ],
   "source": [
    "district_venues = getVenues()\n",
    "print('Shape: ',district_venues.shape)\n",
    "district_venues.head()"
   ]
  },
  {
   "cell_type": "markdown",
   "metadata": {},
   "source": [
    "###### Results\n",
    "As we can see there are only **187 restaurants** listed on FourSquare taken in districts that we have listed, within a 500m radius of the centroid position of the district."
   ]
  },
  {
   "cell_type": "markdown",
   "metadata": {},
   "source": [
    "##### FUNCTION - DataFrame of entertainment in the districts\n",
    "\n",
    "* Function will return a dataframe to be used to show frequency of entertainment."
   ]
  },
  {
   "cell_type": "code",
   "execution_count": 15,
   "metadata": {},
   "outputs": [],
   "source": [
    "def getEntertainment():\n",
    "    radius = 500\n",
    "    LIMIT = 500\n",
    "    category = '4d4b7105d754a06376d81259,4d4b7104d754a06370d81259'\n",
    "\n",
    "    # Categories set to Arts & Entertainment and Nightlife Spots\n",
    "\n",
    "    df = getNearbyVenues(df_district['District'],\n",
    "                                  df_district['Latitude'],\n",
    "                                  df_district['Longitude'],\n",
    "                                  radius,\n",
    "                                  LIMIT,\n",
    "                                  category)\n",
    "    return df"
   ]
  },
  {
   "cell_type": "code",
   "execution_count": 16,
   "metadata": {},
   "outputs": [
    {
     "name": "stdout",
     "output_type": "stream",
     "text": [
      "Shape:  (160, 5)\n"
     ]
    },
    {
     "data": {
      "text/html": [
       "<div>\n",
       "<style scoped>\n",
       "    .dataframe tbody tr th:only-of-type {\n",
       "        vertical-align: middle;\n",
       "    }\n",
       "\n",
       "    .dataframe tbody tr th {\n",
       "        vertical-align: top;\n",
       "    }\n",
       "\n",
       "    .dataframe thead th {\n",
       "        text-align: right;\n",
       "    }\n",
       "</style>\n",
       "<table border=\"1\" class=\"dataframe\">\n",
       "  <thead>\n",
       "    <tr style=\"text-align: right;\">\n",
       "      <th></th>\n",
       "      <th>District</th>\n",
       "      <th>Venue</th>\n",
       "      <th>Venue Latitude</th>\n",
       "      <th>Venue Longitude</th>\n",
       "      <th>Venue Category</th>\n",
       "    </tr>\n",
       "  </thead>\n",
       "  <tbody>\n",
       "    <tr>\n",
       "      <th>0</th>\n",
       "      <td>Abbey</td>\n",
       "      <td>Dion Dublin Suite</td>\n",
       "      <td>52.212271</td>\n",
       "      <td>0.155038</td>\n",
       "      <td>Bar</td>\n",
       "    </tr>\n",
       "    <tr>\n",
       "      <th>1</th>\n",
       "      <td>Abbey</td>\n",
       "      <td>Abbey Stadium</td>\n",
       "      <td>52.212570</td>\n",
       "      <td>0.154379</td>\n",
       "      <td>Soccer Stadium</td>\n",
       "    </tr>\n",
       "    <tr>\n",
       "      <th>2</th>\n",
       "      <td>Abbey</td>\n",
       "      <td>Splash Pad</td>\n",
       "      <td>52.209740</td>\n",
       "      <td>0.154114</td>\n",
       "      <td>Water Park</td>\n",
       "    </tr>\n",
       "    <tr>\n",
       "      <th>3</th>\n",
       "      <td>Abbey</td>\n",
       "      <td>Mulletboy Studios</td>\n",
       "      <td>52.212644</td>\n",
       "      <td>0.153579</td>\n",
       "      <td>Music Venue</td>\n",
       "    </tr>\n",
       "    <tr>\n",
       "      <th>4</th>\n",
       "      <td>Arbury</td>\n",
       "      <td>Colours of Dance</td>\n",
       "      <td>52.219164</td>\n",
       "      <td>0.111665</td>\n",
       "      <td>Dance Studio</td>\n",
       "    </tr>\n",
       "  </tbody>\n",
       "</table>\n",
       "</div>"
      ],
      "text/plain": [
       "  District              Venue  Venue Latitude  Venue Longitude  Venue Category\n",
       "0    Abbey  Dion Dublin Suite       52.212271         0.155038             Bar\n",
       "1    Abbey      Abbey Stadium       52.212570         0.154379  Soccer Stadium\n",
       "2    Abbey         Splash Pad       52.209740         0.154114      Water Park\n",
       "3    Abbey  Mulletboy Studios       52.212644         0.153579     Music Venue\n",
       "4   Arbury   Colours of Dance       52.219164         0.111665    Dance Studio"
      ]
     },
     "execution_count": 16,
     "metadata": {},
     "output_type": "execute_result"
    }
   ],
   "source": [
    "district_entertain = getEntertainment()\n",
    "print('Shape: ',district_entertain.shape)\n",
    "district_entertain.head()"
   ]
  },
  {
   "cell_type": "markdown",
   "metadata": {},
   "source": [
    "###### Results\n",
    "As we can see there are only **160 Arts & Entertainment or Nightlife spots** listed on FourSquare for the districts that we have listed, within a 500m radius of the centroid position of the district."
   ]
  },
  {
   "cell_type": "markdown",
   "metadata": {},
   "source": [
    "##### FUNCTION - DataFrame of Latin American restaurants in the districts\n",
    "\n",
    "* Function will return a dataframe to be used to show frequency of Latin American restaurants."
   ]
  },
  {
   "cell_type": "code",
   "execution_count": 17,
   "metadata": {},
   "outputs": [],
   "source": [
    "def getLatin():\n",
    "    radius = 500\n",
    "    LIMIT = 500\n",
    "    category = '4bf58dd8d48988d1be941735'\n",
    "\n",
    "    data = {'Location':['Cambridge'],'Latitude':[city_latitude],'Longitude':[city_longitude]}\n",
    "    df_cambridge = pd.DataFrame (data, columns = ['Location','Latitude','Longitude'])\n",
    "    # Categories set to Latin American restaurants\n",
    "\n",
    "    df = getNearbyVenues(df_cambridge['Location'],\n",
    "            df_cambridge['Latitude'],\n",
    "            df_cambridge['Longitude'],\n",
    "            5000,\n",
    "            LIMIT,\n",
    "            category)\n",
    "    \n",
    "    #df_cambridge\n",
    "    return df"
   ]
  },
  {
   "cell_type": "code",
   "execution_count": 18,
   "metadata": {},
   "outputs": [
    {
     "name": "stdout",
     "output_type": "stream",
     "text": [
      "Shape:  (5, 5)\n"
     ]
    },
    {
     "data": {
      "text/html": [
       "<div>\n",
       "<style scoped>\n",
       "    .dataframe tbody tr th:only-of-type {\n",
       "        vertical-align: middle;\n",
       "    }\n",
       "\n",
       "    .dataframe tbody tr th {\n",
       "        vertical-align: top;\n",
       "    }\n",
       "\n",
       "    .dataframe thead th {\n",
       "        text-align: right;\n",
       "    }\n",
       "</style>\n",
       "<table border=\"1\" class=\"dataframe\">\n",
       "  <thead>\n",
       "    <tr style=\"text-align: right;\">\n",
       "      <th></th>\n",
       "      <th>District</th>\n",
       "      <th>Venue</th>\n",
       "      <th>Venue Latitude</th>\n",
       "      <th>Venue Longitude</th>\n",
       "      <th>Venue Category</th>\n",
       "    </tr>\n",
       "  </thead>\n",
       "  <tbody>\n",
       "    <tr>\n",
       "      <th>0</th>\n",
       "      <td>Cambridge</td>\n",
       "      <td>Las Iguanas</td>\n",
       "      <td>52.210230</td>\n",
       "      <td>0.117309</td>\n",
       "      <td>Latin American Restaurant</td>\n",
       "    </tr>\n",
       "    <tr>\n",
       "      <th>1</th>\n",
       "      <td>Cambridge</td>\n",
       "      <td>Neide's Deli Café</td>\n",
       "      <td>52.200508</td>\n",
       "      <td>0.135943</td>\n",
       "      <td>Brazilian Restaurant</td>\n",
       "    </tr>\n",
       "    <tr>\n",
       "      <th>2</th>\n",
       "      <td>Cambridge</td>\n",
       "      <td>La Latina Bustaurante</td>\n",
       "      <td>52.208076</td>\n",
       "      <td>0.143403</td>\n",
       "      <td>Latin American Restaurant</td>\n",
       "    </tr>\n",
       "    <tr>\n",
       "      <th>3</th>\n",
       "      <td>Cambridge</td>\n",
       "      <td>Chicken rush</td>\n",
       "      <td>52.197636</td>\n",
       "      <td>0.144912</td>\n",
       "      <td>Arepa Restaurant</td>\n",
       "    </tr>\n",
       "    <tr>\n",
       "      <th>4</th>\n",
       "      <td>Cambridge</td>\n",
       "      <td>Hutter</td>\n",
       "      <td>52.209328</td>\n",
       "      <td>0.144877</td>\n",
       "      <td>South American Restaurant</td>\n",
       "    </tr>\n",
       "  </tbody>\n",
       "</table>\n",
       "</div>"
      ],
      "text/plain": [
       "    District                  Venue  Venue Latitude  Venue Longitude  \\\n",
       "0  Cambridge            Las Iguanas       52.210230         0.117309   \n",
       "1  Cambridge      Neide's Deli Café       52.200508         0.135943   \n",
       "2  Cambridge  La Latina Bustaurante       52.208076         0.143403   \n",
       "3  Cambridge           Chicken rush       52.197636         0.144912   \n",
       "4  Cambridge                 Hutter       52.209328         0.144877   \n",
       "\n",
       "              Venue Category  \n",
       "0  Latin American Restaurant  \n",
       "1       Brazilian Restaurant  \n",
       "2  Latin American Restaurant  \n",
       "3           Arepa Restaurant  \n",
       "4  South American Restaurant  "
      ]
     },
     "execution_count": 18,
     "metadata": {},
     "output_type": "execute_result"
    }
   ],
   "source": [
    "district_latin = getLatin()\n",
    "print('Shape: ',district_latin.shape)\n",
    "district_latin.head()"
   ]
  },
  {
   "cell_type": "markdown",
   "metadata": {},
   "source": [
    "###### Results\n",
    "As we can see there are only **1 Latin American restaurant** listed on FourSquare for the districts that we have listed, within a 500m radius of the centroid position of the district."
   ]
  },
  {
   "cell_type": "markdown",
   "metadata": {},
   "source": [
    "[Back to Contents](#contents)"
   ]
  },
  {
   "cell_type": "markdown",
   "metadata": {},
   "source": [
    "### Data Visualisation\n",
    "<a id=\"datavisual\"></a>"
   ]
  },
  {
   "cell_type": "markdown",
   "metadata": {},
   "source": [
    "#### Bar Chart showing the frequency of restaurants within districts\n",
    "\n",
    "* Create a new horizontal bar plot with the districts and the frequency of restaurants"
   ]
  },
  {
   "cell_type": "code",
   "execution_count": 19,
   "metadata": {},
   "outputs": [
    {
     "data": {
      "text/plain": [
       "<matplotlib.axes._subplots.AxesSubplot at 0x2747085a908>"
      ]
     },
     "execution_count": 19,
     "metadata": {},
     "output_type": "execute_result"
    },
    {
     "data": {
      "image/png": "[encoded data removed]",
      "text/plain": [
       "<Figure size 1080x576 with 1 Axes>"
      ]
     },
     "metadata": {},
     "output_type": "display_data"
    }
   ],
   "source": [
    "district_venues['District'].value_counts().plot(kind='barh', figsize=(15,8), color=(0.2, 0.4, 0.6, 0.6))"
   ]
  },
  {
   "cell_type": "markdown",
   "metadata": {},
   "source": [
    "**From this bar plot we can see that the most populous areas for restaurants are Petersfield, Market and West Chesterton.**"
   ]
  },
  {
   "cell_type": "markdown",
   "metadata": {},
   "source": [
    "#### Show map of Cambridge with districts\n",
    "\n",
    "* Map shows markers using district latitude and longitude\n",
    "* Radius is drawn to show the search area that we will be using in Foursquare"
   ]
  },
  {
   "cell_type": "code",
   "execution_count": 20,
   "metadata": {},
   "outputs": [],
   "source": [
    "# create a map centered on Cambridge\n",
    "cambridge_map = folium.Map(location=[city_latitude, city_longitude], zoom_start=12.5,control_scale=True)"
   ]
  },
  {
   "cell_type": "code",
   "execution_count": 21,
   "metadata": {},
   "outputs": [],
   "source": [
    "# Function loop through districts and add marker using lat and lon\n",
    "def addMarkers(m):\n",
    "\n",
    "    for lat, lng, name in zip(df_district.Latitude, df_district.Longitude, df_district.District):\n",
    "        location = np.array([lat,lng])\n",
    "        # Add Marker\n",
    "        folium.Marker(location, popup='<i>{}</i>'.format(name), tooltip=name).add_to(m)\n",
    "        # Add Radius of 500m\n",
    "        folium.Circle(\n",
    "            location=location,\n",
    "            radius=500,\n",
    "            color='#3186cc',\n",
    "            fill=True,\n",
    "            fill_color='#3186cc'\n",
    "        ).add_to(m)\n",
    "    \n",
    "    display(m)"
   ]
  },
  {
   "cell_type": "code",
   "execution_count": 22,
   "metadata": {},
   "outputs": [
    {
     "data": {
      "text/html": [
       "<div style=\"width:100%;\"><div style=\"position:relative;width:100%;height:0;padding-bottom:60%;\"><span style=\"color:#565656\">Make this Notebook Trusted to load map: File -> Trust Notebook</span><iframe src=\"about:blank\" style=\"position:absolute;width:100%;height:100%;left:0;top:0;border:none !important;\" data-html=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 onload=\"this.contentDocument.open();this.contentDocument.write(atob(this.getAttribute('data-html')));this.contentDocument.close();\" allowfullscreen webkitallowfullscreen mozallowfullscreen></iframe></div></div>"
      ],
      "text/plain": [
       "<folium.folium.Map at 0x27470b6c518>"
      ]
     },
     "metadata": {},
     "output_type": "display_data"
    }
   ],
   "source": [
    "addMarkers(cambridge_map)"
   ]
  },
  {
   "cell_type": "markdown",
   "metadata": {},
   "source": [
    "#### Radius Decision\n",
    "Through testing the appropriate radius 500m has been set as the threshold of the FourSquare search radius, so it doesn't overlap into another district.\n",
    "In this map, we can see that the following districts centroids taken from the mean of the geolocation are not that accurate:\n",
    "* Trumpington\n",
    "* Newnham\n",
    "* Romsey\n",
    "* Cherry Hinton\n",
    "\n",
    "This is due to a large amount of their boundary being located in rural areas.\n",
    "\n",
    "Therfore the centroid location must be repositioned. In the following map I have set the map to show when clicked the latitude and longitude, meaning I can locate more accurate postions."
   ]
  },
  {
   "cell_type": "code",
   "execution_count": 23,
   "metadata": {
    "scrolled": false
   },
   "outputs": [
    {
     "data": {
      "text/html": [
       "<div style=\"width:100%;\"><div style=\"position:relative;width:100%;height:0;padding-bottom:60%;\"><span style=\"color:#565656\">Make this Notebook Trusted to load map: File -> Trust Notebook</span><iframe src=\"about:blank\" style=\"position:absolute;width:100%;height:100%;left:0;top:0;border:none !important;\" data-html=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 onload=\"this.contentDocument.open();this.contentDocument.write(atob(this.getAttribute('data-html')));this.contentDocument.close();\" allowfullscreen webkitallowfullscreen mozallowfullscreen></iframe></div></div>"
      ],
      "text/plain": [
       "<folium.folium.Map at 0x27470b6c518>"
      ]
     },
     "metadata": {},
     "output_type": "display_data"
    }
   ],
   "source": [
    "# Create Map with latLng Popup\n",
    "cambridge_map.add_child(folium.LatLngPopup())\n",
    "display(cambridge_map)"
   ]
  },
  {
   "cell_type": "markdown",
   "metadata": {},
   "source": [
    "Updated locations:\n",
    "\n",
    "* **Trumpington**\n",
    "    * Lat: 52.1734\n",
    "    * Lng: 0.1131\n",
    "* **Newnham**\n",
    "    * Lat: 52.1970\n",
    "    * Lng: 0.1068\n",
    "    \n",
    "* **Romsey**\n",
    "    * Lat: 52.1972\n",
    "    * Lng: 0.1463\n",
    "\n",
    "* **Cherry Hinton**\n",
    "    * Lat: 52.1872\n",
    "    * Lng: 0.1764\n",
    "    \n",
    "* **Abbey**\n",
    "    * Lat: 52.2124\n",
    "    * Lng: 0.1613\n",
    "    \n",
    "Let's update the district dataframe."
   ]
  },
  {
   "cell_type": "code",
   "execution_count": 24,
   "metadata": {},
   "outputs": [],
   "source": [
    "# Update Trumpington\n",
    "df_district.loc[df_district.District == 'Trumpington', 'Latitude'] = 52.1734\n",
    "df_district.loc[df_district.District == 'Trumpington', 'Longitude'] = 0.1131\n",
    "\n",
    "# Update Newnham\n",
    "df_district.loc[df_district.District == 'Newnham', 'Latitude'] = 52.1970\n",
    "df_district.loc[df_district.District == 'Newnham', 'Longitude'] =  0.1068\n",
    "\n",
    "# Update Romsey\n",
    "df_district.loc[df_district.District == 'Romsey', 'Latitude'] = 52.1972\n",
    "df_district.loc[df_district.District == 'Romsey', 'Longitude'] =  0.1463\n",
    "\n",
    "# Update Cherry Hinton\n",
    "df_district.loc[df_district.District == 'Cherry Hinton', 'Latitude'] = 52.1872\n",
    "df_district.loc[df_district.District == 'Cherry Hinton', 'Longitude'] =  0.1764\n",
    "\n",
    "# Update Abbey\n",
    "df_district.loc[df_district.District == 'Abbey', 'Latitude'] = 52.2124\n",
    "df_district.loc[df_district.District == 'Abbey', 'Longitude'] =  0.1613\n"
   ]
  },
  {
   "cell_type": "code",
   "execution_count": 25,
   "metadata": {},
   "outputs": [
    {
     "data": {
      "text/html": [
       "<div style=\"width:100%;\"><div style=\"position:relative;width:100%;height:0;padding-bottom:60%;\"><span style=\"color:#565656\">Make this Notebook Trusted to load map: File -> Trust Notebook</span><iframe src=\"about:blank\" style=\"position:absolute;width:100%;height:100%;left:0;top:0;border:none !important;\" data-html=PCFET0NUWVBFIGh0bWw+CjxoZWFkPiAgICAKICAgIDxtZXRhIGh0dHAtZXF1aXY9ImNvbnRlbnQtdHlwZSIgY29udGVudD0idGV4dC9odG1sOyBjaGFyc2V0PVVURi04IiAvPgogICAgCiAgICAgICAgPHNjcmlwdD4KICAgICAgICAgICAgTF9OT19UT1VDSCA9IGZhbHNlOwogICAgICAgICAgICBMX0RJU0FCTEVfM0QgPSBmYWxzZTsKICAgICAgICA8L3NjcmlwdD4KICAgIAogICAgPHNjcmlwdCBzcmM9Imh0dHBzOi8vY2RuLmpzZGVsaXZyLm5ldC9ucG0vbGVhZmxldEAxLjYuMC9kaXN0L2xlYWZsZXQuanMiPjwvc2NyaXB0PgogICAgPHNjcmlwdCBzcmM9Imh0dHBzOi8vY29kZS5qcXVlcnkuY29tL2pxdWVyeS0xLjEyLjQubWluLmpzIj48L3NjcmlwdD4KICAgIDxzY3JpcHQgc3JjPSJodHRwczovL21heGNkbi5ib290c3RyYXBjZG4uY29tL2Jvb3RzdHJhcC8zLjIuMC9qcy9ib290c3RyYXAubWluLmpzIj48L3NjcmlwdD4KICAgIDxzY3JpcHQgc3JjPSJodHRwczovL2NkbmpzLmNsb3VkZmxhcmUuY29tL2FqYXgvbGlicy9MZWFmbGV0LmF3ZXNvbWUtbWFya2Vycy8yLjAuMi9sZWFmbGV0LmF3ZXNvbWUtbWFya2Vycy5qcyI+PC9zY3JpcHQ+CiAgICA8bGluayByZWw9InN0eWxlc2hlZXQiIGhyZWY9Imh0dHBzOi8vY2RuLmpzZGVsaXZyLm5ldC9ucG0vbGVhZmxldEAxLjYuMC9kaXN0L2xlYWZsZXQuY3NzIi8+CiAgICA8bGluayByZWw9InN0eWxlc2hlZXQiIGhyZWY9Imh0dHBzOi8vbWF4Y2RuLmJvb3RzdHJhcGNkbi5jb20vYm9vdHN0cmFwLzMuMi4wL2Nzcy9ib290c3RyYXAubWluLmNzcyIvPgogICAgPGxpbmsgcmVsPSJzdHlsZXNoZWV0IiBocmVmPSJodHRwczovL21heGNkbi5ib290c3RyYXBjZG4uY29tL2Jvb3RzdHJhcC8zLjIuMC9jc3MvYm9vdHN0cmFwLXRoZW1lLm1pbi5jc3MiLz4KICAgIDxsaW5rIHJlbD0ic3R5bGVzaGVldCIgaHJlZj0iaHR0cHM6Ly9tYXhjZG4uYm9vdHN0cmFwY2RuLmNvbS9mb250LWF3ZXNvbWUvNC42LjMvY3NzL2ZvbnQtYXdlc29tZS5taW4uY3NzIi8+CiAgICA8bGluayByZWw9InN0eWxlc2hlZXQiIGhyZWY9Imh0dHBzOi8vY2RuanMuY2xvdWRmbGFyZS5jb20vYWpheC9saWJzL0xlYWZsZXQuYXdlc29tZS1tYXJrZXJzLzIuMC4yL2xlYWZsZXQuYXdlc29tZS1tYXJrZXJzLmNzcyIvPgogICAgPGxpbmsgcmVsPSJzdHlsZXNoZWV0IiBocmVmPSJodHRwczovL3Jhd2Nkbi5naXRoYWNrLmNvbS9weXRob24tdmlzdWFsaXphdGlvbi9mb2xpdW0vbWFzdGVyL2ZvbGl1bS90ZW1wbGF0ZXMvbGVhZmxldC5hd2Vzb21lLnJvdGF0ZS5jc3MiLz4KICAgIDxzdHlsZT5odG1sLCBib2R5IHt3aWR0aDogMTAwJTtoZWlnaHQ6IDEwMCU7bWFyZ2luOiAwO3BhZGRpbmc6IDA7fTwvc3R5bGU+CiAgICA8c3R5bGU+I21hcCB7cG9zaXRpb246YWJzb2x1dGU7dG9wOjA7Ym90dG9tOjA7cmlnaHQ6MDtsZWZ0OjA7fTwvc3R5bGU+CiAgICAKICAgICAgICAgICAgPG1ldGEgbmFtZT0idmlld3BvcnQiIGNvbnRlbnQ9IndpZHRoPWRldmljZS13aWR0aCwKICAgICAgICAgICAgICAgIGluaXRpYWwtc2NhbGU9MS4wLCBtYXhpbXVtLXNjYWxlPTEuMCwgdXNlci1zY2FsYWJsZT1ubyIgLz4KICAgICAgICAgICAgPHN0eWxlPgogICAgICAgICAgICAgICAgI21hcF9mZjllMTU0YjNhNWM0OGM2ODJiNjlhNzcwMTBlYTdiYiB7CiAgICAgICAgICAgICAgICAgICAgcG9zaXRpb246IHJlbGF0aXZlOwogICAgICAgICAgICAgICAgICAgIHdpZHRoOiAxMDAuMCU7CiAgICAgICAgICAgICAgICAgICAgaGVpZ2h0OiAxMDAuMCU7CiAgICAgICAgICAgICAgICAgICAgbGVmdDogMC4wJTsKICAgICAgICAgICAgICAgICAgICB0b3A6IDAuMCU7CiAgICAgICAgICAgICAgICB9CiAgICAgICAgICAgIDwvc3R5bGU+CiAgICAgICAgCjwvaGVhZD4KPGJvZHk+ICAgIAogICAgCiAgICAgICAgICAgIDxkaXYgY2xhc3M9ImZvbGl1bS1tYXAiIGlkPSJtYXBfZmY5ZTE1NGIzYTVjNDhjNjgyYjY5YTc3MDEwZWE3YmIiID48L2Rpdj4KICAgICAgICAKPC9ib2R5Pgo8c2NyaXB0PiAgICAKICAgIAogICAgICAgICAgICB2YXIgbWFwX2ZmOWUxNTRiM2E1YzQ4YzY4MmI2OWE3NzAxMGVhN2JiID0gTC5tYXAoCiAgICAgICAgICAgICAgICAibWFwX2ZmOWUxNTRiM2E1YzQ4YzY4MmI2OWE3NzAxMGVhN2JiIiwKICAgICAgICAgICAgICAgIHsKICAgICAgICAgICAgICAgICAgICBjZW50ZXI6IFs1Mi4yMDM0ODIzLCAwLjEyMzU4MTddLAogICAgICAgICAgICAgICAgICAgIGNyczogTC5DUlMuRVBTRzM4NTcsCiAgICAgICAgICAgICAgICAgICAgem9vbTogMTIuNSwKICAgICAgICAgICAgICAgICAgICB6b29tQ29udHJvbDogdHJ1ZSwKICAgICAgICAgICAgICAgICAgICBwcmVmZXJDYW52YXM6IGZhbHNlLAogICAgICAgICAgICAgICAgfQogICAgICAgICAgICApOwogICAgICAgICAgICBMLmNvbnRyb2wuc2NhbGUoKS5hZGRUbyhtYXBfZmY5ZTE1NGIzYTVjNDhjNjgyYjY5YTc3MDEwZWE3YmIpOwoKICAgICAgICAgICAgCgogICAgICAgIAogICAgCiAgICAgICAgICAgIHZhciB0aWxlX2xheWVyX2Q1NzQzZmNiMDc1NzRjMjFiY2IyZmEyOTc1ZjcxMGQzID0gTC50aWxlTGF5ZXIoCiAgICAgICAgICAgICAgICAiaHR0cHM6Ly97c30udGlsZS5vcGVuc3RyZWV0bWFwLm9yZy97en0ve3h9L3t5fS5wbmciLAogICAgICAgICAgICAgICAgeyJhdHRyaWJ1dGlvbiI6ICJEYXRhIGJ5IFx1MDAyNmNvcHk7IFx1MDAzY2EgaHJlZj1cImh0dHA6Ly9vcGVuc3RyZWV0bWFwLm9yZ1wiXHUwMDNlT3BlblN0cmVldE1hcFx1MDAzYy9hXHUwMDNlLCB1bmRlciBcdTAwM2NhIGhyZWY9XCJodHRwOi8vd3d3Lm9wZW5zdHJlZXRtYXAub3JnL2NvcHlyaWdodFwiXHUwMDNlT0RiTFx1MDAzYy9hXHUwMDNlLiIsICJkZXRlY3RSZXRpbmEiOiBmYWxzZSwgIm1heE5hdGl2ZVpvb20iOiAxOCwgIm1heFpvb20iOiAxOCwgIm1pblpvb20iOiAwLCAibm9XcmFwIjogZmFsc2UsICJvcGFjaXR5IjogMSwgInN1YmRvbWFpbnMiOiAiYWJjIiwgInRtcyI6IGZhbHNlfQogICAgICAgICAgICApLmFkZFRvKG1hcF9mZjllMTU0YjNhNWM0OGM2ODJiNjlhNzcwMTBlYTdiYik7CiAgICAgICAgCiAgICAKICAgICAgICAgICAgdmFyIG1hcmtlcl9mM2MzODA4OTBhNzU0ZGYyYmE1NmI0ZGRlYzMzMzA5MCA9IEwubWFya2VyKAogICAgICAgICAgICAgICAgWzUyLjIxMjQsIDAuMTYxM10sCiAgICAgICAgICAgICAgICB7fQogICAgICAgICAgICApLmFkZFRvKG1hcF9mZjllMTU0YjNhNWM0OGM2ODJiNjlhNzcwMTBlYTdiYik7CiAgICAgICAgCiAgICAKICAgICAgICB2YXIgcG9wdXBfMGQ2YjU5MDZmZGU3NGYwNDkyMjkwNWVlNDAzMWFjMDMgPSBMLnBvcHVwKHsibWF4V2lkdGgiOiAiMTAwJSJ9KTsKCiAgICAgICAgCiAgICAgICAgICAgIHZhciBodG1sXzVhY2FjMTEwOWY3ZDQ4NmU4MTQzNDZkZmJjODE3YmFiID0gJChgPGRpdiBpZD0iaHRtbF81YWNhYzExMDlmN2Q0ODZlODE0MzQ2ZGZiYzgxN2JhYiIgc3R5bGU9IndpZHRoOiAxMDAuMCU7IGhlaWdodDogMTAwLjAlOyI+PGk+QWJiZXk8L2k+PC9kaXY+YClbMF07CiAgICAgICAgICAgIHBvcHVwXzBkNmI1OTA2ZmRlNzRmMDQ5MjI5MDVlZTQwMzFhYzAzLnNldENvbnRlbnQoaHRtbF81YWNhYzExMDlmN2Q0ODZlODE0MzQ2ZGZiYzgxN2JhYik7CiAgICAgICAgCgogICAgICAgIG1hcmtlcl9mM2MzODA4OTBhNzU0ZGYyYmE1NmI0ZGRlYzMzMzA5MC5iaW5kUG9wdXAocG9wdXBfMGQ2YjU5MDZmZGU3NGYwNDkyMjkwNWVlNDAzMWFjMDMpCiAgICAgICAgOwoKICAgICAgICAKICAgIAogICAgCiAgICAgICAgICAgIG1hcmtlcl9mM2MzODA4OTBhNzU0ZGYyYmE1NmI0ZGRlYzMzMzA5MC5iaW5kVG9vbHRpcCgKICAgICAgICAgICAgICAgIGA8ZGl2PgogICAgICAgICAgICAgICAgICAgICBBYmJleQogICAgICAgICAgICAgICAgIDwvZGl2PmAsCiAgICAgICAgICAgICAgICB7InN0aWNreSI6IHRydWV9CiAgICAgICAgICAgICk7CiAgICAgICAgCiAgICAKICAgICAgICAgICAgdmFyIGNpcmNsZV83YjE3NWRhODY1Y2Y0OGU1OGFmZTc0NmJiMDU5MTVhNyA9IEwuY2lyY2xlKAogICAgICAgICAgICAgICAgWzUyLjIxMjQsIDAuMTYxM10sCiAgICAgICAgICAgICAgICB7ImJ1YmJsaW5nTW91c2VFdmVudHMiOiB0cnVlLCAiY29sb3IiOiAiIzMxODZjYyIsICJkYXNoQXJyYXkiOiBudWxsLCAiZGFzaE9mZnNldCI6IG51bGwsICJmaWxsIjogdHJ1ZSwgImZpbGxDb2xvciI6ICIjMzE4NmNjIiwgImZpbGxPcGFjaXR5IjogMC4yLCAiZmlsbFJ1bGUiOiAiZXZlbm9kZCIsICJsaW5lQ2FwIjogInJvdW5kIiwgImxpbmVKb2luIjogInJvdW5kIiwgIm9wYWNpdHkiOiAxLjAsICJyYWRpdXMiOiA1MDAsICJzdHJva2UiOiB0cnVlLCAid2VpZ2h0IjogM30KICAgICAgICAgICAgKS5hZGRUbyhtYXBfZmY5ZTE1NGIzYTVjNDhjNjgyYjY5YTc3MDEwZWE3YmIpOwogICAgICAgIAogICAgCiAgICAgICAgICAgIHZhciBtYXJrZXJfM2U0YTE3Yjc0N2JlNDQwY2IxNzA2MGExNGU2Y2NmZTMgPSBMLm1hcmtlcigKICAgICAgICAgICAgICAgIFs1Mi4yMTg5OTUyNDY0NDU1LCAwLjExNTU1NzEyOTM4Mzg4NjI2XSwKICAgICAgICAgICAgICAgIHt9CiAgICAgICAgICAgICkuYWRkVG8obWFwX2ZmOWUxNTRiM2E1YzQ4YzY4MmI2OWE3NzAxMGVhN2JiKTsKICAgICAgICAKICAgIAogICAgICAgIHZhciBwb3B1cF9jZmFkOTg3NGExNjE0ZTc1YTgyN2FlZDc4NjRjNWQ0MiA9IEwucG9wdXAoeyJtYXhXaWR0aCI6ICIxMDAlIn0pOwoKICAgICAgICAKICAgICAgICAgICAgdmFyIGh0bWxfZTI5NWNiMWM1NDcxNDcyZjlkMmNiNWIxMmRlYWFiYmUgPSAkKGA8ZGl2IGlkPSJodG1sX2UyOTVjYjFjNTQ3MTQ3MmY5ZDJjYjViMTJkZWFhYmJlIiBzdHlsZT0id2lkdGg6IDEwMC4wJTsgaGVpZ2h0OiAxMDAuMCU7Ij48aT5BcmJ1cnk8L2k+PC9kaXY+YClbMF07CiAgICAgICAgICAgIHBvcHVwX2NmYWQ5ODc0YTE2MTRlNzVhODI3YWVkNzg2NGM1ZDQyLnNldENvbnRlbnQoaHRtbF9lMjk1Y2IxYzU0NzE0NzJmOWQyY2I1YjEyZGVhYWJiZSk7CiAgICAgICAgCgogICAgICAgIG1hcmtlcl8zZTRhMTdiNzQ3YmU0NDBjYjE3MDYwYTE0ZTZjY2ZlMy5iaW5kUG9wdXAocG9wdXBfY2ZhZDk4NzRhMTYxNGU3NWE4MjdhZWQ3ODY0YzVkNDIpCiAgICAgICAgOwoKICAgICAgICAKICAgIAogICAgCiAgICAgICAgICAgIG1hcmtlcl8zZTRhMTdiNzQ3YmU0NDBjYjE3MDYwYTE0ZTZjY2ZlMy5iaW5kVG9vbHRpcCgKICAgICAgICAgICAgICAgIGA8ZGl2PgogICAgICAgICAgICAgICAgICAgICBBcmJ1cnkKICAgICAgICAgICAgICAgICA8L2Rpdj5gLAogICAgICAgICAgICAgICAgeyJzdGlja3kiOiB0cnVlfQogICAgICAgICAgICApOwogICAgICAgIAogICAgCiAgICAgICAgICAgIHZhciBjaXJjbGVfYjQxYmYwZWFlN2QyNDhhY2FkNzAyNjg3ZGFkMDA0NDAgPSBMLmNpcmNsZSgKICAgICAgICAgICAgICAgIFs1Mi4yMTg5OTUyNDY0NDU1LCAwLjExNTU1NzEyOTM4Mzg4NjI2XSwKICAgICAgICAgICAgICAgIHsiYnViYmxpbmdNb3VzZUV2ZW50cyI6IHRydWUsICJjb2xvciI6ICIjMzE4NmNjIiwgImRhc2hBcnJheSI6IG51bGwsICJkYXNoT2Zmc2V0IjogbnVsbCwgImZpbGwiOiB0cnVlLCAiZmlsbENvbG9yIjogIiMzMTg2Y2MiLCAiZmlsbE9wYWNpdHkiOiAwLjIsICJmaWxsUnVsZSI6ICJldmVub2RkIiwgImxpbmVDYXAiOiAicm91bmQiLCAibGluZUpvaW4iOiAicm91bmQiLCAib3BhY2l0eSI6IDEuMCwgInJhZGl1cyI6IDUwMCwgInN0cm9rZSI6IHRydWUsICJ3ZWlnaHQiOiAzfQogICAgICAgICAgICApLmFkZFRvKG1hcF9mZjllMTU0YjNhNWM0OGM2ODJiNjlhNzcwMTBlYTdiYik7CiAgICAgICAgCiAgICAKICAgICAgICAgICAgdmFyIG1hcmtlcl9kMDU0MWRhNGY1NGM0ODA3YTE5YmMxNDU1ZWE5NWIwZSA9IEwubWFya2VyKAogICAgICAgICAgICAgICAgWzUyLjIxNDg2NzQzOTQ0NjM3LCAwLjEwMjcxOTQxNjk1NTAxNzNdLAogICAgICAgICAgICAgICAge30KICAgICAgICAgICAgKS5hZGRUbyhtYXBfZmY5ZTE1NGIzYTVjNDhjNjgyYjY5YTc3MDEwZWE3YmIpOwogICAgICAgIAogICAgCiAgICAgICAgdmFyIHBvcHVwXzcyNGUyZTg0Nzg3YTRjNzhiZDg3YmZmN2U2MmIwMTg4ID0gTC5wb3B1cCh7Im1heFdpZHRoIjogIjEwMCUifSk7CgogICAgICAgIAogICAgICAgICAgICB2YXIgaHRtbF8zNDNkZmRjMDQxNjQ0N2MxODhhYTY0ZWExNmY1NTM3MSA9ICQoYDxkaXYgaWQ9Imh0bWxfMzQzZGZkYzA0MTY0NDdjMTg4YWE2NGVhMTZmNTUzNzEiIHN0eWxlPSJ3aWR0aDogMTAwLjAlOyBoZWlnaHQ6IDEwMC4wJTsiPjxpPkNhc3RsZTwvaT48L2Rpdj5gKVswXTsKICAgICAgICAgICAgcG9wdXBfNzI0ZTJlODQ3ODdhNGM3OGJkODdiZmY3ZTYyYjAxODguc2V0Q29udGVudChodG1sXzM0M2RmZGMwNDE2NDQ3YzE4OGFhNjRlYTE2ZjU1MzcxKTsKICAgICAgICAKCiAgICAgICAgbWFya2VyX2QwNTQxZGE0ZjU0YzQ4MDdhMTliYzE0NTVlYTk1YjBlLmJpbmRQb3B1cChwb3B1cF83MjRlMmU4NDc4N2E0Yzc4YmQ4N2JmZjdlNjJiMDE4OCkKICAgICAgICA7CgogICAgICAgIAogICAgCiAgICAKICAgICAgICAgICAgbWFya2VyX2QwNTQxZGE0ZjU0YzQ4MDdhMTliYzE0NTVlYTk1YjBlLmJpbmRUb29sdGlwKAogICAgICAgICAgICAgICAgYDxkaXY+CiAgICAgICAgICAgICAgICAgICAgIENhc3RsZQogICAgICAgICAgICAgICAgIDwvZGl2PmAsCiAgICAgICAgICAgICAgICB7InN0aWNreSI6IHRydWV9CiAgICAgICAgICAgICk7CiAgICAgICAgCiAgICAKICAgICAgICAgICAgdmFyIGNpcmNsZV85MDY1MmJhZDhkZGM0N2Y1YjZhMDEwNTMxNTAzY2E2YyA9IEwuY2lyY2xlKAogICAgICAgICAgICAgICAgWzUyLjIxNDg2NzQzOTQ0NjM3LCAwLjEwMjcxOTQxNjk1NTAxNzNdLAogICAgICAgICAgICAgICAgeyJidWJibGluZ01vdXNlRXZlbnRzIjogdHJ1ZSwgImNvbG9yIjogIiMzMTg2Y2MiLCAiZGFzaEFycmF5IjogbnVsbCwgImRhc2hPZmZzZXQiOiBudWxsLCAiZmlsbCI6IHRydWUsICJmaWxsQ29sb3IiOiAiIzMxODZjYyIsICJmaWxsT3BhY2l0eSI6IDAuMiwgImZpbGxSdWxlIjogImV2ZW5vZGQiLCAibGluZUNhcCI6ICJyb3VuZCIsICJsaW5lSm9pbiI6ICJyb3VuZCIsICJvcGFjaXR5IjogMS4wLCAicmFkaXVzIjogNTAwLCAic3Ryb2tlIjogdHJ1ZSwgIndlaWdodCI6IDN9CiAgICAgICAgICAgICkuYWRkVG8obWFwX2ZmOWUxNTRiM2E1YzQ4YzY4MmI2OWE3NzAxMGVhN2JiKTsKICAgICAgICAKICAgIAogICAgICAgICAgICB2YXIgbWFya2VyXzJlMmE4MGQ3YWZlNjQ1MGE4NGE2OWFjMDI2ZGQ5ZGU3ID0gTC5tYXJrZXIoCiAgICAgICAgICAgICAgICBbNTIuMTg3MiwgMC4xNzY0XSwKICAgICAgICAgICAgICAgIHt9CiAgICAgICAgICAgICkuYWRkVG8obWFwX2ZmOWUxNTRiM2E1YzQ4YzY4MmI2OWE3NzAxMGVhN2JiKTsKICAgICAgICAKICAgIAogICAgICAgIHZhciBwb3B1cF81Y2JiMGQwNmMxYzQ0ZWViYWE1Y2JiMjA3OTE3MmYwNSA9IEwucG9wdXAoeyJtYXhXaWR0aCI6ICIxMDAlIn0pOwoKICAgICAgICAKICAgICAgICAgICAgdmFyIGh0bWxfZjY4YTE2ZDE0MDNkNDE1Njk4NGRlYmVlN2I1ODUzYTggPSAkKGA8ZGl2IGlkPSJodG1sX2Y2OGExNmQxNDAzZDQxNTY5ODRkZWJlZTdiNTg1M2E4IiBzdHlsZT0id2lkdGg6IDEwMC4wJTsgaGVpZ2h0OiAxMDAuMCU7Ij48aT5DaGVycnkgSGludG9uPC9pPjwvZGl2PmApWzBdOwogICAgICAgICAgICBwb3B1cF81Y2JiMGQwNmMxYzQ0ZWViYWE1Y2JiMjA3OTE3MmYwNS5zZXRDb250ZW50KGh0bWxfZjY4YTE2ZDE0MDNkNDE1Njk4NGRlYmVlN2I1ODUzYTgpOwogICAgICAgIAoKICAgICAgICBtYXJrZXJfMmUyYTgwZDdhZmU2NDUwYTg0YTY5YWMwMjZkZDlkZTcuYmluZFBvcHVwKHBvcHVwXzVjYmIwZDA2YzFjNDRlZWJhYTVjYmIyMDc5MTcyZjA1KQogICAgICAgIDsKCiAgICAgICAgCiAgICAKICAgIAogICAgICAgICAgICBtYXJrZXJfMmUyYTgwZDdhZmU2NDUwYTg0YTY5YWMwMjZkZDlkZTcuYmluZFRvb2x0aXAoCiAgICAgICAgICAgICAgICBgPGRpdj4KICAgICAgICAgICAgICAgICAgICAgQ2hlcnJ5IEhpbnRvbgogICAgICAgICAgICAgICAgIDwvZGl2PmAsCiAgICAgICAgICAgICAgICB7InN0aWNreSI6IHRydWV9CiAgICAgICAgICAgICk7CiAgICAgICAgCiAgICAKICAgICAgICAgICAgdmFyIGNpcmNsZV8xMjE5NjY5YTFkZjU0OGNhYTFmMzE2NDgzZjg5ZGU0OCA9IEwuY2lyY2xlKAogICAgICAgICAgICAgICAgWzUyLjE4NzIsIDAuMTc2NF0sCiAgICAgICAgICAgICAgICB7ImJ1YmJsaW5nTW91c2VFdmVudHMiOiB0cnVlLCAiY29sb3IiOiAiIzMxODZjYyIsICJkYXNoQXJyYXkiOiBudWxsLCAiZGFzaE9mZnNldCI6IG51bGwsICJmaWxsIjogdHJ1ZSwgImZpbGxDb2xvciI6ICIjMzE4NmNjIiwgImZpbGxPcGFjaXR5IjogMC4yLCAiZmlsbFJ1bGUiOiAiZXZlbm9kZCIsICJsaW5lQ2FwIjogInJvdW5kIiwgImxpbmVKb2luIjogInJvdW5kIiwgIm9wYWNpdHkiOiAxLjAsICJyYWRpdXMiOiA1MDAsICJzdHJva2UiOiB0cnVlLCAid2VpZ2h0IjogM30KICAgICAgICAgICAgKS5hZGRUbyhtYXBfZmY5ZTE1NGIzYTVjNDhjNjgyYjY5YTc3MDEwZWE3YmIpOwogICAgICAgIAogICAgCiAgICAgICAgICAgIHZhciBtYXJrZXJfNmY5Zjk3YTgzNTZkNDI5NWFiN2IwMzNlMjg0OWNkZWIgPSBMLm1hcmtlcigKICAgICAgICAgICAgICAgIFs1Mi4xODk2MDM0NjM1ODM4MiwgMC4xNTM0NDg1OTU5NTM3NTcyM10sCiAgICAgICAgICAgICAgICB7fQogICAgICAgICAgICApLmFkZFRvKG1hcF9mZjllMTU0YjNhNWM0OGM2ODJiNjlhNzcwMTBlYTdiYik7CiAgICAgICAgCiAgICAKICAgICAgICB2YXIgcG9wdXBfOGEzMzYwNTdjYzA0NGFjYzlkNTUwYzE0Njk4MTcwMDMgPSBMLnBvcHVwKHsibWF4V2lkdGgiOiAiMTAwJSJ9KTsKCiAgICAgICAgCiAgICAgICAgICAgIHZhciBodG1sX2YzOGZjZTM2MjVmODRjMWRiNTc4ZmRmNTI2Y2VmMDgxID0gJChgPGRpdiBpZD0iaHRtbF9mMzhmY2UzNjI1Zjg0YzFkYjU3OGZkZjUyNmNlZjA4MSIgc3R5bGU9IndpZHRoOiAxMDAuMCU7IGhlaWdodDogMTAwLjAlOyI+PGk+Q29sZXJpZGdlPC9pPjwvZGl2PmApWzBdOwogICAgICAgICAgICBwb3B1cF84YTMzNjA1N2NjMDQ0YWNjOWQ1NTBjMTQ2OTgxNzAwMy5zZXRDb250ZW50KGh0bWxfZjM4ZmNlMzYyNWY4NGMxZGI1NzhmZGY1MjZjZWYwODEpOwogICAgICAgIAoKICAgICAgICBtYXJrZXJfNmY5Zjk3YTgzNTZkNDI5NWFiN2IwMzNlMjg0OWNkZWIuYmluZFBvcHVwKHBvcHVwXzhhMzM2MDU3Y2MwNDRhY2M5ZDU1MGMxNDY5ODE3MDAzKQogICAgICAgIDsKCiAgICAgICAgCiAgICAKICAgIAogICAgICAgICAgICBtYXJrZXJfNmY5Zjk3YTgzNTZkNDI5NWFiN2IwMzNlMjg0OWNkZWIuYmluZFRvb2x0aXAoCiAgICAgICAgICAgICAgICBgPGRpdj4KICAgICAgICAgICAgICAgICAgICAgQ29sZXJpZGdlCiAgICAgICAgICAgICAgICAgPC9kaXY+YCwKICAgICAgICAgICAgICAgIHsic3RpY2t5IjogdHJ1ZX0KICAgICAgICAgICAgKTsKICAgICAgICAKICAgIAogICAgICAgICAgICB2YXIgY2lyY2xlXzJiYTIyMTYzN2MwNTQ2Mjg5ZTJiYmVmZDkzMjcwNTU0ID0gTC5jaXJjbGUoCiAgICAgICAgICAgICAgICBbNTIuMTg5NjAzNDYzNTgzODIsIDAuMTUzNDQ4NTk1OTUzNzU3MjNdLAogICAgICAgICAgICAgICAgeyJidWJibGluZ01vdXNlRXZlbnRzIjogdHJ1ZSwgImNvbG9yIjogIiMzMTg2Y2MiLCAiZGFzaEFycmF5IjogbnVsbCwgImRhc2hPZmZzZXQiOiBudWxsLCAiZmlsbCI6IHRydWUsICJmaWxsQ29sb3IiOiAiIzMxODZjYyIsICJmaWxsT3BhY2l0eSI6IDAuMiwgImZpbGxSdWxlIjogImV2ZW5vZGQiLCAibGluZUNhcCI6ICJyb3VuZCIsICJsaW5lSm9pbiI6ICJyb3VuZCIsICJvcGFjaXR5IjogMS4wLCAicmFkaXVzIjogNTAwLCAic3Ryb2tlIjogdHJ1ZSwgIndlaWdodCI6IDN9CiAgICAgICAgICAgICkuYWRkVG8obWFwX2ZmOWUxNTRiM2E1YzQ4YzY4MmI2OWE3NzAxMGVhN2JiKTsKICAgICAgICAKICAgIAogICAgICAgICAgICB2YXIgbWFya2VyXzY2NDVlNGE2OTkyYTQ0NTU4ZjA3YmVjYmI0MDdiYjg5ID0gTC5tYXJrZXIoCiAgICAgICAgICAgICAgICBbNTIuMjIyMDMyMDA4OTYwNTcsIDAuMTQ3MjY0MjIyNTgwNjQ1MTRdLAogICAgICAgICAgICAgICAge30KICAgICAgICAgICAgKS5hZGRUbyhtYXBfZmY5ZTE1NGIzYTVjNDhjNjgyYjY5YTc3MDEwZWE3YmIpOwogICAgICAgIAogICAgCiAgICAgICAgdmFyIHBvcHVwXzMwYjdiNWUxMzVjMTQ1ZTdhMDQwNGM1ODhiOWZkMzM2ID0gTC5wb3B1cCh7Im1heFdpZHRoIjogIjEwMCUifSk7CgogICAgICAgIAogICAgICAgICAgICB2YXIgaHRtbF9mYjU5NDljNGQ1NTg0N2U5YmIwNjg5NDllMGRjMzkxOCA9ICQoYDxkaXYgaWQ9Imh0bWxfZmI1OTQ5YzRkNTU4NDdlOWJiMDY4OTQ5ZTBkYzM5MTgiIHN0eWxlPSJ3aWR0aDogMTAwLjAlOyBoZWlnaHQ6IDEwMC4wJTsiPjxpPkVhc3QgQ2hlc3RlcnRvbjwvaT48L2Rpdj5gKVswXTsKICAgICAgICAgICAgcG9wdXBfMzBiN2I1ZTEzNWMxNDVlN2EwNDA0YzU4OGI5ZmQzMzYuc2V0Q29udGVudChodG1sX2ZiNTk0OWM0ZDU1ODQ3ZTliYjA2ODk0OWUwZGMzOTE4KTsKICAgICAgICAKCiAgICAgICAgbWFya2VyXzY2NDVlNGE2OTkyYTQ0NTU4ZjA3YmVjYmI0MDdiYjg5LmJpbmRQb3B1cChwb3B1cF8zMGI3YjVlMTM1YzE0NWU3YTA0MDRjNTg4YjlmZDMzNikKICAgICAgICA7CgogICAgICAgIAogICAgCiAgICAKICAgICAgICAgICAgbWFya2VyXzY2NDVlNGE2OTkyYTQ0NTU4ZjA3YmVjYmI0MDdiYjg5LmJpbmRUb29sdGlwKAogICAgICAgICAgICAgICAgYDxkaXY+CiAgICAgICAgICAgICAgICAgICAgIEVhc3QgQ2hlc3RlcnRvbgogICAgICAgICAgICAgICAgIDwvZGl2PmAsCiAgICAgICAgICAgICAgICB7InN0aWNreSI6IHRydWV9CiAgICAgICAgICAgICk7CiAgICAgICAgCiAgICAKICAgICAgICAgICAgdmFyIGNpcmNsZV83NmIzNzU5MjZhYmE0Y2RjYTY5ZjkyZmM4NjFkNGY3NiA9IEwuY2lyY2xlKAogICAgICAgICAgICAgICAgWzUyLjIyMjAzMjAwODk2MDU3LCAwLjE0NzI2NDIyMjU4MDY0NTE0XSwKICAgICAgICAgICAgICAgIHsiYnViYmxpbmdNb3VzZUV2ZW50cyI6IHRydWUsICJjb2xvciI6ICIjMzE4NmNjIiwgImRhc2hBcnJheSI6IG51bGwsICJkYXNoT2Zmc2V0IjogbnVsbCwgImZpbGwiOiB0cnVlLCAiZmlsbENvbG9yIjogIiMzMTg2Y2MiLCAiZmlsbE9wYWNpdHkiOiAwLjIsICJmaWxsUnVsZSI6ICJldmVub2RkIiwgImxpbmVDYXAiOiAicm91bmQiLCAibGluZUpvaW4iOiAicm91bmQiLCAib3BhY2l0eSI6IDEuMCwgInJhZGl1cyI6IDUwMCwgInN0cm9rZSI6IHRydWUsICJ3ZWlnaHQiOiAzfQogICAgICAgICAgICApLmFkZFRvKG1hcF9mZjllMTU0YjNhNWM0OGM2ODJiNjlhNzcwMTBlYTdiYik7CiAgICAgICAgCiAgICAKICAgICAgICAgICAgdmFyIG1hcmtlcl9mYjBhMTk1N2JkOGM0MzNmODlhYzlhMmQ5YTk2NGRlYiA9IEwubWFya2VyKAogICAgICAgICAgICAgICAgWzUyLjIyNzE4NTE0NzEwNzQzNCwgMC4xMzQ5OTE3NTYxOTgzNDcxXSwKICAgICAgICAgICAgICAgIHt9CiAgICAgICAgICAgICkuYWRkVG8obWFwX2ZmOWUxNTRiM2E1YzQ4YzY4MmI2OWE3NzAxMGVhN2JiKTsKICAgICAgICAKICAgIAogICAgICAgIHZhciBwb3B1cF9iMWJlNzU3NzI0ZTY0MDM4YmUxZDhjZjllN2YwYTA3NCA9IEwucG9wdXAoeyJtYXhXaWR0aCI6ICIxMDAlIn0pOwoKICAgICAgICAKICAgICAgICAgICAgdmFyIGh0bWxfZTljYWE3MGI0MjZkNGI4Yjk1NTcwZDQ2MzYyZGU3NzEgPSAkKGA8ZGl2IGlkPSJodG1sX2U5Y2FhNzBiNDI2ZDRiOGI5NTU3MGQ0NjM2MmRlNzcxIiBzdHlsZT0id2lkdGg6IDEwMC4wJTsgaGVpZ2h0OiAxMDAuMCU7Ij48aT5LaW5ncyBIZWRnZXM8L2k+PC9kaXY+YClbMF07CiAgICAgICAgICAgIHBvcHVwX2IxYmU3NTc3MjRlNjQwMzhiZTFkOGNmOWU3ZjBhMDc0LnNldENvbnRlbnQoaHRtbF9lOWNhYTcwYjQyNmQ0YjhiOTU1NzBkNDYzNjJkZTc3MSk7CiAgICAgICAgCgogICAgICAgIG1hcmtlcl9mYjBhMTk1N2JkOGM0MzNmODlhYzlhMmQ5YTk2NGRlYi5iaW5kUG9wdXAocG9wdXBfYjFiZTc1NzcyNGU2NDAzOGJlMWQ4Y2Y5ZTdmMGEwNzQpCiAgICAgICAgOwoKICAgICAgICAKICAgIAogICAgCiAgICAgICAgICAgIG1hcmtlcl9mYjBhMTk1N2JkOGM0MzNmODlhYzlhMmQ5YTk2NGRlYi5iaW5kVG9vbHRpcCgKICAgICAgICAgICAgICAgIGA8ZGl2PgogICAgICAgICAgICAgICAgICAgICBLaW5ncyBIZWRnZXMKICAgICAgICAgICAgICAgICA8L2Rpdj5gLAogICAgICAgICAgICAgICAgeyJzdGlja3kiOiB0cnVlfQogICAgICAgICAgICApOwogICAgICAgIAogICAgCiAgICAgICAgICAgIHZhciBjaXJjbGVfMDA4YmMyYTIwYzdiNDgxMDllMjE0ZDJiNzkwY2M2YjkgPSBMLmNpcmNsZSgKICAgICAgICAgICAgICAgIFs1Mi4yMjcxODUxNDcxMDc0MzQsIDAuMTM0OTkxNzU2MTk4MzQ3MV0sCiAgICAgICAgICAgICAgICB7ImJ1YmJsaW5nTW91c2VFdmVudHMiOiB0cnVlLCAiY29sb3IiOiAiIzMxODZjYyIsICJkYXNoQXJyYXkiOiBudWxsLCAiZGFzaE9mZnNldCI6IG51bGwsICJmaWxsIjogdHJ1ZSwgImZpbGxDb2xvciI6ICIjMzE4NmNjIiwgImZpbGxPcGFjaXR5IjogMC4yLCAiZmlsbFJ1bGUiOiAiZXZlbm9kZCIsICJsaW5lQ2FwIjogInJvdW5kIiwgImxpbmVKb2luIjogInJvdW5kIiwgIm9wYWNpdHkiOiAxLjAsICJyYWRpdXMiOiA1MDAsICJzdHJva2UiOiB0cnVlLCAid2VpZ2h0IjogM30KICAgICAgICAgICAgKS5hZGRUbyhtYXBfZmY5ZTE1NGIzYTVjNDhjNjgyYjY5YTc3MDEwZWE3YmIpOwogICAgICAgIAogICAgCiAgICAgICAgICAgIHZhciBtYXJrZXJfNjgxYjY4Mzg3YTk3NGZhNzg5MTE1YWE1NTVjOTBlOGIgPSBMLm1hcmtlcigKICAgICAgICAgICAgICAgIFs1Mi4yMDYzOTI0MDg4ODg4OSwgMC4xMjQ0ODE4NDIyMjIyMjIyMl0sCiAgICAgICAgICAgICAgICB7fQogICAgICAgICAgICApLmFkZFRvKG1hcF9mZjllMTU0YjNhNWM0OGM2ODJiNjlhNzcwMTBlYTdiYik7CiAgICAgICAgCiAgICAKICAgICAgICB2YXIgcG9wdXBfMmQ4ZDc5MzY2OWU4NDMxOGFhN2VlOTJhYTEzNDU3MjYgPSBMLnBvcHVwKHsibWF4V2lkdGgiOiAiMTAwJSJ9KTsKCiAgICAgICAgCiAgICAgICAgICAgIHZhciBodG1sXzRhNDIwZDUzNzk3NzRkNTZhMTFkODY3OTExYzc0YWVhID0gJChgPGRpdiBpZD0iaHRtbF80YTQyMGQ1Mzc5Nzc0ZDU2YTExZDg2NzkxMWM3NGFlYSIgc3R5bGU9IndpZHRoOiAxMDAuMCU7IGhlaWdodDogMTAwLjAlOyI+PGk+TWFya2V0PC9pPjwvZGl2PmApWzBdOwogICAgICAgICAgICBwb3B1cF8yZDhkNzkzNjY5ZTg0MzE4YWE3ZWU5MmFhMTM0NTcyNi5zZXRDb250ZW50KGh0bWxfNGE0MjBkNTM3OTc3NGQ1NmExMWQ4Njc5MTFjNzRhZWEpOwogICAgICAgIAoKICAgICAgICBtYXJrZXJfNjgxYjY4Mzg3YTk3NGZhNzg5MTE1YWE1NTVjOTBlOGIuYmluZFBvcHVwKHBvcHVwXzJkOGQ3OTM2NjllODQzMThhYTdlZTkyYWExMzQ1NzI2KQogICAgICAgIDsKCiAgICAgICAgCiAgICAKICAgIAogICAgICAgICAgICBtYXJrZXJfNjgxYjY4Mzg3YTk3NGZhNzg5MTE1YWE1NTVjOTBlOGIuYmluZFRvb2x0aXAoCiAgICAgICAgICAgICAgICBgPGRpdj4KICAgICAgICAgICAgICAgICAgICAgTWFya2V0CiAgICAgICAgICAgICAgICAgPC9kaXY+YCwKICAgICAgICAgICAgICAgIHsic3RpY2t5IjogdHJ1ZX0KICAgICAgICAgICAgKTsKICAgICAgICAKICAgIAogICAgICAgICAgICB2YXIgY2lyY2xlX2I1NDNjZGNmZmMxMjRiZDRhNTBmNjg2OTNkYzUxN2NjID0gTC5jaXJjbGUoCiAgICAgICAgICAgICAgICBbNTIuMjA2MzkyNDA4ODg4ODksIDAuMTI0NDgxODQyMjIyMjIyMjJdLAogICAgICAgICAgICAgICAgeyJidWJibGluZ01vdXNlRXZlbnRzIjogdHJ1ZSwgImNvbG9yIjogIiMzMTg2Y2MiLCAiZGFzaEFycmF5IjogbnVsbCwgImRhc2hPZmZzZXQiOiBudWxsLCAiZmlsbCI6IHRydWUsICJmaWxsQ29sb3IiOiAiIzMxODZjYyIsICJmaWxsT3BhY2l0eSI6IDAuMiwgImZpbGxSdWxlIjogImV2ZW5vZGQiLCAibGluZUNhcCI6ICJyb3VuZCIsICJsaW5lSm9pbiI6ICJyb3VuZCIsICJvcGFjaXR5IjogMS4wLCAicmFkaXVzIjogNTAwLCAic3Ryb2tlIjogdHJ1ZSwgIndlaWdodCI6IDN9CiAgICAgICAgICAgICkuYWRkVG8obWFwX2ZmOWUxNTRiM2E1YzQ4YzY4MmI2OWE3NzAxMGVhN2JiKTsKICAgICAgICAKICAgIAogICAgICAgICAgICB2YXIgbWFya2VyXzU0ZmNhOTYyMTY5NzRlOTM5OTk5ZmQzMzg3NmE0YmMzID0gTC5tYXJrZXIoCiAgICAgICAgICAgICAgICBbNTIuMTk3LCAwLjEwNjhdLAogICAgICAgICAgICAgICAge30KICAgICAgICAgICAgKS5hZGRUbyhtYXBfZmY5ZTE1NGIzYTVjNDhjNjgyYjY5YTc3MDEwZWE3YmIpOwogICAgICAgIAogICAgCiAgICAgICAgdmFyIHBvcHVwX2M2ODQ0ZGMyY2JmNzQ3YzhhMjI1ZTdlZDM3Nzg5ZjJiID0gTC5wb3B1cCh7Im1heFdpZHRoIjogIjEwMCUifSk7CgogICAgICAgIAogICAgICAgICAgICB2YXIgaHRtbF80MWVhNTljZjRiOTY0N2VhYWFkYzU3ZWE5NDA5MzMxYyA9ICQoYDxkaXYgaWQ9Imh0bWxfNDFlYTU5Y2Y0Yjk2NDdlYWFhZGM1N2VhOTQwOTMzMWMiIHN0eWxlPSJ3aWR0aDogMTAwLjAlOyBoZWlnaHQ6IDEwMC4wJTsiPjxpPk5ld25oYW08L2k+PC9kaXY+YClbMF07CiAgICAgICAgICAgIHBvcHVwX2M2ODQ0ZGMyY2JmNzQ3YzhhMjI1ZTdlZDM3Nzg5ZjJiLnNldENvbnRlbnQoaHRtbF80MWVhNTljZjRiOTY0N2VhYWFkYzU3ZWE5NDA5MzMxYyk7CiAgICAgICAgCgogICAgICAgIG1hcmtlcl81NGZjYTk2MjE2OTc0ZTkzOTk5OWZkMzM4NzZhNGJjMy5iaW5kUG9wdXAocG9wdXBfYzY4NDRkYzJjYmY3NDdjOGEyMjVlN2VkMzc3ODlmMmIpCiAgICAgICAgOwoKICAgICAgICAKICAgIAogICAgCiAgICAgICAgICAgIG1hcmtlcl81NGZjYTk2MjE2OTc0ZTkzOTk5OWZkMzM4NzZhNGJjMy5iaW5kVG9vbHRpcCgKICAgICAgICAgICAgICAgIGA8ZGl2PgogICAgICAgICAgICAgICAgICAgICBOZXduaGFtCiAgICAgICAgICAgICAgICAgPC9kaXY+YCwKICAgICAgICAgICAgICAgIHsic3RpY2t5IjogdHJ1ZX0KICAgICAgICAgICAgKTsKICAgICAgICAKICAgIAogICAgICAgICAgICB2YXIgY2lyY2xlX2Q5M2RhOWRkMTllYjQ2ZmFhZDQ2ZTc1ZDE0Y2I1YzdkID0gTC5jaXJjbGUoCiAgICAgICAgICAgICAgICBbNTIuMTk3LCAwLjEwNjhdLAogICAgICAgICAgICAgICAgeyJidWJibGluZ01vdXNlRXZlbnRzIjogdHJ1ZSwgImNvbG9yIjogIiMzMTg2Y2MiLCAiZGFzaEFycmF5IjogbnVsbCwgImRhc2hPZmZzZXQiOiBudWxsLCAiZmlsbCI6IHRydWUsICJmaWxsQ29sb3IiOiAiIzMxODZjYyIsICJmaWxsT3BhY2l0eSI6IDAuMiwgImZpbGxSdWxlIjogImV2ZW5vZGQiLCAibGluZUNhcCI6ICJyb3VuZCIsICJsaW5lSm9pbiI6ICJyb3VuZCIsICJvcGFjaXR5IjogMS4wLCAicmFkaXVzIjogNTAwLCAic3Ryb2tlIjogdHJ1ZSwgIndlaWdodCI6IDN9CiAgICAgICAgICAgICkuYWRkVG8obWFwX2ZmOWUxNTRiM2E1YzQ4YzY4MmI2OWE3NzAxMGVhN2JiKTsKICAgICAgICAKICAgIAogICAgICAgICAgICB2YXIgbWFya2VyX2QzNTM2YTYwYjI2OTQ4NWI5M2RiMThhZGMyZTQ2ODk2ID0gTC5tYXJrZXIoCiAgICAgICAgICAgICAgICBbNTIuMjAyNjk4MjE0MTE3NjUsIDAuMTM2MTM4MTY4MjM1Mjk0MTJdLAogICAgICAgICAgICAgICAge30KICAgICAgICAgICAgKS5hZGRUbyhtYXBfZmY5ZTE1NGIzYTVjNDhjNjgyYjY5YTc3MDEwZWE3YmIpOwogICAgICAgIAogICAgCiAgICAgICAgdmFyIHBvcHVwXzhjMWNlMDY2MzA5ODRiMzI5OTVjZTVjNmE1YTg0ZDUwID0gTC5wb3B1cCh7Im1heFdpZHRoIjogIjEwMCUifSk7CgogICAgICAgIAogICAgICAgICAgICB2YXIgaHRtbF81OTI4YjEwYWY0NTg0OWQ3YTM1NDczYWI1N2M5NjNkOCA9ICQoYDxkaXYgaWQ9Imh0bWxfNTkyOGIxMGFmNDU4NDlkN2EzNTQ3M2FiNTdjOTYzZDgiIHN0eWxlPSJ3aWR0aDogMTAwLjAlOyBoZWlnaHQ6IDEwMC4wJTsiPjxpPlBldGVyc2ZpZWxkPC9pPjwvZGl2PmApWzBdOwogICAgICAgICAgICBwb3B1cF84YzFjZTA2NjMwOTg0YjMyOTk1Y2U1YzZhNWE4NGQ1MC5zZXRDb250ZW50KGh0bWxfNTkyOGIxMGFmNDU4NDlkN2EzNTQ3M2FiNTdjOTYzZDgpOwogICAgICAgIAoKICAgICAgICBtYXJrZXJfZDM1MzZhNjBiMjY5NDg1YjkzZGIxOGFkYzJlNDY4OTYuYmluZFBvcHVwKHBvcHVwXzhjMWNlMDY2MzA5ODRiMzI5OTVjZTVjNmE1YTg0ZDUwKQogICAgICAgIDsKCiAgICAgICAgCiAgICAKICAgIAogICAgICAgICAgICBtYXJrZXJfZDM1MzZhNjBiMjY5NDg1YjkzZGIxOGFkYzJlNDY4OTYuYmluZFRvb2x0aXAoCiAgICAgICAgICAgICAgICBgPGRpdj4KICAgICAgICAgICAgICAgICAgICAgUGV0ZXJzZmllbGQKICAgICAgICAgICAgICAgICA8L2Rpdj5gLAogICAgICAgICAgICAgICAgeyJzdGlja3kiOiB0cnVlfQogICAgICAgICAgICApOwogICAgICAgIAogICAgCiAgICAgICAgICAgIHZhciBjaXJjbGVfN2FmOWNlMmQ2NzQxNDI2OGIxZmRjYzQ3NWQ1YjIyZDggPSBMLmNpcmNsZSgKICAgICAgICAgICAgICAgIFs1Mi4yMDI2OTgyMTQxMTc2NSwgMC4xMzYxMzgxNjgyMzUyOTQxMl0sCiAgICAgICAgICAgICAgICB7ImJ1YmJsaW5nTW91c2VFdmVudHMiOiB0cnVlLCAiY29sb3IiOiAiIzMxODZjYyIsICJkYXNoQXJyYXkiOiBudWxsLCAiZGFzaE9mZnNldCI6IG51bGwsICJmaWxsIjogdHJ1ZSwgImZpbGxDb2xvciI6ICIjMzE4NmNjIiwgImZpbGxPcGFjaXR5IjogMC4yLCAiZmlsbFJ1bGUiOiAiZXZlbm9kZCIsICJsaW5lQ2FwIjogInJvdW5kIiwgImxpbmVKb2luIjogInJvdW5kIiwgIm9wYWNpdHkiOiAxLjAsICJyYWRpdXMiOiA1MDAsICJzdHJva2UiOiB0cnVlLCAid2VpZ2h0IjogM30KICAgICAgICAgICAgKS5hZGRUbyhtYXBfZmY5ZTE1NGIzYTVjNDhjNjgyYjY5YTc3MDEwZWE3YmIpOwogICAgICAgIAogICAgCiAgICAgICAgICAgIHZhciBtYXJrZXJfMDIxYjI5MDI2M2QyNDhkY2I0MTk2NWEzOThkYTU2OTAgPSBMLm1hcmtlcigKICAgICAgICAgICAgICAgIFs1Mi4xODA3ODA1MjQwNzQwOCwgMC4xNTExOTU4MzAyNDY5MTM1OF0sCiAgICAgICAgICAgICAgICB7fQogICAgICAgICAgICApLmFkZFRvKG1hcF9mZjllMTU0YjNhNWM0OGM2ODJiNjlhNzcwMTBlYTdiYik7CiAgICAgICAgCiAgICAKICAgICAgICB2YXIgcG9wdXBfNGNmN2FkYjRiZjY2NDMyZGIwMTM5OWZmM2ZmZmIxYWUgPSBMLnBvcHVwKHsibWF4V2lkdGgiOiAiMTAwJSJ9KTsKCiAgICAgICAgCiAgICAgICAgICAgIHZhciBodG1sX2Y3OTJiMTc0YmU1ZjRjYTE4MTVlYjM3NDU5MWMyMGQxID0gJChgPGRpdiBpZD0iaHRtbF9mNzkyYjE3NGJlNWY0Y2ExODE1ZWIzNzQ1OTFjMjBkMSIgc3R5bGU9IndpZHRoOiAxMDAuMCU7IGhlaWdodDogMTAwLjAlOyI+PGk+UXVlZW4gRWRpdGhzPC9pPjwvZGl2PmApWzBdOwogICAgICAgICAgICBwb3B1cF80Y2Y3YWRiNGJmNjY0MzJkYjAxMzk5ZmYzZmZmYjFhZS5zZXRDb250ZW50KGh0bWxfZjc5MmIxNzRiZTVmNGNhMTgxNWViMzc0NTkxYzIwZDEpOwogICAgICAgIAoKICAgICAgICBtYXJrZXJfMDIxYjI5MDI2M2QyNDhkY2I0MTk2NWEzOThkYTU2OTAuYmluZFBvcHVwKHBvcHVwXzRjZjdhZGI0YmY2NjQzMmRiMDEzOTlmZjNmZmZiMWFlKQogICAgICAgIDsKCiAgICAgICAgCiAgICAKICAgIAogICAgICAgICAgICBtYXJrZXJfMDIxYjI5MDI2M2QyNDhkY2I0MTk2NWEzOThkYTU2OTAuYmluZFRvb2x0aXAoCiAgICAgICAgICAgICAgICBgPGRpdj4KICAgICAgICAgICAgICAgICAgICAgUXVlZW4gRWRpdGhzCiAgICAgICAgICAgICAgICAgPC9kaXY+YCwKICAgICAgICAgICAgICAgIHsic3RpY2t5IjogdHJ1ZX0KICAgICAgICAgICAgKTsKICAgICAgICAKICAgIAogICAgICAgICAgICB2YXIgY2lyY2xlXzJlZGQ0NWJhNzA3NDQxNmI4YzFhNzYwNmY0NjEwZjYzID0gTC5jaXJjbGUoCiAgICAgICAgICAgICAgICBbNTIuMTgwNzgwNTI0MDc0MDgsIDAuMTUxMTk1ODMwMjQ2OTEzNThdLAogICAgICAgICAgICAgICAgeyJidWJibGluZ01vdXNlRXZlbnRzIjogdHJ1ZSwgImNvbG9yIjogIiMzMTg2Y2MiLCAiZGFzaEFycmF5IjogbnVsbCwgImRhc2hPZmZzZXQiOiBudWxsLCAiZmlsbCI6IHRydWUsICJmaWxsQ29sb3IiOiAiIzMxODZjYyIsICJmaWxsT3BhY2l0eSI6IDAuMiwgImZpbGxSdWxlIjogImV2ZW5vZGQiLCAibGluZUNhcCI6ICJyb3VuZCIsICJsaW5lSm9pbiI6ICJyb3VuZCIsICJvcGFjaXR5IjogMS4wLCAicmFkaXVzIjogNTAwLCAic3Ryb2tlIjogdHJ1ZSwgIndlaWdodCI6IDN9CiAgICAgICAgICAgICkuYWRkVG8obWFwX2ZmOWUxNTRiM2E1YzQ4YzY4MmI2OWE3NzAxMGVhN2JiKTsKICAgICAgICAKICAgIAogICAgICAgICAgICB2YXIgbWFya2VyX2E3MmQ0NjQxMWM1OTQyZmRhNGY0NmRiN2Q0NTgzNDNlID0gTC5tYXJrZXIoCiAgICAgICAgICAgICAgICBbNTIuMTk3MiwgMC4xNDYzXSwKICAgICAgICAgICAgICAgIHt9CiAgICAgICAgICAgICkuYWRkVG8obWFwX2ZmOWUxNTRiM2E1YzQ4YzY4MmI2OWE3NzAxMGVhN2JiKTsKICAgICAgICAKICAgIAogICAgICAgIHZhciBwb3B1cF9lOWM2ZDdmMmRhZWI0ZTE4YWQxNGY0MjgxNTMxYTY2ZSA9IEwucG9wdXAoeyJtYXhXaWR0aCI6ICIxMDAlIn0pOwoKICAgICAgICAKICAgICAgICAgICAgdmFyIGh0bWxfYjUwZmRmZTlmZWI5NDhjODg4NjdkN2Y2ZGUxMzFhMTAgPSAkKGA8ZGl2IGlkPSJodG1sX2I1MGZkZmU5ZmViOTQ4Yzg4ODY3ZDdmNmRlMTMxYTEwIiBzdHlsZT0id2lkdGg6IDEwMC4wJTsgaGVpZ2h0OiAxMDAuMCU7Ij48aT5Sb21zZXk8L2k+PC9kaXY+YClbMF07CiAgICAgICAgICAgIHBvcHVwX2U5YzZkN2YyZGFlYjRlMThhZDE0ZjQyODE1MzFhNjZlLnNldENvbnRlbnQoaHRtbF9iNTBmZGZlOWZlYjk0OGM4ODg2N2Q3ZjZkZTEzMWExMCk7CiAgICAgICAgCgogICAgICAgIG1hcmtlcl9hNzJkNDY0MTFjNTk0MmZkYTRmNDZkYjdkNDU4MzQzZS5iaW5kUG9wdXAocG9wdXBfZTljNmQ3ZjJkYWViNGUxOGFkMTRmNDI4MTUzMWE2NmUpCiAgICAgICAgOwoKICAgICAgICAKICAgIAogICAgCiAgICAgICAgICAgIG1hcmtlcl9hNzJkNDY0MTFjNTk0MmZkYTRmNDZkYjdkNDU4MzQzZS5iaW5kVG9vbHRpcCgKICAgICAgICAgICAgICAgIGA8ZGl2PgogICAgICAgICAgICAgICAgICAgICBSb21zZXkKICAgICAgICAgICAgICAgICA8L2Rpdj5gLAogICAgICAgICAgICAgICAgeyJzdGlja3kiOiB0cnVlfQogICAgICAgICAgICApOwogICAgICAgIAogICAgCiAgICAgICAgICAgIHZhciBjaXJjbGVfMTJiNWZhYTJhMDkyNGFjZmFiYzQ2M2QxNjA4MDk0MDQgPSBMLmNpcmNsZSgKICAgICAgICAgICAgICAgIFs1Mi4xOTcyLCAwLjE0NjNdLAogICAgICAgICAgICAgICAgeyJidWJibGluZ01vdXNlRXZlbnRzIjogdHJ1ZSwgImNvbG9yIjogIiMzMTg2Y2MiLCAiZGFzaEFycmF5IjogbnVsbCwgImRhc2hPZmZzZXQiOiBudWxsLCAiZmlsbCI6IHRydWUsICJmaWxsQ29sb3IiOiAiIzMxODZjYyIsICJmaWxsT3BhY2l0eSI6IDAuMiwgImZpbGxSdWxlIjogImV2ZW5vZGQiLCAibGluZUNhcCI6ICJyb3VuZCIsICJsaW5lSm9pbiI6ICJyb3VuZCIsICJvcGFjaXR5IjogMS4wLCAicmFkaXVzIjogNTAwLCAic3Ryb2tlIjogdHJ1ZSwgIndlaWdodCI6IDN9CiAgICAgICAgICAgICkuYWRkVG8obWFwX2ZmOWUxNTRiM2E1YzQ4YzY4MmI2OWE3NzAxMGVhN2JiKTsKICAgICAgICAKICAgIAogICAgICAgICAgICB2YXIgbWFya2VyXzU3ODdjMDEyZmU0ZDQ5MWU5MjI2ZmFlYzA1Nzg1ODFlID0gTC5tYXJrZXIoCiAgICAgICAgICAgICAgICBbNTIuMTczNCwgMC4xMTMxXSwKICAgICAgICAgICAgICAgIHt9CiAgICAgICAgICAgICkuYWRkVG8obWFwX2ZmOWUxNTRiM2E1YzQ4YzY4MmI2OWE3NzAxMGVhN2JiKTsKICAgICAgICAKICAgIAogICAgICAgIHZhciBwb3B1cF8zOWUxNzBiNmRlM2I0MTllOGU0MDExYTcwYjE3YmM2NCA9IEwucG9wdXAoeyJtYXhXaWR0aCI6ICIxMDAlIn0pOwoKICAgICAgICAKICAgICAgICAgICAgdmFyIGh0bWxfMzNhM2JmNTExOTY1NGZiNzkyZGIzOWE4MTZkMjExNzQgPSAkKGA8ZGl2IGlkPSJodG1sXzMzYTNiZjUxMTk2NTRmYjc5MmRiMzlhODE2ZDIxMTc0IiBzdHlsZT0id2lkdGg6IDEwMC4wJTsgaGVpZ2h0OiAxMDAuMCU7Ij48aT5UcnVtcGluZ3RvbjwvaT48L2Rpdj5gKVswXTsKICAgICAgICAgICAgcG9wdXBfMzllMTcwYjZkZTNiNDE5ZThlNDAxMWE3MGIxN2JjNjQuc2V0Q29udGVudChodG1sXzMzYTNiZjUxMTk2NTRmYjc5MmRiMzlhODE2ZDIxMTc0KTsKICAgICAgICAKCiAgICAgICAgbWFya2VyXzU3ODdjMDEyZmU0ZDQ5MWU5MjI2ZmFlYzA1Nzg1ODFlLmJpbmRQb3B1cChwb3B1cF8zOWUxNzBiNmRlM2I0MTllOGU0MDExYTcwYjE3YmM2NCkKICAgICAgICA7CgogICAgICAgIAogICAgCiAgICAKICAgICAgICAgICAgbWFya2VyXzU3ODdjMDEyZmU0ZDQ5MWU5MjI2ZmFlYzA1Nzg1ODFlLmJpbmRUb29sdGlwKAogICAgICAgICAgICAgICAgYDxkaXY+CiAgICAgICAgICAgICAgICAgICAgIFRydW1waW5ndG9uCiAgICAgICAgICAgICAgICAgPC9kaXY+YCwKICAgICAgICAgICAgICAgIHsic3RpY2t5IjogdHJ1ZX0KICAgICAgICAgICAgKTsKICAgICAgICAKICAgIAogICAgICAgICAgICB2YXIgY2lyY2xlXzI3NmE5YjNmNmFlZjQ3ZWJiZTlhYTliZTViNGJiM2IyID0gTC5jaXJjbGUoCiAgICAgICAgICAgICAgICBbNTIuMTczNCwgMC4xMTMxXSwKICAgICAgICAgICAgICAgIHsiYnViYmxpbmdNb3VzZUV2ZW50cyI6IHRydWUsICJjb2xvciI6ICIjMzE4NmNjIiwgImRhc2hBcnJheSI6IG51bGwsICJkYXNoT2Zmc2V0IjogbnVsbCwgImZpbGwiOiB0cnVlLCAiZmlsbENvbG9yIjogIiMzMTg2Y2MiLCAiZmlsbE9wYWNpdHkiOiAwLjIsICJmaWxsUnVsZSI6ICJldmVub2RkIiwgImxpbmVDYXAiOiAicm91bmQiLCAibGluZUpvaW4iOiAicm91bmQiLCAib3BhY2l0eSI6IDEuMCwgInJhZGl1cyI6IDUwMCwgInN0cm9rZSI6IHRydWUsICJ3ZWlnaHQiOiAzfQogICAgICAgICAgICApLmFkZFRvKG1hcF9mZjllMTU0YjNhNWM0OGM2ODJiNjlhNzcwMTBlYTdiYik7CiAgICAgICAgCiAgICAKICAgICAgICAgICAgdmFyIG1hcmtlcl81YmVhZGFlNDgyMmQ0YTVkOWMzMTc2MDdmMGUxZjg1MSA9IEwubWFya2VyKAogICAgICAgICAgICAgICAgWzUyLjIxNzQ4Njk2NjE3NjQ4LCAwLjEyOTMwNjkwNzM1Mjk0MTE3XSwKICAgICAgICAgICAgICAgIHt9CiAgICAgICAgICAgICkuYWRkVG8obWFwX2ZmOWUxNTRiM2E1YzQ4YzY4MmI2OWE3NzAxMGVhN2JiKTsKICAgICAgICAKICAgIAogICAgICAgIHZhciBwb3B1cF8zNTFmNzJjYzNkMWU0ZWEyYmUzODIzYmExYjRjMGE4NyA9IEwucG9wdXAoeyJtYXhXaWR0aCI6ICIxMDAlIn0pOwoKICAgICAgICAKICAgICAgICAgICAgdmFyIGh0bWxfM2MxNDQ2YmE5NGYzNGY5N2FjZTAzYTQ5MDhhZjViZjkgPSAkKGA8ZGl2IGlkPSJodG1sXzNjMTQ0NmJhOTRmMzRmOTdhY2UwM2E0OTA4YWY1YmY5IiBzdHlsZT0id2lkdGg6IDEwMC4wJTsgaGVpZ2h0OiAxMDAuMCU7Ij48aT5XZXN0IENoZXN0ZXJ0b248L2k+PC9kaXY+YClbMF07CiAgICAgICAgICAgIHBvcHVwXzM1MWY3MmNjM2QxZTRlYTJiZTM4MjNiYTFiNGMwYTg3LnNldENvbnRlbnQoaHRtbF8zYzE0NDZiYTk0ZjM0Zjk3YWNlMDNhNDkwOGFmNWJmOSk7CiAgICAgICAgCgogICAgICAgIG1hcmtlcl81YmVhZGFlNDgyMmQ0YTVkOWMzMTc2MDdmMGUxZjg1MS5iaW5kUG9wdXAocG9wdXBfMzUxZjcyY2MzZDFlNGVhMmJlMzgyM2JhMWI0YzBhODcpCiAgICAgICAgOwoKICAgICAgICAKICAgIAogICAgCiAgICAgICAgICAgIG1hcmtlcl81YmVhZGFlNDgyMmQ0YTVkOWMzMTc2MDdmMGUxZjg1MS5iaW5kVG9vbHRpcCgKICAgICAgICAgICAgICAgIGA8ZGl2PgogICAgICAgICAgICAgICAgICAgICBXZXN0IENoZXN0ZXJ0b24KICAgICAgICAgICAgICAgICA8L2Rpdj5gLAogICAgICAgICAgICAgICAgeyJzdGlja3kiOiB0cnVlfQogICAgICAgICAgICApOwogICAgICAgIAogICAgCiAgICAgICAgICAgIHZhciBjaXJjbGVfMjdkY2U1YjNiZWY5NDNjZTk4MTU2Y2FiZTg1YmRjY2QgPSBMLmNpcmNsZSgKICAgICAgICAgICAgICAgIFs1Mi4yMTc0ODY5NjYxNzY0OCwgMC4xMjkzMDY5MDczNTI5NDExN10sCiAgICAgICAgICAgICAgICB7ImJ1YmJsaW5nTW91c2VFdmVudHMiOiB0cnVlLCAiY29sb3IiOiAiIzMxODZjYyIsICJkYXNoQXJyYXkiOiBudWxsLCAiZGFzaE9mZnNldCI6IG51bGwsICJmaWxsIjogdHJ1ZSwgImZpbGxDb2xvciI6ICIjMzE4NmNjIiwgImZpbGxPcGFjaXR5IjogMC4yLCAiZmlsbFJ1bGUiOiAiZXZlbm9kZCIsICJsaW5lQ2FwIjogInJvdW5kIiwgImxpbmVKb2luIjogInJvdW5kIiwgIm9wYWNpdHkiOiAxLjAsICJyYWRpdXMiOiA1MDAsICJzdHJva2UiOiB0cnVlLCAid2VpZ2h0IjogM30KICAgICAgICAgICAgKS5hZGRUbyhtYXBfZmY5ZTE1NGIzYTVjNDhjNjgyYjY5YTc3MDEwZWE3YmIpOwogICAgICAgIAo8L3NjcmlwdD4= onload=\"this.contentDocument.open();this.contentDocument.write(atob(this.getAttribute('data-html')));this.contentDocument.close();\" allowfullscreen webkitallowfullscreen mozallowfullscreen></iframe></div></div>"
      ],
      "text/plain": [
       "<folium.folium.Map at 0x27470bfb4a8>"
      ]
     },
     "metadata": {},
     "output_type": "display_data"
    }
   ],
   "source": [
    "# create a map centered on Cambridge\n",
    "cambridge_map_ref = folium.Map(location=[city_latitude, city_longitude], zoom_start=12.5,control_scale=True)\n",
    "addMarkers(cambridge_map_ref)"
   ]
  },
  {
   "cell_type": "markdown",
   "metadata": {},
   "source": [
    "#### Iterate the data retrieval process"
   ]
  },
  {
   "cell_type": "code",
   "execution_count": 26,
   "metadata": {},
   "outputs": [
    {
     "name": "stdout",
     "output_type": "stream",
     "text": [
      "Original Venue:  187 Updated Venue:  226\n",
      "Original Ent:  160 Updated Ent:  179\n",
      "Original Latin:  5 Updated Latin:  5\n"
     ]
    }
   ],
   "source": [
    "district_venues_update = getVenues()\n",
    "district_entertain_update = getEntertainment()\n",
    "district_latin_update  = getLatin()\n",
    "\n",
    "print('Original Venue: ',district_venues.shape[0],'Updated Venue: ',district_venues_update.shape[0])\n",
    "print('Original Ent: ',district_entertain.shape[0],'Updated Ent: ',district_entertain_update.shape[0])\n",
    "print('Original Latin: ',district_latin.shape[0],'Updated Latin: ',district_latin_update.shape[0])"
   ]
  },
  {
   "cell_type": "markdown",
   "metadata": {},
   "source": [
    "#### Repeat - Bar Chart showing the frequency of restaurants within districts\n",
    "\n",
    "* Create a new horizontal bar plot with the districts and the frequency of restaurants"
   ]
  },
  {
   "cell_type": "code",
   "execution_count": 27,
   "metadata": {},
   "outputs": [
    {
     "data": {
      "text/plain": [
       "<matplotlib.axes._subplots.AxesSubplot at 0x27470c5bc88>"
      ]
     },
     "execution_count": 27,
     "metadata": {},
     "output_type": "execute_result"
    },
    {
     "data": {
      "image/png": "[encoded data removed]",
      "text/plain": [
       "<Figure size 1080x576 with 1 Axes>"
      ]
     },
     "metadata": {},
     "output_type": "display_data"
    }
   ],
   "source": [
    "district_venues_update['District'].value_counts().plot(kind='barh', figsize=(15,8), color=(0.2, 0.4, 0.6, 0.6))"
   ]
  },
  {
   "cell_type": "markdown",
   "metadata": {},
   "source": [
    "In this chart, we can now see how Trumpington, Newnham and Romsey have moved forward in the frequency bar plot."
   ]
  },
  {
   "cell_type": "markdown",
   "metadata": {},
   "source": [
    "#### Details Map\n",
    "\n",
    "Let's a make a map to display the following:\n",
    "* Chloropeth Map showing the frequency of restaurants in the districts.\n",
    "* Cluster markers to show density"
   ]
  },
  {
   "cell_type": "code",
   "execution_count": 34,
   "metadata": {},
   "outputs": [],
   "source": [
    "# Create a DataFrame to hold the district names and count\n",
    "district_count = pd.DataFrame(district_venues_update['District'].value_counts())\n",
    "district_count.reset_index(inplace=True)\n",
    "district_count.columns = ['District','Count']"
   ]
  },
  {
   "cell_type": "code",
   "execution_count": 35,
   "metadata": {},
   "outputs": [
    {
     "data": {
      "text/html": [
       "<div style=\"width:100%;\"><div style=\"position:relative;width:100%;height:0;padding-bottom:60%;\"><span style=\"color:#565656\">Make this Notebook Trusted to load map: File -> Trust Notebook</span><iframe src=\"about:blank\" style=\"position:absolute;width:100%;height:100%;left:0;top:0;border:none !important;\" data-html=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 onload=\"this.contentDocument.open();this.contentDocument.write(atob(this.getAttribute('data-html')));this.contentDocument.close();\" allowfullscreen webkitallowfullscreen mozallowfullscreen></iframe></div></div>"
      ],
      "text/plain": [
       "<folium.folium.Map at 0x27471051780>"
      ]
     },
     "metadata": {},
     "output_type": "display_data"
    }
   ],
   "source": [
    "from folium import plugins\n",
    "\n",
    "cambridge_geo = r'Cambridge.geojson' # geojson file\n",
    "\n",
    "# Initiate a map\n",
    "cambridge_ch_map = folium.Map(location=[city_latitude, city_longitude], zoom_start=12)\n",
    "\n",
    "# Add Choropleth Map\n",
    "folium.Choropleth(\n",
    "    geo_data=cambridge_geo,\n",
    "    name='choropleth',\n",
    "    data=district_count,\n",
    "    columns=['District','Count'],\n",
    "    key_on='feature.properties.Name',\n",
    "    fill_color='YlOrRd',\n",
    "    fill_opacity=0.7,\n",
    "    line_opacity=0.2,\n",
    "    legend_name='Restaurant Frequency'\n",
    ").add_to(cambridge_ch_map)\n",
    "\n",
    "\n",
    "# initiate a mark cluster object for the restaurants in the dataframe\n",
    "restaurants_cluster = plugins.MarkerCluster().add_to(cambridge_ch_map)\n",
    "\n",
    "# loop through the dataframe and add each data point to the mark cluster\n",
    "for lat, lng, label, in zip(district_venues_update['Venue Latitude'], district_venues_update['Venue Longitude'], district_venues_update['Venue']):\n",
    "    folium.Marker(\n",
    "        location=[lat, lng],\n",
    "        icon=None,\n",
    "        tooltip=label\n",
    "    ).add_to(restaurants_cluster)\n",
    "\n",
    "# Add choropleth item to layer control on the map\n",
    "folium.LayerControl().add_to(cambridge_ch_map)\n",
    "    \n",
    "display(cambridge_ch_map)\n"
   ]
  },
  {
   "cell_type": "markdown",
   "metadata": {},
   "source": [
    "From this Choropleth Map we can distinguish that the central areas of Cambridge contain the most restaurants.\n",
    "* Choropleth and Cluster markers can be turned on an off using the layer control in the top right."
   ]
  },
  {
   "cell_type": "markdown",
   "metadata": {},
   "source": [
    "#### Adding existing Latin American restaurants\n",
    "\n",
    "* Show the current Latin American Restaurants, with a 500m radius.\n",
    "    * This is the zone where we will not suggest placing the new restaurant."
   ]
  },
  {
   "cell_type": "markdown",
   "metadata": {},
   "source": [
    "##### FUNCTION - Create Latin American Restaurant on Map"
   ]
  },
  {
   "cell_type": "code",
   "execution_count": 325,
   "metadata": {},
   "outputs": [],
   "source": [
    "def addLatin_toMap(m):\n",
    "    for lat, lng, label, in zip(district_latin_update['Venue Latitude'], district_latin_update['Venue Longitude'], district_latin_update['Venue']):\n",
    "        location = np.array([lat,lng])\n",
    "        # Add Marker\n",
    "        folium.Marker(location, popup='<i>{}</i>'.format(label), tooltip='Latin American Restaurant', icon=folium.Icon(color='red', icon='info-sign')).add_to(m)\n",
    "        # Add Radius of 500m\n",
    "        folium.Circle(\n",
    "                location=location,\n",
    "                radius=500,\n",
    "                color='#f54242',\n",
    "                fill=True,\n",
    "                fill_color='#f54242'\n",
    "            ).add_to(m)"
   ]
  },
  {
   "cell_type": "markdown",
   "metadata": {},
   "source": [
    "##### Create Map"
   ]
  },
  {
   "cell_type": "code",
   "execution_count": 326,
   "metadata": {},
   "outputs": [
    {
     "data": {
      "text/html": [
       "<div style=\"width:100%;\"><div style=\"position:relative;width:100%;height:0;padding-bottom:60%;\"><span style=\"color:#565656\">Make this Notebook Trusted to load map: File -> Trust Notebook</span><iframe src=\"about:blank\" style=\"position:absolute;width:100%;height:100%;left:0;top:0;border:none !important;\" data-html=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 onload=\"this.contentDocument.open();this.contentDocument.write(atob(this.getAttribute('data-html')));this.contentDocument.close();\" allowfullscreen webkitallowfullscreen mozallowfullscreen></iframe></div></div>"
      ],
      "text/plain": [
       "<folium.folium.Map at 0x274743775c0>"
      ]
     },
     "metadata": {},
     "output_type": "display_data"
    }
   ],
   "source": [
    "cambridge_latin_map = folium.Map(location=[city_latitude, city_longitude], zoom_start=14)\n",
    "\n",
    "addLatin_toMap(cambridge_latin_map)\n",
    "addMarkers(cambridge_latin_map)\n",
    "    "
   ]
  },
  {
   "cell_type": "markdown",
   "metadata": {},
   "source": [
    "From the map we can see that the two existing Latin American restaurants are located in **Petersfield** and **Romsey**.\n",
    "We will therfore exclude these two districts when choosing the location. \n",
    "But what areas are similar to these two?\n",
    "Let us make a cluster of similar areas, we will include **Entertainment** venues in the cluster calculations.\n",
    "\n",
    "But from looking at this map, we would like to find a location that is **similar** to **Petersfield** and **Romsey** as these have Latin American restaurants that are competing in an enviroment where they are the outliers."
   ]
  },
  {
   "cell_type": "markdown",
   "metadata": {},
   "source": [
    "#### One-Hot-Encoding, using Restaurants and Entertainment Venues\n",
    "\n",
    "To start we will use One-Hot-Encoding, so that we can assign a numerical value to each category.\n",
    "We will use the df_Combine which we made earlier to groupby in order to obtain the most frequent venues."
   ]
  },
  {
   "cell_type": "code",
   "execution_count": 37,
   "metadata": {},
   "outputs": [],
   "source": [
    "# one hot encoding\n",
    "cambridge_onehot = pd.get_dummies(df_Combine[['Venue Category']], prefix=\"\", prefix_sep=\"\")\n",
    "\n",
    "# add District column back to dataframe\n",
    "cambridge_onehot['District'] = df_Combine['District'] \n",
    "\n",
    "# move District column to the first column\n",
    "fixed_columns = [cambridge_onehot.columns[-1]] + list(cambridge_onehot.columns[:-1])\n",
    "cambridge_onehot = cambridge_onehot[fixed_columns]"
   ]
  },
  {
   "cell_type": "markdown",
   "metadata": {},
   "source": [
    "**Group by District**"
   ]
  },
  {
   "cell_type": "code",
   "execution_count": 38,
   "metadata": {},
   "outputs": [
    {
     "name": "stdout",
     "output_type": "stream",
     "text": [
      "Shape:  (14, 88)\n"
     ]
    },
    {
     "data": {
      "text/html": [
       "<div>\n",
       "<style scoped>\n",
       "    .dataframe tbody tr th:only-of-type {\n",
       "        vertical-align: middle;\n",
       "    }\n",
       "\n",
       "    .dataframe tbody tr th {\n",
       "        vertical-align: top;\n",
       "    }\n",
       "\n",
       "    .dataframe thead th {\n",
       "        text-align: right;\n",
       "    }\n",
       "</style>\n",
       "<table border=\"1\" class=\"dataframe\">\n",
       "  <thead>\n",
       "    <tr style=\"text-align: right;\">\n",
       "      <th></th>\n",
       "      <th>District</th>\n",
       "      <th>African Restaurant</th>\n",
       "      <th>Arcade</th>\n",
       "      <th>Arepa Restaurant</th>\n",
       "      <th>Art Gallery</th>\n",
       "      <th>Arts &amp; Entertainment</th>\n",
       "      <th>Asian Restaurant</th>\n",
       "      <th>BBQ Joint</th>\n",
       "      <th>Bakery</th>\n",
       "      <th>Bar</th>\n",
       "      <th>...</th>\n",
       "      <th>Thai Restaurant</th>\n",
       "      <th>Theater</th>\n",
       "      <th>Theme Restaurant</th>\n",
       "      <th>Tour Provider</th>\n",
       "      <th>Turkish Restaurant</th>\n",
       "      <th>Vegetarian / Vegan Restaurant</th>\n",
       "      <th>Vietnamese Restaurant</th>\n",
       "      <th>Water Park</th>\n",
       "      <th>Whisky Bar</th>\n",
       "      <th>Wings Joint</th>\n",
       "    </tr>\n",
       "  </thead>\n",
       "  <tbody>\n",
       "    <tr>\n",
       "      <th>0</th>\n",
       "      <td>Abbey</td>\n",
       "      <td>0.0</td>\n",
       "      <td>0.0</td>\n",
       "      <td>0.0</td>\n",
       "      <td>0.00</td>\n",
       "      <td>0.0</td>\n",
       "      <td>0.00</td>\n",
       "      <td>0.0</td>\n",
       "      <td>0.000000</td>\n",
       "      <td>0.111111</td>\n",
       "      <td>...</td>\n",
       "      <td>0.0</td>\n",
       "      <td>0.0</td>\n",
       "      <td>0.0</td>\n",
       "      <td>0.0</td>\n",
       "      <td>0.0</td>\n",
       "      <td>0.0</td>\n",
       "      <td>0.0</td>\n",
       "      <td>0.111111</td>\n",
       "      <td>0.0</td>\n",
       "      <td>0.0</td>\n",
       "    </tr>\n",
       "    <tr>\n",
       "      <th>1</th>\n",
       "      <td>Arbury</td>\n",
       "      <td>0.0</td>\n",
       "      <td>0.0</td>\n",
       "      <td>0.0</td>\n",
       "      <td>0.05</td>\n",
       "      <td>0.0</td>\n",
       "      <td>0.05</td>\n",
       "      <td>0.0</td>\n",
       "      <td>0.000000</td>\n",
       "      <td>0.000000</td>\n",
       "      <td>...</td>\n",
       "      <td>0.0</td>\n",
       "      <td>0.0</td>\n",
       "      <td>0.0</td>\n",
       "      <td>0.0</td>\n",
       "      <td>0.0</td>\n",
       "      <td>0.0</td>\n",
       "      <td>0.0</td>\n",
       "      <td>0.000000</td>\n",
       "      <td>0.0</td>\n",
       "      <td>0.0</td>\n",
       "    </tr>\n",
       "    <tr>\n",
       "      <th>2</th>\n",
       "      <td>Castle</td>\n",
       "      <td>0.0</td>\n",
       "      <td>0.0</td>\n",
       "      <td>0.0</td>\n",
       "      <td>0.15</td>\n",
       "      <td>0.0</td>\n",
       "      <td>0.00</td>\n",
       "      <td>0.0</td>\n",
       "      <td>0.000000</td>\n",
       "      <td>0.150000</td>\n",
       "      <td>...</td>\n",
       "      <td>0.0</td>\n",
       "      <td>0.0</td>\n",
       "      <td>0.0</td>\n",
       "      <td>0.0</td>\n",
       "      <td>0.0</td>\n",
       "      <td>0.0</td>\n",
       "      <td>0.0</td>\n",
       "      <td>0.000000</td>\n",
       "      <td>0.0</td>\n",
       "      <td>0.0</td>\n",
       "    </tr>\n",
       "    <tr>\n",
       "      <th>3</th>\n",
       "      <td>Cherry Hinton</td>\n",
       "      <td>0.0</td>\n",
       "      <td>0.0</td>\n",
       "      <td>0.0</td>\n",
       "      <td>0.00</td>\n",
       "      <td>0.0</td>\n",
       "      <td>0.00</td>\n",
       "      <td>0.0</td>\n",
       "      <td>0.111111</td>\n",
       "      <td>0.000000</td>\n",
       "      <td>...</td>\n",
       "      <td>0.0</td>\n",
       "      <td>0.0</td>\n",
       "      <td>0.0</td>\n",
       "      <td>0.0</td>\n",
       "      <td>0.0</td>\n",
       "      <td>0.0</td>\n",
       "      <td>0.0</td>\n",
       "      <td>0.000000</td>\n",
       "      <td>0.0</td>\n",
       "      <td>0.0</td>\n",
       "    </tr>\n",
       "    <tr>\n",
       "      <th>4</th>\n",
       "      <td>Coleridge</td>\n",
       "      <td>0.0</td>\n",
       "      <td>0.0</td>\n",
       "      <td>0.0</td>\n",
       "      <td>0.00</td>\n",
       "      <td>0.0</td>\n",
       "      <td>0.00</td>\n",
       "      <td>0.0</td>\n",
       "      <td>0.000000</td>\n",
       "      <td>0.000000</td>\n",
       "      <td>...</td>\n",
       "      <td>0.0</td>\n",
       "      <td>0.0</td>\n",
       "      <td>0.0</td>\n",
       "      <td>0.0</td>\n",
       "      <td>0.0</td>\n",
       "      <td>0.0</td>\n",
       "      <td>0.0</td>\n",
       "      <td>0.000000</td>\n",
       "      <td>0.0</td>\n",
       "      <td>0.0</td>\n",
       "    </tr>\n",
       "  </tbody>\n",
       "</table>\n",
       "<p>5 rows × 88 columns</p>\n",
       "</div>"
      ],
      "text/plain": [
       "        District  African Restaurant  Arcade  Arepa Restaurant  Art Gallery  \\\n",
       "0          Abbey                 0.0     0.0               0.0         0.00   \n",
       "1         Arbury                 0.0     0.0               0.0         0.05   \n",
       "2         Castle                 0.0     0.0               0.0         0.15   \n",
       "3  Cherry Hinton                 0.0     0.0               0.0         0.00   \n",
       "4      Coleridge                 0.0     0.0               0.0         0.00   \n",
       "\n",
       "   Arts & Entertainment  Asian Restaurant  BBQ Joint    Bakery       Bar  \\\n",
       "0                   0.0              0.00        0.0  0.000000  0.111111   \n",
       "1                   0.0              0.05        0.0  0.000000  0.000000   \n",
       "2                   0.0              0.00        0.0  0.000000  0.150000   \n",
       "3                   0.0              0.00        0.0  0.111111  0.000000   \n",
       "4                   0.0              0.00        0.0  0.000000  0.000000   \n",
       "\n",
       "      ...       Thai Restaurant  Theater  Theme Restaurant  Tour Provider  \\\n",
       "0     ...                   0.0      0.0               0.0            0.0   \n",
       "1     ...                   0.0      0.0               0.0            0.0   \n",
       "2     ...                   0.0      0.0               0.0            0.0   \n",
       "3     ...                   0.0      0.0               0.0            0.0   \n",
       "4     ...                   0.0      0.0               0.0            0.0   \n",
       "\n",
       "   Turkish Restaurant  Vegetarian / Vegan Restaurant  Vietnamese Restaurant  \\\n",
       "0                 0.0                            0.0                    0.0   \n",
       "1                 0.0                            0.0                    0.0   \n",
       "2                 0.0                            0.0                    0.0   \n",
       "3                 0.0                            0.0                    0.0   \n",
       "4                 0.0                            0.0                    0.0   \n",
       "\n",
       "   Water Park  Whisky Bar  Wings Joint  \n",
       "0    0.111111         0.0          0.0  \n",
       "1    0.000000         0.0          0.0  \n",
       "2    0.000000         0.0          0.0  \n",
       "3    0.000000         0.0          0.0  \n",
       "4    0.000000         0.0          0.0  \n",
       "\n",
       "[5 rows x 88 columns]"
      ]
     },
     "execution_count": 38,
     "metadata": {},
     "output_type": "execute_result"
    }
   ],
   "source": [
    "district_grouped = cambridge_onehot.groupby('District').mean().reset_index()\n",
    "print('Shape: ',district_grouped.shape)\n",
    "district_grouped.head()"
   ]
  },
  {
   "cell_type": "markdown",
   "metadata": {},
   "source": [
    "##### FUNCTION - Most Common Venues"
   ]
  },
  {
   "cell_type": "code",
   "execution_count": 39,
   "metadata": {},
   "outputs": [],
   "source": [
    "def return_most_common_venues(row, num_top_venues):\n",
    "    row_categories = row.iloc[1:]\n",
    "    row_categories_sorted = row_categories.sort_values(ascending=False)\n",
    "    \n",
    "    return row_categories_sorted.index.values[0:num_top_venues]"
   ]
  },
  {
   "cell_type": "markdown",
   "metadata": {},
   "source": [
    "##### Create a DataFrame to show the top 10 venues in each district"
   ]
  },
  {
   "cell_type": "code",
   "execution_count": 40,
   "metadata": {},
   "outputs": [
    {
     "data": {
      "text/html": [
       "<div>\n",
       "<style scoped>\n",
       "    .dataframe tbody tr th:only-of-type {\n",
       "        vertical-align: middle;\n",
       "    }\n",
       "\n",
       "    .dataframe tbody tr th {\n",
       "        vertical-align: top;\n",
       "    }\n",
       "\n",
       "    .dataframe thead th {\n",
       "        text-align: right;\n",
       "    }\n",
       "</style>\n",
       "<table border=\"1\" class=\"dataframe\">\n",
       "  <thead>\n",
       "    <tr style=\"text-align: right;\">\n",
       "      <th></th>\n",
       "      <th>District</th>\n",
       "      <th>1st Most Common Venue</th>\n",
       "      <th>2nd Most Common Venue</th>\n",
       "      <th>3rd Most Common Venue</th>\n",
       "      <th>4th Most Common Venue</th>\n",
       "      <th>5th Most Common Venue</th>\n",
       "      <th>6th Most Common Venue</th>\n",
       "      <th>7th Most Common Venue</th>\n",
       "      <th>8th Most Common Venue</th>\n",
       "      <th>9th Most Common Venue</th>\n",
       "      <th>10th Most Common Venue</th>\n",
       "    </tr>\n",
       "  </thead>\n",
       "  <tbody>\n",
       "    <tr>\n",
       "      <th>0</th>\n",
       "      <td>Abbey</td>\n",
       "      <td>Indian Restaurant</td>\n",
       "      <td>Bar</td>\n",
       "      <td>Gastropub</td>\n",
       "      <td>Fish &amp; Chips Shop</td>\n",
       "      <td>Fast Food Restaurant</td>\n",
       "      <td>Pizza Place</td>\n",
       "      <td>Soccer Stadium</td>\n",
       "      <td>Chinese Restaurant</td>\n",
       "      <td>Water Park</td>\n",
       "      <td>BBQ Joint</td>\n",
       "    </tr>\n",
       "    <tr>\n",
       "      <th>1</th>\n",
       "      <td>Arbury</td>\n",
       "      <td>Indian Restaurant</td>\n",
       "      <td>Pub</td>\n",
       "      <td>Speakeasy</td>\n",
       "      <td>Gastropub</td>\n",
       "      <td>Jazz Club</td>\n",
       "      <td>Nightclub</td>\n",
       "      <td>Dance Studio</td>\n",
       "      <td>Pizza Place</td>\n",
       "      <td>Sandwich Place</td>\n",
       "      <td>Chinese Restaurant</td>\n",
       "    </tr>\n",
       "    <tr>\n",
       "      <th>2</th>\n",
       "      <td>Castle</td>\n",
       "      <td>Public Art</td>\n",
       "      <td>Bar</td>\n",
       "      <td>Art Gallery</td>\n",
       "      <td>Pizza Place</td>\n",
       "      <td>Cricket Ground</td>\n",
       "      <td>Café</td>\n",
       "      <td>Speakeasy</td>\n",
       "      <td>Nightclub</td>\n",
       "      <td>Pub</td>\n",
       "      <td>Indian Restaurant</td>\n",
       "    </tr>\n",
       "    <tr>\n",
       "      <th>3</th>\n",
       "      <td>Cherry Hinton</td>\n",
       "      <td>Pub</td>\n",
       "      <td>Chinese Restaurant</td>\n",
       "      <td>Indian Restaurant</td>\n",
       "      <td>Gastropub</td>\n",
       "      <td>Pizza Place</td>\n",
       "      <td>Bakery</td>\n",
       "      <td>Restaurant</td>\n",
       "      <td>Dive Bar</td>\n",
       "      <td>Cricket Ground</td>\n",
       "      <td>Dance Studio</td>\n",
       "    </tr>\n",
       "    <tr>\n",
       "      <th>4</th>\n",
       "      <td>Coleridge</td>\n",
       "      <td>Chinese Restaurant</td>\n",
       "      <td>Pub</td>\n",
       "      <td>Indian Restaurant</td>\n",
       "      <td>Restaurant</td>\n",
       "      <td>Café</td>\n",
       "      <td>Pizza Place</td>\n",
       "      <td>Deli / Bodega</td>\n",
       "      <td>North Indian Restaurant</td>\n",
       "      <td>Comedy Club</td>\n",
       "      <td>Fish &amp; Chips Shop</td>\n",
       "    </tr>\n",
       "    <tr>\n",
       "      <th>5</th>\n",
       "      <td>East Chesterton</td>\n",
       "      <td>Indian Restaurant</td>\n",
       "      <td>Pub</td>\n",
       "      <td>Music Venue</td>\n",
       "      <td>Fast Food Restaurant</td>\n",
       "      <td>Beer Garden</td>\n",
       "      <td>Gastropub</td>\n",
       "      <td>Dive Bar</td>\n",
       "      <td>Cricket Ground</td>\n",
       "      <td>Historic Site</td>\n",
       "      <td>Dance Studio</td>\n",
       "    </tr>\n",
       "    <tr>\n",
       "      <th>6</th>\n",
       "      <td>Kings Hedges</td>\n",
       "      <td>Pub</td>\n",
       "      <td>Café</td>\n",
       "      <td>Asian Restaurant</td>\n",
       "      <td>Chinese Restaurant</td>\n",
       "      <td>Burger Joint</td>\n",
       "      <td>Music Venue</td>\n",
       "      <td>Arcade</td>\n",
       "      <td>Historic Site</td>\n",
       "      <td>Gay Bar</td>\n",
       "      <td>Gastropub</td>\n",
       "    </tr>\n",
       "    <tr>\n",
       "      <th>7</th>\n",
       "      <td>Market</td>\n",
       "      <td>Pub</td>\n",
       "      <td>Bar</td>\n",
       "      <td>Coffee Shop</td>\n",
       "      <td>Café</td>\n",
       "      <td>Art Gallery</td>\n",
       "      <td>Sushi Restaurant</td>\n",
       "      <td>Theater</td>\n",
       "      <td>Bakery</td>\n",
       "      <td>Restaurant</td>\n",
       "      <td>Breakfast Spot</td>\n",
       "    </tr>\n",
       "    <tr>\n",
       "      <th>8</th>\n",
       "      <td>Newnham</td>\n",
       "      <td>Pub</td>\n",
       "      <td>Café</td>\n",
       "      <td>Bar</td>\n",
       "      <td>Thai Restaurant</td>\n",
       "      <td>Restaurant</td>\n",
       "      <td>History Museum</td>\n",
       "      <td>Outdoor Sculpture</td>\n",
       "      <td>Butcher</td>\n",
       "      <td>Fish &amp; Chips Shop</td>\n",
       "      <td>Indian Restaurant</td>\n",
       "    </tr>\n",
       "    <tr>\n",
       "      <th>9</th>\n",
       "      <td>Petersfield</td>\n",
       "      <td>Pub</td>\n",
       "      <td>Café</td>\n",
       "      <td>Coffee Shop</td>\n",
       "      <td>Indian Restaurant</td>\n",
       "      <td>Bakery</td>\n",
       "      <td>Art Gallery</td>\n",
       "      <td>Chinese Restaurant</td>\n",
       "      <td>Public Art</td>\n",
       "      <td>Beer Garden</td>\n",
       "      <td>Fast Food Restaurant</td>\n",
       "    </tr>\n",
       "    <tr>\n",
       "      <th>10</th>\n",
       "      <td>Queen Ediths</td>\n",
       "      <td>Coffee Shop</td>\n",
       "      <td>Pub</td>\n",
       "      <td>Fast Food Restaurant</td>\n",
       "      <td>Historic Site</td>\n",
       "      <td>Dive Bar</td>\n",
       "      <td>Creperie</td>\n",
       "      <td>Cricket Ground</td>\n",
       "      <td>History Museum</td>\n",
       "      <td>Dance Studio</td>\n",
       "      <td>Deli / Bodega</td>\n",
       "    </tr>\n",
       "    <tr>\n",
       "      <th>11</th>\n",
       "      <td>Romsey</td>\n",
       "      <td>Café</td>\n",
       "      <td>Pub</td>\n",
       "      <td>Indian Restaurant</td>\n",
       "      <td>Arcade</td>\n",
       "      <td>Art Gallery</td>\n",
       "      <td>Sandwich Place</td>\n",
       "      <td>Deli / Bodega</td>\n",
       "      <td>Pool Hall</td>\n",
       "      <td>Gastropub</td>\n",
       "      <td>Seafood Restaurant</td>\n",
       "    </tr>\n",
       "    <tr>\n",
       "      <th>12</th>\n",
       "      <td>Trumpington</td>\n",
       "      <td>Pub</td>\n",
       "      <td>Chinese Restaurant</td>\n",
       "      <td>Fish &amp; Chips Shop</td>\n",
       "      <td>Café</td>\n",
       "      <td>Food Truck</td>\n",
       "      <td>Bar</td>\n",
       "      <td>Fast Food Restaurant</td>\n",
       "      <td>English Restaurant</td>\n",
       "      <td>Dance Studio</td>\n",
       "      <td>Deli / Bodega</td>\n",
       "    </tr>\n",
       "    <tr>\n",
       "      <th>13</th>\n",
       "      <td>West Chesterton</td>\n",
       "      <td>Chinese Restaurant</td>\n",
       "      <td>Pub</td>\n",
       "      <td>Café</td>\n",
       "      <td>Indian Restaurant</td>\n",
       "      <td>Nightclub</td>\n",
       "      <td>Coffee Shop</td>\n",
       "      <td>Bakery</td>\n",
       "      <td>General Entertainment</td>\n",
       "      <td>Sri Lankan Restaurant</td>\n",
       "      <td>Gastropub</td>\n",
       "    </tr>\n",
       "  </tbody>\n",
       "</table>\n",
       "</div>"
      ],
      "text/plain": [
       "           District 1st Most Common Venue 2nd Most Common Venue  \\\n",
       "0             Abbey     Indian Restaurant                   Bar   \n",
       "1            Arbury     Indian Restaurant                   Pub   \n",
       "2            Castle            Public Art                   Bar   \n",
       "3     Cherry Hinton                   Pub    Chinese Restaurant   \n",
       "4         Coleridge    Chinese Restaurant                   Pub   \n",
       "5   East Chesterton     Indian Restaurant                   Pub   \n",
       "6      Kings Hedges                   Pub                  Café   \n",
       "7            Market                   Pub                   Bar   \n",
       "8           Newnham                   Pub                  Café   \n",
       "9       Petersfield                   Pub                  Café   \n",
       "10     Queen Ediths           Coffee Shop                   Pub   \n",
       "11           Romsey                  Café                   Pub   \n",
       "12      Trumpington                   Pub    Chinese Restaurant   \n",
       "13  West Chesterton    Chinese Restaurant                   Pub   \n",
       "\n",
       "   3rd Most Common Venue 4th Most Common Venue 5th Most Common Venue  \\\n",
       "0              Gastropub     Fish & Chips Shop  Fast Food Restaurant   \n",
       "1              Speakeasy             Gastropub             Jazz Club   \n",
       "2            Art Gallery           Pizza Place        Cricket Ground   \n",
       "3      Indian Restaurant             Gastropub           Pizza Place   \n",
       "4      Indian Restaurant            Restaurant                  Café   \n",
       "5            Music Venue  Fast Food Restaurant           Beer Garden   \n",
       "6       Asian Restaurant    Chinese Restaurant          Burger Joint   \n",
       "7            Coffee Shop                  Café           Art Gallery   \n",
       "8                    Bar       Thai Restaurant            Restaurant   \n",
       "9            Coffee Shop     Indian Restaurant                Bakery   \n",
       "10  Fast Food Restaurant         Historic Site              Dive Bar   \n",
       "11     Indian Restaurant                Arcade           Art Gallery   \n",
       "12     Fish & Chips Shop                  Café            Food Truck   \n",
       "13                  Café     Indian Restaurant             Nightclub   \n",
       "\n",
       "   6th Most Common Venue 7th Most Common Venue    8th Most Common Venue  \\\n",
       "0            Pizza Place        Soccer Stadium       Chinese Restaurant   \n",
       "1              Nightclub          Dance Studio              Pizza Place   \n",
       "2                   Café             Speakeasy                Nightclub   \n",
       "3                 Bakery            Restaurant                 Dive Bar   \n",
       "4            Pizza Place         Deli / Bodega  North Indian Restaurant   \n",
       "5              Gastropub              Dive Bar           Cricket Ground   \n",
       "6            Music Venue                Arcade            Historic Site   \n",
       "7       Sushi Restaurant               Theater                   Bakery   \n",
       "8         History Museum     Outdoor Sculpture                  Butcher   \n",
       "9            Art Gallery    Chinese Restaurant               Public Art   \n",
       "10              Creperie        Cricket Ground           History Museum   \n",
       "11        Sandwich Place         Deli / Bodega                Pool Hall   \n",
       "12                   Bar  Fast Food Restaurant       English Restaurant   \n",
       "13           Coffee Shop                Bakery    General Entertainment   \n",
       "\n",
       "    9th Most Common Venue 10th Most Common Venue  \n",
       "0              Water Park              BBQ Joint  \n",
       "1          Sandwich Place     Chinese Restaurant  \n",
       "2                     Pub      Indian Restaurant  \n",
       "3          Cricket Ground           Dance Studio  \n",
       "4             Comedy Club      Fish & Chips Shop  \n",
       "5           Historic Site           Dance Studio  \n",
       "6                 Gay Bar              Gastropub  \n",
       "7              Restaurant         Breakfast Spot  \n",
       "8       Fish & Chips Shop      Indian Restaurant  \n",
       "9             Beer Garden   Fast Food Restaurant  \n",
       "10           Dance Studio          Deli / Bodega  \n",
       "11              Gastropub     Seafood Restaurant  \n",
       "12           Dance Studio          Deli / Bodega  \n",
       "13  Sri Lankan Restaurant              Gastropub  "
      ]
     },
     "execution_count": 40,
     "metadata": {},
     "output_type": "execute_result"
    }
   ],
   "source": [
    "num_top_venues = 10\n",
    "\n",
    "indicators = ['st', 'nd', 'rd']\n",
    "\n",
    "# create columns according to number of top venues\n",
    "columns = ['District']\n",
    "for ind in np.arange(num_top_venues):\n",
    "    try:\n",
    "        columns.append('{}{} Most Common Venue'.format(ind+1, indicators[ind]))\n",
    "    except:\n",
    "        columns.append('{}th Most Common Venue'.format(ind+1))\n",
    "\n",
    "# create a new dataframe\n",
    "district_venues_sorted = pd.DataFrame(columns=columns)\n",
    "district_venues_sorted['District'] = district_grouped['District']\n",
    "\n",
    "for ind in np.arange(district_grouped.shape[0]):\n",
    "    district_venues_sorted.iloc[ind, 1:] = return_most_common_venues(district_grouped.iloc[ind, :], num_top_venues)\n",
    "\n",
    "district_venues_sorted"
   ]
  },
  {
   "cell_type": "markdown",
   "metadata": {},
   "source": [
    "From the dataframe we can see that Pub is the 1st or 2nd most popular venue in 12 of the 14 districts."
   ]
  },
  {
   "cell_type": "markdown",
   "metadata": {},
   "source": [
    "<div style=\"background-color:#769fcd;color:#FFFFFF;padding:15px;\">\n",
    "<h2>3. Methodology</h2><a name=\"methods\"></a>\n",
    "</div>"
   ]
  },
  {
   "cell_type": "markdown",
   "metadata": {},
   "source": [
    "Now that we have gathered the data from scraping, and from our geojson file we can start to analyise the results.<br>Data gathered in the **Data</a>** section includes:\n",
    "* Districts\n",
    "* Centroid locations for Districts\n",
    "* DataFrame for **Restaurants** within each District within **500m** of centroid\n",
    "* DataFrame for **Entertainment** within each District within **500m** of centroid\n",
    "* DataFrame for **Latin American** restaurants within each District within **500m** of centroid\n",
    "\n",
    "Our **goal** is to find the districts where there are **no Latin American restaurants** and a **populous nightlife**.\n",
    "\n",
    "In the **analysis** section we will use the following methods:\n",
    "* **Clustering** using **K-Means** our districts using the data we have for the restaurants and entertainment venues within the sample that we have taken for each district. The samples consists of all restaurants and entertainment within a 500 metre radius of the centroid location.\n",
    "* **Scatter Plot** using to show the correlation between restaurant and entertainment venues.\n",
    "* **Show** that Cambridge fits into the same popular restaurant types as the rest of the UK.\n",
    "* **DBSCAN Clustering** will be used to find clusters in entertainment venues within a district.\n",
    "\n",
    "The final product of the research will be to provide an address for each district which is similar to the cluster of **Petersfield** and **Romsey** where there are already successful **Latin American** restaurants. The address will be located in the centre of the entertainment venues and not within **1km** of a competing **Latin American** restaurant."
   ]
  },
  {
   "cell_type": "markdown",
   "metadata": {},
   "source": [
    "[Back to Contents](#contents)"
   ]
  },
  {
   "cell_type": "markdown",
   "metadata": {},
   "source": [
    "<div style=\"background-color:#769fcd;color:#FFFFFF;padding:15px;\">\n",
    "<h2>4. Analysis</h2><a name=\"analysis\"></a>\n",
    "</div>"
   ]
  },
  {
   "cell_type": "markdown",
   "metadata": {},
   "source": [
    "<p>In this section we hope to use our analysis to show suitable locations for the **Peruvian Restaurant**.</p>\n",
    "<p>To start with we will cluster the districts into similar clusters using **K-Means**.<p>\n",
    "<p>After that we will see if there is a **correlation** between the frequency of restaurants and entertainment venues.</p>\n",
    "<p>Following on from that using **DBSCAN** we will find the cluster with the densest entertainment venues within the 3 districts that we have chosen to look into. This will be used later to find the ideal location for the restaurant. The clustering will use the **Latitude and Longitude** of the entertainment venues<p>\n",
    "<p>Then we will confirm that **Cambridge** does follow the normal trend in most popular restaurants compared to the **UK**.\n",
    "<p>Lastly the final anaylsis will be to find the ideal locations, we will get the mean of the most popular clusters from the **DBSCAN** step. This will get us a centralised latitude and longitude for the cluster, then we will need to confirm that this is not within a **1km** radius of any other **Latin American** restaurant.</p>"
   ]
  },
  {
   "cell_type": "markdown",
   "metadata": {},
   "source": [
    "### Cluster K-Means - Districts"
   ]
  },
  {
   "cell_type": "code",
   "execution_count": 41,
   "metadata": {},
   "outputs": [
    {
     "data": {
      "text/plain": [
       "array([0, 0, 3, 0, 0, 2, 4, 3, 3, 3])"
      ]
     },
     "execution_count": 41,
     "metadata": {},
     "output_type": "execute_result"
    }
   ],
   "source": [
    "from sklearn.cluster import KMeans\n",
    "\n",
    "# set number of clusters\n",
    "kclusters = 5\n",
    "\n",
    "district_grouped_clustering = district_grouped.drop('District', 1)\n",
    "X = np.array(district_grouped_clustering)\n",
    "\n",
    "# run k-means clustering\n",
    "kmeans = KMeans(n_clusters=kclusters, random_state=0).fit(district_grouped_clustering)\n",
    "\n",
    "# check cluster labels generated for each row in the dataframe\n",
    "kmeans.labels_[0:10] "
   ]
  },
  {
   "cell_type": "code",
   "execution_count": 42,
   "metadata": {},
   "outputs": [
    {
     "data": {
      "text/html": [
       "<div>\n",
       "<style scoped>\n",
       "    .dataframe tbody tr th:only-of-type {\n",
       "        vertical-align: middle;\n",
       "    }\n",
       "\n",
       "    .dataframe tbody tr th {\n",
       "        vertical-align: top;\n",
       "    }\n",
       "\n",
       "    .dataframe thead th {\n",
       "        text-align: right;\n",
       "    }\n",
       "</style>\n",
       "<table border=\"1\" class=\"dataframe\">\n",
       "  <thead>\n",
       "    <tr style=\"text-align: right;\">\n",
       "      <th></th>\n",
       "      <th>District</th>\n",
       "      <th>Latitude</th>\n",
       "      <th>Longitude</th>\n",
       "    </tr>\n",
       "  </thead>\n",
       "  <tbody>\n",
       "    <tr>\n",
       "      <th>0</th>\n",
       "      <td>Abbey</td>\n",
       "      <td>52.212400</td>\n",
       "      <td>0.161300</td>\n",
       "    </tr>\n",
       "    <tr>\n",
       "      <th>1</th>\n",
       "      <td>Arbury</td>\n",
       "      <td>52.218995</td>\n",
       "      <td>0.115557</td>\n",
       "    </tr>\n",
       "    <tr>\n",
       "      <th>2</th>\n",
       "      <td>Castle</td>\n",
       "      <td>52.214867</td>\n",
       "      <td>0.102719</td>\n",
       "    </tr>\n",
       "    <tr>\n",
       "      <th>3</th>\n",
       "      <td>Cherry Hinton</td>\n",
       "      <td>52.187200</td>\n",
       "      <td>0.176400</td>\n",
       "    </tr>\n",
       "    <tr>\n",
       "      <th>4</th>\n",
       "      <td>Coleridge</td>\n",
       "      <td>52.189603</td>\n",
       "      <td>0.153449</td>\n",
       "    </tr>\n",
       "    <tr>\n",
       "      <th>5</th>\n",
       "      <td>East Chesterton</td>\n",
       "      <td>52.222032</td>\n",
       "      <td>0.147264</td>\n",
       "    </tr>\n",
       "    <tr>\n",
       "      <th>6</th>\n",
       "      <td>Kings Hedges</td>\n",
       "      <td>52.227185</td>\n",
       "      <td>0.134992</td>\n",
       "    </tr>\n",
       "    <tr>\n",
       "      <th>7</th>\n",
       "      <td>Market</td>\n",
       "      <td>52.206392</td>\n",
       "      <td>0.124482</td>\n",
       "    </tr>\n",
       "    <tr>\n",
       "      <th>8</th>\n",
       "      <td>Newnham</td>\n",
       "      <td>52.197000</td>\n",
       "      <td>0.106800</td>\n",
       "    </tr>\n",
       "    <tr>\n",
       "      <th>9</th>\n",
       "      <td>Petersfield</td>\n",
       "      <td>52.202698</td>\n",
       "      <td>0.136138</td>\n",
       "    </tr>\n",
       "    <tr>\n",
       "      <th>10</th>\n",
       "      <td>Queen Ediths</td>\n",
       "      <td>52.180781</td>\n",
       "      <td>0.151196</td>\n",
       "    </tr>\n",
       "    <tr>\n",
       "      <th>11</th>\n",
       "      <td>Romsey</td>\n",
       "      <td>52.197200</td>\n",
       "      <td>0.146300</td>\n",
       "    </tr>\n",
       "    <tr>\n",
       "      <th>12</th>\n",
       "      <td>Trumpington</td>\n",
       "      <td>52.173400</td>\n",
       "      <td>0.113100</td>\n",
       "    </tr>\n",
       "    <tr>\n",
       "      <th>13</th>\n",
       "      <td>West Chesterton</td>\n",
       "      <td>52.217487</td>\n",
       "      <td>0.129307</td>\n",
       "    </tr>\n",
       "  </tbody>\n",
       "</table>\n",
       "</div>"
      ],
      "text/plain": [
       "           District   Latitude  Longitude\n",
       "0             Abbey  52.212400   0.161300\n",
       "1            Arbury  52.218995   0.115557\n",
       "2            Castle  52.214867   0.102719\n",
       "3     Cherry Hinton  52.187200   0.176400\n",
       "4         Coleridge  52.189603   0.153449\n",
       "5   East Chesterton  52.222032   0.147264\n",
       "6      Kings Hedges  52.227185   0.134992\n",
       "7            Market  52.206392   0.124482\n",
       "8           Newnham  52.197000   0.106800\n",
       "9       Petersfield  52.202698   0.136138\n",
       "10     Queen Ediths  52.180781   0.151196\n",
       "11           Romsey  52.197200   0.146300\n",
       "12      Trumpington  52.173400   0.113100\n",
       "13  West Chesterton  52.217487   0.129307"
      ]
     },
     "execution_count": 42,
     "metadata": {},
     "output_type": "execute_result"
    }
   ],
   "source": [
    "df_district"
   ]
  },
  {
   "cell_type": "code",
   "execution_count": 44,
   "metadata": {},
   "outputs": [],
   "source": [
    "# add clustering labels\n",
    "try:\n",
    "    df_district.insert(0, 'Cluster Labels', kmeans.labels_)\n",
    "except:\n",
    "    df_district.drop(columns=['Cluster Labels'], inplace=True)\n",
    "    df_district.insert(0, 'Cluster Labels', kmeans.labels_)"
   ]
  },
  {
   "cell_type": "code",
   "execution_count": 45,
   "metadata": {
    "scrolled": false
   },
   "outputs": [
    {
     "data": {
      "text/html": [
       "<div style=\"width:100%;\"><div style=\"position:relative;width:100%;height:0;padding-bottom:60%;\"><span style=\"color:#565656\">Make this Notebook Trusted to load map: File -> Trust Notebook</span><iframe src=\"about:blank\" style=\"position:absolute;width:100%;height:100%;left:0;top:0;border:none !important;\" data-html=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 onload=\"this.contentDocument.open();this.contentDocument.write(atob(this.getAttribute('data-html')));this.contentDocument.close();\" allowfullscreen webkitallowfullscreen mozallowfullscreen></iframe></div></div>"
      ],
      "text/plain": [
       "<folium.folium.Map at 0x27472c55898>"
      ]
     },
     "metadata": {},
     "output_type": "display_data"
    }
   ],
   "source": [
    "# create map\n",
    "map_clusters = folium.Map(location=[city_latitude, city_longitude], zoom_start=12)\n",
    "\n",
    "# set color scheme for the clusters\n",
    "rainbow = ['#00aaff','#4c00ff','#ea00ff','#ff0080','#ff0000']\n",
    "\n",
    "# add markers to the map\n",
    "markers_colors = []\n",
    "for lat, lon, poi, cluster in zip(df_district['Latitude'], df_district['Longitude'], df_district['District'], df_district['Cluster Labels']):\n",
    "    label = folium.Popup(str(poi) + ' Cluster ' + str(cluster), parse_html=True)\n",
    "    tooltip = 'Name: {},<br>Cluster: {}'.format(str(poi),str(cluster))\n",
    "    folium.Circle(\n",
    "        [lat, lon],\n",
    "        radius=700,\n",
    "        popup=label,\n",
    "        tooltip=tooltip,\n",
    "        color=rainbow[cluster-1],\n",
    "        fill=True,\n",
    "        fill_color=rainbow[cluster-1],\n",
    "        fill_opacity=0.7).add_to(map_clusters)\n",
    "       \n",
    "display(map_clusters)"
   ]
  },
  {
   "cell_type": "markdown",
   "metadata": {},
   "source": [
    "#### Cluster Anaylsis\n",
    "\n",
    "We suggested earlier that the restaurant would be suited in an area similar to **Petersfield** or **Romsey**. Looking at the clusters the following clusters would suit the new restaurant.\n",
    "* Market\n",
    "* Castle\n",
    "* Newnham\n",
    "    \n",
    "These areas have similar restaurants and entertainment venues.\n",
    "\n",
    "In the anaylsis section we will find suitable locations within these districts, using locality to entertainment venues."
   ]
  },
  {
   "cell_type": "markdown",
   "metadata": {},
   "source": [
    "### Correlation between Restaurants and Entertainment venues?\n",
    "\n",
    "* Create a groupby dataframe for restaurants and another for entertainment.\n",
    "* Display a horizontal barchart showing both values for each district."
   ]
  },
  {
   "cell_type": "code",
   "execution_count": 31,
   "metadata": {},
   "outputs": [],
   "source": [
    "df_ent_group = district_entertain_update.groupby('District').count()\n",
    "df_ent_group.reset_index(inplace=True)\n",
    "df_rest_group = district_venues_update.groupby('District').count()\n",
    "df_rest_group.reset_index(inplace=True)"
   ]
  },
  {
   "cell_type": "code",
   "execution_count": 32,
   "metadata": {},
   "outputs": [
    {
     "data": {
      "image/png": "[encoded data removed]",
      "text/plain": [
       "<Figure size 1440x1440 with 1 Axes>"
      ]
     },
     "metadata": {},
     "output_type": "display_data"
    }
   ],
   "source": [
    "rest = np.array(df_rest_group['Venue'])\n",
    "ent = np.array(df_ent_group['Venue'])\n",
    "index = df_rest_group['District']\n",
    "\n",
    "# Create horizontal barchart\n",
    "df = pd.DataFrame({'Restaurant': rest,'Entertainment': ent}, index=index)\n",
    "ax = df.plot.barh(figsize=(20,20))\n",
    "ax.legend(loc=1, prop={'size': 20})\n",
    "ax.tick_params(axis='both', which='major', labelsize=20)"
   ]
  },
  {
   "cell_type": "markdown",
   "metadata": {},
   "source": [
    "There is a clear correlation between entertainment venues and restaurants."
   ]
  },
  {
   "cell_type": "markdown",
   "metadata": {},
   "source": [
    "#### Create a scatter plot to show the correlation and Linear Regression"
   ]
  },
  {
   "cell_type": "code",
   "execution_count": 33,
   "metadata": {},
   "outputs": [
    {
     "data": {
      "text/plain": [
       "<seaborn.axisgrid.FacetGrid at 0x27470bfb278>"
      ]
     },
     "execution_count": 33,
     "metadata": {},
     "output_type": "execute_result"
    },
    {
     "data": {
      "image/png": "[encoded data removed]",
      "text/plain": [
       "<Figure size 360x360 with 1 Axes>"
      ]
     },
     "metadata": {},
     "output_type": "display_data"
    }
   ],
   "source": [
    "df_scatter = pd.merge(left=df_rest_group, right=df_ent_group, left_on='District', right_on='District')\n",
    "df_scatter.drop(columns=['Venue Latitude_x','Venue Longitude_x','Venue Category_x','Venue Latitude_y','Venue Longitude_y','Venue Category_y'], inplace=True)\n",
    "df_scatter.columns = ['District','Restaurant','Entertainment']\n",
    "\n",
    "sns.lmplot(x=\"Restaurant\", y=\"Entertainment\", data=df_scatter)"
   ]
  },
  {
   "cell_type": "markdown",
   "metadata": {},
   "source": [
    "### Cluster DBSCAN Scatter Plot - Using Latitude & Longitude"
   ]
  },
  {
   "cell_type": "markdown",
   "metadata": {},
   "source": [
    "Firstly we will use a scatter plot to find the density of entertainment venues according to Latitude and Longitude.\n",
    "This will help us to find the areas with the most venues. To display the clusters we will use the DBSCAN method.\n",
    "\n",
    "Using a scatter plot we will show the density clusters of districts that are simiar to other districts with Latin American restaurants. We got this information from the K-Means clustering used to assign Districts into similar clusters using the restaurants and entertainment venues.\n",
    "* Market\n",
    "* Castle\n",
    "* Newnham"
   ]
  },
  {
   "cell_type": "markdown",
   "metadata": {},
   "source": [
    "##### FUNCTION - Create Scatter Plot Cluster"
   ]
  },
  {
   "cell_type": "code",
   "execution_count": 215,
   "metadata": {},
   "outputs": [],
   "source": [
    "def create_scatter_cluster(x,y,title,x_label,y_label,cl,cm):\n",
    "    plt.figure(figsize=(8, 8))\n",
    "    plt.scatter(x, y, c=cl, cmap=cm)\n",
    "    plt.title(title)\n",
    "    plt.xlabel(x_label)\n",
    "    plt.ylabel(y_label)\n",
    "    plt.grid(True, linewidth=0.5, alpha=0.5)\n",
    "    plt.show()"
   ]
  },
  {
   "cell_type": "markdown",
   "metadata": {},
   "source": [
    "#### DBSCAN Plot - Market District"
   ]
  },
  {
   "cell_type": "code",
   "execution_count": 216,
   "metadata": {},
   "outputs": [],
   "source": [
    "from sklearn.cluster import DBSCAN\n",
    "from sklearn.preprocessing import StandardScaler"
   ]
  },
  {
   "cell_type": "code",
   "execution_count": 256,
   "metadata": {
    "scrolled": false
   },
   "outputs": [],
   "source": [
    "# get the Latitude and Longitude\n",
    "df_market = district_entertain_update[district_entertain_update['District'] == 'Market']\n",
    "\n",
    "# Create arrays for Latitude and Longitude for Market\n",
    "mkt_y = np.array(df_market['Venue Latitude'])\n",
    "mkt_x = np.array(df_market['Venue Longitude'])\n",
    "\n",
    "# Combine both arrays into one stacked array.\n",
    "mkt_X = np.stack((mkt_x,mkt_y), axis=1)"
   ]
  },
  {
   "cell_type": "code",
   "execution_count": 286,
   "metadata": {},
   "outputs": [
    {
     "data": {
      "image/png": "[encoded data removed]",
      "text/plain": [
       "<Figure size 576x576 with 1 Axes>"
      ]
     },
     "metadata": {},
     "output_type": "display_data"
    }
   ],
   "source": [
    "# Normalise the co-ordinates\n",
    "mkt_scaler = StandardScaler()\n",
    "mkt_X_scaled = mkt_scaler.fit_transform(mkt_X)\n",
    "\n",
    "# Cluster using DBSCAN\n",
    "mkt_clustering = DBSCAN(eps=0.7, min_samples=3)\n",
    "mkt_clusters = mkt_clustering.fit_predict(mkt_X_scaled)\n",
    "\n",
    "# Show plot of Market and DBSCAN\n",
    "create_scatter_cluster(mkt_X[:,0],mkt_X[:,1],'DBSCAN - Market','Longitude','Latitude',mkt_clusters,'Wistia')"
   ]
  },
  {
   "cell_type": "code",
   "execution_count": 287,
   "metadata": {},
   "outputs": [
    {
     "name": "stderr",
     "output_type": "stream",
     "text": [
      "C:\\Program Files (x86)\\Microsoft Visual Studio\\Shared\\Anaconda3_64\\lib\\site-packages\\ipykernel_launcher.py:2: SettingWithCopyWarning: \n",
      "A value is trying to be set on a copy of a slice from a DataFrame.\n",
      "Try using .loc[row_indexer,col_indexer] = value instead\n",
      "\n",
      "See the caveats in the documentation: http://pandas.pydata.org/pandas-docs/stable/indexing.html#indexing-view-versus-copy\n",
      "  \n"
     ]
    },
    {
     "data": {
      "text/html": [
       "<div>\n",
       "<style scoped>\n",
       "    .dataframe tbody tr th:only-of-type {\n",
       "        vertical-align: middle;\n",
       "    }\n",
       "\n",
       "    .dataframe tbody tr th {\n",
       "        vertical-align: top;\n",
       "    }\n",
       "\n",
       "    .dataframe thead th {\n",
       "        text-align: right;\n",
       "    }\n",
       "</style>\n",
       "<table border=\"1\" class=\"dataframe\">\n",
       "  <thead>\n",
       "    <tr style=\"text-align: right;\">\n",
       "      <th></th>\n",
       "      <th>District</th>\n",
       "      <th>Venue</th>\n",
       "      <th>Venue Latitude</th>\n",
       "      <th>Venue Longitude</th>\n",
       "      <th>Venue Category</th>\n",
       "    </tr>\n",
       "    <tr>\n",
       "      <th>Scatter</th>\n",
       "      <th></th>\n",
       "      <th></th>\n",
       "      <th></th>\n",
       "      <th></th>\n",
       "      <th></th>\n",
       "    </tr>\n",
       "  </thead>\n",
       "  <tbody>\n",
       "    <tr>\n",
       "      <th>-1</th>\n",
       "      <td>2</td>\n",
       "      <td>2</td>\n",
       "      <td>2</td>\n",
       "      <td>2</td>\n",
       "      <td>2</td>\n",
       "    </tr>\n",
       "    <tr>\n",
       "      <th>0</th>\n",
       "      <td>28</td>\n",
       "      <td>28</td>\n",
       "      <td>28</td>\n",
       "      <td>28</td>\n",
       "      <td>28</td>\n",
       "    </tr>\n",
       "    <tr>\n",
       "      <th>1</th>\n",
       "      <td>4</td>\n",
       "      <td>4</td>\n",
       "      <td>4</td>\n",
       "      <td>4</td>\n",
       "      <td>4</td>\n",
       "    </tr>\n",
       "    <tr>\n",
       "      <th>2</th>\n",
       "      <td>12</td>\n",
       "      <td>12</td>\n",
       "      <td>12</td>\n",
       "      <td>12</td>\n",
       "      <td>12</td>\n",
       "    </tr>\n",
       "  </tbody>\n",
       "</table>\n",
       "</div>"
      ],
      "text/plain": [
       "         District  Venue  Venue Latitude  Venue Longitude  Venue Category\n",
       "Scatter                                                                  \n",
       "-1              2      2               2                2               2\n",
       " 0             28     28              28               28              28\n",
       " 1              4      4               4                4               4\n",
       " 2             12     12              12               12              12"
      ]
     },
     "execution_count": 287,
     "metadata": {},
     "output_type": "execute_result"
    }
   ],
   "source": [
    "try:\n",
    "    df_market['Scatter'] = mkt_clusters\n",
    "except:\n",
    "    df_market.drop(['Scatter'],inplace=True)\n",
    "    df_market['Scatter'] = mkt_clusters\n",
    "\n",
    "df_market.groupby('Scatter').count()"
   ]
  },
  {
   "cell_type": "markdown",
   "metadata": {},
   "source": [
    "We can see from the scatter plot above that the most populous area in **Market** is **Scatter 0**.<br>\n",
    "For this DBSCAN we had to reduce the eps value from 1 (as used on other DBSCAN's below), this was due to difference in proximity of locations in **Market**.<br>\n",
    "In the next section we will use locations from **Scatter 0** to locate the perfect latitude and longitude for a restaurant in this area."
   ]
  },
  {
   "cell_type": "markdown",
   "metadata": {},
   "source": [
    "#### DBCAN Plot - Castle"
   ]
  },
  {
   "cell_type": "code",
   "execution_count": 226,
   "metadata": {},
   "outputs": [],
   "source": [
    "# get the Latitude and Longitude\n",
    "df_castle = district_entertain_update[district_entertain_update['District'] == 'Castle']\n",
    "\n",
    "# Create arrays for Latitude and Longitude for Castle\n",
    "cst_y = np.array(df_castle['Venue Latitude'])\n",
    "cst_x = np.array(df_castle['Venue Longitude'])\n",
    "\n",
    "# Combine both arrays into one stacked array.\n",
    "cst_X = np.stack((cst_x,cst_y), axis=1)"
   ]
  },
  {
   "cell_type": "code",
   "execution_count": 259,
   "metadata": {
    "scrolled": false
   },
   "outputs": [
    {
     "data": {
      "image/png": "[encoded data removed]",
      "text/plain": [
       "<Figure size 576x576 with 1 Axes>"
      ]
     },
     "metadata": {},
     "output_type": "display_data"
    }
   ],
   "source": [
    "# Normalise the co-ordinates\n",
    "cst_scaler = StandardScaler()\n",
    "cst_X_scaled = cst_scaler.fit_transform(cst_X)\n",
    "\n",
    "# Cluster using DBSCAN\n",
    "cst_clustering = DBSCAN(eps=1, min_samples=3)\n",
    "cst_clusters = cst_clustering.fit_predict(cst_X_scaled)\n",
    "\n",
    "# Show plot of Market and DBSCAN\n",
    "create_scatter_cluster(cst_X[:,0],cst_X[:,1],'DBSCAN - Castle','Longitude','Latitude',cst_clusters,'Wistia')"
   ]
  },
  {
   "cell_type": "code",
   "execution_count": 260,
   "metadata": {},
   "outputs": [
    {
     "name": "stderr",
     "output_type": "stream",
     "text": [
      "C:\\Program Files (x86)\\Microsoft Visual Studio\\Shared\\Anaconda3_64\\lib\\site-packages\\ipykernel_launcher.py:2: SettingWithCopyWarning: \n",
      "A value is trying to be set on a copy of a slice from a DataFrame.\n",
      "Try using .loc[row_indexer,col_indexer] = value instead\n",
      "\n",
      "See the caveats in the documentation: http://pandas.pydata.org/pandas-docs/stable/indexing.html#indexing-view-versus-copy\n",
      "  \n"
     ]
    },
    {
     "data": {
      "text/html": [
       "<div>\n",
       "<style scoped>\n",
       "    .dataframe tbody tr th:only-of-type {\n",
       "        vertical-align: middle;\n",
       "    }\n",
       "\n",
       "    .dataframe tbody tr th {\n",
       "        vertical-align: top;\n",
       "    }\n",
       "\n",
       "    .dataframe thead th {\n",
       "        text-align: right;\n",
       "    }\n",
       "</style>\n",
       "<table border=\"1\" class=\"dataframe\">\n",
       "  <thead>\n",
       "    <tr style=\"text-align: right;\">\n",
       "      <th></th>\n",
       "      <th>District</th>\n",
       "      <th>Venue</th>\n",
       "      <th>Venue Latitude</th>\n",
       "      <th>Venue Longitude</th>\n",
       "      <th>Venue Category</th>\n",
       "    </tr>\n",
       "    <tr>\n",
       "      <th>Scatter</th>\n",
       "      <th></th>\n",
       "      <th></th>\n",
       "      <th></th>\n",
       "      <th></th>\n",
       "      <th></th>\n",
       "    </tr>\n",
       "  </thead>\n",
       "  <tbody>\n",
       "    <tr>\n",
       "      <th>-1</th>\n",
       "      <td>2</td>\n",
       "      <td>2</td>\n",
       "      <td>2</td>\n",
       "      <td>2</td>\n",
       "      <td>2</td>\n",
       "    </tr>\n",
       "    <tr>\n",
       "      <th>0</th>\n",
       "      <td>4</td>\n",
       "      <td>4</td>\n",
       "      <td>4</td>\n",
       "      <td>4</td>\n",
       "      <td>4</td>\n",
       "    </tr>\n",
       "    <tr>\n",
       "      <th>1</th>\n",
       "      <td>9</td>\n",
       "      <td>9</td>\n",
       "      <td>9</td>\n",
       "      <td>9</td>\n",
       "      <td>9</td>\n",
       "    </tr>\n",
       "  </tbody>\n",
       "</table>\n",
       "</div>"
      ],
      "text/plain": [
       "         District  Venue  Venue Latitude  Venue Longitude  Venue Category\n",
       "Scatter                                                                  \n",
       "-1              2      2               2                2               2\n",
       " 0              4      4               4                4               4\n",
       " 1              9      9               9                9               9"
      ]
     },
     "execution_count": 260,
     "metadata": {},
     "output_type": "execute_result"
    }
   ],
   "source": [
    "try:\n",
    "    df_castle['Scatter'] = cst_clusters\n",
    "except:\n",
    "    df_castle.drop(['Scatter'],inplace=True)\n",
    "    df_castle['Scatter'] = cst_clusters\n",
    "\n",
    "df_castle.groupby('Scatter').count()"
   ]
  },
  {
   "cell_type": "markdown",
   "metadata": {},
   "source": [
    "We can see from the scatter plot above that the most populous area in **Castle** is **Scatter 1**. In the next section we will use locations from **Scatter 1** to locate the perfect latitude and longitude for a restaurant in this area."
   ]
  },
  {
   "cell_type": "markdown",
   "metadata": {},
   "source": [
    "#### Scatter Plot - Newnham"
   ]
  },
  {
   "cell_type": "code",
   "execution_count": 236,
   "metadata": {},
   "outputs": [],
   "source": [
    "# get the Latitude and Longitude\n",
    "df_newnham = district_entertain_update[district_entertain_update['District'] == 'Newnham']\n",
    "\n",
    "# Create arrays for Latitude and Longitude for Newnham\n",
    "new_y = np.array(df_newnham['Venue Latitude'])\n",
    "new_x = np.array(df_newnham['Venue Longitude'])\n",
    "\n",
    "# Combine both arrays into one stacked array.\n",
    "new_X = np.stack((new_x,new_y), axis=1)"
   ]
  },
  {
   "cell_type": "code",
   "execution_count": 252,
   "metadata": {
    "scrolled": false
   },
   "outputs": [
    {
     "data": {
      "image/png": "[encoded data removed]",
      "text/plain": [
       "<Figure size 576x576 with 1 Axes>"
      ]
     },
     "metadata": {},
     "output_type": "display_data"
    }
   ],
   "source": [
    "# Normalise the co-ordinates\n",
    "new_scaler = StandardScaler()\n",
    "new_X_scaled = new_scaler.fit_transform(new_X)\n",
    "\n",
    "# Cluster using DBSCAN\n",
    "new_clustering = DBSCAN(eps=1, min_samples=3)\n",
    "new_clusters = new_clustering.fit_predict(new_X_scaled)\n",
    "\n",
    "# Show plot of Market and DBSCAN\n",
    "create_scatter_cluster(new_X[:,0],new_X[:,1],'DBSCAN - Castle','Longitude','Latitude',new_clusters,'Wistia')"
   ]
  },
  {
   "cell_type": "code",
   "execution_count": 254,
   "metadata": {
    "scrolled": true
   },
   "outputs": [
    {
     "name": "stderr",
     "output_type": "stream",
     "text": [
      "C:\\Program Files (x86)\\Microsoft Visual Studio\\Shared\\Anaconda3_64\\lib\\site-packages\\ipykernel_launcher.py:2: SettingWithCopyWarning: \n",
      "A value is trying to be set on a copy of a slice from a DataFrame.\n",
      "Try using .loc[row_indexer,col_indexer] = value instead\n",
      "\n",
      "See the caveats in the documentation: http://pandas.pydata.org/pandas-docs/stable/indexing.html#indexing-view-versus-copy\n",
      "  \n"
     ]
    },
    {
     "data": {
      "text/html": [
       "<div>\n",
       "<style scoped>\n",
       "    .dataframe tbody tr th:only-of-type {\n",
       "        vertical-align: middle;\n",
       "    }\n",
       "\n",
       "    .dataframe tbody tr th {\n",
       "        vertical-align: top;\n",
       "    }\n",
       "\n",
       "    .dataframe thead th {\n",
       "        text-align: right;\n",
       "    }\n",
       "</style>\n",
       "<table border=\"1\" class=\"dataframe\">\n",
       "  <thead>\n",
       "    <tr style=\"text-align: right;\">\n",
       "      <th></th>\n",
       "      <th>District</th>\n",
       "      <th>Venue</th>\n",
       "      <th>Venue Latitude</th>\n",
       "      <th>Venue Longitude</th>\n",
       "      <th>Venue Category</th>\n",
       "    </tr>\n",
       "    <tr>\n",
       "      <th>Scatter</th>\n",
       "      <th></th>\n",
       "      <th></th>\n",
       "      <th></th>\n",
       "      <th></th>\n",
       "      <th></th>\n",
       "    </tr>\n",
       "  </thead>\n",
       "  <tbody>\n",
       "    <tr>\n",
       "      <th>-1</th>\n",
       "      <td>3</td>\n",
       "      <td>3</td>\n",
       "      <td>3</td>\n",
       "      <td>3</td>\n",
       "      <td>3</td>\n",
       "    </tr>\n",
       "    <tr>\n",
       "      <th>0</th>\n",
       "      <td>4</td>\n",
       "      <td>4</td>\n",
       "      <td>4</td>\n",
       "      <td>4</td>\n",
       "      <td>4</td>\n",
       "    </tr>\n",
       "  </tbody>\n",
       "</table>\n",
       "</div>"
      ],
      "text/plain": [
       "         District  Venue  Venue Latitude  Venue Longitude  Venue Category\n",
       "Scatter                                                                  \n",
       "-1              3      3               3                3               3\n",
       " 0              4      4               4                4               4"
      ]
     },
     "execution_count": 254,
     "metadata": {},
     "output_type": "execute_result"
    }
   ],
   "source": [
    "try:\n",
    "    df_newnham['Scatter'] = new_clusters\n",
    "except:\n",
    "    df_newnham.drop(['Scatter'],inplace=True)\n",
    "    df_newnham['Scatter'] = new_clusters\n",
    "\n",
    "df_newnham.groupby('Scatter').count()"
   ]
  },
  {
   "cell_type": "markdown",
   "metadata": {},
   "source": [
    "We can see from the scatter plot above that the most populous area in **Newnham** is **Scatter 0**. In the next section we will use locations from **Scatter 0** to locate the perfect latitude and longitude for a restaurant in this area."
   ]
  },
  {
   "cell_type": "markdown",
   "metadata": {},
   "source": [
    "### Does Cambridge follow the same food popularity that the rest of the UK does?"
   ]
  },
  {
   "cell_type": "markdown",
   "metadata": {},
   "source": [
    "As of current statistics these are the **5** most popular restaurant cuisines in the **UK**\n",
    "<ol>\n",
    "    <li>Pub Food</li>\n",
    "    <li>English</li>\n",
    "    <li>Chinese</li>\n",
    "    <li>Indian</li>\n",
    "    <li>Italian</li>\n",
    "</ol>\n",
    "\n",
    "> <small>Appendix: 1.1</small>\n",
    "> <a href=\"https://beambox.com/townsquare/what-are-the-most-popular-types-of-restaurants-in-the-uk\">What are the most popular types of restaurants in the UK</a><br>\n",
    "> <cite>Beambox.com</cite>"
   ]
  },
  {
   "cell_type": "code",
   "execution_count": 28,
   "metadata": {},
   "outputs": [
    {
     "name": "stdout",
     "output_type": "stream",
     "text": [
      "There are 50 uniques restaurant categories in Cambridge.\n"
     ]
    }
   ],
   "source": [
    "print('There are {} uniques restaurant categories in Cambridge.'.format(len(district_venues_update['Venue Category'].unique())))"
   ]
  },
  {
   "cell_type": "code",
   "execution_count": 29,
   "metadata": {},
   "outputs": [
    {
     "data": {
      "text/html": [
       "<div>\n",
       "<style scoped>\n",
       "    .dataframe tbody tr th:only-of-type {\n",
       "        vertical-align: middle;\n",
       "    }\n",
       "\n",
       "    .dataframe tbody tr th {\n",
       "        vertical-align: top;\n",
       "    }\n",
       "\n",
       "    .dataframe thead th {\n",
       "        text-align: right;\n",
       "    }\n",
       "</style>\n",
       "<table border=\"1\" class=\"dataframe\">\n",
       "  <thead>\n",
       "    <tr style=\"text-align: right;\">\n",
       "      <th></th>\n",
       "      <th>Category</th>\n",
       "      <th>Count</th>\n",
       "    </tr>\n",
       "  </thead>\n",
       "  <tbody>\n",
       "    <tr>\n",
       "      <th>11</th>\n",
       "      <td>Café</td>\n",
       "      <td>39</td>\n",
       "    </tr>\n",
       "    <tr>\n",
       "      <th>27</th>\n",
       "      <td>Indian Restaurant</td>\n",
       "      <td>21</td>\n",
       "    </tr>\n",
       "    <tr>\n",
       "      <th>13</th>\n",
       "      <td>Chinese Restaurant</td>\n",
       "      <td>20</td>\n",
       "    </tr>\n",
       "    <tr>\n",
       "      <th>14</th>\n",
       "      <td>Coffee Shop</td>\n",
       "      <td>19</td>\n",
       "    </tr>\n",
       "    <tr>\n",
       "      <th>5</th>\n",
       "      <td>Bakery</td>\n",
       "      <td>13</td>\n",
       "    </tr>\n",
       "    <tr>\n",
       "      <th>20</th>\n",
       "      <td>Fast Food Restaurant</td>\n",
       "      <td>9</td>\n",
       "    </tr>\n",
       "    <tr>\n",
       "      <th>36</th>\n",
       "      <td>Restaurant</td>\n",
       "      <td>7</td>\n",
       "    </tr>\n",
       "    <tr>\n",
       "      <th>34</th>\n",
       "      <td>Pizza Place</td>\n",
       "      <td>7</td>\n",
       "    </tr>\n",
       "    <tr>\n",
       "      <th>25</th>\n",
       "      <td>Gastropub</td>\n",
       "      <td>7</td>\n",
       "    </tr>\n",
       "    <tr>\n",
       "      <th>42</th>\n",
       "      <td>Sushi Restaurant</td>\n",
       "      <td>7</td>\n",
       "    </tr>\n",
       "  </tbody>\n",
       "</table>\n",
       "</div>"
      ],
      "text/plain": [
       "                Category  Count\n",
       "11                  Café     39\n",
       "27     Indian Restaurant     21\n",
       "13    Chinese Restaurant     20\n",
       "14           Coffee Shop     19\n",
       "5                 Bakery     13\n",
       "20  Fast Food Restaurant      9\n",
       "36            Restaurant      7\n",
       "34           Pizza Place      7\n",
       "25             Gastropub      7\n",
       "42      Sushi Restaurant      7"
      ]
     },
     "execution_count": 29,
     "metadata": {},
     "output_type": "execute_result"
    }
   ],
   "source": [
    "venue_check = district_venues_update.groupby('Venue Category').count()\n",
    "venue_check.drop(columns=['Venue','Venue Latitude','Venue Longitude'],inplace=True)\n",
    "venue_check.reset_index(inplace=True)\n",
    "venue_check.columns = ['Category','Count']\n",
    "venue_check.sort_values(by='Count', ascending=False).head(10)"
   ]
  },
  {
   "cell_type": "markdown",
   "metadata": {},
   "source": [
    "Looking at the results of the above table, if we were to remove the following from the list:\n",
    "* Café\n",
    "* Coffee Shop\n",
    "* Bakery\n",
    "As the above list are technically not restaurants, we can remove these.\n",
    "\n",
    "We can see that the the order of the **UK top 5** in Cambridge would be:\n",
    "1. Indian\n",
    "2. Chinese\n",
    "3. Pizza\n",
    "4. Gastropub\n",
    "\n",
    "Using Foursquare and adding the category for food has not included pubs into the equation. Most pubs serve some form of food and are listed as the number one in the UK.\n",
    "\n",
    "Lets add the entertainment and night spots dataframe to the venue dataframe and recalculate."
   ]
  },
  {
   "cell_type": "code",
   "execution_count": 30,
   "metadata": {},
   "outputs": [
    {
     "data": {
      "text/html": [
       "<div>\n",
       "<style scoped>\n",
       "    .dataframe tbody tr th:only-of-type {\n",
       "        vertical-align: middle;\n",
       "    }\n",
       "\n",
       "    .dataframe tbody tr th {\n",
       "        vertical-align: top;\n",
       "    }\n",
       "\n",
       "    .dataframe thead th {\n",
       "        text-align: right;\n",
       "    }\n",
       "</style>\n",
       "<table border=\"1\" class=\"dataframe\">\n",
       "  <thead>\n",
       "    <tr style=\"text-align: right;\">\n",
       "      <th></th>\n",
       "      <th>Category</th>\n",
       "      <th>Count</th>\n",
       "    </tr>\n",
       "  </thead>\n",
       "  <tbody>\n",
       "    <tr>\n",
       "      <th>60</th>\n",
       "      <td>Pub</td>\n",
       "      <td>60</td>\n",
       "    </tr>\n",
       "    <tr>\n",
       "      <th>17</th>\n",
       "      <td>Café</td>\n",
       "      <td>39</td>\n",
       "    </tr>\n",
       "    <tr>\n",
       "      <th>43</th>\n",
       "      <td>Indian Restaurant</td>\n",
       "      <td>21</td>\n",
       "    </tr>\n",
       "    <tr>\n",
       "      <th>19</th>\n",
       "      <td>Chinese Restaurant</td>\n",
       "      <td>21</td>\n",
       "    </tr>\n",
       "    <tr>\n",
       "      <th>21</th>\n",
       "      <td>Coffee Shop</td>\n",
       "      <td>19</td>\n",
       "    </tr>\n",
       "    <tr>\n",
       "      <th>8</th>\n",
       "      <td>Bar</td>\n",
       "      <td>18</td>\n",
       "    </tr>\n",
       "    <tr>\n",
       "      <th>3</th>\n",
       "      <td>Art Gallery</td>\n",
       "      <td>15</td>\n",
       "    </tr>\n",
       "    <tr>\n",
       "      <th>7</th>\n",
       "      <td>Bakery</td>\n",
       "      <td>13</td>\n",
       "    </tr>\n",
       "    <tr>\n",
       "      <th>31</th>\n",
       "      <td>Fast Food Restaurant</td>\n",
       "      <td>9</td>\n",
       "    </tr>\n",
       "    <tr>\n",
       "      <th>53</th>\n",
       "      <td>Nightclub</td>\n",
       "      <td>8</td>\n",
       "    </tr>\n",
       "    <tr>\n",
       "      <th>61</th>\n",
       "      <td>Public Art</td>\n",
       "      <td>7</td>\n",
       "    </tr>\n",
       "    <tr>\n",
       "      <th>75</th>\n",
       "      <td>Sushi Restaurant</td>\n",
       "      <td>7</td>\n",
       "    </tr>\n",
       "    <tr>\n",
       "      <th>38</th>\n",
       "      <td>General Entertainment</td>\n",
       "      <td>7</td>\n",
       "    </tr>\n",
       "    <tr>\n",
       "      <th>36</th>\n",
       "      <td>Gastropub</td>\n",
       "      <td>7</td>\n",
       "    </tr>\n",
       "    <tr>\n",
       "      <th>58</th>\n",
       "      <td>Pizza Place</td>\n",
       "      <td>7</td>\n",
       "    </tr>\n",
       "    <tr>\n",
       "      <th>62</th>\n",
       "      <td>Restaurant</td>\n",
       "      <td>7</td>\n",
       "    </tr>\n",
       "    <tr>\n",
       "      <th>34</th>\n",
       "      <td>Food Truck</td>\n",
       "      <td>6</td>\n",
       "    </tr>\n",
       "    <tr>\n",
       "      <th>44</th>\n",
       "      <td>Italian Restaurant</td>\n",
       "      <td>6</td>\n",
       "    </tr>\n",
       "    <tr>\n",
       "      <th>64</th>\n",
       "      <td>Sandwich Place</td>\n",
       "      <td>5</td>\n",
       "    </tr>\n",
       "    <tr>\n",
       "      <th>32</th>\n",
       "      <td>Fish &amp; Chips Shop</td>\n",
       "      <td>5</td>\n",
       "    </tr>\n",
       "  </tbody>\n",
       "</table>\n",
       "</div>"
      ],
      "text/plain": [
       "                 Category  Count\n",
       "60                    Pub     60\n",
       "17                   Café     39\n",
       "43      Indian Restaurant     21\n",
       "19     Chinese Restaurant     21\n",
       "21            Coffee Shop     19\n",
       "8                     Bar     18\n",
       "3             Art Gallery     15\n",
       "7                  Bakery     13\n",
       "31   Fast Food Restaurant      9\n",
       "53              Nightclub      8\n",
       "61             Public Art      7\n",
       "75       Sushi Restaurant      7\n",
       "38  General Entertainment      7\n",
       "36              Gastropub      7\n",
       "58            Pizza Place      7\n",
       "62             Restaurant      7\n",
       "34             Food Truck      6\n",
       "44     Italian Restaurant      6\n",
       "64         Sandwich Place      5\n",
       "32      Fish & Chips Shop      5"
      ]
     },
     "execution_count": 30,
     "metadata": {},
     "output_type": "execute_result"
    }
   ],
   "source": [
    "# Add Venues and Entertainment\n",
    "frames = [district_venues_update, district_entertain_update]\n",
    "df_Combine = pd.concat(frames)\n",
    "\n",
    "venue_check = df_Combine.groupby('Venue Category').count()\n",
    "venue_check.drop(columns=['Venue','Venue Latitude','Venue Longitude'],inplace=True)\n",
    "venue_check.reset_index(inplace=True)\n",
    "venue_check.columns = ['Category','Count']\n",
    "venue_check.sort_values(by='Count', ascending=False).head(20)"
   ]
  },
  {
   "cell_type": "markdown",
   "metadata": {},
   "source": [
    "We have taken the top 20 items in this view. As there are all items now, including entertainment it is useful to see where Pizza and Gastropub have fallen.\n",
    "\n",
    "If we combine names of restaurants that are similar (e.g. Italian Restaurant -> Pizza, Fish & Chips Shop -> English) then we will change the order of the **UK top 5** in Cambridge to the following:\n",
    "1. Pub/Gastropub (67)\n",
    "2. Chinese & Indian (21 each)\n",
    "3. Pizza/Italian (13)\n",
    "4. Fish & Chips Shop(5)\n",
    "\n",
    "Overall we can agree that the **UK top 5** list of restaurants does mostly apply to Cambridge."
   ]
  },
  {
   "cell_type": "markdown",
   "metadata": {},
   "source": [
    "### Get Suitable Locations\n"
   ]
  },
  {
   "cell_type": "markdown",
   "metadata": {},
   "source": [
    "From the **K-Means Clustering** of districts, we selected the following locations for further anaylsis:\n",
    "* Market\n",
    "* Castle\n",
    "* Newnham\n",
    "\n",
    "<p>Then we found the densest cluster of entertainment venues within these districts.\n",
    "Now, using these clusters we aim to find a suitable location within each of these 3 districts to place the new restaurant.</p>"
   ]
  },
  {
   "cell_type": "markdown",
   "metadata": {},
   "source": [
    "##### FUNCTION - Calculate Distance from Lat, Lng in Metres"
   ]
  },
  {
   "cell_type": "code",
   "execution_count": 344,
   "metadata": {},
   "outputs": [],
   "source": [
    "# Imports from Math Library\n",
    "from math import sin, cos, sqrt, atan2, radians"
   ]
  },
  {
   "cell_type": "code",
   "execution_count": 354,
   "metadata": {},
   "outputs": [],
   "source": [
    "def calculate_latlng_dist(lat1,lng1,lat2,lng2):\n",
    "    \n",
    "    # approximate radius of earth in km\n",
    "    R = 6373.0\n",
    "\n",
    "    lat1 = radians(lat1)\n",
    "    lng1 = radians(lng1)\n",
    "    lat2 = radians(lat2)\n",
    "    lng2 = radians(lng2)\n",
    "    \n",
    "    dlng = lng2 - lng1\n",
    "    dlat = lat2 - lat1\n",
    "    \n",
    "    a = sin(dlat / 2)**2 + cos(lat1) * cos(lat2) * sin(dlng / 2)**2\n",
    "    c = 2 * atan2(sqrt(a), sqrt(1 - a))\n",
    "    \n",
    "    distance = R * c\n",
    "    return distance"
   ]
  },
  {
   "cell_type": "markdown",
   "metadata": {},
   "source": [
    "##### FUNCTION - Create Final Map with markers"
   ]
  },
  {
   "cell_type": "code",
   "execution_count": 327,
   "metadata": {},
   "outputs": [],
   "source": [
    "def CreateFinalMap(m,f_lat,f_lng,df):\n",
    "\n",
    "    addLatin_toMap(m)\n",
    "    \n",
    "    for lat, lng, label, in zip(df['Venue Latitude'], df['Venue Longitude'], df['Venue']):\n",
    "        location = np.array([lat,lng])\n",
    "        # Add Marker\n",
    "        folium.CircleMarker(\n",
    "            [lat, lng],\n",
    "            radius=5, # define how big you want the circle markers to be\n",
    "            color='blue',\n",
    "            fill=True,\n",
    "            fill_color='lightblue',\n",
    "            fill_opacity=0.6\n",
    "        ).add_to(m)\n",
    "        \n",
    "        folium.Marker([f_lat,f_lng], tooltip='Ideal Location').add_to(m)"
   ]
  },
  {
   "cell_type": "markdown",
   "metadata": {},
   "source": [
    "##### Market "
   ]
  },
  {
   "cell_type": "markdown",
   "metadata": {},
   "source": [
    "When we performed the **DBSCAN** we found that **cluster 0** is the most populous with **28** entertainment venues.\n",
    "Let's get the mean of the most popular cluster."
   ]
  },
  {
   "cell_type": "code",
   "execution_count": 299,
   "metadata": {},
   "outputs": [
    {
     "name": "stdout",
     "output_type": "stream",
     "text": [
      "(28, 6)\n"
     ]
    }
   ],
   "source": [
    "df_market_f = df_market[df_market['Scatter'] == 0]\n",
    "print(df_market_f.shape)"
   ]
  },
  {
   "cell_type": "code",
   "execution_count": 300,
   "metadata": {},
   "outputs": [
    {
     "name": "stdout",
     "output_type": "stream",
     "text": [
      "Lat: 52.20640387792996 Lng: 0.11990940205059276\n"
     ]
    }
   ],
   "source": [
    "mkt_f_lat = df_market_f['Venue Latitude'].mean()\n",
    "mkt_f_lng = df_market_f['Venue Longitude'].mean()\n",
    "print('Lat:',mkt_f_lat,'Lng:',mkt_f_lng)"
   ]
  },
  {
   "cell_type": "markdown",
   "metadata": {},
   "source": [
    "Let's get the location of the **Market** area so that we can centre our map view."
   ]
  },
  {
   "cell_type": "code",
   "execution_count": 304,
   "metadata": {},
   "outputs": [],
   "source": [
    "df_market_pos = df_district[df_district['District'] == 'Market']\n",
    "df_market_pos_lat = df_market_pos['Latitude']\n",
    "df_market_pos_lng = df_market_pos['Longitude']"
   ]
  },
  {
   "cell_type": "markdown",
   "metadata": {},
   "source": [
    "##### Castle "
   ]
  },
  {
   "cell_type": "markdown",
   "metadata": {},
   "source": [
    "When we performed the **DBSCAN** we found that **cluster 1** is the most populous with **9** entertainment venues.\n",
    "Let's get the mean of the most popular cluster."
   ]
  },
  {
   "cell_type": "code",
   "execution_count": 330,
   "metadata": {},
   "outputs": [
    {
     "name": "stdout",
     "output_type": "stream",
     "text": [
      "(28, 6)\n"
     ]
    }
   ],
   "source": [
    "df_castle_f = df_castle[df_castle['Scatter'] == 0]\n",
    "print(df_market_f.shape)"
   ]
  },
  {
   "cell_type": "code",
   "execution_count": 331,
   "metadata": {},
   "outputs": [
    {
     "name": "stdout",
     "output_type": "stream",
     "text": [
      "Lat: 52.21281940030552 Lng: 0.102861808439892\n"
     ]
    }
   ],
   "source": [
    "cst_f_lat = df_castle_f['Venue Latitude'].mean()\n",
    "cst_f_lng = df_castle_f['Venue Longitude'].mean()\n",
    "print('Lat:',cst_f_lat,'Lng:',cst_f_lng)"
   ]
  },
  {
   "cell_type": "markdown",
   "metadata": {},
   "source": [
    "Let's get the location of the **Castle** district so that we can centre our map view."
   ]
  },
  {
   "cell_type": "code",
   "execution_count": 332,
   "metadata": {},
   "outputs": [],
   "source": [
    "df_castle_pos = df_district[df_district['District'] == 'Castle']\n",
    "df_castle_pos_lat = df_castle_pos['Latitude']\n",
    "df_castle_pos_lng = df_castle_pos['Longitude']"
   ]
  },
  {
   "cell_type": "markdown",
   "metadata": {},
   "source": [
    "##### Newnham "
   ]
  },
  {
   "cell_type": "markdown",
   "metadata": {},
   "source": [
    "When we performed the **DBSCAN** we found that **cluster 0** is the most populous with **4** entertainment venues.\n",
    "Let's get the mean of the most popular cluster."
   ]
  },
  {
   "cell_type": "code",
   "execution_count": 333,
   "metadata": {},
   "outputs": [
    {
     "name": "stdout",
     "output_type": "stream",
     "text": [
      "(4, 6)\n"
     ]
    }
   ],
   "source": [
    "df_newnham_f = df_newnham[df_newnham['Scatter'] == 0]\n",
    "print(df_newnham_f.shape)"
   ]
  },
  {
   "cell_type": "code",
   "execution_count": 334,
   "metadata": {},
   "outputs": [
    {
     "name": "stdout",
     "output_type": "stream",
     "text": [
      "Lat: 52.2003564865187 Lng: 0.10842846644610948\n"
     ]
    }
   ],
   "source": [
    "new_f_lat = df_newnham_f['Venue Latitude'].mean()\n",
    "new_f_lng = df_newnham_f['Venue Longitude'].mean()\n",
    "print('Lat:',new_f_lat,'Lng:',new_f_lng)"
   ]
  },
  {
   "cell_type": "markdown",
   "metadata": {},
   "source": [
    "Let's get the location of the **Newnham** district so that we can centre our map view."
   ]
  },
  {
   "cell_type": "code",
   "execution_count": 335,
   "metadata": {},
   "outputs": [],
   "source": [
    "df_newnham_pos = df_district[df_district['District'] == 'Newnham']\n",
    "df_newnham_pos_lat = df_newnham_pos['Latitude']\n",
    "df_newnham_pos_lng = df_newnham_pos['Longitude']"
   ]
  },
  {
   "cell_type": "markdown",
   "metadata": {},
   "source": [
    "### District Maps - Market, Castle & Newnham"
   ]
  },
  {
   "cell_type": "markdown",
   "metadata": {},
   "source": [
    "In these maps, we are shwoing:\n",
    "\n",
    "* Latin American Restaurants with a **red** marker.\n",
    "    * There is a **red** circle indicating a 500m radius from the restaurant.\n",
    "    * Our recommended location cannot be situated within this radius.\n",
    "* Entertainment venues from the most populous DBSCAN cluster within this district.\n",
    "* **Blue** marker indicating the most suitable location"
   ]
  },
  {
   "cell_type": "markdown",
   "metadata": {},
   "source": [
    "#### Map of Market"
   ]
  },
  {
   "cell_type": "code",
   "execution_count": 339,
   "metadata": {
    "scrolled": false
   },
   "outputs": [
    {
     "data": {
      "text/html": [
       "<div style=\"width:100%;\"><div style=\"position:relative;width:100%;height:0;padding-bottom:60%;\"><span style=\"color:#565656\">Make this Notebook Trusted to load map: File -> Trust Notebook</span><iframe src=\"about:blank\" style=\"position:absolute;width:100%;height:100%;left:0;top:0;border:none !important;\" data-html=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 onload=\"this.contentDocument.open();this.contentDocument.write(atob(this.getAttribute('data-html')));this.contentDocument.close();\" allowfullscreen webkitallowfullscreen mozallowfullscreen></iframe></div></div>"
      ],
      "text/plain": [
       "<folium.folium.Map at 0x274799deb38>"
      ]
     },
     "execution_count": 339,
     "metadata": {},
     "output_type": "execute_result"
    }
   ],
   "source": [
    "mar_f_map = folium.Map(location=[df_market_pos_lat, df_market_pos_lng], zoom_start=15,control_scale=True)  \n",
    "CreateFinalMap(mar_f_map,mkt_f_lat,mkt_f_lng,df_market_f)\n",
    "mar_f_map"
   ]
  },
  {
   "cell_type": "markdown",
   "metadata": {},
   "source": [
    "As we can see, this location is within the **500m** radius of an existing **Latin American** restaurant.\n",
    "Let's find out how far away it is, using the function we have created above."
   ]
  },
  {
   "cell_type": "code",
   "execution_count": 357,
   "metadata": {},
   "outputs": [
    {
     "name": "stdout",
     "output_type": "stream",
     "text": [
      "Distance is:  0.46 Km\n",
      "Distance is:  1.27 Km\n",
      "Distance is:  1.61 Km\n",
      "Distance is:  1.96 Km\n",
      "Distance is:  1.73 Km\n"
     ]
    }
   ],
   "source": [
    "for lat, lng in zip(district_latin_update['Venue Latitude'], district_latin_update['Venue Longitude']):\n",
    "    print('Distance is: ',round(calculate_latlng_dist(lat,lng,mkt_f_lat,mkt_f_lng),2),'Km')"
   ]
  },
  {
   "cell_type": "markdown",
   "metadata": {},
   "source": [
    "We can see that it is 460m away from one of the restaurants."
   ]
  },
  {
   "cell_type": "markdown",
   "metadata": {},
   "source": [
    "#### Map of Castle"
   ]
  },
  {
   "cell_type": "code",
   "execution_count": 341,
   "metadata": {},
   "outputs": [
    {
     "data": {
      "text/html": [
       "<div style=\"width:100%;\"><div style=\"position:relative;width:100%;height:0;padding-bottom:60%;\"><span style=\"color:#565656\">Make this Notebook Trusted to load map: File -> Trust Notebook</span><iframe src=\"about:blank\" style=\"position:absolute;width:100%;height:100%;left:0;top:0;border:none !important;\" data-html=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 onload=\"this.contentDocument.open();this.contentDocument.write(atob(this.getAttribute('data-html')));this.contentDocument.close();\" allowfullscreen webkitallowfullscreen mozallowfullscreen></iframe></div></div>"
      ],
      "text/plain": [
       "<folium.folium.Map at 0x274796b09e8>"
      ]
     },
     "execution_count": 341,
     "metadata": {},
     "output_type": "execute_result"
    }
   ],
   "source": [
    "cst_f_map = folium.Map(location=[df_castle_pos_lat, df_castle_pos_lng], zoom_start=15,control_scale=True)  \n",
    "CreateFinalMap(cst_f_map,cst_f_lat,cst_f_lng,df_castle_f)\n",
    "cst_f_map"
   ]
  },
  {
   "cell_type": "markdown",
   "metadata": {},
   "source": [
    "#### Map of Newnham"
   ]
  },
  {
   "cell_type": "code",
   "execution_count": 343,
   "metadata": {},
   "outputs": [
    {
     "data": {
      "text/html": [
       "<div style=\"width:100%;\"><div style=\"position:relative;width:100%;height:0;padding-bottom:60%;\"><span style=\"color:#565656\">Make this Notebook Trusted to load map: File -> Trust Notebook</span><iframe src=\"about:blank\" style=\"position:absolute;width:100%;height:100%;left:0;top:0;border:none !important;\" data-html=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 onload=\"this.contentDocument.open();this.contentDocument.write(atob(this.getAttribute('data-html')));this.contentDocument.close();\" allowfullscreen webkitallowfullscreen mozallowfullscreen></iframe></div></div>"
      ],
      "text/plain": [
       "<folium.folium.Map at 0x274783e6908>"
      ]
     },
     "execution_count": 343,
     "metadata": {},
     "output_type": "execute_result"
    }
   ],
   "source": [
    "new_f_map = folium.Map(location=[df_newnham_pos_lat, df_newnham_pos_lng], zoom_start=15,control_scale=True)  \n",
    "CreateFinalMap(new_f_map,new_f_lat,new_f_lng,df_newnham_f)\n",
    "new_f_map"
   ]
  },
  {
   "cell_type": "markdown",
   "metadata": {},
   "source": [
    "[Back to Contents](#contents)"
   ]
  },
  {
   "cell_type": "code",
   "execution_count": null,
   "metadata": {},
   "outputs": [],
   "source": []
  }
 ],
 "metadata": {
  "kernelspec": {
   "display_name": "Python 3",
   "language": "python",
   "name": "python3"
  },
  "language_info": {
   "codemirror_mode": {
    "name": "ipython",
    "version": 3
   },
   "file_extension": ".py",
   "mimetype": "text/x-python",
   "name": "python",
   "nbconvert_exporter": "python",
   "pygments_lexer": "ipython3",
   "version": "3.6.5"
  }
 },
 "nbformat": 4,
 "nbformat_minor": 2
}
