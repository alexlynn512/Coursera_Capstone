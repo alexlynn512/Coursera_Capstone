{
 "cells": [
  {
   "cell_type": "markdown",
   "metadata": {},
   "source": [
    "<div style=\"background-color:#769fcd;color:#FFFFFF;padding:20px;\">\n",
    "<h1>Capstone Project - The Battle of the Neighbourhoods - Week 2</h1><a name=\"contents\"></a>\n",
    "<h3><em>IBM Data Science Professional Certificate - Alex Lynn</em></h3>\n",
    "</div>"
   ]
  },
  {
   "cell_type": "markdown",
   "metadata": {},
   "source": [
    "<h2>Table of Contents</h2>\n",
    "* [1. Introduction](#introduction)\n",
    "* [2. Data](#data)\n",
    "* [3. Methodology](#methods)\n",
    "* [4. Analysis](#analysis)\n",
    "* [5. Results](#results)\n",
    "* [6. Discussion](#discussion)\n",
    "* [7. Concolusion](#conclusion)\n",
    "* [8. Appendix](#appendix)"
   ]
  },
  {
   "cell_type": "markdown",
   "metadata": {},
   "source": [
    "<div style=\"background-color:#769fcd;color:#FFFFFF;padding:15px;\">\n",
    "<h2>1. Introduction</h2><a name=\"introduction\"></a>\n",
    "</div>"
   ]
  },
  {
   "cell_type": "markdown",
   "metadata": {},
   "source": [
    "This research is intended on finding the best suitable location for a **Peruvian** restaurant in the city of **Cambridge, UK**. The report is designed for any stakeholder who would like to make a calculated risk before leasing a retail space.\n",
    "\n",
    "The main criteria for this report are to find a location that is close to an area where there is a good choice of entertainment, but where there are not any restaurants that provide similar cuisine type (e.g. **Mexican, Brazilian** etc).\n",
    "\n",
    "**Cambridge** is a city with a big demographic of tourists and foreign students, so appealing to a type of cuisine that does not exist in the market could prove profitable for the stakeholder.\n",
    "\n",
    "As of current statistics these are the **5** most popular restaurant cuisines in the **UK**, so there is a gap in the market for emerging food trends. The report will look to examine whether Cambridge fits into the same generalised food choice as the rest of the UK.\n",
    "<ol>\n",
    "    <li>Pub Food</li>\n",
    "    <li>English</li>\n",
    "    <li>Chinese</li>\n",
    "    <li>Indian</li>\n",
    "    <li>Italian</li>\n",
    "</ol>\n",
    "\n",
    "> <small>Appendix: 1.1</small>\n",
    "> <a href=\"https://beambox.com/townsquare/what-are-the-most-popular-types-of-restaurants-in-the-uk\">What are the most popular types of restaurants in the UK</a><br>\n",
    "> <cite>Beambox.com</cite>\n",
    "\n",
    "[Back to Contents](#contents)"
   ]
  },
  {
   "cell_type": "markdown",
   "metadata": {},
   "source": [
    "<div style=\"background-color:#769fcd;color:#FFFFFF;padding:15px;\">\n",
    "<h2>2. Data</h2><a name=\"data\"></a>\n",
    "</div>"
   ]
  },
  {
   "cell_type": "markdown",
   "metadata": {},
   "source": [
    "In this report we will look to get the following information from our data.\n",
    "\n",
    "* Locate any restaurants within the City that already serve **Latin American** food.\n",
    "    * Restaurant information will be stored for use in further analysis.\n",
    "    * The stakeholder has said that a 1km radius is required from any existing **Latin American** restaurant.\n",
    "* Research the demographic of restaurant types within **Cambridge**, listing the top 10 categories.\n",
    "    * The stakeholder expects that the market is dominated by **Italian** restaurants.\n",
    "* Divide the city of **Cambridge** into smaller areas using a list of boroughs. \n",
    "    * Show the frequency of the top 10 categories within each borough.\n",
    "    * Showing the frequency of entertainment venues (e.g. Theatres, Cinemas, Bars etc)\n",
    "* Display on a Map the clustering of the different areas within **Cambridge** and which areas are similar.\n",
    "    * Showing any existing ** Latin American** restauraunts.\n",
    "\n",
    "To create this report the methods used will be:\n",
    "\n",
    "* *Geolocater* to provide the centre point of **Cambridge, UK**.\n",
    "* *Web Scraping* of **Cambridge** districts.\n",
    "    * Data gathered to get the Geo points for each district.\n",
    "    * Data will be used to create a Choropleth Map depicting the frequencies within these areas.\n",
    "    > <small>Appendix: 2.1</small>\n",
    "    > <a href=\"https://wiki.openstreetmap.org/wiki/Cambridge\">Cambridge</a><br>\n",
    "    > <cite>OpenStreetMap.org</cite>\n",
    "* *FourSquare API* will return lists of venues using the co-ordinates for each district.\n",
    "    * It will also return the latitude and longitude for each venue.\n",
    "    * Using specific venue types will return the data requied\n",
    "    \n",
    "\n",
    "[Back to Contents](#contents)"
   ]
  },
  {
   "cell_type": "markdown",
   "metadata": {},
   "source": [
    "#### Import Statement"
   ]
  },
  {
   "cell_type": "markdown",
   "metadata": {},
   "source": [
    "<table align=\"left\">\n",
    "    <thead>\n",
    "        <th>Library</th>\n",
    "        <th>Reason</th>\n",
    "    </thead>\n",
    "    <tbody>\n",
    "        <tr>\n",
    "            <td>**Folium**</td>\n",
    "            <td>Mapping library, to create accurate map visualisations</td>\n",
    "        </tr>\n",
    "        <tr>\n",
    "            <td>**Pandas**</td>\n",
    "            <td>Data Analysis library, to create DataFrames and process data.</td>\n",
    "        </tr>\n",
    "        <tr>\n",
    "            <td>**Matplotlib**</td>\n",
    "            <td>Plotting library, to show visualisations of the data.</td>\n",
    "        </tr>\n",
    "        <tr>\n",
    "            <td>**Seaborn**</td>\n",
    "            <td>Plotting library, works on top of Matplotlib.</td>\n",
    "        </tr>\n",
    "        <tr>\n",
    "            <td>**urllib.request**</td>\n",
    "            <td>URL request library, to make web requests.</td>\n",
    "        </tr>\n",
    "        <tr>\n",
    "            <td>**bs4**</td>\n",
    "            <td>BeautifulSoup library, to scrape the data from web requests.</td>\n",
    "        </tr>\n",
    "        <tr>\n",
    "            <td>**geocoder**</td>\n",
    "            <td>GeoCoder library, to get the latitude and longitude using an address.</td>\n",
    "        </tr>\n",
    "        <tr>\n",
    "            <td>**Numpy**</td>\n",
    "            <td>Scientific library, we will be using it for Arrays.</td>\n",
    "        </tr>\n",
    "        <tr>\n",
    "            <td>JSON</td>\n",
    "            <td>JSON library, used to load and parse JSON files.</td>\n",
    "        </tr>\n",
    "        <tr>\n",
    "            <td>Requests</td>\n",
    "            <td>Web Requests library, to access websites and parse HTML</td>\n",
    "        </tr>\n",
    "    </tbody>\n",
    "</table>"
   ]
  },
  {
   "cell_type": "code",
   "execution_count": 1,
   "metadata": {},
   "outputs": [],
   "source": [
    "# Import Statements\n",
    "import folium\n",
    "import pandas as pd\n",
    "\n",
    "import matplotlib.pyplot as plt\n",
    "import matplotlib.cm as cm\n",
    "import matplotlib.colors as colors\n",
    "%matplotlib inline \n",
    "\n",
    "import seaborn as sns\n",
    "import urllib.request\n",
    "from bs4 import BeautifulSoup\n",
    "from geopy.geocoders import Nominatim\n",
    "\n",
    "import numpy as np\n",
    "import json\n",
    "import requests"
   ]
  },
  {
   "cell_type": "markdown",
   "metadata": {},
   "source": [
    "### Data Retrieval\n",
    "<a id=\"dataretrieval\"></a>"
   ]
  },
  {
   "cell_type": "markdown",
   "metadata": {},
   "source": [
    "To start we need to scrape the data from the <a href=\"https://wiki.openstreetmap.org/wiki/Cambridge\">website</a> to get all of our districts which will be used with our .geojson file.<br>\n",
    "This will be done using `urllib.request` which will request the URL from the site, then we will use `bs4` to collect the information from the request and put it into a DataFrame"
   ]
  },
  {
   "cell_type": "code",
   "execution_count": 2,
   "metadata": {},
   "outputs": [],
   "source": [
    "# Request the webpage of the following URL\n",
    "url = 'https://wiki.openstreetmap.org/wiki/Cambridge'\n",
    "data_raw = urllib.request.urlopen(url).read()"
   ]
  },
  {
   "cell_type": "code",
   "execution_count": 3,
   "metadata": {},
   "outputs": [],
   "source": [
    "# Prettify the request\n",
    "soup = BeautifulSoup(data_raw, 'lxml')"
   ]
  },
  {
   "cell_type": "markdown",
   "metadata": {},
   "source": [
    "##### Get all data from the website into an array"
   ]
  },
  {
   "cell_type": "code",
   "execution_count": 4,
   "metadata": {},
   "outputs": [],
   "source": [
    "# Initiate the arrays\n",
    "district = []\n",
    "location = []\n",
    "\n",
    "# Get the 4th table from the webpage\n",
    "tables = soup.findAll(\"table\")[3]\n",
    "\n",
    "# Get all <tr> references from the table\n",
    "rows = tables.findAll(\"tr\")\n",
    "\n",
    "# For each row in <tr>\n",
    "for row in rows:\n",
    "    i = 0\n",
    "    cells = row.findAll(\"td\")\n",
    "    for cell in cells:\n",
    "        if i == 0:\n",
    "            district.append(cell.text)\n",
    "        elif i == 1:\n",
    "            number = cell.find(\"span\", title=\"browse relation\").text\n",
    "            location.append(number)\n",
    "        \n",
    "        i = i + 1"
   ]
  },
  {
   "cell_type": "markdown",
   "metadata": {},
   "source": [
    "##### Combine Arrays into DataFrame"
   ]
  },
  {
   "cell_type": "code",
   "execution_count": 5,
   "metadata": {},
   "outputs": [
    {
     "name": "stdout",
     "output_type": "stream",
     "text": [
      "Shape: (14, 2)\n"
     ]
    },
    {
     "data": {
      "text/html": [
       "<div>\n",
       "<style scoped>\n",
       "    .dataframe tbody tr th:only-of-type {\n",
       "        vertical-align: middle;\n",
       "    }\n",
       "\n",
       "    .dataframe tbody tr th {\n",
       "        vertical-align: top;\n",
       "    }\n",
       "\n",
       "    .dataframe thead th {\n",
       "        text-align: right;\n",
       "    }\n",
       "</style>\n",
       "<table border=\"1\" class=\"dataframe\">\n",
       "  <thead>\n",
       "    <tr style=\"text-align: right;\">\n",
       "      <th></th>\n",
       "      <th>District</th>\n",
       "      <th>Location</th>\n",
       "    </tr>\n",
       "  </thead>\n",
       "  <tbody>\n",
       "    <tr>\n",
       "      <th>0</th>\n",
       "      <td>Abbey</td>\n",
       "      <td>1736010</td>\n",
       "    </tr>\n",
       "    <tr>\n",
       "      <th>1</th>\n",
       "      <td>Arbury</td>\n",
       "      <td>1736011</td>\n",
       "    </tr>\n",
       "    <tr>\n",
       "      <th>2</th>\n",
       "      <td>Castle</td>\n",
       "      <td>1736012</td>\n",
       "    </tr>\n",
       "    <tr>\n",
       "      <th>3</th>\n",
       "      <td>Cherry Hinton</td>\n",
       "      <td>1736013</td>\n",
       "    </tr>\n",
       "    <tr>\n",
       "      <th>4</th>\n",
       "      <td>Coleridge</td>\n",
       "      <td>1736014</td>\n",
       "    </tr>\n",
       "  </tbody>\n",
       "</table>\n",
       "</div>"
      ],
      "text/plain": [
       "        District Location\n",
       "0          Abbey  1736010\n",
       "1         Arbury  1736011\n",
       "2         Castle  1736012\n",
       "3  Cherry Hinton  1736013\n",
       "4      Coleridge  1736014"
      ]
     },
     "execution_count": 5,
     "metadata": {},
     "output_type": "execute_result"
    }
   ],
   "source": [
    "df_district = pd.DataFrame(district,columns=['District'])\n",
    "df_district['Location'] = location\n",
    "\n",
    "print('Shape:',df_district.shape)\n",
    "df_district.head()"
   ]
  },
  {
   "cell_type": "markdown",
   "metadata": {},
   "source": [
    "##### Load the GeoJson file"
   ]
  },
  {
   "cell_type": "markdown",
   "metadata": {},
   "source": [
    "* GeoJson file that made using the location boundary information from the webiste listed above.\n",
    "* Json data collected from <a href=\"http://polygons.openstreetmap.fr/\">website</a>.\n",
    "* Json data collated into one GeoJson file using Adobe Dreamweaver and following the standard on\n",
    "<a href=\"https://en.wikipedia.org/wiki/GeoJSON\">Wikipedia</a>.\n",
    "* Final geojson file tested using <a href=\"http://geojson.io/\">geojson.io</a>"
   ]
  },
  {
   "cell_type": "code",
   "execution_count": 6,
   "metadata": {},
   "outputs": [],
   "source": [
    "cambridge_geo = r'cambridge.geojson'"
   ]
  },
  {
   "cell_type": "markdown",
   "metadata": {},
   "source": [
    "##### Get the centroid positions of the geojson areas"
   ]
  },
  {
   "cell_type": "code",
   "execution_count": 7,
   "metadata": {},
   "outputs": [],
   "source": [
    "# open JSON file \n",
    "districtName = []\n",
    "districtLat = []\n",
    "districtLon = []\n",
    "\n",
    "with open(cambridge_geo) as f:\n",
    "    data = json.load(f)\n",
    "    coll = data['features']\n",
    "    \n",
    "    # Loop through the json file\n",
    "    for row in coll:\n",
    "        \n",
    "        # initiate lat and lon arrays to store the points\n",
    "        Lat = []\n",
    "        Lon = []\n",
    "        \n",
    "        # setup properties node\n",
    "        prop = row['properties']\n",
    "        \n",
    "        # setup coordinates node\n",
    "        geometry = row['geometry']\n",
    "        coord = geometry['coordinates']\n",
    "        name = ''\n",
    "        \n",
    "        # loop through the key, value pairs in properties\n",
    "        for key, value in prop.items():\n",
    "            name = value\n",
    "        \n",
    "        # loop through the coordinates\n",
    "        for level1 in coord:\n",
    "            for level2 in level1:\n",
    "                for level3 in level2:\n",
    "                    \n",
    "                    # convert to string\n",
    "                    i = str(level3)\n",
    "                    \n",
    "                    # replace brackets\n",
    "                    i = i.replace('[','')\n",
    "                    i = i.replace(']','')\n",
    "                    \n",
    "                    # split using the comma, with maximum of two values in list\n",
    "                    i = i.split(',',1)\n",
    "                    \n",
    "                    # add latitude and longitude to respective arrays\n",
    "                    Lat.append(i[0])\n",
    "                    Lon.append(i[1])\n",
    "                \n",
    "        # convert arrays to float values\n",
    "        Lat = np.array(Lat).astype(np.float)\n",
    "        Lon = np.array(Lon).astype(np.float)\n",
    "        \n",
    "        # get the mean latitude and longitude\n",
    "        LatMean = np.mean(Lat)\n",
    "        LonMean = np.mean(Lon)\n",
    "        \n",
    "        # append top level arrays\n",
    "        districtName.append(name)\n",
    "        districtLat.append(LatMean)\n",
    "        districtLon.append(LonMean)"
   ]
  },
  {
   "cell_type": "markdown",
   "metadata": {},
   "source": [
    "##### Put arrays into DataFrame"
   ]
  },
  {
   "cell_type": "code",
   "execution_count": 8,
   "metadata": {},
   "outputs": [
    {
     "data": {
      "text/html": [
       "<div>\n",
       "<style scoped>\n",
       "    .dataframe tbody tr th:only-of-type {\n",
       "        vertical-align: middle;\n",
       "    }\n",
       "\n",
       "    .dataframe tbody tr th {\n",
       "        vertical-align: top;\n",
       "    }\n",
       "\n",
       "    .dataframe thead th {\n",
       "        text-align: right;\n",
       "    }\n",
       "</style>\n",
       "<table border=\"1\" class=\"dataframe\">\n",
       "  <thead>\n",
       "    <tr style=\"text-align: right;\">\n",
       "      <th></th>\n",
       "      <th>D_Name</th>\n",
       "      <th>D_Lon</th>\n",
       "      <th>D_Lat</th>\n",
       "    </tr>\n",
       "  </thead>\n",
       "  <tbody>\n",
       "    <tr>\n",
       "      <th>0</th>\n",
       "      <td>Arbury</td>\n",
       "      <td>52.218995</td>\n",
       "      <td>0.115557</td>\n",
       "    </tr>\n",
       "    <tr>\n",
       "      <th>1</th>\n",
       "      <td>Abbey</td>\n",
       "      <td>52.209170</td>\n",
       "      <td>0.158143</td>\n",
       "    </tr>\n",
       "    <tr>\n",
       "      <th>2</th>\n",
       "      <td>Castle</td>\n",
       "      <td>52.214867</td>\n",
       "      <td>0.102719</td>\n",
       "    </tr>\n",
       "    <tr>\n",
       "      <th>3</th>\n",
       "      <td>Cherry Hinton</td>\n",
       "      <td>52.188377</td>\n",
       "      <td>0.170359</td>\n",
       "    </tr>\n",
       "    <tr>\n",
       "      <th>4</th>\n",
       "      <td>Coleridge</td>\n",
       "      <td>52.189603</td>\n",
       "      <td>0.153449</td>\n",
       "    </tr>\n",
       "  </tbody>\n",
       "</table>\n",
       "</div>"
      ],
      "text/plain": [
       "          D_Name      D_Lon     D_Lat\n",
       "0         Arbury  52.218995  0.115557\n",
       "1          Abbey  52.209170  0.158143\n",
       "2         Castle  52.214867  0.102719\n",
       "3  Cherry Hinton  52.188377  0.170359\n",
       "4      Coleridge  52.189603  0.153449"
      ]
     },
     "execution_count": 8,
     "metadata": {},
     "output_type": "execute_result"
    }
   ],
   "source": [
    "df_coord = pd.DataFrame(districtName,columns=['D_Name'])\n",
    "df_coord['D_Lon'] = districtLon\n",
    "df_coord['D_Lat'] = districtLat\n",
    "\n",
    "df_coord.head()"
   ]
  },
  {
   "cell_type": "markdown",
   "metadata": {},
   "source": [
    "#### Merge the original dataframe and the new dataframe"
   ]
  },
  {
   "cell_type": "code",
   "execution_count": 9,
   "metadata": {},
   "outputs": [
    {
     "data": {
      "text/html": [
       "<div>\n",
       "<style scoped>\n",
       "    .dataframe tbody tr th:only-of-type {\n",
       "        vertical-align: middle;\n",
       "    }\n",
       "\n",
       "    .dataframe tbody tr th {\n",
       "        vertical-align: top;\n",
       "    }\n",
       "\n",
       "    .dataframe thead th {\n",
       "        text-align: right;\n",
       "    }\n",
       "</style>\n",
       "<table border=\"1\" class=\"dataframe\">\n",
       "  <thead>\n",
       "    <tr style=\"text-align: right;\">\n",
       "      <th></th>\n",
       "      <th>District</th>\n",
       "      <th>Latitude</th>\n",
       "      <th>Longitude</th>\n",
       "    </tr>\n",
       "  </thead>\n",
       "  <tbody>\n",
       "    <tr>\n",
       "      <th>0</th>\n",
       "      <td>Abbey</td>\n",
       "      <td>52.209170</td>\n",
       "      <td>0.158143</td>\n",
       "    </tr>\n",
       "    <tr>\n",
       "      <th>1</th>\n",
       "      <td>Arbury</td>\n",
       "      <td>52.218995</td>\n",
       "      <td>0.115557</td>\n",
       "    </tr>\n",
       "    <tr>\n",
       "      <th>2</th>\n",
       "      <td>Castle</td>\n",
       "      <td>52.214867</td>\n",
       "      <td>0.102719</td>\n",
       "    </tr>\n",
       "    <tr>\n",
       "      <th>3</th>\n",
       "      <td>Cherry Hinton</td>\n",
       "      <td>52.188377</td>\n",
       "      <td>0.170359</td>\n",
       "    </tr>\n",
       "    <tr>\n",
       "      <th>4</th>\n",
       "      <td>Coleridge</td>\n",
       "      <td>52.189603</td>\n",
       "      <td>0.153449</td>\n",
       "    </tr>\n",
       "  </tbody>\n",
       "</table>\n",
       "</div>"
      ],
      "text/plain": [
       "        District   Latitude  Longitude\n",
       "0          Abbey  52.209170   0.158143\n",
       "1         Arbury  52.218995   0.115557\n",
       "2         Castle  52.214867   0.102719\n",
       "3  Cherry Hinton  52.188377   0.170359\n",
       "4      Coleridge  52.189603   0.153449"
      ]
     },
     "execution_count": 9,
     "metadata": {},
     "output_type": "execute_result"
    }
   ],
   "source": [
    "# Merge df and df_geo\n",
    "if df_district.shape[1] < 4:\n",
    "    df_district = pd.merge(left=df_district, right=df_coord, left_on='District', right_on='D_Name')\n",
    "    df_district.drop(['D_Name','Location'], axis=1, inplace=True)\n",
    "    df_district.columns = ['District','Latitude','Longitude']\n",
    "    \n",
    "df_district.head()"
   ]
  },
  {
   "cell_type": "markdown",
   "metadata": {},
   "source": [
    "##### Latitude and Longitude of Cambridge using geolocation"
   ]
  },
  {
   "cell_type": "markdown",
   "metadata": {},
   "source": [
    "This is used to get the location of Cambridge, UK so that we can center our map."
   ]
  },
  {
   "cell_type": "code",
   "execution_count": 10,
   "metadata": {},
   "outputs": [
    {
     "name": "stdout",
     "output_type": "stream",
     "text": [
      "Cambridge, UK Coordinates: 52.2034823, 0.1235817.\n"
     ]
    }
   ],
   "source": [
    "city_name = 'Cambridge, United Kingdom'\n",
    "\n",
    "geolocator = Nominatim(user_agent=\"ny_explorer\")\n",
    "city_location = geolocator.geocode(city_name)\n",
    "city_latitude = city_location.latitude\n",
    "city_longitude = city_location.longitude\n",
    "print('Cambridge, UK Coordinates: {}, {}.'.format(city_latitude, city_longitude))"
   ]
  },
  {
   "cell_type": "markdown",
   "metadata": {},
   "source": [
    "#### Setup FourSquare Settings \n",
    "\n",
    "These have been removed for the final workbook, replaced by 'X'"
   ]
  },
  {
   "cell_type": "code",
   "execution_count": 11,
   "metadata": {},
   "outputs": [],
   "source": [
    "CLIENT_ID = 'FNZMAIFEKPJ1VTUXCIHKJYMPAFKA2E55BSUFYAZXHZ5OAUDR'\n",
    "CLIENT_SECRET = 'UXVK34BOOJI5ZCWWLHQKMGJSIGG2WVROVGWGOI1EXGSUJXLW'\n",
    "VERSION = '20200727' # Foursquare API version"
   ]
  },
  {
   "cell_type": "markdown",
   "metadata": {},
   "source": [
    "##### FUNCTION - FourSquare Return\n",
    "\n",
    "* Using a **search** call on the API so that I can use multiple categories.\n",
    "* Function takes in the following paramaters:\n",
    "    * Names (Array)\n",
    "    * Latitudes (Array)\n",
    "    * Lonitudes (Array)\n",
    "    * Radius (in metres) - <em>Default 500</em>\n",
    "    * Limit - <em>Default 100</em>\n",
    "    * Category - <em>Default ''</em>\n",
    "* <strong>Returns DataFrame</strong>"
   ]
  },
  {
   "cell_type": "code",
   "execution_count": 12,
   "metadata": {},
   "outputs": [],
   "source": [
    "def getNearbyVenues(names, latitudes, longitudes, radius=500, LIMIT=100,category=''):    \n",
    "    \n",
    "    '''\n",
    "    Use this function to return a dataframe with all the venues within your criteria.\n",
    "    RETURNS:\n",
    "        DataFrame with [District],[Venue],[Venue Latitude],[Venue Longitude],[Venue Category]\n",
    "    '''\n",
    "    \n",
    "    venues_list=[]\n",
    "\n",
    "    for name, lat, lng in zip(names, latitudes, longitudes):\n",
    "            \n",
    "        # create the API request URL\n",
    "        url = 'https://api.foursquare.com/v2/venues/search?&client_id={}&client_secret={}&v={}&ll={},{}&radius={}&limit={}&categoryId={}'.format(\n",
    "            CLIENT_ID, CLIENT_SECRET, VERSION, lat, lng, radius, LIMIT,category)\n",
    "                        \n",
    "        # make the GET request\n",
    "        results = requests.get(url).json()[\"response\"]['venues']\n",
    "        #print(results)\n",
    "        \n",
    "        # return only relevant information for each nearby venue\n",
    "        venues_list.append([(\n",
    "            name,\n",
    "            v['name'], \n",
    "            v['location']['lat'], \n",
    "            v['location']['lng'],\n",
    "            v['categories'][0]['name']) for v in results])\n",
    "        \n",
    "    nearby_venues = pd.DataFrame([item for venue_list in venues_list for item in venue_list])\n",
    "    nearby_venues.columns = [\n",
    "                  'District', \n",
    "                  'Venue', \n",
    "                  'Venue Latitude', \n",
    "                  'Venue Longitude', \n",
    "                  'Venue Category']\n",
    "        \n",
    "    return(nearby_venues) "
   ]
  },
  {
   "cell_type": "markdown",
   "metadata": {},
   "source": [
    "##### FUNCTION - DataFrame of restaurants in the districts\n",
    "\n",
    "* Function will return a dataframe to be used to show frequency of restaurants."
   ]
  },
  {
   "cell_type": "code",
   "execution_count": 13,
   "metadata": {},
   "outputs": [],
   "source": [
    "def getVenues():\n",
    "\n",
    "    radius = 500\n",
    "    LIMIT = 500\n",
    "    category = '4d4b7105d754a06374d81259'\n",
    "\n",
    "    df = getNearbyVenues(df_district['District'],\n",
    "                            df_district['Latitude'],\n",
    "                            df_district['Longitude'],\n",
    "                            radius,\n",
    "                            LIMIT,\n",
    "                            category)\n",
    "    return df"
   ]
  },
  {
   "cell_type": "code",
   "execution_count": 14,
   "metadata": {
    "scrolled": false
   },
   "outputs": [
    {
     "name": "stdout",
     "output_type": "stream",
     "text": [
      "Shape:  (187, 5)\n"
     ]
    },
    {
     "data": {
      "text/html": [
       "<div>\n",
       "<style scoped>\n",
       "    .dataframe tbody tr th:only-of-type {\n",
       "        vertical-align: middle;\n",
       "    }\n",
       "\n",
       "    .dataframe tbody tr th {\n",
       "        vertical-align: top;\n",
       "    }\n",
       "\n",
       "    .dataframe thead th {\n",
       "        text-align: right;\n",
       "    }\n",
       "</style>\n",
       "<table border=\"1\" class=\"dataframe\">\n",
       "  <thead>\n",
       "    <tr style=\"text-align: right;\">\n",
       "      <th></th>\n",
       "      <th>District</th>\n",
       "      <th>Venue</th>\n",
       "      <th>Venue Latitude</th>\n",
       "      <th>Venue Longitude</th>\n",
       "      <th>Venue Category</th>\n",
       "    </tr>\n",
       "  </thead>\n",
       "  <tbody>\n",
       "    <tr>\n",
       "      <th>0</th>\n",
       "      <td>Abbey</td>\n",
       "      <td>Autumn House Bed and Breakfast Cambridge</td>\n",
       "      <td>52.212496</td>\n",
       "      <td>0.158485</td>\n",
       "      <td>Gastropub</td>\n",
       "    </tr>\n",
       "    <tr>\n",
       "      <th>1</th>\n",
       "      <td>Abbey</td>\n",
       "      <td>Pipasha</td>\n",
       "      <td>52.213388</td>\n",
       "      <td>0.154665</td>\n",
       "      <td>Indian Restaurant</td>\n",
       "    </tr>\n",
       "    <tr>\n",
       "      <th>2</th>\n",
       "      <td>Abbey</td>\n",
       "      <td>The Codfather</td>\n",
       "      <td>52.211820</td>\n",
       "      <td>0.163236</td>\n",
       "      <td>Fish &amp; Chips Shop</td>\n",
       "    </tr>\n",
       "    <tr>\n",
       "      <th>3</th>\n",
       "      <td>Abbey</td>\n",
       "      <td>China Chef</td>\n",
       "      <td>52.213499</td>\n",
       "      <td>0.154384</td>\n",
       "      <td>Chinese Restaurant</td>\n",
       "    </tr>\n",
       "    <tr>\n",
       "      <th>4</th>\n",
       "      <td>Arbury</td>\n",
       "      <td>Coffee Tree</td>\n",
       "      <td>52.219494</td>\n",
       "      <td>0.111630</td>\n",
       "      <td>Café</td>\n",
       "    </tr>\n",
       "  </tbody>\n",
       "</table>\n",
       "</div>"
      ],
      "text/plain": [
       "  District                                     Venue  Venue Latitude  \\\n",
       "0    Abbey  Autumn House Bed and Breakfast Cambridge       52.212496   \n",
       "1    Abbey                                   Pipasha       52.213388   \n",
       "2    Abbey                             The Codfather       52.211820   \n",
       "3    Abbey                                China Chef       52.213499   \n",
       "4   Arbury                               Coffee Tree       52.219494   \n",
       "\n",
       "   Venue Longitude      Venue Category  \n",
       "0         0.158485           Gastropub  \n",
       "1         0.154665   Indian Restaurant  \n",
       "2         0.163236   Fish & Chips Shop  \n",
       "3         0.154384  Chinese Restaurant  \n",
       "4         0.111630                Café  "
      ]
     },
     "execution_count": 14,
     "metadata": {},
     "output_type": "execute_result"
    }
   ],
   "source": [
    "district_venues = getVenues()\n",
    "print('Shape: ',district_venues.shape)\n",
    "district_venues.head()"
   ]
  },
  {
   "cell_type": "markdown",
   "metadata": {},
   "source": [
    "###### Results\n",
    "As we can see there are only **187 restaurants** listed on FourSquare taken in districts that we have listed, within a 500m radius of the centroid position of the district."
   ]
  },
  {
   "cell_type": "markdown",
   "metadata": {},
   "source": [
    "##### FUNCTION - DataFrame of entertainment in the districts\n",
    "\n",
    "* Function will return a dataframe to be used to show frequency of entertainment."
   ]
  },
  {
   "cell_type": "code",
   "execution_count": 15,
   "metadata": {},
   "outputs": [],
   "source": [
    "def getEntertainment():\n",
    "    radius = 500\n",
    "    LIMIT = 500\n",
    "    category = '4d4b7105d754a06376d81259,4d4b7104d754a06370d81259'\n",
    "\n",
    "    # Categories set to Arts & Entertainment and Nightlife Spots\n",
    "\n",
    "    df = getNearbyVenues(df_district['District'],\n",
    "                                  df_district['Latitude'],\n",
    "                                  df_district['Longitude'],\n",
    "                                  radius,\n",
    "                                  LIMIT,\n",
    "                                  category)\n",
    "    return df"
   ]
  },
  {
   "cell_type": "code",
   "execution_count": 16,
   "metadata": {},
   "outputs": [
    {
     "name": "stdout",
     "output_type": "stream",
     "text": [
      "Shape:  (160, 5)\n"
     ]
    },
    {
     "data": {
      "text/html": [
       "<div>\n",
       "<style scoped>\n",
       "    .dataframe tbody tr th:only-of-type {\n",
       "        vertical-align: middle;\n",
       "    }\n",
       "\n",
       "    .dataframe tbody tr th {\n",
       "        vertical-align: top;\n",
       "    }\n",
       "\n",
       "    .dataframe thead th {\n",
       "        text-align: right;\n",
       "    }\n",
       "</style>\n",
       "<table border=\"1\" class=\"dataframe\">\n",
       "  <thead>\n",
       "    <tr style=\"text-align: right;\">\n",
       "      <th></th>\n",
       "      <th>District</th>\n",
       "      <th>Venue</th>\n",
       "      <th>Venue Latitude</th>\n",
       "      <th>Venue Longitude</th>\n",
       "      <th>Venue Category</th>\n",
       "    </tr>\n",
       "  </thead>\n",
       "  <tbody>\n",
       "    <tr>\n",
       "      <th>0</th>\n",
       "      <td>Abbey</td>\n",
       "      <td>Dion Dublin Suite</td>\n",
       "      <td>52.212271</td>\n",
       "      <td>0.155038</td>\n",
       "      <td>Bar</td>\n",
       "    </tr>\n",
       "    <tr>\n",
       "      <th>1</th>\n",
       "      <td>Abbey</td>\n",
       "      <td>Abbey Stadium</td>\n",
       "      <td>52.212570</td>\n",
       "      <td>0.154379</td>\n",
       "      <td>Soccer Stadium</td>\n",
       "    </tr>\n",
       "    <tr>\n",
       "      <th>2</th>\n",
       "      <td>Abbey</td>\n",
       "      <td>Splash Pad</td>\n",
       "      <td>52.209740</td>\n",
       "      <td>0.154114</td>\n",
       "      <td>Water Park</td>\n",
       "    </tr>\n",
       "    <tr>\n",
       "      <th>3</th>\n",
       "      <td>Abbey</td>\n",
       "      <td>Mulletboy Studios</td>\n",
       "      <td>52.212644</td>\n",
       "      <td>0.153579</td>\n",
       "      <td>Music Venue</td>\n",
       "    </tr>\n",
       "    <tr>\n",
       "      <th>4</th>\n",
       "      <td>Arbury</td>\n",
       "      <td>Colours of Dance</td>\n",
       "      <td>52.219164</td>\n",
       "      <td>0.111665</td>\n",
       "      <td>Dance Studio</td>\n",
       "    </tr>\n",
       "  </tbody>\n",
       "</table>\n",
       "</div>"
      ],
      "text/plain": [
       "  District              Venue  Venue Latitude  Venue Longitude  Venue Category\n",
       "0    Abbey  Dion Dublin Suite       52.212271         0.155038             Bar\n",
       "1    Abbey      Abbey Stadium       52.212570         0.154379  Soccer Stadium\n",
       "2    Abbey         Splash Pad       52.209740         0.154114      Water Park\n",
       "3    Abbey  Mulletboy Studios       52.212644         0.153579     Music Venue\n",
       "4   Arbury   Colours of Dance       52.219164         0.111665    Dance Studio"
      ]
     },
     "execution_count": 16,
     "metadata": {},
     "output_type": "execute_result"
    }
   ],
   "source": [
    "district_entertain = getEntertainment()\n",
    "print('Shape: ',district_entertain.shape)\n",
    "district_entertain.head()"
   ]
  },
  {
   "cell_type": "markdown",
   "metadata": {},
   "source": [
    "###### Results\n",
    "As we can see there are only **160 Arts & Entertainment or Nightlife spots** listed on FourSquare for the districts that we have listed, within a 500m radius of the centroid position of the district."
   ]
  },
  {
   "cell_type": "markdown",
   "metadata": {},
   "source": [
    "##### FUNCTION - DataFrame of Latin American restaurants in the districts\n",
    "\n",
    "* Function will return a dataframe to be used to show frequency of Latin American restaurants."
   ]
  },
  {
   "cell_type": "code",
   "execution_count": 17,
   "metadata": {},
   "outputs": [],
   "source": [
    "def getLatin():\n",
    "    radius = 500\n",
    "    LIMIT = 500\n",
    "    category = '4bf58dd8d48988d1be941735'\n",
    "\n",
    "    data = {'Location':['Cambridge'],'Latitude':[city_latitude],'Longitude':[city_longitude]}\n",
    "    df_cambridge = pd.DataFrame (data, columns = ['Location','Latitude','Longitude'])\n",
    "    # Categories set to Latin American restaurants\n",
    "\n",
    "    df = getNearbyVenues(df_cambridge['Location'],\n",
    "            df_cambridge['Latitude'],\n",
    "            df_cambridge['Longitude'],\n",
    "            5000,\n",
    "            LIMIT,\n",
    "            category)\n",
    "    \n",
    "    #df_cambridge\n",
    "    return df"
   ]
  },
  {
   "cell_type": "code",
   "execution_count": 18,
   "metadata": {},
   "outputs": [
    {
     "name": "stdout",
     "output_type": "stream",
     "text": [
      "Shape:  (5, 5)\n"
     ]
    },
    {
     "data": {
      "text/html": [
       "<div>\n",
       "<style scoped>\n",
       "    .dataframe tbody tr th:only-of-type {\n",
       "        vertical-align: middle;\n",
       "    }\n",
       "\n",
       "    .dataframe tbody tr th {\n",
       "        vertical-align: top;\n",
       "    }\n",
       "\n",
       "    .dataframe thead th {\n",
       "        text-align: right;\n",
       "    }\n",
       "</style>\n",
       "<table border=\"1\" class=\"dataframe\">\n",
       "  <thead>\n",
       "    <tr style=\"text-align: right;\">\n",
       "      <th></th>\n",
       "      <th>District</th>\n",
       "      <th>Venue</th>\n",
       "      <th>Venue Latitude</th>\n",
       "      <th>Venue Longitude</th>\n",
       "      <th>Venue Category</th>\n",
       "    </tr>\n",
       "  </thead>\n",
       "  <tbody>\n",
       "    <tr>\n",
       "      <th>0</th>\n",
       "      <td>Cambridge</td>\n",
       "      <td>Las Iguanas</td>\n",
       "      <td>52.210230</td>\n",
       "      <td>0.117309</td>\n",
       "      <td>Latin American Restaurant</td>\n",
       "    </tr>\n",
       "    <tr>\n",
       "      <th>1</th>\n",
       "      <td>Cambridge</td>\n",
       "      <td>Neide's Deli Café</td>\n",
       "      <td>52.200508</td>\n",
       "      <td>0.135943</td>\n",
       "      <td>Brazilian Restaurant</td>\n",
       "    </tr>\n",
       "    <tr>\n",
       "      <th>2</th>\n",
       "      <td>Cambridge</td>\n",
       "      <td>La Latina Bustaurante</td>\n",
       "      <td>52.208076</td>\n",
       "      <td>0.143403</td>\n",
       "      <td>Latin American Restaurant</td>\n",
       "    </tr>\n",
       "    <tr>\n",
       "      <th>3</th>\n",
       "      <td>Cambridge</td>\n",
       "      <td>Chicken rush</td>\n",
       "      <td>52.197636</td>\n",
       "      <td>0.144912</td>\n",
       "      <td>Arepa Restaurant</td>\n",
       "    </tr>\n",
       "    <tr>\n",
       "      <th>4</th>\n",
       "      <td>Cambridge</td>\n",
       "      <td>Hutter</td>\n",
       "      <td>52.209328</td>\n",
       "      <td>0.144877</td>\n",
       "      <td>South American Restaurant</td>\n",
       "    </tr>\n",
       "  </tbody>\n",
       "</table>\n",
       "</div>"
      ],
      "text/plain": [
       "    District                  Venue  Venue Latitude  Venue Longitude  \\\n",
       "0  Cambridge            Las Iguanas       52.210230         0.117309   \n",
       "1  Cambridge      Neide's Deli Café       52.200508         0.135943   \n",
       "2  Cambridge  La Latina Bustaurante       52.208076         0.143403   \n",
       "3  Cambridge           Chicken rush       52.197636         0.144912   \n",
       "4  Cambridge                 Hutter       52.209328         0.144877   \n",
       "\n",
       "              Venue Category  \n",
       "0  Latin American Restaurant  \n",
       "1       Brazilian Restaurant  \n",
       "2  Latin American Restaurant  \n",
       "3           Arepa Restaurant  \n",
       "4  South American Restaurant  "
      ]
     },
     "execution_count": 18,
     "metadata": {},
     "output_type": "execute_result"
    }
   ],
   "source": [
    "district_latin = getLatin()\n",
    "print('Shape: ',district_latin.shape)\n",
    "district_latin.head()"
   ]
  },
  {
   "cell_type": "markdown",
   "metadata": {},
   "source": [
    "###### Results\n",
    "As we can see there are only **1 Latin American restaurant** listed on FourSquare for the districts that we have listed, within a 500m radius of the centroid position of the district."
   ]
  },
  {
   "cell_type": "markdown",
   "metadata": {},
   "source": [
    "[Back to Contents](#contents)"
   ]
  },
  {
   "cell_type": "markdown",
   "metadata": {},
   "source": [
    "### Data Visualisation\n",
    "<a id=\"datavisual\"></a>"
   ]
  },
  {
   "cell_type": "markdown",
   "metadata": {},
   "source": [
    "#### Bar Chart showing the frequency of restaurants within districts\n",
    "\n",
    "* Create a new horizontal bar plot with the districts and the frequency of restaurants"
   ]
  },
  {
   "cell_type": "code",
   "execution_count": 19,
   "metadata": {},
   "outputs": [
    {
     "data": {
      "text/plain": [
       "<matplotlib.axes._subplots.AxesSubplot at 0x1fcbd773860>"
      ]
     },
     "execution_count": 19,
     "metadata": {},
     "output_type": "execute_result"
    },
    {
     "data": {
      "image/png": "[encoded data removed]",
      "text/plain": [
       "<Figure size 1080x576 with 1 Axes>"
      ]
     },
     "metadata": {},
     "output_type": "display_data"
    }
   ],
   "source": [
    "district_venues['District'].value_counts().plot(kind='barh', figsize=(15,8), color=(0.2, 0.4, 0.6, 0.6))"
   ]
  },
  {
   "cell_type": "markdown",
   "metadata": {},
   "source": [
    "**From this bar plot we can see that the most populous areas for restaurants are Petersfield, Market and West Chesterton.**"
   ]
  },
  {
   "cell_type": "markdown",
   "metadata": {},
   "source": [
    "#### Show map of Cambridge with districts\n",
    "\n",
    "* Map shows markers using district latitude and longitude\n",
    "* Radius is drawn to show the search area that we will be using in Foursquare"
   ]
  },
  {
   "cell_type": "code",
   "execution_count": 20,
   "metadata": {},
   "outputs": [],
   "source": [
    "# create a map centered on Cambridge\n",
    "cambridge_map = folium.Map(location=[city_latitude, city_longitude], zoom_start=12.5,control_scale=True)"
   ]
  },
  {
   "cell_type": "code",
   "execution_count": 21,
   "metadata": {},
   "outputs": [],
   "source": [
    "# Function loop through districts and add marker using lat and lon\n",
    "def addMarkers(m):\n",
    "\n",
    "    for lat, lng, name in zip(df_district.Latitude, df_district.Longitude, df_district.District):\n",
    "        location = np.array([lat,lng])\n",
    "        # Add Marker\n",
    "        folium.Marker(location, popup='<i>{}</i>'.format(name), tooltip=name).add_to(m)\n",
    "        # Add Radius of 500m\n",
    "        folium.Circle(\n",
    "            location=location,\n",
    "            radius=500,\n",
    "            color='#3186cc',\n",
    "            fill=True,\n",
    "            fill_color='#3186cc'\n",
    "        ).add_to(m)\n",
    "    \n",
    "    display(m)"
   ]
  },
  {
   "cell_type": "code",
   "execution_count": 179,
   "metadata": {},
   "outputs": [
    {
     "data": {
      "text/html": [
       "<div style=\"width:100%;\"><div style=\"position:relative;width:100%;height:0;padding-bottom:60%;\"><span style=\"color:#565656\">Make this Notebook Trusted to load map: File -> Trust Notebook</span><iframe src=\"about:blank\" style=\"position:absolute;width:100%;height:100%;left:0;top:0;border:none !important;\" data-html=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 onload=\"this.contentDocument.open();this.contentDocument.write(atob(this.getAttribute('data-html')));this.contentDocument.close();\" allowfullscreen webkitallowfullscreen mozallowfullscreen></iframe></div></div>"
      ],
      "text/plain": [
       "<folium.folium.Map at 0x1fcbd782a20>"
      ]
     },
     "metadata": {},
     "output_type": "display_data"
    },
    {
     "data": {
      "text/plain": [
       "<Figure size 432x288 with 0 Axes>"
      ]
     },
     "metadata": {},
     "output_type": "display_data"
    }
   ],
   "source": [
    "addMarkers(cambridge_map)\n",
    "plt.savefig('District_1.pdf', bbox_inches='tight')"
   ]
  },
  {
   "cell_type": "markdown",
   "metadata": {},
   "source": [
    "#### Radius Decision\n",
    "Through testing the appropriate radius 500m has been set as the threshold of the FourSquare search radius, so it doesn't overlap into another district.\n",
    "In this map, we can see that the following districts centroids taken from the mean of the geolocation are not that accurate:\n",
    "* Trumpington\n",
    "* Newnham\n",
    "* Romsey\n",
    "* Cherry Hinton\n",
    "\n",
    "This is due to a large amount of their boundary being located in rural areas.\n",
    "\n",
    "Therfore the centroid location must be repositioned. In the following map I have set the map to show when clicked the latitude and longitude, meaning I can locate more accurate postions."
   ]
  },
  {
   "cell_type": "code",
   "execution_count": 23,
   "metadata": {
    "scrolled": false
   },
   "outputs": [
    {
     "data": {
      "text/html": [
       "<div style=\"width:100%;\"><div style=\"position:relative;width:100%;height:0;padding-bottom:60%;\"><span style=\"color:#565656\">Make this Notebook Trusted to load map: File -> Trust Notebook</span><iframe src=\"about:blank\" style=\"position:absolute;width:100%;height:100%;left:0;top:0;border:none !important;\" data-html=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 onload=\"this.contentDocument.open();this.contentDocument.write(atob(this.getAttribute('data-html')));this.contentDocument.close();\" allowfullscreen webkitallowfullscreen mozallowfullscreen></iframe></div></div>"
      ],
      "text/plain": [
       "<folium.folium.Map at 0x1fcbd782a20>"
      ]
     },
     "metadata": {},
     "output_type": "display_data"
    }
   ],
   "source": [
    "# Create Map with latLng Popup\n",
    "cambridge_map.add_child(folium.LatLngPopup())\n",
    "display(cambridge_map)"
   ]
  },
  {
   "cell_type": "markdown",
   "metadata": {},
   "source": [
    "Updated locations:\n",
    "\n",
    "* **Trumpington**\n",
    "    * Lat: 52.1734\n",
    "    * Lng: 0.1131\n",
    "* **Newnham**\n",
    "    * Lat: 52.1970\n",
    "    * Lng: 0.1068\n",
    "    \n",
    "* **Romsey**\n",
    "    * Lat: 52.1972\n",
    "    * Lng: 0.1463\n",
    "\n",
    "* **Cherry Hinton**\n",
    "    * Lat: 52.1872\n",
    "    * Lng: 0.1764\n",
    "    \n",
    "* **Abbey**\n",
    "    * Lat: 52.2124\n",
    "    * Lng: 0.1613\n",
    "    \n",
    "Let's update the district dataframe."
   ]
  },
  {
   "cell_type": "code",
   "execution_count": 24,
   "metadata": {},
   "outputs": [],
   "source": [
    "# Update Trumpington\n",
    "df_district.loc[df_district.District == 'Trumpington', 'Latitude'] = 52.1734\n",
    "df_district.loc[df_district.District == 'Trumpington', 'Longitude'] = 0.1131\n",
    "\n",
    "# Update Newnham\n",
    "df_district.loc[df_district.District == 'Newnham', 'Latitude'] = 52.1970\n",
    "df_district.loc[df_district.District == 'Newnham', 'Longitude'] =  0.1068\n",
    "\n",
    "# Update Romsey\n",
    "df_district.loc[df_district.District == 'Romsey', 'Latitude'] = 52.1972\n",
    "df_district.loc[df_district.District == 'Romsey', 'Longitude'] =  0.1463\n",
    "\n",
    "# Update Cherry Hinton\n",
    "df_district.loc[df_district.District == 'Cherry Hinton', 'Latitude'] = 52.1872\n",
    "df_district.loc[df_district.District == 'Cherry Hinton', 'Longitude'] =  0.1764\n",
    "\n",
    "# Update Abbey\n",
    "df_district.loc[df_district.District == 'Abbey', 'Latitude'] = 52.2124\n",
    "df_district.loc[df_district.District == 'Abbey', 'Longitude'] =  0.1613\n"
   ]
  },
  {
   "cell_type": "code",
   "execution_count": 25,
   "metadata": {},
   "outputs": [
    {
     "data": {
      "text/html": [
       "<div style=\"width:100%;\"><div style=\"position:relative;width:100%;height:0;padding-bottom:60%;\"><span style=\"color:#565656\">Make this Notebook Trusted to load map: File -> Trust Notebook</span><iframe src=\"about:blank\" style=\"position:absolute;width:100%;height:100%;left:0;top:0;border:none !important;\" data-html=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 onload=\"this.contentDocument.open();this.contentDocument.write(atob(this.getAttribute('data-html')));this.contentDocument.close();\" allowfullscreen webkitallowfullscreen mozallowfullscreen></iframe></div></div>"
      ],
      "text/plain": [
       "<folium.folium.Map at 0x1fcbdbe0080>"
      ]
     },
     "metadata": {},
     "output_type": "display_data"
    }
   ],
   "source": [
    "# create a map centered on Cambridge\n",
    "cambridge_map_ref = folium.Map(location=[city_latitude, city_longitude], zoom_start=12.5,control_scale=True)\n",
    "addMarkers(cambridge_map_ref)\n",
    "plt.savefig('District_2.pdf', bbox_inches='tight')"
   ]
  },
  {
   "cell_type": "markdown",
   "metadata": {},
   "source": [
    "#### Iterate the data retrieval process"
   ]
  },
  {
   "cell_type": "code",
   "execution_count": 26,
   "metadata": {},
   "outputs": [
    {
     "name": "stdout",
     "output_type": "stream",
     "text": [
      "Original Venue:  187 Updated Venue:  226\n",
      "Original Ent:  160 Updated Ent:  179\n",
      "Original Latin:  5 Updated Latin:  5\n"
     ]
    }
   ],
   "source": [
    "district_venues_update = getVenues()\n",
    "district_entertain_update = getEntertainment()\n",
    "district_latin_update  = getLatin()\n",
    "\n",
    "print('Original Venue: ',district_venues.shape[0],'Updated Venue: ',district_venues_update.shape[0])\n",
    "print('Original Ent: ',district_entertain.shape[0],'Updated Ent: ',district_entertain_update.shape[0])\n",
    "print('Original Latin: ',district_latin.shape[0],'Updated Latin: ',district_latin_update.shape[0])"
   ]
  },
  {
   "cell_type": "markdown",
   "metadata": {},
   "source": [
    "#### Repeat - Bar Chart showing the frequency of restaurants within districts\n",
    "\n",
    "* Create a new horizontal bar plot with the districts and the frequency of restaurants"
   ]
  },
  {
   "cell_type": "code",
   "execution_count": 180,
   "metadata": {},
   "outputs": [
    {
     "data": {
      "image/png": "[encoded data removed]",
      "text/plain": [
       "<Figure size 1080x576 with 1 Axes>"
      ]
     },
     "metadata": {},
     "output_type": "display_data"
    }
   ],
   "source": [
    "district_venues_update['District'].value_counts().plot(kind='barh', figsize=(15,8), color=(0.2, 0.4, 0.6, 0.6))\n",
    "plt.savefig('District_Restaurant_BarH.pdf', bbox_inches='tight')"
   ]
  },
  {
   "cell_type": "markdown",
   "metadata": {},
   "source": [
    "In this chart, we can now see how Trumpington, Newnham and Romsey have moved forward in the frequency bar plot."
   ]
  },
  {
   "cell_type": "markdown",
   "metadata": {},
   "source": [
    "#### Details Map\n",
    "\n",
    "Let's a make a map to display the following:\n",
    "* Chloropeth Map showing the frequency of restaurants in the districts.\n",
    "* Cluster markers to show density"
   ]
  },
  {
   "cell_type": "code",
   "execution_count": 28,
   "metadata": {},
   "outputs": [],
   "source": [
    "# Create a DataFrame to hold the district names and count\n",
    "district_count = pd.DataFrame(district_venues_update['District'].value_counts())\n",
    "district_count.reset_index(inplace=True)\n",
    "district_count.columns = ['District','Count']"
   ]
  },
  {
   "cell_type": "code",
   "execution_count": 181,
   "metadata": {},
   "outputs": [
    {
     "data": {
      "text/html": [
       "<div style=\"width:100%;\"><div style=\"position:relative;width:100%;height:0;padding-bottom:60%;\"><span style=\"color:#565656\">Make this Notebook Trusted to load map: File -> Trust Notebook</span><iframe src=\"about:blank\" style=\"position:absolute;width:100%;height:100%;left:0;top:0;border:none !important;\" data-html=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 onload=\"this.contentDocument.open();this.contentDocument.write(atob(this.getAttribute('data-html')));this.contentDocument.close();\" allowfullscreen webkitallowfullscreen mozallowfullscreen></iframe></div></div>"
      ],
      "text/plain": [
       "<folium.folium.Map at 0x1fcc16985f8>"
      ]
     },
     "metadata": {},
     "output_type": "display_data"
    },
    {
     "data": {
      "text/plain": [
       "<Figure size 432x288 with 0 Axes>"
      ]
     },
     "metadata": {},
     "output_type": "display_data"
    }
   ],
   "source": [
    "from folium import plugins\n",
    "\n",
    "cambridge_geo = r'Cambridge.geojson' # geojson file\n",
    "\n",
    "# Initiate a map\n",
    "cambridge_ch_map = folium.Map(location=[city_latitude, city_longitude], zoom_start=12)\n",
    "\n",
    "# Add Choropleth Map\n",
    "folium.Choropleth(\n",
    "    geo_data=cambridge_geo,\n",
    "    name='choropleth',\n",
    "    data=district_count,\n",
    "    columns=['District','Count'],\n",
    "    key_on='feature.properties.Name',\n",
    "    fill_color='YlOrRd',\n",
    "    fill_opacity=0.7,\n",
    "    line_opacity=0.2,\n",
    "    legend_name='Restaurant Frequency'\n",
    ").add_to(cambridge_ch_map)\n",
    "\n",
    "\n",
    "# initiate a mark cluster object for the restaurants in the dataframe\n",
    "restaurants_cluster = plugins.MarkerCluster().add_to(cambridge_ch_map)\n",
    "\n",
    "# loop through the dataframe and add each data point to the mark cluster\n",
    "for lat, lng, label, in zip(district_venues_update['Venue Latitude'], district_venues_update['Venue Longitude'], district_venues_update['Venue']):\n",
    "    folium.Marker(\n",
    "        location=[lat, lng],\n",
    "        icon=None,\n",
    "        tooltip=label\n",
    "    ).add_to(restaurants_cluster)\n",
    "\n",
    "# Add choropleth item to layer control on the map\n",
    "folium.LayerControl().add_to(cambridge_ch_map)\n",
    "    \n",
    "display(cambridge_ch_map)\n",
    "plt.savefig('District_Restaurant_Choropleth.pdf', bbox_inches='tight')"
   ]
  },
  {
   "cell_type": "markdown",
   "metadata": {},
   "source": [
    "From this Choropleth Map we can distinguish that the central areas of Cambridge contain the most restaurants.\n",
    "* Choropleth and Cluster markers can be turned on an off using the layer control in the top right."
   ]
  },
  {
   "cell_type": "markdown",
   "metadata": {},
   "source": [
    "#### Adding existing Latin American restaurants\n",
    "\n",
    "* Show the current Latin American Restaurants, with a 500m radius.\n",
    "    * This is the zone where we will not suggest placing the new restaurant."
   ]
  },
  {
   "cell_type": "markdown",
   "metadata": {},
   "source": [
    "##### FUNCTION - Create Latin American Restaurant on Map"
   ]
  },
  {
   "cell_type": "code",
   "execution_count": 30,
   "metadata": {},
   "outputs": [],
   "source": [
    "def addLatin_toMap(m):\n",
    "    for lat, lng, label, in zip(district_latin_update['Venue Latitude'], district_latin_update['Venue Longitude'], district_latin_update['Venue']):\n",
    "        location = np.array([lat,lng])\n",
    "        # Add Marker\n",
    "        folium.Marker(location, popup='<i>{}</i>'.format(label), tooltip='Latin American Restaurant', icon=folium.Icon(color='red', icon='info-sign')).add_to(m)\n",
    "        # Add Radius of 500m\n",
    "        folium.Circle(\n",
    "                location=location,\n",
    "                radius=500,\n",
    "                color='#f54242',\n",
    "                fill=True,\n",
    "                fill_color='#f54242'\n",
    "            ).add_to(m)"
   ]
  },
  {
   "cell_type": "markdown",
   "metadata": {},
   "source": [
    "##### Create Map"
   ]
  },
  {
   "cell_type": "code",
   "execution_count": 182,
   "metadata": {},
   "outputs": [
    {
     "data": {
      "text/html": [
       "<div style=\"width:100%;\"><div style=\"position:relative;width:100%;height:0;padding-bottom:60%;\"><span style=\"color:#565656\">Make this Notebook Trusted to load map: File -> Trust Notebook</span><iframe src=\"about:blank\" style=\"position:absolute;width:100%;height:100%;left:0;top:0;border:none !important;\" data-html=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 onload=\"this.contentDocument.open();this.contentDocument.write(atob(this.getAttribute('data-html')));this.contentDocument.close();\" allowfullscreen webkitallowfullscreen mozallowfullscreen></iframe></div></div>"
      ],
      "text/plain": [
       "<folium.folium.Map at 0x1fcbf737208>"
      ]
     },
     "metadata": {},
     "output_type": "display_data"
    },
    {
     "data": {
      "text/plain": [
       "<Figure size 432x288 with 0 Axes>"
      ]
     },
     "metadata": {},
     "output_type": "display_data"
    }
   ],
   "source": [
    "cambridge_latin_map = folium.Map(location=[city_latitude, city_longitude], zoom_start=14)\n",
    "\n",
    "addLatin_toMap(cambridge_latin_map)\n",
    "addMarkers(cambridge_latin_map)\n",
    "plt.savefig('District_LatinAmerican_Map.pdf', bbox_inches='tight')  "
   ]
  },
  {
   "cell_type": "markdown",
   "metadata": {},
   "source": [
    "From the map we can see that the two existing Latin American restaurants are located in **Petersfield** and **Romsey**.\n",
    "We will therfore exclude these two districts when choosing the location. \n",
    "But what areas are similar to these two?\n",
    "Let us make a cluster of similar areas, we will include **Entertainment** venues in the cluster calculations.\n",
    "\n",
    "But from looking at this map, we would like to find a location that is **similar** to **Petersfield** and **Romsey** as these have Latin American restaurants that are competing in an enviroment where they are the outliers."
   ]
  },
  {
   "cell_type": "markdown",
   "metadata": {},
   "source": [
    "<div style=\"background-color:#769fcd;color:#FFFFFF;padding:15px;\">\n",
    "<h2>3. Methodology</h2><a name=\"methods\"></a>\n",
    "</div>"
   ]
  },
  {
   "cell_type": "markdown",
   "metadata": {},
   "source": [
    "Now that we have gathered the data from scraping, and from our geojson file we can start to analyise the results.<br>Data gathered in the **Data</a>** section includes:\n",
    "* Districts\n",
    "* Centroid locations for Districts\n",
    "* DataFrame for **Restaurants** within each District within **500m** of centroid\n",
    "* DataFrame for **Entertainment** within each District within **500m** of centroid\n",
    "* DataFrame for **Latin American** restaurants within each District within **500m** of centroid\n",
    "\n",
    "Our **goal** is to find the districts where there are **no Latin American restaurants** and a **populous nightlife**.\n",
    "\n",
    "In the **analysis** section we will use the following methods:\n",
    "* **Clustering** using **K-Means** our districts using the data we have for the restaurants and entertainment venues within the sample that we have taken for each district. The samples consists of all restaurants and entertainment within a 500 metre radius of the centroid location.\n",
    "* **Scatter Plot** using to show the correlation between restaurant and entertainment venues.\n",
    "* **Show** that Cambridge fits into the same popular restaurant types as the rest of the UK.\n",
    "* **DBSCAN Clustering** will be used to find clusters in entertainment venues within a district.\n",
    "\n",
    "The final product of the research will be to provide an address for each district which is similar to the cluster of **Petersfield** and **Romsey** where there are already successful **Latin American** restaurants. The address will be located in the centre of the entertainment venues and not within **1km** of a competing **Latin American** restaurant."
   ]
  },
  {
   "cell_type": "markdown",
   "metadata": {},
   "source": [
    "[Back to Contents](#contents)"
   ]
  },
  {
   "cell_type": "markdown",
   "metadata": {},
   "source": [
    "<div style=\"background-color:#769fcd;color:#FFFFFF;padding:15px;\">\n",
    "<h2>4. Analysis</h2><a name=\"analysis\"></a>\n",
    "</div>"
   ]
  },
  {
   "cell_type": "markdown",
   "metadata": {},
   "source": [
    "<p>In this section we hope to use our analysis to show suitable locations for the **Peruvian Restaurant**.</p>\n",
    "<p>To start we will confirm that **Cambridge** does follow the normal trend in most popular restaurants compared to the **UK**.</p>\n",
    "<p>Then we will cluster the districts into similar clusters using **K-Means**.<p>\n",
    "<p>After that we will see if there is a **correlation** between the frequency of restaurants and entertainment venues.</p>\n",
    "<p>Following on from that using **DBSCAN** we will find the cluster with the densest entertainment venues within the 3 districts that we have chosen to look into. This will be used later to find the ideal location for the restaurant. The clustering will use the **Latitude and Longitude** of the entertainment venues<p>\n",
    "<p>Lastly the final anaylsis will be to find the ideal locations, we will get the mean of the most popular clusters from the **DBSCAN** step. This will get us a centralised latitude and longitude for the cluster, then we will need to confirm that this is not within a **1km** radius of any other **Latin American** restaurant.</p>"
   ]
  },
  {
   "cell_type": "markdown",
   "metadata": {},
   "source": [
    "### Does Cambridge follow the same food popularity that the rest of the UK does?"
   ]
  },
  {
   "cell_type": "markdown",
   "metadata": {},
   "source": [
    "As of current statistics these are the **5** most popular restaurant cuisines in the **UK**\n",
    "<ol>\n",
    "    <li>Pub Food</li>\n",
    "    <li>English</li>\n",
    "    <li>Chinese</li>\n",
    "    <li>Indian</li>\n",
    "    <li>Italian</li>\n",
    "</ol>\n",
    "\n",
    "> <small>Appendix: 1.1</small>\n",
    "> <a href=\"https://beambox.com/townsquare/what-are-the-most-popular-types-of-restaurants-in-the-uk\">What are the most popular types of restaurants in the UK</a><br>\n",
    "> <cite>Beambox.com</cite>"
   ]
  },
  {
   "cell_type": "code",
   "execution_count": 32,
   "metadata": {},
   "outputs": [
    {
     "name": "stdout",
     "output_type": "stream",
     "text": [
      "There are 50 uniques restaurant categories in Cambridge.\n"
     ]
    }
   ],
   "source": [
    "print('There are {} uniques restaurant categories in Cambridge.'.format(len(district_venues_update['Venue Category'].unique())))"
   ]
  },
  {
   "cell_type": "code",
   "execution_count": 33,
   "metadata": {},
   "outputs": [
    {
     "data": {
      "text/html": [
       "<div>\n",
       "<style scoped>\n",
       "    .dataframe tbody tr th:only-of-type {\n",
       "        vertical-align: middle;\n",
       "    }\n",
       "\n",
       "    .dataframe tbody tr th {\n",
       "        vertical-align: top;\n",
       "    }\n",
       "\n",
       "    .dataframe thead th {\n",
       "        text-align: right;\n",
       "    }\n",
       "</style>\n",
       "<table border=\"1\" class=\"dataframe\">\n",
       "  <thead>\n",
       "    <tr style=\"text-align: right;\">\n",
       "      <th></th>\n",
       "      <th>Category</th>\n",
       "      <th>Count</th>\n",
       "    </tr>\n",
       "  </thead>\n",
       "  <tbody>\n",
       "    <tr>\n",
       "      <th>11</th>\n",
       "      <td>Café</td>\n",
       "      <td>39</td>\n",
       "    </tr>\n",
       "    <tr>\n",
       "      <th>27</th>\n",
       "      <td>Indian Restaurant</td>\n",
       "      <td>21</td>\n",
       "    </tr>\n",
       "    <tr>\n",
       "      <th>13</th>\n",
       "      <td>Chinese Restaurant</td>\n",
       "      <td>20</td>\n",
       "    </tr>\n",
       "    <tr>\n",
       "      <th>14</th>\n",
       "      <td>Coffee Shop</td>\n",
       "      <td>19</td>\n",
       "    </tr>\n",
       "    <tr>\n",
       "      <th>5</th>\n",
       "      <td>Bakery</td>\n",
       "      <td>13</td>\n",
       "    </tr>\n",
       "    <tr>\n",
       "      <th>20</th>\n",
       "      <td>Fast Food Restaurant</td>\n",
       "      <td>9</td>\n",
       "    </tr>\n",
       "    <tr>\n",
       "      <th>36</th>\n",
       "      <td>Restaurant</td>\n",
       "      <td>7</td>\n",
       "    </tr>\n",
       "    <tr>\n",
       "      <th>34</th>\n",
       "      <td>Pizza Place</td>\n",
       "      <td>7</td>\n",
       "    </tr>\n",
       "    <tr>\n",
       "      <th>25</th>\n",
       "      <td>Gastropub</td>\n",
       "      <td>7</td>\n",
       "    </tr>\n",
       "    <tr>\n",
       "      <th>42</th>\n",
       "      <td>Sushi Restaurant</td>\n",
       "      <td>7</td>\n",
       "    </tr>\n",
       "  </tbody>\n",
       "</table>\n",
       "</div>"
      ],
      "text/plain": [
       "                Category  Count\n",
       "11                  Café     39\n",
       "27     Indian Restaurant     21\n",
       "13    Chinese Restaurant     20\n",
       "14           Coffee Shop     19\n",
       "5                 Bakery     13\n",
       "20  Fast Food Restaurant      9\n",
       "36            Restaurant      7\n",
       "34           Pizza Place      7\n",
       "25             Gastropub      7\n",
       "42      Sushi Restaurant      7"
      ]
     },
     "execution_count": 33,
     "metadata": {},
     "output_type": "execute_result"
    }
   ],
   "source": [
    "venue_check = district_venues_update.groupby('Venue Category').count()\n",
    "venue_check.drop(columns=['Venue','Venue Latitude','Venue Longitude'],inplace=True)\n",
    "venue_check.reset_index(inplace=True)\n",
    "venue_check.columns = ['Category','Count']\n",
    "venue_check.sort_values(by='Count', ascending=False).head(10)"
   ]
  },
  {
   "cell_type": "markdown",
   "metadata": {},
   "source": [
    "Looking at the results of the above table, if we were to remove the following from the list:\n",
    "* Café\n",
    "* Coffee Shop\n",
    "* Bakery\n",
    "As the above list are technically not restaurants, we can remove these.\n",
    "\n",
    "We can see that the the order of the **UK top 5** in Cambridge would be:\n",
    "1. Indian\n",
    "2. Chinese\n",
    "3. Pizza\n",
    "4. Gastropub\n",
    "\n",
    "Using Foursquare and adding the category for food has not included pubs into the equation. Most pubs serve some form of food and are listed as the number one in the UK.\n",
    "\n",
    "Lets add the entertainment and night spots dataframe to the venue dataframe and recalculate."
   ]
  },
  {
   "cell_type": "code",
   "execution_count": 34,
   "metadata": {},
   "outputs": [
    {
     "data": {
      "text/html": [
       "<div>\n",
       "<style scoped>\n",
       "    .dataframe tbody tr th:only-of-type {\n",
       "        vertical-align: middle;\n",
       "    }\n",
       "\n",
       "    .dataframe tbody tr th {\n",
       "        vertical-align: top;\n",
       "    }\n",
       "\n",
       "    .dataframe thead th {\n",
       "        text-align: right;\n",
       "    }\n",
       "</style>\n",
       "<table border=\"1\" class=\"dataframe\">\n",
       "  <thead>\n",
       "    <tr style=\"text-align: right;\">\n",
       "      <th></th>\n",
       "      <th>Category</th>\n",
       "      <th>Count</th>\n",
       "    </tr>\n",
       "  </thead>\n",
       "  <tbody>\n",
       "    <tr>\n",
       "      <th>60</th>\n",
       "      <td>Pub</td>\n",
       "      <td>60</td>\n",
       "    </tr>\n",
       "    <tr>\n",
       "      <th>17</th>\n",
       "      <td>Café</td>\n",
       "      <td>39</td>\n",
       "    </tr>\n",
       "    <tr>\n",
       "      <th>43</th>\n",
       "      <td>Indian Restaurant</td>\n",
       "      <td>21</td>\n",
       "    </tr>\n",
       "    <tr>\n",
       "      <th>19</th>\n",
       "      <td>Chinese Restaurant</td>\n",
       "      <td>21</td>\n",
       "    </tr>\n",
       "    <tr>\n",
       "      <th>21</th>\n",
       "      <td>Coffee Shop</td>\n",
       "      <td>19</td>\n",
       "    </tr>\n",
       "    <tr>\n",
       "      <th>8</th>\n",
       "      <td>Bar</td>\n",
       "      <td>18</td>\n",
       "    </tr>\n",
       "    <tr>\n",
       "      <th>3</th>\n",
       "      <td>Art Gallery</td>\n",
       "      <td>15</td>\n",
       "    </tr>\n",
       "    <tr>\n",
       "      <th>7</th>\n",
       "      <td>Bakery</td>\n",
       "      <td>13</td>\n",
       "    </tr>\n",
       "    <tr>\n",
       "      <th>31</th>\n",
       "      <td>Fast Food Restaurant</td>\n",
       "      <td>9</td>\n",
       "    </tr>\n",
       "    <tr>\n",
       "      <th>53</th>\n",
       "      <td>Nightclub</td>\n",
       "      <td>8</td>\n",
       "    </tr>\n",
       "    <tr>\n",
       "      <th>61</th>\n",
       "      <td>Public Art</td>\n",
       "      <td>7</td>\n",
       "    </tr>\n",
       "    <tr>\n",
       "      <th>75</th>\n",
       "      <td>Sushi Restaurant</td>\n",
       "      <td>7</td>\n",
       "    </tr>\n",
       "    <tr>\n",
       "      <th>38</th>\n",
       "      <td>General Entertainment</td>\n",
       "      <td>7</td>\n",
       "    </tr>\n",
       "    <tr>\n",
       "      <th>36</th>\n",
       "      <td>Gastropub</td>\n",
       "      <td>7</td>\n",
       "    </tr>\n",
       "    <tr>\n",
       "      <th>58</th>\n",
       "      <td>Pizza Place</td>\n",
       "      <td>7</td>\n",
       "    </tr>\n",
       "    <tr>\n",
       "      <th>62</th>\n",
       "      <td>Restaurant</td>\n",
       "      <td>7</td>\n",
       "    </tr>\n",
       "    <tr>\n",
       "      <th>34</th>\n",
       "      <td>Food Truck</td>\n",
       "      <td>6</td>\n",
       "    </tr>\n",
       "    <tr>\n",
       "      <th>44</th>\n",
       "      <td>Italian Restaurant</td>\n",
       "      <td>6</td>\n",
       "    </tr>\n",
       "    <tr>\n",
       "      <th>64</th>\n",
       "      <td>Sandwich Place</td>\n",
       "      <td>5</td>\n",
       "    </tr>\n",
       "    <tr>\n",
       "      <th>32</th>\n",
       "      <td>Fish &amp; Chips Shop</td>\n",
       "      <td>5</td>\n",
       "    </tr>\n",
       "  </tbody>\n",
       "</table>\n",
       "</div>"
      ],
      "text/plain": [
       "                 Category  Count\n",
       "60                    Pub     60\n",
       "17                   Café     39\n",
       "43      Indian Restaurant     21\n",
       "19     Chinese Restaurant     21\n",
       "21            Coffee Shop     19\n",
       "8                     Bar     18\n",
       "3             Art Gallery     15\n",
       "7                  Bakery     13\n",
       "31   Fast Food Restaurant      9\n",
       "53              Nightclub      8\n",
       "61             Public Art      7\n",
       "75       Sushi Restaurant      7\n",
       "38  General Entertainment      7\n",
       "36              Gastropub      7\n",
       "58            Pizza Place      7\n",
       "62             Restaurant      7\n",
       "34             Food Truck      6\n",
       "44     Italian Restaurant      6\n",
       "64         Sandwich Place      5\n",
       "32      Fish & Chips Shop      5"
      ]
     },
     "execution_count": 34,
     "metadata": {},
     "output_type": "execute_result"
    }
   ],
   "source": [
    "# Add Venues and Entertainment\n",
    "frames = [district_venues_update, district_entertain_update]\n",
    "df_Combine = pd.concat(frames)\n",
    "\n",
    "venue_check = df_Combine.groupby('Venue Category').count()\n",
    "venue_check.drop(columns=['Venue','Venue Latitude','Venue Longitude'],inplace=True)\n",
    "venue_check.reset_index(inplace=True)\n",
    "venue_check.columns = ['Category','Count']\n",
    "venue_check.sort_values(by='Count', ascending=False).head(20)"
   ]
  },
  {
   "cell_type": "markdown",
   "metadata": {},
   "source": [
    "We have taken the top 20 items in this view. As there are all items now, including entertainment it is useful to see where Pizza and Gastropub have fallen.\n",
    "\n",
    "If we combine names of restaurants that are similar (e.g. Italian Restaurant -> Pizza, Fish & Chips Shop -> English) then we will change the order of the **UK top 5** in Cambridge to the following:\n",
    "1. Pub/Gastropub (67)\n",
    "2. Chinese & Indian (21 each)\n",
    "3. Pizza/Italian (13)\n",
    "4. Fish & Chips Shop(5)\n",
    "\n",
    "Overall we can agree that the **UK top 5** list of restaurants does mostly apply to Cambridge."
   ]
  },
  {
   "cell_type": "markdown",
   "metadata": {},
   "source": [
    "#### One-Hot-Encoding, using Restaurants and Entertainment Venues\n",
    "\n",
    "To start we will use One-Hot-Encoding, so that we can assign a numerical value to each category.\n",
    "We will use the df_Combine which we made earlier to groupby in order to obtain the most frequent venues."
   ]
  },
  {
   "cell_type": "code",
   "execution_count": 35,
   "metadata": {},
   "outputs": [],
   "source": [
    "# one hot encoding\n",
    "cambridge_onehot = pd.get_dummies(df_Combine[['Venue Category']], prefix=\"\", prefix_sep=\"\")\n",
    "\n",
    "# add District column back to dataframe\n",
    "cambridge_onehot['District'] = df_Combine['District'] \n",
    "\n",
    "# move District column to the first column\n",
    "fixed_columns = [cambridge_onehot.columns[-1]] + list(cambridge_onehot.columns[:-1])\n",
    "cambridge_onehot = cambridge_onehot[fixed_columns]"
   ]
  },
  {
   "cell_type": "markdown",
   "metadata": {},
   "source": [
    "**Group by District**"
   ]
  },
  {
   "cell_type": "code",
   "execution_count": 36,
   "metadata": {
    "scrolled": true
   },
   "outputs": [
    {
     "name": "stdout",
     "output_type": "stream",
     "text": [
      "Shape:  (14, 88)\n"
     ]
    },
    {
     "data": {
      "text/html": [
       "<div>\n",
       "<style scoped>\n",
       "    .dataframe tbody tr th:only-of-type {\n",
       "        vertical-align: middle;\n",
       "    }\n",
       "\n",
       "    .dataframe tbody tr th {\n",
       "        vertical-align: top;\n",
       "    }\n",
       "\n",
       "    .dataframe thead th {\n",
       "        text-align: right;\n",
       "    }\n",
       "</style>\n",
       "<table border=\"1\" class=\"dataframe\">\n",
       "  <thead>\n",
       "    <tr style=\"text-align: right;\">\n",
       "      <th></th>\n",
       "      <th>District</th>\n",
       "      <th>African Restaurant</th>\n",
       "      <th>Arcade</th>\n",
       "      <th>Arepa Restaurant</th>\n",
       "      <th>Art Gallery</th>\n",
       "      <th>Arts &amp; Entertainment</th>\n",
       "      <th>Asian Restaurant</th>\n",
       "      <th>BBQ Joint</th>\n",
       "      <th>Bakery</th>\n",
       "      <th>Bar</th>\n",
       "      <th>...</th>\n",
       "      <th>Thai Restaurant</th>\n",
       "      <th>Theater</th>\n",
       "      <th>Theme Restaurant</th>\n",
       "      <th>Tour Provider</th>\n",
       "      <th>Turkish Restaurant</th>\n",
       "      <th>Vegetarian / Vegan Restaurant</th>\n",
       "      <th>Vietnamese Restaurant</th>\n",
       "      <th>Water Park</th>\n",
       "      <th>Whisky Bar</th>\n",
       "      <th>Wings Joint</th>\n",
       "    </tr>\n",
       "  </thead>\n",
       "  <tbody>\n",
       "    <tr>\n",
       "      <th>0</th>\n",
       "      <td>Abbey</td>\n",
       "      <td>0.0</td>\n",
       "      <td>0.0</td>\n",
       "      <td>0.0</td>\n",
       "      <td>0.00</td>\n",
       "      <td>0.0</td>\n",
       "      <td>0.00</td>\n",
       "      <td>0.0</td>\n",
       "      <td>0.000000</td>\n",
       "      <td>0.111111</td>\n",
       "      <td>...</td>\n",
       "      <td>0.0</td>\n",
       "      <td>0.0</td>\n",
       "      <td>0.0</td>\n",
       "      <td>0.0</td>\n",
       "      <td>0.0</td>\n",
       "      <td>0.0</td>\n",
       "      <td>0.0</td>\n",
       "      <td>0.111111</td>\n",
       "      <td>0.0</td>\n",
       "      <td>0.0</td>\n",
       "    </tr>\n",
       "    <tr>\n",
       "      <th>1</th>\n",
       "      <td>Arbury</td>\n",
       "      <td>0.0</td>\n",
       "      <td>0.0</td>\n",
       "      <td>0.0</td>\n",
       "      <td>0.05</td>\n",
       "      <td>0.0</td>\n",
       "      <td>0.05</td>\n",
       "      <td>0.0</td>\n",
       "      <td>0.000000</td>\n",
       "      <td>0.000000</td>\n",
       "      <td>...</td>\n",
       "      <td>0.0</td>\n",
       "      <td>0.0</td>\n",
       "      <td>0.0</td>\n",
       "      <td>0.0</td>\n",
       "      <td>0.0</td>\n",
       "      <td>0.0</td>\n",
       "      <td>0.0</td>\n",
       "      <td>0.000000</td>\n",
       "      <td>0.0</td>\n",
       "      <td>0.0</td>\n",
       "    </tr>\n",
       "    <tr>\n",
       "      <th>2</th>\n",
       "      <td>Castle</td>\n",
       "      <td>0.0</td>\n",
       "      <td>0.0</td>\n",
       "      <td>0.0</td>\n",
       "      <td>0.15</td>\n",
       "      <td>0.0</td>\n",
       "      <td>0.00</td>\n",
       "      <td>0.0</td>\n",
       "      <td>0.000000</td>\n",
       "      <td>0.150000</td>\n",
       "      <td>...</td>\n",
       "      <td>0.0</td>\n",
       "      <td>0.0</td>\n",
       "      <td>0.0</td>\n",
       "      <td>0.0</td>\n",
       "      <td>0.0</td>\n",
       "      <td>0.0</td>\n",
       "      <td>0.0</td>\n",
       "      <td>0.000000</td>\n",
       "      <td>0.0</td>\n",
       "      <td>0.0</td>\n",
       "    </tr>\n",
       "    <tr>\n",
       "      <th>3</th>\n",
       "      <td>Cherry Hinton</td>\n",
       "      <td>0.0</td>\n",
       "      <td>0.0</td>\n",
       "      <td>0.0</td>\n",
       "      <td>0.00</td>\n",
       "      <td>0.0</td>\n",
       "      <td>0.00</td>\n",
       "      <td>0.0</td>\n",
       "      <td>0.111111</td>\n",
       "      <td>0.000000</td>\n",
       "      <td>...</td>\n",
       "      <td>0.0</td>\n",
       "      <td>0.0</td>\n",
       "      <td>0.0</td>\n",
       "      <td>0.0</td>\n",
       "      <td>0.0</td>\n",
       "      <td>0.0</td>\n",
       "      <td>0.0</td>\n",
       "      <td>0.000000</td>\n",
       "      <td>0.0</td>\n",
       "      <td>0.0</td>\n",
       "    </tr>\n",
       "    <tr>\n",
       "      <th>4</th>\n",
       "      <td>Coleridge</td>\n",
       "      <td>0.0</td>\n",
       "      <td>0.0</td>\n",
       "      <td>0.0</td>\n",
       "      <td>0.00</td>\n",
       "      <td>0.0</td>\n",
       "      <td>0.00</td>\n",
       "      <td>0.0</td>\n",
       "      <td>0.000000</td>\n",
       "      <td>0.000000</td>\n",
       "      <td>...</td>\n",
       "      <td>0.0</td>\n",
       "      <td>0.0</td>\n",
       "      <td>0.0</td>\n",
       "      <td>0.0</td>\n",
       "      <td>0.0</td>\n",
       "      <td>0.0</td>\n",
       "      <td>0.0</td>\n",
       "      <td>0.000000</td>\n",
       "      <td>0.0</td>\n",
       "      <td>0.0</td>\n",
       "    </tr>\n",
       "  </tbody>\n",
       "</table>\n",
       "<p>5 rows × 88 columns</p>\n",
       "</div>"
      ],
      "text/plain": [
       "        District  African Restaurant  Arcade  Arepa Restaurant  Art Gallery  \\\n",
       "0          Abbey                 0.0     0.0               0.0         0.00   \n",
       "1         Arbury                 0.0     0.0               0.0         0.05   \n",
       "2         Castle                 0.0     0.0               0.0         0.15   \n",
       "3  Cherry Hinton                 0.0     0.0               0.0         0.00   \n",
       "4      Coleridge                 0.0     0.0               0.0         0.00   \n",
       "\n",
       "   Arts & Entertainment  Asian Restaurant  BBQ Joint    Bakery       Bar  \\\n",
       "0                   0.0              0.00        0.0  0.000000  0.111111   \n",
       "1                   0.0              0.05        0.0  0.000000  0.000000   \n",
       "2                   0.0              0.00        0.0  0.000000  0.150000   \n",
       "3                   0.0              0.00        0.0  0.111111  0.000000   \n",
       "4                   0.0              0.00        0.0  0.000000  0.000000   \n",
       "\n",
       "      ...       Thai Restaurant  Theater  Theme Restaurant  Tour Provider  \\\n",
       "0     ...                   0.0      0.0               0.0            0.0   \n",
       "1     ...                   0.0      0.0               0.0            0.0   \n",
       "2     ...                   0.0      0.0               0.0            0.0   \n",
       "3     ...                   0.0      0.0               0.0            0.0   \n",
       "4     ...                   0.0      0.0               0.0            0.0   \n",
       "\n",
       "   Turkish Restaurant  Vegetarian / Vegan Restaurant  Vietnamese Restaurant  \\\n",
       "0                 0.0                            0.0                    0.0   \n",
       "1                 0.0                            0.0                    0.0   \n",
       "2                 0.0                            0.0                    0.0   \n",
       "3                 0.0                            0.0                    0.0   \n",
       "4                 0.0                            0.0                    0.0   \n",
       "\n",
       "   Water Park  Whisky Bar  Wings Joint  \n",
       "0    0.111111         0.0          0.0  \n",
       "1    0.000000         0.0          0.0  \n",
       "2    0.000000         0.0          0.0  \n",
       "3    0.000000         0.0          0.0  \n",
       "4    0.000000         0.0          0.0  \n",
       "\n",
       "[5 rows x 88 columns]"
      ]
     },
     "execution_count": 36,
     "metadata": {},
     "output_type": "execute_result"
    }
   ],
   "source": [
    "district_grouped = cambridge_onehot.groupby('District').mean().reset_index()\n",
    "print('Shape: ',district_grouped.shape)\n",
    "district_grouped.head()"
   ]
  },
  {
   "cell_type": "markdown",
   "metadata": {},
   "source": [
    "##### FUNCTION - Most Common Venues"
   ]
  },
  {
   "cell_type": "code",
   "execution_count": 37,
   "metadata": {},
   "outputs": [],
   "source": [
    "def return_most_common_venues(row, num_top_venues):\n",
    "    row_categories = row.iloc[1:]\n",
    "    row_categories_sorted = row_categories.sort_values(ascending=False)\n",
    "    \n",
    "    return row_categories_sorted.index.values[0:num_top_venues]"
   ]
  },
  {
   "cell_type": "markdown",
   "metadata": {},
   "source": [
    "##### Create a DataFrame to show the top 10 venues in each district"
   ]
  },
  {
   "cell_type": "code",
   "execution_count": 38,
   "metadata": {},
   "outputs": [
    {
     "data": {
      "text/html": [
       "<div>\n",
       "<style scoped>\n",
       "    .dataframe tbody tr th:only-of-type {\n",
       "        vertical-align: middle;\n",
       "    }\n",
       "\n",
       "    .dataframe tbody tr th {\n",
       "        vertical-align: top;\n",
       "    }\n",
       "\n",
       "    .dataframe thead th {\n",
       "        text-align: right;\n",
       "    }\n",
       "</style>\n",
       "<table border=\"1\" class=\"dataframe\">\n",
       "  <thead>\n",
       "    <tr style=\"text-align: right;\">\n",
       "      <th></th>\n",
       "      <th>District</th>\n",
       "      <th>1st Most Common Venue</th>\n",
       "      <th>2nd Most Common Venue</th>\n",
       "      <th>3rd Most Common Venue</th>\n",
       "      <th>4th Most Common Venue</th>\n",
       "      <th>5th Most Common Venue</th>\n",
       "      <th>6th Most Common Venue</th>\n",
       "      <th>7th Most Common Venue</th>\n",
       "      <th>8th Most Common Venue</th>\n",
       "      <th>9th Most Common Venue</th>\n",
       "      <th>10th Most Common Venue</th>\n",
       "    </tr>\n",
       "  </thead>\n",
       "  <tbody>\n",
       "    <tr>\n",
       "      <th>0</th>\n",
       "      <td>Abbey</td>\n",
       "      <td>Indian Restaurant</td>\n",
       "      <td>Bar</td>\n",
       "      <td>Gastropub</td>\n",
       "      <td>Fish &amp; Chips Shop</td>\n",
       "      <td>Fast Food Restaurant</td>\n",
       "      <td>Pizza Place</td>\n",
       "      <td>Soccer Stadium</td>\n",
       "      <td>Chinese Restaurant</td>\n",
       "      <td>Water Park</td>\n",
       "      <td>BBQ Joint</td>\n",
       "    </tr>\n",
       "    <tr>\n",
       "      <th>1</th>\n",
       "      <td>Arbury</td>\n",
       "      <td>Indian Restaurant</td>\n",
       "      <td>Pub</td>\n",
       "      <td>Speakeasy</td>\n",
       "      <td>Gastropub</td>\n",
       "      <td>Jazz Club</td>\n",
       "      <td>Nightclub</td>\n",
       "      <td>Dance Studio</td>\n",
       "      <td>Pizza Place</td>\n",
       "      <td>Sandwich Place</td>\n",
       "      <td>Chinese Restaurant</td>\n",
       "    </tr>\n",
       "    <tr>\n",
       "      <th>2</th>\n",
       "      <td>Castle</td>\n",
       "      <td>Public Art</td>\n",
       "      <td>Bar</td>\n",
       "      <td>Art Gallery</td>\n",
       "      <td>Pizza Place</td>\n",
       "      <td>Cricket Ground</td>\n",
       "      <td>Café</td>\n",
       "      <td>Speakeasy</td>\n",
       "      <td>Nightclub</td>\n",
       "      <td>Pub</td>\n",
       "      <td>Indian Restaurant</td>\n",
       "    </tr>\n",
       "    <tr>\n",
       "      <th>3</th>\n",
       "      <td>Cherry Hinton</td>\n",
       "      <td>Pub</td>\n",
       "      <td>Chinese Restaurant</td>\n",
       "      <td>Indian Restaurant</td>\n",
       "      <td>Gastropub</td>\n",
       "      <td>Pizza Place</td>\n",
       "      <td>Bakery</td>\n",
       "      <td>Restaurant</td>\n",
       "      <td>Dive Bar</td>\n",
       "      <td>Cricket Ground</td>\n",
       "      <td>Dance Studio</td>\n",
       "    </tr>\n",
       "    <tr>\n",
       "      <th>4</th>\n",
       "      <td>Coleridge</td>\n",
       "      <td>Chinese Restaurant</td>\n",
       "      <td>Pub</td>\n",
       "      <td>Indian Restaurant</td>\n",
       "      <td>Restaurant</td>\n",
       "      <td>Café</td>\n",
       "      <td>Pizza Place</td>\n",
       "      <td>Deli / Bodega</td>\n",
       "      <td>North Indian Restaurant</td>\n",
       "      <td>Comedy Club</td>\n",
       "      <td>Fish &amp; Chips Shop</td>\n",
       "    </tr>\n",
       "    <tr>\n",
       "      <th>5</th>\n",
       "      <td>East Chesterton</td>\n",
       "      <td>Indian Restaurant</td>\n",
       "      <td>Pub</td>\n",
       "      <td>Music Venue</td>\n",
       "      <td>Fast Food Restaurant</td>\n",
       "      <td>Beer Garden</td>\n",
       "      <td>Gastropub</td>\n",
       "      <td>Dive Bar</td>\n",
       "      <td>Cricket Ground</td>\n",
       "      <td>Historic Site</td>\n",
       "      <td>Dance Studio</td>\n",
       "    </tr>\n",
       "    <tr>\n",
       "      <th>6</th>\n",
       "      <td>Kings Hedges</td>\n",
       "      <td>Pub</td>\n",
       "      <td>Café</td>\n",
       "      <td>Asian Restaurant</td>\n",
       "      <td>Chinese Restaurant</td>\n",
       "      <td>Burger Joint</td>\n",
       "      <td>Music Venue</td>\n",
       "      <td>Arcade</td>\n",
       "      <td>Historic Site</td>\n",
       "      <td>Gay Bar</td>\n",
       "      <td>Gastropub</td>\n",
       "    </tr>\n",
       "    <tr>\n",
       "      <th>7</th>\n",
       "      <td>Market</td>\n",
       "      <td>Pub</td>\n",
       "      <td>Bar</td>\n",
       "      <td>Coffee Shop</td>\n",
       "      <td>Café</td>\n",
       "      <td>Art Gallery</td>\n",
       "      <td>Sushi Restaurant</td>\n",
       "      <td>Theater</td>\n",
       "      <td>Bakery</td>\n",
       "      <td>Restaurant</td>\n",
       "      <td>Breakfast Spot</td>\n",
       "    </tr>\n",
       "    <tr>\n",
       "      <th>8</th>\n",
       "      <td>Newnham</td>\n",
       "      <td>Pub</td>\n",
       "      <td>Café</td>\n",
       "      <td>Bar</td>\n",
       "      <td>Thai Restaurant</td>\n",
       "      <td>Restaurant</td>\n",
       "      <td>History Museum</td>\n",
       "      <td>Outdoor Sculpture</td>\n",
       "      <td>Butcher</td>\n",
       "      <td>Fish &amp; Chips Shop</td>\n",
       "      <td>Indian Restaurant</td>\n",
       "    </tr>\n",
       "    <tr>\n",
       "      <th>9</th>\n",
       "      <td>Petersfield</td>\n",
       "      <td>Pub</td>\n",
       "      <td>Café</td>\n",
       "      <td>Coffee Shop</td>\n",
       "      <td>Indian Restaurant</td>\n",
       "      <td>Bakery</td>\n",
       "      <td>Art Gallery</td>\n",
       "      <td>Chinese Restaurant</td>\n",
       "      <td>Public Art</td>\n",
       "      <td>Beer Garden</td>\n",
       "      <td>Fast Food Restaurant</td>\n",
       "    </tr>\n",
       "    <tr>\n",
       "      <th>10</th>\n",
       "      <td>Queen Ediths</td>\n",
       "      <td>Coffee Shop</td>\n",
       "      <td>Pub</td>\n",
       "      <td>Fast Food Restaurant</td>\n",
       "      <td>Historic Site</td>\n",
       "      <td>Dive Bar</td>\n",
       "      <td>Creperie</td>\n",
       "      <td>Cricket Ground</td>\n",
       "      <td>History Museum</td>\n",
       "      <td>Dance Studio</td>\n",
       "      <td>Deli / Bodega</td>\n",
       "    </tr>\n",
       "    <tr>\n",
       "      <th>11</th>\n",
       "      <td>Romsey</td>\n",
       "      <td>Café</td>\n",
       "      <td>Pub</td>\n",
       "      <td>Indian Restaurant</td>\n",
       "      <td>Arcade</td>\n",
       "      <td>Art Gallery</td>\n",
       "      <td>Sandwich Place</td>\n",
       "      <td>Deli / Bodega</td>\n",
       "      <td>Pool Hall</td>\n",
       "      <td>Gastropub</td>\n",
       "      <td>Seafood Restaurant</td>\n",
       "    </tr>\n",
       "    <tr>\n",
       "      <th>12</th>\n",
       "      <td>Trumpington</td>\n",
       "      <td>Pub</td>\n",
       "      <td>Chinese Restaurant</td>\n",
       "      <td>Fish &amp; Chips Shop</td>\n",
       "      <td>Café</td>\n",
       "      <td>Food Truck</td>\n",
       "      <td>Bar</td>\n",
       "      <td>Fast Food Restaurant</td>\n",
       "      <td>English Restaurant</td>\n",
       "      <td>Dance Studio</td>\n",
       "      <td>Deli / Bodega</td>\n",
       "    </tr>\n",
       "    <tr>\n",
       "      <th>13</th>\n",
       "      <td>West Chesterton</td>\n",
       "      <td>Chinese Restaurant</td>\n",
       "      <td>Pub</td>\n",
       "      <td>Café</td>\n",
       "      <td>Indian Restaurant</td>\n",
       "      <td>Nightclub</td>\n",
       "      <td>Coffee Shop</td>\n",
       "      <td>Bakery</td>\n",
       "      <td>General Entertainment</td>\n",
       "      <td>Sri Lankan Restaurant</td>\n",
       "      <td>Gastropub</td>\n",
       "    </tr>\n",
       "  </tbody>\n",
       "</table>\n",
       "</div>"
      ],
      "text/plain": [
       "           District 1st Most Common Venue 2nd Most Common Venue  \\\n",
       "0             Abbey     Indian Restaurant                   Bar   \n",
       "1            Arbury     Indian Restaurant                   Pub   \n",
       "2            Castle            Public Art                   Bar   \n",
       "3     Cherry Hinton                   Pub    Chinese Restaurant   \n",
       "4         Coleridge    Chinese Restaurant                   Pub   \n",
       "5   East Chesterton     Indian Restaurant                   Pub   \n",
       "6      Kings Hedges                   Pub                  Café   \n",
       "7            Market                   Pub                   Bar   \n",
       "8           Newnham                   Pub                  Café   \n",
       "9       Petersfield                   Pub                  Café   \n",
       "10     Queen Ediths           Coffee Shop                   Pub   \n",
       "11           Romsey                  Café                   Pub   \n",
       "12      Trumpington                   Pub    Chinese Restaurant   \n",
       "13  West Chesterton    Chinese Restaurant                   Pub   \n",
       "\n",
       "   3rd Most Common Venue 4th Most Common Venue 5th Most Common Venue  \\\n",
       "0              Gastropub     Fish & Chips Shop  Fast Food Restaurant   \n",
       "1              Speakeasy             Gastropub             Jazz Club   \n",
       "2            Art Gallery           Pizza Place        Cricket Ground   \n",
       "3      Indian Restaurant             Gastropub           Pizza Place   \n",
       "4      Indian Restaurant            Restaurant                  Café   \n",
       "5            Music Venue  Fast Food Restaurant           Beer Garden   \n",
       "6       Asian Restaurant    Chinese Restaurant          Burger Joint   \n",
       "7            Coffee Shop                  Café           Art Gallery   \n",
       "8                    Bar       Thai Restaurant            Restaurant   \n",
       "9            Coffee Shop     Indian Restaurant                Bakery   \n",
       "10  Fast Food Restaurant         Historic Site              Dive Bar   \n",
       "11     Indian Restaurant                Arcade           Art Gallery   \n",
       "12     Fish & Chips Shop                  Café            Food Truck   \n",
       "13                  Café     Indian Restaurant             Nightclub   \n",
       "\n",
       "   6th Most Common Venue 7th Most Common Venue    8th Most Common Venue  \\\n",
       "0            Pizza Place        Soccer Stadium       Chinese Restaurant   \n",
       "1              Nightclub          Dance Studio              Pizza Place   \n",
       "2                   Café             Speakeasy                Nightclub   \n",
       "3                 Bakery            Restaurant                 Dive Bar   \n",
       "4            Pizza Place         Deli / Bodega  North Indian Restaurant   \n",
       "5              Gastropub              Dive Bar           Cricket Ground   \n",
       "6            Music Venue                Arcade            Historic Site   \n",
       "7       Sushi Restaurant               Theater                   Bakery   \n",
       "8         History Museum     Outdoor Sculpture                  Butcher   \n",
       "9            Art Gallery    Chinese Restaurant               Public Art   \n",
       "10              Creperie        Cricket Ground           History Museum   \n",
       "11        Sandwich Place         Deli / Bodega                Pool Hall   \n",
       "12                   Bar  Fast Food Restaurant       English Restaurant   \n",
       "13           Coffee Shop                Bakery    General Entertainment   \n",
       "\n",
       "    9th Most Common Venue 10th Most Common Venue  \n",
       "0              Water Park              BBQ Joint  \n",
       "1          Sandwich Place     Chinese Restaurant  \n",
       "2                     Pub      Indian Restaurant  \n",
       "3          Cricket Ground           Dance Studio  \n",
       "4             Comedy Club      Fish & Chips Shop  \n",
       "5           Historic Site           Dance Studio  \n",
       "6                 Gay Bar              Gastropub  \n",
       "7              Restaurant         Breakfast Spot  \n",
       "8       Fish & Chips Shop      Indian Restaurant  \n",
       "9             Beer Garden   Fast Food Restaurant  \n",
       "10           Dance Studio          Deli / Bodega  \n",
       "11              Gastropub     Seafood Restaurant  \n",
       "12           Dance Studio          Deli / Bodega  \n",
       "13  Sri Lankan Restaurant              Gastropub  "
      ]
     },
     "execution_count": 38,
     "metadata": {},
     "output_type": "execute_result"
    }
   ],
   "source": [
    "num_top_venues = 10\n",
    "\n",
    "indicators = ['st', 'nd', 'rd']\n",
    "\n",
    "# create columns according to number of top venues\n",
    "columns = ['District']\n",
    "for ind in np.arange(num_top_venues):\n",
    "    try:\n",
    "        columns.append('{}{} Most Common Venue'.format(ind+1, indicators[ind]))\n",
    "    except:\n",
    "        columns.append('{}th Most Common Venue'.format(ind+1))\n",
    "\n",
    "# create a new dataframe\n",
    "district_venues_sorted = pd.DataFrame(columns=columns)\n",
    "district_venues_sorted['District'] = district_grouped['District']\n",
    "\n",
    "for ind in np.arange(district_grouped.shape[0]):\n",
    "    district_venues_sorted.iloc[ind, 1:] = return_most_common_venues(district_grouped.iloc[ind, :], num_top_venues)\n",
    "\n",
    "district_venues_sorted"
   ]
  },
  {
   "cell_type": "markdown",
   "metadata": {},
   "source": [
    "From the dataframe we can see that Pub is the 1st or 2nd most popular venue in 12 of the 14 districts."
   ]
  },
  {
   "cell_type": "markdown",
   "metadata": {},
   "source": [
    "### Cluster K-Means - Districts\n",
    "\n",
    "<p>In this section we will take the gathered data from restaurant and entertainment venues and use it to calculate which districts are similar in their venues.</p>\n",
    "<p>Using this data, we can find out which districts to narrow our research to. We will be looking for the cluster that already contains Latin American food venues.</p>"
   ]
  },
  {
   "cell_type": "code",
   "execution_count": 39,
   "metadata": {},
   "outputs": [
    {
     "data": {
      "text/plain": [
       "array([0, 0, 3, 0, 0, 2, 4, 3, 3, 3])"
      ]
     },
     "execution_count": 39,
     "metadata": {},
     "output_type": "execute_result"
    }
   ],
   "source": [
    "from sklearn.cluster import KMeans\n",
    "\n",
    "# set number of clusters\n",
    "kclusters = 5\n",
    "\n",
    "district_grouped_clustering = district_grouped.drop('District', 1)\n",
    "X = np.array(district_grouped_clustering)\n",
    "\n",
    "# run k-means clustering\n",
    "kmeans = KMeans(n_clusters=kclusters, random_state=0).fit(district_grouped_clustering)\n",
    "\n",
    "# check cluster labels generated for each row in the dataframe\n",
    "kmeans.labels_[0:10] "
   ]
  },
  {
   "cell_type": "code",
   "execution_count": 40,
   "metadata": {},
   "outputs": [
    {
     "data": {
      "text/html": [
       "<div>\n",
       "<style scoped>\n",
       "    .dataframe tbody tr th:only-of-type {\n",
       "        vertical-align: middle;\n",
       "    }\n",
       "\n",
       "    .dataframe tbody tr th {\n",
       "        vertical-align: top;\n",
       "    }\n",
       "\n",
       "    .dataframe thead th {\n",
       "        text-align: right;\n",
       "    }\n",
       "</style>\n",
       "<table border=\"1\" class=\"dataframe\">\n",
       "  <thead>\n",
       "    <tr style=\"text-align: right;\">\n",
       "      <th></th>\n",
       "      <th>District</th>\n",
       "      <th>Latitude</th>\n",
       "      <th>Longitude</th>\n",
       "    </tr>\n",
       "  </thead>\n",
       "  <tbody>\n",
       "    <tr>\n",
       "      <th>0</th>\n",
       "      <td>Abbey</td>\n",
       "      <td>52.212400</td>\n",
       "      <td>0.161300</td>\n",
       "    </tr>\n",
       "    <tr>\n",
       "      <th>1</th>\n",
       "      <td>Arbury</td>\n",
       "      <td>52.218995</td>\n",
       "      <td>0.115557</td>\n",
       "    </tr>\n",
       "    <tr>\n",
       "      <th>2</th>\n",
       "      <td>Castle</td>\n",
       "      <td>52.214867</td>\n",
       "      <td>0.102719</td>\n",
       "    </tr>\n",
       "    <tr>\n",
       "      <th>3</th>\n",
       "      <td>Cherry Hinton</td>\n",
       "      <td>52.187200</td>\n",
       "      <td>0.176400</td>\n",
       "    </tr>\n",
       "    <tr>\n",
       "      <th>4</th>\n",
       "      <td>Coleridge</td>\n",
       "      <td>52.189603</td>\n",
       "      <td>0.153449</td>\n",
       "    </tr>\n",
       "    <tr>\n",
       "      <th>5</th>\n",
       "      <td>East Chesterton</td>\n",
       "      <td>52.222032</td>\n",
       "      <td>0.147264</td>\n",
       "    </tr>\n",
       "    <tr>\n",
       "      <th>6</th>\n",
       "      <td>Kings Hedges</td>\n",
       "      <td>52.227185</td>\n",
       "      <td>0.134992</td>\n",
       "    </tr>\n",
       "    <tr>\n",
       "      <th>7</th>\n",
       "      <td>Market</td>\n",
       "      <td>52.206392</td>\n",
       "      <td>0.124482</td>\n",
       "    </tr>\n",
       "    <tr>\n",
       "      <th>8</th>\n",
       "      <td>Newnham</td>\n",
       "      <td>52.197000</td>\n",
       "      <td>0.106800</td>\n",
       "    </tr>\n",
       "    <tr>\n",
       "      <th>9</th>\n",
       "      <td>Petersfield</td>\n",
       "      <td>52.202698</td>\n",
       "      <td>0.136138</td>\n",
       "    </tr>\n",
       "    <tr>\n",
       "      <th>10</th>\n",
       "      <td>Queen Ediths</td>\n",
       "      <td>52.180781</td>\n",
       "      <td>0.151196</td>\n",
       "    </tr>\n",
       "    <tr>\n",
       "      <th>11</th>\n",
       "      <td>Romsey</td>\n",
       "      <td>52.197200</td>\n",
       "      <td>0.146300</td>\n",
       "    </tr>\n",
       "    <tr>\n",
       "      <th>12</th>\n",
       "      <td>Trumpington</td>\n",
       "      <td>52.173400</td>\n",
       "      <td>0.113100</td>\n",
       "    </tr>\n",
       "    <tr>\n",
       "      <th>13</th>\n",
       "      <td>West Chesterton</td>\n",
       "      <td>52.217487</td>\n",
       "      <td>0.129307</td>\n",
       "    </tr>\n",
       "  </tbody>\n",
       "</table>\n",
       "</div>"
      ],
      "text/plain": [
       "           District   Latitude  Longitude\n",
       "0             Abbey  52.212400   0.161300\n",
       "1            Arbury  52.218995   0.115557\n",
       "2            Castle  52.214867   0.102719\n",
       "3     Cherry Hinton  52.187200   0.176400\n",
       "4         Coleridge  52.189603   0.153449\n",
       "5   East Chesterton  52.222032   0.147264\n",
       "6      Kings Hedges  52.227185   0.134992\n",
       "7            Market  52.206392   0.124482\n",
       "8           Newnham  52.197000   0.106800\n",
       "9       Petersfield  52.202698   0.136138\n",
       "10     Queen Ediths  52.180781   0.151196\n",
       "11           Romsey  52.197200   0.146300\n",
       "12      Trumpington  52.173400   0.113100\n",
       "13  West Chesterton  52.217487   0.129307"
      ]
     },
     "execution_count": 40,
     "metadata": {},
     "output_type": "execute_result"
    }
   ],
   "source": [
    "df_district"
   ]
  },
  {
   "cell_type": "code",
   "execution_count": 41,
   "metadata": {},
   "outputs": [],
   "source": [
    "# add clustering labels\n",
    "try:\n",
    "    df_district.insert(0, 'Cluster Labels', kmeans.labels_)\n",
    "except:\n",
    "    df_district.drop(columns=['Cluster Labels'], inplace=True)\n",
    "    df_district.insert(0, 'Cluster Labels', kmeans.labels_)"
   ]
  },
  {
   "cell_type": "code",
   "execution_count": 183,
   "metadata": {
    "scrolled": false
   },
   "outputs": [
    {
     "data": {
      "text/html": [
       "<div style=\"width:100%;\"><div style=\"position:relative;width:100%;height:0;padding-bottom:60%;\"><span style=\"color:#565656\">Make this Notebook Trusted to load map: File -> Trust Notebook</span><iframe src=\"about:blank\" style=\"position:absolute;width:100%;height:100%;left:0;top:0;border:none !important;\" data-html=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 onload=\"this.contentDocument.open();this.contentDocument.write(atob(this.getAttribute('data-html')));this.contentDocument.close();\" allowfullscreen webkitallowfullscreen mozallowfullscreen></iframe></div></div>"
      ],
      "text/plain": [
       "<folium.folium.Map at 0x1fcc1b30160>"
      ]
     },
     "metadata": {},
     "output_type": "display_data"
    },
    {
     "data": {
      "text/plain": [
       "<Figure size 432x288 with 0 Axes>"
      ]
     },
     "metadata": {},
     "output_type": "display_data"
    }
   ],
   "source": [
    "# create map\n",
    "map_clusters = folium.Map(location=[city_latitude, city_longitude], zoom_start=12)\n",
    "\n",
    "# set color scheme for the clusters\n",
    "rainbow = ['#00aaff','#4c00ff','#ea00ff','#ff0080','#ff0000']\n",
    "\n",
    "# add markers to the map\n",
    "markers_colors = []\n",
    "for lat, lon, poi, cluster in zip(df_district['Latitude'], df_district['Longitude'], df_district['District'], df_district['Cluster Labels']):\n",
    "    label = folium.Popup(str(poi) + ' Cluster ' + str(cluster), parse_html=True)\n",
    "    tooltip = 'Name: {},<br>Cluster: {}'.format(str(poi),str(cluster))\n",
    "    folium.Circle(\n",
    "        [lat, lon],\n",
    "        radius=700,\n",
    "        popup=label,\n",
    "        tooltip=tooltip,\n",
    "        color=rainbow[cluster-1],\n",
    "        fill=True,\n",
    "        fill_color=rainbow[cluster-1],\n",
    "        fill_opacity=0.7).add_to(map_clusters)\n",
    "       \n",
    "display(map_clusters)\n",
    "plt.savefig('District_Cluster.pdf', bbox_inches='tight')"
   ]
  },
  {
   "cell_type": "markdown",
   "metadata": {},
   "source": [
    "#### Cluster Anaylsis\n",
    "\n",
    "We suggested earlier that the restaurant would be suited in an area similar to **Petersfield** or **Romsey**. Looking at the clusters the following clusters would suit the new restaurant.\n",
    "* Market\n",
    "* Castle\n",
    "* Newnham\n",
    "    \n",
    "These areas have similar restaurants and entertainment venues.\n",
    "\n",
    "In the anaylsis section we will find suitable locations within these districts, using locality to entertainment venues."
   ]
  },
  {
   "cell_type": "markdown",
   "metadata": {},
   "source": [
    "### Correlation between Restaurants and Entertainment venues?\n",
    "\n",
    "* Create a groupby dataframe for restaurants and another for entertainment.\n",
    "* Display a horizontal barchart showing both values for each district."
   ]
  },
  {
   "cell_type": "code",
   "execution_count": 43,
   "metadata": {},
   "outputs": [],
   "source": [
    "df_ent_group = district_entertain_update.groupby('District').count()\n",
    "df_ent_group.reset_index(inplace=True)\n",
    "df_rest_group = district_venues_update.groupby('District').count()\n",
    "df_rest_group.reset_index(inplace=True)"
   ]
  },
  {
   "cell_type": "code",
   "execution_count": 184,
   "metadata": {},
   "outputs": [
    {
     "data": {
      "image/png": "[encoded data removed]",
      "text/plain": [
       "<Figure size 1440x1440 with 1 Axes>"
      ]
     },
     "metadata": {},
     "output_type": "display_data"
    }
   ],
   "source": [
    "rest = np.array(df_rest_group['Venue'])\n",
    "ent = np.array(df_ent_group['Venue'])\n",
    "index = df_rest_group['District']\n",
    "\n",
    "# Create horizontal barchart\n",
    "df = pd.DataFrame({'Restaurant': rest,'Entertainment': ent}, index=index)\n",
    "ax = df.plot.barh(figsize=(20,20))\n",
    "ax.legend(loc=1, prop={'size': 20})\n",
    "ax.tick_params(axis='both', which='major', labelsize=20)\n",
    "plt.savefig('District_Rest_Ent_BarH.pdf', bbox_inches='tight')"
   ]
  },
  {
   "cell_type": "markdown",
   "metadata": {},
   "source": [
    "There is a clear correlation between entertainment venues and restaurants."
   ]
  },
  {
   "cell_type": "markdown",
   "metadata": {},
   "source": [
    "#### Create a scatter plot to show the correlation and Linear Regression"
   ]
  },
  {
   "cell_type": "code",
   "execution_count": 187,
   "metadata": {},
   "outputs": [
    {
     "data": {
      "image/png": "[encoded data removed]",
      "text/plain": [
       "<Figure size 360x360 with 1 Axes>"
      ]
     },
     "metadata": {},
     "output_type": "display_data"
    }
   ],
   "source": [
    "df_scatter = pd.merge(left=df_rest_group, right=df_ent_group, left_on='District', right_on='District')\n",
    "df_scatter.drop(columns=['Venue Latitude_x','Venue Longitude_x','Venue Category_x','Venue Latitude_y','Venue Longitude_y','Venue Category_y'], inplace=True)\n",
    "df_scatter.columns = ['District','Restaurant','Entertainment']\n",
    "\n",
    "sns.lmplot(x=\"Restaurant\", y=\"Entertainment\", data=df_scatter)\n",
    "plt.savefig('Restaurant_Correlation_Scatter.pdf', bbox_inches='tight')"
   ]
  },
  {
   "cell_type": "markdown",
   "metadata": {},
   "source": [
    "### Cluster DBSCAN Scatter Plot - Using Latitude & Longitude"
   ]
  },
  {
   "cell_type": "markdown",
   "metadata": {},
   "source": [
    "Firstly we will use a scatter plot to find the density of entertainment venues according to Latitude and Longitude.\n",
    "This will help us to find the areas with the most venues. To display the clusters we will use the DBSCAN method.\n",
    "\n",
    "Using a scatter plot we will show the density clusters of districts that are simiar to other districts with Latin American restaurants. We got this information from the K-Means clustering used to assign Districts into similar clusters using the restaurants and entertainment venues.\n",
    "* Market\n",
    "* Castle\n",
    "* Newnham"
   ]
  },
  {
   "cell_type": "markdown",
   "metadata": {},
   "source": [
    "##### FUNCTION - Create Scatter Plot Cluster"
   ]
  },
  {
   "cell_type": "code",
   "execution_count": 46,
   "metadata": {},
   "outputs": [],
   "source": [
    "def create_scatter_cluster(x,y,title,x_label,y_label,cl,cm):\n",
    "    plt.figure(figsize=(8, 8))\n",
    "    plt.scatter(x, y, c=cl, cmap=cm)\n",
    "    plt.title(title)\n",
    "    plt.xlabel(x_label)\n",
    "    plt.ylabel(y_label)\n",
    "    plt.grid(True, linewidth=0.5, alpha=0.5)\n",
    "    plt.show()"
   ]
  },
  {
   "cell_type": "markdown",
   "metadata": {},
   "source": [
    "#### DBSCAN Plot - Market District"
   ]
  },
  {
   "cell_type": "code",
   "execution_count": 47,
   "metadata": {},
   "outputs": [],
   "source": [
    "from sklearn.cluster import DBSCAN\n",
    "from sklearn.preprocessing import StandardScaler"
   ]
  },
  {
   "cell_type": "code",
   "execution_count": 48,
   "metadata": {
    "scrolled": false
   },
   "outputs": [],
   "source": [
    "# get the Latitude and Longitude\n",
    "df_market = district_entertain_update[district_entertain_update['District'] == 'Market']\n",
    "\n",
    "# Create arrays for Latitude and Longitude for Market\n",
    "mkt_y = np.array(df_market['Venue Latitude'])\n",
    "mkt_x = np.array(df_market['Venue Longitude'])\n",
    "\n",
    "# Combine both arrays into one stacked array.\n",
    "mkt_X = np.stack((mkt_x,mkt_y), axis=1)"
   ]
  },
  {
   "cell_type": "code",
   "execution_count": 188,
   "metadata": {},
   "outputs": [
    {
     "data": {
      "image/png": "[encoded data removed]",
      "text/plain": [
       "<Figure size 576x576 with 1 Axes>"
      ]
     },
     "metadata": {},
     "output_type": "display_data"
    },
    {
     "data": {
      "text/plain": [
       "<Figure size 432x288 with 0 Axes>"
      ]
     },
     "metadata": {},
     "output_type": "display_data"
    }
   ],
   "source": [
    "# Normalise the co-ordinates\n",
    "mkt_scaler = StandardScaler()\n",
    "mkt_X_scaled = mkt_scaler.fit_transform(mkt_X)\n",
    "\n",
    "# Cluster using DBSCAN\n",
    "mkt_clustering = DBSCAN(eps=0.7, min_samples=3)\n",
    "mkt_clusters = mkt_clustering.fit_predict(mkt_X_scaled)\n",
    "\n",
    "# Show plot of Market and DBSCAN\n",
    "create_scatter_cluster(mkt_X[:,0],mkt_X[:,1],'DBSCAN - Market','Longitude','Latitude',mkt_clusters,'Wistia')\n",
    "plt.savefig('Market_DBSCAN.pdf', bbox_inches='tight')"
   ]
  },
  {
   "cell_type": "code",
   "execution_count": 50,
   "metadata": {},
   "outputs": [
    {
     "name": "stderr",
     "output_type": "stream",
     "text": [
      "C:\\Program Files (x86)\\Microsoft Visual Studio\\Shared\\Anaconda3_64\\lib\\site-packages\\ipykernel_launcher.py:2: SettingWithCopyWarning: \n",
      "A value is trying to be set on a copy of a slice from a DataFrame.\n",
      "Try using .loc[row_indexer,col_indexer] = value instead\n",
      "\n",
      "See the caveats in the documentation: http://pandas.pydata.org/pandas-docs/stable/indexing.html#indexing-view-versus-copy\n",
      "  \n"
     ]
    },
    {
     "data": {
      "text/html": [
       "<div>\n",
       "<style scoped>\n",
       "    .dataframe tbody tr th:only-of-type {\n",
       "        vertical-align: middle;\n",
       "    }\n",
       "\n",
       "    .dataframe tbody tr th {\n",
       "        vertical-align: top;\n",
       "    }\n",
       "\n",
       "    .dataframe thead th {\n",
       "        text-align: right;\n",
       "    }\n",
       "</style>\n",
       "<table border=\"1\" class=\"dataframe\">\n",
       "  <thead>\n",
       "    <tr style=\"text-align: right;\">\n",
       "      <th></th>\n",
       "      <th>District</th>\n",
       "      <th>Venue</th>\n",
       "      <th>Venue Latitude</th>\n",
       "      <th>Venue Longitude</th>\n",
       "      <th>Venue Category</th>\n",
       "    </tr>\n",
       "    <tr>\n",
       "      <th>Scatter</th>\n",
       "      <th></th>\n",
       "      <th></th>\n",
       "      <th></th>\n",
       "      <th></th>\n",
       "      <th></th>\n",
       "    </tr>\n",
       "  </thead>\n",
       "  <tbody>\n",
       "    <tr>\n",
       "      <th>-1</th>\n",
       "      <td>2</td>\n",
       "      <td>2</td>\n",
       "      <td>2</td>\n",
       "      <td>2</td>\n",
       "      <td>2</td>\n",
       "    </tr>\n",
       "    <tr>\n",
       "      <th>0</th>\n",
       "      <td>28</td>\n",
       "      <td>28</td>\n",
       "      <td>28</td>\n",
       "      <td>28</td>\n",
       "      <td>28</td>\n",
       "    </tr>\n",
       "    <tr>\n",
       "      <th>1</th>\n",
       "      <td>12</td>\n",
       "      <td>12</td>\n",
       "      <td>12</td>\n",
       "      <td>12</td>\n",
       "      <td>12</td>\n",
       "    </tr>\n",
       "    <tr>\n",
       "      <th>2</th>\n",
       "      <td>4</td>\n",
       "      <td>4</td>\n",
       "      <td>4</td>\n",
       "      <td>4</td>\n",
       "      <td>4</td>\n",
       "    </tr>\n",
       "  </tbody>\n",
       "</table>\n",
       "</div>"
      ],
      "text/plain": [
       "         District  Venue  Venue Latitude  Venue Longitude  Venue Category\n",
       "Scatter                                                                  \n",
       "-1              2      2               2                2               2\n",
       " 0             28     28              28               28              28\n",
       " 1             12     12              12               12              12\n",
       " 2              4      4               4                4               4"
      ]
     },
     "execution_count": 50,
     "metadata": {},
     "output_type": "execute_result"
    }
   ],
   "source": [
    "try:\n",
    "    df_market['Scatter'] = mkt_clusters\n",
    "except:\n",
    "    df_market.drop(['Scatter'],inplace=True)\n",
    "    df_market['Scatter'] = mkt_clusters\n",
    "\n",
    "df_market.groupby('Scatter').count()"
   ]
  },
  {
   "cell_type": "markdown",
   "metadata": {},
   "source": [
    "We can see from the scatter plot above that the most populous area in **Market** is **Scatter 0**.<br>\n",
    "For this DBSCAN we had to reduce the eps value from 1 (as used on other DBSCAN's below), this was due to difference in proximity of locations in **Market**.<br>\n",
    "In the next section we will use locations from **Scatter 0** to locate the perfect latitude and longitude for a restaurant in this area."
   ]
  },
  {
   "cell_type": "markdown",
   "metadata": {},
   "source": [
    "#### DBCAN Plot - Castle"
   ]
  },
  {
   "cell_type": "code",
   "execution_count": 51,
   "metadata": {},
   "outputs": [],
   "source": [
    "# get the Latitude and Longitude\n",
    "df_castle = district_entertain_update[district_entertain_update['District'] == 'Castle']\n",
    "\n",
    "# Create arrays for Latitude and Longitude for Castle\n",
    "cst_y = np.array(df_castle['Venue Latitude'])\n",
    "cst_x = np.array(df_castle['Venue Longitude'])\n",
    "\n",
    "# Combine both arrays into one stacked array.\n",
    "cst_X = np.stack((cst_x,cst_y), axis=1)"
   ]
  },
  {
   "cell_type": "code",
   "execution_count": 189,
   "metadata": {
    "scrolled": false
   },
   "outputs": [
    {
     "data": {
      "image/png": "[encoded data removed]",
      "text/plain": [
       "<Figure size 576x576 with 1 Axes>"
      ]
     },
     "metadata": {},
     "output_type": "display_data"
    },
    {
     "data": {
      "text/plain": [
       "<Figure size 432x288 with 0 Axes>"
      ]
     },
     "metadata": {},
     "output_type": "display_data"
    }
   ],
   "source": [
    "# Normalise the co-ordinates\n",
    "cst_scaler = StandardScaler()\n",
    "cst_X_scaled = cst_scaler.fit_transform(cst_X)\n",
    "\n",
    "# Cluster using DBSCAN\n",
    "cst_clustering = DBSCAN(eps=1, min_samples=3)\n",
    "cst_clusters = cst_clustering.fit_predict(cst_X_scaled)\n",
    "\n",
    "# Show plot of Market and DBSCAN\n",
    "create_scatter_cluster(cst_X[:,0],cst_X[:,1],'DBSCAN - Castle','Longitude','Latitude',cst_clusters,'Wistia')\n",
    "plt.savefig('Castle_DBSCAN.pdf', bbox_inches='tight')"
   ]
  },
  {
   "cell_type": "code",
   "execution_count": 53,
   "metadata": {},
   "outputs": [
    {
     "name": "stderr",
     "output_type": "stream",
     "text": [
      "C:\\Program Files (x86)\\Microsoft Visual Studio\\Shared\\Anaconda3_64\\lib\\site-packages\\ipykernel_launcher.py:2: SettingWithCopyWarning: \n",
      "A value is trying to be set on a copy of a slice from a DataFrame.\n",
      "Try using .loc[row_indexer,col_indexer] = value instead\n",
      "\n",
      "See the caveats in the documentation: http://pandas.pydata.org/pandas-docs/stable/indexing.html#indexing-view-versus-copy\n",
      "  \n"
     ]
    },
    {
     "data": {
      "text/html": [
       "<div>\n",
       "<style scoped>\n",
       "    .dataframe tbody tr th:only-of-type {\n",
       "        vertical-align: middle;\n",
       "    }\n",
       "\n",
       "    .dataframe tbody tr th {\n",
       "        vertical-align: top;\n",
       "    }\n",
       "\n",
       "    .dataframe thead th {\n",
       "        text-align: right;\n",
       "    }\n",
       "</style>\n",
       "<table border=\"1\" class=\"dataframe\">\n",
       "  <thead>\n",
       "    <tr style=\"text-align: right;\">\n",
       "      <th></th>\n",
       "      <th>District</th>\n",
       "      <th>Venue</th>\n",
       "      <th>Venue Latitude</th>\n",
       "      <th>Venue Longitude</th>\n",
       "      <th>Venue Category</th>\n",
       "    </tr>\n",
       "    <tr>\n",
       "      <th>Scatter</th>\n",
       "      <th></th>\n",
       "      <th></th>\n",
       "      <th></th>\n",
       "      <th></th>\n",
       "      <th></th>\n",
       "    </tr>\n",
       "  </thead>\n",
       "  <tbody>\n",
       "    <tr>\n",
       "      <th>-1</th>\n",
       "      <td>2</td>\n",
       "      <td>2</td>\n",
       "      <td>2</td>\n",
       "      <td>2</td>\n",
       "      <td>2</td>\n",
       "    </tr>\n",
       "    <tr>\n",
       "      <th>0</th>\n",
       "      <td>4</td>\n",
       "      <td>4</td>\n",
       "      <td>4</td>\n",
       "      <td>4</td>\n",
       "      <td>4</td>\n",
       "    </tr>\n",
       "    <tr>\n",
       "      <th>1</th>\n",
       "      <td>9</td>\n",
       "      <td>9</td>\n",
       "      <td>9</td>\n",
       "      <td>9</td>\n",
       "      <td>9</td>\n",
       "    </tr>\n",
       "  </tbody>\n",
       "</table>\n",
       "</div>"
      ],
      "text/plain": [
       "         District  Venue  Venue Latitude  Venue Longitude  Venue Category\n",
       "Scatter                                                                  \n",
       "-1              2      2               2                2               2\n",
       " 0              4      4               4                4               4\n",
       " 1              9      9               9                9               9"
      ]
     },
     "execution_count": 53,
     "metadata": {},
     "output_type": "execute_result"
    }
   ],
   "source": [
    "try:\n",
    "    df_castle['Scatter'] = cst_clusters\n",
    "except:\n",
    "    df_castle.drop(['Scatter'],inplace=True)\n",
    "    df_castle['Scatter'] = cst_clusters\n",
    "\n",
    "df_castle.groupby('Scatter').count()"
   ]
  },
  {
   "cell_type": "markdown",
   "metadata": {},
   "source": [
    "We can see from the scatter plot above that the most populous area in **Castle** is **Scatter 1**. In the next section we will use locations from **Scatter 1** to locate the perfect latitude and longitude for a restaurant in this area."
   ]
  },
  {
   "cell_type": "markdown",
   "metadata": {},
   "source": [
    "#### Scatter Plot - Newnham"
   ]
  },
  {
   "cell_type": "code",
   "execution_count": 54,
   "metadata": {},
   "outputs": [],
   "source": [
    "# get the Latitude and Longitude\n",
    "df_newnham = district_entertain_update[district_entertain_update['District'] == 'Newnham']\n",
    "\n",
    "# Create arrays for Latitude and Longitude for Newnham\n",
    "new_y = np.array(df_newnham['Venue Latitude'])\n",
    "new_x = np.array(df_newnham['Venue Longitude'])\n",
    "\n",
    "# Combine both arrays into one stacked array.\n",
    "new_X = np.stack((new_x,new_y), axis=1)"
   ]
  },
  {
   "cell_type": "code",
   "execution_count": 190,
   "metadata": {
    "scrolled": false
   },
   "outputs": [
    {
     "data": {
      "image/png": "[encoded data removed]",
      "text/plain": [
       "<Figure size 576x576 with 1 Axes>"
      ]
     },
     "metadata": {},
     "output_type": "display_data"
    },
    {
     "data": {
      "text/plain": [
       "<Figure size 432x288 with 0 Axes>"
      ]
     },
     "metadata": {},
     "output_type": "display_data"
    }
   ],
   "source": [
    "# Normalise the co-ordinates\n",
    "new_scaler = StandardScaler()\n",
    "new_X_scaled = new_scaler.fit_transform(new_X)\n",
    "\n",
    "# Cluster using DBSCAN\n",
    "new_clustering = DBSCAN(eps=1, min_samples=3)\n",
    "new_clusters = new_clustering.fit_predict(new_X_scaled)\n",
    "\n",
    "# Show plot of Market and DBSCAN\n",
    "create_scatter_cluster(new_X[:,0],new_X[:,1],'DBSCAN - Newnham','Longitude','Latitude',new_clusters,'Wistia')\n",
    "plt.savefig('Newnham_DBSCAN.pdf', bbox_inches='tight')"
   ]
  },
  {
   "cell_type": "code",
   "execution_count": 56,
   "metadata": {
    "scrolled": true
   },
   "outputs": [
    {
     "name": "stderr",
     "output_type": "stream",
     "text": [
      "C:\\Program Files (x86)\\Microsoft Visual Studio\\Shared\\Anaconda3_64\\lib\\site-packages\\ipykernel_launcher.py:2: SettingWithCopyWarning: \n",
      "A value is trying to be set on a copy of a slice from a DataFrame.\n",
      "Try using .loc[row_indexer,col_indexer] = value instead\n",
      "\n",
      "See the caveats in the documentation: http://pandas.pydata.org/pandas-docs/stable/indexing.html#indexing-view-versus-copy\n",
      "  \n"
     ]
    },
    {
     "data": {
      "text/html": [
       "<div>\n",
       "<style scoped>\n",
       "    .dataframe tbody tr th:only-of-type {\n",
       "        vertical-align: middle;\n",
       "    }\n",
       "\n",
       "    .dataframe tbody tr th {\n",
       "        vertical-align: top;\n",
       "    }\n",
       "\n",
       "    .dataframe thead th {\n",
       "        text-align: right;\n",
       "    }\n",
       "</style>\n",
       "<table border=\"1\" class=\"dataframe\">\n",
       "  <thead>\n",
       "    <tr style=\"text-align: right;\">\n",
       "      <th></th>\n",
       "      <th>District</th>\n",
       "      <th>Venue</th>\n",
       "      <th>Venue Latitude</th>\n",
       "      <th>Venue Longitude</th>\n",
       "      <th>Venue Category</th>\n",
       "    </tr>\n",
       "    <tr>\n",
       "      <th>Scatter</th>\n",
       "      <th></th>\n",
       "      <th></th>\n",
       "      <th></th>\n",
       "      <th></th>\n",
       "      <th></th>\n",
       "    </tr>\n",
       "  </thead>\n",
       "  <tbody>\n",
       "    <tr>\n",
       "      <th>-1</th>\n",
       "      <td>3</td>\n",
       "      <td>3</td>\n",
       "      <td>3</td>\n",
       "      <td>3</td>\n",
       "      <td>3</td>\n",
       "    </tr>\n",
       "    <tr>\n",
       "      <th>0</th>\n",
       "      <td>4</td>\n",
       "      <td>4</td>\n",
       "      <td>4</td>\n",
       "      <td>4</td>\n",
       "      <td>4</td>\n",
       "    </tr>\n",
       "  </tbody>\n",
       "</table>\n",
       "</div>"
      ],
      "text/plain": [
       "         District  Venue  Venue Latitude  Venue Longitude  Venue Category\n",
       "Scatter                                                                  \n",
       "-1              3      3               3                3               3\n",
       " 0              4      4               4                4               4"
      ]
     },
     "execution_count": 56,
     "metadata": {},
     "output_type": "execute_result"
    }
   ],
   "source": [
    "try:\n",
    "    df_newnham['Scatter'] = new_clusters\n",
    "except:\n",
    "    df_newnham.drop(['Scatter'],inplace=True)\n",
    "    df_newnham['Scatter'] = new_clusters\n",
    "\n",
    "df_newnham.groupby('Scatter').count()"
   ]
  },
  {
   "cell_type": "markdown",
   "metadata": {},
   "source": [
    "We can see from the scatter plot above that the most populous area in **Newnham** is **Scatter 0**. In the next section we will use locations from **Scatter 0** to locate the perfect latitude and longitude for a restaurant in this area."
   ]
  },
  {
   "cell_type": "markdown",
   "metadata": {},
   "source": [
    "### Get Suitable Locations\n"
   ]
  },
  {
   "cell_type": "markdown",
   "metadata": {},
   "source": [
    "From the **K-Means Clustering** of districts, we selected the following locations for further anaylsis:\n",
    "* Market\n",
    "* Castle\n",
    "* Newnham\n",
    "\n",
    "<p>Then we found the densest cluster of entertainment venues within these districts.\n",
    "Now, using these clusters we aim to find a suitable location within each of these 3 districts to place the new restaurant.</p>"
   ]
  },
  {
   "cell_type": "markdown",
   "metadata": {},
   "source": [
    "##### FUNCTION - Calculate Distance from Lat, Lng in Metres"
   ]
  },
  {
   "cell_type": "code",
   "execution_count": 117,
   "metadata": {},
   "outputs": [],
   "source": [
    "# Imports from Math Library\n",
    "from math import sin, cos, sqrt, atan2, radians, degrees, asin\n",
    "# Import from geopy\n",
    "import geopy\n",
    "from geopy.distance import geodesic"
   ]
  },
  {
   "cell_type": "code",
   "execution_count": 87,
   "metadata": {},
   "outputs": [],
   "source": [
    "def calculate_latlng_dist(lat1,lng1,lat2,lng2):\n",
    "    \n",
    "    # approximate radius of earth in km\n",
    "    R = 6373.0\n",
    "\n",
    "    lat1 = radians(lat1)\n",
    "    lng1 = radians(lng1)\n",
    "    lat2 = radians(lat2)\n",
    "    lng2 = radians(lng2)\n",
    "    \n",
    "    dlng = lng2 - lng1\n",
    "    dlat = lat2 - lat1\n",
    "    \n",
    "    a = sin(dlat / 2)**2 + cos(lat1) * cos(lat2) * sin(dlng / 2)**2\n",
    "    c = 2 * atan2(sqrt(a), sqrt(1 - a))\n",
    "    \n",
    "    distance = R * c\n",
    "    return distance"
   ]
  },
  {
   "cell_type": "markdown",
   "metadata": {},
   "source": [
    "##### FUNCTION - Calculate the angle between two Lat, Lng points"
   ]
  },
  {
   "cell_type": "code",
   "execution_count": 134,
   "metadata": {},
   "outputs": [],
   "source": [
    "def angleFromCoordinate(lat1,lng1,lat2,lng2):\n",
    "\n",
    "    dlng = (lng2 - lng1)\n",
    "\n",
    "    x = cos(lat2) * sin(dlng)\n",
    "    y = cos(lat1) * sin(lat2) - sin(lat1) * cos(lat2) * cos(dlng)\n",
    "\n",
    "    brng = atan2(x,y);\n",
    "\n",
    "    brng = degrees(brng)\n",
    "    brng = (brng + 360) % 360\n",
    "    brng = 360 - brng\n",
    "\n",
    "    return brng"
   ]
  },
  {
   "cell_type": "markdown",
   "metadata": {},
   "source": [
    "#### FUNCTION - Calculate distance from Lat, Lng point using bearing and distance"
   ]
  },
  {
   "cell_type": "code",
   "execution_count": 113,
   "metadata": {},
   "outputs": [],
   "source": [
    "def distanceUsingBearing(b,d,lat1,lon1):\n",
    "    origin = geopy.Point(lat1, lon1)\n",
    "    destination = geodesic(kilometers=d).destination(origin, b)\n",
    "\n",
    "    return destination.latitude, destination.longitude"
   ]
  },
  {
   "cell_type": "markdown",
   "metadata": {},
   "source": [
    "##### FUNCTION - Create Final Map with markers"
   ]
  },
  {
   "cell_type": "code",
   "execution_count": 59,
   "metadata": {},
   "outputs": [],
   "source": [
    "def CreateFinalMap(m,f_lat,f_lng,df):\n",
    "\n",
    "    addLatin_toMap(m)\n",
    "    \n",
    "    for lat, lng, label, in zip(df['Venue Latitude'], df['Venue Longitude'], df['Venue']):\n",
    "        location = np.array([lat,lng])\n",
    "        # Add Marker\n",
    "        folium.CircleMarker(\n",
    "            [lat, lng],\n",
    "            radius=5, # define how big you want the circle markers to be\n",
    "            color='blue',\n",
    "            fill=True,\n",
    "            fill_color='lightblue',\n",
    "            fill_opacity=0.6\n",
    "        ).add_to(m)\n",
    "        \n",
    "        folium.Marker([f_lat,f_lng], tooltip='Ideal Location').add_to(m)"
   ]
  },
  {
   "cell_type": "markdown",
   "metadata": {},
   "source": [
    "##### Market "
   ]
  },
  {
   "cell_type": "markdown",
   "metadata": {},
   "source": [
    "When we performed the **DBSCAN** we found that **cluster 0** is the most populous with **28** entertainment venues.\n",
    "Let's get the mean of the most popular cluster."
   ]
  },
  {
   "cell_type": "code",
   "execution_count": 60,
   "metadata": {},
   "outputs": [
    {
     "name": "stdout",
     "output_type": "stream",
     "text": [
      "(28, 6)\n"
     ]
    }
   ],
   "source": [
    "df_market_f = df_market[df_market['Scatter'] == 0]\n",
    "print(df_market_f.shape)"
   ]
  },
  {
   "cell_type": "code",
   "execution_count": 61,
   "metadata": {},
   "outputs": [
    {
     "name": "stdout",
     "output_type": "stream",
     "text": [
      "Lat: 52.20640387792996 Lng: 0.11990940205059276\n"
     ]
    }
   ],
   "source": [
    "mkt_f_lat = df_market_f['Venue Latitude'].mean()\n",
    "mkt_f_lng = df_market_f['Venue Longitude'].mean()\n",
    "print('Lat:',mkt_f_lat,'Lng:',mkt_f_lng)"
   ]
  },
  {
   "cell_type": "markdown",
   "metadata": {},
   "source": [
    "Let's get the location of the **Market** area so that we can centre our map view."
   ]
  },
  {
   "cell_type": "code",
   "execution_count": 62,
   "metadata": {},
   "outputs": [],
   "source": [
    "df_market_pos = df_district[df_district['District'] == 'Market']\n",
    "df_market_pos_lat = df_market_pos['Latitude']\n",
    "df_market_pos_lng = df_market_pos['Longitude']"
   ]
  },
  {
   "cell_type": "markdown",
   "metadata": {},
   "source": [
    "##### Castle "
   ]
  },
  {
   "cell_type": "markdown",
   "metadata": {},
   "source": [
    "When we performed the **DBSCAN** we found that **cluster 1** is the most populous with **9** entertainment venues.\n",
    "Let's get the mean of the most popular cluster."
   ]
  },
  {
   "cell_type": "code",
   "execution_count": 63,
   "metadata": {},
   "outputs": [
    {
     "name": "stdout",
     "output_type": "stream",
     "text": [
      "(28, 6)\n"
     ]
    }
   ],
   "source": [
    "df_castle_f = df_castle[df_castle['Scatter'] == 0]\n",
    "print(df_market_f.shape)"
   ]
  },
  {
   "cell_type": "code",
   "execution_count": 64,
   "metadata": {},
   "outputs": [
    {
     "name": "stdout",
     "output_type": "stream",
     "text": [
      "Lat: 52.21281940030552 Lng: 0.102861808439892\n"
     ]
    }
   ],
   "source": [
    "cst_f_lat = df_castle_f['Venue Latitude'].mean()\n",
    "cst_f_lng = df_castle_f['Venue Longitude'].mean()\n",
    "print('Lat:',cst_f_lat,'Lng:',cst_f_lng)"
   ]
  },
  {
   "cell_type": "markdown",
   "metadata": {},
   "source": [
    "Let's get the location of the **Castle** district so that we can centre our map view."
   ]
  },
  {
   "cell_type": "code",
   "execution_count": 65,
   "metadata": {},
   "outputs": [],
   "source": [
    "df_castle_pos = df_district[df_district['District'] == 'Castle']\n",
    "df_castle_pos_lat = df_castle_pos['Latitude']\n",
    "df_castle_pos_lng = df_castle_pos['Longitude']"
   ]
  },
  {
   "cell_type": "markdown",
   "metadata": {},
   "source": [
    "##### Newnham "
   ]
  },
  {
   "cell_type": "markdown",
   "metadata": {},
   "source": [
    "When we performed the **DBSCAN** we found that **cluster 0** is the most populous with **4** entertainment venues.\n",
    "Let's get the mean of the most popular cluster."
   ]
  },
  {
   "cell_type": "code",
   "execution_count": 66,
   "metadata": {},
   "outputs": [
    {
     "name": "stdout",
     "output_type": "stream",
     "text": [
      "(4, 6)\n"
     ]
    }
   ],
   "source": [
    "df_newnham_f = df_newnham[df_newnham['Scatter'] == 0]\n",
    "print(df_newnham_f.shape)"
   ]
  },
  {
   "cell_type": "code",
   "execution_count": 67,
   "metadata": {},
   "outputs": [
    {
     "name": "stdout",
     "output_type": "stream",
     "text": [
      "Lat: 52.2003564865187 Lng: 0.10842846644610948\n"
     ]
    }
   ],
   "source": [
    "new_f_lat = df_newnham_f['Venue Latitude'].mean()\n",
    "new_f_lng = df_newnham_f['Venue Longitude'].mean()\n",
    "print('Lat:',new_f_lat,'Lng:',new_f_lng)"
   ]
  },
  {
   "cell_type": "markdown",
   "metadata": {},
   "source": [
    "Let's get the location of the **Newnham** district so that we can centre our map view."
   ]
  },
  {
   "cell_type": "code",
   "execution_count": 68,
   "metadata": {},
   "outputs": [],
   "source": [
    "df_newnham_pos = df_district[df_district['District'] == 'Newnham']\n",
    "df_newnham_pos_lat = df_newnham_pos['Latitude']\n",
    "df_newnham_pos_lng = df_newnham_pos['Longitude']"
   ]
  },
  {
   "cell_type": "markdown",
   "metadata": {},
   "source": [
    "### District Maps - Market, Castle & Newnham"
   ]
  },
  {
   "cell_type": "markdown",
   "metadata": {},
   "source": [
    "In these maps, we are shwoing:\n",
    "\n",
    "* Latin American Restaurants with a **red** marker.\n",
    "    * There is a **red** circle indicating a 500m radius from the restaurant.\n",
    "    * Our recommended location cannot be situated within this radius.\n",
    "* Entertainment venues from the most populous DBSCAN cluster within this district.\n",
    "* **Blue** marker indicating the most suitable location"
   ]
  },
  {
   "cell_type": "markdown",
   "metadata": {},
   "source": [
    "#### Map of Market"
   ]
  },
  {
   "cell_type": "code",
   "execution_count": 192,
   "metadata": {
    "scrolled": false
   },
   "outputs": [
    {
     "data": {
      "text/html": [
       "<div style=\"width:100%;\"><div style=\"position:relative;width:100%;height:0;padding-bottom:60%;\"><span style=\"color:#565656\">Make this Notebook Trusted to load map: File -> Trust Notebook</span><iframe src=\"about:blank\" style=\"position:absolute;width:100%;height:100%;left:0;top:0;border:none !important;\" data-html=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 onload=\"this.contentDocument.open();this.contentDocument.write(atob(this.getAttribute('data-html')));this.contentDocument.close();\" allowfullscreen webkitallowfullscreen mozallowfullscreen></iframe></div></div>"
      ],
      "text/plain": [
       "<folium.folium.Map at 0x1fcbe055e10>"
      ]
     },
     "execution_count": 192,
     "metadata": {},
     "output_type": "execute_result"
    },
    {
     "data": {
      "text/plain": [
       "<Figure size 432x288 with 0 Axes>"
      ]
     },
     "metadata": {},
     "output_type": "display_data"
    }
   ],
   "source": [
    "mar_f_map = folium.Map(location=[df_market_pos_lat, df_market_pos_lng], zoom_start=15,control_scale=True)  \n",
    "CreateFinalMap(mar_f_map,mkt_f_lat,mkt_f_lng,df_market_f)\n",
    "plt.savefig('Market_ID_Loc_1.pdf', bbox_inches='tight')\n",
    "mar_f_map"
   ]
  },
  {
   "cell_type": "markdown",
   "metadata": {},
   "source": [
    "As we can see, this location is within the **500m** radius of an existing **Latin American** restaurant.\n",
    "Let's find out how far away it is, using the function we have created above."
   ]
  },
  {
   "cell_type": "code",
   "execution_count": 89,
   "metadata": {},
   "outputs": [
    {
     "name": "stdout",
     "output_type": "stream",
     "text": [
      "Distance is:  0.46 Km Lat:  52.21022973296178 Lng:  0.1173092001522491\n",
      "Distance is:  1.27 Km Lat:  52.200508 Lng:  0.135943\n",
      "Distance is:  1.61 Km Lat:  52.208076 Lng:  0.14340329\n",
      "Distance is:  1.96 Km Lat:  52.19763631707918 Lng:  0.14491176009346454\n",
      "Distance is:  1.73 Km Lat:  52.20932828 Lng:  0.14487663\n"
     ]
    }
   ],
   "source": [
    "for lat, lng in zip(district_latin_update['Venue Latitude'], district_latin_update['Venue Longitude']):\n",
    "    print('Distance is: ',round(calculate_latlng_dist(lat,lng,mkt_f_lat,mkt_f_lng),2),'Km','Lat: ',lat,'Lng: ',lng)"
   ]
  },
  {
   "cell_type": "markdown",
   "metadata": {},
   "source": [
    "<p>The recommended point is 460m away from one of the restaurants.<br>\n",
    "Let's extend the distance between the desired location and the Latin American restaurant.</p>\n",
    "<p>First lets find the angle between the two points.</p>"
   ]
  },
  {
   "cell_type": "code",
   "execution_count": 154,
   "metadata": {},
   "outputs": [
    {
     "name": "stdout",
     "output_type": "stream",
     "text": [
      "Angle is:  166.19184072422073 °\n"
     ]
    }
   ],
   "source": [
    "la_lat = 52.21022973296178\n",
    "la_lng = 0.1173092001522491\n",
    "\n",
    "dif_angle = angleFromCoordinate(la_lat,la_lng,mkt_f_lat,mkt_f_lng)\n",
    "print('Angle is: ',dif_angle,'°')\n",
    "# round(dif_angle,2)"
   ]
  },
  {
   "cell_type": "markdown",
   "metadata": {},
   "source": [
    "Now, lets use this angle (166.19°) to find 500m from the Latin American restaurant."
   ]
  },
  {
   "cell_type": "code",
   "execution_count": 159,
   "metadata": {},
   "outputs": [
    {
     "name": "stdout",
     "output_type": "stream",
     "text": [
      "Lat:  52.20586605989206 Lng:  0.11905483291775669\n"
     ]
    }
   ],
   "source": [
    "mar_n_f_lat, mar_n_f_lng = distanceUsingBearing((dif_angle),0.5,la_lat,la_lng)\n",
    "print(\"Lat: \",mar_n_f_lat,\"Lng: \",mar_n_f_lng)"
   ]
  },
  {
   "cell_type": "markdown",
   "metadata": {},
   "source": [
    "Finally, let's check the new latitude and longitude on the map."
   ]
  },
  {
   "cell_type": "code",
   "execution_count": 193,
   "metadata": {},
   "outputs": [
    {
     "data": {
      "text/html": [
       "<div style=\"width:100%;\"><div style=\"position:relative;width:100%;height:0;padding-bottom:60%;\"><span style=\"color:#565656\">Make this Notebook Trusted to load map: File -> Trust Notebook</span><iframe src=\"about:blank\" style=\"position:absolute;width:100%;height:100%;left:0;top:0;border:none !important;\" data-html=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 onload=\"this.contentDocument.open();this.contentDocument.write(atob(this.getAttribute('data-html')));this.contentDocument.close();\" allowfullscreen webkitallowfullscreen mozallowfullscreen></iframe></div></div>"
      ],
      "text/plain": [
       "<folium.folium.Map at 0x1fcbdfbbf60>"
      ]
     },
     "execution_count": 193,
     "metadata": {},
     "output_type": "execute_result"
    },
    {
     "data": {
      "text/plain": [
       "<Figure size 432x288 with 0 Axes>"
      ]
     },
     "metadata": {},
     "output_type": "display_data"
    }
   ],
   "source": [
    "mar_f_map = folium.Map(location=[df_market_pos_lat, df_market_pos_lng], zoom_start=15,control_scale=True)  \n",
    "CreateFinalMap(mar_f_map,mar_n_f_lat,mar_n_f_lng,df_market_f)\n",
    "plt.savefig('Market_ID_Loc_2.pdf', bbox_inches='tight')\n",
    "mar_f_map"
   ]
  },
  {
   "cell_type": "markdown",
   "metadata": {},
   "source": [
    "#### Map of Castle"
   ]
  },
  {
   "cell_type": "code",
   "execution_count": 194,
   "metadata": {},
   "outputs": [
    {
     "data": {
      "text/html": [
       "<div style=\"width:100%;\"><div style=\"position:relative;width:100%;height:0;padding-bottom:60%;\"><span style=\"color:#565656\">Make this Notebook Trusted to load map: File -> Trust Notebook</span><iframe src=\"about:blank\" style=\"position:absolute;width:100%;height:100%;left:0;top:0;border:none !important;\" data-html=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 onload=\"this.contentDocument.open();this.contentDocument.write(atob(this.getAttribute('data-html')));this.contentDocument.close();\" allowfullscreen webkitallowfullscreen mozallowfullscreen></iframe></div></div>"
      ],
      "text/plain": [
       "<folium.folium.Map at 0x1fcc1809588>"
      ]
     },
     "execution_count": 194,
     "metadata": {},
     "output_type": "execute_result"
    },
    {
     "data": {
      "text/plain": [
       "<Figure size 432x288 with 0 Axes>"
      ]
     },
     "metadata": {},
     "output_type": "display_data"
    }
   ],
   "source": [
    "cst_f_map = folium.Map(location=[df_castle_pos_lat, df_castle_pos_lng], zoom_start=15,control_scale=True)  \n",
    "CreateFinalMap(cst_f_map,cst_f_lat,cst_f_lng,df_castle_f)\n",
    "plt.savefig('Castle_ID_Loc.pdf', bbox_inches='tight')\n",
    "cst_f_map"
   ]
  },
  {
   "cell_type": "markdown",
   "metadata": {},
   "source": [
    "#### Map of Newnham"
   ]
  },
  {
   "cell_type": "code",
   "execution_count": 195,
   "metadata": {},
   "outputs": [
    {
     "data": {
      "text/html": [
       "<div style=\"width:100%;\"><div style=\"position:relative;width:100%;height:0;padding-bottom:60%;\"><span style=\"color:#565656\">Make this Notebook Trusted to load map: File -> Trust Notebook</span><iframe src=\"about:blank\" style=\"position:absolute;width:100%;height:100%;left:0;top:0;border:none !important;\" data-html=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 onload=\"this.contentDocument.open();this.contentDocument.write(atob(this.getAttribute('data-html')));this.contentDocument.close();\" allowfullscreen webkitallowfullscreen mozallowfullscreen></iframe></div></div>"
      ],
      "text/plain": [
       "<folium.folium.Map at 0x1fcc183cb70>"
      ]
     },
     "execution_count": 195,
     "metadata": {},
     "output_type": "execute_result"
    },
    {
     "data": {
      "text/plain": [
       "<Figure size 432x288 with 0 Axes>"
      ]
     },
     "metadata": {},
     "output_type": "display_data"
    }
   ],
   "source": [
    "new_f_map = folium.Map(location=[df_newnham_pos_lat, df_newnham_pos_lng], zoom_start=15,control_scale=True)  \n",
    "CreateFinalMap(new_f_map,new_f_lat,new_f_lng,df_newnham_f)\n",
    "plt.savefig('Newnham_ID_Loc_1.pdf', bbox_inches='tight')\n",
    "new_f_map"
   ]
  },
  {
   "cell_type": "markdown",
   "metadata": {},
   "source": [
    "#### Final Analysis"
   ]
  },
  {
   "cell_type": "markdown",
   "metadata": {},
   "source": [
    "Now that we have the latitude and longitude points for the 3 districts that we chose to explore furhter, can we get an address from the lat and lng points?"
   ]
  },
  {
   "cell_type": "markdown",
   "metadata": {},
   "source": [
    "#### FUNCTION - Return Address from Coordinates"
   ]
  },
  {
   "cell_type": "code",
   "execution_count": 172,
   "metadata": {},
   "outputs": [],
   "source": [
    "from geopy.geocoders import Nominatim\n",
    "\n",
    "def returnAddress(lat,lng):\n",
    "\n",
    "    locStr = str(lat) + ',' + str(lng)\n",
    "    geolocator = Nominatim(user_agent=\"My_app\")\n",
    "    location = geolocator.reverse(locStr)\n",
    "    return location.address"
   ]
  },
  {
   "cell_type": "markdown",
   "metadata": {},
   "source": [
    "Return the best address from:\n",
    "* Market\n",
    "* Castle\n",
    "* Newnham"
   ]
  },
  {
   "cell_type": "code",
   "execution_count": 178,
   "metadata": {},
   "outputs": [
    {
     "name": "stdout",
     "output_type": "stream",
     "text": [
      "--------------------------------\n",
      "|           Address            |\n",
      "--------------------------------\n",
      "Market Address: \n",
      "North Shoes, 11, Rose Crescent, Newnham, Cambridge, Cambridgeshire, East of England, England, CB2 3LL, United Kingdom\n",
      "--------------------------------\n",
      "Castle Address: \n",
      "Churchill College (University of Cambridge), Hedgerley Close, Eddington, Cambridge, Cambridgeshire, East of England, England, CB3 0DS, United Kingdom\n",
      "--------------------------------\n",
      "Newnham Address: \n",
      "Katharine Stephen Room, Sidgwick Avenue, Newnham, Cambridge, Cambridgeshire, East of England, England, CB3 9HG, United Kingdom\n",
      "--------------------------------\n"
     ]
    }
   ],
   "source": [
    "add_mkt = returnAddress(mar_n_f_lat, mar_n_f_lng)\n",
    "add_cst = returnAddress(cst_f_lat, cst_f_lng)\n",
    "add_new = returnAddress(new_f_lat, new_f_lng)\n",
    "\n",
    "print('--------------------------------')\n",
    "print('|           Address            |')\n",
    "print('--------------------------------')\n",
    "print('Market Address: ')\n",
    "print(add_mkt)\n",
    "print('--------------------------------')\n",
    "print('Castle Address: ')\n",
    "print(add_cst)\n",
    "print('--------------------------------')\n",
    "print('Newnham Address: ')\n",
    "print(add_new)\n",
    "print('--------------------------------')"
   ]
  },
  {
   "cell_type": "markdown",
   "metadata": {},
   "source": [
    "[Back to Contents](#contents)"
   ]
  },
  {
   "cell_type": "markdown",
   "metadata": {},
   "source": [
    "<div style=\"background-color:#769fcd;color:#FFFFFF;padding:15px;\">\n",
    "<h2>5. Results</h2><a name=\"results\"></a>\n",
    "</div>"
   ]
  },
  {
   "cell_type": "markdown",
   "metadata": {},
   "source": []
  },
  {
   "cell_type": "markdown",
   "metadata": {},
   "source": [
    "[Back to contents](#contents)"
   ]
  },
  {
   "cell_type": "markdown",
   "metadata": {},
   "source": [
    "<div style=\"background-color:#769fcd;color:#FFFFFF;padding:15px;\">\n",
    "<h2>6. Discussion</h2><a name=\"discussion\"></a>\n",
    "</div>"
   ]
  },
  {
   "cell_type": "markdown",
   "metadata": {},
   "source": []
  },
  {
   "cell_type": "markdown",
   "metadata": {},
   "source": [
    "[Back to contents](#contents)"
   ]
  },
  {
   "cell_type": "markdown",
   "metadata": {},
   "source": [
    "<div style=\"background-color:#769fcd;color:#FFFFFF;padding:15px;\">\n",
    "<h2>7. Conclusion</h2><a name=\"conclusion\"></a>\n",
    "</div>"
   ]
  },
  {
   "cell_type": "markdown",
   "metadata": {},
   "source": []
  },
  {
   "cell_type": "markdown",
   "metadata": {},
   "source": [
    "[Back to contents](#contents)"
   ]
  },
  {
   "cell_type": "markdown",
   "metadata": {},
   "source": [
    "<div style=\"background-color:#769fcd;color:#FFFFFF;padding:15px;\">\n",
    "<h2>8. Appendix</h2><a name=\"appendix\"></a>\n",
    "</div>"
   ]
  },
  {
   "cell_type": "markdown",
   "metadata": {},
   "source": []
  },
  {
   "cell_type": "markdown",
   "metadata": {},
   "source": [
    "[Back to contents](#contents)"
   ]
  },
  {
   "cell_type": "markdown",
   "metadata": {},
   "source": [
    "> <small>Written by - Alex Lynn - © 2020</small>"
   ]
  }
 ],
 "metadata": {
  "kernelspec": {
   "display_name": "Python 3",
   "language": "python",
   "name": "python3"
  },
  "language_info": {
   "codemirror_mode": {
    "name": "ipython",
    "version": 3
   },
   "file_extension": ".py",
   "mimetype": "text/x-python",
   "name": "python",
   "nbconvert_exporter": "python",
   "pygments_lexer": "ipython3",
   "version": "3.6.5"
  }
 },
 "nbformat": 4,
 "nbformat_minor": 2
}
