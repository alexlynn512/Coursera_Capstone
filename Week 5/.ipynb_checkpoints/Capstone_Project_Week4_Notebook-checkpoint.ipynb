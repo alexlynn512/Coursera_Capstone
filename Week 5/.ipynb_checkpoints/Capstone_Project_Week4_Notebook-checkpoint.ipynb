{
 "cells": [
  {
   "cell_type": "markdown",
   "metadata": {},
   "source": [
    "<div style=\"background-color:#769fcd;color:#FFFFFF;padding:20px;\">\n",
    "<h1>Capstone Project - The Battle of the Neighbourhoods - Week 2</h1><a name=\"contents\"></a>\n",
    "<h3><em>IBM Data Science Professional Certificate - Alex Lynn</em></h3>\n",
    "</div>"
   ]
  },
  {
   "cell_type": "markdown",
   "metadata": {},
   "source": [
    "<h2>Table of Contents</h2>\n",
    "* [1. Introduction](#introduction)\n",
    "* [2. Data](#data)\n",
    "* [3. Methodology](#methods)\n",
    "* [4. Analysis](#analysis)\n",
    "* [5. Results](#results)\n",
    "* [6. Discussion](#discussion)\n",
    "* [7. Concolusion](#conclusion)"
   ]
  },
  {
   "cell_type": "markdown",
   "metadata": {},
   "source": [
    "<div style=\"background-color:#769fcd;color:#FFFFFF;padding:15px;\">\n",
    "<h2>1. Introduction</h2><a name=\"introduction\"></a>\n",
    "</div>"
   ]
  },
  {
   "cell_type": "markdown",
   "metadata": {},
   "source": [
    "This research is intended on finding the best suitable location for a **Peruvian** restaurant in the city of **Cambridge, UK**. The report is designed for any stakeholder who would like to make a calculated risk before leasing a retail space.\n",
    "\n",
    "The main criteria for this report are to find a location that is close to an area where there is a good choice of entertainment, but where there are not any restaurants that provide similar cuisine type (e.g. **Mexican, Brazilian** etc).\n",
    "\n",
    "**Cambridge** is a city with a big demographic of tourists and foreign students, so appealing to a type of cuisine that does not exist in the market could prove profitable for the stakeholder.\n",
    "\n",
    "As of current statistics these are the **5** most popular restaurant cuisines in the **UK**, so there is a gap in the market for emerging food trends. The report will look to examine whether Cambridge fits into the same generalised food choice as the rest of the UK.\n",
    "<ol>\n",
    "    <li>Pub Food</li>\n",
    "    <li>English</li>\n",
    "    <li>Chinese</li>\n",
    "    <li>Indian</li>\n",
    "    <li>Italian</li>\n",
    "</ol>\n",
    "\n",
    "> <small>Appendix: 1.1</small>\n",
    "> <a href=\"https://beambox.com/townsquare/what-are-the-most-popular-types-of-restaurants-in-the-uk\">What are the most popular types of restaurants in the UK</a><br>\n",
    "> <cite>Beambox.com</cite>\n",
    "\n",
    "[Back to Contents](#contents)"
   ]
  },
  {
   "cell_type": "markdown",
   "metadata": {},
   "source": [
    "<div style=\"background-color:#769fcd;color:#FFFFFF;padding:15px;\">\n",
    "<h2>2. Data</h2><a name=\"data\"></a>\n",
    "</div>"
   ]
  },
  {
   "cell_type": "markdown",
   "metadata": {},
   "source": [
    "In this report we will look to get the following information from our data.\n",
    "\n",
    "* Locate any restaurants within the City that already serve **Latin American** food.\n",
    "    * Restaurant information will be stored for use in further analysis.\n",
    "    * The stakeholder has said that a 1km radius is required from any existing **Latin American** restaurant.\n",
    "* Research the demographic of restaurant types within **Cambridge**, listing the top 10 categories.\n",
    "    * The stakeholder expects that the market is dominated by **Italian** restaurants.\n",
    "* Divide the city of **Cambridge** into smaller areas using a list of boroughs. \n",
    "    * Show the frequency of the top 10 categories within each borough.\n",
    "    * Showing the frequency of entertainment venues (e.g. Theatres, Cinemas, Bars etc)\n",
    "* Display on a Map the clustering of the different areas within **Cambridge** and which areas are similar.\n",
    "    * Showing any existing ** Latin American** restauraunts.\n",
    "\n",
    "To create this report the methods used will be:\n",
    "\n",
    "* *Geolocater* to provide the centre point of **Cambridge, UK**.\n",
    "* *Web Scraping* of **Cambridge** districts.\n",
    "    * Data gathered to get the Geo points for each district.\n",
    "    * Data will be used to create a Choropleth Map depicting the frequencies within these areas.\n",
    "    > <small>Appendix: 2.1</small>\n",
    "    > <a href=\"https://wiki.openstreetmap.org/wiki/Cambridge\">Cambridge</a><br>\n",
    "    > <cite>OpenStreetMap.org</cite>\n",
    "* *FourSquare API* will return lists of venues using the co-ordinates for each district.\n",
    "    * It will also return the latitude and longitude for each venue.\n",
    "    * Using specific venue types will return the data requied\n",
    "    \n",
    "\n",
    "[Back to Contents](#contents)"
   ]
  },
  {
   "cell_type": "markdown",
   "metadata": {},
   "source": [
    "#### Import Statement"
   ]
  },
  {
   "cell_type": "markdown",
   "metadata": {},
   "source": [
    "<table align=\"left\">\n",
    "    <thead>\n",
    "        <th>Library</th>\n",
    "        <th>Reason</th>\n",
    "    </thead>\n",
    "    <tbody>\n",
    "        <tr>\n",
    "            <td>**Folium**</td>\n",
    "            <td>Mapping library, to create accurate map visualisations</td>\n",
    "        </tr>\n",
    "        <tr>\n",
    "            <td>**Pandas**</td>\n",
    "            <td>Data Analysis library, to create DataFrames and process data.</td>\n",
    "        </tr>\n",
    "        <tr>\n",
    "            <td>**Matplotlib**</td>\n",
    "            <td>Plotting library, to show visualisations of the data.</td>\n",
    "        </tr>\n",
    "        <tr>\n",
    "            <td>**Seaborn**</td>\n",
    "            <td>Plotting library, works on top of Matplotlib.</td>\n",
    "        </tr>\n",
    "        <tr>\n",
    "            <td>**urllib.request**</td>\n",
    "            <td>URL request library, to make web requests.</td>\n",
    "        </tr>\n",
    "        <tr>\n",
    "            <td>**bs4**</td>\n",
    "            <td>BeautifulSoup library, to scrape the data from web requests.</td>\n",
    "        </tr>\n",
    "        <tr>\n",
    "            <td>**geocoder**</td>\n",
    "            <td>GeoCoder library, to get the latitude and longitude using an address.</td>\n",
    "        </tr>\n",
    "        <tr>\n",
    "            <td>**Numpy**</td>\n",
    "            <td>Scientific library, we will be using it for Arrays.</td>\n",
    "        </tr>\n",
    "        <tr>\n",
    "            <td>JSON</td>\n",
    "            <td>JSON library, used to load and parse JSON files.</td>\n",
    "        </tr>\n",
    "        <tr>\n",
    "            <td>Requests</td>\n",
    "            <td>Web Requests library, to access websites and parse HTML</td>\n",
    "        </tr>\n",
    "    </tbody>\n",
    "</table>"
   ]
  },
  {
   "cell_type": "code",
   "execution_count": 1,
   "metadata": {},
   "outputs": [],
   "source": [
    "# Import Statements\n",
    "import folium\n",
    "import pandas as pd\n",
    "\n",
    "import matplotlib.pyplot as plt\n",
    "import matplotlib.cm as cm\n",
    "import matplotlib.colors as colors\n",
    "%matplotlib inline \n",
    "\n",
    "import seaborn as sns\n",
    "import urllib.request\n",
    "from bs4 import BeautifulSoup\n",
    "from geopy.geocoders import Nominatim\n",
    "\n",
    "import numpy as np\n",
    "import json\n",
    "import requests"
   ]
  },
  {
   "cell_type": "markdown",
   "metadata": {},
   "source": [
    "### Data Retrieval\n",
    "<a id=\"dataretrieval\"></a>"
   ]
  },
  {
   "cell_type": "markdown",
   "metadata": {},
   "source": [
    "To start we need to scrape the data from the <a href=\"https://wiki.openstreetmap.org/wiki/Cambridge\">website</a> to get all of our districts which will be used with our .geojson file.<br>\n",
    "This will be done using `urllib.request` which will request the URL from the site, then we will use `bs4` to collect the information from the request and put it into a DataFrame"
   ]
  },
  {
   "cell_type": "code",
   "execution_count": 2,
   "metadata": {},
   "outputs": [],
   "source": [
    "# Request the webpage of the following URL\n",
    "url = 'https://wiki.openstreetmap.org/wiki/Cambridge'\n",
    "data_raw = urllib.request.urlopen(url).read()"
   ]
  },
  {
   "cell_type": "code",
   "execution_count": 3,
   "metadata": {},
   "outputs": [],
   "source": [
    "# Prettify the request\n",
    "soup = BeautifulSoup(data_raw, 'lxml')"
   ]
  },
  {
   "cell_type": "markdown",
   "metadata": {},
   "source": [
    "##### Get all data from the website into an array"
   ]
  },
  {
   "cell_type": "code",
   "execution_count": 4,
   "metadata": {},
   "outputs": [],
   "source": [
    "# Initiate the arrays\n",
    "district = []\n",
    "location = []\n",
    "\n",
    "# Get the 4th table from the webpage\n",
    "tables = soup.findAll(\"table\")[3]\n",
    "\n",
    "# Get all <tr> references from the table\n",
    "rows = tables.findAll(\"tr\")\n",
    "\n",
    "# For each row in <tr>\n",
    "for row in rows:\n",
    "    i = 0\n",
    "    cells = row.findAll(\"td\")\n",
    "    for cell in cells:\n",
    "        if i == 0:\n",
    "            district.append(cell.text)\n",
    "        elif i == 1:\n",
    "            number = cell.find(\"span\", title=\"browse relation\").text\n",
    "            location.append(number)\n",
    "        \n",
    "        i = i + 1"
   ]
  },
  {
   "cell_type": "markdown",
   "metadata": {},
   "source": [
    "##### Combine Arrays into DataFrame"
   ]
  },
  {
   "cell_type": "code",
   "execution_count": 5,
   "metadata": {},
   "outputs": [
    {
     "name": "stdout",
     "output_type": "stream",
     "text": [
      "Shape: (14, 2)\n"
     ]
    },
    {
     "data": {
      "text/html": [
       "<div>\n",
       "<style scoped>\n",
       "    .dataframe tbody tr th:only-of-type {\n",
       "        vertical-align: middle;\n",
       "    }\n",
       "\n",
       "    .dataframe tbody tr th {\n",
       "        vertical-align: top;\n",
       "    }\n",
       "\n",
       "    .dataframe thead th {\n",
       "        text-align: right;\n",
       "    }\n",
       "</style>\n",
       "<table border=\"1\" class=\"dataframe\">\n",
       "  <thead>\n",
       "    <tr style=\"text-align: right;\">\n",
       "      <th></th>\n",
       "      <th>District</th>\n",
       "      <th>Location</th>\n",
       "    </tr>\n",
       "  </thead>\n",
       "  <tbody>\n",
       "    <tr>\n",
       "      <th>0</th>\n",
       "      <td>Abbey</td>\n",
       "      <td>1736010</td>\n",
       "    </tr>\n",
       "    <tr>\n",
       "      <th>1</th>\n",
       "      <td>Arbury</td>\n",
       "      <td>1736011</td>\n",
       "    </tr>\n",
       "    <tr>\n",
       "      <th>2</th>\n",
       "      <td>Castle</td>\n",
       "      <td>1736012</td>\n",
       "    </tr>\n",
       "    <tr>\n",
       "      <th>3</th>\n",
       "      <td>Cherry Hinton</td>\n",
       "      <td>1736013</td>\n",
       "    </tr>\n",
       "    <tr>\n",
       "      <th>4</th>\n",
       "      <td>Coleridge</td>\n",
       "      <td>1736014</td>\n",
       "    </tr>\n",
       "  </tbody>\n",
       "</table>\n",
       "</div>"
      ],
      "text/plain": [
       "        District Location\n",
       "0          Abbey  1736010\n",
       "1         Arbury  1736011\n",
       "2         Castle  1736012\n",
       "3  Cherry Hinton  1736013\n",
       "4      Coleridge  1736014"
      ]
     },
     "execution_count": 5,
     "metadata": {},
     "output_type": "execute_result"
    }
   ],
   "source": [
    "df_district = pd.DataFrame(district,columns=['District'])\n",
    "df_district['Location'] = location\n",
    "\n",
    "print('Shape:',df_district.shape)\n",
    "df_district.head()"
   ]
  },
  {
   "cell_type": "markdown",
   "metadata": {},
   "source": [
    "##### Load the GeoJson file"
   ]
  },
  {
   "cell_type": "markdown",
   "metadata": {},
   "source": [
    "* GeoJson file that made using the location boundary information from the webiste listed above.\n",
    "* Json data collected from <a href=\"http://polygons.openstreetmap.fr/\">website</a>.\n",
    "* Json data collated into one GeoJson file using Adobe Dreamweaver and following the standard on\n",
    "<a href=\"https://en.wikipedia.org/wiki/GeoJSON\">Wikipedia</a>.\n",
    "* Final geojson file tested using <a href=\"http://geojson.io/\">geojson.io</a>"
   ]
  },
  {
   "cell_type": "code",
   "execution_count": 6,
   "metadata": {},
   "outputs": [],
   "source": [
    "cambridge_geo = r'cambridge.geojson'"
   ]
  },
  {
   "cell_type": "markdown",
   "metadata": {},
   "source": [
    "##### Get the centroid positions of the geojson areas"
   ]
  },
  {
   "cell_type": "code",
   "execution_count": 7,
   "metadata": {},
   "outputs": [],
   "source": [
    "# open JSON file \n",
    "districtName = []\n",
    "districtLat = []\n",
    "districtLon = []\n",
    "\n",
    "with open(cambridge_geo) as f:\n",
    "    data = json.load(f)\n",
    "    coll = data['features']\n",
    "    \n",
    "    # Loop through the json file\n",
    "    for row in coll:\n",
    "        \n",
    "        # initiate lat and lon arrays to store the points\n",
    "        Lat = []\n",
    "        Lon = []\n",
    "        \n",
    "        # setup properties node\n",
    "        prop = row['properties']\n",
    "        \n",
    "        # setup coordinates node\n",
    "        geometry = row['geometry']\n",
    "        coord = geometry['coordinates']\n",
    "        name = ''\n",
    "        \n",
    "        # loop through the key, value pairs in properties\n",
    "        for key, value in prop.items():\n",
    "            name = value\n",
    "        \n",
    "        # loop through the coordinates\n",
    "        for level1 in coord:\n",
    "            for level2 in level1:\n",
    "                for level3 in level2:\n",
    "                    \n",
    "                    # convert to string\n",
    "                    i = str(level3)\n",
    "                    \n",
    "                    # replace brackets\n",
    "                    i = i.replace('[','')\n",
    "                    i = i.replace(']','')\n",
    "                    \n",
    "                    # split using the comma, with maximum of two values in list\n",
    "                    i = i.split(',',1)\n",
    "                    \n",
    "                    # add latitude and longitude to respective arrays\n",
    "                    Lat.append(i[0])\n",
    "                    Lon.append(i[1])\n",
    "                \n",
    "        # convert arrays to float values\n",
    "        Lat = np.array(Lat).astype(np.float)\n",
    "        Lon = np.array(Lon).astype(np.float)\n",
    "        \n",
    "        # get the mean latitude and longitude\n",
    "        LatMean = np.mean(Lat)\n",
    "        LonMean = np.mean(Lon)\n",
    "        \n",
    "        # append top level arrays\n",
    "        districtName.append(name)\n",
    "        districtLat.append(LatMean)\n",
    "        districtLon.append(LonMean)"
   ]
  },
  {
   "cell_type": "markdown",
   "metadata": {},
   "source": [
    "##### Put arrays into DataFrame"
   ]
  },
  {
   "cell_type": "code",
   "execution_count": 8,
   "metadata": {},
   "outputs": [
    {
     "data": {
      "text/html": [
       "<div>\n",
       "<style scoped>\n",
       "    .dataframe tbody tr th:only-of-type {\n",
       "        vertical-align: middle;\n",
       "    }\n",
       "\n",
       "    .dataframe tbody tr th {\n",
       "        vertical-align: top;\n",
       "    }\n",
       "\n",
       "    .dataframe thead th {\n",
       "        text-align: right;\n",
       "    }\n",
       "</style>\n",
       "<table border=\"1\" class=\"dataframe\">\n",
       "  <thead>\n",
       "    <tr style=\"text-align: right;\">\n",
       "      <th></th>\n",
       "      <th>D_Name</th>\n",
       "      <th>D_Lon</th>\n",
       "      <th>D_Lat</th>\n",
       "    </tr>\n",
       "  </thead>\n",
       "  <tbody>\n",
       "    <tr>\n",
       "      <th>0</th>\n",
       "      <td>Arbury</td>\n",
       "      <td>52.218995</td>\n",
       "      <td>0.115557</td>\n",
       "    </tr>\n",
       "    <tr>\n",
       "      <th>1</th>\n",
       "      <td>Abbey</td>\n",
       "      <td>52.209170</td>\n",
       "      <td>0.158143</td>\n",
       "    </tr>\n",
       "    <tr>\n",
       "      <th>2</th>\n",
       "      <td>Castle</td>\n",
       "      <td>52.214867</td>\n",
       "      <td>0.102719</td>\n",
       "    </tr>\n",
       "    <tr>\n",
       "      <th>3</th>\n",
       "      <td>Cherry Hinton</td>\n",
       "      <td>52.188377</td>\n",
       "      <td>0.170359</td>\n",
       "    </tr>\n",
       "    <tr>\n",
       "      <th>4</th>\n",
       "      <td>Coleridge</td>\n",
       "      <td>52.189603</td>\n",
       "      <td>0.153449</td>\n",
       "    </tr>\n",
       "  </tbody>\n",
       "</table>\n",
       "</div>"
      ],
      "text/plain": [
       "          D_Name      D_Lon     D_Lat\n",
       "0         Arbury  52.218995  0.115557\n",
       "1          Abbey  52.209170  0.158143\n",
       "2         Castle  52.214867  0.102719\n",
       "3  Cherry Hinton  52.188377  0.170359\n",
       "4      Coleridge  52.189603  0.153449"
      ]
     },
     "execution_count": 8,
     "metadata": {},
     "output_type": "execute_result"
    }
   ],
   "source": [
    "df_coord = pd.DataFrame(districtName,columns=['D_Name'])\n",
    "df_coord['D_Lon'] = districtLon\n",
    "df_coord['D_Lat'] = districtLat\n",
    "\n",
    "df_coord.head()"
   ]
  },
  {
   "cell_type": "markdown",
   "metadata": {},
   "source": [
    "#### Merge the original dataframe and the new dataframe"
   ]
  },
  {
   "cell_type": "code",
   "execution_count": 9,
   "metadata": {},
   "outputs": [
    {
     "data": {
      "text/html": [
       "<div>\n",
       "<style scoped>\n",
       "    .dataframe tbody tr th:only-of-type {\n",
       "        vertical-align: middle;\n",
       "    }\n",
       "\n",
       "    .dataframe tbody tr th {\n",
       "        vertical-align: top;\n",
       "    }\n",
       "\n",
       "    .dataframe thead th {\n",
       "        text-align: right;\n",
       "    }\n",
       "</style>\n",
       "<table border=\"1\" class=\"dataframe\">\n",
       "  <thead>\n",
       "    <tr style=\"text-align: right;\">\n",
       "      <th></th>\n",
       "      <th>District</th>\n",
       "      <th>Latitude</th>\n",
       "      <th>Longitude</th>\n",
       "    </tr>\n",
       "  </thead>\n",
       "  <tbody>\n",
       "    <tr>\n",
       "      <th>0</th>\n",
       "      <td>Abbey</td>\n",
       "      <td>52.209170</td>\n",
       "      <td>0.158143</td>\n",
       "    </tr>\n",
       "    <tr>\n",
       "      <th>1</th>\n",
       "      <td>Arbury</td>\n",
       "      <td>52.218995</td>\n",
       "      <td>0.115557</td>\n",
       "    </tr>\n",
       "    <tr>\n",
       "      <th>2</th>\n",
       "      <td>Castle</td>\n",
       "      <td>52.214867</td>\n",
       "      <td>0.102719</td>\n",
       "    </tr>\n",
       "    <tr>\n",
       "      <th>3</th>\n",
       "      <td>Cherry Hinton</td>\n",
       "      <td>52.188377</td>\n",
       "      <td>0.170359</td>\n",
       "    </tr>\n",
       "    <tr>\n",
       "      <th>4</th>\n",
       "      <td>Coleridge</td>\n",
       "      <td>52.189603</td>\n",
       "      <td>0.153449</td>\n",
       "    </tr>\n",
       "  </tbody>\n",
       "</table>\n",
       "</div>"
      ],
      "text/plain": [
       "        District   Latitude  Longitude\n",
       "0          Abbey  52.209170   0.158143\n",
       "1         Arbury  52.218995   0.115557\n",
       "2         Castle  52.214867   0.102719\n",
       "3  Cherry Hinton  52.188377   0.170359\n",
       "4      Coleridge  52.189603   0.153449"
      ]
     },
     "execution_count": 9,
     "metadata": {},
     "output_type": "execute_result"
    }
   ],
   "source": [
    "# Merge df and df_geo\n",
    "if df_district.shape[1] < 4:\n",
    "    df_district = pd.merge(left=df_district, right=df_coord, left_on='District', right_on='D_Name')\n",
    "    df_district.drop(['D_Name','Location'], axis=1, inplace=True)\n",
    "    df_district.columns = ['District','Latitude','Longitude']\n",
    "    \n",
    "df_district.head()"
   ]
  },
  {
   "cell_type": "markdown",
   "metadata": {},
   "source": [
    "##### Latitude and Longitude of Cambridge using geolocation"
   ]
  },
  {
   "cell_type": "markdown",
   "metadata": {},
   "source": [
    "This is used to get the location of Cambridge, UK so that we can center our map."
   ]
  },
  {
   "cell_type": "code",
   "execution_count": 10,
   "metadata": {},
   "outputs": [
    {
     "name": "stdout",
     "output_type": "stream",
     "text": [
      "Cambridge, UK Coordinates: 52.2034823, 0.1235817.\n"
     ]
    }
   ],
   "source": [
    "city_name = 'Cambridge, United Kingdom'\n",
    "\n",
    "geolocator = Nominatim(user_agent=\"ny_explorer\")\n",
    "city_location = geolocator.geocode(city_name)\n",
    "city_latitude = city_location.latitude\n",
    "city_longitude = city_location.longitude\n",
    "print('Cambridge, UK Coordinates: {}, {}.'.format(city_latitude, city_longitude))"
   ]
  },
  {
   "cell_type": "markdown",
   "metadata": {},
   "source": [
    "#### Setup FourSquare Settings \n",
    "\n",
    "These have been removed for the final workbook, replaced by 'X'"
   ]
  },
  {
   "cell_type": "code",
   "execution_count": 11,
   "metadata": {},
   "outputs": [],
   "source": [
    "CLIENT_ID = 'XXXXXXXXXXXXXXXXXXXXXXXXXXXXXXXXXXXXXXXXXXXXXXXX'\n",
    "CLIENT_SECRET = 'XXXXXXXXXXXXXXXXXXXXXXXXXXXXXXXXXXXXXXXXXXXXXXXX'\n",
    "VERSION = '20200727' # Foursquare API version"
   ]
  },
  {
   "cell_type": "markdown",
   "metadata": {},
   "source": [
    "##### FUNCTION - FourSquare Return\n",
    "\n",
    "* Using a **search** call on the API so that I can use multiple categories.\n",
    "* Function takes in the following paramaters:\n",
    "    * Names (Array)\n",
    "    * Latitudes (Array)\n",
    "    * Lonitudes (Array)\n",
    "    * Radius (in metres) - <em>Default 500</em>\n",
    "    * Limit - <em>Default 100</em>\n",
    "    * Category - <em>Default ''</em>\n",
    "* <strong>Returns DataFrame</strong>"
   ]
  },
  {
   "cell_type": "code",
   "execution_count": 12,
   "metadata": {},
   "outputs": [],
   "source": [
    "def getNearbyVenues(names, latitudes, longitudes, radius=500, LIMIT=100,category=''):    \n",
    "    \n",
    "    '''\n",
    "    Use this function to return a dataframe with all the venues within your criteria.\n",
    "    RETURNS:\n",
    "        DataFrame with [District],[Venue],[Venue Latitude],[Venue Longitude],[Venue Category]\n",
    "    '''\n",
    "    \n",
    "    venues_list=[]\n",
    "\n",
    "    for name, lat, lng in zip(names, latitudes, longitudes):\n",
    "            \n",
    "        # create the API request URL\n",
    "        url = 'https://api.foursquare.com/v2/venues/search?&client_id={}&client_secret={}&v={}&ll={},{}&radius={}&limit={}&categoryId={}'.format(\n",
    "            CLIENT_ID, CLIENT_SECRET, VERSION, lat, lng, radius, LIMIT,category)\n",
    "                        \n",
    "        # make the GET request\n",
    "        results = requests.get(url).json()[\"response\"]['venues']\n",
    "        #print(results)\n",
    "        \n",
    "        # return only relevant information for each nearby venue\n",
    "        venues_list.append([(\n",
    "            name,\n",
    "            v['name'], \n",
    "            v['location']['lat'], \n",
    "            v['location']['lng'],\n",
    "            v['categories'][0]['name']) for v in results])\n",
    "        \n",
    "    nearby_venues = pd.DataFrame([item for venue_list in venues_list for item in venue_list])\n",
    "    nearby_venues.columns = [\n",
    "                  'District', \n",
    "                  'Venue', \n",
    "                  'Venue Latitude', \n",
    "                  'Venue Longitude', \n",
    "                  'Venue Category']\n",
    "        \n",
    "    return(nearby_venues) "
   ]
  },
  {
   "cell_type": "markdown",
   "metadata": {},
   "source": [
    "##### FUNCTION - DataFrame of restaurants in the districts\n",
    "\n",
    "* Function will return a dataframe to be used to show frequency of restaurants."
   ]
  },
  {
   "cell_type": "code",
   "execution_count": 13,
   "metadata": {},
   "outputs": [],
   "source": [
    "def getVenues():\n",
    "\n",
    "    radius = 500\n",
    "    LIMIT = 500\n",
    "    category = '4d4b7105d754a06374d81259'\n",
    "\n",
    "    df = getNearbyVenues(df_district['District'],\n",
    "                            df_district['Latitude'],\n",
    "                            df_district['Longitude'],\n",
    "                            radius,\n",
    "                            LIMIT,\n",
    "                            category)\n",
    "    return df"
   ]
  },
  {
   "cell_type": "code",
   "execution_count": 14,
   "metadata": {
    "scrolled": false
   },
   "outputs": [
    {
     "name": "stdout",
     "output_type": "stream",
     "text": [
      "Shape:  (187, 5)\n"
     ]
    },
    {
     "data": {
      "text/html": [
       "<div>\n",
       "<style scoped>\n",
       "    .dataframe tbody tr th:only-of-type {\n",
       "        vertical-align: middle;\n",
       "    }\n",
       "\n",
       "    .dataframe tbody tr th {\n",
       "        vertical-align: top;\n",
       "    }\n",
       "\n",
       "    .dataframe thead th {\n",
       "        text-align: right;\n",
       "    }\n",
       "</style>\n",
       "<table border=\"1\" class=\"dataframe\">\n",
       "  <thead>\n",
       "    <tr style=\"text-align: right;\">\n",
       "      <th></th>\n",
       "      <th>District</th>\n",
       "      <th>Venue</th>\n",
       "      <th>Venue Latitude</th>\n",
       "      <th>Venue Longitude</th>\n",
       "      <th>Venue Category</th>\n",
       "    </tr>\n",
       "  </thead>\n",
       "  <tbody>\n",
       "    <tr>\n",
       "      <th>0</th>\n",
       "      <td>Abbey</td>\n",
       "      <td>Autumn House Bed and Breakfast Cambridge</td>\n",
       "      <td>52.212496</td>\n",
       "      <td>0.158485</td>\n",
       "      <td>Gastropub</td>\n",
       "    </tr>\n",
       "    <tr>\n",
       "      <th>1</th>\n",
       "      <td>Abbey</td>\n",
       "      <td>Pipasha</td>\n",
       "      <td>52.213388</td>\n",
       "      <td>0.154665</td>\n",
       "      <td>Indian Restaurant</td>\n",
       "    </tr>\n",
       "    <tr>\n",
       "      <th>2</th>\n",
       "      <td>Abbey</td>\n",
       "      <td>The Codfather</td>\n",
       "      <td>52.211820</td>\n",
       "      <td>0.163236</td>\n",
       "      <td>Fish &amp; Chips Shop</td>\n",
       "    </tr>\n",
       "    <tr>\n",
       "      <th>3</th>\n",
       "      <td>Abbey</td>\n",
       "      <td>China Chef</td>\n",
       "      <td>52.213499</td>\n",
       "      <td>0.154384</td>\n",
       "      <td>Chinese Restaurant</td>\n",
       "    </tr>\n",
       "    <tr>\n",
       "      <th>4</th>\n",
       "      <td>Arbury</td>\n",
       "      <td>Coffee Tree</td>\n",
       "      <td>52.219494</td>\n",
       "      <td>0.111630</td>\n",
       "      <td>Café</td>\n",
       "    </tr>\n",
       "  </tbody>\n",
       "</table>\n",
       "</div>"
      ],
      "text/plain": [
       "  District                                     Venue  Venue Latitude  \\\n",
       "0    Abbey  Autumn House Bed and Breakfast Cambridge       52.212496   \n",
       "1    Abbey                                   Pipasha       52.213388   \n",
       "2    Abbey                             The Codfather       52.211820   \n",
       "3    Abbey                                China Chef       52.213499   \n",
       "4   Arbury                               Coffee Tree       52.219494   \n",
       "\n",
       "   Venue Longitude      Venue Category  \n",
       "0         0.158485           Gastropub  \n",
       "1         0.154665   Indian Restaurant  \n",
       "2         0.163236   Fish & Chips Shop  \n",
       "3         0.154384  Chinese Restaurant  \n",
       "4         0.111630                Café  "
      ]
     },
     "execution_count": 14,
     "metadata": {},
     "output_type": "execute_result"
    }
   ],
   "source": [
    "district_venues = getVenues()\n",
    "print('Shape: ',district_venues.shape)\n",
    "district_venues.head()"
   ]
  },
  {
   "cell_type": "markdown",
   "metadata": {},
   "source": [
    "###### Results\n",
    "As we can see there are only **187 restaurants** listed on FourSquare taken in districts that we have listed, within a 500m radius of the centroid position of the district."
   ]
  },
  {
   "cell_type": "markdown",
   "metadata": {},
   "source": [
    "##### FUNCTION - DataFrame of entertainment in the districts\n",
    "\n",
    "* Function will return a dataframe to be used to show frequency of entertainment."
   ]
  },
  {
   "cell_type": "code",
   "execution_count": 15,
   "metadata": {},
   "outputs": [],
   "source": [
    "def getEntertainment():\n",
    "    radius = 500\n",
    "    LIMIT = 500\n",
    "    category = '4d4b7105d754a06376d81259,4d4b7104d754a06370d81259'\n",
    "\n",
    "    # Categories set to Arts & Entertainment and Nightlife Spots\n",
    "\n",
    "    df = getNearbyVenues(df_district['District'],\n",
    "                                  df_district['Latitude'],\n",
    "                                  df_district['Longitude'],\n",
    "                                  radius,\n",
    "                                  LIMIT,\n",
    "                                  category)\n",
    "    return df"
   ]
  },
  {
   "cell_type": "code",
   "execution_count": 16,
   "metadata": {},
   "outputs": [
    {
     "name": "stdout",
     "output_type": "stream",
     "text": [
      "Shape:  (160, 5)\n"
     ]
    },
    {
     "data": {
      "text/html": [
       "<div>\n",
       "<style scoped>\n",
       "    .dataframe tbody tr th:only-of-type {\n",
       "        vertical-align: middle;\n",
       "    }\n",
       "\n",
       "    .dataframe tbody tr th {\n",
       "        vertical-align: top;\n",
       "    }\n",
       "\n",
       "    .dataframe thead th {\n",
       "        text-align: right;\n",
       "    }\n",
       "</style>\n",
       "<table border=\"1\" class=\"dataframe\">\n",
       "  <thead>\n",
       "    <tr style=\"text-align: right;\">\n",
       "      <th></th>\n",
       "      <th>District</th>\n",
       "      <th>Venue</th>\n",
       "      <th>Venue Latitude</th>\n",
       "      <th>Venue Longitude</th>\n",
       "      <th>Venue Category</th>\n",
       "    </tr>\n",
       "  </thead>\n",
       "  <tbody>\n",
       "    <tr>\n",
       "      <th>0</th>\n",
       "      <td>Abbey</td>\n",
       "      <td>Dion Dublin Suite</td>\n",
       "      <td>52.212271</td>\n",
       "      <td>0.155038</td>\n",
       "      <td>Bar</td>\n",
       "    </tr>\n",
       "    <tr>\n",
       "      <th>1</th>\n",
       "      <td>Abbey</td>\n",
       "      <td>Abbey Stadium</td>\n",
       "      <td>52.212570</td>\n",
       "      <td>0.154379</td>\n",
       "      <td>Soccer Stadium</td>\n",
       "    </tr>\n",
       "    <tr>\n",
       "      <th>2</th>\n",
       "      <td>Abbey</td>\n",
       "      <td>Splash Pad</td>\n",
       "      <td>52.209740</td>\n",
       "      <td>0.154114</td>\n",
       "      <td>Water Park</td>\n",
       "    </tr>\n",
       "    <tr>\n",
       "      <th>3</th>\n",
       "      <td>Abbey</td>\n",
       "      <td>Mulletboy Studios</td>\n",
       "      <td>52.212644</td>\n",
       "      <td>0.153579</td>\n",
       "      <td>Music Venue</td>\n",
       "    </tr>\n",
       "    <tr>\n",
       "      <th>4</th>\n",
       "      <td>Arbury</td>\n",
       "      <td>Colours of Dance</td>\n",
       "      <td>52.219164</td>\n",
       "      <td>0.111665</td>\n",
       "      <td>Dance Studio</td>\n",
       "    </tr>\n",
       "  </tbody>\n",
       "</table>\n",
       "</div>"
      ],
      "text/plain": [
       "  District              Venue  Venue Latitude  Venue Longitude  Venue Category\n",
       "0    Abbey  Dion Dublin Suite       52.212271         0.155038             Bar\n",
       "1    Abbey      Abbey Stadium       52.212570         0.154379  Soccer Stadium\n",
       "2    Abbey         Splash Pad       52.209740         0.154114      Water Park\n",
       "3    Abbey  Mulletboy Studios       52.212644         0.153579     Music Venue\n",
       "4   Arbury   Colours of Dance       52.219164         0.111665    Dance Studio"
      ]
     },
     "execution_count": 16,
     "metadata": {},
     "output_type": "execute_result"
    }
   ],
   "source": [
    "district_entertain = getEntertainment()\n",
    "print('Shape: ',district_entertain.shape)\n",
    "district_entertain.head()"
   ]
  },
  {
   "cell_type": "markdown",
   "metadata": {},
   "source": [
    "###### Results\n",
    "As we can see there are only **160 Arts & Entertainment or Nightlife spots** listed on FourSquare for the districts that we have listed, within a 500m radius of the centroid position of the district."
   ]
  },
  {
   "cell_type": "markdown",
   "metadata": {},
   "source": [
    "##### FUNCTION - DataFrame of Latin American restaurants in the districts\n",
    "\n",
    "* Function will return a dataframe to be used to show frequency of Latin American restaurants."
   ]
  },
  {
   "cell_type": "code",
   "execution_count": 17,
   "metadata": {},
   "outputs": [],
   "source": [
    "def getLatin():\n",
    "    radius = 500\n",
    "    LIMIT = 500\n",
    "    category = '4bf58dd8d48988d1be941735'\n",
    "\n",
    "    data = {'Location':['Cambridge'],'Latitude':[city_latitude],'Longitude':[city_longitude]}\n",
    "    df_cambridge = pd.DataFrame (data, columns = ['Location','Latitude','Longitude'])\n",
    "    # Categories set to Latin American restaurants\n",
    "\n",
    "    df = getNearbyVenues(df_cambridge['Location'],\n",
    "            df_cambridge['Latitude'],\n",
    "            df_cambridge['Longitude'],\n",
    "            5000,\n",
    "            LIMIT,\n",
    "            category)\n",
    "    \n",
    "    #df_cambridge\n",
    "    return df"
   ]
  },
  {
   "cell_type": "code",
   "execution_count": 18,
   "metadata": {},
   "outputs": [
    {
     "name": "stdout",
     "output_type": "stream",
     "text": [
      "Shape:  (5, 5)\n"
     ]
    },
    {
     "data": {
      "text/html": [
       "<div>\n",
       "<style scoped>\n",
       "    .dataframe tbody tr th:only-of-type {\n",
       "        vertical-align: middle;\n",
       "    }\n",
       "\n",
       "    .dataframe tbody tr th {\n",
       "        vertical-align: top;\n",
       "    }\n",
       "\n",
       "    .dataframe thead th {\n",
       "        text-align: right;\n",
       "    }\n",
       "</style>\n",
       "<table border=\"1\" class=\"dataframe\">\n",
       "  <thead>\n",
       "    <tr style=\"text-align: right;\">\n",
       "      <th></th>\n",
       "      <th>District</th>\n",
       "      <th>Venue</th>\n",
       "      <th>Venue Latitude</th>\n",
       "      <th>Venue Longitude</th>\n",
       "      <th>Venue Category</th>\n",
       "    </tr>\n",
       "  </thead>\n",
       "  <tbody>\n",
       "    <tr>\n",
       "      <th>0</th>\n",
       "      <td>Cambridge</td>\n",
       "      <td>Las Iguanas</td>\n",
       "      <td>52.210230</td>\n",
       "      <td>0.117309</td>\n",
       "      <td>Latin American Restaurant</td>\n",
       "    </tr>\n",
       "    <tr>\n",
       "      <th>1</th>\n",
       "      <td>Cambridge</td>\n",
       "      <td>Neide's Deli Café</td>\n",
       "      <td>52.200508</td>\n",
       "      <td>0.135943</td>\n",
       "      <td>Brazilian Restaurant</td>\n",
       "    </tr>\n",
       "    <tr>\n",
       "      <th>2</th>\n",
       "      <td>Cambridge</td>\n",
       "      <td>La Latina Bustaurante</td>\n",
       "      <td>52.208076</td>\n",
       "      <td>0.143403</td>\n",
       "      <td>Latin American Restaurant</td>\n",
       "    </tr>\n",
       "    <tr>\n",
       "      <th>3</th>\n",
       "      <td>Cambridge</td>\n",
       "      <td>Chicken rush</td>\n",
       "      <td>52.197636</td>\n",
       "      <td>0.144912</td>\n",
       "      <td>Arepa Restaurant</td>\n",
       "    </tr>\n",
       "    <tr>\n",
       "      <th>4</th>\n",
       "      <td>Cambridge</td>\n",
       "      <td>Hutter</td>\n",
       "      <td>52.209328</td>\n",
       "      <td>0.144877</td>\n",
       "      <td>South American Restaurant</td>\n",
       "    </tr>\n",
       "  </tbody>\n",
       "</table>\n",
       "</div>"
      ],
      "text/plain": [
       "    District                  Venue  Venue Latitude  Venue Longitude  \\\n",
       "0  Cambridge            Las Iguanas       52.210230         0.117309   \n",
       "1  Cambridge      Neide's Deli Café       52.200508         0.135943   \n",
       "2  Cambridge  La Latina Bustaurante       52.208076         0.143403   \n",
       "3  Cambridge           Chicken rush       52.197636         0.144912   \n",
       "4  Cambridge                 Hutter       52.209328         0.144877   \n",
       "\n",
       "              Venue Category  \n",
       "0  Latin American Restaurant  \n",
       "1       Brazilian Restaurant  \n",
       "2  Latin American Restaurant  \n",
       "3           Arepa Restaurant  \n",
       "4  South American Restaurant  "
      ]
     },
     "execution_count": 18,
     "metadata": {},
     "output_type": "execute_result"
    }
   ],
   "source": [
    "district_latin = getLatin()\n",
    "print('Shape: ',district_latin.shape)\n",
    "district_latin.head()"
   ]
  },
  {
   "cell_type": "markdown",
   "metadata": {},
   "source": [
    "###### Results\n",
    "As we can see there are only **1 Latin American restaurant** listed on FourSquare for the districts that we have listed, within a 500m radius of the centroid position of the district."
   ]
  },
  {
   "cell_type": "markdown",
   "metadata": {},
   "source": [
    "[Back to Contents](#contents)"
   ]
  },
  {
   "cell_type": "markdown",
   "metadata": {},
   "source": [
    "### Data Visualisation\n",
    "<a id=\"datavisual\"></a>"
   ]
  },
  {
   "cell_type": "markdown",
   "metadata": {},
   "source": [
    "#### Bar Chart showing the frequency of restaurants within districts\n",
    "\n",
    "* Create a new horizontal bar plot with the districts and the frequency of restaurants"
   ]
  },
  {
   "cell_type": "code",
   "execution_count": 19,
   "metadata": {},
   "outputs": [
    {
     "data": {
      "text/plain": [
       "<matplotlib.axes._subplots.AxesSubplot at 0x222d8e8da20>"
      ]
     },
     "execution_count": 19,
     "metadata": {},
     "output_type": "execute_result"
    },
    {
     "data": {
      "image/png": "[encoded data removed]",
      "text/plain": [
       "<Figure size 1080x576 with 1 Axes>"
      ]
     },
     "metadata": {},
     "output_type": "display_data"
    }
   ],
   "source": [
    "district_venues['District'].value_counts().plot(kind='barh', figsize=(15,8), color=(0.2, 0.4, 0.6, 0.6))"
   ]
  },
  {
   "cell_type": "markdown",
   "metadata": {},
   "source": [
    "**From this bar plot we can see that the most populous areas for restaurants are Petersfield, Market and West Chesterton.**"
   ]
  },
  {
   "cell_type": "markdown",
   "metadata": {},
   "source": [
    "#### Show map of Cambridge with districts\n",
    "\n",
    "* Map shows markers using district latitude and longitude\n",
    "* Radius is drawn to show the search area that we will be using in Foursquare"
   ]
  },
  {
   "cell_type": "code",
   "execution_count": 20,
   "metadata": {},
   "outputs": [],
   "source": [
    "# create a map centered on Cambridge\n",
    "cambridge_map = folium.Map(location=[city_latitude, city_longitude], zoom_start=12.5,control_scale=True)"
   ]
  },
  {
   "cell_type": "code",
   "execution_count": 21,
   "metadata": {},
   "outputs": [],
   "source": [
    "# Function loop through districts and add marker using lat and lon\n",
    "def addMarkers(m):\n",
    "\n",
    "    for lat, lng, name in zip(df_district.Latitude, df_district.Longitude, df_district.District):\n",
    "        location = np.array([lat,lng])\n",
    "        # Add Marker\n",
    "        folium.Marker(location, popup='<i>{}</i>'.format(name), tooltip=name).add_to(m)\n",
    "        # Add Radius of 500m\n",
    "        folium.Circle(\n",
    "            location=location,\n",
    "            radius=500,\n",
    "            color='#3186cc',\n",
    "            fill=True,\n",
    "            fill_color='#3186cc'\n",
    "        ).add_to(m)\n",
    "    \n",
    "    display(m)"
   ]
  },
  {
   "cell_type": "code",
   "execution_count": 22,
   "metadata": {},
   "outputs": [
    {
     "data": {
      "text/html": [
       "<div style=\"width:100%;\"><div style=\"position:relative;width:100%;height:0;padding-bottom:60%;\"><span style=\"color:#565656\">Make this Notebook Trusted to load map: File -> Trust Notebook</span><iframe src=\"about:blank\" style=\"position:absolute;width:100%;height:100%;left:0;top:0;border:none !important;\" data-html=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 onload=\"this.contentDocument.open();this.contentDocument.write(atob(this.getAttribute('data-html')));this.contentDocument.close();\" allowfullscreen webkitallowfullscreen mozallowfullscreen></iframe></div></div>"
      ],
      "text/plain": [
       "<folium.folium.Map at 0x222d8ca2d30>"
      ]
     },
     "metadata": {},
     "output_type": "display_data"
    },
    {
     "data": {
      "text/plain": [
       "<Figure size 432x288 with 0 Axes>"
      ]
     },
     "metadata": {},
     "output_type": "display_data"
    }
   ],
   "source": [
    "addMarkers(cambridge_map)\n",
    "plt.savefig('District_1.pdf', bbox_inches='tight')"
   ]
  },
  {
   "cell_type": "markdown",
   "metadata": {},
   "source": [
    "#### Radius Decision\n",
    "Through testing the appropriate radius 500m has been set as the threshold of the FourSquare search radius, so it doesn't overlap into another district.\n",
    "In this map, we can see that the following districts centroids taken from the mean of the geolocation are not that accurate:\n",
    "* Trumpington\n",
    "* Newnham\n",
    "* Romsey\n",
    "* Cherry Hinton\n",
    "\n",
    "This is due to a large amount of their boundary being located in rural areas.\n",
    "\n",
    "Therfore the centroid location must be repositioned. In the following map I have set the map to show when clicked the latitude and longitude, meaning I can locate more accurate postions."
   ]
  },
  {
   "cell_type": "code",
   "execution_count": 23,
   "metadata": {
    "scrolled": false
   },
   "outputs": [
    {
     "data": {
      "text/html": [
       "<div style=\"width:100%;\"><div style=\"position:relative;width:100%;height:0;padding-bottom:60%;\"><span style=\"color:#565656\">Make this Notebook Trusted to load map: File -> Trust Notebook</span><iframe src=\"about:blank\" style=\"position:absolute;width:100%;height:100%;left:0;top:0;border:none !important;\" data-html=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 onload=\"this.contentDocument.open();this.contentDocument.write(atob(this.getAttribute('data-html')));this.contentDocument.close();\" allowfullscreen webkitallowfullscreen mozallowfullscreen></iframe></div></div>"
      ],
      "text/plain": [
       "<folium.folium.Map at 0x222d8ca2d30>"
      ]
     },
     "metadata": {},
     "output_type": "display_data"
    }
   ],
   "source": [
    "# Create Map with latLng Popup\n",
    "cambridge_map.add_child(folium.LatLngPopup())\n",
    "display(cambridge_map)"
   ]
  },
  {
   "cell_type": "markdown",
   "metadata": {},
   "source": [
    "Updated locations:\n",
    "\n",
    "* **Trumpington**\n",
    "    * Lat: 52.1734\n",
    "    * Lng: 0.1131\n",
    "* **Newnham**\n",
    "    * Lat: 52.1970\n",
    "    * Lng: 0.1068\n",
    "    \n",
    "* **Romsey**\n",
    "    * Lat: 52.1972\n",
    "    * Lng: 0.1463\n",
    "\n",
    "* **Cherry Hinton**\n",
    "    * Lat: 52.1872\n",
    "    * Lng: 0.1764\n",
    "    \n",
    "* **Abbey**\n",
    "    * Lat: 52.2124\n",
    "    * Lng: 0.1613\n",
    "    \n",
    "Let's update the district dataframe."
   ]
  },
  {
   "cell_type": "code",
   "execution_count": 24,
   "metadata": {},
   "outputs": [],
   "source": [
    "# Update Trumpington\n",
    "df_district.loc[df_district.District == 'Trumpington', 'Latitude'] = 52.1734\n",
    "df_district.loc[df_district.District == 'Trumpington', 'Longitude'] = 0.1131\n",
    "\n",
    "# Update Newnham\n",
    "df_district.loc[df_district.District == 'Newnham', 'Latitude'] = 52.1970\n",
    "df_district.loc[df_district.District == 'Newnham', 'Longitude'] =  0.1068\n",
    "\n",
    "# Update Romsey\n",
    "df_district.loc[df_district.District == 'Romsey', 'Latitude'] = 52.1972\n",
    "df_district.loc[df_district.District == 'Romsey', 'Longitude'] =  0.1463\n",
    "\n",
    "# Update Cherry Hinton\n",
    "df_district.loc[df_district.District == 'Cherry Hinton', 'Latitude'] = 52.1872\n",
    "df_district.loc[df_district.District == 'Cherry Hinton', 'Longitude'] =  0.1764\n",
    "\n",
    "# Update Abbey\n",
    "df_district.loc[df_district.District == 'Abbey', 'Latitude'] = 52.2124\n",
    "df_district.loc[df_district.District == 'Abbey', 'Longitude'] =  0.1613\n"
   ]
  },
  {
   "cell_type": "code",
   "execution_count": 25,
   "metadata": {},
   "outputs": [
    {
     "data": {
      "text/html": [
       "<div style=\"width:100%;\"><div style=\"position:relative;width:100%;height:0;padding-bottom:60%;\"><span style=\"color:#565656\">Make this Notebook Trusted to load map: File -> Trust Notebook</span><iframe src=\"about:blank\" style=\"position:absolute;width:100%;height:100%;left:0;top:0;border:none !important;\" data-html=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 onload=\"this.contentDocument.open();this.contentDocument.write(atob(this.getAttribute('data-html')));this.contentDocument.close();\" allowfullscreen webkitallowfullscreen mozallowfullscreen></iframe></div></div>"
      ],
      "text/plain": [
       "<folium.folium.Map at 0x222d908b5c0>"
      ]
     },
     "metadata": {},
     "output_type": "display_data"
    },
    {
     "data": {
      "text/plain": [
       "<Figure size 432x288 with 0 Axes>"
      ]
     },
     "metadata": {},
     "output_type": "display_data"
    }
   ],
   "source": [
    "# create a map centered on Cambridge\n",
    "cambridge_map_ref = folium.Map(location=[city_latitude, city_longitude], zoom_start=12.5,control_scale=True)\n",
    "addMarkers(cambridge_map_ref)\n",
    "plt.savefig('District_2.pdf', bbox_inches='tight')"
   ]
  },
  {
   "cell_type": "markdown",
   "metadata": {},
   "source": [
    "#### Iterate the data retrieval process"
   ]
  },
  {
   "cell_type": "code",
   "execution_count": 26,
   "metadata": {},
   "outputs": [
    {
     "name": "stdout",
     "output_type": "stream",
     "text": [
      "Original Venue:  187 Updated Venue:  226\n",
      "Original Ent:  160 Updated Ent:  179\n",
      "Original Latin:  5 Updated Latin:  5\n"
     ]
    }
   ],
   "source": [
    "district_venues_update = getVenues()\n",
    "district_entertain_update = getEntertainment()\n",
    "district_latin_update  = getLatin()\n",
    "\n",
    "print('Original Venue: ',district_venues.shape[0],'Updated Venue: ',district_venues_update.shape[0])\n",
    "print('Original Ent: ',district_entertain.shape[0],'Updated Ent: ',district_entertain_update.shape[0])\n",
    "print('Original Latin: ',district_latin.shape[0],'Updated Latin: ',district_latin_update.shape[0])"
   ]
  },
  {
   "cell_type": "markdown",
   "metadata": {},
   "source": [
    "#### Repeat - Bar Chart showing the frequency of restaurants within districts\n",
    "\n",
    "* Create a new horizontal bar plot with the districts and the frequency of restaurants"
   ]
  },
  {
   "cell_type": "code",
   "execution_count": 27,
   "metadata": {},
   "outputs": [
    {
     "data": {
      "image/png": "[encoded data removed]",
      "text/plain": [
       "<Figure size 1080x576 with 1 Axes>"
      ]
     },
     "metadata": {},
     "output_type": "display_data"
    }
   ],
   "source": [
    "district_venues_update['District'].value_counts().plot(kind='barh', figsize=(15,8), color=(0.2, 0.4, 0.6, 0.6))\n",
    "plt.savefig('District_Restaurant_BarH.pdf', bbox_inches='tight')"
   ]
  },
  {
   "cell_type": "markdown",
   "metadata": {},
   "source": [
    "In this chart, we can now see how Trumpington, Newnham and Romsey have moved forward in the frequency bar plot."
   ]
  },
  {
   "cell_type": "markdown",
   "metadata": {},
   "source": [
    "#### Details Map\n",
    "\n",
    "Let's a make a map to display the following:\n",
    "* Chloropeth Map showing the frequency of restaurants in the districts.\n",
    "* Cluster markers to show density"
   ]
  },
  {
   "cell_type": "code",
   "execution_count": 28,
   "metadata": {},
   "outputs": [],
   "source": [
    "# Create a DataFrame to hold the district names and count\n",
    "district_count = pd.DataFrame(district_venues_update['District'].value_counts())\n",
    "district_count.reset_index(inplace=True)\n",
    "district_count.columns = ['District','Count']"
   ]
  },
  {
   "cell_type": "code",
   "execution_count": 29,
   "metadata": {},
   "outputs": [
    {
     "data": {
      "text/html": [
       "<div style=\"width:100%;\"><div style=\"position:relative;width:100%;height:0;padding-bottom:60%;\"><span style=\"color:#565656\">Make this Notebook Trusted to load map: File -> Trust Notebook</span><iframe src=\"about:blank\" style=\"position:absolute;width:100%;height:100%;left:0;top:0;border:none !important;\" data-html=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 onload=\"this.contentDocument.open();this.contentDocument.write(atob(this.getAttribute('data-html')));this.contentDocument.close();\" allowfullscreen webkitallowfullscreen mozallowfullscreen></iframe></div></div>"
      ],
      "text/plain": [
       "<folium.folium.Map at 0x222d906c4a8>"
      ]
     },
     "metadata": {},
     "output_type": "display_data"
    },
    {
     "data": {
      "text/plain": [
       "<Figure size 432x288 with 0 Axes>"
      ]
     },
     "metadata": {},
     "output_type": "display_data"
    }
   ],
   "source": [
    "from folium import plugins\n",
    "\n",
    "cambridge_geo = r'Cambridge.geojson' # geojson file\n",
    "\n",
    "# Initiate a map\n",
    "cambridge_ch_map = folium.Map(location=[city_latitude, city_longitude], zoom_start=12)\n",
    "\n",
    "# Add Choropleth Map\n",
    "folium.Choropleth(\n",
    "    geo_data=cambridge_geo,\n",
    "    name='choropleth',\n",
    "    data=district_count,\n",
    "    columns=['District','Count'],\n",
    "    key_on='feature.properties.Name',\n",
    "    fill_color='YlOrRd',\n",
    "    fill_opacity=0.7,\n",
    "    line_opacity=0.2,\n",
    "    legend_name='Restaurant Frequency'\n",
    ").add_to(cambridge_ch_map)\n",
    "\n",
    "\n",
    "# initiate a mark cluster object for the restaurants in the dataframe\n",
    "restaurants_cluster = plugins.MarkerCluster().add_to(cambridge_ch_map)\n",
    "\n",
    "# loop through the dataframe and add each data point to the mark cluster\n",
    "for lat, lng, label, in zip(district_venues_update['Venue Latitude'], district_venues_update['Venue Longitude'], district_venues_update['Venue']):\n",
    "    folium.Marker(\n",
    "        location=[lat, lng],\n",
    "        icon=None,\n",
    "        tooltip=label\n",
    "    ).add_to(restaurants_cluster)\n",
    "\n",
    "# Add choropleth item to layer control on the map\n",
    "folium.LayerControl().add_to(cambridge_ch_map)\n",
    "    \n",
    "display(cambridge_ch_map)\n",
    "plt.savefig('District_Restaurant_Choropleth.pdf', bbox_inches='tight')"
   ]
  },
  {
   "cell_type": "markdown",
   "metadata": {},
   "source": [
    "From this Choropleth Map we can distinguish that the central areas of Cambridge contain the most restaurants.\n",
    "* Choropleth and Cluster markers can be turned on an off using the layer control in the top right."
   ]
  },
  {
   "cell_type": "markdown",
   "metadata": {},
   "source": [
    "#### Adding existing Latin American restaurants\n",
    "\n",
    "* Show the current Latin American Restaurants, with a 500m radius.\n",
    "    * This is the zone where we will not suggest placing the new restaurant."
   ]
  },
  {
   "cell_type": "markdown",
   "metadata": {},
   "source": [
    "##### FUNCTION - Create Latin American Restaurant on Map"
   ]
  },
  {
   "cell_type": "code",
   "execution_count": 30,
   "metadata": {},
   "outputs": [],
   "source": [
    "def addLatin_toMap(m):\n",
    "    for lat, lng, label, in zip(district_latin_update['Venue Latitude'], district_latin_update['Venue Longitude'], district_latin_update['Venue']):\n",
    "        location = np.array([lat,lng])\n",
    "        # Add Marker\n",
    "        folium.Marker(location, popup='<i>{}</i>'.format(label), tooltip='Latin American Restaurant', icon=folium.Icon(color='red', icon='info-sign')).add_to(m)\n",
    "        # Add Radius of 500m\n",
    "        folium.Circle(\n",
    "                location=location,\n",
    "                radius=500,\n",
    "                color='#f54242',\n",
    "                fill=True,\n",
    "                fill_color='#f54242'\n",
    "            ).add_to(m)"
   ]
  },
  {
   "cell_type": "markdown",
   "metadata": {},
   "source": [
    "##### Create Map"
   ]
  },
  {
   "cell_type": "code",
   "execution_count": 31,
   "metadata": {},
   "outputs": [
    {
     "data": {
      "text/html": [
       "<div style=\"width:100%;\"><div style=\"position:relative;width:100%;height:0;padding-bottom:60%;\"><span style=\"color:#565656\">Make this Notebook Trusted to load map: File -> Trust Notebook</span><iframe src=\"about:blank\" style=\"position:absolute;width:100%;height:100%;left:0;top:0;border:none !important;\" data-html=PCFET0NUWVBFIGh0bWw+CjxoZWFkPiAgICAKICAgIDxtZXRhIGh0dHAtZXF1aXY9ImNvbnRlbnQtdHlwZSIgY29udGVudD0idGV4dC9odG1sOyBjaGFyc2V0PVVURi04IiAvPgogICAgCiAgICAgICAgPHNjcmlwdD4KICAgICAgICAgICAgTF9OT19UT1VDSCA9IGZhbHNlOwogICAgICAgICAgICBMX0RJU0FCTEVfM0QgPSBmYWxzZTsKICAgICAgICA8L3NjcmlwdD4KICAgIAogICAgPHNjcmlwdCBzcmM9Imh0dHBzOi8vY2RuLmpzZGVsaXZyLm5ldC9ucG0vbGVhZmxldEAxLjYuMC9kaXN0L2xlYWZsZXQuanMiPjwvc2NyaXB0PgogICAgPHNjcmlwdCBzcmM9Imh0dHBzOi8vY29kZS5qcXVlcnkuY29tL2pxdWVyeS0xLjEyLjQubWluLmpzIj48L3NjcmlwdD4KICAgIDxzY3JpcHQgc3JjPSJodHRwczovL21heGNkbi5ib290c3RyYXBjZG4uY29tL2Jvb3RzdHJhcC8zLjIuMC9qcy9ib290c3RyYXAubWluLmpzIj48L3NjcmlwdD4KICAgIDxzY3JpcHQgc3JjPSJodHRwczovL2NkbmpzLmNsb3VkZmxhcmUuY29tL2FqYXgvbGlicy9MZWFmbGV0LmF3ZXNvbWUtbWFya2Vycy8yLjAuMi9sZWFmbGV0LmF3ZXNvbWUtbWFya2Vycy5qcyI+PC9zY3JpcHQ+CiAgICA8bGluayByZWw9InN0eWxlc2hlZXQiIGhyZWY9Imh0dHBzOi8vY2RuLmpzZGVsaXZyLm5ldC9ucG0vbGVhZmxldEAxLjYuMC9kaXN0L2xlYWZsZXQuY3NzIi8+CiAgICA8bGluayByZWw9InN0eWxlc2hlZXQiIGhyZWY9Imh0dHBzOi8vbWF4Y2RuLmJvb3RzdHJhcGNkbi5jb20vYm9vdHN0cmFwLzMuMi4wL2Nzcy9ib290c3RyYXAubWluLmNzcyIvPgogICAgPGxpbmsgcmVsPSJzdHlsZXNoZWV0IiBocmVmPSJodHRwczovL21heGNkbi5ib290c3RyYXBjZG4uY29tL2Jvb3RzdHJhcC8zLjIuMC9jc3MvYm9vdHN0cmFwLXRoZW1lLm1pbi5jc3MiLz4KICAgIDxsaW5rIHJlbD0ic3R5bGVzaGVldCIgaHJlZj0iaHR0cHM6Ly9tYXhjZG4uYm9vdHN0cmFwY2RuLmNvbS9mb250LWF3ZXNvbWUvNC42LjMvY3NzL2ZvbnQtYXdlc29tZS5taW4uY3NzIi8+CiAgICA8bGluayByZWw9InN0eWxlc2hlZXQiIGhyZWY9Imh0dHBzOi8vY2RuanMuY2xvdWRmbGFyZS5jb20vYWpheC9saWJzL0xlYWZsZXQuYXdlc29tZS1tYXJrZXJzLzIuMC4yL2xlYWZsZXQuYXdlc29tZS1tYXJrZXJzLmNzcyIvPgogICAgPGxpbmsgcmVsPSJzdHlsZXNoZWV0IiBocmVmPSJodHRwczovL3Jhd2Nkbi5naXRoYWNrLmNvbS9weXRob24tdmlzdWFsaXphdGlvbi9mb2xpdW0vbWFzdGVyL2ZvbGl1bS90ZW1wbGF0ZXMvbGVhZmxldC5hd2Vzb21lLnJvdGF0ZS5jc3MiLz4KICAgIDxzdHlsZT5odG1sLCBib2R5IHt3aWR0aDogMTAwJTtoZWlnaHQ6IDEwMCU7bWFyZ2luOiAwO3BhZGRpbmc6IDA7fTwvc3R5bGU+CiAgICA8c3R5bGU+I21hcCB7cG9zaXRpb246YWJzb2x1dGU7dG9wOjA7Ym90dG9tOjA7cmlnaHQ6MDtsZWZ0OjA7fTwvc3R5bGU+CiAgICAKICAgICAgICAgICAgPG1ldGEgbmFtZT0idmlld3BvcnQiIGNvbnRlbnQ9IndpZHRoPWRldmljZS13aWR0aCwKICAgICAgICAgICAgICAgIGluaXRpYWwtc2NhbGU9MS4wLCBtYXhpbXVtLXNjYWxlPTEuMCwgdXNlci1zY2FsYWJsZT1ubyIgLz4KICAgICAgICAgICAgPHN0eWxlPgogICAgICAgICAgICAgICAgI21hcF80YTY3ZTlhNjRjNTI0MjhmOWYwODgzZmFkYzAzZGIxOSB7CiAgICAgICAgICAgICAgICAgICAgcG9zaXRpb246IHJlbGF0aXZlOwogICAgICAgICAgICAgICAgICAgIHdpZHRoOiAxMDAuMCU7CiAgICAgICAgICAgICAgICAgICAgaGVpZ2h0OiAxMDAuMCU7CiAgICAgICAgICAgICAgICAgICAgbGVmdDogMC4wJTsKICAgICAgICAgICAgICAgICAgICB0b3A6IDAuMCU7CiAgICAgICAgICAgICAgICB9CiAgICAgICAgICAgIDwvc3R5bGU+CiAgICAgICAgCjwvaGVhZD4KPGJvZHk+ICAgIAogICAgCiAgICAgICAgICAgIDxkaXYgY2xhc3M9ImZvbGl1bS1tYXAiIGlkPSJtYXBfNGE2N2U5YTY0YzUyNDI4ZjlmMDg4M2ZhZGMwM2RiMTkiID48L2Rpdj4KICAgICAgICAKPC9ib2R5Pgo8c2NyaXB0PiAgICAKICAgIAogICAgICAgICAgICB2YXIgbWFwXzRhNjdlOWE2NGM1MjQyOGY5ZjA4ODNmYWRjMDNkYjE5ID0gTC5tYXAoCiAgICAgICAgICAgICAgICAibWFwXzRhNjdlOWE2NGM1MjQyOGY5ZjA4ODNmYWRjMDNkYjE5IiwKICAgICAgICAgICAgICAgIHsKICAgICAgICAgICAgICAgICAgICBjZW50ZXI6IFs1Mi4yMDM0ODIzLCAwLjEyMzU4MTddLAogICAgICAgICAgICAgICAgICAgIGNyczogTC5DUlMuRVBTRzM4NTcsCiAgICAgICAgICAgICAgICAgICAgem9vbTogMTQsCiAgICAgICAgICAgICAgICAgICAgem9vbUNvbnRyb2w6IHRydWUsCiAgICAgICAgICAgICAgICAgICAgcHJlZmVyQ2FudmFzOiBmYWxzZSwKICAgICAgICAgICAgICAgIH0KICAgICAgICAgICAgKTsKCiAgICAgICAgICAgIAoKICAgICAgICAKICAgIAogICAgICAgICAgICB2YXIgdGlsZV9sYXllcl80MWY2MzMzNTc1N2U0ZGU3YjgxMDAzNTg1Y2QwM2FkZSA9IEwudGlsZUxheWVyKAogICAgICAgICAgICAgICAgImh0dHBzOi8ve3N9LnRpbGUub3BlbnN0cmVldG1hcC5vcmcve3p9L3t4fS97eX0ucG5nIiwKICAgICAgICAgICAgICAgIHsiYXR0cmlidXRpb24iOiAiRGF0YSBieSBcdTAwMjZjb3B5OyBcdTAwM2NhIGhyZWY9XCJodHRwOi8vb3BlbnN0cmVldG1hcC5vcmdcIlx1MDAzZU9wZW5TdHJlZXRNYXBcdTAwM2MvYVx1MDAzZSwgdW5kZXIgXHUwMDNjYSBocmVmPVwiaHR0cDovL3d3dy5vcGVuc3RyZWV0bWFwLm9yZy9jb3B5cmlnaHRcIlx1MDAzZU9EYkxcdTAwM2MvYVx1MDAzZS4iLCAiZGV0ZWN0UmV0aW5hIjogZmFsc2UsICJtYXhOYXRpdmVab29tIjogMTgsICJtYXhab29tIjogMTgsICJtaW5ab29tIjogMCwgIm5vV3JhcCI6IGZhbHNlLCAib3BhY2l0eSI6IDEsICJzdWJkb21haW5zIjogImFiYyIsICJ0bXMiOiBmYWxzZX0KICAgICAgICAgICAgKS5hZGRUbyhtYXBfNGE2N2U5YTY0YzUyNDI4ZjlmMDg4M2ZhZGMwM2RiMTkpOwogICAgICAgIAogICAgCiAgICAgICAgICAgIHZhciBtYXJrZXJfZGU1ODFkYzNkZDVhNGUxNWJlMDU4MzE5MDI1NTUwNjcgPSBMLm1hcmtlcigKICAgICAgICAgICAgICAgIFs1Mi4yMTAyMjk3MzI5NjE3OCwgMC4xMTczMDkyMDAxNTIyNDkxXSwKICAgICAgICAgICAgICAgIHt9CiAgICAgICAgICAgICkuYWRkVG8obWFwXzRhNjdlOWE2NGM1MjQyOGY5ZjA4ODNmYWRjMDNkYjE5KTsKICAgICAgICAKICAgIAogICAgICAgICAgICB2YXIgaWNvbl80ODQwMWQxNGM4ZTI0MzA0YTZmOGJhNDhhMmUxNTgwMiA9IEwuQXdlc29tZU1hcmtlcnMuaWNvbigKICAgICAgICAgICAgICAgIHsiZXh0cmFDbGFzc2VzIjogImZhLXJvdGF0ZS0wIiwgImljb24iOiAiaW5mby1zaWduIiwgImljb25Db2xvciI6ICJ3aGl0ZSIsICJtYXJrZXJDb2xvciI6ICJyZWQiLCAicHJlZml4IjogImdseXBoaWNvbiJ9CiAgICAgICAgICAgICk7CiAgICAgICAgICAgIG1hcmtlcl9kZTU4MWRjM2RkNWE0ZTE1YmUwNTgzMTkwMjU1NTA2Ny5zZXRJY29uKGljb25fNDg0MDFkMTRjOGUyNDMwNGE2ZjhiYTQ4YTJlMTU4MDIpOwogICAgICAgIAogICAgCiAgICAgICAgdmFyIHBvcHVwX2FiMWZmZDU5NTU2MzRlOWJhYzRiZGY4NGZlZWMzNDJjID0gTC5wb3B1cCh7Im1heFdpZHRoIjogIjEwMCUifSk7CgogICAgICAgIAogICAgICAgICAgICB2YXIgaHRtbF8yMTZlMGZmNThmODY0YWRkOWIxNjdjNzAxMDIzZDI0MCA9ICQoYDxkaXYgaWQ9Imh0bWxfMjE2ZTBmZjU4Zjg2NGFkZDliMTY3YzcwMTAyM2QyNDAiIHN0eWxlPSJ3aWR0aDogMTAwLjAlOyBoZWlnaHQ6IDEwMC4wJTsiPjxpPkxhcyBJZ3VhbmFzPC9pPjwvZGl2PmApWzBdOwogICAgICAgICAgICBwb3B1cF9hYjFmZmQ1OTU1NjM0ZTliYWM0YmRmODRmZWVjMzQyYy5zZXRDb250ZW50KGh0bWxfMjE2ZTBmZjU4Zjg2NGFkZDliMTY3YzcwMTAyM2QyNDApOwogICAgICAgIAoKICAgICAgICBtYXJrZXJfZGU1ODFkYzNkZDVhNGUxNWJlMDU4MzE5MDI1NTUwNjcuYmluZFBvcHVwKHBvcHVwX2FiMWZmZDU5NTU2MzRlOWJhYzRiZGY4NGZlZWMzNDJjKQogICAgICAgIDsKCiAgICAgICAgCiAgICAKICAgIAogICAgICAgICAgICBtYXJrZXJfZGU1ODFkYzNkZDVhNGUxNWJlMDU4MzE5MDI1NTUwNjcuYmluZFRvb2x0aXAoCiAgICAgICAgICAgICAgICBgPGRpdj4KICAgICAgICAgICAgICAgICAgICAgTGF0aW4gQW1lcmljYW4gUmVzdGF1cmFudAogICAgICAgICAgICAgICAgIDwvZGl2PmAsCiAgICAgICAgICAgICAgICB7InN0aWNreSI6IHRydWV9CiAgICAgICAgICAgICk7CiAgICAgICAgCiAgICAKICAgICAgICAgICAgdmFyIGNpcmNsZV83NGQxNTk4NWE1Mzc0ZjgwOTYwMGFhZmYwYjljNDRiNCA9IEwuY2lyY2xlKAogICAgICAgICAgICAgICAgWzUyLjIxMDIyOTczMjk2MTc4LCAwLjExNzMwOTIwMDE1MjI0OTFdLAogICAgICAgICAgICAgICAgeyJidWJibGluZ01vdXNlRXZlbnRzIjogdHJ1ZSwgImNvbG9yIjogIiNmNTQyNDIiLCAiZGFzaEFycmF5IjogbnVsbCwgImRhc2hPZmZzZXQiOiBudWxsLCAiZmlsbCI6IHRydWUsICJmaWxsQ29sb3IiOiAiI2Y1NDI0MiIsICJmaWxsT3BhY2l0eSI6IDAuMiwgImZpbGxSdWxlIjogImV2ZW5vZGQiLCAibGluZUNhcCI6ICJyb3VuZCIsICJsaW5lSm9pbiI6ICJyb3VuZCIsICJvcGFjaXR5IjogMS4wLCAicmFkaXVzIjogNTAwLCAic3Ryb2tlIjogdHJ1ZSwgIndlaWdodCI6IDN9CiAgICAgICAgICAgICkuYWRkVG8obWFwXzRhNjdlOWE2NGM1MjQyOGY5ZjA4ODNmYWRjMDNkYjE5KTsKICAgICAgICAKICAgIAogICAgICAgICAgICB2YXIgbWFya2VyX2M3YTAxOTM5NjkyOTRlMGY4ODc4MjU5NDEwNWI2NDk4ID0gTC5tYXJrZXIoCiAgICAgICAgICAgICAgICBbNTIuMjAwNTA4LCAwLjEzNTk0M10sCiAgICAgICAgICAgICAgICB7fQogICAgICAgICAgICApLmFkZFRvKG1hcF80YTY3ZTlhNjRjNTI0MjhmOWYwODgzZmFkYzAzZGIxOSk7CiAgICAgICAgCiAgICAKICAgICAgICAgICAgdmFyIGljb25fMDBlNTA4MjU5ODdjNGNkN2JhZGMyNDQ1OWI3MGQ0M2IgPSBMLkF3ZXNvbWVNYXJrZXJzLmljb24oCiAgICAgICAgICAgICAgICB7ImV4dHJhQ2xhc3NlcyI6ICJmYS1yb3RhdGUtMCIsICJpY29uIjogImluZm8tc2lnbiIsICJpY29uQ29sb3IiOiAid2hpdGUiLCAibWFya2VyQ29sb3IiOiAicmVkIiwgInByZWZpeCI6ICJnbHlwaGljb24ifQogICAgICAgICAgICApOwogICAgICAgICAgICBtYXJrZXJfYzdhMDE5Mzk2OTI5NGUwZjg4NzgyNTk0MTA1YjY0OTguc2V0SWNvbihpY29uXzAwZTUwODI1OTg3YzRjZDdiYWRjMjQ0NTliNzBkNDNiKTsKICAgICAgICAKICAgIAogICAgICAgIHZhciBwb3B1cF9iODg1Y2MxN2NmYTM0ZjFjODBmYTNjYzc0MzkxNDQ3YSA9IEwucG9wdXAoeyJtYXhXaWR0aCI6ICIxMDAlIn0pOwoKICAgICAgICAKICAgICAgICAgICAgdmFyIGh0bWxfNmNkODQwMjU3N2I3NGU2ZTgwMzI2ZTk5YjA5ZDI5NzkgPSAkKGA8ZGl2IGlkPSJodG1sXzZjZDg0MDI1NzdiNzRlNmU4MDMyNmU5OWIwOWQyOTc5IiBzdHlsZT0id2lkdGg6IDEwMC4wJTsgaGVpZ2h0OiAxMDAuMCU7Ij48aT5OZWlkZSdzIERlbGkgQ2Fmw6k8L2k+PC9kaXY+YClbMF07CiAgICAgICAgICAgIHBvcHVwX2I4ODVjYzE3Y2ZhMzRmMWM4MGZhM2NjNzQzOTE0NDdhLnNldENvbnRlbnQoaHRtbF82Y2Q4NDAyNTc3Yjc0ZTZlODAzMjZlOTliMDlkMjk3OSk7CiAgICAgICAgCgogICAgICAgIG1hcmtlcl9jN2EwMTkzOTY5Mjk0ZTBmODg3ODI1OTQxMDViNjQ5OC5iaW5kUG9wdXAocG9wdXBfYjg4NWNjMTdjZmEzNGYxYzgwZmEzY2M3NDM5MTQ0N2EpCiAgICAgICAgOwoKICAgICAgICAKICAgIAogICAgCiAgICAgICAgICAgIG1hcmtlcl9jN2EwMTkzOTY5Mjk0ZTBmODg3ODI1OTQxMDViNjQ5OC5iaW5kVG9vbHRpcCgKICAgICAgICAgICAgICAgIGA8ZGl2PgogICAgICAgICAgICAgICAgICAgICBMYXRpbiBBbWVyaWNhbiBSZXN0YXVyYW50CiAgICAgICAgICAgICAgICAgPC9kaXY+YCwKICAgICAgICAgICAgICAgIHsic3RpY2t5IjogdHJ1ZX0KICAgICAgICAgICAgKTsKICAgICAgICAKICAgIAogICAgICAgICAgICB2YXIgY2lyY2xlX2JkNDQxOTEyNzg3MTQ5ZWQ4YzYxOWM2ZDRlYjhmY2IyID0gTC5jaXJjbGUoCiAgICAgICAgICAgICAgICBbNTIuMjAwNTA4LCAwLjEzNTk0M10sCiAgICAgICAgICAgICAgICB7ImJ1YmJsaW5nTW91c2VFdmVudHMiOiB0cnVlLCAiY29sb3IiOiAiI2Y1NDI0MiIsICJkYXNoQXJyYXkiOiBudWxsLCAiZGFzaE9mZnNldCI6IG51bGwsICJmaWxsIjogdHJ1ZSwgImZpbGxDb2xvciI6ICIjZjU0MjQyIiwgImZpbGxPcGFjaXR5IjogMC4yLCAiZmlsbFJ1bGUiOiAiZXZlbm9kZCIsICJsaW5lQ2FwIjogInJvdW5kIiwgImxpbmVKb2luIjogInJvdW5kIiwgIm9wYWNpdHkiOiAxLjAsICJyYWRpdXMiOiA1MDAsICJzdHJva2UiOiB0cnVlLCAid2VpZ2h0IjogM30KICAgICAgICAgICAgKS5hZGRUbyhtYXBfNGE2N2U5YTY0YzUyNDI4ZjlmMDg4M2ZhZGMwM2RiMTkpOwogICAgICAgIAogICAgCiAgICAgICAgICAgIHZhciBtYXJrZXJfMDM5OGQ4YTRmOTIyNDlmZWEzNjhmMzM1ZTQzNmU0MmYgPSBMLm1hcmtlcigKICAgICAgICAgICAgICAgIFs1Mi4xOTc2MzYzMTcwNzkxOCwgMC4xNDQ5MTE3NjAwOTM0NjQ1NF0sCiAgICAgICAgICAgICAgICB7fQogICAgICAgICAgICApLmFkZFRvKG1hcF80YTY3ZTlhNjRjNTI0MjhmOWYwODgzZmFkYzAzZGIxOSk7CiAgICAgICAgCiAgICAKICAgICAgICAgICAgdmFyIGljb25fZWI5OWMwY2NjOGRhNGM2Y2FjN2MzNjIxOTJhYmE5ZGMgPSBMLkF3ZXNvbWVNYXJrZXJzLmljb24oCiAgICAgICAgICAgICAgICB7ImV4dHJhQ2xhc3NlcyI6ICJmYS1yb3RhdGUtMCIsICJpY29uIjogImluZm8tc2lnbiIsICJpY29uQ29sb3IiOiAid2hpdGUiLCAibWFya2VyQ29sb3IiOiAicmVkIiwgInByZWZpeCI6ICJnbHlwaGljb24ifQogICAgICAgICAgICApOwogICAgICAgICAgICBtYXJrZXJfMDM5OGQ4YTRmOTIyNDlmZWEzNjhmMzM1ZTQzNmU0MmYuc2V0SWNvbihpY29uX2ViOTljMGNjYzhkYTRjNmNhYzdjMzYyMTkyYWJhOWRjKTsKICAgICAgICAKICAgIAogICAgICAgIHZhciBwb3B1cF9iNWFlZTE3ZjI0Mjg0ZTNjYThlOTFkYWFhZDZkYjdlZSA9IEwucG9wdXAoeyJtYXhXaWR0aCI6ICIxMDAlIn0pOwoKICAgICAgICAKICAgICAgICAgICAgdmFyIGh0bWxfYTFjNzRmMDNkOWZlNGVlYzgwZTQ4YmJmNjcyMjVkNjIgPSAkKGA8ZGl2IGlkPSJodG1sX2ExYzc0ZjAzZDlmZTRlZWM4MGU0OGJiZjY3MjI1ZDYyIiBzdHlsZT0id2lkdGg6IDEwMC4wJTsgaGVpZ2h0OiAxMDAuMCU7Ij48aT5DaGlja2VuIHJ1c2g8L2k+PC9kaXY+YClbMF07CiAgICAgICAgICAgIHBvcHVwX2I1YWVlMTdmMjQyODRlM2NhOGU5MWRhYWFkNmRiN2VlLnNldENvbnRlbnQoaHRtbF9hMWM3NGYwM2Q5ZmU0ZWVjODBlNDhiYmY2NzIyNWQ2Mik7CiAgICAgICAgCgogICAgICAgIG1hcmtlcl8wMzk4ZDhhNGY5MjI0OWZlYTM2OGYzMzVlNDM2ZTQyZi5iaW5kUG9wdXAocG9wdXBfYjVhZWUxN2YyNDI4NGUzY2E4ZTkxZGFhYWQ2ZGI3ZWUpCiAgICAgICAgOwoKICAgICAgICAKICAgIAogICAgCiAgICAgICAgICAgIG1hcmtlcl8wMzk4ZDhhNGY5MjI0OWZlYTM2OGYzMzVlNDM2ZTQyZi5iaW5kVG9vbHRpcCgKICAgICAgICAgICAgICAgIGA8ZGl2PgogICAgICAgICAgICAgICAgICAgICBMYXRpbiBBbWVyaWNhbiBSZXN0YXVyYW50CiAgICAgICAgICAgICAgICAgPC9kaXY+YCwKICAgICAgICAgICAgICAgIHsic3RpY2t5IjogdHJ1ZX0KICAgICAgICAgICAgKTsKICAgICAgICAKICAgIAogICAgICAgICAgICB2YXIgY2lyY2xlXzMwN2M1YmYzZjA2ZDRkNWNhYzE0MjI2YTU5OGE5YWViID0gTC5jaXJjbGUoCiAgICAgICAgICAgICAgICBbNTIuMTk3NjM2MzE3MDc5MTgsIDAuMTQ0OTExNzYwMDkzNDY0NTRdLAogICAgICAgICAgICAgICAgeyJidWJibGluZ01vdXNlRXZlbnRzIjogdHJ1ZSwgImNvbG9yIjogIiNmNTQyNDIiLCAiZGFzaEFycmF5IjogbnVsbCwgImRhc2hPZmZzZXQiOiBudWxsLCAiZmlsbCI6IHRydWUsICJmaWxsQ29sb3IiOiAiI2Y1NDI0MiIsICJmaWxsT3BhY2l0eSI6IDAuMiwgImZpbGxSdWxlIjogImV2ZW5vZGQiLCAibGluZUNhcCI6ICJyb3VuZCIsICJsaW5lSm9pbiI6ICJyb3VuZCIsICJvcGFjaXR5IjogMS4wLCAicmFkaXVzIjogNTAwLCAic3Ryb2tlIjogdHJ1ZSwgIndlaWdodCI6IDN9CiAgICAgICAgICAgICkuYWRkVG8obWFwXzRhNjdlOWE2NGM1MjQyOGY5ZjA4ODNmYWRjMDNkYjE5KTsKICAgICAgICAKICAgIAogICAgICAgICAgICB2YXIgbWFya2VyX2Q3ODc3MjQxMWZjNTRhYmNiOTE1ZDYxNDVjMDA4ZmY2ID0gTC5tYXJrZXIoCiAgICAgICAgICAgICAgICBbNTIuMjA4MDc2LCAwLjE0MzQwMzI5XSwKICAgICAgICAgICAgICAgIHt9CiAgICAgICAgICAgICkuYWRkVG8obWFwXzRhNjdlOWE2NGM1MjQyOGY5ZjA4ODNmYWRjMDNkYjE5KTsKICAgICAgICAKICAgIAogICAgICAgICAgICB2YXIgaWNvbl9iMjNkNzk1ODYyNzg0N2YyOTUyYzBlNGE1ZmFlMjZlOCA9IEwuQXdlc29tZU1hcmtlcnMuaWNvbigKICAgICAgICAgICAgICAgIHsiZXh0cmFDbGFzc2VzIjogImZhLXJvdGF0ZS0wIiwgImljb24iOiAiaW5mby1zaWduIiwgImljb25Db2xvciI6ICJ3aGl0ZSIsICJtYXJrZXJDb2xvciI6ICJyZWQiLCAicHJlZml4IjogImdseXBoaWNvbiJ9CiAgICAgICAgICAgICk7CiAgICAgICAgICAgIG1hcmtlcl9kNzg3NzI0MTFmYzU0YWJjYjkxNWQ2MTQ1YzAwOGZmNi5zZXRJY29uKGljb25fYjIzZDc5NTg2Mjc4NDdmMjk1MmMwZTRhNWZhZTI2ZTgpOwogICAgICAgIAogICAgCiAgICAgICAgdmFyIHBvcHVwX2Y4ZTg3NDk1MWM0ZDQwMWE4ZTQ3ODZlOWNhMTYwMWZlID0gTC5wb3B1cCh7Im1heFdpZHRoIjogIjEwMCUifSk7CgogICAgICAgIAogICAgICAgICAgICB2YXIgaHRtbF8yNTc0OTk1MDllZWE0N2EzYjNmYjFmM2FkYjUwMjQwOCA9ICQoYDxkaXYgaWQ9Imh0bWxfMjU3NDk5NTA5ZWVhNDdhM2IzZmIxZjNhZGI1MDI0MDgiIHN0eWxlPSJ3aWR0aDogMTAwLjAlOyBoZWlnaHQ6IDEwMC4wJTsiPjxpPkxhIExhdGluYSBCdXN0YXVyYW50ZTwvaT48L2Rpdj5gKVswXTsKICAgICAgICAgICAgcG9wdXBfZjhlODc0OTUxYzRkNDAxYThlNDc4NmU5Y2ExNjAxZmUuc2V0Q29udGVudChodG1sXzI1NzQ5OTUwOWVlYTQ3YTNiM2ZiMWYzYWRiNTAyNDA4KTsKICAgICAgICAKCiAgICAgICAgbWFya2VyX2Q3ODc3MjQxMWZjNTRhYmNiOTE1ZDYxNDVjMDA4ZmY2LmJpbmRQb3B1cChwb3B1cF9mOGU4NzQ5NTFjNGQ0MDFhOGU0Nzg2ZTljYTE2MDFmZSkKICAgICAgICA7CgogICAgICAgIAogICAgCiAgICAKICAgICAgICAgICAgbWFya2VyX2Q3ODc3MjQxMWZjNTRhYmNiOTE1ZDYxNDVjMDA4ZmY2LmJpbmRUb29sdGlwKAogICAgICAgICAgICAgICAgYDxkaXY+CiAgICAgICAgICAgICAgICAgICAgIExhdGluIEFtZXJpY2FuIFJlc3RhdXJhbnQKICAgICAgICAgICAgICAgICA8L2Rpdj5gLAogICAgICAgICAgICAgICAgeyJzdGlja3kiOiB0cnVlfQogICAgICAgICAgICApOwogICAgICAgIAogICAgCiAgICAgICAgICAgIHZhciBjaXJjbGVfYjQwYjEwYzNlMDk3NDNhMDg5NDg3NDE5YjJjNjMxMWYgPSBMLmNpcmNsZSgKICAgICAgICAgICAgICAgIFs1Mi4yMDgwNzYsIDAuMTQzNDAzMjldLAogICAgICAgICAgICAgICAgeyJidWJibGluZ01vdXNlRXZlbnRzIjogdHJ1ZSwgImNvbG9yIjogIiNmNTQyNDIiLCAiZGFzaEFycmF5IjogbnVsbCwgImRhc2hPZmZzZXQiOiBudWxsLCAiZmlsbCI6IHRydWUsICJmaWxsQ29sb3IiOiAiI2Y1NDI0MiIsICJmaWxsT3BhY2l0eSI6IDAuMiwgImZpbGxSdWxlIjogImV2ZW5vZGQiLCAibGluZUNhcCI6ICJyb3VuZCIsICJsaW5lSm9pbiI6ICJyb3VuZCIsICJvcGFjaXR5IjogMS4wLCAicmFkaXVzIjogNTAwLCAic3Ryb2tlIjogdHJ1ZSwgIndlaWdodCI6IDN9CiAgICAgICAgICAgICkuYWRkVG8obWFwXzRhNjdlOWE2NGM1MjQyOGY5ZjA4ODNmYWRjMDNkYjE5KTsKICAgICAgICAKICAgIAogICAgICAgICAgICB2YXIgbWFya2VyXzBiZDY5ZTk0YTc4ZjRiZTQ5ODMwZmZlMjU2Y2E2MTcyID0gTC5tYXJrZXIoCiAgICAgICAgICAgICAgICBbNTIuMjA5MzI4MjgsIDAuMTQ0ODc2NjNdLAogICAgICAgICAgICAgICAge30KICAgICAgICAgICAgKS5hZGRUbyhtYXBfNGE2N2U5YTY0YzUyNDI4ZjlmMDg4M2ZhZGMwM2RiMTkpOwogICAgICAgIAogICAgCiAgICAgICAgICAgIHZhciBpY29uX2Y2NDAxNDgwZjgzMjRiMTI5YjcwN2EyZjRiN2RjMGNjID0gTC5Bd2Vzb21lTWFya2Vycy5pY29uKAogICAgICAgICAgICAgICAgeyJleHRyYUNsYXNzZXMiOiAiZmEtcm90YXRlLTAiLCAiaWNvbiI6ICJpbmZvLXNpZ24iLCAiaWNvbkNvbG9yIjogIndoaXRlIiwgIm1hcmtlckNvbG9yIjogInJlZCIsICJwcmVmaXgiOiAiZ2x5cGhpY29uIn0KICAgICAgICAgICAgKTsKICAgICAgICAgICAgbWFya2VyXzBiZDY5ZTk0YTc4ZjRiZTQ5ODMwZmZlMjU2Y2E2MTcyLnNldEljb24oaWNvbl9mNjQwMTQ4MGY4MzI0YjEyOWI3MDdhMmY0YjdkYzBjYyk7CiAgICAgICAgCiAgICAKICAgICAgICB2YXIgcG9wdXBfMDU1YThiYTZkMzk4NDY4ODgxYWQ1YzM5MGNjZmI2NmUgPSBMLnBvcHVwKHsibWF4V2lkdGgiOiAiMTAwJSJ9KTsKCiAgICAgICAgCiAgICAgICAgICAgIHZhciBodG1sX2YwODgzNGE4ZDRjMDRjODA4MTA3NjEwMzgxYWM2YzYzID0gJChgPGRpdiBpZD0iaHRtbF9mMDg4MzRhOGQ0YzA0YzgwODEwNzYxMDM4MWFjNmM2MyIgc3R5bGU9IndpZHRoOiAxMDAuMCU7IGhlaWdodDogMTAwLjAlOyI+PGk+SHV0dGVyPC9pPjwvZGl2PmApWzBdOwogICAgICAgICAgICBwb3B1cF8wNTVhOGJhNmQzOTg0Njg4ODFhZDVjMzkwY2NmYjY2ZS5zZXRDb250ZW50KGh0bWxfZjA4ODM0YThkNGMwNGM4MDgxMDc2MTAzODFhYzZjNjMpOwogICAgICAgIAoKICAgICAgICBtYXJrZXJfMGJkNjllOTRhNzhmNGJlNDk4MzBmZmUyNTZjYTYxNzIuYmluZFBvcHVwKHBvcHVwXzA1NWE4YmE2ZDM5ODQ2ODg4MWFkNWMzOTBjY2ZiNjZlKQogICAgICAgIDsKCiAgICAgICAgCiAgICAKICAgIAogICAgICAgICAgICBtYXJrZXJfMGJkNjllOTRhNzhmNGJlNDk4MzBmZmUyNTZjYTYxNzIuYmluZFRvb2x0aXAoCiAgICAgICAgICAgICAgICBgPGRpdj4KICAgICAgICAgICAgICAgICAgICAgTGF0aW4gQW1lcmljYW4gUmVzdGF1cmFudAogICAgICAgICAgICAgICAgIDwvZGl2PmAsCiAgICAgICAgICAgICAgICB7InN0aWNreSI6IHRydWV9CiAgICAgICAgICAgICk7CiAgICAgICAgCiAgICAKICAgICAgICAgICAgdmFyIGNpcmNsZV8xOWQ0NzFiNWYxYzA0YjI2OTI0NDhlMGM5NmRmMWY4OSA9IEwuY2lyY2xlKAogICAgICAgICAgICAgICAgWzUyLjIwOTMyODI4LCAwLjE0NDg3NjYzXSwKICAgICAgICAgICAgICAgIHsiYnViYmxpbmdNb3VzZUV2ZW50cyI6IHRydWUsICJjb2xvciI6ICIjZjU0MjQyIiwgImRhc2hBcnJheSI6IG51bGwsICJkYXNoT2Zmc2V0IjogbnVsbCwgImZpbGwiOiB0cnVlLCAiZmlsbENvbG9yIjogIiNmNTQyNDIiLCAiZmlsbE9wYWNpdHkiOiAwLjIsICJmaWxsUnVsZSI6ICJldmVub2RkIiwgImxpbmVDYXAiOiAicm91bmQiLCAibGluZUpvaW4iOiAicm91bmQiLCAib3BhY2l0eSI6IDEuMCwgInJhZGl1cyI6IDUwMCwgInN0cm9rZSI6IHRydWUsICJ3ZWlnaHQiOiAzfQogICAgICAgICAgICApLmFkZFRvKG1hcF80YTY3ZTlhNjRjNTI0MjhmOWYwODgzZmFkYzAzZGIxOSk7CiAgICAgICAgCiAgICAKICAgICAgICAgICAgdmFyIG1hcmtlcl82NWI2N2EyYTQyMGM0YzdmYTE5NjMzZTc4NDQ3YjFlNiA9IEwubWFya2VyKAogICAgICAgICAgICAgICAgWzUyLjIxMjQsIDAuMTYxM10sCiAgICAgICAgICAgICAgICB7fQogICAgICAgICAgICApLmFkZFRvKG1hcF80YTY3ZTlhNjRjNTI0MjhmOWYwODgzZmFkYzAzZGIxOSk7CiAgICAgICAgCiAgICAKICAgICAgICB2YXIgcG9wdXBfNjAyZjlkMzY5NWFkNDgxY2I0Yjc1ODBkZWU1ZjEwNTMgPSBMLnBvcHVwKHsibWF4V2lkdGgiOiAiMTAwJSJ9KTsKCiAgICAgICAgCiAgICAgICAgICAgIHZhciBodG1sX2Q3YjZmZjM2M2JiYzRiNzE4YjNjOWU5OTEwNDc5YTI1ID0gJChgPGRpdiBpZD0iaHRtbF9kN2I2ZmYzNjNiYmM0YjcxOGIzYzllOTkxMDQ3OWEyNSIgc3R5bGU9IndpZHRoOiAxMDAuMCU7IGhlaWdodDogMTAwLjAlOyI+PGk+QWJiZXk8L2k+PC9kaXY+YClbMF07CiAgICAgICAgICAgIHBvcHVwXzYwMmY5ZDM2OTVhZDQ4MWNiNGI3NTgwZGVlNWYxMDUzLnNldENvbnRlbnQoaHRtbF9kN2I2ZmYzNjNiYmM0YjcxOGIzYzllOTkxMDQ3OWEyNSk7CiAgICAgICAgCgogICAgICAgIG1hcmtlcl82NWI2N2EyYTQyMGM0YzdmYTE5NjMzZTc4NDQ3YjFlNi5iaW5kUG9wdXAocG9wdXBfNjAyZjlkMzY5NWFkNDgxY2I0Yjc1ODBkZWU1ZjEwNTMpCiAgICAgICAgOwoKICAgICAgICAKICAgIAogICAgCiAgICAgICAgICAgIG1hcmtlcl82NWI2N2EyYTQyMGM0YzdmYTE5NjMzZTc4NDQ3YjFlNi5iaW5kVG9vbHRpcCgKICAgICAgICAgICAgICAgIGA8ZGl2PgogICAgICAgICAgICAgICAgICAgICBBYmJleQogICAgICAgICAgICAgICAgIDwvZGl2PmAsCiAgICAgICAgICAgICAgICB7InN0aWNreSI6IHRydWV9CiAgICAgICAgICAgICk7CiAgICAgICAgCiAgICAKICAgICAgICAgICAgdmFyIGNpcmNsZV81MTQ3YmI2ZmRmMjM0ZjJiYjY2NDlmMDg1NmRmYzJjZiA9IEwuY2lyY2xlKAogICAgICAgICAgICAgICAgWzUyLjIxMjQsIDAuMTYxM10sCiAgICAgICAgICAgICAgICB7ImJ1YmJsaW5nTW91c2VFdmVudHMiOiB0cnVlLCAiY29sb3IiOiAiIzMxODZjYyIsICJkYXNoQXJyYXkiOiBudWxsLCAiZGFzaE9mZnNldCI6IG51bGwsICJmaWxsIjogdHJ1ZSwgImZpbGxDb2xvciI6ICIjMzE4NmNjIiwgImZpbGxPcGFjaXR5IjogMC4yLCAiZmlsbFJ1bGUiOiAiZXZlbm9kZCIsICJsaW5lQ2FwIjogInJvdW5kIiwgImxpbmVKb2luIjogInJvdW5kIiwgIm9wYWNpdHkiOiAxLjAsICJyYWRpdXMiOiA1MDAsICJzdHJva2UiOiB0cnVlLCAid2VpZ2h0IjogM30KICAgICAgICAgICAgKS5hZGRUbyhtYXBfNGE2N2U5YTY0YzUyNDI4ZjlmMDg4M2ZhZGMwM2RiMTkpOwogICAgICAgIAogICAgCiAgICAgICAgICAgIHZhciBtYXJrZXJfM2EwYjdjMmJjYzE3NDNkZTgzZjFhMTExM2JlNWNmNDEgPSBMLm1hcmtlcigKICAgICAgICAgICAgICAgIFs1Mi4yMTg5OTUyNDY0NDU1LCAwLjExNTU1NzEyOTM4Mzg4NjI2XSwKICAgICAgICAgICAgICAgIHt9CiAgICAgICAgICAgICkuYWRkVG8obWFwXzRhNjdlOWE2NGM1MjQyOGY5ZjA4ODNmYWRjMDNkYjE5KTsKICAgICAgICAKICAgIAogICAgICAgIHZhciBwb3B1cF9lNDY5MTQ1M2IxZDk0NGFlYmRkYTUxNzViMjE2YjRkZSA9IEwucG9wdXAoeyJtYXhXaWR0aCI6ICIxMDAlIn0pOwoKICAgICAgICAKICAgICAgICAgICAgdmFyIGh0bWxfYTlkNTIxMjkxNDdlNDZmNmI1MjM3MjA1YWRlNjhlNjYgPSAkKGA8ZGl2IGlkPSJodG1sX2E5ZDUyMTI5MTQ3ZTQ2ZjZiNTIzNzIwNWFkZTY4ZTY2IiBzdHlsZT0id2lkdGg6IDEwMC4wJTsgaGVpZ2h0OiAxMDAuMCU7Ij48aT5BcmJ1cnk8L2k+PC9kaXY+YClbMF07CiAgICAgICAgICAgIHBvcHVwX2U0NjkxNDUzYjFkOTQ0YWViZGRhNTE3NWIyMTZiNGRlLnNldENvbnRlbnQoaHRtbF9hOWQ1MjEyOTE0N2U0NmY2YjUyMzcyMDVhZGU2OGU2Nik7CiAgICAgICAgCgogICAgICAgIG1hcmtlcl8zYTBiN2MyYmNjMTc0M2RlODNmMWExMTEzYmU1Y2Y0MS5iaW5kUG9wdXAocG9wdXBfZTQ2OTE0NTNiMWQ5NDRhZWJkZGE1MTc1YjIxNmI0ZGUpCiAgICAgICAgOwoKICAgICAgICAKICAgIAogICAgCiAgICAgICAgICAgIG1hcmtlcl8zYTBiN2MyYmNjMTc0M2RlODNmMWExMTEzYmU1Y2Y0MS5iaW5kVG9vbHRpcCgKICAgICAgICAgICAgICAgIGA8ZGl2PgogICAgICAgICAgICAgICAgICAgICBBcmJ1cnkKICAgICAgICAgICAgICAgICA8L2Rpdj5gLAogICAgICAgICAgICAgICAgeyJzdGlja3kiOiB0cnVlfQogICAgICAgICAgICApOwogICAgICAgIAogICAgCiAgICAgICAgICAgIHZhciBjaXJjbGVfYzBjZTA5ZTM0NjU1NDU3OTgxMTBlNDYxNDg1MzlmNTQgPSBMLmNpcmNsZSgKICAgICAgICAgICAgICAgIFs1Mi4yMTg5OTUyNDY0NDU1LCAwLjExNTU1NzEyOTM4Mzg4NjI2XSwKICAgICAgICAgICAgICAgIHsiYnViYmxpbmdNb3VzZUV2ZW50cyI6IHRydWUsICJjb2xvciI6ICIjMzE4NmNjIiwgImRhc2hBcnJheSI6IG51bGwsICJkYXNoT2Zmc2V0IjogbnVsbCwgImZpbGwiOiB0cnVlLCAiZmlsbENvbG9yIjogIiMzMTg2Y2MiLCAiZmlsbE9wYWNpdHkiOiAwLjIsICJmaWxsUnVsZSI6ICJldmVub2RkIiwgImxpbmVDYXAiOiAicm91bmQiLCAibGluZUpvaW4iOiAicm91bmQiLCAib3BhY2l0eSI6IDEuMCwgInJhZGl1cyI6IDUwMCwgInN0cm9rZSI6IHRydWUsICJ3ZWlnaHQiOiAzfQogICAgICAgICAgICApLmFkZFRvKG1hcF80YTY3ZTlhNjRjNTI0MjhmOWYwODgzZmFkYzAzZGIxOSk7CiAgICAgICAgCiAgICAKICAgICAgICAgICAgdmFyIG1hcmtlcl81ZDYxNDI2MjBiMmE0MzlkYWI0MjgxM2I1NDMxNGI0NiA9IEwubWFya2VyKAogICAgICAgICAgICAgICAgWzUyLjIxNDg2NzQzOTQ0NjM3LCAwLjEwMjcxOTQxNjk1NTAxNzNdLAogICAgICAgICAgICAgICAge30KICAgICAgICAgICAgKS5hZGRUbyhtYXBfNGE2N2U5YTY0YzUyNDI4ZjlmMDg4M2ZhZGMwM2RiMTkpOwogICAgICAgIAogICAgCiAgICAgICAgdmFyIHBvcHVwXzg5Mzg0YWJmNDU1OTRjZWE5NTQwN2JmZDQ1Njk2NGE2ID0gTC5wb3B1cCh7Im1heFdpZHRoIjogIjEwMCUifSk7CgogICAgICAgIAogICAgICAgICAgICB2YXIgaHRtbF84YzllYzNjNTdkZGU0OTNlOTE2YzI0Mjg4NmI5NDQ5OSA9ICQoYDxkaXYgaWQ9Imh0bWxfOGM5ZWMzYzU3ZGRlNDkzZTkxNmMyNDI4ODZiOTQ0OTkiIHN0eWxlPSJ3aWR0aDogMTAwLjAlOyBoZWlnaHQ6IDEwMC4wJTsiPjxpPkNhc3RsZTwvaT48L2Rpdj5gKVswXTsKICAgICAgICAgICAgcG9wdXBfODkzODRhYmY0NTU5NGNlYTk1NDA3YmZkNDU2OTY0YTYuc2V0Q29udGVudChodG1sXzhjOWVjM2M1N2RkZTQ5M2U5MTZjMjQyODg2Yjk0NDk5KTsKICAgICAgICAKCiAgICAgICAgbWFya2VyXzVkNjE0MjYyMGIyYTQzOWRhYjQyODEzYjU0MzE0YjQ2LmJpbmRQb3B1cChwb3B1cF84OTM4NGFiZjQ1NTk0Y2VhOTU0MDdiZmQ0NTY5NjRhNikKICAgICAgICA7CgogICAgICAgIAogICAgCiAgICAKICAgICAgICAgICAgbWFya2VyXzVkNjE0MjYyMGIyYTQzOWRhYjQyODEzYjU0MzE0YjQ2LmJpbmRUb29sdGlwKAogICAgICAgICAgICAgICAgYDxkaXY+CiAgICAgICAgICAgICAgICAgICAgIENhc3RsZQogICAgICAgICAgICAgICAgIDwvZGl2PmAsCiAgICAgICAgICAgICAgICB7InN0aWNreSI6IHRydWV9CiAgICAgICAgICAgICk7CiAgICAgICAgCiAgICAKICAgICAgICAgICAgdmFyIGNpcmNsZV82MTExNjhhN2ZkMTA0NDIwODYyMmU2NjJiOTUyYzY4YyA9IEwuY2lyY2xlKAogICAgICAgICAgICAgICAgWzUyLjIxNDg2NzQzOTQ0NjM3LCAwLjEwMjcxOTQxNjk1NTAxNzNdLAogICAgICAgICAgICAgICAgeyJidWJibGluZ01vdXNlRXZlbnRzIjogdHJ1ZSwgImNvbG9yIjogIiMzMTg2Y2MiLCAiZGFzaEFycmF5IjogbnVsbCwgImRhc2hPZmZzZXQiOiBudWxsLCAiZmlsbCI6IHRydWUsICJmaWxsQ29sb3IiOiAiIzMxODZjYyIsICJmaWxsT3BhY2l0eSI6IDAuMiwgImZpbGxSdWxlIjogImV2ZW5vZGQiLCAibGluZUNhcCI6ICJyb3VuZCIsICJsaW5lSm9pbiI6ICJyb3VuZCIsICJvcGFjaXR5IjogMS4wLCAicmFkaXVzIjogNTAwLCAic3Ryb2tlIjogdHJ1ZSwgIndlaWdodCI6IDN9CiAgICAgICAgICAgICkuYWRkVG8obWFwXzRhNjdlOWE2NGM1MjQyOGY5ZjA4ODNmYWRjMDNkYjE5KTsKICAgICAgICAKICAgIAogICAgICAgICAgICB2YXIgbWFya2VyXzdiMWU0YTlmOTc2MjQ5NWFhZDRmYmM2ZjQyZDQxZTMyID0gTC5tYXJrZXIoCiAgICAgICAgICAgICAgICBbNTIuMTg3MiwgMC4xNzY0XSwKICAgICAgICAgICAgICAgIHt9CiAgICAgICAgICAgICkuYWRkVG8obWFwXzRhNjdlOWE2NGM1MjQyOGY5ZjA4ODNmYWRjMDNkYjE5KTsKICAgICAgICAKICAgIAogICAgICAgIHZhciBwb3B1cF8zNDVhM2UyZGEzNzE0ODJmODcyYzU1MDQ5ZmZjMjFkZiA9IEwucG9wdXAoeyJtYXhXaWR0aCI6ICIxMDAlIn0pOwoKICAgICAgICAKICAgICAgICAgICAgdmFyIGh0bWxfMDIxM2Y3ZTM3MGJiNDgzYTg0MzRkZWQ5NTQxYWMxYjkgPSAkKGA8ZGl2IGlkPSJodG1sXzAyMTNmN2UzNzBiYjQ4M2E4NDM0ZGVkOTU0MWFjMWI5IiBzdHlsZT0id2lkdGg6IDEwMC4wJTsgaGVpZ2h0OiAxMDAuMCU7Ij48aT5DaGVycnkgSGludG9uPC9pPjwvZGl2PmApWzBdOwogICAgICAgICAgICBwb3B1cF8zNDVhM2UyZGEzNzE0ODJmODcyYzU1MDQ5ZmZjMjFkZi5zZXRDb250ZW50KGh0bWxfMDIxM2Y3ZTM3MGJiNDgzYTg0MzRkZWQ5NTQxYWMxYjkpOwogICAgICAgIAoKICAgICAgICBtYXJrZXJfN2IxZTRhOWY5NzYyNDk1YWFkNGZiYzZmNDJkNDFlMzIuYmluZFBvcHVwKHBvcHVwXzM0NWEzZTJkYTM3MTQ4MmY4NzJjNTUwNDlmZmMyMWRmKQogICAgICAgIDsKCiAgICAgICAgCiAgICAKICAgIAogICAgICAgICAgICBtYXJrZXJfN2IxZTRhOWY5NzYyNDk1YWFkNGZiYzZmNDJkNDFlMzIuYmluZFRvb2x0aXAoCiAgICAgICAgICAgICAgICBgPGRpdj4KICAgICAgICAgICAgICAgICAgICAgQ2hlcnJ5IEhpbnRvbgogICAgICAgICAgICAgICAgIDwvZGl2PmAsCiAgICAgICAgICAgICAgICB7InN0aWNreSI6IHRydWV9CiAgICAgICAgICAgICk7CiAgICAgICAgCiAgICAKICAgICAgICAgICAgdmFyIGNpcmNsZV8wYTZhYmI1Y2MxY2I0ZmI1YjU4OGU0ZGFkNTdhYWUyMCA9IEwuY2lyY2xlKAogICAgICAgICAgICAgICAgWzUyLjE4NzIsIDAuMTc2NF0sCiAgICAgICAgICAgICAgICB7ImJ1YmJsaW5nTW91c2VFdmVudHMiOiB0cnVlLCAiY29sb3IiOiAiIzMxODZjYyIsICJkYXNoQXJyYXkiOiBudWxsLCAiZGFzaE9mZnNldCI6IG51bGwsICJmaWxsIjogdHJ1ZSwgImZpbGxDb2xvciI6ICIjMzE4NmNjIiwgImZpbGxPcGFjaXR5IjogMC4yLCAiZmlsbFJ1bGUiOiAiZXZlbm9kZCIsICJsaW5lQ2FwIjogInJvdW5kIiwgImxpbmVKb2luIjogInJvdW5kIiwgIm9wYWNpdHkiOiAxLjAsICJyYWRpdXMiOiA1MDAsICJzdHJva2UiOiB0cnVlLCAid2VpZ2h0IjogM30KICAgICAgICAgICAgKS5hZGRUbyhtYXBfNGE2N2U5YTY0YzUyNDI4ZjlmMDg4M2ZhZGMwM2RiMTkpOwogICAgICAgIAogICAgCiAgICAgICAgICAgIHZhciBtYXJrZXJfMTMwNTE1YzFmNTgzNDcyODkyZjExZWQ2OWI1YmRiNjQgPSBMLm1hcmtlcigKICAgICAgICAgICAgICAgIFs1Mi4xODk2MDM0NjM1ODM4MiwgMC4xNTM0NDg1OTU5NTM3NTcyM10sCiAgICAgICAgICAgICAgICB7fQogICAgICAgICAgICApLmFkZFRvKG1hcF80YTY3ZTlhNjRjNTI0MjhmOWYwODgzZmFkYzAzZGIxOSk7CiAgICAgICAgCiAgICAKICAgICAgICB2YXIgcG9wdXBfNzRkYzFjZjZmYzIxNGI1M2IzZTQyOTk4OTJjYmNhMDkgPSBMLnBvcHVwKHsibWF4V2lkdGgiOiAiMTAwJSJ9KTsKCiAgICAgICAgCiAgICAgICAgICAgIHZhciBodG1sX2Q4NWRjMDljYjIyOTQ4NGRhNjI5NGY4ZDE2MDI5MzAwID0gJChgPGRpdiBpZD0iaHRtbF9kODVkYzA5Y2IyMjk0ODRkYTYyOTRmOGQxNjAyOTMwMCIgc3R5bGU9IndpZHRoOiAxMDAuMCU7IGhlaWdodDogMTAwLjAlOyI+PGk+Q29sZXJpZGdlPC9pPjwvZGl2PmApWzBdOwogICAgICAgICAgICBwb3B1cF83NGRjMWNmNmZjMjE0YjUzYjNlNDI5OTg5MmNiY2EwOS5zZXRDb250ZW50KGh0bWxfZDg1ZGMwOWNiMjI5NDg0ZGE2Mjk0ZjhkMTYwMjkzMDApOwogICAgICAgIAoKICAgICAgICBtYXJrZXJfMTMwNTE1YzFmNTgzNDcyODkyZjExZWQ2OWI1YmRiNjQuYmluZFBvcHVwKHBvcHVwXzc0ZGMxY2Y2ZmMyMTRiNTNiM2U0Mjk5ODkyY2JjYTA5KQogICAgICAgIDsKCiAgICAgICAgCiAgICAKICAgIAogICAgICAgICAgICBtYXJrZXJfMTMwNTE1YzFmNTgzNDcyODkyZjExZWQ2OWI1YmRiNjQuYmluZFRvb2x0aXAoCiAgICAgICAgICAgICAgICBgPGRpdj4KICAgICAgICAgICAgICAgICAgICAgQ29sZXJpZGdlCiAgICAgICAgICAgICAgICAgPC9kaXY+YCwKICAgICAgICAgICAgICAgIHsic3RpY2t5IjogdHJ1ZX0KICAgICAgICAgICAgKTsKICAgICAgICAKICAgIAogICAgICAgICAgICB2YXIgY2lyY2xlX2EyNDZlZmVhMjEwYTQ1ZTY5MzNhZDY1NjFiN2U2ZTRjID0gTC5jaXJjbGUoCiAgICAgICAgICAgICAgICBbNTIuMTg5NjAzNDYzNTgzODIsIDAuMTUzNDQ4NTk1OTUzNzU3MjNdLAogICAgICAgICAgICAgICAgeyJidWJibGluZ01vdXNlRXZlbnRzIjogdHJ1ZSwgImNvbG9yIjogIiMzMTg2Y2MiLCAiZGFzaEFycmF5IjogbnVsbCwgImRhc2hPZmZzZXQiOiBudWxsLCAiZmlsbCI6IHRydWUsICJmaWxsQ29sb3IiOiAiIzMxODZjYyIsICJmaWxsT3BhY2l0eSI6IDAuMiwgImZpbGxSdWxlIjogImV2ZW5vZGQiLCAibGluZUNhcCI6ICJyb3VuZCIsICJsaW5lSm9pbiI6ICJyb3VuZCIsICJvcGFjaXR5IjogMS4wLCAicmFkaXVzIjogNTAwLCAic3Ryb2tlIjogdHJ1ZSwgIndlaWdodCI6IDN9CiAgICAgICAgICAgICkuYWRkVG8obWFwXzRhNjdlOWE2NGM1MjQyOGY5ZjA4ODNmYWRjMDNkYjE5KTsKICAgICAgICAKICAgIAogICAgICAgICAgICB2YXIgbWFya2VyX2I5ZGUwNzhkMDM1MjQ2MjY4YzhjMDlhZTAwZjBiZDY5ID0gTC5tYXJrZXIoCiAgICAgICAgICAgICAgICBbNTIuMjIyMDMyMDA4OTYwNTcsIDAuMTQ3MjY0MjIyNTgwNjQ1MTRdLAogICAgICAgICAgICAgICAge30KICAgICAgICAgICAgKS5hZGRUbyhtYXBfNGE2N2U5YTY0YzUyNDI4ZjlmMDg4M2ZhZGMwM2RiMTkpOwogICAgICAgIAogICAgCiAgICAgICAgdmFyIHBvcHVwXzZiNGM0NTc4ZWFlMzQ1YWViYTdjODgwY2UwMjMwYTYzID0gTC5wb3B1cCh7Im1heFdpZHRoIjogIjEwMCUifSk7CgogICAgICAgIAogICAgICAgICAgICB2YXIgaHRtbF84M2Q4ZTM1ZjgxZGU0NGVmODRlZDA4NTU3MDZiZjY2OSA9ICQoYDxkaXYgaWQ9Imh0bWxfODNkOGUzNWY4MWRlNDRlZjg0ZWQwODU1NzA2YmY2NjkiIHN0eWxlPSJ3aWR0aDogMTAwLjAlOyBoZWlnaHQ6IDEwMC4wJTsiPjxpPkVhc3QgQ2hlc3RlcnRvbjwvaT48L2Rpdj5gKVswXTsKICAgICAgICAgICAgcG9wdXBfNmI0YzQ1NzhlYWUzNDVhZWJhN2M4ODBjZTAyMzBhNjMuc2V0Q29udGVudChodG1sXzgzZDhlMzVmODFkZTQ0ZWY4NGVkMDg1NTcwNmJmNjY5KTsKICAgICAgICAKCiAgICAgICAgbWFya2VyX2I5ZGUwNzhkMDM1MjQ2MjY4YzhjMDlhZTAwZjBiZDY5LmJpbmRQb3B1cChwb3B1cF82YjRjNDU3OGVhZTM0NWFlYmE3Yzg4MGNlMDIzMGE2MykKICAgICAgICA7CgogICAgICAgIAogICAgCiAgICAKICAgICAgICAgICAgbWFya2VyX2I5ZGUwNzhkMDM1MjQ2MjY4YzhjMDlhZTAwZjBiZDY5LmJpbmRUb29sdGlwKAogICAgICAgICAgICAgICAgYDxkaXY+CiAgICAgICAgICAgICAgICAgICAgIEVhc3QgQ2hlc3RlcnRvbgogICAgICAgICAgICAgICAgIDwvZGl2PmAsCiAgICAgICAgICAgICAgICB7InN0aWNreSI6IHRydWV9CiAgICAgICAgICAgICk7CiAgICAgICAgCiAgICAKICAgICAgICAgICAgdmFyIGNpcmNsZV80MjQxMDhiZDhjMjg0NmFkOTZhMDc4MjlkM2IzNTE0ZiA9IEwuY2lyY2xlKAogICAgICAgICAgICAgICAgWzUyLjIyMjAzMjAwODk2MDU3LCAwLjE0NzI2NDIyMjU4MDY0NTE0XSwKICAgICAgICAgICAgICAgIHsiYnViYmxpbmdNb3VzZUV2ZW50cyI6IHRydWUsICJjb2xvciI6ICIjMzE4NmNjIiwgImRhc2hBcnJheSI6IG51bGwsICJkYXNoT2Zmc2V0IjogbnVsbCwgImZpbGwiOiB0cnVlLCAiZmlsbENvbG9yIjogIiMzMTg2Y2MiLCAiZmlsbE9wYWNpdHkiOiAwLjIsICJmaWxsUnVsZSI6ICJldmVub2RkIiwgImxpbmVDYXAiOiAicm91bmQiLCAibGluZUpvaW4iOiAicm91bmQiLCAib3BhY2l0eSI6IDEuMCwgInJhZGl1cyI6IDUwMCwgInN0cm9rZSI6IHRydWUsICJ3ZWlnaHQiOiAzfQogICAgICAgICAgICApLmFkZFRvKG1hcF80YTY3ZTlhNjRjNTI0MjhmOWYwODgzZmFkYzAzZGIxOSk7CiAgICAgICAgCiAgICAKICAgICAgICAgICAgdmFyIG1hcmtlcl9jYjBhNjkzZTZlYmU0NGU1YTFmOGMxZjZkMTdhOTNjMSA9IEwubWFya2VyKAogICAgICAgICAgICAgICAgWzUyLjIyNzE4NTE0NzEwNzQzNCwgMC4xMzQ5OTE3NTYxOTgzNDcxXSwKICAgICAgICAgICAgICAgIHt9CiAgICAgICAgICAgICkuYWRkVG8obWFwXzRhNjdlOWE2NGM1MjQyOGY5ZjA4ODNmYWRjMDNkYjE5KTsKICAgICAgICAKICAgIAogICAgICAgIHZhciBwb3B1cF85ZjI0ODk0ZWUyZWU0OGQzYjkxOTljZDc0ODQ3NWYwZiA9IEwucG9wdXAoeyJtYXhXaWR0aCI6ICIxMDAlIn0pOwoKICAgICAgICAKICAgICAgICAgICAgdmFyIGh0bWxfYzhlNGZmMDdiZjU1NGNhYjgyYWVlY2YwNjIwMTYzNWEgPSAkKGA8ZGl2IGlkPSJodG1sX2M4ZTRmZjA3YmY1NTRjYWI4MmFlZWNmMDYyMDE2MzVhIiBzdHlsZT0id2lkdGg6IDEwMC4wJTsgaGVpZ2h0OiAxMDAuMCU7Ij48aT5LaW5ncyBIZWRnZXM8L2k+PC9kaXY+YClbMF07CiAgICAgICAgICAgIHBvcHVwXzlmMjQ4OTRlZTJlZTQ4ZDNiOTE5OWNkNzQ4NDc1ZjBmLnNldENvbnRlbnQoaHRtbF9jOGU0ZmYwN2JmNTU0Y2FiODJhZWVjZjA2MjAxNjM1YSk7CiAgICAgICAgCgogICAgICAgIG1hcmtlcl9jYjBhNjkzZTZlYmU0NGU1YTFmOGMxZjZkMTdhOTNjMS5iaW5kUG9wdXAocG9wdXBfOWYyNDg5NGVlMmVlNDhkM2I5MTk5Y2Q3NDg0NzVmMGYpCiAgICAgICAgOwoKICAgICAgICAKICAgIAogICAgCiAgICAgICAgICAgIG1hcmtlcl9jYjBhNjkzZTZlYmU0NGU1YTFmOGMxZjZkMTdhOTNjMS5iaW5kVG9vbHRpcCgKICAgICAgICAgICAgICAgIGA8ZGl2PgogICAgICAgICAgICAgICAgICAgICBLaW5ncyBIZWRnZXMKICAgICAgICAgICAgICAgICA8L2Rpdj5gLAogICAgICAgICAgICAgICAgeyJzdGlja3kiOiB0cnVlfQogICAgICAgICAgICApOwogICAgICAgIAogICAgCiAgICAgICAgICAgIHZhciBjaXJjbGVfNTRiMzc3Y2QxZDRlNDE0YTlkNzI4M2JhYzgzOWRhMGQgPSBMLmNpcmNsZSgKICAgICAgICAgICAgICAgIFs1Mi4yMjcxODUxNDcxMDc0MzQsIDAuMTM0OTkxNzU2MTk4MzQ3MV0sCiAgICAgICAgICAgICAgICB7ImJ1YmJsaW5nTW91c2VFdmVudHMiOiB0cnVlLCAiY29sb3IiOiAiIzMxODZjYyIsICJkYXNoQXJyYXkiOiBudWxsLCAiZGFzaE9mZnNldCI6IG51bGwsICJmaWxsIjogdHJ1ZSwgImZpbGxDb2xvciI6ICIjMzE4NmNjIiwgImZpbGxPcGFjaXR5IjogMC4yLCAiZmlsbFJ1bGUiOiAiZXZlbm9kZCIsICJsaW5lQ2FwIjogInJvdW5kIiwgImxpbmVKb2luIjogInJvdW5kIiwgIm9wYWNpdHkiOiAxLjAsICJyYWRpdXMiOiA1MDAsICJzdHJva2UiOiB0cnVlLCAid2VpZ2h0IjogM30KICAgICAgICAgICAgKS5hZGRUbyhtYXBfNGE2N2U5YTY0YzUyNDI4ZjlmMDg4M2ZhZGMwM2RiMTkpOwogICAgICAgIAogICAgCiAgICAgICAgICAgIHZhciBtYXJrZXJfNmIxNTQzZGRmMmVjNDQyMTk5YWUwNzBlM2JmMzZiMGIgPSBMLm1hcmtlcigKICAgICAgICAgICAgICAgIFs1Mi4yMDYzOTI0MDg4ODg4OSwgMC4xMjQ0ODE4NDIyMjIyMjIyMl0sCiAgICAgICAgICAgICAgICB7fQogICAgICAgICAgICApLmFkZFRvKG1hcF80YTY3ZTlhNjRjNTI0MjhmOWYwODgzZmFkYzAzZGIxOSk7CiAgICAgICAgCiAgICAKICAgICAgICB2YXIgcG9wdXBfYjAwNDc1YWNkYjU2NDFlOThlNGM4NmY2MmMwNWFmMDMgPSBMLnBvcHVwKHsibWF4V2lkdGgiOiAiMTAwJSJ9KTsKCiAgICAgICAgCiAgICAgICAgICAgIHZhciBodG1sXzM4YmFlMTNhODg0NzRkMTk5ZjdkNGY3ZTZiMDY0MDljID0gJChgPGRpdiBpZD0iaHRtbF8zOGJhZTEzYTg4NDc0ZDE5OWY3ZDRmN2U2YjA2NDA5YyIgc3R5bGU9IndpZHRoOiAxMDAuMCU7IGhlaWdodDogMTAwLjAlOyI+PGk+TWFya2V0PC9pPjwvZGl2PmApWzBdOwogICAgICAgICAgICBwb3B1cF9iMDA0NzVhY2RiNTY0MWU5OGU0Yzg2ZjYyYzA1YWYwMy5zZXRDb250ZW50KGh0bWxfMzhiYWUxM2E4ODQ3NGQxOTlmN2Q0ZjdlNmIwNjQwOWMpOwogICAgICAgIAoKICAgICAgICBtYXJrZXJfNmIxNTQzZGRmMmVjNDQyMTk5YWUwNzBlM2JmMzZiMGIuYmluZFBvcHVwKHBvcHVwX2IwMDQ3NWFjZGI1NjQxZTk4ZTRjODZmNjJjMDVhZjAzKQogICAgICAgIDsKCiAgICAgICAgCiAgICAKICAgIAogICAgICAgICAgICBtYXJrZXJfNmIxNTQzZGRmMmVjNDQyMTk5YWUwNzBlM2JmMzZiMGIuYmluZFRvb2x0aXAoCiAgICAgICAgICAgICAgICBgPGRpdj4KICAgICAgICAgICAgICAgICAgICAgTWFya2V0CiAgICAgICAgICAgICAgICAgPC9kaXY+YCwKICAgICAgICAgICAgICAgIHsic3RpY2t5IjogdHJ1ZX0KICAgICAgICAgICAgKTsKICAgICAgICAKICAgIAogICAgICAgICAgICB2YXIgY2lyY2xlXzExMmM2NDkxMTZhYTQyMjE4NTExZDRiMzc2N2Q2YjE3ID0gTC5jaXJjbGUoCiAgICAgICAgICAgICAgICBbNTIuMjA2MzkyNDA4ODg4ODksIDAuMTI0NDgxODQyMjIyMjIyMjJdLAogICAgICAgICAgICAgICAgeyJidWJibGluZ01vdXNlRXZlbnRzIjogdHJ1ZSwgImNvbG9yIjogIiMzMTg2Y2MiLCAiZGFzaEFycmF5IjogbnVsbCwgImRhc2hPZmZzZXQiOiBudWxsLCAiZmlsbCI6IHRydWUsICJmaWxsQ29sb3IiOiAiIzMxODZjYyIsICJmaWxsT3BhY2l0eSI6IDAuMiwgImZpbGxSdWxlIjogImV2ZW5vZGQiLCAibGluZUNhcCI6ICJyb3VuZCIsICJsaW5lSm9pbiI6ICJyb3VuZCIsICJvcGFjaXR5IjogMS4wLCAicmFkaXVzIjogNTAwLCAic3Ryb2tlIjogdHJ1ZSwgIndlaWdodCI6IDN9CiAgICAgICAgICAgICkuYWRkVG8obWFwXzRhNjdlOWE2NGM1MjQyOGY5ZjA4ODNmYWRjMDNkYjE5KTsKICAgICAgICAKICAgIAogICAgICAgICAgICB2YXIgbWFya2VyXzEzODFlYjNiMTk3ZDRmMTY5YzdlOTk4YTIxYmYxMjc2ID0gTC5tYXJrZXIoCiAgICAgICAgICAgICAgICBbNTIuMTk3LCAwLjEwNjhdLAogICAgICAgICAgICAgICAge30KICAgICAgICAgICAgKS5hZGRUbyhtYXBfNGE2N2U5YTY0YzUyNDI4ZjlmMDg4M2ZhZGMwM2RiMTkpOwogICAgICAgIAogICAgCiAgICAgICAgdmFyIHBvcHVwXzExYzQzNjUzZDA2MzRkNDY4NDlkMmFjMDc2YjMyNDU3ID0gTC5wb3B1cCh7Im1heFdpZHRoIjogIjEwMCUifSk7CgogICAgICAgIAogICAgICAgICAgICB2YXIgaHRtbF8xMDExZGQ5MDcyOTA0ZTJiYTI3ZDFmNmVmYTVmNmIwZiA9ICQoYDxkaXYgaWQ9Imh0bWxfMTAxMWRkOTA3MjkwNGUyYmEyN2QxZjZlZmE1ZjZiMGYiIHN0eWxlPSJ3aWR0aDogMTAwLjAlOyBoZWlnaHQ6IDEwMC4wJTsiPjxpPk5ld25oYW08L2k+PC9kaXY+YClbMF07CiAgICAgICAgICAgIHBvcHVwXzExYzQzNjUzZDA2MzRkNDY4NDlkMmFjMDc2YjMyNDU3LnNldENvbnRlbnQoaHRtbF8xMDExZGQ5MDcyOTA0ZTJiYTI3ZDFmNmVmYTVmNmIwZik7CiAgICAgICAgCgogICAgICAgIG1hcmtlcl8xMzgxZWIzYjE5N2Q0ZjE2OWM3ZTk5OGEyMWJmMTI3Ni5iaW5kUG9wdXAocG9wdXBfMTFjNDM2NTNkMDYzNGQ0Njg0OWQyYWMwNzZiMzI0NTcpCiAgICAgICAgOwoKICAgICAgICAKICAgIAogICAgCiAgICAgICAgICAgIG1hcmtlcl8xMzgxZWIzYjE5N2Q0ZjE2OWM3ZTk5OGEyMWJmMTI3Ni5iaW5kVG9vbHRpcCgKICAgICAgICAgICAgICAgIGA8ZGl2PgogICAgICAgICAgICAgICAgICAgICBOZXduaGFtCiAgICAgICAgICAgICAgICAgPC9kaXY+YCwKICAgICAgICAgICAgICAgIHsic3RpY2t5IjogdHJ1ZX0KICAgICAgICAgICAgKTsKICAgICAgICAKICAgIAogICAgICAgICAgICB2YXIgY2lyY2xlXzUwNWZkMjU5Nzc1NDQ5NDI5MTEzOGU2MTFkNGVlYzlkID0gTC5jaXJjbGUoCiAgICAgICAgICAgICAgICBbNTIuMTk3LCAwLjEwNjhdLAogICAgICAgICAgICAgICAgeyJidWJibGluZ01vdXNlRXZlbnRzIjogdHJ1ZSwgImNvbG9yIjogIiMzMTg2Y2MiLCAiZGFzaEFycmF5IjogbnVsbCwgImRhc2hPZmZzZXQiOiBudWxsLCAiZmlsbCI6IHRydWUsICJmaWxsQ29sb3IiOiAiIzMxODZjYyIsICJmaWxsT3BhY2l0eSI6IDAuMiwgImZpbGxSdWxlIjogImV2ZW5vZGQiLCAibGluZUNhcCI6ICJyb3VuZCIsICJsaW5lSm9pbiI6ICJyb3VuZCIsICJvcGFjaXR5IjogMS4wLCAicmFkaXVzIjogNTAwLCAic3Ryb2tlIjogdHJ1ZSwgIndlaWdodCI6IDN9CiAgICAgICAgICAgICkuYWRkVG8obWFwXzRhNjdlOWE2NGM1MjQyOGY5ZjA4ODNmYWRjMDNkYjE5KTsKICAgICAgICAKICAgIAogICAgICAgICAgICB2YXIgbWFya2VyX2RiYmI0ZDIyZWI2ZDQwYTc4OGUwNDc4YjZlYjAwNmMxID0gTC5tYXJrZXIoCiAgICAgICAgICAgICAgICBbNTIuMjAyNjk4MjE0MTE3NjUsIDAuMTM2MTM4MTY4MjM1Mjk0MTJdLAogICAgICAgICAgICAgICAge30KICAgICAgICAgICAgKS5hZGRUbyhtYXBfNGE2N2U5YTY0YzUyNDI4ZjlmMDg4M2ZhZGMwM2RiMTkpOwogICAgICAgIAogICAgCiAgICAgICAgdmFyIHBvcHVwXzkwZGQ4NWRlMGY0MjQ3MWNhODkzZTcxYWZlYTg1NDIzID0gTC5wb3B1cCh7Im1heFdpZHRoIjogIjEwMCUifSk7CgogICAgICAgIAogICAgICAgICAgICB2YXIgaHRtbF8yMDEwNGY0MTVlN2E0NjQ3OTBlZTU1MTZmMjA3YWQ5YiA9ICQoYDxkaXYgaWQ9Imh0bWxfMjAxMDRmNDE1ZTdhNDY0NzkwZWU1NTE2ZjIwN2FkOWIiIHN0eWxlPSJ3aWR0aDogMTAwLjAlOyBoZWlnaHQ6IDEwMC4wJTsiPjxpPlBldGVyc2ZpZWxkPC9pPjwvZGl2PmApWzBdOwogICAgICAgICAgICBwb3B1cF85MGRkODVkZTBmNDI0NzFjYTg5M2U3MWFmZWE4NTQyMy5zZXRDb250ZW50KGh0bWxfMjAxMDRmNDE1ZTdhNDY0NzkwZWU1NTE2ZjIwN2FkOWIpOwogICAgICAgIAoKICAgICAgICBtYXJrZXJfZGJiYjRkMjJlYjZkNDBhNzg4ZTA0NzhiNmViMDA2YzEuYmluZFBvcHVwKHBvcHVwXzkwZGQ4NWRlMGY0MjQ3MWNhODkzZTcxYWZlYTg1NDIzKQogICAgICAgIDsKCiAgICAgICAgCiAgICAKICAgIAogICAgICAgICAgICBtYXJrZXJfZGJiYjRkMjJlYjZkNDBhNzg4ZTA0NzhiNmViMDA2YzEuYmluZFRvb2x0aXAoCiAgICAgICAgICAgICAgICBgPGRpdj4KICAgICAgICAgICAgICAgICAgICAgUGV0ZXJzZmllbGQKICAgICAgICAgICAgICAgICA8L2Rpdj5gLAogICAgICAgICAgICAgICAgeyJzdGlja3kiOiB0cnVlfQogICAgICAgICAgICApOwogICAgICAgIAogICAgCiAgICAgICAgICAgIHZhciBjaXJjbGVfOWQzYjUxMDIxNDlmNGMxNGI0NzRlZmJjZjBiN2U1ZjQgPSBMLmNpcmNsZSgKICAgICAgICAgICAgICAgIFs1Mi4yMDI2OTgyMTQxMTc2NSwgMC4xMzYxMzgxNjgyMzUyOTQxMl0sCiAgICAgICAgICAgICAgICB7ImJ1YmJsaW5nTW91c2VFdmVudHMiOiB0cnVlLCAiY29sb3IiOiAiIzMxODZjYyIsICJkYXNoQXJyYXkiOiBudWxsLCAiZGFzaE9mZnNldCI6IG51bGwsICJmaWxsIjogdHJ1ZSwgImZpbGxDb2xvciI6ICIjMzE4NmNjIiwgImZpbGxPcGFjaXR5IjogMC4yLCAiZmlsbFJ1bGUiOiAiZXZlbm9kZCIsICJsaW5lQ2FwIjogInJvdW5kIiwgImxpbmVKb2luIjogInJvdW5kIiwgIm9wYWNpdHkiOiAxLjAsICJyYWRpdXMiOiA1MDAsICJzdHJva2UiOiB0cnVlLCAid2VpZ2h0IjogM30KICAgICAgICAgICAgKS5hZGRUbyhtYXBfNGE2N2U5YTY0YzUyNDI4ZjlmMDg4M2ZhZGMwM2RiMTkpOwogICAgICAgIAogICAgCiAgICAgICAgICAgIHZhciBtYXJrZXJfMjliZjhmMDlmZDA0NDMwNzkyOTE2YmQwYzU5ZmEyZmEgPSBMLm1hcmtlcigKICAgICAgICAgICAgICAgIFs1Mi4xODA3ODA1MjQwNzQwOCwgMC4xNTExOTU4MzAyNDY5MTM1OF0sCiAgICAgICAgICAgICAgICB7fQogICAgICAgICAgICApLmFkZFRvKG1hcF80YTY3ZTlhNjRjNTI0MjhmOWYwODgzZmFkYzAzZGIxOSk7CiAgICAgICAgCiAgICAKICAgICAgICB2YXIgcG9wdXBfYTk0ZTI3N2I5MzViNGVhYzkwMDQwMWM3YjdkNjc1NDQgPSBMLnBvcHVwKHsibWF4V2lkdGgiOiAiMTAwJSJ9KTsKCiAgICAgICAgCiAgICAgICAgICAgIHZhciBodG1sXzVjZmJhZDVhMmY2OTRkNjg4NDk3ODJjNGQ5OGZiYWRjID0gJChgPGRpdiBpZD0iaHRtbF81Y2ZiYWQ1YTJmNjk0ZDY4ODQ5NzgyYzRkOThmYmFkYyIgc3R5bGU9IndpZHRoOiAxMDAuMCU7IGhlaWdodDogMTAwLjAlOyI+PGk+UXVlZW4gRWRpdGhzPC9pPjwvZGl2PmApWzBdOwogICAgICAgICAgICBwb3B1cF9hOTRlMjc3YjkzNWI0ZWFjOTAwNDAxYzdiN2Q2NzU0NC5zZXRDb250ZW50KGh0bWxfNWNmYmFkNWEyZjY5NGQ2ODg0OTc4MmM0ZDk4ZmJhZGMpOwogICAgICAgIAoKICAgICAgICBtYXJrZXJfMjliZjhmMDlmZDA0NDMwNzkyOTE2YmQwYzU5ZmEyZmEuYmluZFBvcHVwKHBvcHVwX2E5NGUyNzdiOTM1YjRlYWM5MDA0MDFjN2I3ZDY3NTQ0KQogICAgICAgIDsKCiAgICAgICAgCiAgICAKICAgIAogICAgICAgICAgICBtYXJrZXJfMjliZjhmMDlmZDA0NDMwNzkyOTE2YmQwYzU5ZmEyZmEuYmluZFRvb2x0aXAoCiAgICAgICAgICAgICAgICBgPGRpdj4KICAgICAgICAgICAgICAgICAgICAgUXVlZW4gRWRpdGhzCiAgICAgICAgICAgICAgICAgPC9kaXY+YCwKICAgICAgICAgICAgICAgIHsic3RpY2t5IjogdHJ1ZX0KICAgICAgICAgICAgKTsKICAgICAgICAKICAgIAogICAgICAgICAgICB2YXIgY2lyY2xlXzI0NTQxNDhhZDI2MjQ5NDg4ZDhmZWU5MWRjZjFlYWVhID0gTC5jaXJjbGUoCiAgICAgICAgICAgICAgICBbNTIuMTgwNzgwNTI0MDc0MDgsIDAuMTUxMTk1ODMwMjQ2OTEzNThdLAogICAgICAgICAgICAgICAgeyJidWJibGluZ01vdXNlRXZlbnRzIjogdHJ1ZSwgImNvbG9yIjogIiMzMTg2Y2MiLCAiZGFzaEFycmF5IjogbnVsbCwgImRhc2hPZmZzZXQiOiBudWxsLCAiZmlsbCI6IHRydWUsICJmaWxsQ29sb3IiOiAiIzMxODZjYyIsICJmaWxsT3BhY2l0eSI6IDAuMiwgImZpbGxSdWxlIjogImV2ZW5vZGQiLCAibGluZUNhcCI6ICJyb3VuZCIsICJsaW5lSm9pbiI6ICJyb3VuZCIsICJvcGFjaXR5IjogMS4wLCAicmFkaXVzIjogNTAwLCAic3Ryb2tlIjogdHJ1ZSwgIndlaWdodCI6IDN9CiAgICAgICAgICAgICkuYWRkVG8obWFwXzRhNjdlOWE2NGM1MjQyOGY5ZjA4ODNmYWRjMDNkYjE5KTsKICAgICAgICAKICAgIAogICAgICAgICAgICB2YXIgbWFya2VyXzNhYTgwYTg4YTRkMDRkMjRhMDJkY2YzZGMyZTQyOGU0ID0gTC5tYXJrZXIoCiAgICAgICAgICAgICAgICBbNTIuMTk3MiwgMC4xNDYzXSwKICAgICAgICAgICAgICAgIHt9CiAgICAgICAgICAgICkuYWRkVG8obWFwXzRhNjdlOWE2NGM1MjQyOGY5ZjA4ODNmYWRjMDNkYjE5KTsKICAgICAgICAKICAgIAogICAgICAgIHZhciBwb3B1cF9hYjFmNjcwZjliYzE0MjYwYjlmOTM2ZDUwOWYxYWI4YiA9IEwucG9wdXAoeyJtYXhXaWR0aCI6ICIxMDAlIn0pOwoKICAgICAgICAKICAgICAgICAgICAgdmFyIGh0bWxfZDIyMjg1ZWNkMTFkNDI2ZWExYTBmNDNkYzZkZDAxNDcgPSAkKGA8ZGl2IGlkPSJodG1sX2QyMjI4NWVjZDExZDQyNmVhMWEwZjQzZGM2ZGQwMTQ3IiBzdHlsZT0id2lkdGg6IDEwMC4wJTsgaGVpZ2h0OiAxMDAuMCU7Ij48aT5Sb21zZXk8L2k+PC9kaXY+YClbMF07CiAgICAgICAgICAgIHBvcHVwX2FiMWY2NzBmOWJjMTQyNjBiOWY5MzZkNTA5ZjFhYjhiLnNldENvbnRlbnQoaHRtbF9kMjIyODVlY2QxMWQ0MjZlYTFhMGY0M2RjNmRkMDE0Nyk7CiAgICAgICAgCgogICAgICAgIG1hcmtlcl8zYWE4MGE4OGE0ZDA0ZDI0YTAyZGNmM2RjMmU0MjhlNC5iaW5kUG9wdXAocG9wdXBfYWIxZjY3MGY5YmMxNDI2MGI5ZjkzNmQ1MDlmMWFiOGIpCiAgICAgICAgOwoKICAgICAgICAKICAgIAogICAgCiAgICAgICAgICAgIG1hcmtlcl8zYWE4MGE4OGE0ZDA0ZDI0YTAyZGNmM2RjMmU0MjhlNC5iaW5kVG9vbHRpcCgKICAgICAgICAgICAgICAgIGA8ZGl2PgogICAgICAgICAgICAgICAgICAgICBSb21zZXkKICAgICAgICAgICAgICAgICA8L2Rpdj5gLAogICAgICAgICAgICAgICAgeyJzdGlja3kiOiB0cnVlfQogICAgICAgICAgICApOwogICAgICAgIAogICAgCiAgICAgICAgICAgIHZhciBjaXJjbGVfZDYzNjY1Nzk4ZDM4NGQwN2E1NDU3ODY1NDM2Y2E4MmYgPSBMLmNpcmNsZSgKICAgICAgICAgICAgICAgIFs1Mi4xOTcyLCAwLjE0NjNdLAogICAgICAgICAgICAgICAgeyJidWJibGluZ01vdXNlRXZlbnRzIjogdHJ1ZSwgImNvbG9yIjogIiMzMTg2Y2MiLCAiZGFzaEFycmF5IjogbnVsbCwgImRhc2hPZmZzZXQiOiBudWxsLCAiZmlsbCI6IHRydWUsICJmaWxsQ29sb3IiOiAiIzMxODZjYyIsICJmaWxsT3BhY2l0eSI6IDAuMiwgImZpbGxSdWxlIjogImV2ZW5vZGQiLCAibGluZUNhcCI6ICJyb3VuZCIsICJsaW5lSm9pbiI6ICJyb3VuZCIsICJvcGFjaXR5IjogMS4wLCAicmFkaXVzIjogNTAwLCAic3Ryb2tlIjogdHJ1ZSwgIndlaWdodCI6IDN9CiAgICAgICAgICAgICkuYWRkVG8obWFwXzRhNjdlOWE2NGM1MjQyOGY5ZjA4ODNmYWRjMDNkYjE5KTsKICAgICAgICAKICAgIAogICAgICAgICAgICB2YXIgbWFya2VyX2JkNWQzYjgxNzQxODRkNmJhZDQwZDg4OTllNmI5Y2Y4ID0gTC5tYXJrZXIoCiAgICAgICAgICAgICAgICBbNTIuMTczNCwgMC4xMTMxXSwKICAgICAgICAgICAgICAgIHt9CiAgICAgICAgICAgICkuYWRkVG8obWFwXzRhNjdlOWE2NGM1MjQyOGY5ZjA4ODNmYWRjMDNkYjE5KTsKICAgICAgICAKICAgIAogICAgICAgIHZhciBwb3B1cF82MjNjYWI0YjUxZWQ0MzAxYTgwMDIzNzllMWRkMzZiMSA9IEwucG9wdXAoeyJtYXhXaWR0aCI6ICIxMDAlIn0pOwoKICAgICAgICAKICAgICAgICAgICAgdmFyIGh0bWxfM2FkNDFkZGY4NTA4NDZkYzk2NmFjNzlhYzBkMzMxZTkgPSAkKGA8ZGl2IGlkPSJodG1sXzNhZDQxZGRmODUwODQ2ZGM5NjZhYzc5YWMwZDMzMWU5IiBzdHlsZT0id2lkdGg6IDEwMC4wJTsgaGVpZ2h0OiAxMDAuMCU7Ij48aT5UcnVtcGluZ3RvbjwvaT48L2Rpdj5gKVswXTsKICAgICAgICAgICAgcG9wdXBfNjIzY2FiNGI1MWVkNDMwMWE4MDAyMzc5ZTFkZDM2YjEuc2V0Q29udGVudChodG1sXzNhZDQxZGRmODUwODQ2ZGM5NjZhYzc5YWMwZDMzMWU5KTsKICAgICAgICAKCiAgICAgICAgbWFya2VyX2JkNWQzYjgxNzQxODRkNmJhZDQwZDg4OTllNmI5Y2Y4LmJpbmRQb3B1cChwb3B1cF82MjNjYWI0YjUxZWQ0MzAxYTgwMDIzNzllMWRkMzZiMSkKICAgICAgICA7CgogICAgICAgIAogICAgCiAgICAKICAgICAgICAgICAgbWFya2VyX2JkNWQzYjgxNzQxODRkNmJhZDQwZDg4OTllNmI5Y2Y4LmJpbmRUb29sdGlwKAogICAgICAgICAgICAgICAgYDxkaXY+CiAgICAgICAgICAgICAgICAgICAgIFRydW1waW5ndG9uCiAgICAgICAgICAgICAgICAgPC9kaXY+YCwKICAgICAgICAgICAgICAgIHsic3RpY2t5IjogdHJ1ZX0KICAgICAgICAgICAgKTsKICAgICAgICAKICAgIAogICAgICAgICAgICB2YXIgY2lyY2xlX2M2MDA0NmUxMWU4ZjRhOWQ5Nzk3MTg0MWY4MWJiNTU2ID0gTC5jaXJjbGUoCiAgICAgICAgICAgICAgICBbNTIuMTczNCwgMC4xMTMxXSwKICAgICAgICAgICAgICAgIHsiYnViYmxpbmdNb3VzZUV2ZW50cyI6IHRydWUsICJjb2xvciI6ICIjMzE4NmNjIiwgImRhc2hBcnJheSI6IG51bGwsICJkYXNoT2Zmc2V0IjogbnVsbCwgImZpbGwiOiB0cnVlLCAiZmlsbENvbG9yIjogIiMzMTg2Y2MiLCAiZmlsbE9wYWNpdHkiOiAwLjIsICJmaWxsUnVsZSI6ICJldmVub2RkIiwgImxpbmVDYXAiOiAicm91bmQiLCAibGluZUpvaW4iOiAicm91bmQiLCAib3BhY2l0eSI6IDEuMCwgInJhZGl1cyI6IDUwMCwgInN0cm9rZSI6IHRydWUsICJ3ZWlnaHQiOiAzfQogICAgICAgICAgICApLmFkZFRvKG1hcF80YTY3ZTlhNjRjNTI0MjhmOWYwODgzZmFkYzAzZGIxOSk7CiAgICAgICAgCiAgICAKICAgICAgICAgICAgdmFyIG1hcmtlcl8zY2ZhOGM5N2YwOWE0ZDhjYTNkYjAzZmY4ZmJmODAyZSA9IEwubWFya2VyKAogICAgICAgICAgICAgICAgWzUyLjIxNzQ4Njk2NjE3NjQ4LCAwLjEyOTMwNjkwNzM1Mjk0MTE3XSwKICAgICAgICAgICAgICAgIHt9CiAgICAgICAgICAgICkuYWRkVG8obWFwXzRhNjdlOWE2NGM1MjQyOGY5ZjA4ODNmYWRjMDNkYjE5KTsKICAgICAgICAKICAgIAogICAgICAgIHZhciBwb3B1cF9jNDQxNWZjMTJmNzc0ZWRjYTRkZmFiNmNkODEyMDY4MyA9IEwucG9wdXAoeyJtYXhXaWR0aCI6ICIxMDAlIn0pOwoKICAgICAgICAKICAgICAgICAgICAgdmFyIGh0bWxfZDZhMWI3NjljMDczNGI2NmE0NDE0MTk4YWYxOTU1MzggPSAkKGA8ZGl2IGlkPSJodG1sX2Q2YTFiNzY5YzA3MzRiNjZhNDQxNDE5OGFmMTk1NTM4IiBzdHlsZT0id2lkdGg6IDEwMC4wJTsgaGVpZ2h0OiAxMDAuMCU7Ij48aT5XZXN0IENoZXN0ZXJ0b248L2k+PC9kaXY+YClbMF07CiAgICAgICAgICAgIHBvcHVwX2M0NDE1ZmMxMmY3NzRlZGNhNGRmYWI2Y2Q4MTIwNjgzLnNldENvbnRlbnQoaHRtbF9kNmExYjc2OWMwNzM0YjY2YTQ0MTQxOThhZjE5NTUzOCk7CiAgICAgICAgCgogICAgICAgIG1hcmtlcl8zY2ZhOGM5N2YwOWE0ZDhjYTNkYjAzZmY4ZmJmODAyZS5iaW5kUG9wdXAocG9wdXBfYzQ0MTVmYzEyZjc3NGVkY2E0ZGZhYjZjZDgxMjA2ODMpCiAgICAgICAgOwoKICAgICAgICAKICAgIAogICAgCiAgICAgICAgICAgIG1hcmtlcl8zY2ZhOGM5N2YwOWE0ZDhjYTNkYjAzZmY4ZmJmODAyZS5iaW5kVG9vbHRpcCgKICAgICAgICAgICAgICAgIGA8ZGl2PgogICAgICAgICAgICAgICAgICAgICBXZXN0IENoZXN0ZXJ0b24KICAgICAgICAgICAgICAgICA8L2Rpdj5gLAogICAgICAgICAgICAgICAgeyJzdGlja3kiOiB0cnVlfQogICAgICAgICAgICApOwogICAgICAgIAogICAgCiAgICAgICAgICAgIHZhciBjaXJjbGVfYjJjMjA0OTFhNjQzNGE0OGIyOGIyZDIzNmZjNjQ5Y2YgPSBMLmNpcmNsZSgKICAgICAgICAgICAgICAgIFs1Mi4yMTc0ODY5NjYxNzY0OCwgMC4xMjkzMDY5MDczNTI5NDExN10sCiAgICAgICAgICAgICAgICB7ImJ1YmJsaW5nTW91c2VFdmVudHMiOiB0cnVlLCAiY29sb3IiOiAiIzMxODZjYyIsICJkYXNoQXJyYXkiOiBudWxsLCAiZGFzaE9mZnNldCI6IG51bGwsICJmaWxsIjogdHJ1ZSwgImZpbGxDb2xvciI6ICIjMzE4NmNjIiwgImZpbGxPcGFjaXR5IjogMC4yLCAiZmlsbFJ1bGUiOiAiZXZlbm9kZCIsICJsaW5lQ2FwIjogInJvdW5kIiwgImxpbmVKb2luIjogInJvdW5kIiwgIm9wYWNpdHkiOiAxLjAsICJyYWRpdXMiOiA1MDAsICJzdHJva2UiOiB0cnVlLCAid2VpZ2h0IjogM30KICAgICAgICAgICAgKS5hZGRUbyhtYXBfNGE2N2U5YTY0YzUyNDI4ZjlmMDg4M2ZhZGMwM2RiMTkpOwogICAgICAgIAo8L3NjcmlwdD4= onload=\"this.contentDocument.open();this.contentDocument.write(atob(this.getAttribute('data-html')));this.contentDocument.close();\" allowfullscreen webkitallowfullscreen mozallowfullscreen></iframe></div></div>"
      ],
      "text/plain": [
       "<folium.folium.Map at 0x222d9394048>"
      ]
     },
     "metadata": {},
     "output_type": "display_data"
    },
    {
     "data": {
      "text/plain": [
       "<Figure size 432x288 with 0 Axes>"
      ]
     },
     "metadata": {},
     "output_type": "display_data"
    }
   ],
   "source": [
    "cambridge_latin_map = folium.Map(location=[city_latitude, city_longitude], zoom_start=14)\n",
    "\n",
    "addLatin_toMap(cambridge_latin_map)\n",
    "addMarkers(cambridge_latin_map)\n",
    "plt.savefig('District_LatinAmerican_Map.pdf', bbox_inches='tight')  "
   ]
  },
  {
   "cell_type": "markdown",
   "metadata": {},
   "source": [
    "From the map we can see that the two existing Latin American restaurants are located in **Petersfield** and **Romsey**.\n",
    "We will therfore exclude these two districts when choosing the location. \n",
    "But what areas are similar to these two?\n",
    "Let us make a cluster of similar areas, we will include **Entertainment** venues in the cluster calculations.\n",
    "\n",
    "But from looking at this map, we would like to find a location that is **similar** to **Petersfield** and **Romsey** as these have Latin American restaurants that are competing in an enviroment where they are the outliers."
   ]
  },
  {
   "cell_type": "markdown",
   "metadata": {},
   "source": [
    "<div style=\"background-color:#769fcd;color:#FFFFFF;padding:15px;\">\n",
    "<h2>3. Methodology</h2><a name=\"methods\"></a>\n",
    "</div>"
   ]
  },
  {
   "cell_type": "markdown",
   "metadata": {},
   "source": [
    "Now that we have gathered the data from scraping, and from our geojson file we can start to analyise the results.<br>Data gathered in the **Data</a>** section includes:\n",
    "* Districts\n",
    "* Centroid locations for Districts\n",
    "* DataFrame for **Restaurants** within each District within **500m** of centroid\n",
    "* DataFrame for **Entertainment** within each District within **500m** of centroid\n",
    "* DataFrame for **Latin American** restaurants within each District within **500m** of centroid\n",
    "\n",
    "Our **goal** is to find the districts where there are **no Latin American restaurants** and a **populous nightlife**.\n",
    "\n",
    "In the **analysis** section we will use the following methods:\n",
    "* **Clustering** using **K-Means** our districts using the data we have for the restaurants and entertainment venues within the sample that we have taken for each district. The samples consists of all restaurants and entertainment within a 500 metre radius of the centroid location.\n",
    "* **Scatter Plot** using to show the correlation between restaurant and entertainment venues.\n",
    "* **Show** that Cambridge fits into the same popular restaurant types as the rest of the UK.\n",
    "* **DBSCAN Clustering** will be used to find clusters in entertainment venues within a district.\n",
    "\n",
    "The final product of the research will be to provide an address for each district which is similar to the cluster of **Petersfield** and **Romsey** where there are already successful **Latin American** restaurants. The address will be located in the centre of the entertainment venues and not within **1km** of a competing **Latin American** restaurant."
   ]
  },
  {
   "cell_type": "markdown",
   "metadata": {},
   "source": [
    "[Back to Contents](#contents)"
   ]
  },
  {
   "cell_type": "markdown",
   "metadata": {},
   "source": [
    "<div style=\"background-color:#769fcd;color:#FFFFFF;padding:15px;\">\n",
    "<h2>4. Analysis</h2><a name=\"analysis\"></a>\n",
    "</div>"
   ]
  },
  {
   "cell_type": "markdown",
   "metadata": {},
   "source": [
    "<p>In this section we hope to use our analysis to show suitable locations for the **Peruvian Restaurant**.</p>\n",
    "<p>To start we will confirm that **Cambridge** does follow the normal trend in most popular restaurants compared to the **UK**.</p>\n",
    "<p>Then we will cluster the districts into similar clusters using **K-Means**.<p>\n",
    "<p>After that we will see if there is a **correlation** between the frequency of restaurants and entertainment venues.</p>\n",
    "<p>Following on from that using **DBSCAN** we will find the cluster with the densest entertainment venues within the 3 districts that we have chosen to look into. This will be used later to find the ideal location for the restaurant. The clustering will use the **Latitude and Longitude** of the entertainment venues<p>\n",
    "<p>Lastly the final anaylsis will be to find the ideal locations, we will get the mean of the most popular clusters from the **DBSCAN** step. This will get us a centralised latitude and longitude for the cluster, then we will need to confirm that this is not within a **1km** radius of any other **Latin American** restaurant.</p>"
   ]
  },
  {
   "cell_type": "markdown",
   "metadata": {},
   "source": [
    "### Does Cambridge follow the same food popularity that the rest of the UK does?"
   ]
  },
  {
   "cell_type": "markdown",
   "metadata": {},
   "source": [
    "As of current statistics these are the **5** most popular restaurant cuisines in the **UK**\n",
    "<ol>\n",
    "    <li>Pub Food</li>\n",
    "    <li>English</li>\n",
    "    <li>Chinese</li>\n",
    "    <li>Indian</li>\n",
    "    <li>Italian</li>\n",
    "</ol>\n",
    "\n",
    "> <small>Appendix: 1.1</small>\n",
    "> <a href=\"https://beambox.com/townsquare/what-are-the-most-popular-types-of-restaurants-in-the-uk\">What are the most popular types of restaurants in the UK</a><br>\n",
    "> <cite>Beambox.com</cite>"
   ]
  },
  {
   "cell_type": "code",
   "execution_count": 32,
   "metadata": {},
   "outputs": [
    {
     "name": "stdout",
     "output_type": "stream",
     "text": [
      "There are 50 uniques restaurant categories in Cambridge.\n"
     ]
    }
   ],
   "source": [
    "print('There are {} uniques restaurant categories in Cambridge.'.format(len(district_venues_update['Venue Category'].unique())))"
   ]
  },
  {
   "cell_type": "code",
   "execution_count": 33,
   "metadata": {},
   "outputs": [
    {
     "data": {
      "text/html": [
       "<div>\n",
       "<style scoped>\n",
       "    .dataframe tbody tr th:only-of-type {\n",
       "        vertical-align: middle;\n",
       "    }\n",
       "\n",
       "    .dataframe tbody tr th {\n",
       "        vertical-align: top;\n",
       "    }\n",
       "\n",
       "    .dataframe thead th {\n",
       "        text-align: right;\n",
       "    }\n",
       "</style>\n",
       "<table border=\"1\" class=\"dataframe\">\n",
       "  <thead>\n",
       "    <tr style=\"text-align: right;\">\n",
       "      <th></th>\n",
       "      <th>Category</th>\n",
       "      <th>Count</th>\n",
       "    </tr>\n",
       "  </thead>\n",
       "  <tbody>\n",
       "    <tr>\n",
       "      <th>11</th>\n",
       "      <td>Café</td>\n",
       "      <td>39</td>\n",
       "    </tr>\n",
       "    <tr>\n",
       "      <th>27</th>\n",
       "      <td>Indian Restaurant</td>\n",
       "      <td>21</td>\n",
       "    </tr>\n",
       "    <tr>\n",
       "      <th>13</th>\n",
       "      <td>Chinese Restaurant</td>\n",
       "      <td>20</td>\n",
       "    </tr>\n",
       "    <tr>\n",
       "      <th>14</th>\n",
       "      <td>Coffee Shop</td>\n",
       "      <td>19</td>\n",
       "    </tr>\n",
       "    <tr>\n",
       "      <th>5</th>\n",
       "      <td>Bakery</td>\n",
       "      <td>13</td>\n",
       "    </tr>\n",
       "    <tr>\n",
       "      <th>20</th>\n",
       "      <td>Fast Food Restaurant</td>\n",
       "      <td>9</td>\n",
       "    </tr>\n",
       "    <tr>\n",
       "      <th>36</th>\n",
       "      <td>Restaurant</td>\n",
       "      <td>7</td>\n",
       "    </tr>\n",
       "    <tr>\n",
       "      <th>34</th>\n",
       "      <td>Pizza Place</td>\n",
       "      <td>7</td>\n",
       "    </tr>\n",
       "    <tr>\n",
       "      <th>25</th>\n",
       "      <td>Gastropub</td>\n",
       "      <td>7</td>\n",
       "    </tr>\n",
       "    <tr>\n",
       "      <th>42</th>\n",
       "      <td>Sushi Restaurant</td>\n",
       "      <td>7</td>\n",
       "    </tr>\n",
       "  </tbody>\n",
       "</table>\n",
       "</div>"
      ],
      "text/plain": [
       "                Category  Count\n",
       "11                  Café     39\n",
       "27     Indian Restaurant     21\n",
       "13    Chinese Restaurant     20\n",
       "14           Coffee Shop     19\n",
       "5                 Bakery     13\n",
       "20  Fast Food Restaurant      9\n",
       "36            Restaurant      7\n",
       "34           Pizza Place      7\n",
       "25             Gastropub      7\n",
       "42      Sushi Restaurant      7"
      ]
     },
     "execution_count": 33,
     "metadata": {},
     "output_type": "execute_result"
    }
   ],
   "source": [
    "venue_check = district_venues_update.groupby('Venue Category').count()\n",
    "venue_check.drop(columns=['Venue','Venue Latitude','Venue Longitude'],inplace=True)\n",
    "venue_check.reset_index(inplace=True)\n",
    "venue_check.columns = ['Category','Count']\n",
    "venue_check.sort_values(by='Count', ascending=False).head(10)"
   ]
  },
  {
   "cell_type": "markdown",
   "metadata": {},
   "source": [
    "Looking at the results of the above table, if we were to remove the following from the list:\n",
    "* Café\n",
    "* Coffee Shop\n",
    "* Bakery\n",
    "As the above list are technically not restaurants, we can remove these.\n",
    "\n",
    "We can see that the the order of the **UK top 5** in Cambridge would be:\n",
    "1. Indian\n",
    "2. Chinese\n",
    "3. Pizza\n",
    "4. Gastropub\n",
    "\n",
    "Using Foursquare and adding the category for food has not included pubs into the equation. Most pubs serve some form of food and are listed as the number one in the UK.\n",
    "\n",
    "Lets add the entertainment and night spots dataframe to the venue dataframe and recalculate."
   ]
  },
  {
   "cell_type": "code",
   "execution_count": 34,
   "metadata": {},
   "outputs": [
    {
     "data": {
      "text/html": [
       "<div>\n",
       "<style scoped>\n",
       "    .dataframe tbody tr th:only-of-type {\n",
       "        vertical-align: middle;\n",
       "    }\n",
       "\n",
       "    .dataframe tbody tr th {\n",
       "        vertical-align: top;\n",
       "    }\n",
       "\n",
       "    .dataframe thead th {\n",
       "        text-align: right;\n",
       "    }\n",
       "</style>\n",
       "<table border=\"1\" class=\"dataframe\">\n",
       "  <thead>\n",
       "    <tr style=\"text-align: right;\">\n",
       "      <th></th>\n",
       "      <th>Category</th>\n",
       "      <th>Count</th>\n",
       "    </tr>\n",
       "  </thead>\n",
       "  <tbody>\n",
       "    <tr>\n",
       "      <th>60</th>\n",
       "      <td>Pub</td>\n",
       "      <td>60</td>\n",
       "    </tr>\n",
       "    <tr>\n",
       "      <th>17</th>\n",
       "      <td>Café</td>\n",
       "      <td>39</td>\n",
       "    </tr>\n",
       "    <tr>\n",
       "      <th>43</th>\n",
       "      <td>Indian Restaurant</td>\n",
       "      <td>21</td>\n",
       "    </tr>\n",
       "    <tr>\n",
       "      <th>19</th>\n",
       "      <td>Chinese Restaurant</td>\n",
       "      <td>21</td>\n",
       "    </tr>\n",
       "    <tr>\n",
       "      <th>21</th>\n",
       "      <td>Coffee Shop</td>\n",
       "      <td>19</td>\n",
       "    </tr>\n",
       "    <tr>\n",
       "      <th>8</th>\n",
       "      <td>Bar</td>\n",
       "      <td>18</td>\n",
       "    </tr>\n",
       "    <tr>\n",
       "      <th>3</th>\n",
       "      <td>Art Gallery</td>\n",
       "      <td>15</td>\n",
       "    </tr>\n",
       "    <tr>\n",
       "      <th>7</th>\n",
       "      <td>Bakery</td>\n",
       "      <td>13</td>\n",
       "    </tr>\n",
       "    <tr>\n",
       "      <th>31</th>\n",
       "      <td>Fast Food Restaurant</td>\n",
       "      <td>9</td>\n",
       "    </tr>\n",
       "    <tr>\n",
       "      <th>53</th>\n",
       "      <td>Nightclub</td>\n",
       "      <td>8</td>\n",
       "    </tr>\n",
       "    <tr>\n",
       "      <th>61</th>\n",
       "      <td>Public Art</td>\n",
       "      <td>7</td>\n",
       "    </tr>\n",
       "    <tr>\n",
       "      <th>75</th>\n",
       "      <td>Sushi Restaurant</td>\n",
       "      <td>7</td>\n",
       "    </tr>\n",
       "    <tr>\n",
       "      <th>38</th>\n",
       "      <td>General Entertainment</td>\n",
       "      <td>7</td>\n",
       "    </tr>\n",
       "    <tr>\n",
       "      <th>36</th>\n",
       "      <td>Gastropub</td>\n",
       "      <td>7</td>\n",
       "    </tr>\n",
       "    <tr>\n",
       "      <th>58</th>\n",
       "      <td>Pizza Place</td>\n",
       "      <td>7</td>\n",
       "    </tr>\n",
       "    <tr>\n",
       "      <th>62</th>\n",
       "      <td>Restaurant</td>\n",
       "      <td>7</td>\n",
       "    </tr>\n",
       "    <tr>\n",
       "      <th>34</th>\n",
       "      <td>Food Truck</td>\n",
       "      <td>6</td>\n",
       "    </tr>\n",
       "    <tr>\n",
       "      <th>44</th>\n",
       "      <td>Italian Restaurant</td>\n",
       "      <td>6</td>\n",
       "    </tr>\n",
       "    <tr>\n",
       "      <th>64</th>\n",
       "      <td>Sandwich Place</td>\n",
       "      <td>5</td>\n",
       "    </tr>\n",
       "    <tr>\n",
       "      <th>32</th>\n",
       "      <td>Fish &amp; Chips Shop</td>\n",
       "      <td>5</td>\n",
       "    </tr>\n",
       "  </tbody>\n",
       "</table>\n",
       "</div>"
      ],
      "text/plain": [
       "                 Category  Count\n",
       "60                    Pub     60\n",
       "17                   Café     39\n",
       "43      Indian Restaurant     21\n",
       "19     Chinese Restaurant     21\n",
       "21            Coffee Shop     19\n",
       "8                     Bar     18\n",
       "3             Art Gallery     15\n",
       "7                  Bakery     13\n",
       "31   Fast Food Restaurant      9\n",
       "53              Nightclub      8\n",
       "61             Public Art      7\n",
       "75       Sushi Restaurant      7\n",
       "38  General Entertainment      7\n",
       "36              Gastropub      7\n",
       "58            Pizza Place      7\n",
       "62             Restaurant      7\n",
       "34             Food Truck      6\n",
       "44     Italian Restaurant      6\n",
       "64         Sandwich Place      5\n",
       "32      Fish & Chips Shop      5"
      ]
     },
     "execution_count": 34,
     "metadata": {},
     "output_type": "execute_result"
    }
   ],
   "source": [
    "# Add Venues and Entertainment\n",
    "frames = [district_venues_update, district_entertain_update]\n",
    "df_Combine = pd.concat(frames)\n",
    "\n",
    "venue_check = df_Combine.groupby('Venue Category').count()\n",
    "venue_check.drop(columns=['Venue','Venue Latitude','Venue Longitude'],inplace=True)\n",
    "venue_check.reset_index(inplace=True)\n",
    "venue_check.columns = ['Category','Count']\n",
    "venue_check.sort_values(by='Count', ascending=False).head(20)"
   ]
  },
  {
   "cell_type": "markdown",
   "metadata": {},
   "source": [
    "We have taken the top 20 items in this view. As there are all items now, including entertainment it is useful to see where Pizza and Gastropub have fallen.\n",
    "\n",
    "If we combine names of restaurants that are similar (e.g. Italian Restaurant -> Pizza, Fish & Chips Shop -> English) then we will change the order of the **UK top 5** in Cambridge to the following:\n",
    "1. Pub/Gastropub (67)\n",
    "2. Chinese & Indian (21 each)\n",
    "3. Pizza/Italian (13)\n",
    "4. Fish & Chips Shop(5)\n",
    "\n",
    "Overall we can agree that the **UK top 5** list of restaurants does mostly apply to Cambridge."
   ]
  },
  {
   "cell_type": "markdown",
   "metadata": {},
   "source": [
    "#### One-Hot-Encoding, using Restaurants and Entertainment Venues\n",
    "\n",
    "To start we will use One-Hot-Encoding, so that we can assign a numerical value to each category.\n",
    "We will use the df_Combine which we made earlier to groupby in order to obtain the most frequent venues."
   ]
  },
  {
   "cell_type": "code",
   "execution_count": 35,
   "metadata": {},
   "outputs": [],
   "source": [
    "# one hot encoding\n",
    "cambridge_onehot = pd.get_dummies(df_Combine[['Venue Category']], prefix=\"\", prefix_sep=\"\")\n",
    "\n",
    "# add District column back to dataframe\n",
    "cambridge_onehot['District'] = df_Combine['District'] \n",
    "\n",
    "# move District column to the first column\n",
    "fixed_columns = [cambridge_onehot.columns[-1]] + list(cambridge_onehot.columns[:-1])\n",
    "cambridge_onehot = cambridge_onehot[fixed_columns]"
   ]
  },
  {
   "cell_type": "markdown",
   "metadata": {},
   "source": [
    "**Group by District**"
   ]
  },
  {
   "cell_type": "code",
   "execution_count": 36,
   "metadata": {
    "scrolled": true
   },
   "outputs": [
    {
     "name": "stdout",
     "output_type": "stream",
     "text": [
      "Shape:  (14, 88)\n"
     ]
    },
    {
     "data": {
      "text/html": [
       "<div>\n",
       "<style scoped>\n",
       "    .dataframe tbody tr th:only-of-type {\n",
       "        vertical-align: middle;\n",
       "    }\n",
       "\n",
       "    .dataframe tbody tr th {\n",
       "        vertical-align: top;\n",
       "    }\n",
       "\n",
       "    .dataframe thead th {\n",
       "        text-align: right;\n",
       "    }\n",
       "</style>\n",
       "<table border=\"1\" class=\"dataframe\">\n",
       "  <thead>\n",
       "    <tr style=\"text-align: right;\">\n",
       "      <th></th>\n",
       "      <th>District</th>\n",
       "      <th>African Restaurant</th>\n",
       "      <th>Arcade</th>\n",
       "      <th>Arepa Restaurant</th>\n",
       "      <th>Art Gallery</th>\n",
       "      <th>Arts &amp; Entertainment</th>\n",
       "      <th>Asian Restaurant</th>\n",
       "      <th>BBQ Joint</th>\n",
       "      <th>Bakery</th>\n",
       "      <th>Bar</th>\n",
       "      <th>...</th>\n",
       "      <th>Thai Restaurant</th>\n",
       "      <th>Theater</th>\n",
       "      <th>Theme Restaurant</th>\n",
       "      <th>Tour Provider</th>\n",
       "      <th>Turkish Restaurant</th>\n",
       "      <th>Vegetarian / Vegan Restaurant</th>\n",
       "      <th>Vietnamese Restaurant</th>\n",
       "      <th>Water Park</th>\n",
       "      <th>Whisky Bar</th>\n",
       "      <th>Wings Joint</th>\n",
       "    </tr>\n",
       "  </thead>\n",
       "  <tbody>\n",
       "    <tr>\n",
       "      <th>0</th>\n",
       "      <td>Abbey</td>\n",
       "      <td>0.0</td>\n",
       "      <td>0.0</td>\n",
       "      <td>0.0</td>\n",
       "      <td>0.00</td>\n",
       "      <td>0.0</td>\n",
       "      <td>0.00</td>\n",
       "      <td>0.0</td>\n",
       "      <td>0.000000</td>\n",
       "      <td>0.111111</td>\n",
       "      <td>...</td>\n",
       "      <td>0.0</td>\n",
       "      <td>0.0</td>\n",
       "      <td>0.0</td>\n",
       "      <td>0.0</td>\n",
       "      <td>0.0</td>\n",
       "      <td>0.0</td>\n",
       "      <td>0.0</td>\n",
       "      <td>0.111111</td>\n",
       "      <td>0.0</td>\n",
       "      <td>0.0</td>\n",
       "    </tr>\n",
       "    <tr>\n",
       "      <th>1</th>\n",
       "      <td>Arbury</td>\n",
       "      <td>0.0</td>\n",
       "      <td>0.0</td>\n",
       "      <td>0.0</td>\n",
       "      <td>0.05</td>\n",
       "      <td>0.0</td>\n",
       "      <td>0.05</td>\n",
       "      <td>0.0</td>\n",
       "      <td>0.000000</td>\n",
       "      <td>0.000000</td>\n",
       "      <td>...</td>\n",
       "      <td>0.0</td>\n",
       "      <td>0.0</td>\n",
       "      <td>0.0</td>\n",
       "      <td>0.0</td>\n",
       "      <td>0.0</td>\n",
       "      <td>0.0</td>\n",
       "      <td>0.0</td>\n",
       "      <td>0.000000</td>\n",
       "      <td>0.0</td>\n",
       "      <td>0.0</td>\n",
       "    </tr>\n",
       "    <tr>\n",
       "      <th>2</th>\n",
       "      <td>Castle</td>\n",
       "      <td>0.0</td>\n",
       "      <td>0.0</td>\n",
       "      <td>0.0</td>\n",
       "      <td>0.15</td>\n",
       "      <td>0.0</td>\n",
       "      <td>0.00</td>\n",
       "      <td>0.0</td>\n",
       "      <td>0.000000</td>\n",
       "      <td>0.150000</td>\n",
       "      <td>...</td>\n",
       "      <td>0.0</td>\n",
       "      <td>0.0</td>\n",
       "      <td>0.0</td>\n",
       "      <td>0.0</td>\n",
       "      <td>0.0</td>\n",
       "      <td>0.0</td>\n",
       "      <td>0.0</td>\n",
       "      <td>0.000000</td>\n",
       "      <td>0.0</td>\n",
       "      <td>0.0</td>\n",
       "    </tr>\n",
       "    <tr>\n",
       "      <th>3</th>\n",
       "      <td>Cherry Hinton</td>\n",
       "      <td>0.0</td>\n",
       "      <td>0.0</td>\n",
       "      <td>0.0</td>\n",
       "      <td>0.00</td>\n",
       "      <td>0.0</td>\n",
       "      <td>0.00</td>\n",
       "      <td>0.0</td>\n",
       "      <td>0.111111</td>\n",
       "      <td>0.000000</td>\n",
       "      <td>...</td>\n",
       "      <td>0.0</td>\n",
       "      <td>0.0</td>\n",
       "      <td>0.0</td>\n",
       "      <td>0.0</td>\n",
       "      <td>0.0</td>\n",
       "      <td>0.0</td>\n",
       "      <td>0.0</td>\n",
       "      <td>0.000000</td>\n",
       "      <td>0.0</td>\n",
       "      <td>0.0</td>\n",
       "    </tr>\n",
       "    <tr>\n",
       "      <th>4</th>\n",
       "      <td>Coleridge</td>\n",
       "      <td>0.0</td>\n",
       "      <td>0.0</td>\n",
       "      <td>0.0</td>\n",
       "      <td>0.00</td>\n",
       "      <td>0.0</td>\n",
       "      <td>0.00</td>\n",
       "      <td>0.0</td>\n",
       "      <td>0.000000</td>\n",
       "      <td>0.000000</td>\n",
       "      <td>...</td>\n",
       "      <td>0.0</td>\n",
       "      <td>0.0</td>\n",
       "      <td>0.0</td>\n",
       "      <td>0.0</td>\n",
       "      <td>0.0</td>\n",
       "      <td>0.0</td>\n",
       "      <td>0.0</td>\n",
       "      <td>0.000000</td>\n",
       "      <td>0.0</td>\n",
       "      <td>0.0</td>\n",
       "    </tr>\n",
       "  </tbody>\n",
       "</table>\n",
       "<p>5 rows × 88 columns</p>\n",
       "</div>"
      ],
      "text/plain": [
       "        District  African Restaurant  Arcade  Arepa Restaurant  Art Gallery  \\\n",
       "0          Abbey                 0.0     0.0               0.0         0.00   \n",
       "1         Arbury                 0.0     0.0               0.0         0.05   \n",
       "2         Castle                 0.0     0.0               0.0         0.15   \n",
       "3  Cherry Hinton                 0.0     0.0               0.0         0.00   \n",
       "4      Coleridge                 0.0     0.0               0.0         0.00   \n",
       "\n",
       "   Arts & Entertainment  Asian Restaurant  BBQ Joint    Bakery       Bar  \\\n",
       "0                   0.0              0.00        0.0  0.000000  0.111111   \n",
       "1                   0.0              0.05        0.0  0.000000  0.000000   \n",
       "2                   0.0              0.00        0.0  0.000000  0.150000   \n",
       "3                   0.0              0.00        0.0  0.111111  0.000000   \n",
       "4                   0.0              0.00        0.0  0.000000  0.000000   \n",
       "\n",
       "      ...       Thai Restaurant  Theater  Theme Restaurant  Tour Provider  \\\n",
       "0     ...                   0.0      0.0               0.0            0.0   \n",
       "1     ...                   0.0      0.0               0.0            0.0   \n",
       "2     ...                   0.0      0.0               0.0            0.0   \n",
       "3     ...                   0.0      0.0               0.0            0.0   \n",
       "4     ...                   0.0      0.0               0.0            0.0   \n",
       "\n",
       "   Turkish Restaurant  Vegetarian / Vegan Restaurant  Vietnamese Restaurant  \\\n",
       "0                 0.0                            0.0                    0.0   \n",
       "1                 0.0                            0.0                    0.0   \n",
       "2                 0.0                            0.0                    0.0   \n",
       "3                 0.0                            0.0                    0.0   \n",
       "4                 0.0                            0.0                    0.0   \n",
       "\n",
       "   Water Park  Whisky Bar  Wings Joint  \n",
       "0    0.111111         0.0          0.0  \n",
       "1    0.000000         0.0          0.0  \n",
       "2    0.000000         0.0          0.0  \n",
       "3    0.000000         0.0          0.0  \n",
       "4    0.000000         0.0          0.0  \n",
       "\n",
       "[5 rows x 88 columns]"
      ]
     },
     "execution_count": 36,
     "metadata": {},
     "output_type": "execute_result"
    }
   ],
   "source": [
    "district_grouped = cambridge_onehot.groupby('District').mean().reset_index()\n",
    "print('Shape: ',district_grouped.shape)\n",
    "district_grouped.head()"
   ]
  },
  {
   "cell_type": "markdown",
   "metadata": {},
   "source": [
    "##### FUNCTION - Most Common Venues"
   ]
  },
  {
   "cell_type": "code",
   "execution_count": 37,
   "metadata": {},
   "outputs": [],
   "source": [
    "def return_most_common_venues(row, num_top_venues):\n",
    "    row_categories = row.iloc[1:]\n",
    "    row_categories_sorted = row_categories.sort_values(ascending=False)\n",
    "    \n",
    "    return row_categories_sorted.index.values[0:num_top_venues]"
   ]
  },
  {
   "cell_type": "markdown",
   "metadata": {},
   "source": [
    "##### Create a DataFrame to show the top 10 venues in each district"
   ]
  },
  {
   "cell_type": "code",
   "execution_count": 38,
   "metadata": {},
   "outputs": [
    {
     "data": {
      "text/html": [
       "<div>\n",
       "<style scoped>\n",
       "    .dataframe tbody tr th:only-of-type {\n",
       "        vertical-align: middle;\n",
       "    }\n",
       "\n",
       "    .dataframe tbody tr th {\n",
       "        vertical-align: top;\n",
       "    }\n",
       "\n",
       "    .dataframe thead th {\n",
       "        text-align: right;\n",
       "    }\n",
       "</style>\n",
       "<table border=\"1\" class=\"dataframe\">\n",
       "  <thead>\n",
       "    <tr style=\"text-align: right;\">\n",
       "      <th></th>\n",
       "      <th>District</th>\n",
       "      <th>1st Most Common Venue</th>\n",
       "      <th>2nd Most Common Venue</th>\n",
       "      <th>3rd Most Common Venue</th>\n",
       "      <th>4th Most Common Venue</th>\n",
       "      <th>5th Most Common Venue</th>\n",
       "      <th>6th Most Common Venue</th>\n",
       "      <th>7th Most Common Venue</th>\n",
       "      <th>8th Most Common Venue</th>\n",
       "      <th>9th Most Common Venue</th>\n",
       "      <th>10th Most Common Venue</th>\n",
       "    </tr>\n",
       "  </thead>\n",
       "  <tbody>\n",
       "    <tr>\n",
       "      <th>0</th>\n",
       "      <td>Abbey</td>\n",
       "      <td>Indian Restaurant</td>\n",
       "      <td>Bar</td>\n",
       "      <td>Gastropub</td>\n",
       "      <td>Fish &amp; Chips Shop</td>\n",
       "      <td>Fast Food Restaurant</td>\n",
       "      <td>Pizza Place</td>\n",
       "      <td>Soccer Stadium</td>\n",
       "      <td>Chinese Restaurant</td>\n",
       "      <td>Water Park</td>\n",
       "      <td>BBQ Joint</td>\n",
       "    </tr>\n",
       "    <tr>\n",
       "      <th>1</th>\n",
       "      <td>Arbury</td>\n",
       "      <td>Indian Restaurant</td>\n",
       "      <td>Pub</td>\n",
       "      <td>Speakeasy</td>\n",
       "      <td>Gastropub</td>\n",
       "      <td>Jazz Club</td>\n",
       "      <td>Nightclub</td>\n",
       "      <td>Dance Studio</td>\n",
       "      <td>Pizza Place</td>\n",
       "      <td>Sandwich Place</td>\n",
       "      <td>Chinese Restaurant</td>\n",
       "    </tr>\n",
       "    <tr>\n",
       "      <th>2</th>\n",
       "      <td>Castle</td>\n",
       "      <td>Public Art</td>\n",
       "      <td>Bar</td>\n",
       "      <td>Art Gallery</td>\n",
       "      <td>Pizza Place</td>\n",
       "      <td>Cricket Ground</td>\n",
       "      <td>Café</td>\n",
       "      <td>Speakeasy</td>\n",
       "      <td>Nightclub</td>\n",
       "      <td>Pub</td>\n",
       "      <td>Indian Restaurant</td>\n",
       "    </tr>\n",
       "    <tr>\n",
       "      <th>3</th>\n",
       "      <td>Cherry Hinton</td>\n",
       "      <td>Pub</td>\n",
       "      <td>Chinese Restaurant</td>\n",
       "      <td>Indian Restaurant</td>\n",
       "      <td>Gastropub</td>\n",
       "      <td>Pizza Place</td>\n",
       "      <td>Bakery</td>\n",
       "      <td>Restaurant</td>\n",
       "      <td>Dive Bar</td>\n",
       "      <td>Cricket Ground</td>\n",
       "      <td>Dance Studio</td>\n",
       "    </tr>\n",
       "    <tr>\n",
       "      <th>4</th>\n",
       "      <td>Coleridge</td>\n",
       "      <td>Chinese Restaurant</td>\n",
       "      <td>Pub</td>\n",
       "      <td>Indian Restaurant</td>\n",
       "      <td>Restaurant</td>\n",
       "      <td>Café</td>\n",
       "      <td>Pizza Place</td>\n",
       "      <td>Deli / Bodega</td>\n",
       "      <td>North Indian Restaurant</td>\n",
       "      <td>Comedy Club</td>\n",
       "      <td>Fish &amp; Chips Shop</td>\n",
       "    </tr>\n",
       "    <tr>\n",
       "      <th>5</th>\n",
       "      <td>East Chesterton</td>\n",
       "      <td>Indian Restaurant</td>\n",
       "      <td>Pub</td>\n",
       "      <td>Music Venue</td>\n",
       "      <td>Fast Food Restaurant</td>\n",
       "      <td>Beer Garden</td>\n",
       "      <td>Gastropub</td>\n",
       "      <td>Dive Bar</td>\n",
       "      <td>Cricket Ground</td>\n",
       "      <td>Historic Site</td>\n",
       "      <td>Dance Studio</td>\n",
       "    </tr>\n",
       "    <tr>\n",
       "      <th>6</th>\n",
       "      <td>Kings Hedges</td>\n",
       "      <td>Pub</td>\n",
       "      <td>Café</td>\n",
       "      <td>Asian Restaurant</td>\n",
       "      <td>Chinese Restaurant</td>\n",
       "      <td>Burger Joint</td>\n",
       "      <td>Music Venue</td>\n",
       "      <td>Arcade</td>\n",
       "      <td>Historic Site</td>\n",
       "      <td>Gay Bar</td>\n",
       "      <td>Gastropub</td>\n",
       "    </tr>\n",
       "    <tr>\n",
       "      <th>7</th>\n",
       "      <td>Market</td>\n",
       "      <td>Pub</td>\n",
       "      <td>Bar</td>\n",
       "      <td>Coffee Shop</td>\n",
       "      <td>Café</td>\n",
       "      <td>Art Gallery</td>\n",
       "      <td>Sushi Restaurant</td>\n",
       "      <td>Theater</td>\n",
       "      <td>Bakery</td>\n",
       "      <td>Restaurant</td>\n",
       "      <td>Breakfast Spot</td>\n",
       "    </tr>\n",
       "    <tr>\n",
       "      <th>8</th>\n",
       "      <td>Newnham</td>\n",
       "      <td>Pub</td>\n",
       "      <td>Café</td>\n",
       "      <td>Bar</td>\n",
       "      <td>Thai Restaurant</td>\n",
       "      <td>Restaurant</td>\n",
       "      <td>History Museum</td>\n",
       "      <td>Outdoor Sculpture</td>\n",
       "      <td>Butcher</td>\n",
       "      <td>Fish &amp; Chips Shop</td>\n",
       "      <td>Indian Restaurant</td>\n",
       "    </tr>\n",
       "    <tr>\n",
       "      <th>9</th>\n",
       "      <td>Petersfield</td>\n",
       "      <td>Pub</td>\n",
       "      <td>Café</td>\n",
       "      <td>Coffee Shop</td>\n",
       "      <td>Indian Restaurant</td>\n",
       "      <td>Bakery</td>\n",
       "      <td>Art Gallery</td>\n",
       "      <td>Chinese Restaurant</td>\n",
       "      <td>Public Art</td>\n",
       "      <td>Beer Garden</td>\n",
       "      <td>Fast Food Restaurant</td>\n",
       "    </tr>\n",
       "    <tr>\n",
       "      <th>10</th>\n",
       "      <td>Queen Ediths</td>\n",
       "      <td>Coffee Shop</td>\n",
       "      <td>Pub</td>\n",
       "      <td>Fast Food Restaurant</td>\n",
       "      <td>Historic Site</td>\n",
       "      <td>Dive Bar</td>\n",
       "      <td>Creperie</td>\n",
       "      <td>Cricket Ground</td>\n",
       "      <td>History Museum</td>\n",
       "      <td>Dance Studio</td>\n",
       "      <td>Deli / Bodega</td>\n",
       "    </tr>\n",
       "    <tr>\n",
       "      <th>11</th>\n",
       "      <td>Romsey</td>\n",
       "      <td>Café</td>\n",
       "      <td>Pub</td>\n",
       "      <td>Indian Restaurant</td>\n",
       "      <td>Arcade</td>\n",
       "      <td>Art Gallery</td>\n",
       "      <td>Sandwich Place</td>\n",
       "      <td>Deli / Bodega</td>\n",
       "      <td>Pool Hall</td>\n",
       "      <td>Gastropub</td>\n",
       "      <td>Seafood Restaurant</td>\n",
       "    </tr>\n",
       "    <tr>\n",
       "      <th>12</th>\n",
       "      <td>Trumpington</td>\n",
       "      <td>Pub</td>\n",
       "      <td>Chinese Restaurant</td>\n",
       "      <td>Fish &amp; Chips Shop</td>\n",
       "      <td>Café</td>\n",
       "      <td>Food Truck</td>\n",
       "      <td>Bar</td>\n",
       "      <td>Fast Food Restaurant</td>\n",
       "      <td>English Restaurant</td>\n",
       "      <td>Dance Studio</td>\n",
       "      <td>Deli / Bodega</td>\n",
       "    </tr>\n",
       "    <tr>\n",
       "      <th>13</th>\n",
       "      <td>West Chesterton</td>\n",
       "      <td>Chinese Restaurant</td>\n",
       "      <td>Pub</td>\n",
       "      <td>Café</td>\n",
       "      <td>Indian Restaurant</td>\n",
       "      <td>Nightclub</td>\n",
       "      <td>Coffee Shop</td>\n",
       "      <td>Bakery</td>\n",
       "      <td>General Entertainment</td>\n",
       "      <td>Sri Lankan Restaurant</td>\n",
       "      <td>Gastropub</td>\n",
       "    </tr>\n",
       "  </tbody>\n",
       "</table>\n",
       "</div>"
      ],
      "text/plain": [
       "           District 1st Most Common Venue 2nd Most Common Venue  \\\n",
       "0             Abbey     Indian Restaurant                   Bar   \n",
       "1            Arbury     Indian Restaurant                   Pub   \n",
       "2            Castle            Public Art                   Bar   \n",
       "3     Cherry Hinton                   Pub    Chinese Restaurant   \n",
       "4         Coleridge    Chinese Restaurant                   Pub   \n",
       "5   East Chesterton     Indian Restaurant                   Pub   \n",
       "6      Kings Hedges                   Pub                  Café   \n",
       "7            Market                   Pub                   Bar   \n",
       "8           Newnham                   Pub                  Café   \n",
       "9       Petersfield                   Pub                  Café   \n",
       "10     Queen Ediths           Coffee Shop                   Pub   \n",
       "11           Romsey                  Café                   Pub   \n",
       "12      Trumpington                   Pub    Chinese Restaurant   \n",
       "13  West Chesterton    Chinese Restaurant                   Pub   \n",
       "\n",
       "   3rd Most Common Venue 4th Most Common Venue 5th Most Common Venue  \\\n",
       "0              Gastropub     Fish & Chips Shop  Fast Food Restaurant   \n",
       "1              Speakeasy             Gastropub             Jazz Club   \n",
       "2            Art Gallery           Pizza Place        Cricket Ground   \n",
       "3      Indian Restaurant             Gastropub           Pizza Place   \n",
       "4      Indian Restaurant            Restaurant                  Café   \n",
       "5            Music Venue  Fast Food Restaurant           Beer Garden   \n",
       "6       Asian Restaurant    Chinese Restaurant          Burger Joint   \n",
       "7            Coffee Shop                  Café           Art Gallery   \n",
       "8                    Bar       Thai Restaurant            Restaurant   \n",
       "9            Coffee Shop     Indian Restaurant                Bakery   \n",
       "10  Fast Food Restaurant         Historic Site              Dive Bar   \n",
       "11     Indian Restaurant                Arcade           Art Gallery   \n",
       "12     Fish & Chips Shop                  Café            Food Truck   \n",
       "13                  Café     Indian Restaurant             Nightclub   \n",
       "\n",
       "   6th Most Common Venue 7th Most Common Venue    8th Most Common Venue  \\\n",
       "0            Pizza Place        Soccer Stadium       Chinese Restaurant   \n",
       "1              Nightclub          Dance Studio              Pizza Place   \n",
       "2                   Café             Speakeasy                Nightclub   \n",
       "3                 Bakery            Restaurant                 Dive Bar   \n",
       "4            Pizza Place         Deli / Bodega  North Indian Restaurant   \n",
       "5              Gastropub              Dive Bar           Cricket Ground   \n",
       "6            Music Venue                Arcade            Historic Site   \n",
       "7       Sushi Restaurant               Theater                   Bakery   \n",
       "8         History Museum     Outdoor Sculpture                  Butcher   \n",
       "9            Art Gallery    Chinese Restaurant               Public Art   \n",
       "10              Creperie        Cricket Ground           History Museum   \n",
       "11        Sandwich Place         Deli / Bodega                Pool Hall   \n",
       "12                   Bar  Fast Food Restaurant       English Restaurant   \n",
       "13           Coffee Shop                Bakery    General Entertainment   \n",
       "\n",
       "    9th Most Common Venue 10th Most Common Venue  \n",
       "0              Water Park              BBQ Joint  \n",
       "1          Sandwich Place     Chinese Restaurant  \n",
       "2                     Pub      Indian Restaurant  \n",
       "3          Cricket Ground           Dance Studio  \n",
       "4             Comedy Club      Fish & Chips Shop  \n",
       "5           Historic Site           Dance Studio  \n",
       "6                 Gay Bar              Gastropub  \n",
       "7              Restaurant         Breakfast Spot  \n",
       "8       Fish & Chips Shop      Indian Restaurant  \n",
       "9             Beer Garden   Fast Food Restaurant  \n",
       "10           Dance Studio          Deli / Bodega  \n",
       "11              Gastropub     Seafood Restaurant  \n",
       "12           Dance Studio          Deli / Bodega  \n",
       "13  Sri Lankan Restaurant              Gastropub  "
      ]
     },
     "execution_count": 38,
     "metadata": {},
     "output_type": "execute_result"
    }
   ],
   "source": [
    "num_top_venues = 10\n",
    "\n",
    "indicators = ['st', 'nd', 'rd']\n",
    "\n",
    "# create columns according to number of top venues\n",
    "columns = ['District']\n",
    "for ind in np.arange(num_top_venues):\n",
    "    try:\n",
    "        columns.append('{}{} Most Common Venue'.format(ind+1, indicators[ind]))\n",
    "    except:\n",
    "        columns.append('{}th Most Common Venue'.format(ind+1))\n",
    "\n",
    "# create a new dataframe\n",
    "district_venues_sorted = pd.DataFrame(columns=columns)\n",
    "district_venues_sorted['District'] = district_grouped['District']\n",
    "\n",
    "for ind in np.arange(district_grouped.shape[0]):\n",
    "    district_venues_sorted.iloc[ind, 1:] = return_most_common_venues(district_grouped.iloc[ind, :], num_top_venues)\n",
    "\n",
    "district_venues_sorted"
   ]
  },
  {
   "cell_type": "markdown",
   "metadata": {},
   "source": [
    "From the dataframe we can see that Pub is the 1st or 2nd most popular venue in 12 of the 14 districts."
   ]
  },
  {
   "cell_type": "markdown",
   "metadata": {},
   "source": [
    "### Cluster K-Means - Districts\n",
    "\n",
    "<p>In this section we will take the gathered data from restaurant and entertainment venues and use it to calculate which districts are similar in their venues.</p>\n",
    "<p>Using this data, we can find out which districts to narrow our research to. We will be looking for the cluster that already contains Latin American food venues.</p>"
   ]
  },
  {
   "cell_type": "code",
   "execution_count": 39,
   "metadata": {},
   "outputs": [
    {
     "data": {
      "text/plain": [
       "array([0, 0, 3, 0, 0, 2, 4, 3, 3, 3])"
      ]
     },
     "execution_count": 39,
     "metadata": {},
     "output_type": "execute_result"
    }
   ],
   "source": [
    "from sklearn.cluster import KMeans\n",
    "\n",
    "# set number of clusters\n",
    "kclusters = 5\n",
    "\n",
    "district_grouped_clustering = district_grouped.drop('District', 1)\n",
    "X = np.array(district_grouped_clustering)\n",
    "\n",
    "# run k-means clustering\n",
    "kmeans = KMeans(n_clusters=kclusters, random_state=0).fit(district_grouped_clustering)\n",
    "\n",
    "# check cluster labels generated for each row in the dataframe\n",
    "kmeans.labels_[0:10] "
   ]
  },
  {
   "cell_type": "code",
   "execution_count": 40,
   "metadata": {},
   "outputs": [
    {
     "data": {
      "text/html": [
       "<div>\n",
       "<style scoped>\n",
       "    .dataframe tbody tr th:only-of-type {\n",
       "        vertical-align: middle;\n",
       "    }\n",
       "\n",
       "    .dataframe tbody tr th {\n",
       "        vertical-align: top;\n",
       "    }\n",
       "\n",
       "    .dataframe thead th {\n",
       "        text-align: right;\n",
       "    }\n",
       "</style>\n",
       "<table border=\"1\" class=\"dataframe\">\n",
       "  <thead>\n",
       "    <tr style=\"text-align: right;\">\n",
       "      <th></th>\n",
       "      <th>District</th>\n",
       "      <th>Latitude</th>\n",
       "      <th>Longitude</th>\n",
       "    </tr>\n",
       "  </thead>\n",
       "  <tbody>\n",
       "    <tr>\n",
       "      <th>0</th>\n",
       "      <td>Abbey</td>\n",
       "      <td>52.212400</td>\n",
       "      <td>0.161300</td>\n",
       "    </tr>\n",
       "    <tr>\n",
       "      <th>1</th>\n",
       "      <td>Arbury</td>\n",
       "      <td>52.218995</td>\n",
       "      <td>0.115557</td>\n",
       "    </tr>\n",
       "    <tr>\n",
       "      <th>2</th>\n",
       "      <td>Castle</td>\n",
       "      <td>52.214867</td>\n",
       "      <td>0.102719</td>\n",
       "    </tr>\n",
       "    <tr>\n",
       "      <th>3</th>\n",
       "      <td>Cherry Hinton</td>\n",
       "      <td>52.187200</td>\n",
       "      <td>0.176400</td>\n",
       "    </tr>\n",
       "    <tr>\n",
       "      <th>4</th>\n",
       "      <td>Coleridge</td>\n",
       "      <td>52.189603</td>\n",
       "      <td>0.153449</td>\n",
       "    </tr>\n",
       "    <tr>\n",
       "      <th>5</th>\n",
       "      <td>East Chesterton</td>\n",
       "      <td>52.222032</td>\n",
       "      <td>0.147264</td>\n",
       "    </tr>\n",
       "    <tr>\n",
       "      <th>6</th>\n",
       "      <td>Kings Hedges</td>\n",
       "      <td>52.227185</td>\n",
       "      <td>0.134992</td>\n",
       "    </tr>\n",
       "    <tr>\n",
       "      <th>7</th>\n",
       "      <td>Market</td>\n",
       "      <td>52.206392</td>\n",
       "      <td>0.124482</td>\n",
       "    </tr>\n",
       "    <tr>\n",
       "      <th>8</th>\n",
       "      <td>Newnham</td>\n",
       "      <td>52.197000</td>\n",
       "      <td>0.106800</td>\n",
       "    </tr>\n",
       "    <tr>\n",
       "      <th>9</th>\n",
       "      <td>Petersfield</td>\n",
       "      <td>52.202698</td>\n",
       "      <td>0.136138</td>\n",
       "    </tr>\n",
       "    <tr>\n",
       "      <th>10</th>\n",
       "      <td>Queen Ediths</td>\n",
       "      <td>52.180781</td>\n",
       "      <td>0.151196</td>\n",
       "    </tr>\n",
       "    <tr>\n",
       "      <th>11</th>\n",
       "      <td>Romsey</td>\n",
       "      <td>52.197200</td>\n",
       "      <td>0.146300</td>\n",
       "    </tr>\n",
       "    <tr>\n",
       "      <th>12</th>\n",
       "      <td>Trumpington</td>\n",
       "      <td>52.173400</td>\n",
       "      <td>0.113100</td>\n",
       "    </tr>\n",
       "    <tr>\n",
       "      <th>13</th>\n",
       "      <td>West Chesterton</td>\n",
       "      <td>52.217487</td>\n",
       "      <td>0.129307</td>\n",
       "    </tr>\n",
       "  </tbody>\n",
       "</table>\n",
       "</div>"
      ],
      "text/plain": [
       "           District   Latitude  Longitude\n",
       "0             Abbey  52.212400   0.161300\n",
       "1            Arbury  52.218995   0.115557\n",
       "2            Castle  52.214867   0.102719\n",
       "3     Cherry Hinton  52.187200   0.176400\n",
       "4         Coleridge  52.189603   0.153449\n",
       "5   East Chesterton  52.222032   0.147264\n",
       "6      Kings Hedges  52.227185   0.134992\n",
       "7            Market  52.206392   0.124482\n",
       "8           Newnham  52.197000   0.106800\n",
       "9       Petersfield  52.202698   0.136138\n",
       "10     Queen Ediths  52.180781   0.151196\n",
       "11           Romsey  52.197200   0.146300\n",
       "12      Trumpington  52.173400   0.113100\n",
       "13  West Chesterton  52.217487   0.129307"
      ]
     },
     "execution_count": 40,
     "metadata": {},
     "output_type": "execute_result"
    }
   ],
   "source": [
    "df_district"
   ]
  },
  {
   "cell_type": "code",
   "execution_count": 41,
   "metadata": {},
   "outputs": [],
   "source": [
    "# add clustering labels\n",
    "try:\n",
    "    df_district.insert(0, 'Cluster Labels', kmeans.labels_)\n",
    "except:\n",
    "    df_district.drop(columns=['Cluster Labels'], inplace=True)\n",
    "    df_district.insert(0, 'Cluster Labels', kmeans.labels_)"
   ]
  },
  {
   "cell_type": "code",
   "execution_count": 42,
   "metadata": {
    "scrolled": false
   },
   "outputs": [
    {
     "data": {
      "text/html": [
       "<div style=\"width:100%;\"><div style=\"position:relative;width:100%;height:0;padding-bottom:60%;\"><span style=\"color:#565656\">Make this Notebook Trusted to load map: File -> Trust Notebook</span><iframe src=\"about:blank\" style=\"position:absolute;width:100%;height:100%;left:0;top:0;border:none !important;\" data-html=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 onload=\"this.contentDocument.open();this.contentDocument.write(atob(this.getAttribute('data-html')));this.contentDocument.close();\" allowfullscreen webkitallowfullscreen mozallowfullscreen></iframe></div></div>"
      ],
      "text/plain": [
       "<folium.folium.Map at 0x222daff60f0>"
      ]
     },
     "metadata": {},
     "output_type": "display_data"
    },
    {
     "data": {
      "text/plain": [
       "<Figure size 432x288 with 0 Axes>"
      ]
     },
     "metadata": {},
     "output_type": "display_data"
    }
   ],
   "source": [
    "# create map\n",
    "map_clusters = folium.Map(location=[city_latitude, city_longitude], zoom_start=12)\n",
    "\n",
    "# set color scheme for the clusters\n",
    "rainbow = ['#00aaff','#4c00ff','#ea00ff','#ff0080','#ff0000']\n",
    "\n",
    "# add markers to the map\n",
    "markers_colors = []\n",
    "for lat, lon, poi, cluster in zip(df_district['Latitude'], df_district['Longitude'], df_district['District'], df_district['Cluster Labels']):\n",
    "    label = folium.Popup(str(poi) + ' Cluster ' + str(cluster), parse_html=True)\n",
    "    tooltip = 'Name: {},<br>Cluster: {}'.format(str(poi),str(cluster))\n",
    "    folium.Circle(\n",
    "        [lat, lon],\n",
    "        radius=700,\n",
    "        popup=label,\n",
    "        tooltip=tooltip,\n",
    "        color=rainbow[cluster-1],\n",
    "        fill=True,\n",
    "        fill_color=rainbow[cluster-1],\n",
    "        fill_opacity=0.7).add_to(map_clusters)\n",
    "       \n",
    "display(map_clusters)\n",
    "plt.savefig('District_Cluster.pdf', bbox_inches='tight')"
   ]
  },
  {
   "cell_type": "markdown",
   "metadata": {},
   "source": [
    "#### Cluster Anaylsis\n",
    "\n",
    "We suggested earlier that the restaurant would be suited in an area similar to **Petersfield** or **Romsey**. Looking at the clusters the following clusters would suit the new restaurant.\n",
    "* Market\n",
    "* Castle\n",
    "* Newnham\n",
    "    \n",
    "These areas have similar restaurants and entertainment venues.\n",
    "\n",
    "In the anaylsis section we will find suitable locations within these districts, using locality to entertainment venues."
   ]
  },
  {
   "cell_type": "markdown",
   "metadata": {},
   "source": [
    "### Correlation between Restaurants and Entertainment venues?\n",
    "\n",
    "* Create a groupby dataframe for restaurants and another for entertainment.\n",
    "* Display a horizontal barchart showing both values for each district."
   ]
  },
  {
   "cell_type": "code",
   "execution_count": 43,
   "metadata": {},
   "outputs": [],
   "source": [
    "df_ent_group = district_entertain_update.groupby('District').count()\n",
    "df_ent_group.reset_index(inplace=True)\n",
    "df_rest_group = district_venues_update.groupby('District').count()\n",
    "df_rest_group.reset_index(inplace=True)"
   ]
  },
  {
   "cell_type": "code",
   "execution_count": 44,
   "metadata": {},
   "outputs": [
    {
     "data": {
      "image/png": "[encoded data removed]",
      "text/plain": [
       "<Figure size 1440x1440 with 1 Axes>"
      ]
     },
     "metadata": {},
     "output_type": "display_data"
    }
   ],
   "source": [
    "rest = np.array(df_rest_group['Venue'])\n",
    "ent = np.array(df_ent_group['Venue'])\n",
    "index = df_rest_group['District']\n",
    "\n",
    "# Create horizontal barchart\n",
    "df = pd.DataFrame({'Restaurant': rest,'Entertainment': ent}, index=index)\n",
    "ax = df.plot.barh(figsize=(20,20))\n",
    "ax.legend(loc=1, prop={'size': 20})\n",
    "ax.tick_params(axis='both', which='major', labelsize=20)\n",
    "plt.savefig('District_Rest_Ent_BarH.pdf', bbox_inches='tight')"
   ]
  },
  {
   "cell_type": "markdown",
   "metadata": {},
   "source": [
    "There is a clear correlation between entertainment venues and restaurants."
   ]
  },
  {
   "cell_type": "markdown",
   "metadata": {},
   "source": [
    "#### Create a scatter plot to show the correlation and Linear Regression"
   ]
  },
  {
   "cell_type": "code",
   "execution_count": 45,
   "metadata": {},
   "outputs": [
    {
     "data": {
      "image/png": "[encoded data removed]",
      "text/plain": [
       "<Figure size 360x360 with 1 Axes>"
      ]
     },
     "metadata": {},
     "output_type": "display_data"
    }
   ],
   "source": [
    "df_scatter = pd.merge(left=df_rest_group, right=df_ent_group, left_on='District', right_on='District')\n",
    "df_scatter.drop(columns=['Venue Latitude_x','Venue Longitude_x','Venue Category_x','Venue Latitude_y','Venue Longitude_y','Venue Category_y'], inplace=True)\n",
    "df_scatter.columns = ['District','Restaurant','Entertainment']\n",
    "\n",
    "sns.lmplot(x=\"Restaurant\", y=\"Entertainment\", data=df_scatter)\n",
    "plt.savefig('Restaurant_Correlation_Scatter.pdf', bbox_inches='tight')"
   ]
  },
  {
   "cell_type": "markdown",
   "metadata": {},
   "source": [
    "### Cluster DBSCAN Scatter Plot - Using Latitude & Longitude"
   ]
  },
  {
   "cell_type": "markdown",
   "metadata": {},
   "source": [
    "Firstly we will use a scatter plot to find the density of entertainment venues according to Latitude and Longitude.\n",
    "This will help us to find the areas with the most venues. To display the clusters we will use the DBSCAN method.\n",
    "\n",
    "Using a scatter plot we will show the density clusters of districts that are simiar to other districts with Latin American restaurants. We got this information from the K-Means clustering used to assign Districts into similar clusters using the restaurants and entertainment venues.\n",
    "* Market\n",
    "* Castle\n",
    "* Newnham"
   ]
  },
  {
   "cell_type": "markdown",
   "metadata": {},
   "source": [
    "##### FUNCTION - Create Scatter Plot Cluster"
   ]
  },
  {
   "cell_type": "code",
   "execution_count": 46,
   "metadata": {},
   "outputs": [],
   "source": [
    "def create_scatter_cluster(x,y,title,x_label,y_label,cl,cm):\n",
    "    plt.figure(figsize=(8, 8))\n",
    "    plt.scatter(x, y, c=cl, cmap=cm)\n",
    "    plt.title(title)\n",
    "    plt.xlabel(x_label)\n",
    "    plt.ylabel(y_label)\n",
    "    plt.grid(True, linewidth=0.5, alpha=0.5)\n",
    "    plt.show()"
   ]
  },
  {
   "cell_type": "markdown",
   "metadata": {},
   "source": [
    "#### DBSCAN Plot - Market District"
   ]
  },
  {
   "cell_type": "code",
   "execution_count": 47,
   "metadata": {},
   "outputs": [],
   "source": [
    "from sklearn.cluster import DBSCAN\n",
    "from sklearn.preprocessing import StandardScaler"
   ]
  },
  {
   "cell_type": "code",
   "execution_count": 48,
   "metadata": {
    "scrolled": false
   },
   "outputs": [],
   "source": [
    "# get the Latitude and Longitude\n",
    "df_market = district_entertain_update[district_entertain_update['District'] == 'Market']\n",
    "\n",
    "# Create arrays for Latitude and Longitude for Market\n",
    "mkt_y = np.array(df_market['Venue Latitude'])\n",
    "mkt_x = np.array(df_market['Venue Longitude'])\n",
    "\n",
    "# Combine both arrays into one stacked array.\n",
    "mkt_X = np.stack((mkt_x,mkt_y), axis=1)"
   ]
  },
  {
   "cell_type": "code",
   "execution_count": 49,
   "metadata": {},
   "outputs": [
    {
     "data": {
      "image/png": "[encoded data removed]",
      "text/plain": [
       "<Figure size 576x576 with 1 Axes>"
      ]
     },
     "metadata": {},
     "output_type": "display_data"
    },
    {
     "data": {
      "text/plain": [
       "<Figure size 432x288 with 0 Axes>"
      ]
     },
     "metadata": {},
     "output_type": "display_data"
    }
   ],
   "source": [
    "# Normalise the co-ordinates\n",
    "mkt_scaler = StandardScaler()\n",
    "mkt_X_scaled = mkt_scaler.fit_transform(mkt_X)\n",
    "\n",
    "# Cluster using DBSCAN\n",
    "mkt_clustering = DBSCAN(eps=0.7, min_samples=3)\n",
    "mkt_clusters = mkt_clustering.fit_predict(mkt_X_scaled)\n",
    "\n",
    "# Show plot of Market and DBSCAN\n",
    "create_scatter_cluster(mkt_X[:,0],mkt_X[:,1],'DBSCAN - Market','Longitude','Latitude',mkt_clusters,'Wistia')\n",
    "plt.savefig('Market_DBSCAN.pdf', bbox_inches='tight')"
   ]
  },
  {
   "cell_type": "code",
   "execution_count": 50,
   "metadata": {},
   "outputs": [
    {
     "name": "stderr",
     "output_type": "stream",
     "text": [
      "C:\\Program Files (x86)\\Microsoft Visual Studio\\Shared\\Anaconda3_64\\lib\\site-packages\\ipykernel_launcher.py:2: SettingWithCopyWarning: \n",
      "A value is trying to be set on a copy of a slice from a DataFrame.\n",
      "Try using .loc[row_indexer,col_indexer] = value instead\n",
      "\n",
      "See the caveats in the documentation: http://pandas.pydata.org/pandas-docs/stable/indexing.html#indexing-view-versus-copy\n",
      "  \n"
     ]
    },
    {
     "data": {
      "text/html": [
       "<div>\n",
       "<style scoped>\n",
       "    .dataframe tbody tr th:only-of-type {\n",
       "        vertical-align: middle;\n",
       "    }\n",
       "\n",
       "    .dataframe tbody tr th {\n",
       "        vertical-align: top;\n",
       "    }\n",
       "\n",
       "    .dataframe thead th {\n",
       "        text-align: right;\n",
       "    }\n",
       "</style>\n",
       "<table border=\"1\" class=\"dataframe\">\n",
       "  <thead>\n",
       "    <tr style=\"text-align: right;\">\n",
       "      <th></th>\n",
       "      <th>District</th>\n",
       "      <th>Venue</th>\n",
       "      <th>Venue Latitude</th>\n",
       "      <th>Venue Longitude</th>\n",
       "      <th>Venue Category</th>\n",
       "    </tr>\n",
       "    <tr>\n",
       "      <th>Scatter</th>\n",
       "      <th></th>\n",
       "      <th></th>\n",
       "      <th></th>\n",
       "      <th></th>\n",
       "      <th></th>\n",
       "    </tr>\n",
       "  </thead>\n",
       "  <tbody>\n",
       "    <tr>\n",
       "      <th>-1</th>\n",
       "      <td>2</td>\n",
       "      <td>2</td>\n",
       "      <td>2</td>\n",
       "      <td>2</td>\n",
       "      <td>2</td>\n",
       "    </tr>\n",
       "    <tr>\n",
       "      <th>0</th>\n",
       "      <td>28</td>\n",
       "      <td>28</td>\n",
       "      <td>28</td>\n",
       "      <td>28</td>\n",
       "      <td>28</td>\n",
       "    </tr>\n",
       "    <tr>\n",
       "      <th>1</th>\n",
       "      <td>4</td>\n",
       "      <td>4</td>\n",
       "      <td>4</td>\n",
       "      <td>4</td>\n",
       "      <td>4</td>\n",
       "    </tr>\n",
       "    <tr>\n",
       "      <th>2</th>\n",
       "      <td>12</td>\n",
       "      <td>12</td>\n",
       "      <td>12</td>\n",
       "      <td>12</td>\n",
       "      <td>12</td>\n",
       "    </tr>\n",
       "  </tbody>\n",
       "</table>\n",
       "</div>"
      ],
      "text/plain": [
       "         District  Venue  Venue Latitude  Venue Longitude  Venue Category\n",
       "Scatter                                                                  \n",
       "-1              2      2               2                2               2\n",
       " 0             28     28              28               28              28\n",
       " 1              4      4               4                4               4\n",
       " 2             12     12              12               12              12"
      ]
     },
     "execution_count": 50,
     "metadata": {},
     "output_type": "execute_result"
    }
   ],
   "source": [
    "try:\n",
    "    df_market['Scatter'] = mkt_clusters\n",
    "except:\n",
    "    df_market.drop(['Scatter'],inplace=True)\n",
    "    df_market['Scatter'] = mkt_clusters\n",
    "\n",
    "df_market.groupby('Scatter').count()"
   ]
  },
  {
   "cell_type": "markdown",
   "metadata": {},
   "source": [
    "We can see from the scatter plot above that the most populous area in **Market** is **Scatter 0**.<br>\n",
    "For this DBSCAN we had to reduce the eps value from 1 (as used on other DBSCAN's below), this was due to difference in proximity of locations in **Market**.<br>\n",
    "In the next section we will use locations from **Scatter 0** to locate the perfect latitude and longitude for a restaurant in this area."
   ]
  },
  {
   "cell_type": "markdown",
   "metadata": {},
   "source": [
    "#### DBCAN Plot - Castle"
   ]
  },
  {
   "cell_type": "code",
   "execution_count": 51,
   "metadata": {},
   "outputs": [],
   "source": [
    "# get the Latitude and Longitude\n",
    "df_castle = district_entertain_update[district_entertain_update['District'] == 'Castle']\n",
    "\n",
    "# Create arrays for Latitude and Longitude for Castle\n",
    "cst_y = np.array(df_castle['Venue Latitude'])\n",
    "cst_x = np.array(df_castle['Venue Longitude'])\n",
    "\n",
    "# Combine both arrays into one stacked array.\n",
    "cst_X = np.stack((cst_x,cst_y), axis=1)"
   ]
  },
  {
   "cell_type": "code",
   "execution_count": 52,
   "metadata": {
    "scrolled": false
   },
   "outputs": [
    {
     "data": {
      "image/png": "[encoded data removed]",
      "text/plain": [
       "<Figure size 576x576 with 1 Axes>"
      ]
     },
     "metadata": {},
     "output_type": "display_data"
    },
    {
     "data": {
      "text/plain": [
       "<Figure size 432x288 with 0 Axes>"
      ]
     },
     "metadata": {},
     "output_type": "display_data"
    }
   ],
   "source": [
    "# Normalise the co-ordinates\n",
    "cst_scaler = StandardScaler()\n",
    "cst_X_scaled = cst_scaler.fit_transform(cst_X)\n",
    "\n",
    "# Cluster using DBSCAN\n",
    "cst_clustering = DBSCAN(eps=1, min_samples=3)\n",
    "cst_clusters = cst_clustering.fit_predict(cst_X_scaled)\n",
    "\n",
    "# Show plot of Market and DBSCAN\n",
    "create_scatter_cluster(cst_X[:,0],cst_X[:,1],'DBSCAN - Castle','Longitude','Latitude',cst_clusters,'Wistia')\n",
    "plt.savefig('Castle_DBSCAN.pdf', bbox_inches='tight')"
   ]
  },
  {
   "cell_type": "code",
   "execution_count": 53,
   "metadata": {},
   "outputs": [
    {
     "name": "stderr",
     "output_type": "stream",
     "text": [
      "C:\\Program Files (x86)\\Microsoft Visual Studio\\Shared\\Anaconda3_64\\lib\\site-packages\\ipykernel_launcher.py:2: SettingWithCopyWarning: \n",
      "A value is trying to be set on a copy of a slice from a DataFrame.\n",
      "Try using .loc[row_indexer,col_indexer] = value instead\n",
      "\n",
      "See the caveats in the documentation: http://pandas.pydata.org/pandas-docs/stable/indexing.html#indexing-view-versus-copy\n",
      "  \n"
     ]
    },
    {
     "data": {
      "text/html": [
       "<div>\n",
       "<style scoped>\n",
       "    .dataframe tbody tr th:only-of-type {\n",
       "        vertical-align: middle;\n",
       "    }\n",
       "\n",
       "    .dataframe tbody tr th {\n",
       "        vertical-align: top;\n",
       "    }\n",
       "\n",
       "    .dataframe thead th {\n",
       "        text-align: right;\n",
       "    }\n",
       "</style>\n",
       "<table border=\"1\" class=\"dataframe\">\n",
       "  <thead>\n",
       "    <tr style=\"text-align: right;\">\n",
       "      <th></th>\n",
       "      <th>District</th>\n",
       "      <th>Venue</th>\n",
       "      <th>Venue Latitude</th>\n",
       "      <th>Venue Longitude</th>\n",
       "      <th>Venue Category</th>\n",
       "    </tr>\n",
       "    <tr>\n",
       "      <th>Scatter</th>\n",
       "      <th></th>\n",
       "      <th></th>\n",
       "      <th></th>\n",
       "      <th></th>\n",
       "      <th></th>\n",
       "    </tr>\n",
       "  </thead>\n",
       "  <tbody>\n",
       "    <tr>\n",
       "      <th>-1</th>\n",
       "      <td>2</td>\n",
       "      <td>2</td>\n",
       "      <td>2</td>\n",
       "      <td>2</td>\n",
       "      <td>2</td>\n",
       "    </tr>\n",
       "    <tr>\n",
       "      <th>0</th>\n",
       "      <td>4</td>\n",
       "      <td>4</td>\n",
       "      <td>4</td>\n",
       "      <td>4</td>\n",
       "      <td>4</td>\n",
       "    </tr>\n",
       "    <tr>\n",
       "      <th>1</th>\n",
       "      <td>9</td>\n",
       "      <td>9</td>\n",
       "      <td>9</td>\n",
       "      <td>9</td>\n",
       "      <td>9</td>\n",
       "    </tr>\n",
       "  </tbody>\n",
       "</table>\n",
       "</div>"
      ],
      "text/plain": [
       "         District  Venue  Venue Latitude  Venue Longitude  Venue Category\n",
       "Scatter                                                                  \n",
       "-1              2      2               2                2               2\n",
       " 0              4      4               4                4               4\n",
       " 1              9      9               9                9               9"
      ]
     },
     "execution_count": 53,
     "metadata": {},
     "output_type": "execute_result"
    }
   ],
   "source": [
    "try:\n",
    "    df_castle['Scatter'] = cst_clusters\n",
    "except:\n",
    "    df_castle.drop(['Scatter'],inplace=True)\n",
    "    df_castle['Scatter'] = cst_clusters\n",
    "\n",
    "df_castle.groupby('Scatter').count()"
   ]
  },
  {
   "cell_type": "markdown",
   "metadata": {},
   "source": [
    "We can see from the scatter plot above that the most populous area in **Castle** is **Scatter 1**. In the next section we will use locations from **Scatter 1** to locate the perfect latitude and longitude for a restaurant in this area."
   ]
  },
  {
   "cell_type": "markdown",
   "metadata": {},
   "source": [
    "#### Scatter Plot - Newnham"
   ]
  },
  {
   "cell_type": "code",
   "execution_count": 54,
   "metadata": {},
   "outputs": [],
   "source": [
    "# get the Latitude and Longitude\n",
    "df_newnham = district_entertain_update[district_entertain_update['District'] == 'Newnham']\n",
    "\n",
    "# Create arrays for Latitude and Longitude for Newnham\n",
    "new_y = np.array(df_newnham['Venue Latitude'])\n",
    "new_x = np.array(df_newnham['Venue Longitude'])\n",
    "\n",
    "# Combine both arrays into one stacked array.\n",
    "new_X = np.stack((new_x,new_y), axis=1)"
   ]
  },
  {
   "cell_type": "code",
   "execution_count": 55,
   "metadata": {
    "scrolled": false
   },
   "outputs": [
    {
     "data": {
      "image/png": "[encoded data removed]",
      "text/plain": [
       "<Figure size 576x576 with 1 Axes>"
      ]
     },
     "metadata": {},
     "output_type": "display_data"
    },
    {
     "data": {
      "text/plain": [
       "<Figure size 432x288 with 0 Axes>"
      ]
     },
     "metadata": {},
     "output_type": "display_data"
    }
   ],
   "source": [
    "# Normalise the co-ordinates\n",
    "new_scaler = StandardScaler()\n",
    "new_X_scaled = new_scaler.fit_transform(new_X)\n",
    "\n",
    "# Cluster using DBSCAN\n",
    "new_clustering = DBSCAN(eps=1, min_samples=3)\n",
    "new_clusters = new_clustering.fit_predict(new_X_scaled)\n",
    "\n",
    "# Show plot of Market and DBSCAN\n",
    "create_scatter_cluster(new_X[:,0],new_X[:,1],'DBSCAN - Newnham','Longitude','Latitude',new_clusters,'Wistia')\n",
    "plt.savefig('Newnham_DBSCAN.pdf', bbox_inches='tight')"
   ]
  },
  {
   "cell_type": "code",
   "execution_count": 56,
   "metadata": {
    "scrolled": true
   },
   "outputs": [
    {
     "name": "stderr",
     "output_type": "stream",
     "text": [
      "C:\\Program Files (x86)\\Microsoft Visual Studio\\Shared\\Anaconda3_64\\lib\\site-packages\\ipykernel_launcher.py:2: SettingWithCopyWarning: \n",
      "A value is trying to be set on a copy of a slice from a DataFrame.\n",
      "Try using .loc[row_indexer,col_indexer] = value instead\n",
      "\n",
      "See the caveats in the documentation: http://pandas.pydata.org/pandas-docs/stable/indexing.html#indexing-view-versus-copy\n",
      "  \n"
     ]
    },
    {
     "data": {
      "text/html": [
       "<div>\n",
       "<style scoped>\n",
       "    .dataframe tbody tr th:only-of-type {\n",
       "        vertical-align: middle;\n",
       "    }\n",
       "\n",
       "    .dataframe tbody tr th {\n",
       "        vertical-align: top;\n",
       "    }\n",
       "\n",
       "    .dataframe thead th {\n",
       "        text-align: right;\n",
       "    }\n",
       "</style>\n",
       "<table border=\"1\" class=\"dataframe\">\n",
       "  <thead>\n",
       "    <tr style=\"text-align: right;\">\n",
       "      <th></th>\n",
       "      <th>District</th>\n",
       "      <th>Venue</th>\n",
       "      <th>Venue Latitude</th>\n",
       "      <th>Venue Longitude</th>\n",
       "      <th>Venue Category</th>\n",
       "    </tr>\n",
       "    <tr>\n",
       "      <th>Scatter</th>\n",
       "      <th></th>\n",
       "      <th></th>\n",
       "      <th></th>\n",
       "      <th></th>\n",
       "      <th></th>\n",
       "    </tr>\n",
       "  </thead>\n",
       "  <tbody>\n",
       "    <tr>\n",
       "      <th>-1</th>\n",
       "      <td>3</td>\n",
       "      <td>3</td>\n",
       "      <td>3</td>\n",
       "      <td>3</td>\n",
       "      <td>3</td>\n",
       "    </tr>\n",
       "    <tr>\n",
       "      <th>0</th>\n",
       "      <td>4</td>\n",
       "      <td>4</td>\n",
       "      <td>4</td>\n",
       "      <td>4</td>\n",
       "      <td>4</td>\n",
       "    </tr>\n",
       "  </tbody>\n",
       "</table>\n",
       "</div>"
      ],
      "text/plain": [
       "         District  Venue  Venue Latitude  Venue Longitude  Venue Category\n",
       "Scatter                                                                  \n",
       "-1              3      3               3                3               3\n",
       " 0              4      4               4                4               4"
      ]
     },
     "execution_count": 56,
     "metadata": {},
     "output_type": "execute_result"
    }
   ],
   "source": [
    "try:\n",
    "    df_newnham['Scatter'] = new_clusters\n",
    "except:\n",
    "    df_newnham.drop(['Scatter'],inplace=True)\n",
    "    df_newnham['Scatter'] = new_clusters\n",
    "\n",
    "df_newnham.groupby('Scatter').count()"
   ]
  },
  {
   "cell_type": "markdown",
   "metadata": {},
   "source": [
    "We can see from the scatter plot above that the most populous area in **Newnham** is **Scatter 0**. In the next section we will use locations from **Scatter 0** to locate the perfect latitude and longitude for a restaurant in this area."
   ]
  },
  {
   "cell_type": "markdown",
   "metadata": {},
   "source": [
    "### Get Suitable Locations\n"
   ]
  },
  {
   "cell_type": "markdown",
   "metadata": {},
   "source": [
    "From the **K-Means Clustering** of districts, we selected the following locations for further anaylsis:\n",
    "* Market\n",
    "* Castle\n",
    "* Newnham\n",
    "\n",
    "<p>Then we found the densest cluster of entertainment venues within these districts.\n",
    "Now, using these clusters we aim to find a suitable location within each of these 3 districts to place the new restaurant.</p>"
   ]
  },
  {
   "cell_type": "markdown",
   "metadata": {},
   "source": [
    "##### FUNCTION - Calculate Distance from Lat, Lng in Metres"
   ]
  },
  {
   "cell_type": "code",
   "execution_count": 57,
   "metadata": {},
   "outputs": [],
   "source": [
    "# Imports from Math Library\n",
    "from math import sin, cos, sqrt, atan2, radians, degrees, asin\n",
    "# Import from geopy\n",
    "import geopy\n",
    "from geopy.distance import geodesic"
   ]
  },
  {
   "cell_type": "code",
   "execution_count": 58,
   "metadata": {},
   "outputs": [],
   "source": [
    "def calculate_latlng_dist(lat1,lng1,lat2,lng2):\n",
    "    \n",
    "    # approximate radius of earth in km\n",
    "    R = 6373.0\n",
    "\n",
    "    lat1 = radians(lat1)\n",
    "    lng1 = radians(lng1)\n",
    "    lat2 = radians(lat2)\n",
    "    lng2 = radians(lng2)\n",
    "    \n",
    "    dlng = lng2 - lng1\n",
    "    dlat = lat2 - lat1\n",
    "    \n",
    "    a = sin(dlat / 2)**2 + cos(lat1) * cos(lat2) * sin(dlng / 2)**2\n",
    "    c = 2 * atan2(sqrt(a), sqrt(1 - a))\n",
    "    \n",
    "    distance = R * c\n",
    "    return distance"
   ]
  },
  {
   "cell_type": "markdown",
   "metadata": {},
   "source": [
    "##### FUNCTION - Calculate the angle between two Lat, Lng points"
   ]
  },
  {
   "cell_type": "code",
   "execution_count": 59,
   "metadata": {},
   "outputs": [],
   "source": [
    "def angleFromCoordinate(lat1,lng1,lat2,lng2):\n",
    "\n",
    "    dlng = (lng2 - lng1)\n",
    "\n",
    "    x = cos(lat2) * sin(dlng)\n",
    "    y = cos(lat1) * sin(lat2) - sin(lat1) * cos(lat2) * cos(dlng)\n",
    "\n",
    "    brng = atan2(x,y);\n",
    "\n",
    "    brng = degrees(brng)\n",
    "    brng = (brng + 360) % 360\n",
    "    brng = 360 - brng\n",
    "\n",
    "    return brng"
   ]
  },
  {
   "cell_type": "markdown",
   "metadata": {},
   "source": [
    "#### FUNCTION - Calculate distance from Lat, Lng point using bearing and distance"
   ]
  },
  {
   "cell_type": "code",
   "execution_count": 60,
   "metadata": {},
   "outputs": [],
   "source": [
    "def distanceUsingBearing(b,d,lat1,lon1):\n",
    "    origin = geopy.Point(lat1, lon1)\n",
    "    destination = geodesic(kilometers=d).destination(origin, b)\n",
    "\n",
    "    return destination.latitude, destination.longitude"
   ]
  },
  {
   "cell_type": "markdown",
   "metadata": {},
   "source": [
    "##### FUNCTION - Create Final Map with markers"
   ]
  },
  {
   "cell_type": "code",
   "execution_count": 61,
   "metadata": {},
   "outputs": [],
   "source": [
    "def CreateFinalMap(m,f_lat,f_lng,df):\n",
    "\n",
    "    addLatin_toMap(m)\n",
    "    \n",
    "    for lat, lng, label, in zip(df['Venue Latitude'], df['Venue Longitude'], df['Venue']):\n",
    "        location = np.array([lat,lng])\n",
    "        # Add Marker\n",
    "        folium.CircleMarker(\n",
    "            [lat, lng],\n",
    "            radius=5, # define how big you want the circle markers to be\n",
    "            color='blue',\n",
    "            fill=True,\n",
    "            fill_color='lightblue',\n",
    "            fill_opacity=0.6\n",
    "        ).add_to(m)\n",
    "        \n",
    "        folium.Marker([f_lat,f_lng], tooltip='Ideal Location').add_to(m)"
   ]
  },
  {
   "cell_type": "markdown",
   "metadata": {},
   "source": [
    "##### Market "
   ]
  },
  {
   "cell_type": "markdown",
   "metadata": {},
   "source": [
    "When we performed the **DBSCAN** we found that **cluster 0** is the most populous with **28** entertainment venues.\n",
    "Let's get the mean of the most popular cluster."
   ]
  },
  {
   "cell_type": "code",
   "execution_count": 62,
   "metadata": {},
   "outputs": [
    {
     "name": "stdout",
     "output_type": "stream",
     "text": [
      "(28, 6)\n"
     ]
    }
   ],
   "source": [
    "df_market_f = df_market[df_market['Scatter'] == 0]\n",
    "print(df_market_f.shape)"
   ]
  },
  {
   "cell_type": "code",
   "execution_count": 63,
   "metadata": {},
   "outputs": [
    {
     "name": "stdout",
     "output_type": "stream",
     "text": [
      "Lat: 52.20640387792996 Lng: 0.11990940205059276\n"
     ]
    }
   ],
   "source": [
    "mkt_f_lat = df_market_f['Venue Latitude'].mean()\n",
    "mkt_f_lng = df_market_f['Venue Longitude'].mean()\n",
    "print('Lat:',mkt_f_lat,'Lng:',mkt_f_lng)"
   ]
  },
  {
   "cell_type": "markdown",
   "metadata": {},
   "source": [
    "Let's get the location of the **Market** area so that we can centre our map view."
   ]
  },
  {
   "cell_type": "code",
   "execution_count": 64,
   "metadata": {},
   "outputs": [],
   "source": [
    "df_market_pos = df_district[df_district['District'] == 'Market']\n",
    "df_market_pos_lat = df_market_pos['Latitude']\n",
    "df_market_pos_lng = df_market_pos['Longitude']"
   ]
  },
  {
   "cell_type": "markdown",
   "metadata": {},
   "source": [
    "##### Castle "
   ]
  },
  {
   "cell_type": "markdown",
   "metadata": {},
   "source": [
    "When we performed the **DBSCAN** we found that **cluster 1** is the most populous with **9** entertainment venues.\n",
    "Let's get the mean of the most popular cluster."
   ]
  },
  {
   "cell_type": "code",
   "execution_count": 65,
   "metadata": {},
   "outputs": [
    {
     "name": "stdout",
     "output_type": "stream",
     "text": [
      "(28, 6)\n"
     ]
    }
   ],
   "source": [
    "df_castle_f = df_castle[df_castle['Scatter'] == 0]\n",
    "print(df_market_f.shape)"
   ]
  },
  {
   "cell_type": "code",
   "execution_count": 66,
   "metadata": {},
   "outputs": [
    {
     "name": "stdout",
     "output_type": "stream",
     "text": [
      "Lat: 52.21281940030552 Lng: 0.102861808439892\n"
     ]
    }
   ],
   "source": [
    "cst_f_lat = df_castle_f['Venue Latitude'].mean()\n",
    "cst_f_lng = df_castle_f['Venue Longitude'].mean()\n",
    "print('Lat:',cst_f_lat,'Lng:',cst_f_lng)"
   ]
  },
  {
   "cell_type": "markdown",
   "metadata": {},
   "source": [
    "Let's get the location of the **Castle** district so that we can centre our map view."
   ]
  },
  {
   "cell_type": "code",
   "execution_count": 67,
   "metadata": {},
   "outputs": [],
   "source": [
    "df_castle_pos = df_district[df_district['District'] == 'Castle']\n",
    "df_castle_pos_lat = df_castle_pos['Latitude']\n",
    "df_castle_pos_lng = df_castle_pos['Longitude']"
   ]
  },
  {
   "cell_type": "markdown",
   "metadata": {},
   "source": [
    "##### Newnham "
   ]
  },
  {
   "cell_type": "markdown",
   "metadata": {},
   "source": [
    "When we performed the **DBSCAN** we found that **cluster 0** is the most populous with **4** entertainment venues.\n",
    "Let's get the mean of the most popular cluster."
   ]
  },
  {
   "cell_type": "code",
   "execution_count": 68,
   "metadata": {},
   "outputs": [
    {
     "name": "stdout",
     "output_type": "stream",
     "text": [
      "(4, 6)\n"
     ]
    }
   ],
   "source": [
    "df_newnham_f = df_newnham[df_newnham['Scatter'] == 0]\n",
    "print(df_newnham_f.shape)"
   ]
  },
  {
   "cell_type": "code",
   "execution_count": 69,
   "metadata": {},
   "outputs": [
    {
     "name": "stdout",
     "output_type": "stream",
     "text": [
      "Lat: 52.2003564865187 Lng: 0.10842846644610948\n"
     ]
    }
   ],
   "source": [
    "new_f_lat = df_newnham_f['Venue Latitude'].mean()\n",
    "new_f_lng = df_newnham_f['Venue Longitude'].mean()\n",
    "print('Lat:',new_f_lat,'Lng:',new_f_lng)"
   ]
  },
  {
   "cell_type": "markdown",
   "metadata": {},
   "source": [
    "Let's get the location of the **Newnham** district so that we can centre our map view."
   ]
  },
  {
   "cell_type": "code",
   "execution_count": 70,
   "metadata": {},
   "outputs": [],
   "source": [
    "df_newnham_pos = df_district[df_district['District'] == 'Newnham']\n",
    "df_newnham_pos_lat = df_newnham_pos['Latitude']\n",
    "df_newnham_pos_lng = df_newnham_pos['Longitude']"
   ]
  },
  {
   "cell_type": "markdown",
   "metadata": {},
   "source": [
    "### District Maps - Market, Castle & Newnham"
   ]
  },
  {
   "cell_type": "markdown",
   "metadata": {},
   "source": [
    "In these maps, we are shwoing:\n",
    "\n",
    "* Latin American Restaurants with a **red** marker.\n",
    "    * There is a **red** circle indicating a 500m radius from the restaurant.\n",
    "    * Our recommended location cannot be situated within this radius.\n",
    "* Entertainment venues from the most populous DBSCAN cluster within this district.\n",
    "* **Blue** marker indicating the most suitable location"
   ]
  },
  {
   "cell_type": "markdown",
   "metadata": {},
   "source": [
    "#### Map of Market"
   ]
  },
  {
   "cell_type": "code",
   "execution_count": 71,
   "metadata": {
    "scrolled": false
   },
   "outputs": [
    {
     "data": {
      "text/html": [
       "<div style=\"width:100%;\"><div style=\"position:relative;width:100%;height:0;padding-bottom:60%;\"><span style=\"color:#565656\">Make this Notebook Trusted to load map: File -> Trust Notebook</span><iframe src=\"about:blank\" style=\"position:absolute;width:100%;height:100%;left:0;top:0;border:none !important;\" data-html=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 onload=\"this.contentDocument.open();this.contentDocument.write(atob(this.getAttribute('data-html')));this.contentDocument.close();\" allowfullscreen webkitallowfullscreen mozallowfullscreen></iframe></div></div>"
      ],
      "text/plain": [
       "<folium.folium.Map at 0x222d9f61cf8>"
      ]
     },
     "execution_count": 71,
     "metadata": {},
     "output_type": "execute_result"
    },
    {
     "data": {
      "text/plain": [
       "<Figure size 432x288 with 0 Axes>"
      ]
     },
     "metadata": {},
     "output_type": "display_data"
    }
   ],
   "source": [
    "mar_f_map = folium.Map(location=[df_market_pos_lat, df_market_pos_lng], zoom_start=15,control_scale=True)  \n",
    "CreateFinalMap(mar_f_map,mkt_f_lat,mkt_f_lng,df_market_f)\n",
    "plt.savefig('Market_ID_Loc_1.pdf', bbox_inches='tight')\n",
    "mar_f_map"
   ]
  },
  {
   "cell_type": "markdown",
   "metadata": {},
   "source": [
    "As we can see, this location is within the **500m** radius of an existing **Latin American** restaurant.\n",
    "Let's find out how far away it is, using the function we have created above."
   ]
  },
  {
   "cell_type": "code",
   "execution_count": 72,
   "metadata": {},
   "outputs": [
    {
     "name": "stdout",
     "output_type": "stream",
     "text": [
      "Distance is:  0.46 Km Lat:  52.21022973296178 Lng:  0.1173092001522491\n",
      "Distance is:  1.27 Km Lat:  52.200508 Lng:  0.135943\n",
      "Distance is:  1.96 Km Lat:  52.19763631707918 Lng:  0.14491176009346454\n",
      "Distance is:  1.61 Km Lat:  52.208076 Lng:  0.14340329\n",
      "Distance is:  1.73 Km Lat:  52.20932828 Lng:  0.14487663\n"
     ]
    }
   ],
   "source": [
    "for lat, lng in zip(district_latin_update['Venue Latitude'], district_latin_update['Venue Longitude']):\n",
    "    print('Distance is: ',round(calculate_latlng_dist(lat,lng,mkt_f_lat,mkt_f_lng),2),'Km','Lat: ',lat,'Lng: ',lng)"
   ]
  },
  {
   "cell_type": "markdown",
   "metadata": {},
   "source": [
    "<p>The recommended point is 460m away from one of the restaurants.<br>\n",
    "Let's extend the distance between the desired location and the Latin American restaurant.</p>\n",
    "<p>First lets find the angle between the two points.</p>"
   ]
  },
  {
   "cell_type": "code",
   "execution_count": 73,
   "metadata": {},
   "outputs": [
    {
     "name": "stdout",
     "output_type": "stream",
     "text": [
      "Angle is:  166.19184072422073 °\n"
     ]
    }
   ],
   "source": [
    "la_lat = 52.21022973296178\n",
    "la_lng = 0.1173092001522491\n",
    "\n",
    "dif_angle = angleFromCoordinate(la_lat,la_lng,mkt_f_lat,mkt_f_lng)\n",
    "print('Angle is: ',dif_angle,'°')\n",
    "# round(dif_angle,2)"
   ]
  },
  {
   "cell_type": "markdown",
   "metadata": {},
   "source": [
    "Now, lets use this angle (166.19°) to find 500m from the Latin American restaurant."
   ]
  },
  {
   "cell_type": "code",
   "execution_count": 74,
   "metadata": {},
   "outputs": [
    {
     "name": "stdout",
     "output_type": "stream",
     "text": [
      "Lat:  52.20586605989206 Lng:  0.11905483291775669\n"
     ]
    }
   ],
   "source": [
    "mar_n_f_lat, mar_n_f_lng = distanceUsingBearing((dif_angle),0.5,la_lat,la_lng)\n",
    "print(\"Lat: \",mar_n_f_lat,\"Lng: \",mar_n_f_lng)"
   ]
  },
  {
   "cell_type": "markdown",
   "metadata": {},
   "source": [
    "Finally, let's check the new latitude and longitude on the map."
   ]
  },
  {
   "cell_type": "code",
   "execution_count": 75,
   "metadata": {},
   "outputs": [
    {
     "data": {
      "text/html": [
       "<div style=\"width:100%;\"><div style=\"position:relative;width:100%;height:0;padding-bottom:60%;\"><span style=\"color:#565656\">Make this Notebook Trusted to load map: File -> Trust Notebook</span><iframe src=\"about:blank\" style=\"position:absolute;width:100%;height:100%;left:0;top:0;border:none !important;\" data-html=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 onload=\"this.contentDocument.open();this.contentDocument.write(atob(this.getAttribute('data-html')));this.contentDocument.close();\" allowfullscreen webkitallowfullscreen mozallowfullscreen></iframe></div></div>"
      ],
      "text/plain": [
       "<folium.folium.Map at 0x222d913b320>"
      ]
     },
     "execution_count": 75,
     "metadata": {},
     "output_type": "execute_result"
    },
    {
     "data": {
      "text/plain": [
       "<Figure size 432x288 with 0 Axes>"
      ]
     },
     "metadata": {},
     "output_type": "display_data"
    }
   ],
   "source": [
    "mar_f_map = folium.Map(location=[df_market_pos_lat, df_market_pos_lng], zoom_start=15,control_scale=True)  \n",
    "CreateFinalMap(mar_f_map,mar_n_f_lat,mar_n_f_lng,df_market_f)\n",
    "plt.savefig('Market_ID_Loc_2.pdf', bbox_inches='tight')\n",
    "mar_f_map"
   ]
  },
  {
   "cell_type": "markdown",
   "metadata": {},
   "source": [
    "#### Map of Castle"
   ]
  },
  {
   "cell_type": "code",
   "execution_count": 76,
   "metadata": {},
   "outputs": [
    {
     "data": {
      "text/html": [
       "<div style=\"width:100%;\"><div style=\"position:relative;width:100%;height:0;padding-bottom:60%;\"><span style=\"color:#565656\">Make this Notebook Trusted to load map: File -> Trust Notebook</span><iframe src=\"about:blank\" style=\"position:absolute;width:100%;height:100%;left:0;top:0;border:none !important;\" data-html=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 onload=\"this.contentDocument.open();this.contentDocument.write(atob(this.getAttribute('data-html')));this.contentDocument.close();\" allowfullscreen webkitallowfullscreen mozallowfullscreen></iframe></div></div>"
      ],
      "text/plain": [
       "<folium.folium.Map at 0x222d93ac780>"
      ]
     },
     "execution_count": 76,
     "metadata": {},
     "output_type": "execute_result"
    },
    {
     "data": {
      "text/plain": [
       "<Figure size 432x288 with 0 Axes>"
      ]
     },
     "metadata": {},
     "output_type": "display_data"
    }
   ],
   "source": [
    "cst_f_map = folium.Map(location=[df_castle_pos_lat, df_castle_pos_lng], zoom_start=15,control_scale=True)  \n",
    "CreateFinalMap(cst_f_map,cst_f_lat,cst_f_lng,df_castle_f)\n",
    "plt.savefig('Castle_ID_Loc.pdf', bbox_inches='tight')\n",
    "cst_f_map"
   ]
  },
  {
   "cell_type": "markdown",
   "metadata": {},
   "source": [
    "#### Map of Newnham"
   ]
  },
  {
   "cell_type": "code",
   "execution_count": 77,
   "metadata": {},
   "outputs": [
    {
     "data": {
      "text/html": [
       "<div style=\"width:100%;\"><div style=\"position:relative;width:100%;height:0;padding-bottom:60%;\"><span style=\"color:#565656\">Make this Notebook Trusted to load map: File -> Trust Notebook</span><iframe src=\"about:blank\" style=\"position:absolute;width:100%;height:100%;left:0;top:0;border:none !important;\" data-html=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 onload=\"this.contentDocument.open();this.contentDocument.write(atob(this.getAttribute('data-html')));this.contentDocument.close();\" allowfullscreen webkitallowfullscreen mozallowfullscreen></iframe></div></div>"
      ],
      "text/plain": [
       "<folium.folium.Map at 0x222d90d0b00>"
      ]
     },
     "execution_count": 77,
     "metadata": {},
     "output_type": "execute_result"
    },
    {
     "data": {
      "text/plain": [
       "<Figure size 432x288 with 0 Axes>"
      ]
     },
     "metadata": {},
     "output_type": "display_data"
    }
   ],
   "source": [
    "new_f_map = folium.Map(location=[df_newnham_pos_lat, df_newnham_pos_lng], zoom_start=15,control_scale=True)  \n",
    "CreateFinalMap(new_f_map,new_f_lat,new_f_lng,df_newnham_f)\n",
    "plt.savefig('Newnham_ID_Loc_1.pdf', bbox_inches='tight')\n",
    "new_f_map"
   ]
  },
  {
   "cell_type": "markdown",
   "metadata": {},
   "source": [
    "#### Final Analysis"
   ]
  },
  {
   "cell_type": "markdown",
   "metadata": {},
   "source": [
    "Now that we have the latitude and longitude points for the 3 districts that we chose to explore furhter, can we get an address from the lat and lng points?"
   ]
  },
  {
   "cell_type": "markdown",
   "metadata": {},
   "source": [
    "#### FUNCTION - Return Address from Coordinates"
   ]
  },
  {
   "cell_type": "code",
   "execution_count": 78,
   "metadata": {},
   "outputs": [],
   "source": [
    "from geopy.geocoders import Nominatim\n",
    "\n",
    "def returnAddress(lat,lng):\n",
    "\n",
    "    locStr = str(lat) + ',' + str(lng)\n",
    "    geolocator = Nominatim(user_agent=\"My_app\")\n",
    "    location = geolocator.reverse(locStr)\n",
    "    return location.address"
   ]
  },
  {
   "cell_type": "markdown",
   "metadata": {},
   "source": [
    "Return the best address from:\n",
    "* Market\n",
    "* Castle\n",
    "* Newnham"
   ]
  },
  {
   "cell_type": "code",
   "execution_count": 79,
   "metadata": {},
   "outputs": [
    {
     "name": "stdout",
     "output_type": "stream",
     "text": [
      "--------------------------------\n",
      "|           Address            |\n",
      "--------------------------------\n",
      "Market Address: \n",
      "North Shoes, 11, Rose Crescent, Newnham, Cambridge, Cambridgeshire, East of England, England, CB2 3LL, United Kingdom\n",
      "--------------------------------\n",
      "Castle Address: \n",
      "Churchill College (University of Cambridge), Hedgerley Close, Eddington, Cambridge, Cambridgeshire, East of England, England, CB3 0DS, United Kingdom\n",
      "--------------------------------\n",
      "Newnham Address: \n",
      "Katharine Stephen Room, Sidgwick Avenue, Newnham, Cambridge, Cambridgeshire, East of England, England, CB3 9HG, United Kingdom\n",
      "--------------------------------\n"
     ]
    }
   ],
   "source": [
    "add_mkt = returnAddress(mar_n_f_lat, mar_n_f_lng)\n",
    "add_cst = returnAddress(cst_f_lat, cst_f_lng)\n",
    "add_new = returnAddress(new_f_lat, new_f_lng)\n",
    "\n",
    "print('--------------------------------')\n",
    "print('|           Address            |')\n",
    "print('--------------------------------')\n",
    "print('Market Address: ')\n",
    "print(add_mkt)\n",
    "print('--------------------------------')\n",
    "print('Castle Address: ')\n",
    "print(add_cst)\n",
    "print('--------------------------------')\n",
    "print('Newnham Address: ')\n",
    "print(add_new)\n",
    "print('--------------------------------')"
   ]
  },
  {
   "cell_type": "markdown",
   "metadata": {},
   "source": [
    "[Back to Contents](#contents)"
   ]
  },
  {
   "cell_type": "markdown",
   "metadata": {},
   "source": [
    "<div style=\"background-color:#769fcd;color:#FFFFFF;padding:15px;\">\n",
    "<h2>5. Results</h2><a name=\"results\"></a>\n",
    "</div>"
   ]
  },
  {
   "cell_type": "markdown",
   "metadata": {},
   "source": [
    "These are the results that we have taken from our analysis. At the start of the analysis section we set out to show the following:\n",
    "1. **Does Cambridge follow the UK in terms of overall favourite restaurant types?**\n",
    "\n",
    "<p>From examining the results that we achieved we can see that in general Cambridge does fit with the overall UK top restaurant list.</p>\n",
    "\n",
    "<p>We noticed that pubs were not included in the **food** category, so we had to combine restaurants and entertainment dataframes to include pubs in the tally.</p>\n",
    "\n",
    "<p>Once we included entertainment our sample data looked like the following, only including categories listed in the top 5 report:</p>\n",
    "\n",
    "1. Pub/Gastropub (67)\n",
    "2. Chinese & Indian (21 each)\n",
    "3. Pizza/Italian (13)\n",
    "4. Fish & Chips Shop(5)\n",
    "\n",
    "<p>This is a close correlation to the UK top 5 that we have found:</p>\n",
    "\n",
    "1. Pub Food\n",
    "2. English\n",
    "3. Chinese\n",
    "4. Indian\n",
    "5. Italian\n",
    "\n",
    "\n",
    "2. **Is there a correlation between the frequency of restaurant and entertainment venues?**\n",
    "\n",
    "<p>The information gained from our sample data shows that there is a correlation between restaurant and entertainment venue frequency. Using our horizontal bar chart we can show that there is in the majority of instances more restaurants than entertainment venues, with a couple of outliers.</p>\n",
    "\n",
    "<p>Using a scatter plot we were able to plot a linear regression showing the trend.</p>\n",
    "\n",
    "3. **Cluster our districts to find which distrcits are similar in terms of restaurants and entertainent.**\n",
    "\n",
    "<p>In this section we used K-Means to make clusters to show similarities within Districts. For this we used a DataFrame with both restaurant and entertainment venue frequencies listed for all the 88 unique categories.</p>\n",
    "\n",
    "<p>The resulting clusters were as follows:</p>\n",
    "\n",
    "* **Cluster 0**\n",
    "    * Abbey\n",
    "    * Arbury\n",
    "    * Cherry Hinton\n",
    "    * Coleridge\n",
    "    * West Chesterton\n",
    "\n",
    "* **Cluster 1**\n",
    "    * Queens Edith\n",
    "    \n",
    "* **Cluster 2**\n",
    "    * East Chesterton\n",
    "\n",
    "* **Cluster 3**\n",
    "    * Castle\n",
    "    * Market\n",
    "    * Newnham\n",
    "    * Petersfield\n",
    "    * Romsey\n",
    "\n",
    "* **Cluster 4**\n",
    "    * Kings Hedges\n",
    "    * Trumpington\n",
    "    \n",
    "<p>We already know that all of the **Latin American** restaurants are located around the districts of **Petersfield** and **Romsey**.<br>That leaves us with **Castle,Market and Newnham** as potential districts for our restaurant.</p>\n",
    "\n",
    "\n",
    "4. **Using our best match cluster can we then cluster the entertainment venues within the chosen districts to find the most populous district?**\n",
    "\n",
    "<p>As we want our venue to be located near a populous area for entertainment venues we can try to find the most suitable location</p>\n",
    "<p>Now that we have the results from the clustering narrowed our search to 3 districts. Using DBSCAN to create a scatter plot with latitude and longitude points for the entertainment venues within the districts we created a cluster of entertainment venues.</p>\n",
    "<p>We took the cluster information and used it to create a list of the venues within the most populous cluster of venues. This information will be used to calculate the ideal location within the districts.</p>\n",
    "\n",
    "5. **Get the ideal location within the most populous cluster within our chosen districts, to find an address.**\n",
    "\n",
    "<p>In the last stage we took the mean of all of the coordinates from our list of entertainment venues within the prefered cluster and calculated the mean coordinate. With this mean coordinate for our three chosen districts we got the following addressess:</p>\n",
    "* **Market**\n",
    "    * North Shoes, 11, Rose Crescent,<br>\n",
    "      Newnham,<br>\n",
    "      Cambridge,<br>\n",
    "      CB2 3LL\n",
    "* **Castle**\n",
    "    * Churchill College (University of Cambridge),<br>\n",
    "      Hedgerley Close,<br>\n",
    "      Eddington,<br>\n",
    "      Cambridge<br>\n",
    "      CB3 0DS\n",
    "* **Newnham**\n",
    "    * Katharine Stephen Room,<br>\n",
    "      Sidgwick Avenue,<br>\n",
    "      Newnham,<br>\n",
    "      Cambridge<br>\n",
    "      CB3 9HG\n",
    "      \n",
    "These locations can be used by the stakeholder to inform the letting agent of the ideal location that they would like to find a restaurant."
   ]
  },
  {
   "cell_type": "markdown",
   "metadata": {},
   "source": [
    "[Back to contents](#contents)"
   ]
  },
  {
   "cell_type": "markdown",
   "metadata": {},
   "source": [
    "<div style=\"background-color:#769fcd;color:#FFFFFF;padding:15px;\">\n",
    "<h2>6. Discussion</h2><a name=\"discussion\"></a>\n",
    "</div>"
   ]
  },
  {
   "cell_type": "markdown",
   "metadata": {},
   "source": [
    "From the results achieved it can be seen that there are other factors we could use to find a more suitable district, if we feel that our research was not details enough.\n",
    "\n",
    "For instance, as the comparison between the UK top 5 and Cambridge top 5 is very similar we could cluster more neighbourhoods from other citys to get more accurate clusters.\n",
    "\n",
    "Cambridge is a fairly small city as we can see from the frequency of restaurants with a sample size of 500m. Perhaps this research could be calculated using a larger city, for instance London, where we could increase the sample size radius and then using our clustering model we could use it on Cambridge.\n",
    "\n",
    "Another approach could be to take the restaurants and entertainments coordinates and perform a DBSCAN to find the clusters with the densest of both items to make our search regions, rather than using districts. As the stakeholder wants to find an area with a high density of entertainment venues we can assume, from our correlation information, that the area will also be dense with restaurants too.\n",
    "\n",
    "Lastly, we could also look at the mean lease price for retail outlets within these districts so that the stakeholder can see the financial implications too."
   ]
  },
  {
   "cell_type": "markdown",
   "metadata": {},
   "source": [
    "[Back to contents](#contents)"
   ]
  },
  {
   "cell_type": "markdown",
   "metadata": {},
   "source": [
    "<div style=\"background-color:#769fcd;color:#FFFFFF;padding:15px;\">\n",
    "<h2>7. Conclusion</h2><a name=\"conclusion\"></a>\n",
    "</div>"
   ]
  },
  {
   "cell_type": "markdown",
   "metadata": {},
   "source": [
    "Our research goal was to find suitable districts for the stakeholder's new restaurant, and to locate and area within the district which would be most suitable, and do not have a Latin American restaurant within 500m.\n",
    "\n",
    "From our results we can see the following:\n",
    "\n",
    "- Cambridge follows the UK in terms of the most popular restaurant types. This could help us with furhter research if required.\n",
    "- There is a clear correlation between the frequency of restaurant and entertainment venues, so if the stakeholder wants a high density of entertainment venues they will have more competition from other restaurants.\n",
    "- Of the addressess that we retrieved from our final analysis, the most suitable appears to be in **Market** with a high density of entertainment venues situated in close proximity. The **Market** area also has a high density of restaurants, and we can make an assumption that due to the densities of both restaurant and entertainment venues the lease price in the area will be higher than maybe **Castle** or **Newnham**."
   ]
  },
  {
   "cell_type": "markdown",
   "metadata": {},
   "source": [
    "[Back to contents](#contents)"
   ]
  },
  {
   "cell_type": "markdown",
   "metadata": {},
   "source": [
    "> <small>Written by - Alex Lynn - © 2020</small>"
   ]
  }
 ],
 "metadata": {
  "kernelspec": {
   "display_name": "Python 3",
   "language": "python",
   "name": "python3"
  },
  "language_info": {
   "codemirror_mode": {
    "name": "ipython",
    "version": 3
   },
   "file_extension": ".py",
   "mimetype": "text/x-python",
   "name": "python",
   "nbconvert_exporter": "python",
   "pygments_lexer": "ipython3",
   "version": "3.6.5"
  }
 },
 "nbformat": 4,
 "nbformat_minor": 2
}
