{
 "cells": [
  {
   "cell_type": "markdown",
   "metadata": {},
   "source": [
    "<div style=\"background-color:#769fcd;color:#FFFFFF;padding:20px;\">\n",
    "<h1>Capstone Project - The Battle of the Neighbourhoods - Week 2</h1><a name=\"contents\"></a>\n",
    "<h3><em>IBM Data Science Professional Certificate - Alex Lynn</em></h3>\n",
    "</div>"
   ]
  },
  {
   "cell_type": "markdown",
   "metadata": {},
   "source": [
    "<h2>Table of Contents</h2>\n",
    "* [1. Introduction](#introduction)\n",
    "* [2. Data](#data)\n",
    "* [3. Methodology](#methods)\n",
    "* [4. Analysis](#analysis)\n",
    "* [5. Results](#results)\n",
    "* [6. Discussion](#discussion)\n",
    "* [7. Concolusion](#conclusion)\n",
    "* [8. Appendix](#appendix)"
   ]
  },
  {
   "cell_type": "markdown",
   "metadata": {},
   "source": [
    "<div style=\"background-color:#769fcd;color:#FFFFFF;padding:15px;\">\n",
    "<h2>1. Introduction</h2><a name=\"introduction\"></a>\n",
    "</div>"
   ]
  },
  {
   "cell_type": "markdown",
   "metadata": {},
   "source": [
    "This research is intended on finding the best suitable location for a **Peruvian** restaurant in the city of **Cambridge, UK**. The report is designed for any stakeholder who would like to make a calculated risk before leasing a retail space.\n",
    "\n",
    "The main criteria for this report are to find a location that is close to an area where there is a good choice of entertainment, but where there are not any restaurants that provide similar cuisine type (e.g. **Mexican, Brazilian** etc).\n",
    "\n",
    "**Cambridge** is a city with a big demographic of tourists and foreign students, so appealing to a type of cuisine that does not exist in the market could prove profitable for the stakeholder.\n",
    "\n",
    "As of current statistics these are the **5** most popular restaurant cuisines in the **UK**, so there is a gap in the market for emerging food trends. The report will look to examine whether Cambridge fits into the same generalised food choice as the rest of the UK.\n",
    "<ol>\n",
    "    <li>Pub Food</li>\n",
    "    <li>English</li>\n",
    "    <li>Chinese</li>\n",
    "    <li>Indian</li>\n",
    "    <li>Italian</li>\n",
    "</ol>\n",
    "\n",
    "> <small>Appendix: 1.1</small>\n",
    "> <a href=\"https://beambox.com/townsquare/what-are-the-most-popular-types-of-restaurants-in-the-uk\">What are the most popular types of restaurants in the UK</a><br>\n",
    "> <cite>Beambox.com</cite>\n",
    "\n",
    "[Back to Contents](#contents)"
   ]
  },
  {
   "cell_type": "markdown",
   "metadata": {},
   "source": [
    "<div style=\"background-color:#769fcd;color:#FFFFFF;padding:15px;\">\n",
    "<h2>2. Data</h2><a name=\"data\"></a>\n",
    "</div>"
   ]
  },
  {
   "cell_type": "markdown",
   "metadata": {},
   "source": [
    "In this report we will look to get the following information from our data.\n",
    "\n",
    "* Locate any restaurants within the City that already serve **Latin American** food.\n",
    "    * Restaurant information will be stored for use in further analysis.\n",
    "    * The stakeholder has said that a 1km radius is required from any existing **Latin American** restaurant.\n",
    "* Research the demographic of restaurant types within **Cambridge**, listing the top 10 categories.\n",
    "    * The stakeholder expects that the market is dominated by **Italian** restaurants.\n",
    "* Divide the city of **Cambridge** into smaller areas using a list of boroughs. \n",
    "    * Show the frequency of the top 10 categories within each borough.\n",
    "    * Showing the frequency of entertainment venues (e.g. Theatres, Cinemas, Bars etc)\n",
    "* Display on a Map the clustering of the different areas within **Cambridge** and which areas are similar.\n",
    "    * Showing any existing ** Latin American** restauraunts.\n",
    "\n",
    "To create this report the methods used will be:\n",
    "\n",
    "* *Geolocater* to provide the centre point of **Cambridge, UK**.\n",
    "* *Web Scraping* of **Cambridge** districts.\n",
    "    * Data gathered to get the Geo points for each district.\n",
    "    * Data will be used to create a Choropleth Map depicting the frequencies within these areas.\n",
    "    > <small>Appendix: 2.1</small>\n",
    "    > <a href=\"https://wiki.openstreetmap.org/wiki/Cambridge\">Cambridge</a><br>\n",
    "    > <cite>OpenStreetMap.org</cite>\n",
    "* *FourSquare API* will return lists of venues using the co-ordinates for each district.\n",
    "    * It will also return the latitude and longitude for each venue.\n",
    "    * Using specific venue types will return the data requied\n",
    "    \n",
    "\n",
    "[Back to Contents](#contents)"
   ]
  },
  {
   "cell_type": "markdown",
   "metadata": {},
   "source": [
    "#### Import Statement"
   ]
  },
  {
   "cell_type": "markdown",
   "metadata": {},
   "source": [
    "<table align=\"left\">\n",
    "    <thead>\n",
    "        <th>Library</th>\n",
    "        <th>Reason</th>\n",
    "    </thead>\n",
    "    <tbody>\n",
    "        <tr>\n",
    "            <td>**Folium**</td>\n",
    "            <td>Mapping library, to create accurate map visualisations</td>\n",
    "        </tr>\n",
    "        <tr>\n",
    "            <td>**Pandas**</td>\n",
    "            <td>Data Analysis library, to create DataFrames and process data.</td>\n",
    "        </tr>\n",
    "        <tr>\n",
    "            <td>**Matplotlib**</td>\n",
    "            <td>Plotting library, to show visualisations of the data.</td>\n",
    "        </tr>\n",
    "        <tr>\n",
    "            <td>**Seaborn**</td>\n",
    "            <td>Plotting library, works on top of Matplotlib.</td>\n",
    "        </tr>\n",
    "        <tr>\n",
    "            <td>**urllib.request**</td>\n",
    "            <td>URL request library, to make web requests.</td>\n",
    "        </tr>\n",
    "        <tr>\n",
    "            <td>**bs4**</td>\n",
    "            <td>BeautifulSoup library, to scrape the data from web requests.</td>\n",
    "        </tr>\n",
    "        <tr>\n",
    "            <td>**geocoder**</td>\n",
    "            <td>GeoCoder library, to get the latitude and longitude using an address.</td>\n",
    "        </tr>\n",
    "        <tr>\n",
    "            <td>**Numpy**</td>\n",
    "            <td>Scientific library, we will be using it for Arrays.</td>\n",
    "        </tr>\n",
    "        <tr>\n",
    "            <td>JSON</td>\n",
    "            <td>JSON library, used to load and parse JSON files.</td>\n",
    "        </tr>\n",
    "        <tr>\n",
    "            <td>Requests</td>\n",
    "            <td>Web Requests library, to access websites and parse HTML</td>\n",
    "        </tr>\n",
    "    </tbody>\n",
    "</table>"
   ]
  },
  {
   "cell_type": "code",
   "execution_count": 1,
   "metadata": {},
   "outputs": [],
   "source": [
    "# Import Statements\n",
    "import folium\n",
    "import pandas as pd\n",
    "\n",
    "import matplotlib.pyplot as plt\n",
    "import matplotlib.cm as cm\n",
    "import matplotlib.colors as colors\n",
    "%matplotlib inline \n",
    "\n",
    "import seaborn as sns\n",
    "import urllib.request\n",
    "from bs4 import BeautifulSoup\n",
    "from geopy.geocoders import Nominatim\n",
    "\n",
    "import numpy as np\n",
    "import json\n",
    "import requests"
   ]
  },
  {
   "cell_type": "markdown",
   "metadata": {},
   "source": [
    "### Data Retrieval\n",
    "<a id=\"dataretrieval\"></a>"
   ]
  },
  {
   "cell_type": "markdown",
   "metadata": {},
   "source": [
    "To start we need to scrape the data from the <a href=\"https://wiki.openstreetmap.org/wiki/Cambridge\">website</a> to get all of our districts which will be used with our .geojson file.<br>\n",
    "This will be done using `urllib.request` which will request the URL from the site, then we will use `bs4` to collect the information from the request and put it into a DataFrame"
   ]
  },
  {
   "cell_type": "code",
   "execution_count": 2,
   "metadata": {},
   "outputs": [],
   "source": [
    "# Request the webpage of the following URL\n",
    "url = 'https://wiki.openstreetmap.org/wiki/Cambridge'\n",
    "data_raw = urllib.request.urlopen(url).read()"
   ]
  },
  {
   "cell_type": "code",
   "execution_count": 3,
   "metadata": {},
   "outputs": [],
   "source": [
    "# Prettify the request\n",
    "soup = BeautifulSoup(data_raw, 'lxml')"
   ]
  },
  {
   "cell_type": "markdown",
   "metadata": {},
   "source": [
    "##### Get all data from the website into an array"
   ]
  },
  {
   "cell_type": "code",
   "execution_count": 4,
   "metadata": {},
   "outputs": [],
   "source": [
    "# Initiate the arrays\n",
    "district = []\n",
    "location = []\n",
    "\n",
    "# Get the 4th table from the webpage\n",
    "tables = soup.findAll(\"table\")[3]\n",
    "\n",
    "# Get all <tr> references from the table\n",
    "rows = tables.findAll(\"tr\")\n",
    "\n",
    "# For each row in <tr>\n",
    "for row in rows:\n",
    "    i = 0\n",
    "    cells = row.findAll(\"td\")\n",
    "    for cell in cells:\n",
    "        if i == 0:\n",
    "            district.append(cell.text)\n",
    "        elif i == 1:\n",
    "            number = cell.find(\"span\", title=\"browse relation\").text\n",
    "            location.append(number)\n",
    "        \n",
    "        i = i + 1"
   ]
  },
  {
   "cell_type": "markdown",
   "metadata": {},
   "source": [
    "##### Combine Arrays into DataFrame"
   ]
  },
  {
   "cell_type": "code",
   "execution_count": 5,
   "metadata": {},
   "outputs": [
    {
     "name": "stdout",
     "output_type": "stream",
     "text": [
      "Shape: (14, 2)\n"
     ]
    },
    {
     "data": {
      "text/html": [
       "<div>\n",
       "<style scoped>\n",
       "    .dataframe tbody tr th:only-of-type {\n",
       "        vertical-align: middle;\n",
       "    }\n",
       "\n",
       "    .dataframe tbody tr th {\n",
       "        vertical-align: top;\n",
       "    }\n",
       "\n",
       "    .dataframe thead th {\n",
       "        text-align: right;\n",
       "    }\n",
       "</style>\n",
       "<table border=\"1\" class=\"dataframe\">\n",
       "  <thead>\n",
       "    <tr style=\"text-align: right;\">\n",
       "      <th></th>\n",
       "      <th>District</th>\n",
       "      <th>Location</th>\n",
       "    </tr>\n",
       "  </thead>\n",
       "  <tbody>\n",
       "    <tr>\n",
       "      <th>0</th>\n",
       "      <td>Abbey</td>\n",
       "      <td>1736010</td>\n",
       "    </tr>\n",
       "    <tr>\n",
       "      <th>1</th>\n",
       "      <td>Arbury</td>\n",
       "      <td>1736011</td>\n",
       "    </tr>\n",
       "    <tr>\n",
       "      <th>2</th>\n",
       "      <td>Castle</td>\n",
       "      <td>1736012</td>\n",
       "    </tr>\n",
       "    <tr>\n",
       "      <th>3</th>\n",
       "      <td>Cherry Hinton</td>\n",
       "      <td>1736013</td>\n",
       "    </tr>\n",
       "    <tr>\n",
       "      <th>4</th>\n",
       "      <td>Coleridge</td>\n",
       "      <td>1736014</td>\n",
       "    </tr>\n",
       "  </tbody>\n",
       "</table>\n",
       "</div>"
      ],
      "text/plain": [
       "        District Location\n",
       "0          Abbey  1736010\n",
       "1         Arbury  1736011\n",
       "2         Castle  1736012\n",
       "3  Cherry Hinton  1736013\n",
       "4      Coleridge  1736014"
      ]
     },
     "execution_count": 5,
     "metadata": {},
     "output_type": "execute_result"
    }
   ],
   "source": [
    "df_district = pd.DataFrame(district,columns=['District'])\n",
    "df_district['Location'] = location\n",
    "\n",
    "print('Shape:',df_district.shape)\n",
    "df_district.head()"
   ]
  },
  {
   "cell_type": "markdown",
   "metadata": {},
   "source": [
    "##### Load the GeoJson file"
   ]
  },
  {
   "cell_type": "markdown",
   "metadata": {},
   "source": [
    "* GeoJson file that made using the location boundary information from the webiste listed above.\n",
    "* Json data collected from <a href=\"http://polygons.openstreetmap.fr/\">website</a>.\n",
    "* Json data collated into one GeoJson file using Adobe Dreamweaver and following the standard on\n",
    "<a href=\"https://en.wikipedia.org/wiki/GeoJSON\">Wikipedia</a>.\n",
    "* Final geojson file tested using <a href=\"http://geojson.io/\">geojson.io</a>"
   ]
  },
  {
   "cell_type": "code",
   "execution_count": 6,
   "metadata": {},
   "outputs": [],
   "source": [
    "cambridge_geo = r'cambridge.geojson'"
   ]
  },
  {
   "cell_type": "markdown",
   "metadata": {},
   "source": [
    "##### Get the centroid positions of the geojson areas"
   ]
  },
  {
   "cell_type": "code",
   "execution_count": 7,
   "metadata": {},
   "outputs": [],
   "source": [
    "# open JSON file \n",
    "districtName = []\n",
    "districtLat = []\n",
    "districtLon = []\n",
    "\n",
    "with open(cambridge_geo) as f:\n",
    "    data = json.load(f)\n",
    "    coll = data['features']\n",
    "    \n",
    "    # Loop through the json file\n",
    "    for row in coll:\n",
    "        \n",
    "        # initiate lat and lon arrays to store the points\n",
    "        Lat = []\n",
    "        Lon = []\n",
    "        \n",
    "        # setup properties node\n",
    "        prop = row['properties']\n",
    "        \n",
    "        # setup coordinates node\n",
    "        geometry = row['geometry']\n",
    "        coord = geometry['coordinates']\n",
    "        name = ''\n",
    "        \n",
    "        # loop through the key, value pairs in properties\n",
    "        for key, value in prop.items():\n",
    "            name = value\n",
    "        \n",
    "        # loop through the coordinates\n",
    "        for level1 in coord:\n",
    "            for level2 in level1:\n",
    "                for level3 in level2:\n",
    "                    \n",
    "                    # convert to string\n",
    "                    i = str(level3)\n",
    "                    \n",
    "                    # replace brackets\n",
    "                    i = i.replace('[','')\n",
    "                    i = i.replace(']','')\n",
    "                    \n",
    "                    # split using the comma, with maximum of two values in list\n",
    "                    i = i.split(',',1)\n",
    "                    \n",
    "                    # add latitude and longitude to respective arrays\n",
    "                    Lat.append(i[0])\n",
    "                    Lon.append(i[1])\n",
    "                \n",
    "        # convert arrays to float values\n",
    "        Lat = np.array(Lat).astype(np.float)\n",
    "        Lon = np.array(Lon).astype(np.float)\n",
    "        \n",
    "        # get the mean latitude and longitude\n",
    "        LatMean = np.mean(Lat)\n",
    "        LonMean = np.mean(Lon)\n",
    "        \n",
    "        # append top level arrays\n",
    "        districtName.append(name)\n",
    "        districtLat.append(LatMean)\n",
    "        districtLon.append(LonMean)"
   ]
  },
  {
   "cell_type": "markdown",
   "metadata": {},
   "source": [
    "##### Put arrays into DataFrame"
   ]
  },
  {
   "cell_type": "code",
   "execution_count": 8,
   "metadata": {},
   "outputs": [
    {
     "data": {
      "text/html": [
       "<div>\n",
       "<style scoped>\n",
       "    .dataframe tbody tr th:only-of-type {\n",
       "        vertical-align: middle;\n",
       "    }\n",
       "\n",
       "    .dataframe tbody tr th {\n",
       "        vertical-align: top;\n",
       "    }\n",
       "\n",
       "    .dataframe thead th {\n",
       "        text-align: right;\n",
       "    }\n",
       "</style>\n",
       "<table border=\"1\" class=\"dataframe\">\n",
       "  <thead>\n",
       "    <tr style=\"text-align: right;\">\n",
       "      <th></th>\n",
       "      <th>D_Name</th>\n",
       "      <th>D_Lon</th>\n",
       "      <th>D_Lat</th>\n",
       "    </tr>\n",
       "  </thead>\n",
       "  <tbody>\n",
       "    <tr>\n",
       "      <th>0</th>\n",
       "      <td>Arbury</td>\n",
       "      <td>52.218995</td>\n",
       "      <td>0.115557</td>\n",
       "    </tr>\n",
       "    <tr>\n",
       "      <th>1</th>\n",
       "      <td>Abbey</td>\n",
       "      <td>52.209170</td>\n",
       "      <td>0.158143</td>\n",
       "    </tr>\n",
       "    <tr>\n",
       "      <th>2</th>\n",
       "      <td>Castle</td>\n",
       "      <td>52.214867</td>\n",
       "      <td>0.102719</td>\n",
       "    </tr>\n",
       "    <tr>\n",
       "      <th>3</th>\n",
       "      <td>Cherry Hinton</td>\n",
       "      <td>52.188377</td>\n",
       "      <td>0.170359</td>\n",
       "    </tr>\n",
       "    <tr>\n",
       "      <th>4</th>\n",
       "      <td>Coleridge</td>\n",
       "      <td>52.189603</td>\n",
       "      <td>0.153449</td>\n",
       "    </tr>\n",
       "  </tbody>\n",
       "</table>\n",
       "</div>"
      ],
      "text/plain": [
       "          D_Name      D_Lon     D_Lat\n",
       "0         Arbury  52.218995  0.115557\n",
       "1          Abbey  52.209170  0.158143\n",
       "2         Castle  52.214867  0.102719\n",
       "3  Cherry Hinton  52.188377  0.170359\n",
       "4      Coleridge  52.189603  0.153449"
      ]
     },
     "execution_count": 8,
     "metadata": {},
     "output_type": "execute_result"
    }
   ],
   "source": [
    "df_coord = pd.DataFrame(districtName,columns=['D_Name'])\n",
    "df_coord['D_Lon'] = districtLon\n",
    "df_coord['D_Lat'] = districtLat\n",
    "\n",
    "df_coord.head()"
   ]
  },
  {
   "cell_type": "markdown",
   "metadata": {},
   "source": [
    "#### Merge the original dataframe and the new dataframe"
   ]
  },
  {
   "cell_type": "code",
   "execution_count": 9,
   "metadata": {},
   "outputs": [
    {
     "data": {
      "text/html": [
       "<div>\n",
       "<style scoped>\n",
       "    .dataframe tbody tr th:only-of-type {\n",
       "        vertical-align: middle;\n",
       "    }\n",
       "\n",
       "    .dataframe tbody tr th {\n",
       "        vertical-align: top;\n",
       "    }\n",
       "\n",
       "    .dataframe thead th {\n",
       "        text-align: right;\n",
       "    }\n",
       "</style>\n",
       "<table border=\"1\" class=\"dataframe\">\n",
       "  <thead>\n",
       "    <tr style=\"text-align: right;\">\n",
       "      <th></th>\n",
       "      <th>District</th>\n",
       "      <th>Latitude</th>\n",
       "      <th>Longitude</th>\n",
       "    </tr>\n",
       "  </thead>\n",
       "  <tbody>\n",
       "    <tr>\n",
       "      <th>0</th>\n",
       "      <td>Abbey</td>\n",
       "      <td>52.209170</td>\n",
       "      <td>0.158143</td>\n",
       "    </tr>\n",
       "    <tr>\n",
       "      <th>1</th>\n",
       "      <td>Arbury</td>\n",
       "      <td>52.218995</td>\n",
       "      <td>0.115557</td>\n",
       "    </tr>\n",
       "    <tr>\n",
       "      <th>2</th>\n",
       "      <td>Castle</td>\n",
       "      <td>52.214867</td>\n",
       "      <td>0.102719</td>\n",
       "    </tr>\n",
       "    <tr>\n",
       "      <th>3</th>\n",
       "      <td>Cherry Hinton</td>\n",
       "      <td>52.188377</td>\n",
       "      <td>0.170359</td>\n",
       "    </tr>\n",
       "    <tr>\n",
       "      <th>4</th>\n",
       "      <td>Coleridge</td>\n",
       "      <td>52.189603</td>\n",
       "      <td>0.153449</td>\n",
       "    </tr>\n",
       "  </tbody>\n",
       "</table>\n",
       "</div>"
      ],
      "text/plain": [
       "        District   Latitude  Longitude\n",
       "0          Abbey  52.209170   0.158143\n",
       "1         Arbury  52.218995   0.115557\n",
       "2         Castle  52.214867   0.102719\n",
       "3  Cherry Hinton  52.188377   0.170359\n",
       "4      Coleridge  52.189603   0.153449"
      ]
     },
     "execution_count": 9,
     "metadata": {},
     "output_type": "execute_result"
    }
   ],
   "source": [
    "# Merge df and df_geo\n",
    "if df_district.shape[1] < 4:\n",
    "    df_district = pd.merge(left=df_district, right=df_coord, left_on='District', right_on='D_Name')\n",
    "    df_district.drop(['D_Name','Location'], axis=1, inplace=True)\n",
    "    df_district.columns = ['District','Latitude','Longitude']\n",
    "    \n",
    "df_district.head()"
   ]
  },
  {
   "cell_type": "markdown",
   "metadata": {},
   "source": [
    "##### Latitude and Longitude of Cambridge using geolocation"
   ]
  },
  {
   "cell_type": "markdown",
   "metadata": {},
   "source": [
    "This is used to get the location of Cambridge, UK so that we can center our map."
   ]
  },
  {
   "cell_type": "code",
   "execution_count": 10,
   "metadata": {},
   "outputs": [
    {
     "name": "stdout",
     "output_type": "stream",
     "text": [
      "Cambridge, UK Coordinates: 52.2034823, 0.1235817.\n"
     ]
    }
   ],
   "source": [
    "city_name = 'Cambridge, United Kingdom'\n",
    "\n",
    "geolocator = Nominatim(user_agent=\"ny_explorer\")\n",
    "city_location = geolocator.geocode(city_name)\n",
    "city_latitude = city_location.latitude\n",
    "city_longitude = city_location.longitude\n",
    "print('Cambridge, UK Coordinates: {}, {}.'.format(city_latitude, city_longitude))"
   ]
  },
  {
   "cell_type": "markdown",
   "metadata": {},
   "source": [
    "#### Setup FourSquare Settings \n",
    "\n",
    "These have been removed for the final workbook, replaced by 'X'"
   ]
  },
  {
   "cell_type": "code",
   "execution_count": 11,
   "metadata": {},
   "outputs": [],
   "source": [
    "CLIENT_ID = 'FNZMAIFEKPJ1VTUXCIHKJYMPAFKA2E55BSUFYAZXHZ5OAUDR'\n",
    "CLIENT_SECRET = 'UXVK34BOOJI5ZCWWLHQKMGJSIGG2WVROVGWGOI1EXGSUJXLW'\n",
    "VERSION = '20200727' # Foursquare API version"
   ]
  },
  {
   "cell_type": "markdown",
   "metadata": {},
   "source": [
    "##### FUNCTION - FourSquare Return\n",
    "\n",
    "* Using a **search** call on the API so that I can use multiple categories.\n",
    "* Function takes in the following paramaters:\n",
    "    * Names (Array)\n",
    "    * Latitudes (Array)\n",
    "    * Lonitudes (Array)\n",
    "    * Radius (in metres) - <em>Default 500</em>\n",
    "    * Limit - <em>Default 100</em>\n",
    "    * Category - <em>Default ''</em>\n",
    "* <strong>Returns DataFrame</strong>"
   ]
  },
  {
   "cell_type": "code",
   "execution_count": 12,
   "metadata": {},
   "outputs": [],
   "source": [
    "def getNearbyVenues(names, latitudes, longitudes, radius=500, LIMIT=100,category=''):    \n",
    "    \n",
    "    '''\n",
    "    Use this function to return a dataframe with all the venues within your criteria.\n",
    "    RETURNS:\n",
    "        DataFrame with [District],[Venue],[Venue Latitude],[Venue Longitude],[Venue Category]\n",
    "    '''\n",
    "    \n",
    "    venues_list=[]\n",
    "\n",
    "    for name, lat, lng in zip(names, latitudes, longitudes):\n",
    "            \n",
    "        # create the API request URL\n",
    "        url = 'https://api.foursquare.com/v2/venues/search?&client_id={}&client_secret={}&v={}&ll={},{}&radius={}&limit={}&categoryId={}'.format(\n",
    "            CLIENT_ID, CLIENT_SECRET, VERSION, lat, lng, radius, LIMIT,category)\n",
    "                        \n",
    "        # make the GET request\n",
    "        results = requests.get(url).json()[\"response\"]['venues']\n",
    "        #print(results)\n",
    "        \n",
    "        # return only relevant information for each nearby venue\n",
    "        venues_list.append([(\n",
    "            name,\n",
    "            v['name'], \n",
    "            v['location']['lat'], \n",
    "            v['location']['lng'],\n",
    "            v['categories'][0]['name']) for v in results])\n",
    "        \n",
    "    nearby_venues = pd.DataFrame([item for venue_list in venues_list for item in venue_list])\n",
    "    nearby_venues.columns = [\n",
    "                  'District', \n",
    "                  'Venue', \n",
    "                  'Venue Latitude', \n",
    "                  'Venue Longitude', \n",
    "                  'Venue Category']\n",
    "        \n",
    "    return(nearby_venues) "
   ]
  },
  {
   "cell_type": "markdown",
   "metadata": {},
   "source": [
    "##### FUNCTION - DataFrame of restaurants in the districts\n",
    "\n",
    "* Function will return a dataframe to be used to show frequency of restaurants."
   ]
  },
  {
   "cell_type": "code",
   "execution_count": 13,
   "metadata": {},
   "outputs": [],
   "source": [
    "def getVenues():\n",
    "\n",
    "    radius = 500\n",
    "    LIMIT = 500\n",
    "    category = '4d4b7105d754a06374d81259'\n",
    "\n",
    "    df = getNearbyVenues(df_district['District'],\n",
    "                            df_district['Latitude'],\n",
    "                            df_district['Longitude'],\n",
    "                            radius,\n",
    "                            LIMIT,\n",
    "                            category)\n",
    "    return df"
   ]
  },
  {
   "cell_type": "code",
   "execution_count": 14,
   "metadata": {
    "scrolled": false
   },
   "outputs": [
    {
     "name": "stdout",
     "output_type": "stream",
     "text": [
      "Shape:  (187, 5)\n"
     ]
    },
    {
     "data": {
      "text/html": [
       "<div>\n",
       "<style scoped>\n",
       "    .dataframe tbody tr th:only-of-type {\n",
       "        vertical-align: middle;\n",
       "    }\n",
       "\n",
       "    .dataframe tbody tr th {\n",
       "        vertical-align: top;\n",
       "    }\n",
       "\n",
       "    .dataframe thead th {\n",
       "        text-align: right;\n",
       "    }\n",
       "</style>\n",
       "<table border=\"1\" class=\"dataframe\">\n",
       "  <thead>\n",
       "    <tr style=\"text-align: right;\">\n",
       "      <th></th>\n",
       "      <th>District</th>\n",
       "      <th>Venue</th>\n",
       "      <th>Venue Latitude</th>\n",
       "      <th>Venue Longitude</th>\n",
       "      <th>Venue Category</th>\n",
       "    </tr>\n",
       "  </thead>\n",
       "  <tbody>\n",
       "    <tr>\n",
       "      <th>0</th>\n",
       "      <td>Abbey</td>\n",
       "      <td>Autumn House Bed and Breakfast Cambridge</td>\n",
       "      <td>52.212496</td>\n",
       "      <td>0.158485</td>\n",
       "      <td>Gastropub</td>\n",
       "    </tr>\n",
       "    <tr>\n",
       "      <th>1</th>\n",
       "      <td>Abbey</td>\n",
       "      <td>Pipasha</td>\n",
       "      <td>52.213388</td>\n",
       "      <td>0.154665</td>\n",
       "      <td>Indian Restaurant</td>\n",
       "    </tr>\n",
       "    <tr>\n",
       "      <th>2</th>\n",
       "      <td>Abbey</td>\n",
       "      <td>The Codfather</td>\n",
       "      <td>52.211820</td>\n",
       "      <td>0.163236</td>\n",
       "      <td>Fish &amp; Chips Shop</td>\n",
       "    </tr>\n",
       "    <tr>\n",
       "      <th>3</th>\n",
       "      <td>Abbey</td>\n",
       "      <td>China Chef</td>\n",
       "      <td>52.213499</td>\n",
       "      <td>0.154384</td>\n",
       "      <td>Chinese Restaurant</td>\n",
       "    </tr>\n",
       "    <tr>\n",
       "      <th>4</th>\n",
       "      <td>Arbury</td>\n",
       "      <td>Coffee Tree</td>\n",
       "      <td>52.219494</td>\n",
       "      <td>0.111630</td>\n",
       "      <td>Café</td>\n",
       "    </tr>\n",
       "  </tbody>\n",
       "</table>\n",
       "</div>"
      ],
      "text/plain": [
       "  District                                     Venue  Venue Latitude  \\\n",
       "0    Abbey  Autumn House Bed and Breakfast Cambridge       52.212496   \n",
       "1    Abbey                                   Pipasha       52.213388   \n",
       "2    Abbey                             The Codfather       52.211820   \n",
       "3    Abbey                                China Chef       52.213499   \n",
       "4   Arbury                               Coffee Tree       52.219494   \n",
       "\n",
       "   Venue Longitude      Venue Category  \n",
       "0         0.158485           Gastropub  \n",
       "1         0.154665   Indian Restaurant  \n",
       "2         0.163236   Fish & Chips Shop  \n",
       "3         0.154384  Chinese Restaurant  \n",
       "4         0.111630                Café  "
      ]
     },
     "execution_count": 14,
     "metadata": {},
     "output_type": "execute_result"
    }
   ],
   "source": [
    "district_venues = getVenues()\n",
    "print('Shape: ',district_venues.shape)\n",
    "district_venues.head()"
   ]
  },
  {
   "cell_type": "markdown",
   "metadata": {},
   "source": [
    "###### Results\n",
    "As we can see there are only **187 restaurants** listed on FourSquare taken in districts that we have listed, within a 500m radius of the centroid position of the district."
   ]
  },
  {
   "cell_type": "markdown",
   "metadata": {},
   "source": [
    "##### FUNCTION - DataFrame of entertainment in the districts\n",
    "\n",
    "* Function will return a dataframe to be used to show frequency of entertainment."
   ]
  },
  {
   "cell_type": "code",
   "execution_count": 15,
   "metadata": {},
   "outputs": [],
   "source": [
    "def getEntertainment():\n",
    "    radius = 500\n",
    "    LIMIT = 500\n",
    "    category = '4d4b7105d754a06376d81259,4d4b7104d754a06370d81259'\n",
    "\n",
    "    # Categories set to Arts & Entertainment and Nightlife Spots\n",
    "\n",
    "    df = getNearbyVenues(df_district['District'],\n",
    "                                  df_district['Latitude'],\n",
    "                                  df_district['Longitude'],\n",
    "                                  radius,\n",
    "                                  LIMIT,\n",
    "                                  category)\n",
    "    return df"
   ]
  },
  {
   "cell_type": "code",
   "execution_count": 16,
   "metadata": {},
   "outputs": [
    {
     "name": "stdout",
     "output_type": "stream",
     "text": [
      "Shape:  (160, 5)\n"
     ]
    },
    {
     "data": {
      "text/html": [
       "<div>\n",
       "<style scoped>\n",
       "    .dataframe tbody tr th:only-of-type {\n",
       "        vertical-align: middle;\n",
       "    }\n",
       "\n",
       "    .dataframe tbody tr th {\n",
       "        vertical-align: top;\n",
       "    }\n",
       "\n",
       "    .dataframe thead th {\n",
       "        text-align: right;\n",
       "    }\n",
       "</style>\n",
       "<table border=\"1\" class=\"dataframe\">\n",
       "  <thead>\n",
       "    <tr style=\"text-align: right;\">\n",
       "      <th></th>\n",
       "      <th>District</th>\n",
       "      <th>Venue</th>\n",
       "      <th>Venue Latitude</th>\n",
       "      <th>Venue Longitude</th>\n",
       "      <th>Venue Category</th>\n",
       "    </tr>\n",
       "  </thead>\n",
       "  <tbody>\n",
       "    <tr>\n",
       "      <th>0</th>\n",
       "      <td>Abbey</td>\n",
       "      <td>Dion Dublin Suite</td>\n",
       "      <td>52.212271</td>\n",
       "      <td>0.155038</td>\n",
       "      <td>Bar</td>\n",
       "    </tr>\n",
       "    <tr>\n",
       "      <th>1</th>\n",
       "      <td>Abbey</td>\n",
       "      <td>Abbey Stadium</td>\n",
       "      <td>52.212570</td>\n",
       "      <td>0.154379</td>\n",
       "      <td>Soccer Stadium</td>\n",
       "    </tr>\n",
       "    <tr>\n",
       "      <th>2</th>\n",
       "      <td>Abbey</td>\n",
       "      <td>Splash Pad</td>\n",
       "      <td>52.209740</td>\n",
       "      <td>0.154114</td>\n",
       "      <td>Water Park</td>\n",
       "    </tr>\n",
       "    <tr>\n",
       "      <th>3</th>\n",
       "      <td>Abbey</td>\n",
       "      <td>Mulletboy Studios</td>\n",
       "      <td>52.212644</td>\n",
       "      <td>0.153579</td>\n",
       "      <td>Music Venue</td>\n",
       "    </tr>\n",
       "    <tr>\n",
       "      <th>4</th>\n",
       "      <td>Arbury</td>\n",
       "      <td>Colours of Dance</td>\n",
       "      <td>52.219164</td>\n",
       "      <td>0.111665</td>\n",
       "      <td>Dance Studio</td>\n",
       "    </tr>\n",
       "  </tbody>\n",
       "</table>\n",
       "</div>"
      ],
      "text/plain": [
       "  District              Venue  Venue Latitude  Venue Longitude  Venue Category\n",
       "0    Abbey  Dion Dublin Suite       52.212271         0.155038             Bar\n",
       "1    Abbey      Abbey Stadium       52.212570         0.154379  Soccer Stadium\n",
       "2    Abbey         Splash Pad       52.209740         0.154114      Water Park\n",
       "3    Abbey  Mulletboy Studios       52.212644         0.153579     Music Venue\n",
       "4   Arbury   Colours of Dance       52.219164         0.111665    Dance Studio"
      ]
     },
     "execution_count": 16,
     "metadata": {},
     "output_type": "execute_result"
    }
   ],
   "source": [
    "district_entertain = getEntertainment()\n",
    "print('Shape: ',district_entertain.shape)\n",
    "district_entertain.head()"
   ]
  },
  {
   "cell_type": "markdown",
   "metadata": {},
   "source": [
    "###### Results\n",
    "As we can see there are only **160 Arts & Entertainment or Nightlife spots** listed on FourSquare for the districts that we have listed, within a 500m radius of the centroid position of the district."
   ]
  },
  {
   "cell_type": "markdown",
   "metadata": {},
   "source": [
    "##### FUNCTION - DataFrame of Latin American restaurants in the districts\n",
    "\n",
    "* Function will return a dataframe to be used to show frequency of Latin American restaurants."
   ]
  },
  {
   "cell_type": "code",
   "execution_count": 17,
   "metadata": {},
   "outputs": [],
   "source": [
    "def getLatin():\n",
    "    radius = 500\n",
    "    LIMIT = 500\n",
    "    category = '4bf58dd8d48988d1be941735'\n",
    "\n",
    "    data = {'Location':['Cambridge'],'Latitude':[city_latitude],'Longitude':[city_longitude]}\n",
    "    df_cambridge = pd.DataFrame (data, columns = ['Location','Latitude','Longitude'])\n",
    "    # Categories set to Latin American restaurants\n",
    "\n",
    "    df = getNearbyVenues(df_cambridge['Location'],\n",
    "            df_cambridge['Latitude'],\n",
    "            df_cambridge['Longitude'],\n",
    "            5000,\n",
    "            LIMIT,\n",
    "            category)\n",
    "    \n",
    "    #df_cambridge\n",
    "    return df"
   ]
  },
  {
   "cell_type": "code",
   "execution_count": 18,
   "metadata": {},
   "outputs": [
    {
     "name": "stdout",
     "output_type": "stream",
     "text": [
      "Shape:  (5, 5)\n"
     ]
    },
    {
     "data": {
      "text/html": [
       "<div>\n",
       "<style scoped>\n",
       "    .dataframe tbody tr th:only-of-type {\n",
       "        vertical-align: middle;\n",
       "    }\n",
       "\n",
       "    .dataframe tbody tr th {\n",
       "        vertical-align: top;\n",
       "    }\n",
       "\n",
       "    .dataframe thead th {\n",
       "        text-align: right;\n",
       "    }\n",
       "</style>\n",
       "<table border=\"1\" class=\"dataframe\">\n",
       "  <thead>\n",
       "    <tr style=\"text-align: right;\">\n",
       "      <th></th>\n",
       "      <th>District</th>\n",
       "      <th>Venue</th>\n",
       "      <th>Venue Latitude</th>\n",
       "      <th>Venue Longitude</th>\n",
       "      <th>Venue Category</th>\n",
       "    </tr>\n",
       "  </thead>\n",
       "  <tbody>\n",
       "    <tr>\n",
       "      <th>0</th>\n",
       "      <td>Cambridge</td>\n",
       "      <td>Las Iguanas</td>\n",
       "      <td>52.210230</td>\n",
       "      <td>0.117309</td>\n",
       "      <td>Latin American Restaurant</td>\n",
       "    </tr>\n",
       "    <tr>\n",
       "      <th>1</th>\n",
       "      <td>Cambridge</td>\n",
       "      <td>Neide's Deli Café</td>\n",
       "      <td>52.200508</td>\n",
       "      <td>0.135943</td>\n",
       "      <td>Brazilian Restaurant</td>\n",
       "    </tr>\n",
       "    <tr>\n",
       "      <th>2</th>\n",
       "      <td>Cambridge</td>\n",
       "      <td>La Latina Bustaurante</td>\n",
       "      <td>52.208076</td>\n",
       "      <td>0.143403</td>\n",
       "      <td>Latin American Restaurant</td>\n",
       "    </tr>\n",
       "    <tr>\n",
       "      <th>3</th>\n",
       "      <td>Cambridge</td>\n",
       "      <td>Chicken rush</td>\n",
       "      <td>52.197636</td>\n",
       "      <td>0.144912</td>\n",
       "      <td>Arepa Restaurant</td>\n",
       "    </tr>\n",
       "    <tr>\n",
       "      <th>4</th>\n",
       "      <td>Cambridge</td>\n",
       "      <td>Hutter</td>\n",
       "      <td>52.209328</td>\n",
       "      <td>0.144877</td>\n",
       "      <td>South American Restaurant</td>\n",
       "    </tr>\n",
       "  </tbody>\n",
       "</table>\n",
       "</div>"
      ],
      "text/plain": [
       "    District                  Venue  Venue Latitude  Venue Longitude  \\\n",
       "0  Cambridge            Las Iguanas       52.210230         0.117309   \n",
       "1  Cambridge      Neide's Deli Café       52.200508         0.135943   \n",
       "2  Cambridge  La Latina Bustaurante       52.208076         0.143403   \n",
       "3  Cambridge           Chicken rush       52.197636         0.144912   \n",
       "4  Cambridge                 Hutter       52.209328         0.144877   \n",
       "\n",
       "              Venue Category  \n",
       "0  Latin American Restaurant  \n",
       "1       Brazilian Restaurant  \n",
       "2  Latin American Restaurant  \n",
       "3           Arepa Restaurant  \n",
       "4  South American Restaurant  "
      ]
     },
     "execution_count": 18,
     "metadata": {},
     "output_type": "execute_result"
    }
   ],
   "source": [
    "district_latin = getLatin()\n",
    "print('Shape: ',district_latin.shape)\n",
    "district_latin.head()"
   ]
  },
  {
   "cell_type": "markdown",
   "metadata": {},
   "source": [
    "###### Results\n",
    "As we can see there are only **1 Latin American restaurant** listed on FourSquare for the districts that we have listed, within a 500m radius of the centroid position of the district."
   ]
  },
  {
   "cell_type": "markdown",
   "metadata": {},
   "source": [
    "[Back to Contents](#contents)"
   ]
  },
  {
   "cell_type": "markdown",
   "metadata": {},
   "source": [
    "### Data Visualisation\n",
    "<a id=\"datavisual\"></a>"
   ]
  },
  {
   "cell_type": "markdown",
   "metadata": {},
   "source": [
    "#### Bar Chart showing the frequency of restaurants within districts\n",
    "\n",
    "* Create a new horizontal bar plot with the districts and the frequency of restaurants"
   ]
  },
  {
   "cell_type": "code",
   "execution_count": 19,
   "metadata": {},
   "outputs": [
    {
     "data": {
      "text/plain": [
       "<matplotlib.axes._subplots.AxesSubplot at 0x1fcbd773860>"
      ]
     },
     "execution_count": 19,
     "metadata": {},
     "output_type": "execute_result"
    },
    {
     "data": {
      "image/png": "[encoded data removed]",
      "text/plain": [
       "<Figure size 1080x576 with 1 Axes>"
      ]
     },
     "metadata": {},
     "output_type": "display_data"
    }
   ],
   "source": [
    "district_venues['District'].value_counts().plot(kind='barh', figsize=(15,8), color=(0.2, 0.4, 0.6, 0.6))"
   ]
  },
  {
   "cell_type": "markdown",
   "metadata": {},
   "source": [
    "**From this bar plot we can see that the most populous areas for restaurants are Petersfield, Market and West Chesterton.**"
   ]
  },
  {
   "cell_type": "markdown",
   "metadata": {},
   "source": [
    "#### Show map of Cambridge with districts\n",
    "\n",
    "* Map shows markers using district latitude and longitude\n",
    "* Radius is drawn to show the search area that we will be using in Foursquare"
   ]
  },
  {
   "cell_type": "code",
   "execution_count": 20,
   "metadata": {},
   "outputs": [],
   "source": [
    "# create a map centered on Cambridge\n",
    "cambridge_map = folium.Map(location=[city_latitude, city_longitude], zoom_start=12.5,control_scale=True)"
   ]
  },
  {
   "cell_type": "code",
   "execution_count": 21,
   "metadata": {},
   "outputs": [],
   "source": [
    "# Function loop through districts and add marker using lat and lon\n",
    "def addMarkers(m):\n",
    "\n",
    "    for lat, lng, name in zip(df_district.Latitude, df_district.Longitude, df_district.District):\n",
    "        location = np.array([lat,lng])\n",
    "        # Add Marker\n",
    "        folium.Marker(location, popup='<i>{}</i>'.format(name), tooltip=name).add_to(m)\n",
    "        # Add Radius of 500m\n",
    "        folium.Circle(\n",
    "            location=location,\n",
    "            radius=500,\n",
    "            color='#3186cc',\n",
    "            fill=True,\n",
    "            fill_color='#3186cc'\n",
    "        ).add_to(m)\n",
    "    \n",
    "    display(m)"
   ]
  },
  {
   "cell_type": "code",
   "execution_count": 22,
   "metadata": {},
   "outputs": [
    {
     "data": {
      "text/html": [
       "<div style=\"width:100%;\"><div style=\"position:relative;width:100%;height:0;padding-bottom:60%;\"><span style=\"color:#565656\">Make this Notebook Trusted to load map: File -> Trust Notebook</span><iframe src=\"about:blank\" style=\"position:absolute;width:100%;height:100%;left:0;top:0;border:none !important;\" data-html=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 onload=\"this.contentDocument.open();this.contentDocument.write(atob(this.getAttribute('data-html')));this.contentDocument.close();\" allowfullscreen webkitallowfullscreen mozallowfullscreen></iframe></div></div>"
      ],
      "text/plain": [
       "<folium.folium.Map at 0x1fcbd782a20>"
      ]
     },
     "metadata": {},
     "output_type": "display_data"
    }
   ],
   "source": [
    "addMarkers(cambridge_map)"
   ]
  },
  {
   "cell_type": "markdown",
   "metadata": {},
   "source": [
    "#### Radius Decision\n",
    "Through testing the appropriate radius 500m has been set as the threshold of the FourSquare search radius, so it doesn't overlap into another district.\n",
    "In this map, we can see that the following districts centroids taken from the mean of the geolocation are not that accurate:\n",
    "* Trumpington\n",
    "* Newnham\n",
    "* Romsey\n",
    "* Cherry Hinton\n",
    "\n",
    "This is due to a large amount of their boundary being located in rural areas.\n",
    "\n",
    "Therfore the centroid location must be repositioned. In the following map I have set the map to show when clicked the latitude and longitude, meaning I can locate more accurate postions."
   ]
  },
  {
   "cell_type": "code",
   "execution_count": 23,
   "metadata": {
    "scrolled": false
   },
   "outputs": [
    {
     "data": {
      "text/html": [
       "<div style=\"width:100%;\"><div style=\"position:relative;width:100%;height:0;padding-bottom:60%;\"><span style=\"color:#565656\">Make this Notebook Trusted to load map: File -> Trust Notebook</span><iframe src=\"about:blank\" style=\"position:absolute;width:100%;height:100%;left:0;top:0;border:none !important;\" data-html=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 onload=\"this.contentDocument.open();this.contentDocument.write(atob(this.getAttribute('data-html')));this.contentDocument.close();\" allowfullscreen webkitallowfullscreen mozallowfullscreen></iframe></div></div>"
      ],
      "text/plain": [
       "<folium.folium.Map at 0x1fcbd782a20>"
      ]
     },
     "metadata": {},
     "output_type": "display_data"
    }
   ],
   "source": [
    "# Create Map with latLng Popup\n",
    "cambridge_map.add_child(folium.LatLngPopup())\n",
    "display(cambridge_map)"
   ]
  },
  {
   "cell_type": "markdown",
   "metadata": {},
   "source": [
    "Updated locations:\n",
    "\n",
    "* **Trumpington**\n",
    "    * Lat: 52.1734\n",
    "    * Lng: 0.1131\n",
    "* **Newnham**\n",
    "    * Lat: 52.1970\n",
    "    * Lng: 0.1068\n",
    "    \n",
    "* **Romsey**\n",
    "    * Lat: 52.1972\n",
    "    * Lng: 0.1463\n",
    "\n",
    "* **Cherry Hinton**\n",
    "    * Lat: 52.1872\n",
    "    * Lng: 0.1764\n",
    "    \n",
    "* **Abbey**\n",
    "    * Lat: 52.2124\n",
    "    * Lng: 0.1613\n",
    "    \n",
    "Let's update the district dataframe."
   ]
  },
  {
   "cell_type": "code",
   "execution_count": 24,
   "metadata": {},
   "outputs": [],
   "source": [
    "# Update Trumpington\n",
    "df_district.loc[df_district.District == 'Trumpington', 'Latitude'] = 52.1734\n",
    "df_district.loc[df_district.District == 'Trumpington', 'Longitude'] = 0.1131\n",
    "\n",
    "# Update Newnham\n",
    "df_district.loc[df_district.District == 'Newnham', 'Latitude'] = 52.1970\n",
    "df_district.loc[df_district.District == 'Newnham', 'Longitude'] =  0.1068\n",
    "\n",
    "# Update Romsey\n",
    "df_district.loc[df_district.District == 'Romsey', 'Latitude'] = 52.1972\n",
    "df_district.loc[df_district.District == 'Romsey', 'Longitude'] =  0.1463\n",
    "\n",
    "# Update Cherry Hinton\n",
    "df_district.loc[df_district.District == 'Cherry Hinton', 'Latitude'] = 52.1872\n",
    "df_district.loc[df_district.District == 'Cherry Hinton', 'Longitude'] =  0.1764\n",
    "\n",
    "# Update Abbey\n",
    "df_district.loc[df_district.District == 'Abbey', 'Latitude'] = 52.2124\n",
    "df_district.loc[df_district.District == 'Abbey', 'Longitude'] =  0.1613\n"
   ]
  },
  {
   "cell_type": "code",
   "execution_count": 25,
   "metadata": {},
   "outputs": [
    {
     "data": {
      "text/html": [
       "<div style=\"width:100%;\"><div style=\"position:relative;width:100%;height:0;padding-bottom:60%;\"><span style=\"color:#565656\">Make this Notebook Trusted to load map: File -> Trust Notebook</span><iframe src=\"about:blank\" style=\"position:absolute;width:100%;height:100%;left:0;top:0;border:none !important;\" data-html=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 onload=\"this.contentDocument.open();this.contentDocument.write(atob(this.getAttribute('data-html')));this.contentDocument.close();\" allowfullscreen webkitallowfullscreen mozallowfullscreen></iframe></div></div>"
      ],
      "text/plain": [
       "<folium.folium.Map at 0x1fcbdbe0080>"
      ]
     },
     "metadata": {},
     "output_type": "display_data"
    }
   ],
   "source": [
    "# create a map centered on Cambridge\n",
    "cambridge_map_ref = folium.Map(location=[city_latitude, city_longitude], zoom_start=12.5,control_scale=True)\n",
    "addMarkers(cambridge_map_ref)"
   ]
  },
  {
   "cell_type": "markdown",
   "metadata": {},
   "source": [
    "#### Iterate the data retrieval process"
   ]
  },
  {
   "cell_type": "code",
   "execution_count": 26,
   "metadata": {},
   "outputs": [
    {
     "name": "stdout",
     "output_type": "stream",
     "text": [
      "Original Venue:  187 Updated Venue:  226\n",
      "Original Ent:  160 Updated Ent:  179\n",
      "Original Latin:  5 Updated Latin:  5\n"
     ]
    }
   ],
   "source": [
    "district_venues_update = getVenues()\n",
    "district_entertain_update = getEntertainment()\n",
    "district_latin_update  = getLatin()\n",
    "\n",
    "print('Original Venue: ',district_venues.shape[0],'Updated Venue: ',district_venues_update.shape[0])\n",
    "print('Original Ent: ',district_entertain.shape[0],'Updated Ent: ',district_entertain_update.shape[0])\n",
    "print('Original Latin: ',district_latin.shape[0],'Updated Latin: ',district_latin_update.shape[0])"
   ]
  },
  {
   "cell_type": "markdown",
   "metadata": {},
   "source": [
    "#### Repeat - Bar Chart showing the frequency of restaurants within districts\n",
    "\n",
    "* Create a new horizontal bar plot with the districts and the frequency of restaurants"
   ]
  },
  {
   "cell_type": "code",
   "execution_count": 27,
   "metadata": {},
   "outputs": [
    {
     "data": {
      "text/plain": [
       "<matplotlib.axes._subplots.AxesSubplot at 0x1fcbde615f8>"
      ]
     },
     "execution_count": 27,
     "metadata": {},
     "output_type": "execute_result"
    },
    {
     "data": {
      "image/png": "[encoded data removed]",
      "text/plain": [
       "<Figure size 1080x576 with 1 Axes>"
      ]
     },
     "metadata": {},
     "output_type": "display_data"
    }
   ],
   "source": [
    "district_venues_update['District'].value_counts().plot(kind='barh', figsize=(15,8), color=(0.2, 0.4, 0.6, 0.6))"
   ]
  },
  {
   "cell_type": "markdown",
   "metadata": {},
   "source": [
    "In this chart, we can now see how Trumpington, Newnham and Romsey have moved forward in the frequency bar plot."
   ]
  },
  {
   "cell_type": "markdown",
   "metadata": {},
   "source": [
    "#### Details Map\n",
    "\n",
    "Let's a make a map to display the following:\n",
    "* Chloropeth Map showing the frequency of restaurants in the districts.\n",
    "* Cluster markers to show density"
   ]
  },
  {
   "cell_type": "code",
   "execution_count": 28,
   "metadata": {},
   "outputs": [],
   "source": [
    "# Create a DataFrame to hold the district names and count\n",
    "district_count = pd.DataFrame(district_venues_update['District'].value_counts())\n",
    "district_count.reset_index(inplace=True)\n",
    "district_count.columns = ['District','Count']"
   ]
  },
  {
   "cell_type": "code",
   "execution_count": 29,
   "metadata": {},
   "outputs": [
    {
     "data": {
      "text/html": [
       "<div style=\"width:100%;\"><div style=\"position:relative;width:100%;height:0;padding-bottom:60%;\"><span style=\"color:#565656\">Make this Notebook Trusted to load map: File -> Trust Notebook</span><iframe src=\"about:blank\" style=\"position:absolute;width:100%;height:100%;left:0;top:0;border:none !important;\" data-html=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 onload=\"this.contentDocument.open();this.contentDocument.write(atob(this.getAttribute('data-html')));this.contentDocument.close();\" allowfullscreen webkitallowfullscreen mozallowfullscreen></iframe></div></div>"
      ],
      "text/plain": [
       "<folium.folium.Map at 0x1fcbdee7630>"
      ]
     },
     "metadata": {},
     "output_type": "display_data"
    }
   ],
   "source": [
    "from folium import plugins\n",
    "\n",
    "cambridge_geo = r'Cambridge.geojson' # geojson file\n",
    "\n",
    "# Initiate a map\n",
    "cambridge_ch_map = folium.Map(location=[city_latitude, city_longitude], zoom_start=12)\n",
    "\n",
    "# Add Choropleth Map\n",
    "folium.Choropleth(\n",
    "    geo_data=cambridge_geo,\n",
    "    name='choropleth',\n",
    "    data=district_count,\n",
    "    columns=['District','Count'],\n",
    "    key_on='feature.properties.Name',\n",
    "    fill_color='YlOrRd',\n",
    "    fill_opacity=0.7,\n",
    "    line_opacity=0.2,\n",
    "    legend_name='Restaurant Frequency'\n",
    ").add_to(cambridge_ch_map)\n",
    "\n",
    "\n",
    "# initiate a mark cluster object for the restaurants in the dataframe\n",
    "restaurants_cluster = plugins.MarkerCluster().add_to(cambridge_ch_map)\n",
    "\n",
    "# loop through the dataframe and add each data point to the mark cluster\n",
    "for lat, lng, label, in zip(district_venues_update['Venue Latitude'], district_venues_update['Venue Longitude'], district_venues_update['Venue']):\n",
    "    folium.Marker(\n",
    "        location=[lat, lng],\n",
    "        icon=None,\n",
    "        tooltip=label\n",
    "    ).add_to(restaurants_cluster)\n",
    "\n",
    "# Add choropleth item to layer control on the map\n",
    "folium.LayerControl().add_to(cambridge_ch_map)\n",
    "    \n",
    "display(cambridge_ch_map)\n"
   ]
  },
  {
   "cell_type": "markdown",
   "metadata": {},
   "source": [
    "From this Choropleth Map we can distinguish that the central areas of Cambridge contain the most restaurants.\n",
    "* Choropleth and Cluster markers can be turned on an off using the layer control in the top right."
   ]
  },
  {
   "cell_type": "markdown",
   "metadata": {},
   "source": [
    "#### Adding existing Latin American restaurants\n",
    "\n",
    "* Show the current Latin American Restaurants, with a 500m radius.\n",
    "    * This is the zone where we will not suggest placing the new restaurant."
   ]
  },
  {
   "cell_type": "markdown",
   "metadata": {},
   "source": [
    "##### FUNCTION - Create Latin American Restaurant on Map"
   ]
  },
  {
   "cell_type": "code",
   "execution_count": 30,
   "metadata": {},
   "outputs": [],
   "source": [
    "def addLatin_toMap(m):\n",
    "    for lat, lng, label, in zip(district_latin_update['Venue Latitude'], district_latin_update['Venue Longitude'], district_latin_update['Venue']):\n",
    "        location = np.array([lat,lng])\n",
    "        # Add Marker\n",
    "        folium.Marker(location, popup='<i>{}</i>'.format(label), tooltip='Latin American Restaurant', icon=folium.Icon(color='red', icon='info-sign')).add_to(m)\n",
    "        # Add Radius of 500m\n",
    "        folium.Circle(\n",
    "                location=location,\n",
    "                radius=500,\n",
    "                color='#f54242',\n",
    "                fill=True,\n",
    "                fill_color='#f54242'\n",
    "            ).add_to(m)"
   ]
  },
  {
   "cell_type": "markdown",
   "metadata": {},
   "source": [
    "##### Create Map"
   ]
  },
  {
   "cell_type": "code",
   "execution_count": 31,
   "metadata": {},
   "outputs": [
    {
     "data": {
      "text/html": [
       "<div style=\"width:100%;\"><div style=\"position:relative;width:100%;height:0;padding-bottom:60%;\"><span style=\"color:#565656\">Make this Notebook Trusted to load map: File -> Trust Notebook</span><iframe src=\"about:blank\" style=\"position:absolute;width:100%;height:100%;left:0;top:0;border:none !important;\" data-html=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 onload=\"this.contentDocument.open();this.contentDocument.write(atob(this.getAttribute('data-html')));this.contentDocument.close();\" allowfullscreen webkitallowfullscreen mozallowfullscreen></iframe></div></div>"
      ],
      "text/plain": [
       "<folium.folium.Map at 0x1fcbdee7080>"
      ]
     },
     "metadata": {},
     "output_type": "display_data"
    }
   ],
   "source": [
    "cambridge_latin_map = folium.Map(location=[city_latitude, city_longitude], zoom_start=14)\n",
    "\n",
    "addLatin_toMap(cambridge_latin_map)\n",
    "addMarkers(cambridge_latin_map)\n",
    "    "
   ]
  },
  {
   "cell_type": "markdown",
   "metadata": {},
   "source": [
    "From the map we can see that the two existing Latin American restaurants are located in **Petersfield** and **Romsey**.\n",
    "We will therfore exclude these two districts when choosing the location. \n",
    "But what areas are similar to these two?\n",
    "Let us make a cluster of similar areas, we will include **Entertainment** venues in the cluster calculations.\n",
    "\n",
    "But from looking at this map, we would like to find a location that is **similar** to **Petersfield** and **Romsey** as these have Latin American restaurants that are competing in an enviroment where they are the outliers."
   ]
  },
  {
   "cell_type": "markdown",
   "metadata": {},
   "source": [
    "<div style=\"background-color:#769fcd;color:#FFFFFF;padding:15px;\">\n",
    "<h2>3. Methodology</h2><a name=\"methods\"></a>\n",
    "</div>"
   ]
  },
  {
   "cell_type": "markdown",
   "metadata": {},
   "source": [
    "Now that we have gathered the data from scraping, and from our geojson file we can start to analyise the results.<br>Data gathered in the **Data</a>** section includes:\n",
    "* Districts\n",
    "* Centroid locations for Districts\n",
    "* DataFrame for **Restaurants** within each District within **500m** of centroid\n",
    "* DataFrame for **Entertainment** within each District within **500m** of centroid\n",
    "* DataFrame for **Latin American** restaurants within each District within **500m** of centroid\n",
    "\n",
    "Our **goal** is to find the districts where there are **no Latin American restaurants** and a **populous nightlife**.\n",
    "\n",
    "In the **analysis** section we will use the following methods:\n",
    "* **Clustering** using **K-Means** our districts using the data we have for the restaurants and entertainment venues within the sample that we have taken for each district. The samples consists of all restaurants and entertainment within a 500 metre radius of the centroid location.\n",
    "* **Scatter Plot** using to show the correlation between restaurant and entertainment venues.\n",
    "* **Show** that Cambridge fits into the same popular restaurant types as the rest of the UK.\n",
    "* **DBSCAN Clustering** will be used to find clusters in entertainment venues within a district.\n",
    "\n",
    "The final product of the research will be to provide an address for each district which is similar to the cluster of **Petersfield** and **Romsey** where there are already successful **Latin American** restaurants. The address will be located in the centre of the entertainment venues and not within **1km** of a competing **Latin American** restaurant."
   ]
  },
  {
   "cell_type": "markdown",
   "metadata": {},
   "source": [
    "[Back to Contents](#contents)"
   ]
  },
  {
   "cell_type": "markdown",
   "metadata": {},
   "source": [
    "<div style=\"background-color:#769fcd;color:#FFFFFF;padding:15px;\">\n",
    "<h2>4. Analysis</h2><a name=\"analysis\"></a>\n",
    "</div>"
   ]
  },
  {
   "cell_type": "markdown",
   "metadata": {},
   "source": [
    "<p>In this section we hope to use our analysis to show suitable locations for the **Peruvian Restaurant**.</p>\n",
    "<p>To start with we will cluster the districts into similar clusters using **K-Means**.<p>\n",
    "<p>After that we will see if there is a **correlation** between the frequency of restaurants and entertainment venues.</p>\n",
    "<p>Following on from that using **DBSCAN** we will find the cluster with the densest entertainment venues within the 3 districts that we have chosen to look into. This will be used later to find the ideal location for the restaurant. The clustering will use the **Latitude and Longitude** of the entertainment venues<p>\n",
    "<p>Then we will confirm that **Cambridge** does follow the normal trend in most popular restaurants compared to the **UK**.\n",
    "<p>Lastly the final anaylsis will be to find the ideal locations, we will get the mean of the most popular clusters from the **DBSCAN** step. This will get us a centralised latitude and longitude for the cluster, then we will need to confirm that this is not within a **1km** radius of any other **Latin American** restaurant.</p>"
   ]
  },
  {
   "cell_type": "markdown",
   "metadata": {},
   "source": [
    "### Does Cambridge follow the same food popularity that the rest of the UK does?"
   ]
  },
  {
   "cell_type": "markdown",
   "metadata": {},
   "source": [
    "As of current statistics these are the **5** most popular restaurant cuisines in the **UK**\n",
    "<ol>\n",
    "    <li>Pub Food</li>\n",
    "    <li>English</li>\n",
    "    <li>Chinese</li>\n",
    "    <li>Indian</li>\n",
    "    <li>Italian</li>\n",
    "</ol>\n",
    "\n",
    "> <small>Appendix: 1.1</small>\n",
    "> <a href=\"https://beambox.com/townsquare/what-are-the-most-popular-types-of-restaurants-in-the-uk\">What are the most popular types of restaurants in the UK</a><br>\n",
    "> <cite>Beambox.com</cite>"
   ]
  },
  {
   "cell_type": "code",
   "execution_count": 32,
   "metadata": {},
   "outputs": [
    {
     "name": "stdout",
     "output_type": "stream",
     "text": [
      "There are 50 uniques restaurant categories in Cambridge.\n"
     ]
    }
   ],
   "source": [
    "print('There are {} uniques restaurant categories in Cambridge.'.format(len(district_venues_update['Venue Category'].unique())))"
   ]
  },
  {
   "cell_type": "code",
   "execution_count": 33,
   "metadata": {},
   "outputs": [
    {
     "data": {
      "text/html": [
       "<div>\n",
       "<style scoped>\n",
       "    .dataframe tbody tr th:only-of-type {\n",
       "        vertical-align: middle;\n",
       "    }\n",
       "\n",
       "    .dataframe tbody tr th {\n",
       "        vertical-align: top;\n",
       "    }\n",
       "\n",
       "    .dataframe thead th {\n",
       "        text-align: right;\n",
       "    }\n",
       "</style>\n",
       "<table border=\"1\" class=\"dataframe\">\n",
       "  <thead>\n",
       "    <tr style=\"text-align: right;\">\n",
       "      <th></th>\n",
       "      <th>Category</th>\n",
       "      <th>Count</th>\n",
       "    </tr>\n",
       "  </thead>\n",
       "  <tbody>\n",
       "    <tr>\n",
       "      <th>11</th>\n",
       "      <td>Café</td>\n",
       "      <td>39</td>\n",
       "    </tr>\n",
       "    <tr>\n",
       "      <th>27</th>\n",
       "      <td>Indian Restaurant</td>\n",
       "      <td>21</td>\n",
       "    </tr>\n",
       "    <tr>\n",
       "      <th>13</th>\n",
       "      <td>Chinese Restaurant</td>\n",
       "      <td>20</td>\n",
       "    </tr>\n",
       "    <tr>\n",
       "      <th>14</th>\n",
       "      <td>Coffee Shop</td>\n",
       "      <td>19</td>\n",
       "    </tr>\n",
       "    <tr>\n",
       "      <th>5</th>\n",
       "      <td>Bakery</td>\n",
       "      <td>13</td>\n",
       "    </tr>\n",
       "    <tr>\n",
       "      <th>20</th>\n",
       "      <td>Fast Food Restaurant</td>\n",
       "      <td>9</td>\n",
       "    </tr>\n",
       "    <tr>\n",
       "      <th>36</th>\n",
       "      <td>Restaurant</td>\n",
       "      <td>7</td>\n",
       "    </tr>\n",
       "    <tr>\n",
       "      <th>34</th>\n",
       "      <td>Pizza Place</td>\n",
       "      <td>7</td>\n",
       "    </tr>\n",
       "    <tr>\n",
       "      <th>25</th>\n",
       "      <td>Gastropub</td>\n",
       "      <td>7</td>\n",
       "    </tr>\n",
       "    <tr>\n",
       "      <th>42</th>\n",
       "      <td>Sushi Restaurant</td>\n",
       "      <td>7</td>\n",
       "    </tr>\n",
       "  </tbody>\n",
       "</table>\n",
       "</div>"
      ],
      "text/plain": [
       "                Category  Count\n",
       "11                  Café     39\n",
       "27     Indian Restaurant     21\n",
       "13    Chinese Restaurant     20\n",
       "14           Coffee Shop     19\n",
       "5                 Bakery     13\n",
       "20  Fast Food Restaurant      9\n",
       "36            Restaurant      7\n",
       "34           Pizza Place      7\n",
       "25             Gastropub      7\n",
       "42      Sushi Restaurant      7"
      ]
     },
     "execution_count": 33,
     "metadata": {},
     "output_type": "execute_result"
    }
   ],
   "source": [
    "venue_check = district_venues_update.groupby('Venue Category').count()\n",
    "venue_check.drop(columns=['Venue','Venue Latitude','Venue Longitude'],inplace=True)\n",
    "venue_check.reset_index(inplace=True)\n",
    "venue_check.columns = ['Category','Count']\n",
    "venue_check.sort_values(by='Count', ascending=False).head(10)"
   ]
  },
  {
   "cell_type": "markdown",
   "metadata": {},
   "source": [
    "Looking at the results of the above table, if we were to remove the following from the list:\n",
    "* Café\n",
    "* Coffee Shop\n",
    "* Bakery\n",
    "As the above list are technically not restaurants, we can remove these.\n",
    "\n",
    "We can see that the the order of the **UK top 5** in Cambridge would be:\n",
    "1. Indian\n",
    "2. Chinese\n",
    "3. Pizza\n",
    "4. Gastropub\n",
    "\n",
    "Using Foursquare and adding the category for food has not included pubs into the equation. Most pubs serve some form of food and are listed as the number one in the UK.\n",
    "\n",
    "Lets add the entertainment and night spots dataframe to the venue dataframe and recalculate."
   ]
  },
  {
   "cell_type": "code",
   "execution_count": 34,
   "metadata": {},
   "outputs": [
    {
     "data": {
      "text/html": [
       "<div>\n",
       "<style scoped>\n",
       "    .dataframe tbody tr th:only-of-type {\n",
       "        vertical-align: middle;\n",
       "    }\n",
       "\n",
       "    .dataframe tbody tr th {\n",
       "        vertical-align: top;\n",
       "    }\n",
       "\n",
       "    .dataframe thead th {\n",
       "        text-align: right;\n",
       "    }\n",
       "</style>\n",
       "<table border=\"1\" class=\"dataframe\">\n",
       "  <thead>\n",
       "    <tr style=\"text-align: right;\">\n",
       "      <th></th>\n",
       "      <th>Category</th>\n",
       "      <th>Count</th>\n",
       "    </tr>\n",
       "  </thead>\n",
       "  <tbody>\n",
       "    <tr>\n",
       "      <th>60</th>\n",
       "      <td>Pub</td>\n",
       "      <td>60</td>\n",
       "    </tr>\n",
       "    <tr>\n",
       "      <th>17</th>\n",
       "      <td>Café</td>\n",
       "      <td>39</td>\n",
       "    </tr>\n",
       "    <tr>\n",
       "      <th>43</th>\n",
       "      <td>Indian Restaurant</td>\n",
       "      <td>21</td>\n",
       "    </tr>\n",
       "    <tr>\n",
       "      <th>19</th>\n",
       "      <td>Chinese Restaurant</td>\n",
       "      <td>21</td>\n",
       "    </tr>\n",
       "    <tr>\n",
       "      <th>21</th>\n",
       "      <td>Coffee Shop</td>\n",
       "      <td>19</td>\n",
       "    </tr>\n",
       "    <tr>\n",
       "      <th>8</th>\n",
       "      <td>Bar</td>\n",
       "      <td>18</td>\n",
       "    </tr>\n",
       "    <tr>\n",
       "      <th>3</th>\n",
       "      <td>Art Gallery</td>\n",
       "      <td>15</td>\n",
       "    </tr>\n",
       "    <tr>\n",
       "      <th>7</th>\n",
       "      <td>Bakery</td>\n",
       "      <td>13</td>\n",
       "    </tr>\n",
       "    <tr>\n",
       "      <th>31</th>\n",
       "      <td>Fast Food Restaurant</td>\n",
       "      <td>9</td>\n",
       "    </tr>\n",
       "    <tr>\n",
       "      <th>53</th>\n",
       "      <td>Nightclub</td>\n",
       "      <td>8</td>\n",
       "    </tr>\n",
       "    <tr>\n",
       "      <th>61</th>\n",
       "      <td>Public Art</td>\n",
       "      <td>7</td>\n",
       "    </tr>\n",
       "    <tr>\n",
       "      <th>75</th>\n",
       "      <td>Sushi Restaurant</td>\n",
       "      <td>7</td>\n",
       "    </tr>\n",
       "    <tr>\n",
       "      <th>38</th>\n",
       "      <td>General Entertainment</td>\n",
       "      <td>7</td>\n",
       "    </tr>\n",
       "    <tr>\n",
       "      <th>36</th>\n",
       "      <td>Gastropub</td>\n",
       "      <td>7</td>\n",
       "    </tr>\n",
       "    <tr>\n",
       "      <th>58</th>\n",
       "      <td>Pizza Place</td>\n",
       "      <td>7</td>\n",
       "    </tr>\n",
       "    <tr>\n",
       "      <th>62</th>\n",
       "      <td>Restaurant</td>\n",
       "      <td>7</td>\n",
       "    </tr>\n",
       "    <tr>\n",
       "      <th>34</th>\n",
       "      <td>Food Truck</td>\n",
       "      <td>6</td>\n",
       "    </tr>\n",
       "    <tr>\n",
       "      <th>44</th>\n",
       "      <td>Italian Restaurant</td>\n",
       "      <td>6</td>\n",
       "    </tr>\n",
       "    <tr>\n",
       "      <th>64</th>\n",
       "      <td>Sandwich Place</td>\n",
       "      <td>5</td>\n",
       "    </tr>\n",
       "    <tr>\n",
       "      <th>32</th>\n",
       "      <td>Fish &amp; Chips Shop</td>\n",
       "      <td>5</td>\n",
       "    </tr>\n",
       "  </tbody>\n",
       "</table>\n",
       "</div>"
      ],
      "text/plain": [
       "                 Category  Count\n",
       "60                    Pub     60\n",
       "17                   Café     39\n",
       "43      Indian Restaurant     21\n",
       "19     Chinese Restaurant     21\n",
       "21            Coffee Shop     19\n",
       "8                     Bar     18\n",
       "3             Art Gallery     15\n",
       "7                  Bakery     13\n",
       "31   Fast Food Restaurant      9\n",
       "53              Nightclub      8\n",
       "61             Public Art      7\n",
       "75       Sushi Restaurant      7\n",
       "38  General Entertainment      7\n",
       "36              Gastropub      7\n",
       "58            Pizza Place      7\n",
       "62             Restaurant      7\n",
       "34             Food Truck      6\n",
       "44     Italian Restaurant      6\n",
       "64         Sandwich Place      5\n",
       "32      Fish & Chips Shop      5"
      ]
     },
     "execution_count": 34,
     "metadata": {},
     "output_type": "execute_result"
    }
   ],
   "source": [
    "# Add Venues and Entertainment\n",
    "frames = [district_venues_update, district_entertain_update]\n",
    "df_Combine = pd.concat(frames)\n",
    "\n",
    "venue_check = df_Combine.groupby('Venue Category').count()\n",
    "venue_check.drop(columns=['Venue','Venue Latitude','Venue Longitude'],inplace=True)\n",
    "venue_check.reset_index(inplace=True)\n",
    "venue_check.columns = ['Category','Count']\n",
    "venue_check.sort_values(by='Count', ascending=False).head(20)"
   ]
  },
  {
   "cell_type": "markdown",
   "metadata": {},
   "source": [
    "We have taken the top 20 items in this view. As there are all items now, including entertainment it is useful to see where Pizza and Gastropub have fallen.\n",
    "\n",
    "If we combine names of restaurants that are similar (e.g. Italian Restaurant -> Pizza, Fish & Chips Shop -> English) then we will change the order of the **UK top 5** in Cambridge to the following:\n",
    "1. Pub/Gastropub (67)\n",
    "2. Chinese & Indian (21 each)\n",
    "3. Pizza/Italian (13)\n",
    "4. Fish & Chips Shop(5)\n",
    "\n",
    "Overall we can agree that the **UK top 5** list of restaurants does mostly apply to Cambridge."
   ]
  },
  {
   "cell_type": "markdown",
   "metadata": {},
   "source": [
    "#### One-Hot-Encoding, using Restaurants and Entertainment Venues\n",
    "\n",
    "To start we will use One-Hot-Encoding, so that we can assign a numerical value to each category.\n",
    "We will use the df_Combine which we made earlier to groupby in order to obtain the most frequent venues."
   ]
  },
  {
   "cell_type": "code",
   "execution_count": 35,
   "metadata": {},
   "outputs": [],
   "source": [
    "# one hot encoding\n",
    "cambridge_onehot = pd.get_dummies(df_Combine[['Venue Category']], prefix=\"\", prefix_sep=\"\")\n",
    "\n",
    "# add District column back to dataframe\n",
    "cambridge_onehot['District'] = df_Combine['District'] \n",
    "\n",
    "# move District column to the first column\n",
    "fixed_columns = [cambridge_onehot.columns[-1]] + list(cambridge_onehot.columns[:-1])\n",
    "cambridge_onehot = cambridge_onehot[fixed_columns]"
   ]
  },
  {
   "cell_type": "markdown",
   "metadata": {},
   "source": [
    "**Group by District**"
   ]
  },
  {
   "cell_type": "code",
   "execution_count": 36,
   "metadata": {
    "scrolled": true
   },
   "outputs": [
    {
     "name": "stdout",
     "output_type": "stream",
     "text": [
      "Shape:  (14, 88)\n"
     ]
    },
    {
     "data": {
      "text/html": [
       "<div>\n",
       "<style scoped>\n",
       "    .dataframe tbody tr th:only-of-type {\n",
       "        vertical-align: middle;\n",
       "    }\n",
       "\n",
       "    .dataframe tbody tr th {\n",
       "        vertical-align: top;\n",
       "    }\n",
       "\n",
       "    .dataframe thead th {\n",
       "        text-align: right;\n",
       "    }\n",
       "</style>\n",
       "<table border=\"1\" class=\"dataframe\">\n",
       "  <thead>\n",
       "    <tr style=\"text-align: right;\">\n",
       "      <th></th>\n",
       "      <th>District</th>\n",
       "      <th>African Restaurant</th>\n",
       "      <th>Arcade</th>\n",
       "      <th>Arepa Restaurant</th>\n",
       "      <th>Art Gallery</th>\n",
       "      <th>Arts &amp; Entertainment</th>\n",
       "      <th>Asian Restaurant</th>\n",
       "      <th>BBQ Joint</th>\n",
       "      <th>Bakery</th>\n",
       "      <th>Bar</th>\n",
       "      <th>...</th>\n",
       "      <th>Thai Restaurant</th>\n",
       "      <th>Theater</th>\n",
       "      <th>Theme Restaurant</th>\n",
       "      <th>Tour Provider</th>\n",
       "      <th>Turkish Restaurant</th>\n",
       "      <th>Vegetarian / Vegan Restaurant</th>\n",
       "      <th>Vietnamese Restaurant</th>\n",
       "      <th>Water Park</th>\n",
       "      <th>Whisky Bar</th>\n",
       "      <th>Wings Joint</th>\n",
       "    </tr>\n",
       "  </thead>\n",
       "  <tbody>\n",
       "    <tr>\n",
       "      <th>0</th>\n",
       "      <td>Abbey</td>\n",
       "      <td>0.0</td>\n",
       "      <td>0.0</td>\n",
       "      <td>0.0</td>\n",
       "      <td>0.00</td>\n",
       "      <td>0.0</td>\n",
       "      <td>0.00</td>\n",
       "      <td>0.0</td>\n",
       "      <td>0.000000</td>\n",
       "      <td>0.111111</td>\n",
       "      <td>...</td>\n",
       "      <td>0.0</td>\n",
       "      <td>0.0</td>\n",
       "      <td>0.0</td>\n",
       "      <td>0.0</td>\n",
       "      <td>0.0</td>\n",
       "      <td>0.0</td>\n",
       "      <td>0.0</td>\n",
       "      <td>0.111111</td>\n",
       "      <td>0.0</td>\n",
       "      <td>0.0</td>\n",
       "    </tr>\n",
       "    <tr>\n",
       "      <th>1</th>\n",
       "      <td>Arbury</td>\n",
       "      <td>0.0</td>\n",
       "      <td>0.0</td>\n",
       "      <td>0.0</td>\n",
       "      <td>0.05</td>\n",
       "      <td>0.0</td>\n",
       "      <td>0.05</td>\n",
       "      <td>0.0</td>\n",
       "      <td>0.000000</td>\n",
       "      <td>0.000000</td>\n",
       "      <td>...</td>\n",
       "      <td>0.0</td>\n",
       "      <td>0.0</td>\n",
       "      <td>0.0</td>\n",
       "      <td>0.0</td>\n",
       "      <td>0.0</td>\n",
       "      <td>0.0</td>\n",
       "      <td>0.0</td>\n",
       "      <td>0.000000</td>\n",
       "      <td>0.0</td>\n",
       "      <td>0.0</td>\n",
       "    </tr>\n",
       "    <tr>\n",
       "      <th>2</th>\n",
       "      <td>Castle</td>\n",
       "      <td>0.0</td>\n",
       "      <td>0.0</td>\n",
       "      <td>0.0</td>\n",
       "      <td>0.15</td>\n",
       "      <td>0.0</td>\n",
       "      <td>0.00</td>\n",
       "      <td>0.0</td>\n",
       "      <td>0.000000</td>\n",
       "      <td>0.150000</td>\n",
       "      <td>...</td>\n",
       "      <td>0.0</td>\n",
       "      <td>0.0</td>\n",
       "      <td>0.0</td>\n",
       "      <td>0.0</td>\n",
       "      <td>0.0</td>\n",
       "      <td>0.0</td>\n",
       "      <td>0.0</td>\n",
       "      <td>0.000000</td>\n",
       "      <td>0.0</td>\n",
       "      <td>0.0</td>\n",
       "    </tr>\n",
       "    <tr>\n",
       "      <th>3</th>\n",
       "      <td>Cherry Hinton</td>\n",
       "      <td>0.0</td>\n",
       "      <td>0.0</td>\n",
       "      <td>0.0</td>\n",
       "      <td>0.00</td>\n",
       "      <td>0.0</td>\n",
       "      <td>0.00</td>\n",
       "      <td>0.0</td>\n",
       "      <td>0.111111</td>\n",
       "      <td>0.000000</td>\n",
       "      <td>...</td>\n",
       "      <td>0.0</td>\n",
       "      <td>0.0</td>\n",
       "      <td>0.0</td>\n",
       "      <td>0.0</td>\n",
       "      <td>0.0</td>\n",
       "      <td>0.0</td>\n",
       "      <td>0.0</td>\n",
       "      <td>0.000000</td>\n",
       "      <td>0.0</td>\n",
       "      <td>0.0</td>\n",
       "    </tr>\n",
       "    <tr>\n",
       "      <th>4</th>\n",
       "      <td>Coleridge</td>\n",
       "      <td>0.0</td>\n",
       "      <td>0.0</td>\n",
       "      <td>0.0</td>\n",
       "      <td>0.00</td>\n",
       "      <td>0.0</td>\n",
       "      <td>0.00</td>\n",
       "      <td>0.0</td>\n",
       "      <td>0.000000</td>\n",
       "      <td>0.000000</td>\n",
       "      <td>...</td>\n",
       "      <td>0.0</td>\n",
       "      <td>0.0</td>\n",
       "      <td>0.0</td>\n",
       "      <td>0.0</td>\n",
       "      <td>0.0</td>\n",
       "      <td>0.0</td>\n",
       "      <td>0.0</td>\n",
       "      <td>0.000000</td>\n",
       "      <td>0.0</td>\n",
       "      <td>0.0</td>\n",
       "    </tr>\n",
       "  </tbody>\n",
       "</table>\n",
       "<p>5 rows × 88 columns</p>\n",
       "</div>"
      ],
      "text/plain": [
       "        District  African Restaurant  Arcade  Arepa Restaurant  Art Gallery  \\\n",
       "0          Abbey                 0.0     0.0               0.0         0.00   \n",
       "1         Arbury                 0.0     0.0               0.0         0.05   \n",
       "2         Castle                 0.0     0.0               0.0         0.15   \n",
       "3  Cherry Hinton                 0.0     0.0               0.0         0.00   \n",
       "4      Coleridge                 0.0     0.0               0.0         0.00   \n",
       "\n",
       "   Arts & Entertainment  Asian Restaurant  BBQ Joint    Bakery       Bar  \\\n",
       "0                   0.0              0.00        0.0  0.000000  0.111111   \n",
       "1                   0.0              0.05        0.0  0.000000  0.000000   \n",
       "2                   0.0              0.00        0.0  0.000000  0.150000   \n",
       "3                   0.0              0.00        0.0  0.111111  0.000000   \n",
       "4                   0.0              0.00        0.0  0.000000  0.000000   \n",
       "\n",
       "      ...       Thai Restaurant  Theater  Theme Restaurant  Tour Provider  \\\n",
       "0     ...                   0.0      0.0               0.0            0.0   \n",
       "1     ...                   0.0      0.0               0.0            0.0   \n",
       "2     ...                   0.0      0.0               0.0            0.0   \n",
       "3     ...                   0.0      0.0               0.0            0.0   \n",
       "4     ...                   0.0      0.0               0.0            0.0   \n",
       "\n",
       "   Turkish Restaurant  Vegetarian / Vegan Restaurant  Vietnamese Restaurant  \\\n",
       "0                 0.0                            0.0                    0.0   \n",
       "1                 0.0                            0.0                    0.0   \n",
       "2                 0.0                            0.0                    0.0   \n",
       "3                 0.0                            0.0                    0.0   \n",
       "4                 0.0                            0.0                    0.0   \n",
       "\n",
       "   Water Park  Whisky Bar  Wings Joint  \n",
       "0    0.111111         0.0          0.0  \n",
       "1    0.000000         0.0          0.0  \n",
       "2    0.000000         0.0          0.0  \n",
       "3    0.000000         0.0          0.0  \n",
       "4    0.000000         0.0          0.0  \n",
       "\n",
       "[5 rows x 88 columns]"
      ]
     },
     "execution_count": 36,
     "metadata": {},
     "output_type": "execute_result"
    }
   ],
   "source": [
    "district_grouped = cambridge_onehot.groupby('District').mean().reset_index()\n",
    "print('Shape: ',district_grouped.shape)\n",
    "district_grouped.head()"
   ]
  },
  {
   "cell_type": "markdown",
   "metadata": {},
   "source": [
    "##### FUNCTION - Most Common Venues"
   ]
  },
  {
   "cell_type": "code",
   "execution_count": 37,
   "metadata": {},
   "outputs": [],
   "source": [
    "def return_most_common_venues(row, num_top_venues):\n",
    "    row_categories = row.iloc[1:]\n",
    "    row_categories_sorted = row_categories.sort_values(ascending=False)\n",
    "    \n",
    "    return row_categories_sorted.index.values[0:num_top_venues]"
   ]
  },
  {
   "cell_type": "markdown",
   "metadata": {},
   "source": [
    "##### Create a DataFrame to show the top 10 venues in each district"
   ]
  },
  {
   "cell_type": "code",
   "execution_count": 38,
   "metadata": {},
   "outputs": [
    {
     "data": {
      "text/html": [
       "<div>\n",
       "<style scoped>\n",
       "    .dataframe tbody tr th:only-of-type {\n",
       "        vertical-align: middle;\n",
       "    }\n",
       "\n",
       "    .dataframe tbody tr th {\n",
       "        vertical-align: top;\n",
       "    }\n",
       "\n",
       "    .dataframe thead th {\n",
       "        text-align: right;\n",
       "    }\n",
       "</style>\n",
       "<table border=\"1\" class=\"dataframe\">\n",
       "  <thead>\n",
       "    <tr style=\"text-align: right;\">\n",
       "      <th></th>\n",
       "      <th>District</th>\n",
       "      <th>1st Most Common Venue</th>\n",
       "      <th>2nd Most Common Venue</th>\n",
       "      <th>3rd Most Common Venue</th>\n",
       "      <th>4th Most Common Venue</th>\n",
       "      <th>5th Most Common Venue</th>\n",
       "      <th>6th Most Common Venue</th>\n",
       "      <th>7th Most Common Venue</th>\n",
       "      <th>8th Most Common Venue</th>\n",
       "      <th>9th Most Common Venue</th>\n",
       "      <th>10th Most Common Venue</th>\n",
       "    </tr>\n",
       "  </thead>\n",
       "  <tbody>\n",
       "    <tr>\n",
       "      <th>0</th>\n",
       "      <td>Abbey</td>\n",
       "      <td>Indian Restaurant</td>\n",
       "      <td>Bar</td>\n",
       "      <td>Gastropub</td>\n",
       "      <td>Fish &amp; Chips Shop</td>\n",
       "      <td>Fast Food Restaurant</td>\n",
       "      <td>Pizza Place</td>\n",
       "      <td>Soccer Stadium</td>\n",
       "      <td>Chinese Restaurant</td>\n",
       "      <td>Water Park</td>\n",
       "      <td>BBQ Joint</td>\n",
       "    </tr>\n",
       "    <tr>\n",
       "      <th>1</th>\n",
       "      <td>Arbury</td>\n",
       "      <td>Indian Restaurant</td>\n",
       "      <td>Pub</td>\n",
       "      <td>Speakeasy</td>\n",
       "      <td>Gastropub</td>\n",
       "      <td>Jazz Club</td>\n",
       "      <td>Nightclub</td>\n",
       "      <td>Dance Studio</td>\n",
       "      <td>Pizza Place</td>\n",
       "      <td>Sandwich Place</td>\n",
       "      <td>Chinese Restaurant</td>\n",
       "    </tr>\n",
       "    <tr>\n",
       "      <th>2</th>\n",
       "      <td>Castle</td>\n",
       "      <td>Public Art</td>\n",
       "      <td>Bar</td>\n",
       "      <td>Art Gallery</td>\n",
       "      <td>Pizza Place</td>\n",
       "      <td>Cricket Ground</td>\n",
       "      <td>Café</td>\n",
       "      <td>Speakeasy</td>\n",
       "      <td>Nightclub</td>\n",
       "      <td>Pub</td>\n",
       "      <td>Indian Restaurant</td>\n",
       "    </tr>\n",
       "    <tr>\n",
       "      <th>3</th>\n",
       "      <td>Cherry Hinton</td>\n",
       "      <td>Pub</td>\n",
       "      <td>Chinese Restaurant</td>\n",
       "      <td>Indian Restaurant</td>\n",
       "      <td>Gastropub</td>\n",
       "      <td>Pizza Place</td>\n",
       "      <td>Bakery</td>\n",
       "      <td>Restaurant</td>\n",
       "      <td>Dive Bar</td>\n",
       "      <td>Cricket Ground</td>\n",
       "      <td>Dance Studio</td>\n",
       "    </tr>\n",
       "    <tr>\n",
       "      <th>4</th>\n",
       "      <td>Coleridge</td>\n",
       "      <td>Chinese Restaurant</td>\n",
       "      <td>Pub</td>\n",
       "      <td>Indian Restaurant</td>\n",
       "      <td>Restaurant</td>\n",
       "      <td>Café</td>\n",
       "      <td>Pizza Place</td>\n",
       "      <td>Deli / Bodega</td>\n",
       "      <td>North Indian Restaurant</td>\n",
       "      <td>Comedy Club</td>\n",
       "      <td>Fish &amp; Chips Shop</td>\n",
       "    </tr>\n",
       "    <tr>\n",
       "      <th>5</th>\n",
       "      <td>East Chesterton</td>\n",
       "      <td>Indian Restaurant</td>\n",
       "      <td>Pub</td>\n",
       "      <td>Music Venue</td>\n",
       "      <td>Fast Food Restaurant</td>\n",
       "      <td>Beer Garden</td>\n",
       "      <td>Gastropub</td>\n",
       "      <td>Dive Bar</td>\n",
       "      <td>Cricket Ground</td>\n",
       "      <td>Historic Site</td>\n",
       "      <td>Dance Studio</td>\n",
       "    </tr>\n",
       "    <tr>\n",
       "      <th>6</th>\n",
       "      <td>Kings Hedges</td>\n",
       "      <td>Pub</td>\n",
       "      <td>Café</td>\n",
       "      <td>Asian Restaurant</td>\n",
       "      <td>Chinese Restaurant</td>\n",
       "      <td>Burger Joint</td>\n",
       "      <td>Music Venue</td>\n",
       "      <td>Arcade</td>\n",
       "      <td>Historic Site</td>\n",
       "      <td>Gay Bar</td>\n",
       "      <td>Gastropub</td>\n",
       "    </tr>\n",
       "    <tr>\n",
       "      <th>7</th>\n",
       "      <td>Market</td>\n",
       "      <td>Pub</td>\n",
       "      <td>Bar</td>\n",
       "      <td>Coffee Shop</td>\n",
       "      <td>Café</td>\n",
       "      <td>Art Gallery</td>\n",
       "      <td>Sushi Restaurant</td>\n",
       "      <td>Theater</td>\n",
       "      <td>Bakery</td>\n",
       "      <td>Restaurant</td>\n",
       "      <td>Breakfast Spot</td>\n",
       "    </tr>\n",
       "    <tr>\n",
       "      <th>8</th>\n",
       "      <td>Newnham</td>\n",
       "      <td>Pub</td>\n",
       "      <td>Café</td>\n",
       "      <td>Bar</td>\n",
       "      <td>Thai Restaurant</td>\n",
       "      <td>Restaurant</td>\n",
       "      <td>History Museum</td>\n",
       "      <td>Outdoor Sculpture</td>\n",
       "      <td>Butcher</td>\n",
       "      <td>Fish &amp; Chips Shop</td>\n",
       "      <td>Indian Restaurant</td>\n",
       "    </tr>\n",
       "    <tr>\n",
       "      <th>9</th>\n",
       "      <td>Petersfield</td>\n",
       "      <td>Pub</td>\n",
       "      <td>Café</td>\n",
       "      <td>Coffee Shop</td>\n",
       "      <td>Indian Restaurant</td>\n",
       "      <td>Bakery</td>\n",
       "      <td>Art Gallery</td>\n",
       "      <td>Chinese Restaurant</td>\n",
       "      <td>Public Art</td>\n",
       "      <td>Beer Garden</td>\n",
       "      <td>Fast Food Restaurant</td>\n",
       "    </tr>\n",
       "    <tr>\n",
       "      <th>10</th>\n",
       "      <td>Queen Ediths</td>\n",
       "      <td>Coffee Shop</td>\n",
       "      <td>Pub</td>\n",
       "      <td>Fast Food Restaurant</td>\n",
       "      <td>Historic Site</td>\n",
       "      <td>Dive Bar</td>\n",
       "      <td>Creperie</td>\n",
       "      <td>Cricket Ground</td>\n",
       "      <td>History Museum</td>\n",
       "      <td>Dance Studio</td>\n",
       "      <td>Deli / Bodega</td>\n",
       "    </tr>\n",
       "    <tr>\n",
       "      <th>11</th>\n",
       "      <td>Romsey</td>\n",
       "      <td>Café</td>\n",
       "      <td>Pub</td>\n",
       "      <td>Indian Restaurant</td>\n",
       "      <td>Arcade</td>\n",
       "      <td>Art Gallery</td>\n",
       "      <td>Sandwich Place</td>\n",
       "      <td>Deli / Bodega</td>\n",
       "      <td>Pool Hall</td>\n",
       "      <td>Gastropub</td>\n",
       "      <td>Seafood Restaurant</td>\n",
       "    </tr>\n",
       "    <tr>\n",
       "      <th>12</th>\n",
       "      <td>Trumpington</td>\n",
       "      <td>Pub</td>\n",
       "      <td>Chinese Restaurant</td>\n",
       "      <td>Fish &amp; Chips Shop</td>\n",
       "      <td>Café</td>\n",
       "      <td>Food Truck</td>\n",
       "      <td>Bar</td>\n",
       "      <td>Fast Food Restaurant</td>\n",
       "      <td>English Restaurant</td>\n",
       "      <td>Dance Studio</td>\n",
       "      <td>Deli / Bodega</td>\n",
       "    </tr>\n",
       "    <tr>\n",
       "      <th>13</th>\n",
       "      <td>West Chesterton</td>\n",
       "      <td>Chinese Restaurant</td>\n",
       "      <td>Pub</td>\n",
       "      <td>Café</td>\n",
       "      <td>Indian Restaurant</td>\n",
       "      <td>Nightclub</td>\n",
       "      <td>Coffee Shop</td>\n",
       "      <td>Bakery</td>\n",
       "      <td>General Entertainment</td>\n",
       "      <td>Sri Lankan Restaurant</td>\n",
       "      <td>Gastropub</td>\n",
       "    </tr>\n",
       "  </tbody>\n",
       "</table>\n",
       "</div>"
      ],
      "text/plain": [
       "           District 1st Most Common Venue 2nd Most Common Venue  \\\n",
       "0             Abbey     Indian Restaurant                   Bar   \n",
       "1            Arbury     Indian Restaurant                   Pub   \n",
       "2            Castle            Public Art                   Bar   \n",
       "3     Cherry Hinton                   Pub    Chinese Restaurant   \n",
       "4         Coleridge    Chinese Restaurant                   Pub   \n",
       "5   East Chesterton     Indian Restaurant                   Pub   \n",
       "6      Kings Hedges                   Pub                  Café   \n",
       "7            Market                   Pub                   Bar   \n",
       "8           Newnham                   Pub                  Café   \n",
       "9       Petersfield                   Pub                  Café   \n",
       "10     Queen Ediths           Coffee Shop                   Pub   \n",
       "11           Romsey                  Café                   Pub   \n",
       "12      Trumpington                   Pub    Chinese Restaurant   \n",
       "13  West Chesterton    Chinese Restaurant                   Pub   \n",
       "\n",
       "   3rd Most Common Venue 4th Most Common Venue 5th Most Common Venue  \\\n",
       "0              Gastropub     Fish & Chips Shop  Fast Food Restaurant   \n",
       "1              Speakeasy             Gastropub             Jazz Club   \n",
       "2            Art Gallery           Pizza Place        Cricket Ground   \n",
       "3      Indian Restaurant             Gastropub           Pizza Place   \n",
       "4      Indian Restaurant            Restaurant                  Café   \n",
       "5            Music Venue  Fast Food Restaurant           Beer Garden   \n",
       "6       Asian Restaurant    Chinese Restaurant          Burger Joint   \n",
       "7            Coffee Shop                  Café           Art Gallery   \n",
       "8                    Bar       Thai Restaurant            Restaurant   \n",
       "9            Coffee Shop     Indian Restaurant                Bakery   \n",
       "10  Fast Food Restaurant         Historic Site              Dive Bar   \n",
       "11     Indian Restaurant                Arcade           Art Gallery   \n",
       "12     Fish & Chips Shop                  Café            Food Truck   \n",
       "13                  Café     Indian Restaurant             Nightclub   \n",
       "\n",
       "   6th Most Common Venue 7th Most Common Venue    8th Most Common Venue  \\\n",
       "0            Pizza Place        Soccer Stadium       Chinese Restaurant   \n",
       "1              Nightclub          Dance Studio              Pizza Place   \n",
       "2                   Café             Speakeasy                Nightclub   \n",
       "3                 Bakery            Restaurant                 Dive Bar   \n",
       "4            Pizza Place         Deli / Bodega  North Indian Restaurant   \n",
       "5              Gastropub              Dive Bar           Cricket Ground   \n",
       "6            Music Venue                Arcade            Historic Site   \n",
       "7       Sushi Restaurant               Theater                   Bakery   \n",
       "8         History Museum     Outdoor Sculpture                  Butcher   \n",
       "9            Art Gallery    Chinese Restaurant               Public Art   \n",
       "10              Creperie        Cricket Ground           History Museum   \n",
       "11        Sandwich Place         Deli / Bodega                Pool Hall   \n",
       "12                   Bar  Fast Food Restaurant       English Restaurant   \n",
       "13           Coffee Shop                Bakery    General Entertainment   \n",
       "\n",
       "    9th Most Common Venue 10th Most Common Venue  \n",
       "0              Water Park              BBQ Joint  \n",
       "1          Sandwich Place     Chinese Restaurant  \n",
       "2                     Pub      Indian Restaurant  \n",
       "3          Cricket Ground           Dance Studio  \n",
       "4             Comedy Club      Fish & Chips Shop  \n",
       "5           Historic Site           Dance Studio  \n",
       "6                 Gay Bar              Gastropub  \n",
       "7              Restaurant         Breakfast Spot  \n",
       "8       Fish & Chips Shop      Indian Restaurant  \n",
       "9             Beer Garden   Fast Food Restaurant  \n",
       "10           Dance Studio          Deli / Bodega  \n",
       "11              Gastropub     Seafood Restaurant  \n",
       "12           Dance Studio          Deli / Bodega  \n",
       "13  Sri Lankan Restaurant              Gastropub  "
      ]
     },
     "execution_count": 38,
     "metadata": {},
     "output_type": "execute_result"
    }
   ],
   "source": [
    "num_top_venues = 10\n",
    "\n",
    "indicators = ['st', 'nd', 'rd']\n",
    "\n",
    "# create columns according to number of top venues\n",
    "columns = ['District']\n",
    "for ind in np.arange(num_top_venues):\n",
    "    try:\n",
    "        columns.append('{}{} Most Common Venue'.format(ind+1, indicators[ind]))\n",
    "    except:\n",
    "        columns.append('{}th Most Common Venue'.format(ind+1))\n",
    "\n",
    "# create a new dataframe\n",
    "district_venues_sorted = pd.DataFrame(columns=columns)\n",
    "district_venues_sorted['District'] = district_grouped['District']\n",
    "\n",
    "for ind in np.arange(district_grouped.shape[0]):\n",
    "    district_venues_sorted.iloc[ind, 1:] = return_most_common_venues(district_grouped.iloc[ind, :], num_top_venues)\n",
    "\n",
    "district_venues_sorted"
   ]
  },
  {
   "cell_type": "markdown",
   "metadata": {},
   "source": [
    "From the dataframe we can see that Pub is the 1st or 2nd most popular venue in 12 of the 14 districts."
   ]
  },
  {
   "cell_type": "markdown",
   "metadata": {},
   "source": [
    "### Cluster K-Means - Districts"
   ]
  },
  {
   "cell_type": "code",
   "execution_count": 39,
   "metadata": {},
   "outputs": [
    {
     "data": {
      "text/plain": [
       "array([0, 0, 3, 0, 0, 2, 4, 3, 3, 3])"
      ]
     },
     "execution_count": 39,
     "metadata": {},
     "output_type": "execute_result"
    }
   ],
   "source": [
    "from sklearn.cluster import KMeans\n",
    "\n",
    "# set number of clusters\n",
    "kclusters = 5\n",
    "\n",
    "district_grouped_clustering = district_grouped.drop('District', 1)\n",
    "X = np.array(district_grouped_clustering)\n",
    "\n",
    "# run k-means clustering\n",
    "kmeans = KMeans(n_clusters=kclusters, random_state=0).fit(district_grouped_clustering)\n",
    "\n",
    "# check cluster labels generated for each row in the dataframe\n",
    "kmeans.labels_[0:10] "
   ]
  },
  {
   "cell_type": "code",
   "execution_count": 40,
   "metadata": {},
   "outputs": [
    {
     "data": {
      "text/html": [
       "<div>\n",
       "<style scoped>\n",
       "    .dataframe tbody tr th:only-of-type {\n",
       "        vertical-align: middle;\n",
       "    }\n",
       "\n",
       "    .dataframe tbody tr th {\n",
       "        vertical-align: top;\n",
       "    }\n",
       "\n",
       "    .dataframe thead th {\n",
       "        text-align: right;\n",
       "    }\n",
       "</style>\n",
       "<table border=\"1\" class=\"dataframe\">\n",
       "  <thead>\n",
       "    <tr style=\"text-align: right;\">\n",
       "      <th></th>\n",
       "      <th>District</th>\n",
       "      <th>Latitude</th>\n",
       "      <th>Longitude</th>\n",
       "    </tr>\n",
       "  </thead>\n",
       "  <tbody>\n",
       "    <tr>\n",
       "      <th>0</th>\n",
       "      <td>Abbey</td>\n",
       "      <td>52.212400</td>\n",
       "      <td>0.161300</td>\n",
       "    </tr>\n",
       "    <tr>\n",
       "      <th>1</th>\n",
       "      <td>Arbury</td>\n",
       "      <td>52.218995</td>\n",
       "      <td>0.115557</td>\n",
       "    </tr>\n",
       "    <tr>\n",
       "      <th>2</th>\n",
       "      <td>Castle</td>\n",
       "      <td>52.214867</td>\n",
       "      <td>0.102719</td>\n",
       "    </tr>\n",
       "    <tr>\n",
       "      <th>3</th>\n",
       "      <td>Cherry Hinton</td>\n",
       "      <td>52.187200</td>\n",
       "      <td>0.176400</td>\n",
       "    </tr>\n",
       "    <tr>\n",
       "      <th>4</th>\n",
       "      <td>Coleridge</td>\n",
       "      <td>52.189603</td>\n",
       "      <td>0.153449</td>\n",
       "    </tr>\n",
       "    <tr>\n",
       "      <th>5</th>\n",
       "      <td>East Chesterton</td>\n",
       "      <td>52.222032</td>\n",
       "      <td>0.147264</td>\n",
       "    </tr>\n",
       "    <tr>\n",
       "      <th>6</th>\n",
       "      <td>Kings Hedges</td>\n",
       "      <td>52.227185</td>\n",
       "      <td>0.134992</td>\n",
       "    </tr>\n",
       "    <tr>\n",
       "      <th>7</th>\n",
       "      <td>Market</td>\n",
       "      <td>52.206392</td>\n",
       "      <td>0.124482</td>\n",
       "    </tr>\n",
       "    <tr>\n",
       "      <th>8</th>\n",
       "      <td>Newnham</td>\n",
       "      <td>52.197000</td>\n",
       "      <td>0.106800</td>\n",
       "    </tr>\n",
       "    <tr>\n",
       "      <th>9</th>\n",
       "      <td>Petersfield</td>\n",
       "      <td>52.202698</td>\n",
       "      <td>0.136138</td>\n",
       "    </tr>\n",
       "    <tr>\n",
       "      <th>10</th>\n",
       "      <td>Queen Ediths</td>\n",
       "      <td>52.180781</td>\n",
       "      <td>0.151196</td>\n",
       "    </tr>\n",
       "    <tr>\n",
       "      <th>11</th>\n",
       "      <td>Romsey</td>\n",
       "      <td>52.197200</td>\n",
       "      <td>0.146300</td>\n",
       "    </tr>\n",
       "    <tr>\n",
       "      <th>12</th>\n",
       "      <td>Trumpington</td>\n",
       "      <td>52.173400</td>\n",
       "      <td>0.113100</td>\n",
       "    </tr>\n",
       "    <tr>\n",
       "      <th>13</th>\n",
       "      <td>West Chesterton</td>\n",
       "      <td>52.217487</td>\n",
       "      <td>0.129307</td>\n",
       "    </tr>\n",
       "  </tbody>\n",
       "</table>\n",
       "</div>"
      ],
      "text/plain": [
       "           District   Latitude  Longitude\n",
       "0             Abbey  52.212400   0.161300\n",
       "1            Arbury  52.218995   0.115557\n",
       "2            Castle  52.214867   0.102719\n",
       "3     Cherry Hinton  52.187200   0.176400\n",
       "4         Coleridge  52.189603   0.153449\n",
       "5   East Chesterton  52.222032   0.147264\n",
       "6      Kings Hedges  52.227185   0.134992\n",
       "7            Market  52.206392   0.124482\n",
       "8           Newnham  52.197000   0.106800\n",
       "9       Petersfield  52.202698   0.136138\n",
       "10     Queen Ediths  52.180781   0.151196\n",
       "11           Romsey  52.197200   0.146300\n",
       "12      Trumpington  52.173400   0.113100\n",
       "13  West Chesterton  52.217487   0.129307"
      ]
     },
     "execution_count": 40,
     "metadata": {},
     "output_type": "execute_result"
    }
   ],
   "source": [
    "df_district"
   ]
  },
  {
   "cell_type": "code",
   "execution_count": 41,
   "metadata": {},
   "outputs": [],
   "source": [
    "# add clustering labels\n",
    "try:\n",
    "    df_district.insert(0, 'Cluster Labels', kmeans.labels_)\n",
    "except:\n",
    "    df_district.drop(columns=['Cluster Labels'], inplace=True)\n",
    "    df_district.insert(0, 'Cluster Labels', kmeans.labels_)"
   ]
  },
  {
   "cell_type": "code",
   "execution_count": 42,
   "metadata": {
    "scrolled": false
   },
   "outputs": [
    {
     "data": {
      "text/html": [
       "<div style=\"width:100%;\"><div style=\"position:relative;width:100%;height:0;padding-bottom:60%;\"><span style=\"color:#565656\">Make this Notebook Trusted to load map: File -> Trust Notebook</span><iframe src=\"about:blank\" style=\"position:absolute;width:100%;height:100%;left:0;top:0;border:none !important;\" data-html=PCFET0NUWVBFIGh0bWw+CjxoZWFkPiAgICAKICAgIDxtZXRhIGh0dHAtZXF1aXY9ImNvbnRlbnQtdHlwZSIgY29udGVudD0idGV4dC9odG1sOyBjaGFyc2V0PVVURi04IiAvPgogICAgCiAgICAgICAgPHNjcmlwdD4KICAgICAgICAgICAgTF9OT19UT1VDSCA9IGZhbHNlOwogICAgICAgICAgICBMX0RJU0FCTEVfM0QgPSBmYWxzZTsKICAgICAgICA8L3NjcmlwdD4KICAgIAogICAgPHNjcmlwdCBzcmM9Imh0dHBzOi8vY2RuLmpzZGVsaXZyLm5ldC9ucG0vbGVhZmxldEAxLjYuMC9kaXN0L2xlYWZsZXQuanMiPjwvc2NyaXB0PgogICAgPHNjcmlwdCBzcmM9Imh0dHBzOi8vY29kZS5qcXVlcnkuY29tL2pxdWVyeS0xLjEyLjQubWluLmpzIj48L3NjcmlwdD4KICAgIDxzY3JpcHQgc3JjPSJodHRwczovL21heGNkbi5ib290c3RyYXBjZG4uY29tL2Jvb3RzdHJhcC8zLjIuMC9qcy9ib290c3RyYXAubWluLmpzIj48L3NjcmlwdD4KICAgIDxzY3JpcHQgc3JjPSJodHRwczovL2NkbmpzLmNsb3VkZmxhcmUuY29tL2FqYXgvbGlicy9MZWFmbGV0LmF3ZXNvbWUtbWFya2Vycy8yLjAuMi9sZWFmbGV0LmF3ZXNvbWUtbWFya2Vycy5qcyI+PC9zY3JpcHQ+CiAgICA8bGluayByZWw9InN0eWxlc2hlZXQiIGhyZWY9Imh0dHBzOi8vY2RuLmpzZGVsaXZyLm5ldC9ucG0vbGVhZmxldEAxLjYuMC9kaXN0L2xlYWZsZXQuY3NzIi8+CiAgICA8bGluayByZWw9InN0eWxlc2hlZXQiIGhyZWY9Imh0dHBzOi8vbWF4Y2RuLmJvb3RzdHJhcGNkbi5jb20vYm9vdHN0cmFwLzMuMi4wL2Nzcy9ib290c3RyYXAubWluLmNzcyIvPgogICAgPGxpbmsgcmVsPSJzdHlsZXNoZWV0IiBocmVmPSJodHRwczovL21heGNkbi5ib290c3RyYXBjZG4uY29tL2Jvb3RzdHJhcC8zLjIuMC9jc3MvYm9vdHN0cmFwLXRoZW1lLm1pbi5jc3MiLz4KICAgIDxsaW5rIHJlbD0ic3R5bGVzaGVldCIgaHJlZj0iaHR0cHM6Ly9tYXhjZG4uYm9vdHN0cmFwY2RuLmNvbS9mb250LWF3ZXNvbWUvNC42LjMvY3NzL2ZvbnQtYXdlc29tZS5taW4uY3NzIi8+CiAgICA8bGluayByZWw9InN0eWxlc2hlZXQiIGhyZWY9Imh0dHBzOi8vY2RuanMuY2xvdWRmbGFyZS5jb20vYWpheC9saWJzL0xlYWZsZXQuYXdlc29tZS1tYXJrZXJzLzIuMC4yL2xlYWZsZXQuYXdlc29tZS1tYXJrZXJzLmNzcyIvPgogICAgPGxpbmsgcmVsPSJzdHlsZXNoZWV0IiBocmVmPSJodHRwczovL3Jhd2Nkbi5naXRoYWNrLmNvbS9weXRob24tdmlzdWFsaXphdGlvbi9mb2xpdW0vbWFzdGVyL2ZvbGl1bS90ZW1wbGF0ZXMvbGVhZmxldC5hd2Vzb21lLnJvdGF0ZS5jc3MiLz4KICAgIDxzdHlsZT5odG1sLCBib2R5IHt3aWR0aDogMTAwJTtoZWlnaHQ6IDEwMCU7bWFyZ2luOiAwO3BhZGRpbmc6IDA7fTwvc3R5bGU+CiAgICA8c3R5bGU+I21hcCB7cG9zaXRpb246YWJzb2x1dGU7dG9wOjA7Ym90dG9tOjA7cmlnaHQ6MDtsZWZ0OjA7fTwvc3R5bGU+CiAgICAKICAgICAgICAgICAgPG1ldGEgbmFtZT0idmlld3BvcnQiIGNvbnRlbnQ9IndpZHRoPWRldmljZS13aWR0aCwKICAgICAgICAgICAgICAgIGluaXRpYWwtc2NhbGU9MS4wLCBtYXhpbXVtLXNjYWxlPTEuMCwgdXNlci1zY2FsYWJsZT1ubyIgLz4KICAgICAgICAgICAgPHN0eWxlPgogICAgICAgICAgICAgICAgI21hcF84YjhhYzIyMWYwMTg0NGRmOTU3NDE0OTk4MGQ2YTdjZiB7CiAgICAgICAgICAgICAgICAgICAgcG9zaXRpb246IHJlbGF0aXZlOwogICAgICAgICAgICAgICAgICAgIHdpZHRoOiAxMDAuMCU7CiAgICAgICAgICAgICAgICAgICAgaGVpZ2h0OiAxMDAuMCU7CiAgICAgICAgICAgICAgICAgICAgbGVmdDogMC4wJTsKICAgICAgICAgICAgICAgICAgICB0b3A6IDAuMCU7CiAgICAgICAgICAgICAgICB9CiAgICAgICAgICAgIDwvc3R5bGU+CiAgICAgICAgCjwvaGVhZD4KPGJvZHk+ICAgIAogICAgCiAgICAgICAgICAgIDxkaXYgY2xhc3M9ImZvbGl1bS1tYXAiIGlkPSJtYXBfOGI4YWMyMjFmMDE4NDRkZjk1NzQxNDk5ODBkNmE3Y2YiID48L2Rpdj4KICAgICAgICAKPC9ib2R5Pgo8c2NyaXB0PiAgICAKICAgIAogICAgICAgICAgICB2YXIgbWFwXzhiOGFjMjIxZjAxODQ0ZGY5NTc0MTQ5OTgwZDZhN2NmID0gTC5tYXAoCiAgICAgICAgICAgICAgICAibWFwXzhiOGFjMjIxZjAxODQ0ZGY5NTc0MTQ5OTgwZDZhN2NmIiwKICAgICAgICAgICAgICAgIHsKICAgICAgICAgICAgICAgICAgICBjZW50ZXI6IFs1Mi4yMDM0ODIzLCAwLjEyMzU4MTddLAogICAgICAgICAgICAgICAgICAgIGNyczogTC5DUlMuRVBTRzM4NTcsCiAgICAgICAgICAgICAgICAgICAgem9vbTogMTIsCiAgICAgICAgICAgICAgICAgICAgem9vbUNvbnRyb2w6IHRydWUsCiAgICAgICAgICAgICAgICAgICAgcHJlZmVyQ2FudmFzOiBmYWxzZSwKICAgICAgICAgICAgICAgIH0KICAgICAgICAgICAgKTsKCiAgICAgICAgICAgIAoKICAgICAgICAKICAgIAogICAgICAgICAgICB2YXIgdGlsZV9sYXllcl84MmUzZGJlZDIxMDQ0NWY4OGMwMDI5YjA2MDdmMmYzMSA9IEwudGlsZUxheWVyKAogICAgICAgICAgICAgICAgImh0dHBzOi8ve3N9LnRpbGUub3BlbnN0cmVldG1hcC5vcmcve3p9L3t4fS97eX0ucG5nIiwKICAgICAgICAgICAgICAgIHsiYXR0cmlidXRpb24iOiAiRGF0YSBieSBcdTAwMjZjb3B5OyBcdTAwM2NhIGhyZWY9XCJodHRwOi8vb3BlbnN0cmVldG1hcC5vcmdcIlx1MDAzZU9wZW5TdHJlZXRNYXBcdTAwM2MvYVx1MDAzZSwgdW5kZXIgXHUwMDNjYSBocmVmPVwiaHR0cDovL3d3dy5vcGVuc3RyZWV0bWFwLm9yZy9jb3B5cmlnaHRcIlx1MDAzZU9EYkxcdTAwM2MvYVx1MDAzZS4iLCAiZGV0ZWN0UmV0aW5hIjogZmFsc2UsICJtYXhOYXRpdmVab29tIjogMTgsICJtYXhab29tIjogMTgsICJtaW5ab29tIjogMCwgIm5vV3JhcCI6IGZhbHNlLCAib3BhY2l0eSI6IDEsICJzdWJkb21haW5zIjogImFiYyIsICJ0bXMiOiBmYWxzZX0KICAgICAgICAgICAgKS5hZGRUbyhtYXBfOGI4YWMyMjFmMDE4NDRkZjk1NzQxNDk5ODBkNmE3Y2YpOwogICAgICAgIAogICAgCiAgICAgICAgICAgIHZhciBjaXJjbGVfOWFlMzJkOGZkYTM2NGMzN2FkYjM1NDhiNWM2OWExMDIgPSBMLmNpcmNsZSgKICAgICAgICAgICAgICAgIFs1Mi4yMTI0LCAwLjE2MTNdLAogICAgICAgICAgICAgICAgeyJidWJibGluZ01vdXNlRXZlbnRzIjogdHJ1ZSwgImNvbG9yIjogIiNmZjAwMDAiLCAiZGFzaEFycmF5IjogbnVsbCwgImRhc2hPZmZzZXQiOiBudWxsLCAiZmlsbCI6IHRydWUsICJmaWxsQ29sb3IiOiAiI2ZmMDAwMCIsICJmaWxsT3BhY2l0eSI6IDAuNywgImZpbGxSdWxlIjogImV2ZW5vZGQiLCAibGluZUNhcCI6ICJyb3VuZCIsICJsaW5lSm9pbiI6ICJyb3VuZCIsICJvcGFjaXR5IjogMS4wLCAicmFkaXVzIjogNzAwLCAic3Ryb2tlIjogdHJ1ZSwgIndlaWdodCI6IDN9CiAgICAgICAgICAgICkuYWRkVG8obWFwXzhiOGFjMjIxZjAxODQ0ZGY5NTc0MTQ5OTgwZDZhN2NmKTsKICAgICAgICAKICAgIAogICAgICAgIHZhciBwb3B1cF83Y2Y5ZjRjZTkxYzY0NmMzYTc1MDk2MzRmYjY5YjRjYyA9IEwucG9wdXAoeyJtYXhXaWR0aCI6ICIxMDAlIn0pOwoKICAgICAgICAKICAgICAgICAgICAgdmFyIGh0bWxfZWYwNjg3NGE5NzFmNGRlYWEzMDliZTAxNTg3MzMxZjcgPSAkKGA8ZGl2IGlkPSJodG1sX2VmMDY4NzRhOTcxZjRkZWFhMzA5YmUwMTU4NzMzMWY3IiBzdHlsZT0id2lkdGg6IDEwMC4wJTsgaGVpZ2h0OiAxMDAuMCU7Ij5BYmJleSBDbHVzdGVyIDA8L2Rpdj5gKVswXTsKICAgICAgICAgICAgcG9wdXBfN2NmOWY0Y2U5MWM2NDZjM2E3NTA5NjM0ZmI2OWI0Y2Muc2V0Q29udGVudChodG1sX2VmMDY4NzRhOTcxZjRkZWFhMzA5YmUwMTU4NzMzMWY3KTsKICAgICAgICAKCiAgICAgICAgY2lyY2xlXzlhZTMyZDhmZGEzNjRjMzdhZGIzNTQ4YjVjNjlhMTAyLmJpbmRQb3B1cChwb3B1cF83Y2Y5ZjRjZTkxYzY0NmMzYTc1MDk2MzRmYjY5YjRjYykKICAgICAgICA7CgogICAgICAgIAogICAgCiAgICAKICAgICAgICAgICAgY2lyY2xlXzlhZTMyZDhmZGEzNjRjMzdhZGIzNTQ4YjVjNjlhMTAyLmJpbmRUb29sdGlwKAogICAgICAgICAgICAgICAgYDxkaXY+CiAgICAgICAgICAgICAgICAgICAgIE5hbWU6IEFiYmV5LDxicj5DbHVzdGVyOiAwCiAgICAgICAgICAgICAgICAgPC9kaXY+YCwKICAgICAgICAgICAgICAgIHsic3RpY2t5IjogdHJ1ZX0KICAgICAgICAgICAgKTsKICAgICAgICAKICAgIAogICAgICAgICAgICB2YXIgY2lyY2xlX2NiNTZmOGJjNDlkNDQ3MmFiODkzNmU3Zjk5NmY2M2NjID0gTC5jaXJjbGUoCiAgICAgICAgICAgICAgICBbNTIuMjE4OTk1MjQ2NDQ1NSwgMC4xMTU1NTcxMjkzODM4ODYyNl0sCiAgICAgICAgICAgICAgICB7ImJ1YmJsaW5nTW91c2VFdmVudHMiOiB0cnVlLCAiY29sb3IiOiAiI2ZmMDAwMCIsICJkYXNoQXJyYXkiOiBudWxsLCAiZGFzaE9mZnNldCI6IG51bGwsICJmaWxsIjogdHJ1ZSwgImZpbGxDb2xvciI6ICIjZmYwMDAwIiwgImZpbGxPcGFjaXR5IjogMC43LCAiZmlsbFJ1bGUiOiAiZXZlbm9kZCIsICJsaW5lQ2FwIjogInJvdW5kIiwgImxpbmVKb2luIjogInJvdW5kIiwgIm9wYWNpdHkiOiAxLjAsICJyYWRpdXMiOiA3MDAsICJzdHJva2UiOiB0cnVlLCAid2VpZ2h0IjogM30KICAgICAgICAgICAgKS5hZGRUbyhtYXBfOGI4YWMyMjFmMDE4NDRkZjk1NzQxNDk5ODBkNmE3Y2YpOwogICAgICAgIAogICAgCiAgICAgICAgdmFyIHBvcHVwXzNkM2MzMzc3MTFkNDRjNWU4NTc2Mzc2YzY2NmIyOTNmID0gTC5wb3B1cCh7Im1heFdpZHRoIjogIjEwMCUifSk7CgogICAgICAgIAogICAgICAgICAgICB2YXIgaHRtbF9jY2UwM2NjYzJhNmU0ZjRlYWIyZGFmYWQxZTY1ZjJhNiA9ICQoYDxkaXYgaWQ9Imh0bWxfY2NlMDNjY2MyYTZlNGY0ZWFiMmRhZmFkMWU2NWYyYTYiIHN0eWxlPSJ3aWR0aDogMTAwLjAlOyBoZWlnaHQ6IDEwMC4wJTsiPkFyYnVyeSBDbHVzdGVyIDA8L2Rpdj5gKVswXTsKICAgICAgICAgICAgcG9wdXBfM2QzYzMzNzcxMWQ0NGM1ZTg1NzYzNzZjNjY2YjI5M2Yuc2V0Q29udGVudChodG1sX2NjZTAzY2NjMmE2ZTRmNGVhYjJkYWZhZDFlNjVmMmE2KTsKICAgICAgICAKCiAgICAgICAgY2lyY2xlX2NiNTZmOGJjNDlkNDQ3MmFiODkzNmU3Zjk5NmY2M2NjLmJpbmRQb3B1cChwb3B1cF8zZDNjMzM3NzExZDQ0YzVlODU3NjM3NmM2NjZiMjkzZikKICAgICAgICA7CgogICAgICAgIAogICAgCiAgICAKICAgICAgICAgICAgY2lyY2xlX2NiNTZmOGJjNDlkNDQ3MmFiODkzNmU3Zjk5NmY2M2NjLmJpbmRUb29sdGlwKAogICAgICAgICAgICAgICAgYDxkaXY+CiAgICAgICAgICAgICAgICAgICAgIE5hbWU6IEFyYnVyeSw8YnI+Q2x1c3RlcjogMAogICAgICAgICAgICAgICAgIDwvZGl2PmAsCiAgICAgICAgICAgICAgICB7InN0aWNreSI6IHRydWV9CiAgICAgICAgICAgICk7CiAgICAgICAgCiAgICAKICAgICAgICAgICAgdmFyIGNpcmNsZV9hNWRjMzNhNzUxMzM0YjllYTE0M2Q2MDUwYzEyMDcwYyA9IEwuY2lyY2xlKAogICAgICAgICAgICAgICAgWzUyLjIxNDg2NzQzOTQ0NjM3LCAwLjEwMjcxOTQxNjk1NTAxNzNdLAogICAgICAgICAgICAgICAgeyJidWJibGluZ01vdXNlRXZlbnRzIjogdHJ1ZSwgImNvbG9yIjogIiNlYTAwZmYiLCAiZGFzaEFycmF5IjogbnVsbCwgImRhc2hPZmZzZXQiOiBudWxsLCAiZmlsbCI6IHRydWUsICJmaWxsQ29sb3IiOiAiI2VhMDBmZiIsICJmaWxsT3BhY2l0eSI6IDAuNywgImZpbGxSdWxlIjogImV2ZW5vZGQiLCAibGluZUNhcCI6ICJyb3VuZCIsICJsaW5lSm9pbiI6ICJyb3VuZCIsICJvcGFjaXR5IjogMS4wLCAicmFkaXVzIjogNzAwLCAic3Ryb2tlIjogdHJ1ZSwgIndlaWdodCI6IDN9CiAgICAgICAgICAgICkuYWRkVG8obWFwXzhiOGFjMjIxZjAxODQ0ZGY5NTc0MTQ5OTgwZDZhN2NmKTsKICAgICAgICAKICAgIAogICAgICAgIHZhciBwb3B1cF8zMmQyNGVjZWMxYTc0YzAyOWEyNmJlZTI3OWU0ZTE1YiA9IEwucG9wdXAoeyJtYXhXaWR0aCI6ICIxMDAlIn0pOwoKICAgICAgICAKICAgICAgICAgICAgdmFyIGh0bWxfOGM0Nzg1OTViMDk4NDM2ZDgzZjIxNDU2MzFiMTFmM2IgPSAkKGA8ZGl2IGlkPSJodG1sXzhjNDc4NTk1YjA5ODQzNmQ4M2YyMTQ1NjMxYjExZjNiIiBzdHlsZT0id2lkdGg6IDEwMC4wJTsgaGVpZ2h0OiAxMDAuMCU7Ij5DYXN0bGUgQ2x1c3RlciAzPC9kaXY+YClbMF07CiAgICAgICAgICAgIHBvcHVwXzMyZDI0ZWNlYzFhNzRjMDI5YTI2YmVlMjc5ZTRlMTViLnNldENvbnRlbnQoaHRtbF84YzQ3ODU5NWIwOTg0MzZkODNmMjE0NTYzMWIxMWYzYik7CiAgICAgICAgCgogICAgICAgIGNpcmNsZV9hNWRjMzNhNzUxMzM0YjllYTE0M2Q2MDUwYzEyMDcwYy5iaW5kUG9wdXAocG9wdXBfMzJkMjRlY2VjMWE3NGMwMjlhMjZiZWUyNzllNGUxNWIpCiAgICAgICAgOwoKICAgICAgICAKICAgIAogICAgCiAgICAgICAgICAgIGNpcmNsZV9hNWRjMzNhNzUxMzM0YjllYTE0M2Q2MDUwYzEyMDcwYy5iaW5kVG9vbHRpcCgKICAgICAgICAgICAgICAgIGA8ZGl2PgogICAgICAgICAgICAgICAgICAgICBOYW1lOiBDYXN0bGUsPGJyPkNsdXN0ZXI6IDMKICAgICAgICAgICAgICAgICA8L2Rpdj5gLAogICAgICAgICAgICAgICAgeyJzdGlja3kiOiB0cnVlfQogICAgICAgICAgICApOwogICAgICAgIAogICAgCiAgICAgICAgICAgIHZhciBjaXJjbGVfMTY0NjE3MGEwMzdhNGY2YThlOGI0YTliN2Y1MWVhMzAgPSBMLmNpcmNsZSgKICAgICAgICAgICAgICAgIFs1Mi4xODcyLCAwLjE3NjRdLAogICAgICAgICAgICAgICAgeyJidWJibGluZ01vdXNlRXZlbnRzIjogdHJ1ZSwgImNvbG9yIjogIiNmZjAwMDAiLCAiZGFzaEFycmF5IjogbnVsbCwgImRhc2hPZmZzZXQiOiBudWxsLCAiZmlsbCI6IHRydWUsICJmaWxsQ29sb3IiOiAiI2ZmMDAwMCIsICJmaWxsT3BhY2l0eSI6IDAuNywgImZpbGxSdWxlIjogImV2ZW5vZGQiLCAibGluZUNhcCI6ICJyb3VuZCIsICJsaW5lSm9pbiI6ICJyb3VuZCIsICJvcGFjaXR5IjogMS4wLCAicmFkaXVzIjogNzAwLCAic3Ryb2tlIjogdHJ1ZSwgIndlaWdodCI6IDN9CiAgICAgICAgICAgICkuYWRkVG8obWFwXzhiOGFjMjIxZjAxODQ0ZGY5NTc0MTQ5OTgwZDZhN2NmKTsKICAgICAgICAKICAgIAogICAgICAgIHZhciBwb3B1cF9jNGQxMmExNzg1Yzg0ZGM1ODE0OWJlYzhiMTJjMjYyNyA9IEwucG9wdXAoeyJtYXhXaWR0aCI6ICIxMDAlIn0pOwoKICAgICAgICAKICAgICAgICAgICAgdmFyIGh0bWxfYjNhMjY1MDczZTliNDRkNjgzNzMyZWQyNzNhNjUxNzYgPSAkKGA8ZGl2IGlkPSJodG1sX2IzYTI2NTA3M2U5YjQ0ZDY4MzczMmVkMjczYTY1MTc2IiBzdHlsZT0id2lkdGg6IDEwMC4wJTsgaGVpZ2h0OiAxMDAuMCU7Ij5DaGVycnkgSGludG9uIENsdXN0ZXIgMDwvZGl2PmApWzBdOwogICAgICAgICAgICBwb3B1cF9jNGQxMmExNzg1Yzg0ZGM1ODE0OWJlYzhiMTJjMjYyNy5zZXRDb250ZW50KGh0bWxfYjNhMjY1MDczZTliNDRkNjgzNzMyZWQyNzNhNjUxNzYpOwogICAgICAgIAoKICAgICAgICBjaXJjbGVfMTY0NjE3MGEwMzdhNGY2YThlOGI0YTliN2Y1MWVhMzAuYmluZFBvcHVwKHBvcHVwX2M0ZDEyYTE3ODVjODRkYzU4MTQ5YmVjOGIxMmMyNjI3KQogICAgICAgIDsKCiAgICAgICAgCiAgICAKICAgIAogICAgICAgICAgICBjaXJjbGVfMTY0NjE3MGEwMzdhNGY2YThlOGI0YTliN2Y1MWVhMzAuYmluZFRvb2x0aXAoCiAgICAgICAgICAgICAgICBgPGRpdj4KICAgICAgICAgICAgICAgICAgICAgTmFtZTogQ2hlcnJ5IEhpbnRvbiw8YnI+Q2x1c3RlcjogMAogICAgICAgICAgICAgICAgIDwvZGl2PmAsCiAgICAgICAgICAgICAgICB7InN0aWNreSI6IHRydWV9CiAgICAgICAgICAgICk7CiAgICAgICAgCiAgICAKICAgICAgICAgICAgdmFyIGNpcmNsZV9mZDA5Mzk4YmQxYmM0ODg3OWRjZTdjNTUyMDM2NjhlMCA9IEwuY2lyY2xlKAogICAgICAgICAgICAgICAgWzUyLjE4OTYwMzQ2MzU4MzgyLCAwLjE1MzQ0ODU5NTk1Mzc1NzIzXSwKICAgICAgICAgICAgICAgIHsiYnViYmxpbmdNb3VzZUV2ZW50cyI6IHRydWUsICJjb2xvciI6ICIjZmYwMDAwIiwgImRhc2hBcnJheSI6IG51bGwsICJkYXNoT2Zmc2V0IjogbnVsbCwgImZpbGwiOiB0cnVlLCAiZmlsbENvbG9yIjogIiNmZjAwMDAiLCAiZmlsbE9wYWNpdHkiOiAwLjcsICJmaWxsUnVsZSI6ICJldmVub2RkIiwgImxpbmVDYXAiOiAicm91bmQiLCAibGluZUpvaW4iOiAicm91bmQiLCAib3BhY2l0eSI6IDEuMCwgInJhZGl1cyI6IDcwMCwgInN0cm9rZSI6IHRydWUsICJ3ZWlnaHQiOiAzfQogICAgICAgICAgICApLmFkZFRvKG1hcF84YjhhYzIyMWYwMTg0NGRmOTU3NDE0OTk4MGQ2YTdjZik7CiAgICAgICAgCiAgICAKICAgICAgICB2YXIgcG9wdXBfN2UyODc4MGIyZGFiNDgwZjhmMzMwNzNjOGJjNjcyMTUgPSBMLnBvcHVwKHsibWF4V2lkdGgiOiAiMTAwJSJ9KTsKCiAgICAgICAgCiAgICAgICAgICAgIHZhciBodG1sXzg5YjgwYzE1YmJlYzQ4YWQ4NDdiNzI1ODk4MGZkNmQ1ID0gJChgPGRpdiBpZD0iaHRtbF84OWI4MGMxNWJiZWM0OGFkODQ3YjcyNTg5ODBmZDZkNSIgc3R5bGU9IndpZHRoOiAxMDAuMCU7IGhlaWdodDogMTAwLjAlOyI+Q29sZXJpZGdlIENsdXN0ZXIgMDwvZGl2PmApWzBdOwogICAgICAgICAgICBwb3B1cF83ZTI4NzgwYjJkYWI0ODBmOGYzMzA3M2M4YmM2NzIxNS5zZXRDb250ZW50KGh0bWxfODliODBjMTViYmVjNDhhZDg0N2I3MjU4OTgwZmQ2ZDUpOwogICAgICAgIAoKICAgICAgICBjaXJjbGVfZmQwOTM5OGJkMWJjNDg4NzlkY2U3YzU1MjAzNjY4ZTAuYmluZFBvcHVwKHBvcHVwXzdlMjg3ODBiMmRhYjQ4MGY4ZjMzMDczYzhiYzY3MjE1KQogICAgICAgIDsKCiAgICAgICAgCiAgICAKICAgIAogICAgICAgICAgICBjaXJjbGVfZmQwOTM5OGJkMWJjNDg4NzlkY2U3YzU1MjAzNjY4ZTAuYmluZFRvb2x0aXAoCiAgICAgICAgICAgICAgICBgPGRpdj4KICAgICAgICAgICAgICAgICAgICAgTmFtZTogQ29sZXJpZGdlLDxicj5DbHVzdGVyOiAwCiAgICAgICAgICAgICAgICAgPC9kaXY+YCwKICAgICAgICAgICAgICAgIHsic3RpY2t5IjogdHJ1ZX0KICAgICAgICAgICAgKTsKICAgICAgICAKICAgIAogICAgICAgICAgICB2YXIgY2lyY2xlX2MzOTZlMjRkMWIyOTQwYzA5MjQ1YmQzYWE4M2QyMjNjID0gTC5jaXJjbGUoCiAgICAgICAgICAgICAgICBbNTIuMjIyMDMyMDA4OTYwNTcsIDAuMTQ3MjY0MjIyNTgwNjQ1MTRdLAogICAgICAgICAgICAgICAgeyJidWJibGluZ01vdXNlRXZlbnRzIjogdHJ1ZSwgImNvbG9yIjogIiM0YzAwZmYiLCAiZGFzaEFycmF5IjogbnVsbCwgImRhc2hPZmZzZXQiOiBudWxsLCAiZmlsbCI6IHRydWUsICJmaWxsQ29sb3IiOiAiIzRjMDBmZiIsICJmaWxsT3BhY2l0eSI6IDAuNywgImZpbGxSdWxlIjogImV2ZW5vZGQiLCAibGluZUNhcCI6ICJyb3VuZCIsICJsaW5lSm9pbiI6ICJyb3VuZCIsICJvcGFjaXR5IjogMS4wLCAicmFkaXVzIjogNzAwLCAic3Ryb2tlIjogdHJ1ZSwgIndlaWdodCI6IDN9CiAgICAgICAgICAgICkuYWRkVG8obWFwXzhiOGFjMjIxZjAxODQ0ZGY5NTc0MTQ5OTgwZDZhN2NmKTsKICAgICAgICAKICAgIAogICAgICAgIHZhciBwb3B1cF8wNzgyNzcxMzY3ZDk0MzAwYWFkNTAwYTA1YWVhZjVhNCA9IEwucG9wdXAoeyJtYXhXaWR0aCI6ICIxMDAlIn0pOwoKICAgICAgICAKICAgICAgICAgICAgdmFyIGh0bWxfMzQzODA2NmI5MjkxNGJhOGE0MTk0YWNiYjA4MjU1MjQgPSAkKGA8ZGl2IGlkPSJodG1sXzM0MzgwNjZiOTI5MTRiYThhNDE5NGFjYmIwODI1NTI0IiBzdHlsZT0id2lkdGg6IDEwMC4wJTsgaGVpZ2h0OiAxMDAuMCU7Ij5FYXN0IENoZXN0ZXJ0b24gQ2x1c3RlciAyPC9kaXY+YClbMF07CiAgICAgICAgICAgIHBvcHVwXzA3ODI3NzEzNjdkOTQzMDBhYWQ1MDBhMDVhZWFmNWE0LnNldENvbnRlbnQoaHRtbF8zNDM4MDY2YjkyOTE0YmE4YTQxOTRhY2JiMDgyNTUyNCk7CiAgICAgICAgCgogICAgICAgIGNpcmNsZV9jMzk2ZTI0ZDFiMjk0MGMwOTI0NWJkM2FhODNkMjIzYy5iaW5kUG9wdXAocG9wdXBfMDc4Mjc3MTM2N2Q5NDMwMGFhZDUwMGEwNWFlYWY1YTQpCiAgICAgICAgOwoKICAgICAgICAKICAgIAogICAgCiAgICAgICAgICAgIGNpcmNsZV9jMzk2ZTI0ZDFiMjk0MGMwOTI0NWJkM2FhODNkMjIzYy5iaW5kVG9vbHRpcCgKICAgICAgICAgICAgICAgIGA8ZGl2PgogICAgICAgICAgICAgICAgICAgICBOYW1lOiBFYXN0IENoZXN0ZXJ0b24sPGJyPkNsdXN0ZXI6IDIKICAgICAgICAgICAgICAgICA8L2Rpdj5gLAogICAgICAgICAgICAgICAgeyJzdGlja3kiOiB0cnVlfQogICAgICAgICAgICApOwogICAgICAgIAogICAgCiAgICAgICAgICAgIHZhciBjaXJjbGVfZDg1NTc2MDM4ZjA4NGQ2NmE4M2U4ZjkzNmRiZDE5NWIgPSBMLmNpcmNsZSgKICAgICAgICAgICAgICAgIFs1Mi4yMjcxODUxNDcxMDc0MzQsIDAuMTM0OTkxNzU2MTk4MzQ3MV0sCiAgICAgICAgICAgICAgICB7ImJ1YmJsaW5nTW91c2VFdmVudHMiOiB0cnVlLCAiY29sb3IiOiAiI2ZmMDA4MCIsICJkYXNoQXJyYXkiOiBudWxsLCAiZGFzaE9mZnNldCI6IG51bGwsICJmaWxsIjogdHJ1ZSwgImZpbGxDb2xvciI6ICIjZmYwMDgwIiwgImZpbGxPcGFjaXR5IjogMC43LCAiZmlsbFJ1bGUiOiAiZXZlbm9kZCIsICJsaW5lQ2FwIjogInJvdW5kIiwgImxpbmVKb2luIjogInJvdW5kIiwgIm9wYWNpdHkiOiAxLjAsICJyYWRpdXMiOiA3MDAsICJzdHJva2UiOiB0cnVlLCAid2VpZ2h0IjogM30KICAgICAgICAgICAgKS5hZGRUbyhtYXBfOGI4YWMyMjFmMDE4NDRkZjk1NzQxNDk5ODBkNmE3Y2YpOwogICAgICAgIAogICAgCiAgICAgICAgdmFyIHBvcHVwX2IyOGJhYWJiM2YzMzQ1NTlhN2U1ZmY2OTM2N2M3OWU5ID0gTC5wb3B1cCh7Im1heFdpZHRoIjogIjEwMCUifSk7CgogICAgICAgIAogICAgICAgICAgICB2YXIgaHRtbF9hYjM4NzlkMjRlN2I0Zjg3OTIxNmM0MjM3YWMzMTFjMyA9ICQoYDxkaXYgaWQ9Imh0bWxfYWIzODc5ZDI0ZTdiNGY4NzkyMTZjNDIzN2FjMzExYzMiIHN0eWxlPSJ3aWR0aDogMTAwLjAlOyBoZWlnaHQ6IDEwMC4wJTsiPktpbmdzIEhlZGdlcyBDbHVzdGVyIDQ8L2Rpdj5gKVswXTsKICAgICAgICAgICAgcG9wdXBfYjI4YmFhYmIzZjMzNDU1OWE3ZTVmZjY5MzY3Yzc5ZTkuc2V0Q29udGVudChodG1sX2FiMzg3OWQyNGU3YjRmODc5MjE2YzQyMzdhYzMxMWMzKTsKICAgICAgICAKCiAgICAgICAgY2lyY2xlX2Q4NTU3NjAzOGYwODRkNjZhODNlOGY5MzZkYmQxOTViLmJpbmRQb3B1cChwb3B1cF9iMjhiYWFiYjNmMzM0NTU5YTdlNWZmNjkzNjdjNzllOSkKICAgICAgICA7CgogICAgICAgIAogICAgCiAgICAKICAgICAgICAgICAgY2lyY2xlX2Q4NTU3NjAzOGYwODRkNjZhODNlOGY5MzZkYmQxOTViLmJpbmRUb29sdGlwKAogICAgICAgICAgICAgICAgYDxkaXY+CiAgICAgICAgICAgICAgICAgICAgIE5hbWU6IEtpbmdzIEhlZGdlcyw8YnI+Q2x1c3RlcjogNAogICAgICAgICAgICAgICAgIDwvZGl2PmAsCiAgICAgICAgICAgICAgICB7InN0aWNreSI6IHRydWV9CiAgICAgICAgICAgICk7CiAgICAgICAgCiAgICAKICAgICAgICAgICAgdmFyIGNpcmNsZV80NDBkNWMwYmMyZjA0ZDM0YmJlYjFhMjZkNzJjNTJlYyA9IEwuY2lyY2xlKAogICAgICAgICAgICAgICAgWzUyLjIwNjM5MjQwODg4ODg5LCAwLjEyNDQ4MTg0MjIyMjIyMjIyXSwKICAgICAgICAgICAgICAgIHsiYnViYmxpbmdNb3VzZUV2ZW50cyI6IHRydWUsICJjb2xvciI6ICIjZWEwMGZmIiwgImRhc2hBcnJheSI6IG51bGwsICJkYXNoT2Zmc2V0IjogbnVsbCwgImZpbGwiOiB0cnVlLCAiZmlsbENvbG9yIjogIiNlYTAwZmYiLCAiZmlsbE9wYWNpdHkiOiAwLjcsICJmaWxsUnVsZSI6ICJldmVub2RkIiwgImxpbmVDYXAiOiAicm91bmQiLCAibGluZUpvaW4iOiAicm91bmQiLCAib3BhY2l0eSI6IDEuMCwgInJhZGl1cyI6IDcwMCwgInN0cm9rZSI6IHRydWUsICJ3ZWlnaHQiOiAzfQogICAgICAgICAgICApLmFkZFRvKG1hcF84YjhhYzIyMWYwMTg0NGRmOTU3NDE0OTk4MGQ2YTdjZik7CiAgICAgICAgCiAgICAKICAgICAgICB2YXIgcG9wdXBfYjk5NWI1ODM5MTczNDY4Mzg3NjVlNGZjNmIzMmEzMDQgPSBMLnBvcHVwKHsibWF4V2lkdGgiOiAiMTAwJSJ9KTsKCiAgICAgICAgCiAgICAgICAgICAgIHZhciBodG1sXzhhOTc5Y2JiYjI0MDRmNmViMWE2MTJlNGFmODc3YzA0ID0gJChgPGRpdiBpZD0iaHRtbF84YTk3OWNiYmIyNDA0ZjZlYjFhNjEyZTRhZjg3N2MwNCIgc3R5bGU9IndpZHRoOiAxMDAuMCU7IGhlaWdodDogMTAwLjAlOyI+TWFya2V0IENsdXN0ZXIgMzwvZGl2PmApWzBdOwogICAgICAgICAgICBwb3B1cF9iOTk1YjU4MzkxNzM0NjgzODc2NWU0ZmM2YjMyYTMwNC5zZXRDb250ZW50KGh0bWxfOGE5NzljYmJiMjQwNGY2ZWIxYTYxMmU0YWY4NzdjMDQpOwogICAgICAgIAoKICAgICAgICBjaXJjbGVfNDQwZDVjMGJjMmYwNGQzNGJiZWIxYTI2ZDcyYzUyZWMuYmluZFBvcHVwKHBvcHVwX2I5OTViNTgzOTE3MzQ2ODM4NzY1ZTRmYzZiMzJhMzA0KQogICAgICAgIDsKCiAgICAgICAgCiAgICAKICAgIAogICAgICAgICAgICBjaXJjbGVfNDQwZDVjMGJjMmYwNGQzNGJiZWIxYTI2ZDcyYzUyZWMuYmluZFRvb2x0aXAoCiAgICAgICAgICAgICAgICBgPGRpdj4KICAgICAgICAgICAgICAgICAgICAgTmFtZTogTWFya2V0LDxicj5DbHVzdGVyOiAzCiAgICAgICAgICAgICAgICAgPC9kaXY+YCwKICAgICAgICAgICAgICAgIHsic3RpY2t5IjogdHJ1ZX0KICAgICAgICAgICAgKTsKICAgICAgICAKICAgIAogICAgICAgICAgICB2YXIgY2lyY2xlXzljOTM2ZmZjMzEwMTQ5MGNiYmEwYzQ4OGQxZjZkODU3ID0gTC5jaXJjbGUoCiAgICAgICAgICAgICAgICBbNTIuMTk3LCAwLjEwNjhdLAogICAgICAgICAgICAgICAgeyJidWJibGluZ01vdXNlRXZlbnRzIjogdHJ1ZSwgImNvbG9yIjogIiNlYTAwZmYiLCAiZGFzaEFycmF5IjogbnVsbCwgImRhc2hPZmZzZXQiOiBudWxsLCAiZmlsbCI6IHRydWUsICJmaWxsQ29sb3IiOiAiI2VhMDBmZiIsICJmaWxsT3BhY2l0eSI6IDAuNywgImZpbGxSdWxlIjogImV2ZW5vZGQiLCAibGluZUNhcCI6ICJyb3VuZCIsICJsaW5lSm9pbiI6ICJyb3VuZCIsICJvcGFjaXR5IjogMS4wLCAicmFkaXVzIjogNzAwLCAic3Ryb2tlIjogdHJ1ZSwgIndlaWdodCI6IDN9CiAgICAgICAgICAgICkuYWRkVG8obWFwXzhiOGFjMjIxZjAxODQ0ZGY5NTc0MTQ5OTgwZDZhN2NmKTsKICAgICAgICAKICAgIAogICAgICAgIHZhciBwb3B1cF9kZTJiZDdmNjFiNGI0NWFhYmYwODVhZTRiNDM1YjU5MiA9IEwucG9wdXAoeyJtYXhXaWR0aCI6ICIxMDAlIn0pOwoKICAgICAgICAKICAgICAgICAgICAgdmFyIGh0bWxfM2VkNDY3NWY1YWYwNGFkZWIwZmY0Y2I5NGVjOWJjMDAgPSAkKGA8ZGl2IGlkPSJodG1sXzNlZDQ2NzVmNWFmMDRhZGViMGZmNGNiOTRlYzliYzAwIiBzdHlsZT0id2lkdGg6IDEwMC4wJTsgaGVpZ2h0OiAxMDAuMCU7Ij5OZXduaGFtIENsdXN0ZXIgMzwvZGl2PmApWzBdOwogICAgICAgICAgICBwb3B1cF9kZTJiZDdmNjFiNGI0NWFhYmYwODVhZTRiNDM1YjU5Mi5zZXRDb250ZW50KGh0bWxfM2VkNDY3NWY1YWYwNGFkZWIwZmY0Y2I5NGVjOWJjMDApOwogICAgICAgIAoKICAgICAgICBjaXJjbGVfOWM5MzZmZmMzMTAxNDkwY2JiYTBjNDg4ZDFmNmQ4NTcuYmluZFBvcHVwKHBvcHVwX2RlMmJkN2Y2MWI0YjQ1YWFiZjA4NWFlNGI0MzViNTkyKQogICAgICAgIDsKCiAgICAgICAgCiAgICAKICAgIAogICAgICAgICAgICBjaXJjbGVfOWM5MzZmZmMzMTAxNDkwY2JiYTBjNDg4ZDFmNmQ4NTcuYmluZFRvb2x0aXAoCiAgICAgICAgICAgICAgICBgPGRpdj4KICAgICAgICAgICAgICAgICAgICAgTmFtZTogTmV3bmhhbSw8YnI+Q2x1c3RlcjogMwogICAgICAgICAgICAgICAgIDwvZGl2PmAsCiAgICAgICAgICAgICAgICB7InN0aWNreSI6IHRydWV9CiAgICAgICAgICAgICk7CiAgICAgICAgCiAgICAKICAgICAgICAgICAgdmFyIGNpcmNsZV8wNGU2NGQ2OTQ1MTI0MzM4OWMwODZlNGJhNmEwODQ5NCA9IEwuY2lyY2xlKAogICAgICAgICAgICAgICAgWzUyLjIwMjY5ODIxNDExNzY1LCAwLjEzNjEzODE2ODIzNTI5NDEyXSwKICAgICAgICAgICAgICAgIHsiYnViYmxpbmdNb3VzZUV2ZW50cyI6IHRydWUsICJjb2xvciI6ICIjZWEwMGZmIiwgImRhc2hBcnJheSI6IG51bGwsICJkYXNoT2Zmc2V0IjogbnVsbCwgImZpbGwiOiB0cnVlLCAiZmlsbENvbG9yIjogIiNlYTAwZmYiLCAiZmlsbE9wYWNpdHkiOiAwLjcsICJmaWxsUnVsZSI6ICJldmVub2RkIiwgImxpbmVDYXAiOiAicm91bmQiLCAibGluZUpvaW4iOiAicm91bmQiLCAib3BhY2l0eSI6IDEuMCwgInJhZGl1cyI6IDcwMCwgInN0cm9rZSI6IHRydWUsICJ3ZWlnaHQiOiAzfQogICAgICAgICAgICApLmFkZFRvKG1hcF84YjhhYzIyMWYwMTg0NGRmOTU3NDE0OTk4MGQ2YTdjZik7CiAgICAgICAgCiAgICAKICAgICAgICB2YXIgcG9wdXBfOGE4YzM3ODA4NzAyNGIyYWI3NDI3NzdiMGNhMjkyNWMgPSBMLnBvcHVwKHsibWF4V2lkdGgiOiAiMTAwJSJ9KTsKCiAgICAgICAgCiAgICAgICAgICAgIHZhciBodG1sX2JhYWEyNjdjODgzZDQ5MWNhM2VjZTk5MjQxYzk4NGY0ID0gJChgPGRpdiBpZD0iaHRtbF9iYWFhMjY3Yzg4M2Q0OTFjYTNlY2U5OTI0MWM5ODRmNCIgc3R5bGU9IndpZHRoOiAxMDAuMCU7IGhlaWdodDogMTAwLjAlOyI+UGV0ZXJzZmllbGQgQ2x1c3RlciAzPC9kaXY+YClbMF07CiAgICAgICAgICAgIHBvcHVwXzhhOGMzNzgwODcwMjRiMmFiNzQyNzc3YjBjYTI5MjVjLnNldENvbnRlbnQoaHRtbF9iYWFhMjY3Yzg4M2Q0OTFjYTNlY2U5OTI0MWM5ODRmNCk7CiAgICAgICAgCgogICAgICAgIGNpcmNsZV8wNGU2NGQ2OTQ1MTI0MzM4OWMwODZlNGJhNmEwODQ5NC5iaW5kUG9wdXAocG9wdXBfOGE4YzM3ODA4NzAyNGIyYWI3NDI3NzdiMGNhMjkyNWMpCiAgICAgICAgOwoKICAgICAgICAKICAgIAogICAgCiAgICAgICAgICAgIGNpcmNsZV8wNGU2NGQ2OTQ1MTI0MzM4OWMwODZlNGJhNmEwODQ5NC5iaW5kVG9vbHRpcCgKICAgICAgICAgICAgICAgIGA8ZGl2PgogICAgICAgICAgICAgICAgICAgICBOYW1lOiBQZXRlcnNmaWVsZCw8YnI+Q2x1c3RlcjogMwogICAgICAgICAgICAgICAgIDwvZGl2PmAsCiAgICAgICAgICAgICAgICB7InN0aWNreSI6IHRydWV9CiAgICAgICAgICAgICk7CiAgICAgICAgCiAgICAKICAgICAgICAgICAgdmFyIGNpcmNsZV9lNDdkZDg2Yzg0Yzg0MzBjOTA5ZmJiOWZjMTliZmJlNiA9IEwuY2lyY2xlKAogICAgICAgICAgICAgICAgWzUyLjE4MDc4MDUyNDA3NDA4LCAwLjE1MTE5NTgzMDI0NjkxMzU4XSwKICAgICAgICAgICAgICAgIHsiYnViYmxpbmdNb3VzZUV2ZW50cyI6IHRydWUsICJjb2xvciI6ICIjMDBhYWZmIiwgImRhc2hBcnJheSI6IG51bGwsICJkYXNoT2Zmc2V0IjogbnVsbCwgImZpbGwiOiB0cnVlLCAiZmlsbENvbG9yIjogIiMwMGFhZmYiLCAiZmlsbE9wYWNpdHkiOiAwLjcsICJmaWxsUnVsZSI6ICJldmVub2RkIiwgImxpbmVDYXAiOiAicm91bmQiLCAibGluZUpvaW4iOiAicm91bmQiLCAib3BhY2l0eSI6IDEuMCwgInJhZGl1cyI6IDcwMCwgInN0cm9rZSI6IHRydWUsICJ3ZWlnaHQiOiAzfQogICAgICAgICAgICApLmFkZFRvKG1hcF84YjhhYzIyMWYwMTg0NGRmOTU3NDE0OTk4MGQ2YTdjZik7CiAgICAgICAgCiAgICAKICAgICAgICB2YXIgcG9wdXBfOThhNzg1ZGIyYzczNDM3MDhlMjgyYzFlOGM0MWI0YTUgPSBMLnBvcHVwKHsibWF4V2lkdGgiOiAiMTAwJSJ9KTsKCiAgICAgICAgCiAgICAgICAgICAgIHZhciBodG1sXzllNDgzODQwZGFiZjRhMDZhNTcwOGE4NTEwNzllYWJjID0gJChgPGRpdiBpZD0iaHRtbF85ZTQ4Mzg0MGRhYmY0YTA2YTU3MDhhODUxMDc5ZWFiYyIgc3R5bGU9IndpZHRoOiAxMDAuMCU7IGhlaWdodDogMTAwLjAlOyI+UXVlZW4gRWRpdGhzIENsdXN0ZXIgMTwvZGl2PmApWzBdOwogICAgICAgICAgICBwb3B1cF85OGE3ODVkYjJjNzM0MzcwOGUyODJjMWU4YzQxYjRhNS5zZXRDb250ZW50KGh0bWxfOWU0ODM4NDBkYWJmNGEwNmE1NzA4YTg1MTA3OWVhYmMpOwogICAgICAgIAoKICAgICAgICBjaXJjbGVfZTQ3ZGQ4NmM4NGM4NDMwYzkwOWZiYjlmYzE5YmZiZTYuYmluZFBvcHVwKHBvcHVwXzk4YTc4NWRiMmM3MzQzNzA4ZTI4MmMxZThjNDFiNGE1KQogICAgICAgIDsKCiAgICAgICAgCiAgICAKICAgIAogICAgICAgICAgICBjaXJjbGVfZTQ3ZGQ4NmM4NGM4NDMwYzkwOWZiYjlmYzE5YmZiZTYuYmluZFRvb2x0aXAoCiAgICAgICAgICAgICAgICBgPGRpdj4KICAgICAgICAgICAgICAgICAgICAgTmFtZTogUXVlZW4gRWRpdGhzLDxicj5DbHVzdGVyOiAxCiAgICAgICAgICAgICAgICAgPC9kaXY+YCwKICAgICAgICAgICAgICAgIHsic3RpY2t5IjogdHJ1ZX0KICAgICAgICAgICAgKTsKICAgICAgICAKICAgIAogICAgICAgICAgICB2YXIgY2lyY2xlX2YxYTdmYWMzMDkzMDQxNDY4NDE2ZTZmYmFmYWVlYzNhID0gTC5jaXJjbGUoCiAgICAgICAgICAgICAgICBbNTIuMTk3MiwgMC4xNDYzXSwKICAgICAgICAgICAgICAgIHsiYnViYmxpbmdNb3VzZUV2ZW50cyI6IHRydWUsICJjb2xvciI6ICIjZWEwMGZmIiwgImRhc2hBcnJheSI6IG51bGwsICJkYXNoT2Zmc2V0IjogbnVsbCwgImZpbGwiOiB0cnVlLCAiZmlsbENvbG9yIjogIiNlYTAwZmYiLCAiZmlsbE9wYWNpdHkiOiAwLjcsICJmaWxsUnVsZSI6ICJldmVub2RkIiwgImxpbmVDYXAiOiAicm91bmQiLCAibGluZUpvaW4iOiAicm91bmQiLCAib3BhY2l0eSI6IDEuMCwgInJhZGl1cyI6IDcwMCwgInN0cm9rZSI6IHRydWUsICJ3ZWlnaHQiOiAzfQogICAgICAgICAgICApLmFkZFRvKG1hcF84YjhhYzIyMWYwMTg0NGRmOTU3NDE0OTk4MGQ2YTdjZik7CiAgICAgICAgCiAgICAKICAgICAgICB2YXIgcG9wdXBfNjMwZGVjMDI2OTA1NDAzY2EyYzZjODZhYTBjNzg4MjggPSBMLnBvcHVwKHsibWF4V2lkdGgiOiAiMTAwJSJ9KTsKCiAgICAgICAgCiAgICAgICAgICAgIHZhciBodG1sXzU1ZGI1NTFmMDg0MjQ5ZDY5MTFmMWZlNTAwMDNjMjY4ID0gJChgPGRpdiBpZD0iaHRtbF81NWRiNTUxZjA4NDI0OWQ2OTExZjFmZTUwMDAzYzI2OCIgc3R5bGU9IndpZHRoOiAxMDAuMCU7IGhlaWdodDogMTAwLjAlOyI+Um9tc2V5IENsdXN0ZXIgMzwvZGl2PmApWzBdOwogICAgICAgICAgICBwb3B1cF82MzBkZWMwMjY5MDU0MDNjYTJjNmM4NmFhMGM3ODgyOC5zZXRDb250ZW50KGh0bWxfNTVkYjU1MWYwODQyNDlkNjkxMWYxZmU1MDAwM2MyNjgpOwogICAgICAgIAoKICAgICAgICBjaXJjbGVfZjFhN2ZhYzMwOTMwNDE0Njg0MTZlNmZiYWZhZWVjM2EuYmluZFBvcHVwKHBvcHVwXzYzMGRlYzAyNjkwNTQwM2NhMmM2Yzg2YWEwYzc4ODI4KQogICAgICAgIDsKCiAgICAgICAgCiAgICAKICAgIAogICAgICAgICAgICBjaXJjbGVfZjFhN2ZhYzMwOTMwNDE0Njg0MTZlNmZiYWZhZWVjM2EuYmluZFRvb2x0aXAoCiAgICAgICAgICAgICAgICBgPGRpdj4KICAgICAgICAgICAgICAgICAgICAgTmFtZTogUm9tc2V5LDxicj5DbHVzdGVyOiAzCiAgICAgICAgICAgICAgICAgPC9kaXY+YCwKICAgICAgICAgICAgICAgIHsic3RpY2t5IjogdHJ1ZX0KICAgICAgICAgICAgKTsKICAgICAgICAKICAgIAogICAgICAgICAgICB2YXIgY2lyY2xlXzJmZDQwYTIwYTVmOTRlZmZiZmMxNTFmMWM1YzA2MjlkID0gTC5jaXJjbGUoCiAgICAgICAgICAgICAgICBbNTIuMTczNCwgMC4xMTMxXSwKICAgICAgICAgICAgICAgIHsiYnViYmxpbmdNb3VzZUV2ZW50cyI6IHRydWUsICJjb2xvciI6ICIjZmYwMDgwIiwgImRhc2hBcnJheSI6IG51bGwsICJkYXNoT2Zmc2V0IjogbnVsbCwgImZpbGwiOiB0cnVlLCAiZmlsbENvbG9yIjogIiNmZjAwODAiLCAiZmlsbE9wYWNpdHkiOiAwLjcsICJmaWxsUnVsZSI6ICJldmVub2RkIiwgImxpbmVDYXAiOiAicm91bmQiLCAibGluZUpvaW4iOiAicm91bmQiLCAib3BhY2l0eSI6IDEuMCwgInJhZGl1cyI6IDcwMCwgInN0cm9rZSI6IHRydWUsICJ3ZWlnaHQiOiAzfQogICAgICAgICAgICApLmFkZFRvKG1hcF84YjhhYzIyMWYwMTg0NGRmOTU3NDE0OTk4MGQ2YTdjZik7CiAgICAgICAgCiAgICAKICAgICAgICB2YXIgcG9wdXBfMDE5NTgwMzg0ODkxNDc2OTgxZGE5MWI4Nzk3YjcwN2IgPSBMLnBvcHVwKHsibWF4V2lkdGgiOiAiMTAwJSJ9KTsKCiAgICAgICAgCiAgICAgICAgICAgIHZhciBodG1sXzgwMGMzZDMyNGY4NDRiY2NhYzZiZjFhMTBlOWNjNTM5ID0gJChgPGRpdiBpZD0iaHRtbF84MDBjM2QzMjRmODQ0YmNjYWM2YmYxYTEwZTljYzUzOSIgc3R5bGU9IndpZHRoOiAxMDAuMCU7IGhlaWdodDogMTAwLjAlOyI+VHJ1bXBpbmd0b24gQ2x1c3RlciA0PC9kaXY+YClbMF07CiAgICAgICAgICAgIHBvcHVwXzAxOTU4MDM4NDg5MTQ3Njk4MWRhOTFiODc5N2I3MDdiLnNldENvbnRlbnQoaHRtbF84MDBjM2QzMjRmODQ0YmNjYWM2YmYxYTEwZTljYzUzOSk7CiAgICAgICAgCgogICAgICAgIGNpcmNsZV8yZmQ0MGEyMGE1Zjk0ZWZmYmZjMTUxZjFjNWMwNjI5ZC5iaW5kUG9wdXAocG9wdXBfMDE5NTgwMzg0ODkxNDc2OTgxZGE5MWI4Nzk3YjcwN2IpCiAgICAgICAgOwoKICAgICAgICAKICAgIAogICAgCiAgICAgICAgICAgIGNpcmNsZV8yZmQ0MGEyMGE1Zjk0ZWZmYmZjMTUxZjFjNWMwNjI5ZC5iaW5kVG9vbHRpcCgKICAgICAgICAgICAgICAgIGA8ZGl2PgogICAgICAgICAgICAgICAgICAgICBOYW1lOiBUcnVtcGluZ3Rvbiw8YnI+Q2x1c3RlcjogNAogICAgICAgICAgICAgICAgIDwvZGl2PmAsCiAgICAgICAgICAgICAgICB7InN0aWNreSI6IHRydWV9CiAgICAgICAgICAgICk7CiAgICAgICAgCiAgICAKICAgICAgICAgICAgdmFyIGNpcmNsZV81MjBiZmEyM2ExNGY0NDkzYjdlMWMzMjlmM2U0OGFhMSA9IEwuY2lyY2xlKAogICAgICAgICAgICAgICAgWzUyLjIxNzQ4Njk2NjE3NjQ4LCAwLjEyOTMwNjkwNzM1Mjk0MTE3XSwKICAgICAgICAgICAgICAgIHsiYnViYmxpbmdNb3VzZUV2ZW50cyI6IHRydWUsICJjb2xvciI6ICIjZmYwMDAwIiwgImRhc2hBcnJheSI6IG51bGwsICJkYXNoT2Zmc2V0IjogbnVsbCwgImZpbGwiOiB0cnVlLCAiZmlsbENvbG9yIjogIiNmZjAwMDAiLCAiZmlsbE9wYWNpdHkiOiAwLjcsICJmaWxsUnVsZSI6ICJldmVub2RkIiwgImxpbmVDYXAiOiAicm91bmQiLCAibGluZUpvaW4iOiAicm91bmQiLCAib3BhY2l0eSI6IDEuMCwgInJhZGl1cyI6IDcwMCwgInN0cm9rZSI6IHRydWUsICJ3ZWlnaHQiOiAzfQogICAgICAgICAgICApLmFkZFRvKG1hcF84YjhhYzIyMWYwMTg0NGRmOTU3NDE0OTk4MGQ2YTdjZik7CiAgICAgICAgCiAgICAKICAgICAgICB2YXIgcG9wdXBfODdiYjZlMjc4MTQwNDEzZDgzZjI4ZDg0OTBlZjkwYzggPSBMLnBvcHVwKHsibWF4V2lkdGgiOiAiMTAwJSJ9KTsKCiAgICAgICAgCiAgICAgICAgICAgIHZhciBodG1sXzA3ZjFlNDU1MDA3ODQwNzVhOGQ4N2I1OTRmYmU5MWUwID0gJChgPGRpdiBpZD0iaHRtbF8wN2YxZTQ1NTAwNzg0MDc1YThkODdiNTk0ZmJlOTFlMCIgc3R5bGU9IndpZHRoOiAxMDAuMCU7IGhlaWdodDogMTAwLjAlOyI+V2VzdCBDaGVzdGVydG9uIENsdXN0ZXIgMDwvZGl2PmApWzBdOwogICAgICAgICAgICBwb3B1cF84N2JiNmUyNzgxNDA0MTNkODNmMjhkODQ5MGVmOTBjOC5zZXRDb250ZW50KGh0bWxfMDdmMWU0NTUwMDc4NDA3NWE4ZDg3YjU5NGZiZTkxZTApOwogICAgICAgIAoKICAgICAgICBjaXJjbGVfNTIwYmZhMjNhMTRmNDQ5M2I3ZTFjMzI5ZjNlNDhhYTEuYmluZFBvcHVwKHBvcHVwXzg3YmI2ZTI3ODE0MDQxM2Q4M2YyOGQ4NDkwZWY5MGM4KQogICAgICAgIDsKCiAgICAgICAgCiAgICAKICAgIAogICAgICAgICAgICBjaXJjbGVfNTIwYmZhMjNhMTRmNDQ5M2I3ZTFjMzI5ZjNlNDhhYTEuYmluZFRvb2x0aXAoCiAgICAgICAgICAgICAgICBgPGRpdj4KICAgICAgICAgICAgICAgICAgICAgTmFtZTogV2VzdCBDaGVzdGVydG9uLDxicj5DbHVzdGVyOiAwCiAgICAgICAgICAgICAgICAgPC9kaXY+YCwKICAgICAgICAgICAgICAgIHsic3RpY2t5IjogdHJ1ZX0KICAgICAgICAgICAgKTsKICAgICAgICAKPC9zY3JpcHQ+ onload=\"this.contentDocument.open();this.contentDocument.write(atob(this.getAttribute('data-html')));this.contentDocument.close();\" allowfullscreen webkitallowfullscreen mozallowfullscreen></iframe></div></div>"
      ],
      "text/plain": [
       "<folium.folium.Map at 0x1fcbea42b00>"
      ]
     },
     "metadata": {},
     "output_type": "display_data"
    }
   ],
   "source": [
    "# create map\n",
    "map_clusters = folium.Map(location=[city_latitude, city_longitude], zoom_start=12)\n",
    "\n",
    "# set color scheme for the clusters\n",
    "rainbow = ['#00aaff','#4c00ff','#ea00ff','#ff0080','#ff0000']\n",
    "\n",
    "# add markers to the map\n",
    "markers_colors = []\n",
    "for lat, lon, poi, cluster in zip(df_district['Latitude'], df_district['Longitude'], df_district['District'], df_district['Cluster Labels']):\n",
    "    label = folium.Popup(str(poi) + ' Cluster ' + str(cluster), parse_html=True)\n",
    "    tooltip = 'Name: {},<br>Cluster: {}'.format(str(poi),str(cluster))\n",
    "    folium.Circle(\n",
    "        [lat, lon],\n",
    "        radius=700,\n",
    "        popup=label,\n",
    "        tooltip=tooltip,\n",
    "        color=rainbow[cluster-1],\n",
    "        fill=True,\n",
    "        fill_color=rainbow[cluster-1],\n",
    "        fill_opacity=0.7).add_to(map_clusters)\n",
    "       \n",
    "display(map_clusters)"
   ]
  },
  {
   "cell_type": "markdown",
   "metadata": {},
   "source": [
    "#### Cluster Anaylsis\n",
    "\n",
    "We suggested earlier that the restaurant would be suited in an area similar to **Petersfield** or **Romsey**. Looking at the clusters the following clusters would suit the new restaurant.\n",
    "* Market\n",
    "* Castle\n",
    "* Newnham\n",
    "    \n",
    "These areas have similar restaurants and entertainment venues.\n",
    "\n",
    "In the anaylsis section we will find suitable locations within these districts, using locality to entertainment venues."
   ]
  },
  {
   "cell_type": "markdown",
   "metadata": {},
   "source": [
    "### Correlation between Restaurants and Entertainment venues?\n",
    "\n",
    "* Create a groupby dataframe for restaurants and another for entertainment.\n",
    "* Display a horizontal barchart showing both values for each district."
   ]
  },
  {
   "cell_type": "code",
   "execution_count": 43,
   "metadata": {},
   "outputs": [],
   "source": [
    "df_ent_group = district_entertain_update.groupby('District').count()\n",
    "df_ent_group.reset_index(inplace=True)\n",
    "df_rest_group = district_venues_update.groupby('District').count()\n",
    "df_rest_group.reset_index(inplace=True)"
   ]
  },
  {
   "cell_type": "code",
   "execution_count": 44,
   "metadata": {},
   "outputs": [
    {
     "data": {
      "image/png": "[encoded data removed]",
      "text/plain": [
       "<Figure size 1440x1440 with 1 Axes>"
      ]
     },
     "metadata": {},
     "output_type": "display_data"
    }
   ],
   "source": [
    "rest = np.array(df_rest_group['Venue'])\n",
    "ent = np.array(df_ent_group['Venue'])\n",
    "index = df_rest_group['District']\n",
    "\n",
    "# Create horizontal barchart\n",
    "df = pd.DataFrame({'Restaurant': rest,'Entertainment': ent}, index=index)\n",
    "ax = df.plot.barh(figsize=(20,20))\n",
    "ax.legend(loc=1, prop={'size': 20})\n",
    "ax.tick_params(axis='both', which='major', labelsize=20)"
   ]
  },
  {
   "cell_type": "markdown",
   "metadata": {},
   "source": [
    "There is a clear correlation between entertainment venues and restaurants."
   ]
  },
  {
   "cell_type": "markdown",
   "metadata": {},
   "source": [
    "#### Create a scatter plot to show the correlation and Linear Regression"
   ]
  },
  {
   "cell_type": "code",
   "execution_count": 45,
   "metadata": {},
   "outputs": [
    {
     "data": {
      "text/plain": [
       "<seaborn.axisgrid.FacetGrid at 0x1fcbea78978>"
      ]
     },
     "execution_count": 45,
     "metadata": {},
     "output_type": "execute_result"
    },
    {
     "data": {
      "image/png": "[encoded data removed]",
      "text/plain": [
       "<Figure size 360x360 with 1 Axes>"
      ]
     },
     "metadata": {},
     "output_type": "display_data"
    }
   ],
   "source": [
    "df_scatter = pd.merge(left=df_rest_group, right=df_ent_group, left_on='District', right_on='District')\n",
    "df_scatter.drop(columns=['Venue Latitude_x','Venue Longitude_x','Venue Category_x','Venue Latitude_y','Venue Longitude_y','Venue Category_y'], inplace=True)\n",
    "df_scatter.columns = ['District','Restaurant','Entertainment']\n",
    "\n",
    "sns.lmplot(x=\"Restaurant\", y=\"Entertainment\", data=df_scatter)"
   ]
  },
  {
   "cell_type": "markdown",
   "metadata": {},
   "source": [
    "### Cluster DBSCAN Scatter Plot - Using Latitude & Longitude"
   ]
  },
  {
   "cell_type": "markdown",
   "metadata": {},
   "source": [
    "Firstly we will use a scatter plot to find the density of entertainment venues according to Latitude and Longitude.\n",
    "This will help us to find the areas with the most venues. To display the clusters we will use the DBSCAN method.\n",
    "\n",
    "Using a scatter plot we will show the density clusters of districts that are simiar to other districts with Latin American restaurants. We got this information from the K-Means clustering used to assign Districts into similar clusters using the restaurants and entertainment venues.\n",
    "* Market\n",
    "* Castle\n",
    "* Newnham"
   ]
  },
  {
   "cell_type": "markdown",
   "metadata": {},
   "source": [
    "##### FUNCTION - Create Scatter Plot Cluster"
   ]
  },
  {
   "cell_type": "code",
   "execution_count": 46,
   "metadata": {},
   "outputs": [],
   "source": [
    "def create_scatter_cluster(x,y,title,x_label,y_label,cl,cm):\n",
    "    plt.figure(figsize=(8, 8))\n",
    "    plt.scatter(x, y, c=cl, cmap=cm)\n",
    "    plt.title(title)\n",
    "    plt.xlabel(x_label)\n",
    "    plt.ylabel(y_label)\n",
    "    plt.grid(True, linewidth=0.5, alpha=0.5)\n",
    "    plt.show()"
   ]
  },
  {
   "cell_type": "markdown",
   "metadata": {},
   "source": [
    "#### DBSCAN Plot - Market District"
   ]
  },
  {
   "cell_type": "code",
   "execution_count": 47,
   "metadata": {},
   "outputs": [],
   "source": [
    "from sklearn.cluster import DBSCAN\n",
    "from sklearn.preprocessing import StandardScaler"
   ]
  },
  {
   "cell_type": "code",
   "execution_count": 48,
   "metadata": {
    "scrolled": false
   },
   "outputs": [],
   "source": [
    "# get the Latitude and Longitude\n",
    "df_market = district_entertain_update[district_entertain_update['District'] == 'Market']\n",
    "\n",
    "# Create arrays for Latitude and Longitude for Market\n",
    "mkt_y = np.array(df_market['Venue Latitude'])\n",
    "mkt_x = np.array(df_market['Venue Longitude'])\n",
    "\n",
    "# Combine both arrays into one stacked array.\n",
    "mkt_X = np.stack((mkt_x,mkt_y), axis=1)"
   ]
  },
  {
   "cell_type": "code",
   "execution_count": 49,
   "metadata": {},
   "outputs": [
    {
     "data": {
      "image/png": "[encoded data removed]",
      "text/plain": [
       "<Figure size 576x576 with 1 Axes>"
      ]
     },
     "metadata": {},
     "output_type": "display_data"
    }
   ],
   "source": [
    "# Normalise the co-ordinates\n",
    "mkt_scaler = StandardScaler()\n",
    "mkt_X_scaled = mkt_scaler.fit_transform(mkt_X)\n",
    "\n",
    "# Cluster using DBSCAN\n",
    "mkt_clustering = DBSCAN(eps=0.7, min_samples=3)\n",
    "mkt_clusters = mkt_clustering.fit_predict(mkt_X_scaled)\n",
    "\n",
    "# Show plot of Market and DBSCAN\n",
    "create_scatter_cluster(mkt_X[:,0],mkt_X[:,1],'DBSCAN - Market','Longitude','Latitude',mkt_clusters,'Wistia')"
   ]
  },
  {
   "cell_type": "code",
   "execution_count": 50,
   "metadata": {},
   "outputs": [
    {
     "name": "stderr",
     "output_type": "stream",
     "text": [
      "C:\\Program Files (x86)\\Microsoft Visual Studio\\Shared\\Anaconda3_64\\lib\\site-packages\\ipykernel_launcher.py:2: SettingWithCopyWarning: \n",
      "A value is trying to be set on a copy of a slice from a DataFrame.\n",
      "Try using .loc[row_indexer,col_indexer] = value instead\n",
      "\n",
      "See the caveats in the documentation: http://pandas.pydata.org/pandas-docs/stable/indexing.html#indexing-view-versus-copy\n",
      "  \n"
     ]
    },
    {
     "data": {
      "text/html": [
       "<div>\n",
       "<style scoped>\n",
       "    .dataframe tbody tr th:only-of-type {\n",
       "        vertical-align: middle;\n",
       "    }\n",
       "\n",
       "    .dataframe tbody tr th {\n",
       "        vertical-align: top;\n",
       "    }\n",
       "\n",
       "    .dataframe thead th {\n",
       "        text-align: right;\n",
       "    }\n",
       "</style>\n",
       "<table border=\"1\" class=\"dataframe\">\n",
       "  <thead>\n",
       "    <tr style=\"text-align: right;\">\n",
       "      <th></th>\n",
       "      <th>District</th>\n",
       "      <th>Venue</th>\n",
       "      <th>Venue Latitude</th>\n",
       "      <th>Venue Longitude</th>\n",
       "      <th>Venue Category</th>\n",
       "    </tr>\n",
       "    <tr>\n",
       "      <th>Scatter</th>\n",
       "      <th></th>\n",
       "      <th></th>\n",
       "      <th></th>\n",
       "      <th></th>\n",
       "      <th></th>\n",
       "    </tr>\n",
       "  </thead>\n",
       "  <tbody>\n",
       "    <tr>\n",
       "      <th>-1</th>\n",
       "      <td>2</td>\n",
       "      <td>2</td>\n",
       "      <td>2</td>\n",
       "      <td>2</td>\n",
       "      <td>2</td>\n",
       "    </tr>\n",
       "    <tr>\n",
       "      <th>0</th>\n",
       "      <td>28</td>\n",
       "      <td>28</td>\n",
       "      <td>28</td>\n",
       "      <td>28</td>\n",
       "      <td>28</td>\n",
       "    </tr>\n",
       "    <tr>\n",
       "      <th>1</th>\n",
       "      <td>12</td>\n",
       "      <td>12</td>\n",
       "      <td>12</td>\n",
       "      <td>12</td>\n",
       "      <td>12</td>\n",
       "    </tr>\n",
       "    <tr>\n",
       "      <th>2</th>\n",
       "      <td>4</td>\n",
       "      <td>4</td>\n",
       "      <td>4</td>\n",
       "      <td>4</td>\n",
       "      <td>4</td>\n",
       "    </tr>\n",
       "  </tbody>\n",
       "</table>\n",
       "</div>"
      ],
      "text/plain": [
       "         District  Venue  Venue Latitude  Venue Longitude  Venue Category\n",
       "Scatter                                                                  \n",
       "-1              2      2               2                2               2\n",
       " 0             28     28              28               28              28\n",
       " 1             12     12              12               12              12\n",
       " 2              4      4               4                4               4"
      ]
     },
     "execution_count": 50,
     "metadata": {},
     "output_type": "execute_result"
    }
   ],
   "source": [
    "try:\n",
    "    df_market['Scatter'] = mkt_clusters\n",
    "except:\n",
    "    df_market.drop(['Scatter'],inplace=True)\n",
    "    df_market['Scatter'] = mkt_clusters\n",
    "\n",
    "df_market.groupby('Scatter').count()"
   ]
  },
  {
   "cell_type": "markdown",
   "metadata": {},
   "source": [
    "We can see from the scatter plot above that the most populous area in **Market** is **Scatter 0**.<br>\n",
    "For this DBSCAN we had to reduce the eps value from 1 (as used on other DBSCAN's below), this was due to difference in proximity of locations in **Market**.<br>\n",
    "In the next section we will use locations from **Scatter 0** to locate the perfect latitude and longitude for a restaurant in this area."
   ]
  },
  {
   "cell_type": "markdown",
   "metadata": {},
   "source": [
    "#### DBCAN Plot - Castle"
   ]
  },
  {
   "cell_type": "code",
   "execution_count": 51,
   "metadata": {},
   "outputs": [],
   "source": [
    "# get the Latitude and Longitude\n",
    "df_castle = district_entertain_update[district_entertain_update['District'] == 'Castle']\n",
    "\n",
    "# Create arrays for Latitude and Longitude for Castle\n",
    "cst_y = np.array(df_castle['Venue Latitude'])\n",
    "cst_x = np.array(df_castle['Venue Longitude'])\n",
    "\n",
    "# Combine both arrays into one stacked array.\n",
    "cst_X = np.stack((cst_x,cst_y), axis=1)"
   ]
  },
  {
   "cell_type": "code",
   "execution_count": 52,
   "metadata": {
    "scrolled": false
   },
   "outputs": [
    {
     "data": {
      "image/png": "[encoded data removed]",
      "text/plain": [
       "<Figure size 576x576 with 1 Axes>"
      ]
     },
     "metadata": {},
     "output_type": "display_data"
    }
   ],
   "source": [
    "# Normalise the co-ordinates\n",
    "cst_scaler = StandardScaler()\n",
    "cst_X_scaled = cst_scaler.fit_transform(cst_X)\n",
    "\n",
    "# Cluster using DBSCAN\n",
    "cst_clustering = DBSCAN(eps=1, min_samples=3)\n",
    "cst_clusters = cst_clustering.fit_predict(cst_X_scaled)\n",
    "\n",
    "# Show plot of Market and DBSCAN\n",
    "create_scatter_cluster(cst_X[:,0],cst_X[:,1],'DBSCAN - Castle','Longitude','Latitude',cst_clusters,'Wistia')"
   ]
  },
  {
   "cell_type": "code",
   "execution_count": 53,
   "metadata": {},
   "outputs": [
    {
     "name": "stderr",
     "output_type": "stream",
     "text": [
      "C:\\Program Files (x86)\\Microsoft Visual Studio\\Shared\\Anaconda3_64\\lib\\site-packages\\ipykernel_launcher.py:2: SettingWithCopyWarning: \n",
      "A value is trying to be set on a copy of a slice from a DataFrame.\n",
      "Try using .loc[row_indexer,col_indexer] = value instead\n",
      "\n",
      "See the caveats in the documentation: http://pandas.pydata.org/pandas-docs/stable/indexing.html#indexing-view-versus-copy\n",
      "  \n"
     ]
    },
    {
     "data": {
      "text/html": [
       "<div>\n",
       "<style scoped>\n",
       "    .dataframe tbody tr th:only-of-type {\n",
       "        vertical-align: middle;\n",
       "    }\n",
       "\n",
       "    .dataframe tbody tr th {\n",
       "        vertical-align: top;\n",
       "    }\n",
       "\n",
       "    .dataframe thead th {\n",
       "        text-align: right;\n",
       "    }\n",
       "</style>\n",
       "<table border=\"1\" class=\"dataframe\">\n",
       "  <thead>\n",
       "    <tr style=\"text-align: right;\">\n",
       "      <th></th>\n",
       "      <th>District</th>\n",
       "      <th>Venue</th>\n",
       "      <th>Venue Latitude</th>\n",
       "      <th>Venue Longitude</th>\n",
       "      <th>Venue Category</th>\n",
       "    </tr>\n",
       "    <tr>\n",
       "      <th>Scatter</th>\n",
       "      <th></th>\n",
       "      <th></th>\n",
       "      <th></th>\n",
       "      <th></th>\n",
       "      <th></th>\n",
       "    </tr>\n",
       "  </thead>\n",
       "  <tbody>\n",
       "    <tr>\n",
       "      <th>-1</th>\n",
       "      <td>2</td>\n",
       "      <td>2</td>\n",
       "      <td>2</td>\n",
       "      <td>2</td>\n",
       "      <td>2</td>\n",
       "    </tr>\n",
       "    <tr>\n",
       "      <th>0</th>\n",
       "      <td>4</td>\n",
       "      <td>4</td>\n",
       "      <td>4</td>\n",
       "      <td>4</td>\n",
       "      <td>4</td>\n",
       "    </tr>\n",
       "    <tr>\n",
       "      <th>1</th>\n",
       "      <td>9</td>\n",
       "      <td>9</td>\n",
       "      <td>9</td>\n",
       "      <td>9</td>\n",
       "      <td>9</td>\n",
       "    </tr>\n",
       "  </tbody>\n",
       "</table>\n",
       "</div>"
      ],
      "text/plain": [
       "         District  Venue  Venue Latitude  Venue Longitude  Venue Category\n",
       "Scatter                                                                  \n",
       "-1              2      2               2                2               2\n",
       " 0              4      4               4                4               4\n",
       " 1              9      9               9                9               9"
      ]
     },
     "execution_count": 53,
     "metadata": {},
     "output_type": "execute_result"
    }
   ],
   "source": [
    "try:\n",
    "    df_castle['Scatter'] = cst_clusters\n",
    "except:\n",
    "    df_castle.drop(['Scatter'],inplace=True)\n",
    "    df_castle['Scatter'] = cst_clusters\n",
    "\n",
    "df_castle.groupby('Scatter').count()"
   ]
  },
  {
   "cell_type": "markdown",
   "metadata": {},
   "source": [
    "We can see from the scatter plot above that the most populous area in **Castle** is **Scatter 1**. In the next section we will use locations from **Scatter 1** to locate the perfect latitude and longitude for a restaurant in this area."
   ]
  },
  {
   "cell_type": "markdown",
   "metadata": {},
   "source": [
    "#### Scatter Plot - Newnham"
   ]
  },
  {
   "cell_type": "code",
   "execution_count": 54,
   "metadata": {},
   "outputs": [],
   "source": [
    "# get the Latitude and Longitude\n",
    "df_newnham = district_entertain_update[district_entertain_update['District'] == 'Newnham']\n",
    "\n",
    "# Create arrays for Latitude and Longitude for Newnham\n",
    "new_y = np.array(df_newnham['Venue Latitude'])\n",
    "new_x = np.array(df_newnham['Venue Longitude'])\n",
    "\n",
    "# Combine both arrays into one stacked array.\n",
    "new_X = np.stack((new_x,new_y), axis=1)"
   ]
  },
  {
   "cell_type": "code",
   "execution_count": 55,
   "metadata": {
    "scrolled": false
   },
   "outputs": [
    {
     "data": {
      "image/png": "[encoded data removed]",
      "text/plain": [
       "<Figure size 576x576 with 1 Axes>"
      ]
     },
     "metadata": {},
     "output_type": "display_data"
    }
   ],
   "source": [
    "# Normalise the co-ordinates\n",
    "new_scaler = StandardScaler()\n",
    "new_X_scaled = new_scaler.fit_transform(new_X)\n",
    "\n",
    "# Cluster using DBSCAN\n",
    "new_clustering = DBSCAN(eps=1, min_samples=3)\n",
    "new_clusters = new_clustering.fit_predict(new_X_scaled)\n",
    "\n",
    "# Show plot of Market and DBSCAN\n",
    "create_scatter_cluster(new_X[:,0],new_X[:,1],'DBSCAN - Castle','Longitude','Latitude',new_clusters,'Wistia')"
   ]
  },
  {
   "cell_type": "code",
   "execution_count": 56,
   "metadata": {
    "scrolled": true
   },
   "outputs": [
    {
     "name": "stderr",
     "output_type": "stream",
     "text": [
      "C:\\Program Files (x86)\\Microsoft Visual Studio\\Shared\\Anaconda3_64\\lib\\site-packages\\ipykernel_launcher.py:2: SettingWithCopyWarning: \n",
      "A value is trying to be set on a copy of a slice from a DataFrame.\n",
      "Try using .loc[row_indexer,col_indexer] = value instead\n",
      "\n",
      "See the caveats in the documentation: http://pandas.pydata.org/pandas-docs/stable/indexing.html#indexing-view-versus-copy\n",
      "  \n"
     ]
    },
    {
     "data": {
      "text/html": [
       "<div>\n",
       "<style scoped>\n",
       "    .dataframe tbody tr th:only-of-type {\n",
       "        vertical-align: middle;\n",
       "    }\n",
       "\n",
       "    .dataframe tbody tr th {\n",
       "        vertical-align: top;\n",
       "    }\n",
       "\n",
       "    .dataframe thead th {\n",
       "        text-align: right;\n",
       "    }\n",
       "</style>\n",
       "<table border=\"1\" class=\"dataframe\">\n",
       "  <thead>\n",
       "    <tr style=\"text-align: right;\">\n",
       "      <th></th>\n",
       "      <th>District</th>\n",
       "      <th>Venue</th>\n",
       "      <th>Venue Latitude</th>\n",
       "      <th>Venue Longitude</th>\n",
       "      <th>Venue Category</th>\n",
       "    </tr>\n",
       "    <tr>\n",
       "      <th>Scatter</th>\n",
       "      <th></th>\n",
       "      <th></th>\n",
       "      <th></th>\n",
       "      <th></th>\n",
       "      <th></th>\n",
       "    </tr>\n",
       "  </thead>\n",
       "  <tbody>\n",
       "    <tr>\n",
       "      <th>-1</th>\n",
       "      <td>3</td>\n",
       "      <td>3</td>\n",
       "      <td>3</td>\n",
       "      <td>3</td>\n",
       "      <td>3</td>\n",
       "    </tr>\n",
       "    <tr>\n",
       "      <th>0</th>\n",
       "      <td>4</td>\n",
       "      <td>4</td>\n",
       "      <td>4</td>\n",
       "      <td>4</td>\n",
       "      <td>4</td>\n",
       "    </tr>\n",
       "  </tbody>\n",
       "</table>\n",
       "</div>"
      ],
      "text/plain": [
       "         District  Venue  Venue Latitude  Venue Longitude  Venue Category\n",
       "Scatter                                                                  \n",
       "-1              3      3               3                3               3\n",
       " 0              4      4               4                4               4"
      ]
     },
     "execution_count": 56,
     "metadata": {},
     "output_type": "execute_result"
    }
   ],
   "source": [
    "try:\n",
    "    df_newnham['Scatter'] = new_clusters\n",
    "except:\n",
    "    df_newnham.drop(['Scatter'],inplace=True)\n",
    "    df_newnham['Scatter'] = new_clusters\n",
    "\n",
    "df_newnham.groupby('Scatter').count()"
   ]
  },
  {
   "cell_type": "markdown",
   "metadata": {},
   "source": [
    "We can see from the scatter plot above that the most populous area in **Newnham** is **Scatter 0**. In the next section we will use locations from **Scatter 0** to locate the perfect latitude and longitude for a restaurant in this area."
   ]
  },
  {
   "cell_type": "markdown",
   "metadata": {},
   "source": [
    "### Get Suitable Locations\n"
   ]
  },
  {
   "cell_type": "markdown",
   "metadata": {},
   "source": [
    "From the **K-Means Clustering** of districts, we selected the following locations for further anaylsis:\n",
    "* Market\n",
    "* Castle\n",
    "* Newnham\n",
    "\n",
    "<p>Then we found the densest cluster of entertainment venues within these districts.\n",
    "Now, using these clusters we aim to find a suitable location within each of these 3 districts to place the new restaurant.</p>"
   ]
  },
  {
   "cell_type": "markdown",
   "metadata": {},
   "source": [
    "##### FUNCTION - Calculate Distance from Lat, Lng in Metres"
   ]
  },
  {
   "cell_type": "code",
   "execution_count": 117,
   "metadata": {},
   "outputs": [],
   "source": [
    "# Imports from Math Library\n",
    "from math import sin, cos, sqrt, atan2, radians, degrees, asin\n",
    "# Import from geopy\n",
    "import geopy\n",
    "from geopy.distance import geodesic"
   ]
  },
  {
   "cell_type": "code",
   "execution_count": 87,
   "metadata": {},
   "outputs": [],
   "source": [
    "def calculate_latlng_dist(lat1,lng1,lat2,lng2):\n",
    "    \n",
    "    # approximate radius of earth in km\n",
    "    R = 6373.0\n",
    "\n",
    "    lat1 = radians(lat1)\n",
    "    lng1 = radians(lng1)\n",
    "    lat2 = radians(lat2)\n",
    "    lng2 = radians(lng2)\n",
    "    \n",
    "    dlng = lng2 - lng1\n",
    "    dlat = lat2 - lat1\n",
    "    \n",
    "    a = sin(dlat / 2)**2 + cos(lat1) * cos(lat2) * sin(dlng / 2)**2\n",
    "    c = 2 * atan2(sqrt(a), sqrt(1 - a))\n",
    "    \n",
    "    distance = R * c\n",
    "    return distance"
   ]
  },
  {
   "cell_type": "markdown",
   "metadata": {},
   "source": [
    "##### FUNCTION - Calculate the angle between two Lat, Lng points"
   ]
  },
  {
   "cell_type": "code",
   "execution_count": 134,
   "metadata": {},
   "outputs": [],
   "source": [
    "def angleFromCoordinate(lat1,lng1,lat2,lng2):\n",
    "\n",
    "    dlng = (lng2 - lng1)\n",
    "\n",
    "    x = cos(lat2) * sin(dlng)\n",
    "    y = cos(lat1) * sin(lat2) - sin(lat1) * cos(lat2) * cos(dlng)\n",
    "\n",
    "    brng = atan2(x,y);\n",
    "\n",
    "    brng = degrees(brng)\n",
    "    brng = (brng + 360) % 360\n",
    "    brng = 360 - brng\n",
    "\n",
    "    return brng"
   ]
  },
  {
   "cell_type": "markdown",
   "metadata": {},
   "source": [
    "#### FUNCTION - Calculate distance from Lat, Lng point using bearing and distance"
   ]
  },
  {
   "cell_type": "code",
   "execution_count": 113,
   "metadata": {},
   "outputs": [],
   "source": [
    "def distanceUsingBearing(b,d,lat1,lon1):\n",
    "    origin = geopy.Point(lat1, lon1)\n",
    "    destination = geodesic(kilometers=d).destination(origin, b)\n",
    "\n",
    "    return destination.latitude, destination.longitude"
   ]
  },
  {
   "cell_type": "markdown",
   "metadata": {},
   "source": [
    "##### FUNCTION - Create Final Map with markers"
   ]
  },
  {
   "cell_type": "code",
   "execution_count": 59,
   "metadata": {},
   "outputs": [],
   "source": [
    "def CreateFinalMap(m,f_lat,f_lng,df):\n",
    "\n",
    "    addLatin_toMap(m)\n",
    "    \n",
    "    for lat, lng, label, in zip(df['Venue Latitude'], df['Venue Longitude'], df['Venue']):\n",
    "        location = np.array([lat,lng])\n",
    "        # Add Marker\n",
    "        folium.CircleMarker(\n",
    "            [lat, lng],\n",
    "            radius=5, # define how big you want the circle markers to be\n",
    "            color='blue',\n",
    "            fill=True,\n",
    "            fill_color='lightblue',\n",
    "            fill_opacity=0.6\n",
    "        ).add_to(m)\n",
    "        \n",
    "        folium.Marker([f_lat,f_lng], tooltip='Ideal Location').add_to(m)"
   ]
  },
  {
   "cell_type": "markdown",
   "metadata": {},
   "source": [
    "##### Market "
   ]
  },
  {
   "cell_type": "markdown",
   "metadata": {},
   "source": [
    "When we performed the **DBSCAN** we found that **cluster 0** is the most populous with **28** entertainment venues.\n",
    "Let's get the mean of the most popular cluster."
   ]
  },
  {
   "cell_type": "code",
   "execution_count": 60,
   "metadata": {},
   "outputs": [
    {
     "name": "stdout",
     "output_type": "stream",
     "text": [
      "(28, 6)\n"
     ]
    }
   ],
   "source": [
    "df_market_f = df_market[df_market['Scatter'] == 0]\n",
    "print(df_market_f.shape)"
   ]
  },
  {
   "cell_type": "code",
   "execution_count": 61,
   "metadata": {},
   "outputs": [
    {
     "name": "stdout",
     "output_type": "stream",
     "text": [
      "Lat: 52.20640387792996 Lng: 0.11990940205059276\n"
     ]
    }
   ],
   "source": [
    "mkt_f_lat = df_market_f['Venue Latitude'].mean()\n",
    "mkt_f_lng = df_market_f['Venue Longitude'].mean()\n",
    "print('Lat:',mkt_f_lat,'Lng:',mkt_f_lng)"
   ]
  },
  {
   "cell_type": "markdown",
   "metadata": {},
   "source": [
    "Let's get the location of the **Market** area so that we can centre our map view."
   ]
  },
  {
   "cell_type": "code",
   "execution_count": 62,
   "metadata": {},
   "outputs": [],
   "source": [
    "df_market_pos = df_district[df_district['District'] == 'Market']\n",
    "df_market_pos_lat = df_market_pos['Latitude']\n",
    "df_market_pos_lng = df_market_pos['Longitude']"
   ]
  },
  {
   "cell_type": "markdown",
   "metadata": {},
   "source": [
    "##### Castle "
   ]
  },
  {
   "cell_type": "markdown",
   "metadata": {},
   "source": [
    "When we performed the **DBSCAN** we found that **cluster 1** is the most populous with **9** entertainment venues.\n",
    "Let's get the mean of the most popular cluster."
   ]
  },
  {
   "cell_type": "code",
   "execution_count": 63,
   "metadata": {},
   "outputs": [
    {
     "name": "stdout",
     "output_type": "stream",
     "text": [
      "(28, 6)\n"
     ]
    }
   ],
   "source": [
    "df_castle_f = df_castle[df_castle['Scatter'] == 0]\n",
    "print(df_market_f.shape)"
   ]
  },
  {
   "cell_type": "code",
   "execution_count": 64,
   "metadata": {},
   "outputs": [
    {
     "name": "stdout",
     "output_type": "stream",
     "text": [
      "Lat: 52.21281940030552 Lng: 0.102861808439892\n"
     ]
    }
   ],
   "source": [
    "cst_f_lat = df_castle_f['Venue Latitude'].mean()\n",
    "cst_f_lng = df_castle_f['Venue Longitude'].mean()\n",
    "print('Lat:',cst_f_lat,'Lng:',cst_f_lng)"
   ]
  },
  {
   "cell_type": "markdown",
   "metadata": {},
   "source": [
    "Let's get the location of the **Castle** district so that we can centre our map view."
   ]
  },
  {
   "cell_type": "code",
   "execution_count": 65,
   "metadata": {},
   "outputs": [],
   "source": [
    "df_castle_pos = df_district[df_district['District'] == 'Castle']\n",
    "df_castle_pos_lat = df_castle_pos['Latitude']\n",
    "df_castle_pos_lng = df_castle_pos['Longitude']"
   ]
  },
  {
   "cell_type": "markdown",
   "metadata": {},
   "source": [
    "##### Newnham "
   ]
  },
  {
   "cell_type": "markdown",
   "metadata": {},
   "source": [
    "When we performed the **DBSCAN** we found that **cluster 0** is the most populous with **4** entertainment venues.\n",
    "Let's get the mean of the most popular cluster."
   ]
  },
  {
   "cell_type": "code",
   "execution_count": 66,
   "metadata": {},
   "outputs": [
    {
     "name": "stdout",
     "output_type": "stream",
     "text": [
      "(4, 6)\n"
     ]
    }
   ],
   "source": [
    "df_newnham_f = df_newnham[df_newnham['Scatter'] == 0]\n",
    "print(df_newnham_f.shape)"
   ]
  },
  {
   "cell_type": "code",
   "execution_count": 67,
   "metadata": {},
   "outputs": [
    {
     "name": "stdout",
     "output_type": "stream",
     "text": [
      "Lat: 52.2003564865187 Lng: 0.10842846644610948\n"
     ]
    }
   ],
   "source": [
    "new_f_lat = df_newnham_f['Venue Latitude'].mean()\n",
    "new_f_lng = df_newnham_f['Venue Longitude'].mean()\n",
    "print('Lat:',new_f_lat,'Lng:',new_f_lng)"
   ]
  },
  {
   "cell_type": "markdown",
   "metadata": {},
   "source": [
    "Let's get the location of the **Newnham** district so that we can centre our map view."
   ]
  },
  {
   "cell_type": "code",
   "execution_count": 68,
   "metadata": {},
   "outputs": [],
   "source": [
    "df_newnham_pos = df_district[df_district['District'] == 'Newnham']\n",
    "df_newnham_pos_lat = df_newnham_pos['Latitude']\n",
    "df_newnham_pos_lng = df_newnham_pos['Longitude']"
   ]
  },
  {
   "cell_type": "markdown",
   "metadata": {},
   "source": [
    "### District Maps - Market, Castle & Newnham"
   ]
  },
  {
   "cell_type": "markdown",
   "metadata": {},
   "source": [
    "In these maps, we are shwoing:\n",
    "\n",
    "* Latin American Restaurants with a **red** marker.\n",
    "    * There is a **red** circle indicating a 500m radius from the restaurant.\n",
    "    * Our recommended location cannot be situated within this radius.\n",
    "* Entertainment venues from the most populous DBSCAN cluster within this district.\n",
    "* **Blue** marker indicating the most suitable location"
   ]
  },
  {
   "cell_type": "markdown",
   "metadata": {},
   "source": [
    "#### Map of Market"
   ]
  },
  {
   "cell_type": "code",
   "execution_count": 69,
   "metadata": {
    "scrolled": false
   },
   "outputs": [
    {
     "data": {
      "text/html": [
       "<div style=\"width:100%;\"><div style=\"position:relative;width:100%;height:0;padding-bottom:60%;\"><span style=\"color:#565656\">Make this Notebook Trusted to load map: File -> Trust Notebook</span><iframe src=\"about:blank\" style=\"position:absolute;width:100%;height:100%;left:0;top:0;border:none !important;\" data-html=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 onload=\"this.contentDocument.open();this.contentDocument.write(atob(this.getAttribute('data-html')));this.contentDocument.close();\" allowfullscreen webkitallowfullscreen mozallowfullscreen></iframe></div></div>"
      ],
      "text/plain": [
       "<folium.folium.Map at 0x1fcbf4c05f8>"
      ]
     },
     "execution_count": 69,
     "metadata": {},
     "output_type": "execute_result"
    }
   ],
   "source": [
    "mar_f_map = folium.Map(location=[df_market_pos_lat, df_market_pos_lng], zoom_start=15,control_scale=True)  \n",
    "CreateFinalMap(mar_f_map,mkt_f_lat,mkt_f_lng,df_market_f)\n",
    "mar_f_map"
   ]
  },
  {
   "cell_type": "markdown",
   "metadata": {},
   "source": [
    "As we can see, this location is within the **500m** radius of an existing **Latin American** restaurant.\n",
    "Let's find out how far away it is, using the function we have created above."
   ]
  },
  {
   "cell_type": "code",
   "execution_count": 89,
   "metadata": {},
   "outputs": [
    {
     "name": "stdout",
     "output_type": "stream",
     "text": [
      "Distance is:  0.46 Km Lat:  52.21022973296178 Lng:  0.1173092001522491\n",
      "Distance is:  1.27 Km Lat:  52.200508 Lng:  0.135943\n",
      "Distance is:  1.61 Km Lat:  52.208076 Lng:  0.14340329\n",
      "Distance is:  1.96 Km Lat:  52.19763631707918 Lng:  0.14491176009346454\n",
      "Distance is:  1.73 Km Lat:  52.20932828 Lng:  0.14487663\n"
     ]
    }
   ],
   "source": [
    "for lat, lng in zip(district_latin_update['Venue Latitude'], district_latin_update['Venue Longitude']):\n",
    "    print('Distance is: ',round(calculate_latlng_dist(lat,lng,mkt_f_lat,mkt_f_lng),2),'Km','Lat: ',lat,'Lng: ',lng)"
   ]
  },
  {
   "cell_type": "markdown",
   "metadata": {},
   "source": [
    "<p>The recommended point is 460m away from one of the restaurants.<br>\n",
    "Let's extend the distance between the desired location and the Latin American restaurant.</p>\n",
    "<p>First lets find the angle between the two points.</p>"
   ]
  },
  {
   "cell_type": "code",
   "execution_count": 154,
   "metadata": {},
   "outputs": [
    {
     "name": "stdout",
     "output_type": "stream",
     "text": [
      "Angle is:  166.19184072422073 °\n"
     ]
    }
   ],
   "source": [
    "la_lat = 52.21022973296178\n",
    "la_lng = 0.1173092001522491\n",
    "\n",
    "dif_angle = angleFromCoordinate(la_lat,la_lng,mkt_f_lat,mkt_f_lng)\n",
    "print('Angle is: ',dif_angle,'°')\n",
    "# round(dif_angle,2)"
   ]
  },
  {
   "cell_type": "markdown",
   "metadata": {},
   "source": [
    "Now, lets use this angle (166.19°) to find 500m from the Latin American restaurant."
   ]
  },
  {
   "cell_type": "code",
   "execution_count": 159,
   "metadata": {},
   "outputs": [
    {
     "name": "stdout",
     "output_type": "stream",
     "text": [
      "Lat:  52.20586605989206 Lng:  0.11905483291775669\n"
     ]
    }
   ],
   "source": [
    "mar_n_f_lat, mar_n_f_lng = distanceUsingBearing((dif_angle),0.5,la_lat,la_lng)\n",
    "print(\"Lat: \",mar_n_f_lat,\"Lng: \",mar_n_f_lng)"
   ]
  },
  {
   "cell_type": "markdown",
   "metadata": {},
   "source": [
    "Finally, let's check the new latitude and longitude on the map."
   ]
  },
  {
   "cell_type": "code",
   "execution_count": 160,
   "metadata": {},
   "outputs": [
    {
     "data": {
      "text/html": [
       "<div style=\"width:100%;\"><div style=\"position:relative;width:100%;height:0;padding-bottom:60%;\"><span style=\"color:#565656\">Make this Notebook Trusted to load map: File -> Trust Notebook</span><iframe src=\"about:blank\" style=\"position:absolute;width:100%;height:100%;left:0;top:0;border:none !important;\" data-html=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 onload=\"this.contentDocument.open();this.contentDocument.write(atob(this.getAttribute('data-html')));this.contentDocument.close();\" allowfullscreen webkitallowfullscreen mozallowfullscreen></iframe></div></div>"
      ],
      "text/plain": [
       "<folium.folium.Map at 0x1fcc14a5ef0>"
      ]
     },
     "execution_count": 160,
     "metadata": {},
     "output_type": "execute_result"
    }
   ],
   "source": [
    "mar_f_map = folium.Map(location=[df_market_pos_lat, df_market_pos_lng], zoom_start=15,control_scale=True)  \n",
    "CreateFinalMap(mar_f_map,mar_n_f_lat,mar_n_f_lng,df_market_f)\n",
    "mar_f_map"
   ]
  },
  {
   "cell_type": "markdown",
   "metadata": {},
   "source": [
    "#### Map of Castle"
   ]
  },
  {
   "cell_type": "code",
   "execution_count": 71,
   "metadata": {},
   "outputs": [
    {
     "data": {
      "text/html": [
       "<div style=\"width:100%;\"><div style=\"position:relative;width:100%;height:0;padding-bottom:60%;\"><span style=\"color:#565656\">Make this Notebook Trusted to load map: File -> Trust Notebook</span><iframe src=\"about:blank\" style=\"position:absolute;width:100%;height:100%;left:0;top:0;border:none !important;\" data-html=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 onload=\"this.contentDocument.open();this.contentDocument.write(atob(this.getAttribute('data-html')));this.contentDocument.close();\" allowfullscreen webkitallowfullscreen mozallowfullscreen></iframe></div></div>"
      ],
      "text/plain": [
       "<folium.folium.Map at 0x1fcbe3cbcf8>"
      ]
     },
     "execution_count": 71,
     "metadata": {},
     "output_type": "execute_result"
    }
   ],
   "source": [
    "cst_f_map = folium.Map(location=[df_castle_pos_lat, df_castle_pos_lng], zoom_start=15,control_scale=True)  \n",
    "CreateFinalMap(cst_f_map,cst_f_lat,cst_f_lng,df_castle_f)\n",
    "cst_f_map"
   ]
  },
  {
   "cell_type": "markdown",
   "metadata": {},
   "source": [
    "#### Map of Newnham"
   ]
  },
  {
   "cell_type": "code",
   "execution_count": 161,
   "metadata": {},
   "outputs": [
    {
     "data": {
      "text/html": [
       "<div style=\"width:100%;\"><div style=\"position:relative;width:100%;height:0;padding-bottom:60%;\"><span style=\"color:#565656\">Make this Notebook Trusted to load map: File -> Trust Notebook</span><iframe src=\"about:blank\" style=\"position:absolute;width:100%;height:100%;left:0;top:0;border:none !important;\" data-html=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 onload=\"this.contentDocument.open();this.contentDocument.write(atob(this.getAttribute('data-html')));this.contentDocument.close();\" allowfullscreen webkitallowfullscreen mozallowfullscreen></iframe></div></div>"
      ],
      "text/plain": [
       "<folium.folium.Map at 0x1fcc1515ac8>"
      ]
     },
     "execution_count": 161,
     "metadata": {},
     "output_type": "execute_result"
    }
   ],
   "source": [
    "new_f_map = folium.Map(location=[df_newnham_pos_lat, df_newnham_pos_lng], zoom_start=15,control_scale=True)  \n",
    "CreateFinalMap(new_f_map,new_f_lat,new_f_lng,df_newnham_f)\n",
    "new_f_map"
   ]
  },
  {
   "cell_type": "markdown",
   "metadata": {},
   "source": [
    "#### Final Analysis"
   ]
  },
  {
   "cell_type": "markdown",
   "metadata": {},
   "source": [
    "Now that we have the latitude and longitude points for the 3 districts that we chose to explore furhter, can we get an address from the lat and lng points?"
   ]
  },
  {
   "cell_type": "markdown",
   "metadata": {},
   "source": [
    "#### FUNCTION - Return Address from Coordinates"
   ]
  },
  {
   "cell_type": "code",
   "execution_count": 172,
   "metadata": {},
   "outputs": [],
   "source": [
    "from geopy.geocoders import Nominatim\n",
    "\n",
    "def returnAddress(lat,lng):\n",
    "\n",
    "    locStr = str(lat) + ',' + str(lng)\n",
    "    geolocator = Nominatim(user_agent=\"My_app\")\n",
    "    location = geolocator.reverse(locStr)\n",
    "    return location.address"
   ]
  },
  {
   "cell_type": "code",
   "execution_count": 174,
   "metadata": {},
   "outputs": [
    {
     "data": {
      "text/plain": [
       "'North Shoes, 11, Rose Crescent, Newnham, Cambridge, Cambridgeshire, East of England, England, CB2 3LL, United Kingdom'"
      ]
     },
     "execution_count": 174,
     "metadata": {},
     "output_type": "execute_result"
    }
   ],
   "source": [
    "returnAddress( mar_n_f_lat, mar_n_f_lng)"
   ]
  },
  {
   "cell_type": "markdown",
   "metadata": {},
   "source": [
    "[Back to Contents](#contents)"
   ]
  },
  {
   "cell_type": "code",
   "execution_count": null,
   "metadata": {},
   "outputs": [],
   "source": []
  }
 ],
 "metadata": {
  "kernelspec": {
   "display_name": "Python 3",
   "language": "python",
   "name": "python3"
  },
  "language_info": {
   "codemirror_mode": {
    "name": "ipython",
    "version": 3
   },
   "file_extension": ".py",
   "mimetype": "text/x-python",
   "name": "python",
   "nbconvert_exporter": "python",
   "pygments_lexer": "ipython3",
   "version": "3.6.5"
  }
 },
 "nbformat": 4,
 "nbformat_minor": 2
}
